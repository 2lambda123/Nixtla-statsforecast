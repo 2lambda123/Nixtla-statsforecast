{
  "nbformat": 4,
  "nbformat_minor": 0,
  "metadata": {
    "colab": {
      "name": "Forecasting with Auto Arima & ETS.",
      "provenance": [],
      "authorship_tag": "ABX9TyPXrJ4hsoTOzUrih9AYIcYy",
      "include_colab_link": true
    },
    "kernelspec": {
      "name": "python3",
      "display_name": "Python 3"
    },
    "language_info": {
      "name": "python"
    }
  },
  "cells": [
    {
      "cell_type": "markdown",
      "metadata": {
        "id": "view-in-github",
        "colab_type": "text"
      },
      "source": [
        "<a href=\"https://colab.research.google.com/github/Nixtla/statsforecast/blob/readme_ets/examples/Forecasting_with_Auto_Arima_%26_ETS_.ipynb\" target=\"_parent\"><img src=\"https://colab.research.google.com/assets/colab-badge.svg\" alt=\"Open In Colab\"/></a>"
      ]
    },
    {
      "cell_type": "markdown",
      "source": [
        "# Forecasting with Auto Arima & Auto ETS."
      ],
      "metadata": {
        "id": "cLitezC7_tQc"
      }
    },
    {
      "cell_type": "code",
      "source": [
        "!pip install statsforecast"
      ],
      "metadata": {
        "colab": {
          "base_uri": "https://localhost:8080/"
        },
        "id": "ua1cBuGd2uDl",
        "outputId": "2dc9ce7f-9c85-448d-e203-1cb5fa916ee9"
      },
      "execution_count": 2,
      "outputs": [
        {
          "output_type": "stream",
          "name": "stdout",
          "text": [
            "Looking in indexes: https://pypi.org/simple, https://us-python.pkg.dev/colab-wheels/public/simple/\n",
            "Collecting statsforecast\n",
            "  Downloading statsforecast-0.5.6-py3-none-any.whl (36 kB)\n",
            "Requirement already satisfied: statsmodels in /usr/local/lib/python3.7/dist-packages (from statsforecast) (0.10.2)\n",
            "Requirement already satisfied: pandas in /usr/local/lib/python3.7/dist-packages (from statsforecast) (1.3.5)\n",
            "Requirement already satisfied: numba in /usr/local/lib/python3.7/dist-packages (from statsforecast) (0.51.2)\n",
            "Requirement already satisfied: numpy in /usr/local/lib/python3.7/dist-packages (from statsforecast) (1.21.6)\n",
            "Requirement already satisfied: scipy in /usr/local/lib/python3.7/dist-packages (from statsforecast) (1.7.3)\n",
            "Requirement already satisfied: setuptools in /usr/local/lib/python3.7/dist-packages (from numba->statsforecast) (57.4.0)\n",
            "Requirement already satisfied: llvmlite<0.35,>=0.34.0.dev0 in /usr/local/lib/python3.7/dist-packages (from numba->statsforecast) (0.34.0)\n",
            "Requirement already satisfied: python-dateutil>=2.7.3 in /usr/local/lib/python3.7/dist-packages (from pandas->statsforecast) (2.8.2)\n",
            "Requirement already satisfied: pytz>=2017.3 in /usr/local/lib/python3.7/dist-packages (from pandas->statsforecast) (2022.1)\n",
            "Requirement already satisfied: six>=1.5 in /usr/local/lib/python3.7/dist-packages (from python-dateutil>=2.7.3->pandas->statsforecast) (1.15.0)\n",
            "Requirement already satisfied: patsy>=0.4.0 in /usr/local/lib/python3.7/dist-packages (from statsmodels->statsforecast) (0.5.2)\n",
            "Installing collected packages: statsforecast\n",
            "Successfully installed statsforecast-0.5.6\n"
          ]
        }
      ]
    },
    {
      "cell_type": "code",
      "execution_count": 9,
      "metadata": {
        "id": "xpc0Euzg2mdb"
      },
      "outputs": [],
      "source": [
        "import numpy as np\n",
        "import pandas as pd\n",
        "from IPython.display import display, Markdown\n",
        "\n",
        "import matplotlib.pyplot as plt\n",
        "from statsforecast import StatsForecast\n",
        "from statsforecast.models import seasonal_naive, auto_arima, ses\n",
        "from statsforecast.utils import AirPassengers"
      ]
    },
    {
      "cell_type": "code",
      "source": [
        "# If you want to list all avaiaible models run this lines\n",
        "#from statsforecast.models import __all__\n",
        "#__all__"
      ],
      "metadata": {
        "id": "mYt_uOX3gKQH"
      },
      "execution_count": null,
      "outputs": []
    },
    {
      "cell_type": "markdown",
      "source": [
        "## Define horizon and split data accordingly"
      ],
      "metadata": {
        "id": "OLAQyLf_fhLq"
      }
    },
    {
      "cell_type": "code",
      "source": [
        "horizon = 12\n",
        "ap_train = AirPassengers[:-horizon]\n",
        "ap_test = AirPassengers[-horizon:]\n"
      ],
      "metadata": {
        "id": "iHIPyycn2rWd"
      },
      "execution_count": 4,
      "outputs": []
    },
    {
      "cell_type": "code",
      "source": [
        "# We define the train df. We use the index functionality to make the training a lot faster. \n",
        "series_train = pd.DataFrame(\n",
        "    {\n",
        "        'ds': pd.date_range(start='1949-01-01', periods=ap_train.size, freq='M'),\n",
        "        'y': ap_train\n",
        "    },\n",
        "    index=pd.Index([0] * ap_train.size, name='unique_id')\n",
        ")"
      ],
      "metadata": {
        "id": "P8407hQT2-6L"
      },
      "execution_count": 5,
      "outputs": []
    },
    {
      "cell_type": "code",
      "source": [
        "#Define the parameters that you want to use in your models. \n",
        "season_length=12 \n",
        "# Note: For all models the following parameters are passed automaticly and don't need to be declared: (X, h, future_xreg)\n",
        "\n",
        "\n",
        "fcst = StatsForecast(\n",
        "    series_train, \n",
        "    models=[(auto_arima, season_length), (ets, season_lenght)], \n",
        "    freq='M', \n",
        "    n_jobs=1\n",
        ")\n",
        "\n",
        "# For some models like ARIMA , you can easly include confidence intervals\n",
        "forecasts = fcst.forecast(horizon, level=(80, 95))\n",
        "\n",
        "# forecasts = fcst.forecast(horizon) # Run this line if you don't want to include levels for ARIMA"
      ],
      "metadata": {
        "colab": {
          "base_uri": "https://localhost:8080/"
        },
        "id": "Une8oJiN3Aax",
        "outputId": "0f647dd4-d737-4022-fe7b-293dfe6a49db"
      },
      "execution_count": 16,
      "outputs": [
        {
          "output_type": "stream",
          "name": "stderr",
          "text": [
            "/usr/local/lib/python3.7/dist-packages/statsforecast/arima.py:1563: UserWarning: The chosen seasonal unit root test encountered an error when testing for the 0 difference.\n",
            "From seas(): module 'statsmodels.tsa.api' has no attribute 'STL'\n",
            "0 seasonal differences will be used. Consider using a different unit root test.\n",
            "  f\"The chosen seasonal unit root test encountered an error when testing for the {D} difference.\\n\"\n",
            "/usr/local/lib/python3.7/dist-packages/statsforecast/arima.py:1612: UserWarning: The chosen unit root test encountered an error when testing for the 0 difference.\n",
            "From kpss(): kpss() got an unexpected keyword argument 'nlags'\n",
            "0 differences will be used. Consider using a different unit root test.\n",
            "  f\"The chosen unit root test encountered an error when testing for the {d} difference.\\n\"\n",
            "/usr/local/lib/python3.7/dist-packages/scipy/optimize/_numdiff.py:557: RuntimeWarning: invalid value encountered in subtract\n",
            "  df = fun(x) - f0\n",
            "/usr/local/lib/python3.7/dist-packages/scipy/optimize/_numdiff.py:557: RuntimeWarning: invalid value encountered in subtract\n",
            "  df = fun(x) - f0\n"
          ]
        }
      ]
    },
    {
      "cell_type": "code",
      "source": [
        "\n",
        "forecasts['y_test'] = ap_test\n"
      ],
      "metadata": {
        "id": "b-OhVuqq3IaU"
      },
      "execution_count": 17,
      "outputs": []
    },
    {
      "cell_type": "code",
      "source": [
        "#You analyse see the models that have been trained and the respective values by calling the DF.\n",
        "forecasts"
      ],
      "metadata": {
        "colab": {
          "base_uri": "https://localhost:8080/",
          "height": 747
        },
        "id": "QIrtIZso386o",
        "outputId": "07a21c0d-ddd0-409c-a680-0ec0a825d20d"
      },
      "execution_count": 22,
      "outputs": [
        {
          "output_type": "execute_result",
          "data": {
            "text/plain": [
              "                  ds  auto_arima_season_length-12_mean  \\\n",
              "unique_id                                                \n",
              "0         1960-01-31                        423.018127   \n",
              "0         1960-02-29                        411.684387   \n",
              "0         1960-03-31                        465.904907   \n",
              "0         1960-04-30                        458.139801   \n",
              "0         1960-05-31                        477.905579   \n",
              "0         1960-06-30                        492.665771   \n",
              "0         1960-07-31                        543.791077   \n",
              "0         1960-08-31                        547.056580   \n",
              "0         1960-09-30                        490.147430   \n",
              "0         1960-10-31                        446.227417   \n",
              "0         1960-11-30                        421.793243   \n",
              "0         1960-12-31                        451.316040   \n",
              "\n",
              "           auto_arima_season_length-12_lo-95  \\\n",
              "unique_id                                      \n",
              "0                                 391.719482   \n",
              "0                                 367.607178   \n",
              "0                                 412.147461   \n",
              "0                                 396.325043   \n",
              "0                                 409.082123   \n",
              "0                                 417.586243   \n",
              "0                                 463.031433   \n",
              "0                                 461.077026   \n",
              "0                                 399.327515   \n",
              "0                                 350.887482   \n",
              "0                                 322.208832   \n",
              "0                                 347.727722   \n",
              "\n",
              "           auto_arima_season_length-12_lo-80  \\\n",
              "unique_id                                      \n",
              "0                                 402.553040   \n",
              "0                                 382.863861   \n",
              "0                                 430.754791   \n",
              "0                                 417.721313   \n",
              "0                                 432.904327   \n",
              "0                                 443.573914   \n",
              "0                                 490.985168   \n",
              "0                                 490.837555   \n",
              "0                                 430.763489   \n",
              "0                                 383.888000   \n",
              "0                                 356.678497   \n",
              "0                                 383.583282   \n",
              "\n",
              "           auto_arima_season_length-12_hi-80  \\\n",
              "unique_id                                      \n",
              "0                                 443.483185   \n",
              "0                                 440.504944   \n",
              "0                                 501.055023   \n",
              "0                                 498.558319   \n",
              "0                                 522.906799   \n",
              "0                                 541.757629   \n",
              "0                                 596.596985   \n",
              "0                                 603.275574   \n",
              "0                                 549.531372   \n",
              "0                                 508.566864   \n",
              "0                                 486.907990   \n",
              "0                                 519.048828   \n",
              "\n",
              "           auto_arima_season_length-12_hi-95  seasonal_naive_season_length-12  \\\n",
              "unique_id                                                                       \n",
              "0                                 454.316742                            360.0   \n",
              "0                                 455.761597                            342.0   \n",
              "0                                 519.662354                            406.0   \n",
              "0                                 519.954590                            396.0   \n",
              "0                                 546.729004                            420.0   \n",
              "0                                 567.745300                            472.0   \n",
              "0                                 624.550720                            548.0   \n",
              "0                                 633.036072                            559.0   \n",
              "0                                 580.967346                            463.0   \n",
              "0                                 541.567383                            407.0   \n",
              "0                                 521.377625                            362.0   \n",
              "0                                 554.904419                            405.0   \n",
              "\n",
              "           ses_alpha-0.9  y_test  \n",
              "unique_id                         \n",
              "0             401.215424   417.0  \n",
              "0             401.215424   391.0  \n",
              "0             401.215424   419.0  \n",
              "0             401.215424   461.0  \n",
              "0             401.215424   472.0  \n",
              "0             401.215424   535.0  \n",
              "0             401.215424   622.0  \n",
              "0             401.215424   606.0  \n",
              "0             401.215424   508.0  \n",
              "0             401.215424   461.0  \n",
              "0             401.215424   390.0  \n",
              "0             401.215424   432.0  "
            ],
            "text/html": [
              "\n",
              "  <div id=\"df-f37156f1-7071-4bb3-850a-20566a02fc86\">\n",
              "    <div class=\"colab-df-container\">\n",
              "      <div>\n",
              "<style scoped>\n",
              "    .dataframe tbody tr th:only-of-type {\n",
              "        vertical-align: middle;\n",
              "    }\n",
              "\n",
              "    .dataframe tbody tr th {\n",
              "        vertical-align: top;\n",
              "    }\n",
              "\n",
              "    .dataframe thead th {\n",
              "        text-align: right;\n",
              "    }\n",
              "</style>\n",
              "<table border=\"1\" class=\"dataframe\">\n",
              "  <thead>\n",
              "    <tr style=\"text-align: right;\">\n",
              "      <th></th>\n",
              "      <th>ds</th>\n",
              "      <th>auto_arima_season_length-12_mean</th>\n",
              "      <th>auto_arima_season_length-12_lo-95</th>\n",
              "      <th>auto_arima_season_length-12_lo-80</th>\n",
              "      <th>auto_arima_season_length-12_hi-80</th>\n",
              "      <th>auto_arima_season_length-12_hi-95</th>\n",
              "      <th>seasonal_naive_season_length-12</th>\n",
              "      <th>ses_alpha-0.9</th>\n",
              "      <th>y_test</th>\n",
              "    </tr>\n",
              "    <tr>\n",
              "      <th>unique_id</th>\n",
              "      <th></th>\n",
              "      <th></th>\n",
              "      <th></th>\n",
              "      <th></th>\n",
              "      <th></th>\n",
              "      <th></th>\n",
              "      <th></th>\n",
              "      <th></th>\n",
              "      <th></th>\n",
              "    </tr>\n",
              "  </thead>\n",
              "  <tbody>\n",
              "    <tr>\n",
              "      <th>0</th>\n",
              "      <td>1960-01-31</td>\n",
              "      <td>423.018127</td>\n",
              "      <td>391.719482</td>\n",
              "      <td>402.553040</td>\n",
              "      <td>443.483185</td>\n",
              "      <td>454.316742</td>\n",
              "      <td>360.0</td>\n",
              "      <td>401.215424</td>\n",
              "      <td>417.0</td>\n",
              "    </tr>\n",
              "    <tr>\n",
              "      <th>0</th>\n",
              "      <td>1960-02-29</td>\n",
              "      <td>411.684387</td>\n",
              "      <td>367.607178</td>\n",
              "      <td>382.863861</td>\n",
              "      <td>440.504944</td>\n",
              "      <td>455.761597</td>\n",
              "      <td>342.0</td>\n",
              "      <td>401.215424</td>\n",
              "      <td>391.0</td>\n",
              "    </tr>\n",
              "    <tr>\n",
              "      <th>0</th>\n",
              "      <td>1960-03-31</td>\n",
              "      <td>465.904907</td>\n",
              "      <td>412.147461</td>\n",
              "      <td>430.754791</td>\n",
              "      <td>501.055023</td>\n",
              "      <td>519.662354</td>\n",
              "      <td>406.0</td>\n",
              "      <td>401.215424</td>\n",
              "      <td>419.0</td>\n",
              "    </tr>\n",
              "    <tr>\n",
              "      <th>0</th>\n",
              "      <td>1960-04-30</td>\n",
              "      <td>458.139801</td>\n",
              "      <td>396.325043</td>\n",
              "      <td>417.721313</td>\n",
              "      <td>498.558319</td>\n",
              "      <td>519.954590</td>\n",
              "      <td>396.0</td>\n",
              "      <td>401.215424</td>\n",
              "      <td>461.0</td>\n",
              "    </tr>\n",
              "    <tr>\n",
              "      <th>0</th>\n",
              "      <td>1960-05-31</td>\n",
              "      <td>477.905579</td>\n",
              "      <td>409.082123</td>\n",
              "      <td>432.904327</td>\n",
              "      <td>522.906799</td>\n",
              "      <td>546.729004</td>\n",
              "      <td>420.0</td>\n",
              "      <td>401.215424</td>\n",
              "      <td>472.0</td>\n",
              "    </tr>\n",
              "    <tr>\n",
              "      <th>0</th>\n",
              "      <td>1960-06-30</td>\n",
              "      <td>492.665771</td>\n",
              "      <td>417.586243</td>\n",
              "      <td>443.573914</td>\n",
              "      <td>541.757629</td>\n",
              "      <td>567.745300</td>\n",
              "      <td>472.0</td>\n",
              "      <td>401.215424</td>\n",
              "      <td>535.0</td>\n",
              "    </tr>\n",
              "    <tr>\n",
              "      <th>0</th>\n",
              "      <td>1960-07-31</td>\n",
              "      <td>543.791077</td>\n",
              "      <td>463.031433</td>\n",
              "      <td>490.985168</td>\n",
              "      <td>596.596985</td>\n",
              "      <td>624.550720</td>\n",
              "      <td>548.0</td>\n",
              "      <td>401.215424</td>\n",
              "      <td>622.0</td>\n",
              "    </tr>\n",
              "    <tr>\n",
              "      <th>0</th>\n",
              "      <td>1960-08-31</td>\n",
              "      <td>547.056580</td>\n",
              "      <td>461.077026</td>\n",
              "      <td>490.837555</td>\n",
              "      <td>603.275574</td>\n",
              "      <td>633.036072</td>\n",
              "      <td>559.0</td>\n",
              "      <td>401.215424</td>\n",
              "      <td>606.0</td>\n",
              "    </tr>\n",
              "    <tr>\n",
              "      <th>0</th>\n",
              "      <td>1960-09-30</td>\n",
              "      <td>490.147430</td>\n",
              "      <td>399.327515</td>\n",
              "      <td>430.763489</td>\n",
              "      <td>549.531372</td>\n",
              "      <td>580.967346</td>\n",
              "      <td>463.0</td>\n",
              "      <td>401.215424</td>\n",
              "      <td>508.0</td>\n",
              "    </tr>\n",
              "    <tr>\n",
              "      <th>0</th>\n",
              "      <td>1960-10-31</td>\n",
              "      <td>446.227417</td>\n",
              "      <td>350.887482</td>\n",
              "      <td>383.888000</td>\n",
              "      <td>508.566864</td>\n",
              "      <td>541.567383</td>\n",
              "      <td>407.0</td>\n",
              "      <td>401.215424</td>\n",
              "      <td>461.0</td>\n",
              "    </tr>\n",
              "    <tr>\n",
              "      <th>0</th>\n",
              "      <td>1960-11-30</td>\n",
              "      <td>421.793243</td>\n",
              "      <td>322.208832</td>\n",
              "      <td>356.678497</td>\n",
              "      <td>486.907990</td>\n",
              "      <td>521.377625</td>\n",
              "      <td>362.0</td>\n",
              "      <td>401.215424</td>\n",
              "      <td>390.0</td>\n",
              "    </tr>\n",
              "    <tr>\n",
              "      <th>0</th>\n",
              "      <td>1960-12-31</td>\n",
              "      <td>451.316040</td>\n",
              "      <td>347.727722</td>\n",
              "      <td>383.583282</td>\n",
              "      <td>519.048828</td>\n",
              "      <td>554.904419</td>\n",
              "      <td>405.0</td>\n",
              "      <td>401.215424</td>\n",
              "      <td>432.0</td>\n",
              "    </tr>\n",
              "  </tbody>\n",
              "</table>\n",
              "</div>\n",
              "      <button class=\"colab-df-convert\" onclick=\"convertToInteractive('df-f37156f1-7071-4bb3-850a-20566a02fc86')\"\n",
              "              title=\"Convert this dataframe to an interactive table.\"\n",
              "              style=\"display:none;\">\n",
              "        \n",
              "  <svg xmlns=\"http://www.w3.org/2000/svg\" height=\"24px\"viewBox=\"0 0 24 24\"\n",
              "       width=\"24px\">\n",
              "    <path d=\"M0 0h24v24H0V0z\" fill=\"none\"/>\n",
              "    <path d=\"M18.56 5.44l.94 2.06.94-2.06 2.06-.94-2.06-.94-.94-2.06-.94 2.06-2.06.94zm-11 1L8.5 8.5l.94-2.06 2.06-.94-2.06-.94L8.5 2.5l-.94 2.06-2.06.94zm10 10l.94 2.06.94-2.06 2.06-.94-2.06-.94-.94-2.06-.94 2.06-2.06.94z\"/><path d=\"M17.41 7.96l-1.37-1.37c-.4-.4-.92-.59-1.43-.59-.52 0-1.04.2-1.43.59L10.3 9.45l-7.72 7.72c-.78.78-.78 2.05 0 2.83L4 21.41c.39.39.9.59 1.41.59.51 0 1.02-.2 1.41-.59l7.78-7.78 2.81-2.81c.8-.78.8-2.07 0-2.86zM5.41 20L4 18.59l7.72-7.72 1.47 1.35L5.41 20z\"/>\n",
              "  </svg>\n",
              "      </button>\n",
              "      \n",
              "  <style>\n",
              "    .colab-df-container {\n",
              "      display:flex;\n",
              "      flex-wrap:wrap;\n",
              "      gap: 12px;\n",
              "    }\n",
              "\n",
              "    .colab-df-convert {\n",
              "      background-color: #E8F0FE;\n",
              "      border: none;\n",
              "      border-radius: 50%;\n",
              "      cursor: pointer;\n",
              "      display: none;\n",
              "      fill: #1967D2;\n",
              "      height: 32px;\n",
              "      padding: 0 0 0 0;\n",
              "      width: 32px;\n",
              "    }\n",
              "\n",
              "    .colab-df-convert:hover {\n",
              "      background-color: #E2EBFA;\n",
              "      box-shadow: 0px 1px 2px rgba(60, 64, 67, 0.3), 0px 1px 3px 1px rgba(60, 64, 67, 0.15);\n",
              "      fill: #174EA6;\n",
              "    }\n",
              "\n",
              "    [theme=dark] .colab-df-convert {\n",
              "      background-color: #3B4455;\n",
              "      fill: #D2E3FC;\n",
              "    }\n",
              "\n",
              "    [theme=dark] .colab-df-convert:hover {\n",
              "      background-color: #434B5C;\n",
              "      box-shadow: 0px 1px 3px 1px rgba(0, 0, 0, 0.15);\n",
              "      filter: drop-shadow(0px 1px 2px rgba(0, 0, 0, 0.3));\n",
              "      fill: #FFFFFF;\n",
              "    }\n",
              "  </style>\n",
              "\n",
              "      <script>\n",
              "        const buttonEl =\n",
              "          document.querySelector('#df-f37156f1-7071-4bb3-850a-20566a02fc86 button.colab-df-convert');\n",
              "        buttonEl.style.display =\n",
              "          google.colab.kernel.accessAllowed ? 'block' : 'none';\n",
              "\n",
              "        async function convertToInteractive(key) {\n",
              "          const element = document.querySelector('#df-f37156f1-7071-4bb3-850a-20566a02fc86');\n",
              "          const dataTable =\n",
              "            await google.colab.kernel.invokeFunction('convertToInteractive',\n",
              "                                                     [key], {});\n",
              "          if (!dataTable) return;\n",
              "\n",
              "          const docLinkHtml = 'Like what you see? Visit the ' +\n",
              "            '<a target=\"_blank\" href=https://colab.research.google.com/notebooks/data_table.ipynb>data table notebook</a>'\n",
              "            + ' to learn more about interactive tables.';\n",
              "          element.innerHTML = '';\n",
              "          dataTable['output_type'] = 'display_data';\n",
              "          await google.colab.output.renderOutput(dataTable, element);\n",
              "          const docLink = document.createElement('div');\n",
              "          docLink.innerHTML = docLinkHtml;\n",
              "          element.appendChild(docLink);\n",
              "        }\n",
              "      </script>\n",
              "    </div>\n",
              "  </div>\n",
              "  "
            ]
          },
          "metadata": {},
          "execution_count": 22
        }
      ]
    },
    {
      "cell_type": "code",
      "source": [
        "#We are going to plot the models againts the real values of test.\n",
        "\n",
        "fig, ax = plt.subplots(1, 1, figsize = (20, 7))\n",
        "df_plot = pd.concat([series_train, forecasts]).set_index('ds')\n",
        "df_plot[['y', 'y_test', 'auto_arima_season_length-12_mean','ets_season_lenght-12']].plot(ax=ax, linewidth=2)\n",
        "ax.fill_between(df_plot.index, \n",
        "                df_plot['auto_arima_season_length-12_lo-80'], \n",
        "                df_plot['auto_arima_season_length-12_hi-80'],\n",
        "                alpha=.35,\n",
        "                color='green',\n",
        "                label='auto_arima_level_80')\n",
        "ax.fill_between(df_plot.index, \n",
        "                df_plot['auto_arima_season_length-12_lo-95'], \n",
        "                df_plot['auto_arima_season_length-12_hi-95'],\n",
        "                alpha=.2,\n",
        "                color='green',\n",
        "                label='auto_arima_level_95')\n",
        "ax.set_title('AirPassengers Forecast', fontsize=22)\n",
        "ax.set_ylabel('Monthly Passengers', fontsize=20)\n",
        "ax.set_xlabel('Timestamp [t]', fontsize=20)\n",
        "ax.legend(prop={'size': 15})\n",
        "ax.grid()\n",
        "for label in (ax.get_xticklabels() + ax.get_yticklabels()):\n",
        "    label.set_fontsize(20)"
      ],
      "metadata": {
        "colab": {
          "base_uri": "https://localhost:8080/",
          "height": 482
        },
        "id": "wrGCxaaP3Qph",
        "outputId": "e7965fae-999b-40ab-b6ca-f8e9499fc97f"
      },
      "execution_count": 20,
      "outputs": [
        {
          "output_type": "display_data",
          "data": {
            "text/plain": [
              "<Figure size 1440x504 with 1 Axes>"
            ],
            "image/png": "[encoded data removed]"
          },
          "metadata": {
            "needs_background": "light"
          }
        }
      ]
    },
    {
      "cell_type": "code",
      "source": [
        ""
      ],
      "metadata": {
        "id": "D4SESVlu3Sue"
      },
      "execution_count": null,
      "outputs": []
    },
    {
      "cell_type": "markdown",
      "source": [
        "# Adding external regressors\n",
        "Some models like auto_arima, have the support for external regresors or exogenous variables. We are working to expand this feature to other models."
      ],
      "metadata": {
        "id": "5Ck8sVhdBFJJ"
      }
    },
    {
      "cell_type": "code",
      "source": [
        "# First we are going to include new exogenous variables as columns to our train data_frame. (You can include things like weather or holidays)\n",
        "\n",
        "series_train['trend'] = np.arange(1, ap_train.size + 1)\n",
        "series_train['intercept'] = np.ones(ap_train.size)\n",
        "series_train['month'] = series_train['ds'].dt.month\n",
        "series_train = pd.get_dummies(series_train, columns=['month'], drop_first=True)"
      ],
      "metadata": {
        "id": "YscgStk6BhYO"
      },
      "execution_count": null,
      "outputs": []
    },
    {
      "cell_type": "code",
      "source": [
        "# We consruct the test DF. We use the index functionality to make it faster.\n",
        "xreg_test = pd.DataFrame(\n",
        "    {\n",
        "        'ds': pd.date_range(start='1960-01-01', periods=ap_test.size, freq='M')\n",
        "    },\n",
        "    index=pd.Index([0] * ap_test.size, name='unique_id')\n",
        ")"
      ],
      "metadata": {
        "id": "4OsRLhOGCbmc"
      },
      "execution_count": null,
      "outputs": []
    },
    {
      "cell_type": "code",
      "source": [
        "# We construct xreg for test. The train series ends at the 133th step. \n",
        "\n",
        "xreg_test['trend'] = np.arange(133, ap_test.size + 133)\n",
        "xreg_test['intercept'] = np.ones(ap_test.size)\n",
        "xreg_test['month'] = xreg_test['ds'].dt.month\n",
        "xreg_test = pd.get_dummies(xreg_test, columns=['month'], drop_first=True)"
      ],
      "metadata": {
        "id": "P6tDm7OkCu-v"
      },
      "execution_count": null,
      "outputs": []
    },
    {
      "cell_type": "code",
      "source": [
        "#Define the parameters that you want to use in your models. \n",
        "season_length=12\n",
        "\n",
        "# Note: For all models the following parameters are passed automaticly and don't need to be declared: (X, h, future_xreg)\n",
        "\n",
        "fcst = StatsForecast(\n",
        "    series_train, \n",
        "    models=[(auto_arima, season_length), (seasonal_naive, season_length)], \n",
        "    freq='M', \n",
        "    n_jobs=1\n",
        ")\n",
        "\n",
        "# Include levels for auto_arima\n",
        "forecasts = fcst.forecast(horizon, level=(80, 95))"
      ],
      "metadata": {
        "id": "BePsmGFzDL8D"
      },
      "execution_count": null,
      "outputs": []
    },
    {
      "cell_type": "code",
      "source": [
        "forecasts['y_test'] = ap_test"
      ],
      "metadata": {
        "id": "oyTWWxeRENlS"
      },
      "execution_count": null,
      "outputs": []
    },
    {
      "cell_type": "code",
      "source": [
        ""
      ],
      "metadata": {
        "id": "_kC24OpMEQvy"
      },
      "execution_count": null,
      "outputs": []
    }
  ]
}