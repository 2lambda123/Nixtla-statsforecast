{
  "nbformat": 4,
  "nbformat_minor": 0,
  "metadata": {
    "colab": {
      "name": "Getting Started with Auto Arima and ETS",
      "provenance": [],
      "collapsed_sections": [],
      "include_colab_link": true
    },
    "kernelspec": {
      "name": "python3",
      "display_name": "Python 3"
    },
    "language_info": {
      "name": "python"
    }
  },
  "cells": [
    {
      "cell_type": "markdown",
      "metadata": {
        "id": "view-in-github",
        "colab_type": "text"
      },
      "source": [
        "<a href=\"https://colab.research.google.com/github/Nixtla/statsforecast/blob/main/examples/Getting_Started_with_Auto_Arima_and_ETS.ipynb\" target=\"_parent\"><img src=\"https://colab.research.google.com/assets/colab-badge.svg\" alt=\"Open In Colab\"/></a>"
      ]
    },
    {
      "cell_type": "markdown",
      "source": [
        "![](https://drive.google.com/uc?export=view&id=1qjiUfddfUolPl_QsFIwP8jN1NSGxnhtS)"
      ],
      "metadata": {
        "id": "8TPY1y3UCAau"
      }
    },
    {
      "cell_type": "markdown",
      "source": [
        "# Introduction\n",
        "\n",
        "Automatic forecasting tools tackle the needs for predictions over large collections of univariate time series that often arise in business practice and other contexts. Among these solutions, R's forecasting package `auto.arima` and `auto.ets` has been a reference for their accuracy and high quality for many years.\n",
        "\n",
        "Unfortunately, baselines with their accuracy and computational efficiency were not available for Python yet. For this reason, we developed our new and highly efficient pure-Python implementation of these classic algorithms that we showcase in this notebook.\n",
        "\n",
        "Table of Contents\n",
        "1.   [Installing StatsForecast Library](#cell-1)\n",
        "2.   [Load AirPassengers Example Data](#cell-2)\n",
        "3.   [Fit AutoETS and AutoARIMA](#cell-3)\n",
        "4.   [Plot and Evaluate Predictions](#cell-4)\n",
        "\n",
        "If you are interested in further options you can take also se\n",
        "\n",
        "5.   [Add Confidence Intervals to ARIMA](#cell-5)\n",
        "6.   [Add External Regressors to ARIMA](#cell-6)\n",
        "7.   [Include other Benchmark models](#cell-7)\n",
        "\n",
        "\n",
        "If you are interested in talking about this or other time series models or want to sclae your models in production enviorments don't hesitate to send us an email at hello[at]nixtla.io or join our [slack community](https://join.slack.com/t/nixtlacommunity/shared_invite/zt-135dssye9-fWTzMpv2WBthq8NK0Yvu6A).\n",
        "\n",
        "[Hyndman, RJ and Khandakar, Y (2008) \"Automatic time series forecasting: The forecast package for R\", Journal of Statistical Software, 26(3).](https://www.jstatsoft.org/article/view/v027i03)"
      ],
      "metadata": {
        "id": "cLitezC7_tQc"
      }
    },
    {
      "cell_type": "markdown",
      "source": [
        "<a name=\"cell-1\"></a>\n",
        "# 1. Installing StatsForecast Library"
      ],
      "metadata": {
        "id": "XVjL5ZHIIKcj"
      }
    },
    {
      "cell_type": "code",
      "source": [
        "%%capture\n",
        "!pip install -U numba\n",
        "!pip install -U statsmodels\n",
        "!pip install statsforecast"
      ],
      "metadata": {
        "id": "ua1cBuGd2uDl"
      },
      "execution_count": null,
      "outputs": []
    },
    {
      "cell_type": "code",
      "execution_count": null,
      "metadata": {
        "id": "xpc0Euzg2mdb"
      },
      "outputs": [],
      "source": [
        "import numpy as np\n",
        "import pandas as pd\n",
        "from IPython.display import display, Markdown\n",
        "\n",
        "import matplotlib.pyplot as plt\n",
        "from statsforecast import StatsForecast\n",
        "from statsforecast.models import auto_arima, ets\n",
        "from statsforecast.utils import AirPassengers"
      ]
    },
    {
      "cell_type": "code",
      "source": [
        "# If you want to list all avaiaible models run this lines\n",
        "#from statsforecast.models import __all__\n",
        "#__all__"
      ],
      "metadata": {
        "id": "mYt_uOX3gKQH"
      },
      "execution_count": null,
      "outputs": []
    },
    {
      "cell_type": "markdown",
      "source": [
        "<a name=\"cell-2\"></a>\n",
        "# 2. Loading AirPassengers Example Data"
      ],
      "metadata": {
        "id": "OLAQyLf_fhLq"
      }
    },
    {
      "cell_type": "code",
      "source": [
        "# We define the train df. \n",
        "# We use the index functionality to make the training a lot faster.\n",
        "Y_df = pd.DataFrame({'unique_id': np.ones(len(AirPassengers)),\n",
        "                     'ds': pd.date_range(start='1949-01-01', \n",
        "                                         periods=len(AirPassengers), freq='M'),\n",
        "                     'y': AirPassengers})\n",
        "Y_df.tail(13)"
      ],
      "metadata": {
        "id": "P8407hQT2-6L",
        "colab": {
          "base_uri": "https://localhost:8080/",
          "height": 457
        },
        "outputId": "ca030d75-97cc-4103-a109-82277d6237bf"
      },
      "execution_count": null,
      "outputs": [
        {
          "output_type": "execute_result",
          "data": {
            "text/plain": [
              "     unique_id         ds      y\n",
              "131        1.0 1959-12-31  405.0\n",
              "132        1.0 1960-01-31  417.0\n",
              "133        1.0 1960-02-29  391.0\n",
              "134        1.0 1960-03-31  419.0\n",
              "135        1.0 1960-04-30  461.0\n",
              "136        1.0 1960-05-31  472.0\n",
              "137        1.0 1960-06-30  535.0\n",
              "138        1.0 1960-07-31  622.0\n",
              "139        1.0 1960-08-31  606.0\n",
              "140        1.0 1960-09-30  508.0\n",
              "141        1.0 1960-10-31  461.0\n",
              "142        1.0 1960-11-30  390.0\n",
              "143        1.0 1960-12-31  432.0"
            ],
            "text/html": [
              "\n",
              "  <div id=\"df-43a278c5-0cf5-4745-986a-3f9eb6d35497\">\n",
              "    <div class=\"colab-df-container\">\n",
              "      <div>\n",
              "<style scoped>\n",
              "    .dataframe tbody tr th:only-of-type {\n",
              "        vertical-align: middle;\n",
              "    }\n",
              "\n",
              "    .dataframe tbody tr th {\n",
              "        vertical-align: top;\n",
              "    }\n",
              "\n",
              "    .dataframe thead th {\n",
              "        text-align: right;\n",
              "    }\n",
              "</style>\n",
              "<table border=\"1\" class=\"dataframe\">\n",
              "  <thead>\n",
              "    <tr style=\"text-align: right;\">\n",
              "      <th></th>\n",
              "      <th>unique_id</th>\n",
              "      <th>ds</th>\n",
              "      <th>y</th>\n",
              "    </tr>\n",
              "  </thead>\n",
              "  <tbody>\n",
              "    <tr>\n",
              "      <th>131</th>\n",
              "      <td>1.0</td>\n",
              "      <td>1959-12-31</td>\n",
              "      <td>405.0</td>\n",
              "    </tr>\n",
              "    <tr>\n",
              "      <th>132</th>\n",
              "      <td>1.0</td>\n",
              "      <td>1960-01-31</td>\n",
              "      <td>417.0</td>\n",
              "    </tr>\n",
              "    <tr>\n",
              "      <th>133</th>\n",
              "      <td>1.0</td>\n",
              "      <td>1960-02-29</td>\n",
              "      <td>391.0</td>\n",
              "    </tr>\n",
              "    <tr>\n",
              "      <th>134</th>\n",
              "      <td>1.0</td>\n",
              "      <td>1960-03-31</td>\n",
              "      <td>419.0</td>\n",
              "    </tr>\n",
              "    <tr>\n",
              "      <th>135</th>\n",
              "      <td>1.0</td>\n",
              "      <td>1960-04-30</td>\n",
              "      <td>461.0</td>\n",
              "    </tr>\n",
              "    <tr>\n",
              "      <th>136</th>\n",
              "      <td>1.0</td>\n",
              "      <td>1960-05-31</td>\n",
              "      <td>472.0</td>\n",
              "    </tr>\n",
              "    <tr>\n",
              "      <th>137</th>\n",
              "      <td>1.0</td>\n",
              "      <td>1960-06-30</td>\n",
              "      <td>535.0</td>\n",
              "    </tr>\n",
              "    <tr>\n",
              "      <th>138</th>\n",
              "      <td>1.0</td>\n",
              "      <td>1960-07-31</td>\n",
              "      <td>622.0</td>\n",
              "    </tr>\n",
              "    <tr>\n",
              "      <th>139</th>\n",
              "      <td>1.0</td>\n",
              "      <td>1960-08-31</td>\n",
              "      <td>606.0</td>\n",
              "    </tr>\n",
              "    <tr>\n",
              "      <th>140</th>\n",
              "      <td>1.0</td>\n",
              "      <td>1960-09-30</td>\n",
              "      <td>508.0</td>\n",
              "    </tr>\n",
              "    <tr>\n",
              "      <th>141</th>\n",
              "      <td>1.0</td>\n",
              "      <td>1960-10-31</td>\n",
              "      <td>461.0</td>\n",
              "    </tr>\n",
              "    <tr>\n",
              "      <th>142</th>\n",
              "      <td>1.0</td>\n",
              "      <td>1960-11-30</td>\n",
              "      <td>390.0</td>\n",
              "    </tr>\n",
              "    <tr>\n",
              "      <th>143</th>\n",
              "      <td>1.0</td>\n",
              "      <td>1960-12-31</td>\n",
              "      <td>432.0</td>\n",
              "    </tr>\n",
              "  </tbody>\n",
              "</table>\n",
              "</div>\n",
              "      <button class=\"colab-df-convert\" onclick=\"convertToInteractive('df-43a278c5-0cf5-4745-986a-3f9eb6d35497')\"\n",
              "              title=\"Convert this dataframe to an interactive table.\"\n",
              "              style=\"display:none;\">\n",
              "        \n",
              "  <svg xmlns=\"http://www.w3.org/2000/svg\" height=\"24px\"viewBox=\"0 0 24 24\"\n",
              "       width=\"24px\">\n",
              "    <path d=\"M0 0h24v24H0V0z\" fill=\"none\"/>\n",
              "    <path d=\"M18.56 5.44l.94 2.06.94-2.06 2.06-.94-2.06-.94-.94-2.06-.94 2.06-2.06.94zm-11 1L8.5 8.5l.94-2.06 2.06-.94-2.06-.94L8.5 2.5l-.94 2.06-2.06.94zm10 10l.94 2.06.94-2.06 2.06-.94-2.06-.94-.94-2.06-.94 2.06-2.06.94z\"/><path d=\"M17.41 7.96l-1.37-1.37c-.4-.4-.92-.59-1.43-.59-.52 0-1.04.2-1.43.59L10.3 9.45l-7.72 7.72c-.78.78-.78 2.05 0 2.83L4 21.41c.39.39.9.59 1.41.59.51 0 1.02-.2 1.41-.59l7.78-7.78 2.81-2.81c.8-.78.8-2.07 0-2.86zM5.41 20L4 18.59l7.72-7.72 1.47 1.35L5.41 20z\"/>\n",
              "  </svg>\n",
              "      </button>\n",
              "      \n",
              "  <style>\n",
              "    .colab-df-container {\n",
              "      display:flex;\n",
              "      flex-wrap:wrap;\n",
              "      gap: 12px;\n",
              "    }\n",
              "\n",
              "    .colab-df-convert {\n",
              "      background-color: #E8F0FE;\n",
              "      border: none;\n",
              "      border-radius: 50%;\n",
              "      cursor: pointer;\n",
              "      display: none;\n",
              "      fill: #1967D2;\n",
              "      height: 32px;\n",
              "      padding: 0 0 0 0;\n",
              "      width: 32px;\n",
              "    }\n",
              "\n",
              "    .colab-df-convert:hover {\n",
              "      background-color: #E2EBFA;\n",
              "      box-shadow: 0px 1px 2px rgba(60, 64, 67, 0.3), 0px 1px 3px 1px rgba(60, 64, 67, 0.15);\n",
              "      fill: #174EA6;\n",
              "    }\n",
              "\n",
              "    [theme=dark] .colab-df-convert {\n",
              "      background-color: #3B4455;\n",
              "      fill: #D2E3FC;\n",
              "    }\n",
              "\n",
              "    [theme=dark] .colab-df-convert:hover {\n",
              "      background-color: #434B5C;\n",
              "      box-shadow: 0px 1px 3px 1px rgba(0, 0, 0, 0.15);\n",
              "      filter: drop-shadow(0px 1px 2px rgba(0, 0, 0, 0.3));\n",
              "      fill: #FFFFFF;\n",
              "    }\n",
              "  </style>\n",
              "\n",
              "      <script>\n",
              "        const buttonEl =\n",
              "          document.querySelector('#df-43a278c5-0cf5-4745-986a-3f9eb6d35497 button.colab-df-convert');\n",
              "        buttonEl.style.display =\n",
              "          google.colab.kernel.accessAllowed ? 'block' : 'none';\n",
              "\n",
              "        async function convertToInteractive(key) {\n",
              "          const element = document.querySelector('#df-43a278c5-0cf5-4745-986a-3f9eb6d35497');\n",
              "          const dataTable =\n",
              "            await google.colab.kernel.invokeFunction('convertToInteractive',\n",
              "                                                     [key], {});\n",
              "          if (!dataTable) return;\n",
              "\n",
              "          const docLinkHtml = 'Like what you see? Visit the ' +\n",
              "            '<a target=\"_blank\" href=https://colab.research.google.com/notebooks/data_table.ipynb>data table notebook</a>'\n",
              "            + ' to learn more about interactive tables.';\n",
              "          element.innerHTML = '';\n",
              "          dataTable['output_type'] = 'display_data';\n",
              "          await google.colab.output.renderOutput(dataTable, element);\n",
              "          const docLink = document.createElement('div');\n",
              "          docLink.innerHTML = docLinkHtml;\n",
              "          element.appendChild(docLink);\n",
              "        }\n",
              "      </script>\n",
              "    </div>\n",
              "  </div>\n",
              "  "
            ]
          },
          "metadata": {},
          "execution_count": 11
        }
      ]
    },
    {
      "cell_type": "markdown",
      "source": [
        "<a name=\"cell-3\"></a>\n",
        "# 3. Fit AutoArima and AutoETS"
      ],
      "metadata": {
        "id": "oQTktm0-Iwe6"
      }
    },
    {
      "cell_type": "markdown",
      "source": [
        "**AutoETS:** The exponential smoothing (ETS) algorithm is especially suited for data with seasonality and trend. ETS computes a weighted average over all observations in the input time series dataset as its prediction. In contrast to moving average methods with constant weights, ETS weights exponentially decrease over time, capturing long term dependencies while prioritizing new observations.\n",
        "\n",
        "**AutoARIMA:** The autoregressive integrated moving average (ARIMA), combines differencing steps, lag regression and moving averages into a single method capable of modeling non-stationary time series. This method complements on ETS and it is based on the description of data's autocorrelations."
      ],
      "metadata": {
        "id": "cdJ7SAEQLZB5"
      }
    },
    {
      "cell_type": "code",
      "source": [
        "Y_train_df = Y_df[Y_df.ds<='1959-12-31']\n",
        "Y_test_df = Y_df[Y_df.ds>'1959-12-31']\n",
        "print('len(Y_train_df)', len(Y_train_df))\n",
        "print('len(Y_test_df)', len(Y_test_df))"
      ],
      "metadata": {
        "colab": {
          "base_uri": "https://localhost:8080/"
        },
        "id": "wEjZ71IAjatN",
        "outputId": "5128e602-dcb4-49d5-c934-e724551b884d"
      },
      "execution_count": null,
      "outputs": [
        {
          "output_type": "stream",
          "name": "stdout",
          "text": [
            "len(Y_train_df) 132\n",
            "len(Y_test_df) 12\n"
          ]
        }
      ]
    },
    {
      "cell_type": "code",
      "source": [
        "# Define the parameters that you want to use in your models. \n",
        "# Note: For all models the following parameters are passed automaticly and \n",
        "# don't need to be declared: (X, h, future_xreg).\n",
        "# for ets we pass a ZMZ, model, which stands for error selected optimally,\n",
        "season_length = 12\n",
        "horizon = len(Y_test_df)\n",
        "model = StatsForecast(Y_train_df.set_index('unique_id'), \n",
        "                      models=[(auto_arima, season_length),\n",
        "                              (ets, season_length, 'ZMZ')],\n",
        "                      freq='M', n_jobs=-1)\n",
        "\n",
        "# In this step, you could include further models like: ses, adida, historic_average, \n",
        "# croston_classic, croston_sba, croston_optimized, seasonal_window_average, seasonal_naive, \n",
        "# imapa naive, random_walk_with_drift, window_average, seasonal_exponential_smoothing and tsb.\n",
        "\n",
        "# For some models like ARIMA, include confidence intervals\n",
        "# For the moment confidence intervals for ETS are unavailable\n",
        "Y_hat_df = model.forecast(horizon).reset_index()\n",
        "Y_hat_df.head()"
      ],
      "metadata": {
        "id": "Une8oJiN3Aax",
        "colab": {
          "base_uri": "https://localhost:8080/",
          "height": 206
        },
        "outputId": "a5522bb3-d379-4e30-e50d-c938fe2184ec"
      },
      "execution_count": null,
      "outputs": [
        {
          "output_type": "execute_result",
          "data": {
            "text/plain": [
              "   unique_id         ds  auto_arima_season_length-12  \\\n",
              "0        1.0 1960-01-31                   424.160156   \n",
              "1        1.0 1960-02-29                   407.081696   \n",
              "2        1.0 1960-03-31                   470.860535   \n",
              "3        1.0 1960-04-30                   460.913605   \n",
              "4        1.0 1960-05-31                   484.900879   \n",
              "\n",
              "   ets_season_length-12_model-ZMZ  \n",
              "0                      419.163574  \n",
              "1                      416.904449  \n",
              "2                      480.243378  \n",
              "3                      461.996887  \n",
              "4                      463.853241  "
            ],
            "text/html": [
              "\n",
              "  <div id=\"df-49f75681-8bd7-4847-9e51-d27d1d4d8e1c\">\n",
              "    <div class=\"colab-df-container\">\n",
              "      <div>\n",
              "<style scoped>\n",
              "    .dataframe tbody tr th:only-of-type {\n",
              "        vertical-align: middle;\n",
              "    }\n",
              "\n",
              "    .dataframe tbody tr th {\n",
              "        vertical-align: top;\n",
              "    }\n",
              "\n",
              "    .dataframe thead th {\n",
              "        text-align: right;\n",
              "    }\n",
              "</style>\n",
              "<table border=\"1\" class=\"dataframe\">\n",
              "  <thead>\n",
              "    <tr style=\"text-align: right;\">\n",
              "      <th></th>\n",
              "      <th>unique_id</th>\n",
              "      <th>ds</th>\n",
              "      <th>auto_arima_season_length-12</th>\n",
              "      <th>ets_season_length-12_model-ZMZ</th>\n",
              "    </tr>\n",
              "  </thead>\n",
              "  <tbody>\n",
              "    <tr>\n",
              "      <th>0</th>\n",
              "      <td>1.0</td>\n",
              "      <td>1960-01-31</td>\n",
              "      <td>424.160156</td>\n",
              "      <td>419.163574</td>\n",
              "    </tr>\n",
              "    <tr>\n",
              "      <th>1</th>\n",
              "      <td>1.0</td>\n",
              "      <td>1960-02-29</td>\n",
              "      <td>407.081696</td>\n",
              "      <td>416.904449</td>\n",
              "    </tr>\n",
              "    <tr>\n",
              "      <th>2</th>\n",
              "      <td>1.0</td>\n",
              "      <td>1960-03-31</td>\n",
              "      <td>470.860535</td>\n",
              "      <td>480.243378</td>\n",
              "    </tr>\n",
              "    <tr>\n",
              "      <th>3</th>\n",
              "      <td>1.0</td>\n",
              "      <td>1960-04-30</td>\n",
              "      <td>460.913605</td>\n",
              "      <td>461.996887</td>\n",
              "    </tr>\n",
              "    <tr>\n",
              "      <th>4</th>\n",
              "      <td>1.0</td>\n",
              "      <td>1960-05-31</td>\n",
              "      <td>484.900879</td>\n",
              "      <td>463.853241</td>\n",
              "    </tr>\n",
              "  </tbody>\n",
              "</table>\n",
              "</div>\n",
              "      <button class=\"colab-df-convert\" onclick=\"convertToInteractive('df-49f75681-8bd7-4847-9e51-d27d1d4d8e1c')\"\n",
              "              title=\"Convert this dataframe to an interactive table.\"\n",
              "              style=\"display:none;\">\n",
              "        \n",
              "  <svg xmlns=\"http://www.w3.org/2000/svg\" height=\"24px\"viewBox=\"0 0 24 24\"\n",
              "       width=\"24px\">\n",
              "    <path d=\"M0 0h24v24H0V0z\" fill=\"none\"/>\n",
              "    <path d=\"M18.56 5.44l.94 2.06.94-2.06 2.06-.94-2.06-.94-.94-2.06-.94 2.06-2.06.94zm-11 1L8.5 8.5l.94-2.06 2.06-.94-2.06-.94L8.5 2.5l-.94 2.06-2.06.94zm10 10l.94 2.06.94-2.06 2.06-.94-2.06-.94-.94-2.06-.94 2.06-2.06.94z\"/><path d=\"M17.41 7.96l-1.37-1.37c-.4-.4-.92-.59-1.43-.59-.52 0-1.04.2-1.43.59L10.3 9.45l-7.72 7.72c-.78.78-.78 2.05 0 2.83L4 21.41c.39.39.9.59 1.41.59.51 0 1.02-.2 1.41-.59l7.78-7.78 2.81-2.81c.8-.78.8-2.07 0-2.86zM5.41 20L4 18.59l7.72-7.72 1.47 1.35L5.41 20z\"/>\n",
              "  </svg>\n",
              "      </button>\n",
              "      \n",
              "  <style>\n",
              "    .colab-df-container {\n",
              "      display:flex;\n",
              "      flex-wrap:wrap;\n",
              "      gap: 12px;\n",
              "    }\n",
              "\n",
              "    .colab-df-convert {\n",
              "      background-color: #E8F0FE;\n",
              "      border: none;\n",
              "      border-radius: 50%;\n",
              "      cursor: pointer;\n",
              "      display: none;\n",
              "      fill: #1967D2;\n",
              "      height: 32px;\n",
              "      padding: 0 0 0 0;\n",
              "      width: 32px;\n",
              "    }\n",
              "\n",
              "    .colab-df-convert:hover {\n",
              "      background-color: #E2EBFA;\n",
              "      box-shadow: 0px 1px 2px rgba(60, 64, 67, 0.3), 0px 1px 3px 1px rgba(60, 64, 67, 0.15);\n",
              "      fill: #174EA6;\n",
              "    }\n",
              "\n",
              "    [theme=dark] .colab-df-convert {\n",
              "      background-color: #3B4455;\n",
              "      fill: #D2E3FC;\n",
              "    }\n",
              "\n",
              "    [theme=dark] .colab-df-convert:hover {\n",
              "      background-color: #434B5C;\n",
              "      box-shadow: 0px 1px 3px 1px rgba(0, 0, 0, 0.15);\n",
              "      filter: drop-shadow(0px 1px 2px rgba(0, 0, 0, 0.3));\n",
              "      fill: #FFFFFF;\n",
              "    }\n",
              "  </style>\n",
              "\n",
              "      <script>\n",
              "        const buttonEl =\n",
              "          document.querySelector('#df-49f75681-8bd7-4847-9e51-d27d1d4d8e1c button.colab-df-convert');\n",
              "        buttonEl.style.display =\n",
              "          google.colab.kernel.accessAllowed ? 'block' : 'none';\n",
              "\n",
              "        async function convertToInteractive(key) {\n",
              "          const element = document.querySelector('#df-49f75681-8bd7-4847-9e51-d27d1d4d8e1c');\n",
              "          const dataTable =\n",
              "            await google.colab.kernel.invokeFunction('convertToInteractive',\n",
              "                                                     [key], {});\n",
              "          if (!dataTable) return;\n",
              "\n",
              "          const docLinkHtml = 'Like what you see? Visit the ' +\n",
              "            '<a target=\"_blank\" href=https://colab.research.google.com/notebooks/data_table.ipynb>data table notebook</a>'\n",
              "            + ' to learn more about interactive tables.';\n",
              "          element.innerHTML = '';\n",
              "          dataTable['output_type'] = 'display_data';\n",
              "          await google.colab.output.renderOutput(dataTable, element);\n",
              "          const docLink = document.createElement('div');\n",
              "          docLink.innerHTML = docLinkHtml;\n",
              "          element.appendChild(docLink);\n",
              "        }\n",
              "      </script>\n",
              "    </div>\n",
              "  </div>\n",
              "  "
            ]
          },
          "metadata": {},
          "execution_count": 21
        }
      ]
    },
    {
      "cell_type": "markdown",
      "source": [
        "<a name=\"cell-4\"></a>\n",
        "# 4. Plot and Evaluate Predictions"
      ],
      "metadata": {
        "id": "aphR5aT8JiWr"
      }
    },
    {
      "cell_type": "code",
      "source": [
        "#We are going to plot the models againts the real values of test.\n",
        "fig, ax = plt.subplots(1, 1, figsize = (20, 7))\n",
        "plot_df = pd.concat([Y_train_df, Y_hat_df]).set_index('ds')\n",
        "\n",
        "plot_df[['y',\n",
        "         'auto_arima_season_length-12',\n",
        "         'ets_season_length-12_model-ZMZ']].plot(ax=ax, linewidth=2)\n",
        "\n",
        "ax.set_title('AirPassengers Forecast', fontsize=22)\n",
        "ax.set_ylabel('Monthly Passengers', fontsize=20)\n",
        "ax.set_xlabel('Timestamp [t]', fontsize=20)\n",
        "ax.legend(prop={'size': 15})\n",
        "ax.grid()"
      ],
      "metadata": {
        "colab": {
          "base_uri": "https://localhost:8080/",
          "height": 473
        },
        "id": "wrGCxaaP3Qph",
        "outputId": "b4a5612f-5005-4bdb-a89e-c7e54d889643"
      },
      "execution_count": null,
      "outputs": [
        {
          "output_type": "display_data",
          "data": {
            "text/plain": [
              "<Figure size 1440x504 with 1 Axes>"
            ],
            "image/png": "[encoded data removed]"
          },
          "metadata": {
            "needs_background": "light"
          }
        }
      ]
    },
    {
      "cell_type": "markdown",
      "source": [
        "Finally, we evaluate the predictions accuracy using the Mean Absolute Error:\n",
        "\n",
        "$\\qquad MAE = \\frac{1}{Horizon} \\sum_{\\tau} |y_{\\tau} - \\hat{y}_{\\tau}|\\qquad$"
      ],
      "metadata": {
        "id": "uQJs907KodN2"
      }
    },
    {
      "cell_type": "code",
      "source": [
        "def mae(y_hat, y_true):\n",
        "    return np.mean(np.abs(y_hat-y_true))\n",
        "\n",
        "y_true = Y_test_df['y'].values\n",
        "ets_preds = Y_hat_df['ets_season_length-12_model-ZMZ'].values\n",
        "arima_preds = Y_hat_df['auto_arima_season_length-12'].values\n",
        "\n",
        "print('ETS   MAE: %0.3f' % mae(ets_preds, y_true))\n",
        "print('ARIMA MAE: %0.3f' % mae(arima_preds, y_true))"
      ],
      "metadata": {
        "id": "ESCsSckDqoyV",
        "colab": {
          "base_uri": "https://localhost:8080/"
        },
        "outputId": "69753e27-fefe-42ff-fd7c-311a192854fb"
      },
      "execution_count": null,
      "outputs": [
        {
          "output_type": "stream",
          "name": "stdout",
          "text": [
            "ETS   MAE: 16.222\n",
            "ARIMA MAE: 18.551\n"
          ]
        }
      ]
    },
    {
      "cell_type": "markdown",
      "source": [
        "<a name=\"cell-5\"></a>\n",
        "# Add Confidence Intervals to ARIMA (WIP)"
      ],
      "metadata": {
        "id": "VUNrT4r9p7UC"
      }
    },
    {
      "cell_type": "markdown",
      "source": [
        "<a name=\"cell-6\"></a>\n",
        "# Add external regressors to ARIMA (WIP)"
      ],
      "metadata": {
        "id": "1ZmklMUKqFC9"
      }
    },
    {
      "cell_type": "markdown",
      "source": [
        "<a name=\"cell-5\"></a>\n",
        "# Include other Benchmark models (WIP)"
      ],
      "metadata": {
        "id": "UbIlcwL0rG7r"
      }
    }
  ]
}