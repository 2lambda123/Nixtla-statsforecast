{
  "cells": [
    {
      "cell_type": "code",
      "execution_count": null,
      "metadata": {
        "colab": {
          "base_uri": "https://localhost:8080/"
        },
        "id": "sPVGa3t5gaM-",
        "outputId": "786da4cb-43c6-4c92-ffe2-4005452a12b3"
      },
      "outputs": [
        {
          "name": "stdout",
          "output_type": "stream",
          "text": [
            "Collecting git+https://github.com/tblume1992/statsforecast.git@feature/mfles\n",
            "  Cloning https://github.com/tblume1992/statsforecast.git (to revision feature/mfles) to /tmp/pip-req-build-y37borof\n",
            "  Running command git clone --filter=blob:none --quiet https://github.com/tblume1992/statsforecast.git /tmp/pip-req-build-y37borof\n",
            "  Running command git checkout -b feature/mfles --track origin/feature/mfles\n",
            "  Switched to a new branch 'feature/mfles'\n",
            "  Branch 'feature/mfles' set up to track remote branch 'feature/mfles' from 'origin'.\n",
            "  Resolved https://github.com/tblume1992/statsforecast.git to commit 5fc9e76fcd177256e6dcc617f231d3c3f02cdae2\n",
            "  Running command git submodule update --init --recursive -q\n",
            "  Installing build dependencies ... \u001b[?25l\u001b[?25hdone\n",
            "  Getting requirements to build wheel ... \u001b[?25l\u001b[?25hdone\n",
            "  Preparing metadata (pyproject.toml) ... \u001b[?25l\u001b[?25hdone\n",
            "Requirement already satisfied: cloudpickle in /usr/local/lib/python3.10/dist-packages (from statsforecast==1.7.5) (2.2.1)\n",
            "Collecting coreforecast>=0.0.9 (from statsforecast==1.7.5)\n",
            "  Downloading coreforecast-0.0.9-py3-none-manylinux_2_17_x86_64.manylinux2014_x86_64.whl (223 kB)\n",
            "\u001b[2K     \u001b[90m━━━━━━━━━━━━━━━━━━━━━━━━━━━━━━━━━━━━━━━━\u001b[0m \u001b[32m223.4/223.4 kB\u001b[0m \u001b[31m1.7 MB/s\u001b[0m eta \u001b[36m0:00:00\u001b[0m\n",
            "\u001b[?25hRequirement already satisfied: numba>=0.55.0 in /usr/local/lib/python3.10/dist-packages (from statsforecast==1.7.5) (0.58.1)\n",
            "Requirement already satisfied: numpy>=1.21.6 in /usr/local/lib/python3.10/dist-packages (from statsforecast==1.7.5) (1.25.2)\n",
            "Requirement already satisfied: pandas>=1.3.5 in /usr/local/lib/python3.10/dist-packages (from statsforecast==1.7.5) (2.0.3)\n",
            "Requirement already satisfied: scipy>=1.7.3 in /usr/local/lib/python3.10/dist-packages (from statsforecast==1.7.5) (1.11.4)\n",
            "Requirement already satisfied: statsmodels>=0.13.2 in /usr/local/lib/python3.10/dist-packages (from statsforecast==1.7.5) (0.14.2)\n",
            "Requirement already satisfied: tqdm in /usr/local/lib/python3.10/dist-packages (from statsforecast==1.7.5) (4.66.4)\n",
            "Collecting fugue>=0.8.1 (from statsforecast==1.7.5)\n",
            "  Downloading fugue-0.9.0-py3-none-any.whl (278 kB)\n",
            "\u001b[2K     \u001b[90m━━━━━━━━━━━━━━━━━━━━━━━━━━━━━━━━━━━━━━━━\u001b[0m \u001b[32m278.2/278.2 kB\u001b[0m \u001b[31m6.0 MB/s\u001b[0m eta \u001b[36m0:00:00\u001b[0m\n",
            "\u001b[?25hCollecting utilsforecast>=0.1.4 (from statsforecast==1.7.5)\n",
            "  Downloading utilsforecast-0.1.10-py3-none-any.whl (40 kB)\n",
            "\u001b[2K     \u001b[90m━━━━━━━━━━━━━━━━━━━━━━━━━━━━━━━━━━━━━━━━\u001b[0m \u001b[32m40.5/40.5 kB\u001b[0m \u001b[31m3.7 MB/s\u001b[0m eta \u001b[36m0:00:00\u001b[0m\n",
            "\u001b[?25hRequirement already satisfied: threadpoolctl in /usr/local/lib/python3.10/dist-packages (from statsforecast==1.7.5) (3.5.0)\n",
            "Collecting triad>=0.9.6 (from fugue>=0.8.1->statsforecast==1.7.5)\n",
            "  Downloading triad-0.9.6-py3-none-any.whl (62 kB)\n",
            "\u001b[2K     \u001b[90m━━━━━━━━━━━━━━━━━━━━━━━━━━━━━━━━━━━━━━━━\u001b[0m \u001b[32m62.1/62.1 kB\u001b[0m \u001b[31m6.6 MB/s\u001b[0m eta \u001b[36m0:00:00\u001b[0m\n",
            "\u001b[?25hCollecting adagio>=0.2.4 (from fugue>=0.8.1->statsforecast==1.7.5)\n",
            "  Downloading adagio-0.2.4-py3-none-any.whl (26 kB)\n",
            "Requirement already satisfied: llvmlite<0.42,>=0.41.0dev0 in /usr/local/lib/python3.10/dist-packages (from numba>=0.55.0->statsforecast==1.7.5) (0.41.1)\n",
            "Requirement already satisfied: python-dateutil>=2.8.2 in /usr/local/lib/python3.10/dist-packages (from pandas>=1.3.5->statsforecast==1.7.5) (2.8.2)\n",
            "Requirement already satisfied: pytz>=2020.1 in /usr/local/lib/python3.10/dist-packages (from pandas>=1.3.5->statsforecast==1.7.5) (2023.4)\n",
            "Requirement already satisfied: tzdata>=2022.1 in /usr/local/lib/python3.10/dist-packages (from pandas>=1.3.5->statsforecast==1.7.5) (2024.1)\n",
            "Requirement already satisfied: patsy>=0.5.6 in /usr/local/lib/python3.10/dist-packages (from statsmodels>=0.13.2->statsforecast==1.7.5) (0.5.6)\n",
            "Requirement already satisfied: packaging>=21.3 in /usr/local/lib/python3.10/dist-packages (from statsmodels>=0.13.2->statsforecast==1.7.5) (24.0)\n",
            "Requirement already satisfied: six in /usr/local/lib/python3.10/dist-packages (from patsy>=0.5.6->statsmodels>=0.13.2->statsforecast==1.7.5) (1.16.0)\n",
            "Requirement already satisfied: pyarrow>=6.0.1 in /usr/local/lib/python3.10/dist-packages (from triad>=0.9.6->fugue>=0.8.1->statsforecast==1.7.5) (14.0.2)\n",
            "Requirement already satisfied: fsspec>=2022.5.0 in /usr/local/lib/python3.10/dist-packages (from triad>=0.9.6->fugue>=0.8.1->statsforecast==1.7.5) (2023.6.0)\n",
            "Collecting fs (from triad>=0.9.6->fugue>=0.8.1->statsforecast==1.7.5)\n",
            "  Downloading fs-2.4.16-py2.py3-none-any.whl (135 kB)\n",
            "\u001b[2K     \u001b[90m━━━━━━━━━━━━━━━━━━━━━━━━━━━━━━━━━━━━━━━━\u001b[0m \u001b[32m135.3/135.3 kB\u001b[0m \u001b[31m12.8 MB/s\u001b[0m eta \u001b[36m0:00:00\u001b[0m\n",
            "\u001b[?25hCollecting appdirs~=1.4.3 (from fs->triad>=0.9.6->fugue>=0.8.1->statsforecast==1.7.5)\n",
            "  Downloading appdirs-1.4.4-py2.py3-none-any.whl (9.6 kB)\n",
            "Requirement already satisfied: setuptools in /usr/local/lib/python3.10/dist-packages (from fs->triad>=0.9.6->fugue>=0.8.1->statsforecast==1.7.5) (67.7.2)\n",
            "Building wheels for collected packages: statsforecast\n",
            "  Building wheel for statsforecast (pyproject.toml) ... \u001b[?25l\u001b[?25hdone\n",
            "  Created wheel for statsforecast: filename=statsforecast-1.7.5-py3-none-any.whl size=133406 sha256=decc0ffe89ec2e1127dd6f22fabde985460a87aad8639e5ccae07b64a95a3284\n",
            "  Stored in directory: /tmp/pip-ephem-wheel-cache-9xisvg_t/wheels/2d/9b/1b/8efa519ae3dd0763c2ae88bcb5220b40c0c701aa006eeed286\n",
            "Successfully built statsforecast\n",
            "Installing collected packages: appdirs, fs, coreforecast, utilsforecast, triad, adagio, fugue, statsforecast\n",
            "Successfully installed adagio-0.2.4 appdirs-1.4.4 coreforecast-0.0.9 fs-2.4.16 fugue-0.9.0 statsforecast-1.7.5 triad-0.9.6 utilsforecast-0.1.10\n"
          ]
        }
      ],
      "source": [
        "pip install git+https://github.com/tblume1992/statsforecast.git@feature/mfles"
      ]
    },
    {
      "cell_type": "code",
      "execution_count": null,
      "metadata": {
        "colab": {
          "base_uri": "https://localhost:8080/"
        },
        "id": "J-dBpWnVgtCV",
        "outputId": "289b838b-a828-4903-ba83-6f841251595f"
      },
      "outputs": [
        {
          "name": "stdout",
          "output_type": "stream",
          "text": [
            "Collecting mfles\n",
            "  Downloading MFLES-0.2.4-py3-none-any.whl (14 kB)\n",
            "Requirement already satisfied: numpy in /usr/local/lib/python3.10/dist-packages (from mfles) (1.25.2)\n",
            "Requirement already satisfied: pandas in /usr/local/lib/python3.10/dist-packages (from mfles) (2.0.3)\n",
            "Requirement already satisfied: tqdm in /usr/local/lib/python3.10/dist-packages (from mfles) (4.66.4)\n",
            "Requirement already satisfied: numba in /usr/local/lib/python3.10/dist-packages (from mfles) (0.58.1)\n",
            "Requirement already satisfied: matplotlib in /usr/local/lib/python3.10/dist-packages (from mfles) (3.7.1)\n",
            "Requirement already satisfied: contourpy>=1.0.1 in /usr/local/lib/python3.10/dist-packages (from matplotlib->mfles) (1.2.1)\n",
            "Requirement already satisfied: cycler>=0.10 in /usr/local/lib/python3.10/dist-packages (from matplotlib->mfles) (0.12.1)\n",
            "Requirement already satisfied: fonttools>=4.22.0 in /usr/local/lib/python3.10/dist-packages (from matplotlib->mfles) (4.51.0)\n",
            "Requirement already satisfied: kiwisolver>=1.0.1 in /usr/local/lib/python3.10/dist-packages (from matplotlib->mfles) (1.4.5)\n",
            "Requirement already satisfied: packaging>=20.0 in /usr/local/lib/python3.10/dist-packages (from matplotlib->mfles) (24.0)\n",
            "Requirement already satisfied: pillow>=6.2.0 in /usr/local/lib/python3.10/dist-packages (from matplotlib->mfles) (9.4.0)\n",
            "Requirement already satisfied: pyparsing>=2.3.1 in /usr/local/lib/python3.10/dist-packages (from matplotlib->mfles) (3.1.2)\n",
            "Requirement already satisfied: python-dateutil>=2.7 in /usr/local/lib/python3.10/dist-packages (from matplotlib->mfles) (2.8.2)\n",
            "Requirement already satisfied: llvmlite<0.42,>=0.41.0dev0 in /usr/local/lib/python3.10/dist-packages (from numba->mfles) (0.41.1)\n",
            "Requirement already satisfied: pytz>=2020.1 in /usr/local/lib/python3.10/dist-packages (from pandas->mfles) (2023.4)\n",
            "Requirement already satisfied: tzdata>=2022.1 in /usr/local/lib/python3.10/dist-packages (from pandas->mfles) (2024.1)\n",
            "Requirement already satisfied: six>=1.5 in /usr/local/lib/python3.10/dist-packages (from python-dateutil>=2.7->matplotlib->mfles) (1.16.0)\n",
            "Installing collected packages: mfles\n",
            "Successfully installed mfles-0.2.4\n"
          ]
        }
      ],
      "source": [
        "pip install mfles"
      ]
    },
    {
      "cell_type": "code",
      "execution_count": null,
      "metadata": {
        "colab": {
          "base_uri": "https://localhost:8080/"
        },
        "id": "rtpQx2tthr7L",
        "outputId": "e7d70891-4af7-4cd5-b961-d91aac7e33b4"
      },
      "outputs": [
        {
          "name": "stderr",
          "output_type": "stream",
          "text": [
            "/usr/local/lib/python3.10/dist-packages/statsforecast/core.py:27: TqdmExperimentalWarning: Using `tqdm.autonotebook.tqdm` in notebook mode. Use `tqdm.tqdm` instead to force console mode (e.g. in jupyter console)\n",
            "  from tqdm.autonotebook import tqdm\n",
            "/usr/local/lib/python3.10/dist-packages/MFLES/Model.py:41: NumbaDeprecationWarning: The 'nopython' keyword argument was not supplied to the 'numba.jit' decorator. The implicit default value for this argument is currently False, but it will be changed to True in Numba 0.59.0. See https://numba.readthedocs.io/en/stable/reference/deprecation.html#deprecation-of-object-mode-fall-back-behaviour-when-using-jit for details.\n",
            "  def lasso_nb(X, y, alpha, tol=0.001, maxiter=10000):\n",
            "/usr/local/lib/python3.10/dist-packages/MFLES/Model.py:164: NumbaDeprecationWarning: The 'nopython' keyword argument was not supplied to the 'numba.jit' decorator. The implicit default value for this argument is currently False, but it will be changed to True in Numba 0.59.0. See https://numba.readthedocs.io/en/stable/reference/deprecation.html#deprecation-of-object-mode-fall-back-behaviour-when-using-jit for details.\n",
            "  def median(y, seasonal_period):\n",
            "/usr/local/lib/python3.10/dist-packages/MFLES/Model.py:180: NumbaDeprecationWarning: The 'nopython' keyword argument was not supplied to the 'numba.jit' decorator. The implicit default value for this argument is currently False, but it will be changed to True in Numba 0.59.0. See https://numba.readthedocs.io/en/stable/reference/deprecation.html#deprecation-of-object-mode-fall-back-behaviour-when-using-jit for details.\n",
            "  def ols(X, y):\n",
            "/usr/local/lib/python3.10/dist-packages/MFLES/Model.py:185: NumbaDeprecationWarning: The 'nopython' keyword argument was not supplied to the 'numba.jit' decorator. The implicit default value for this argument is currently False, but it will be changed to True in Numba 0.59.0. See https://numba.readthedocs.io/en/stable/reference/deprecation.html#deprecation-of-object-mode-fall-back-behaviour-when-using-jit for details.\n",
            "  def wls(X, y, weights):\n",
            "/usr/local/lib/python3.10/dist-packages/MFLES/Model.py:191: NumbaDeprecationWarning: The 'nopython' keyword argument was not supplied to the 'numba.jit' decorator. The implicit default value for this argument is currently False, but it will be changed to True in Numba 0.59.0. See https://numba.readthedocs.io/en/stable/reference/deprecation.html#deprecation-of-object-mode-fall-back-behaviour-when-using-jit for details.\n",
            "  def _ols(X, y):\n",
            "/usr/local/lib/python3.10/dist-packages/MFLES/Model.py:196: NumbaDeprecationWarning: The 'nopython' keyword argument was not supplied to the 'numba.jit' decorator. The implicit default value for this argument is currently False, but it will be changed to True in Numba 0.59.0. See https://numba.readthedocs.io/en/stable/reference/deprecation.html#deprecation-of-object-mode-fall-back-behaviour-when-using-jit for details.\n",
            "  def ridge(X, y, lam):\n",
            "/usr/local/lib/python3.10/dist-packages/MFLES/FeatureEngineering.py:81: NumbaDeprecationWarning: The 'nopython' keyword argument was not supplied to the 'numba.jit' decorator. The implicit default value for this argument is currently False, but it will be changed to True in Numba 0.59.0. See https://numba.readthedocs.io/en/stable/reference/deprecation.html#deprecation-of-object-mode-fall-back-behaviour-when-using-jit for details.\n",
            "  def get_future_basis(basis_functions, forecast_horizon):\n"
          ]
        }
      ],
      "source": [
        "from tqdm import tqdm\n",
        "import pandas as pd\n",
        "import numpy as np\n",
        "from statsforecast.models import MSTL, AutoETS, AutoTBATS, AutoMFLES\n",
        "from MFLES.Forecaster import MFLES as old_MFLES\n",
        "import matplotlib.pyplot as plt"
      ]
    },
    {
      "cell_type": "code",
      "execution_count": null,
      "metadata": {
        "id": "oLSZ-MniqfvX"
      },
      "outputs": [],
      "source": [
        "train_df = pd.read_csv('https://raw.githubusercontent.com/Mcompetitions/M4-methods/master/Dataset/Train/Hourly-train.csv')\n",
        "test_df = pd.read_csv('https://raw.githubusercontent.com/Mcompetitions/M4-methods/master/Dataset/Test/Hourly-test.csv')\n",
        "\n",
        "train_df.index = train_df['V1']\n",
        "train_df = train_df.drop('V1', axis = 1)\n",
        "test_df.index = test_df['V1']\n",
        "test_df = test_df.drop('V1', axis = 1)"
      ]
    },
    {
      "cell_type": "code",
      "execution_count": null,
      "metadata": {
        "colab": {
          "background_save": true,
          "base_uri": "https://localhost:8080/"
        },
        "id": "oCUNMkc7dWnn",
        "outputId": "f4e55987-ba8b-4ba2-c0b7-879389aaaa3e"
      },
      "outputs": [
        {
          "name": "stderr",
          "output_type": "stream",
          "text": [
            "  0%|          | 0/414 [00:00<?, ?it/s]/usr/local/lib/python3.10/dist-packages/numpy/core/fromnumeric.py:3504: RuntimeWarning: Mean of empty slice.\n",
            "  return _methods._mean(a, axis=axis, dtype=dtype,\n",
            "/usr/local/lib/python3.10/dist-packages/numpy/core/_methods.py:129: RuntimeWarning: invalid value encountered in scalar divide\n",
            "  ret = ret.dtype.type(ret / rcount)\n",
            "New MFLES:17.066166156775495, Naive:42.86116392273107: 100%|██████████| 414/414 [27:59<00:00,  4.06s/it]"
          ]
        },
        {
          "name": "stdout",
          "output_type": "stream",
          "text": [
            "/b\n",
            "Stats Forecast MFLES 11.73916434645399\n",
            "ETS 17.191376329339505\n",
            "Naive 43.002986836424824\n"
          ]
        },
        {
          "name": "stderr",
          "output_type": "stream",
          "text": [
            "\n"
          ]
        }
      ],
      "source": [
        "mfles_smape = []\n",
        "naive_smape = []\n",
        "ets_smape = []\n",
        "j = tqdm(range(len(train_df)))\n",
        "\n",
        "def smape(A, F):\n",
        "    return 100/len(A) * np.sum(2 * np.abs(F - A) / (np.abs(A) + np.abs(F)))\n",
        "\n",
        "for row in j:\n",
        "    y = train_df.iloc[row, :].dropna()\n",
        "    snaive = y.shift(1).dropna()\n",
        "    snaive = snaive.values\n",
        "    y_test = test_df.iloc[row, :].dropna().values\n",
        "    j.set_description(f'New MFLES:{np.mean(ets_smape)}, Naive:{np.mean(naive_smape)}')\n",
        "    naive_smape.append(smape(y_test, np.tile(y.iloc[-1], len(y_test))))\n",
        "    mfles_model = AutoMFLES(\n",
        "         season_length = [24, 168],\n",
        "         test_size = 24,\n",
        "         metric = 'smape')\n",
        "    mfles_model = mfles_model.fit(y=y.values)\n",
        "    fitted = mfles_model.predict_in_sample()['fitted']\n",
        "    predicted = mfles_model.predict(h=len(y_test), X=None)['mean']\n",
        "    mfles_smape.append(smape(y_test, predicted.clip(min=0)))\n",
        "\n",
        "\n",
        "    ets_model = AutoETS(season_length=24, model='ZZZ')\n",
        "    ets_model = ets_model.fit(y=y.values)\n",
        "    fitted = ets_model.predict_in_sample()['fitted']\n",
        "    predicted = ets_model.predict(h=len(y_test))['mean']\n",
        "    ets_smape.append(smape(y_test, predicted.clip(min=0)))\n",
        "print('/b')\n",
        "print(f'Stats Forecast MFLES {np.nanmean(mfles_smape)}')\n",
        "print(f'ETS {np.nanmean(ets_smape)}')\n",
        "print(f'Naive {np.mean(naive_smape)}')"
      ]
    },
    {
      "cell_type": "code",
      "execution_count": null,
      "metadata": {
        "colab": {
          "background_save": true
        },
        "id": "774yzjb-zUAK"
      },
      "outputs": [],
      "source": [
        "train_df = pd.read_csv('https://raw.githubusercontent.com/Mcompetitions/M4-methods/master/Dataset/Train/Monthly-train.csv')\n",
        "test_df = pd.read_csv('https://raw.githubusercontent.com/Mcompetitions/M4-methods/master/Dataset/Test/Monthly-test.csv')\n",
        "\n",
        "train_df.index = train_df['V1']\n",
        "train_df = train_df.drop('V1', axis = 1)\n",
        "test_df.index = test_df['V1']\n",
        "test_df = test_df.drop('V1', axis = 1)"
      ]
    },
    {
      "cell_type": "code",
      "execution_count": null,
      "metadata": {
        "colab": {
          "background_save": true
        },
        "id": "jfs5pjWaB3dG",
        "outputId": "ff166143-dc8b-4d4b-f67b-d56f9cafb139"
      },
      "outputs": [
        {
          "name": "stderr",
          "output_type": "stream",
          "text": [
            "  0%|          | 0/48000 [00:00<?, ?it/s]/usr/local/lib/python3.10/dist-packages/numpy/core/fromnumeric.py:3504: RuntimeWarning: Mean of empty slice.\n",
            "  return _methods._mean(a, axis=axis, dtype=dtype,\n",
            "/usr/local/lib/python3.10/dist-packages/numpy/core/_methods.py:129: RuntimeWarning: invalid value encountered in scalar divide\n",
            "  ret = ret.dtype.type(ret / rcount)\n",
            "New MFLES:17.191376329339505, Naive:15.256743936162751: 100%|██████████| 48000/48000 [3:25:50<00:00,  3.89it/s]\n"
          ]
        },
        {
          "name": "stdout",
          "output_type": "stream",
          "text": [
            "/b\n",
            "Stats Forecast MFLES 12.917879309158353\n",
            "Naive 15.256483534162772\n"
          ]
        }
      ],
      "source": [
        "naive_smape = []\n",
        "mfles_smape = []\n",
        "j = tqdm(range(len(train_df)))\n",
        "\n",
        "def smape(A, F):\n",
        "    return 100/len(A) * np.sum(2 * np.abs(F - A) / (np.abs(A) + np.abs(F)))\n",
        "\n",
        "for row in j:\n",
        "    y = train_df.iloc[row, :].dropna()\n",
        "    snaive = y.shift(1).dropna()\n",
        "    snaive = snaive.values\n",
        "    y_test = test_df.iloc[row, :].dropna().values\n",
        "    j.set_description(f'New MFLES:{np.mean(ets_smape)}, Naive:{np.mean(naive_smape)}')\n",
        "    naive_smape.append(smape(y_test, np.tile(y.iloc[-1], len(y_test))))\n",
        "    mfles_model = AutoMFLES(\n",
        "         season_length = [12],\n",
        "         test_size = 12,\n",
        "         metric = 'smape')\n",
        "    mfles_model = mfles_model.fit(y=y.values)\n",
        "    fitted = mfles_model.predict_in_sample()['fitted']\n",
        "    predicted = mfles_model.predict(h=len(y_test), X=None)['mean']\n",
        "    mfles_smape.append(smape(y_test, predicted.clip(min=0)))\n",
        "print('/b')\n",
        "print(f'Stats Forecast MFLES {np.nanmean(mfles_smape)}')\n",
        "print(f'Naive {np.mean(naive_smape)}')"
      ]
    },
    {
      "cell_type": "code",
      "execution_count": null,
      "metadata": {
        "colab": {
          "background_save": true
        },
        "id": "DCTnkC4y2uFR"
      },
      "outputs": [],
      "source": [
        "train_df = pd.read_csv('https://raw.githubusercontent.com/Mcompetitions/M4-methods/master/Dataset/Train/Weekly-train.csv')\n",
        "test_df = pd.read_csv('https://raw.githubusercontent.com/Mcompetitions/M4-methods/master/Dataset/Test/Weekly-test.csv')\n",
        "\n",
        "train_df.index = train_df['V1']\n",
        "train_df = train_df.drop('V1', axis = 1)\n",
        "test_df.index = test_df['V1']\n",
        "test_df = test_df.drop('V1', axis = 1)"
      ]
    },
    {
      "cell_type": "code",
      "execution_count": null,
      "metadata": {
        "colab": {
          "background_save": true
        },
        "id": "whINhySY4f-i",
        "outputId": "a153ab61-c765-40f1-c902-82099a9ee8ff"
      },
      "outputs": [
        {
          "name": "stderr",
          "output_type": "stream",
          "text": [
            "  0%|          | 0/359 [00:00<?, ?it/s]/usr/local/lib/python3.10/dist-packages/numpy/core/fromnumeric.py:3504: RuntimeWarning: Mean of empty slice.\n",
            "  return _methods._mean(a, axis=axis, dtype=dtype,\n",
            "/usr/local/lib/python3.10/dist-packages/numpy/core/_methods.py:129: RuntimeWarning: invalid value encountered in scalar divide\n",
            "  ret = ret.dtype.type(ret / rcount)\n",
            "New MFLES:8.138029292920004, Naive:9.13930537684544: 100%|██████████| 359/359 [51:14<00:00,  8.56s/it]"
          ]
        },
        {
          "name": "stdout",
          "output_type": "stream",
          "text": [
            "/b\n",
            "Stats Forecast MFLES 8.176053706408728\n",
            "ETS 8.636611002006651\n",
            "Naive 9.161286913982\n"
          ]
        },
        {
          "name": "stderr",
          "output_type": "stream",
          "text": [
            "\n"
          ]
        }
      ],
      "source": [
        "naive_smape = []\n",
        "mfles_smape = []\n",
        "ets_smape = []\n",
        "j = tqdm(range(len(train_df)))\n",
        "\n",
        "def smape(A, F):\n",
        "    return 100/len(A) * np.sum(2 * np.abs(F - A) / (np.abs(A) + np.abs(F)))\n",
        "\n",
        "for row in j:\n",
        "    y = train_df.iloc[row, :].dropna()\n",
        "    snaive = y.shift(1).dropna()\n",
        "    snaive = snaive.values\n",
        "    y_test = test_df.iloc[row, :].dropna().values\n",
        "    j.set_description(f'New MFLES:{np.mean(mfles_smape)}, Naive:{np.mean(naive_smape)}')\n",
        "    naive_smape.append(smape(y_test, np.tile(y.iloc[-1], len(y_test))))\n",
        "\n",
        "    mfles_model = AutoMFLES(\n",
        "         season_length = [52],\n",
        "         test_size = 26,\n",
        "         metric = 'smape')\n",
        "    mfles_model = mfles_model.fit(y=y.values)\n",
        "    fitted = mfles_model.predict_in_sample()['fitted']\n",
        "    predicted = mfles_model.predict(h=len(y_test), X=None)['mean']\n",
        "    mfles_smape.append(smape(y_test, predicted.clip(min=0)))\n",
        "\n",
        "    ets_model = AutoETS(season_length=52, model='ZZZ')\n",
        "    ets_model = ets_model.fit(y=y.values)\n",
        "    fitted = ets_model.predict_in_sample()['fitted']\n",
        "    predicted = ets_model.predict(h=len(y_test))['mean']\n",
        "    ets_smape.append(smape(y_test, predicted.clip(min=0)))\n",
        "print('/b')\n",
        "print(f'Stats Forecast MFLES {np.mean(mfles_smape)}')\n",
        "print(f'ETS {np.nanmean(ets_smape)}')\n",
        "print(f'Naive {np.mean(naive_smape)}')"
      ]
    },
    {
      "cell_type": "code",
      "execution_count": null,
      "metadata": {
        "colab": {
          "background_save": true
        },
        "id": "i7bekqwpw6Zn"
      },
      "outputs": [],
      "source": [
        "train_df = pd.read_csv('https://raw.githubusercontent.com/Mcompetitions/M4-methods/master/Dataset/Train/Quarterly-train.csv')\n",
        "test_df = pd.read_csv('https://raw.githubusercontent.com/Mcompetitions/M4-methods/master/Dataset/Test/Quarterly-test.csv')\n",
        "\n",
        "train_df.index = train_df['V1']\n",
        "train_df = train_df.drop('V1', axis = 1)\n",
        "test_df.index = test_df['V1']\n",
        "test_df = test_df.drop('V1', axis = 1)"
      ]
    },
    {
      "cell_type": "code",
      "execution_count": null,
      "metadata": {
        "colab": {
          "background_save": true
        },
        "id": "ZIiL_L_FQHI8",
        "outputId": "a81b7ca2-5914-4adb-e8cc-06d45f67fb01"
      },
      "outputs": [
        {
          "name": "stderr",
          "output_type": "stream",
          "text": [
            "  0%|          | 0/24000 [00:00<?, ?it/s]/usr/local/lib/python3.10/dist-packages/numpy/core/fromnumeric.py:3504: RuntimeWarning: Mean of empty slice.\n",
            "  return _methods._mean(a, axis=axis, dtype=dtype,\n",
            "/usr/local/lib/python3.10/dist-packages/numpy/core/_methods.py:129: RuntimeWarning: invalid value encountered in scalar divide\n",
            "  ret = ret.dtype.type(ret / rcount)\n",
            "New MFLES:10.72326902305219, Naive:11.610448045602293: 100%|██████████| 24000/24000 [2:04:37<00:00,  3.21it/s]\n"
          ]
        },
        {
          "name": "stdout",
          "output_type": "stream",
          "text": [
            "/b\n",
            "Stats Forecast MFLES 10.723247041785744\n",
            "ETS 10.245591381311593\n",
            "Naive 11.610267157878681\n"
          ]
        }
      ],
      "source": [
        "naive_smape = []\n",
        "mfles_smape = []\n",
        "ets_smape = []\n",
        "j = tqdm(range(len(train_df)))\n",
        "\n",
        "def smape(A, F):\n",
        "    return 100/len(A) * np.sum(2 * np.abs(F - A) / (np.abs(A) + np.abs(F)))\n",
        "\n",
        "for row in j:\n",
        "    y = train_df.iloc[row, :].dropna()\n",
        "    snaive = y.shift(1).dropna()\n",
        "    snaive = snaive.values\n",
        "    y_test = test_df.iloc[row, :].dropna().values\n",
        "    j.set_description(f'New MFLES:{np.mean(mfles_smape)}, Naive:{np.mean(naive_smape)}')\n",
        "    naive_smape.append(smape(y_test, np.tile(y.iloc[-1], len(y_test))))\n",
        "\n",
        "    mfles_model = AutoMFLES(\n",
        "        season_length = [4],\n",
        "        test_size = 4,\n",
        "        metric = 'smape')\n",
        "    mfles_model = mfles_model.fit(y=y.values)\n",
        "    fitted = mfles_model.predict_in_sample()['fitted']\n",
        "    predicted = mfles_model.predict(h=len(y_test), X=None)['mean']\n",
        "    mfles_smape.append(smape(y_test, predicted.clip(min=0)))\n",
        "\n",
        "    ets_model = AutoETS(season_length=4)\n",
        "    ets_model = ets_model.fit(y=y.values)\n",
        "    fitted = ets_model.predict_in_sample()['fitted']\n",
        "    predicted = ets_model.predict(h=len(y_test))['mean']\n",
        "    ets_smape.append(smape(y_test, predicted.clip(min=0)))\n",
        "\n",
        "print('/b')\n",
        "print(f'Stats Forecast MFLES {np.mean(mfles_smape)}')\n",
        "print(f'ETS {np.nanmean(ets_smape)}')\n",
        "print(f'Naive {np.mean(naive_smape)}')"
      ]
    },
    {
      "cell_type": "code",
      "execution_count": null,
      "metadata": {
        "colab": {
          "background_save": true
        },
        "id": "OrlK1BZzRmvG"
      },
      "outputs": [],
      "source": []
    }
  ],
  "metadata": {
    "colab": {
      "provenance": []
    },
    "kernelspec": {
      "display_name": "Python 3",
      "name": "python3"
    },
    "language_info": {
      "name": "python"
    }
  },
  "nbformat": 4,
  "nbformat_minor": 0
}