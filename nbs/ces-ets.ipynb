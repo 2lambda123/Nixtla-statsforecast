{
 "cells": [
  {
   "cell_type": "code",
   "execution_count": null,
   "id": "a904e363",
   "metadata": {},
   "outputs": [],
   "source": [
    "#| default_exp ets"
   ]
  },
  {
   "cell_type": "code",
   "execution_count": null,
   "id": "3ca8751b",
   "metadata": {},
   "outputs": [],
   "source": [
    "#| export\n",
    "import math\n",
    "import os\n",
    "import warnings\n",
    "from collections import namedtuple\n",
    "from typing import Tuple\n",
    "\n",
    "import numpy as np\n",
    "from numba import njit\n",
    "from statsmodels.tsa.seasonal import seasonal_decompose"
   ]
  },
  {
   "cell_type": "markdown",
   "id": "20b51c19-d8d8-4341-9d1a-b69dcb783d14",
   "metadata": {},
   "source": [
    "# ETS Model"
   ]
  },
  {
   "cell_type": "markdown",
   "id": "03e43d2e-6341-4efd-81d6-b4ee8cf268e4",
   "metadata": {},
   "source": [
    "## etscalc"
   ]
  },
  {
   "cell_type": "code",
   "execution_count": null,
   "id": "1b54e61d-3ddc-44c4-9b6e-6b3bd2aa3bd7",
   "metadata": {},
   "outputs": [],
   "source": [
    "#| export\n",
    "# Global variables \n",
    "NONE = 0\n",
    "SIMPLE = 1\n",
    "PARTIAL = 2\n",
    "FULL = 3\n",
    "TOL = 1.0e-10\n",
    "HUGEN = 1.0e10\n",
    "NA = -99999.0\n",
    "smalno = np.finfo(float).eps\n",
    "NOGIL = os.environ.get('NUMBA_RELEASE_GIL', 'False').lower() in ['true']\n",
    "CACHE = os.environ.get('NUMBA_CACHE', 'False').lower() in ['true']"
   ]
  },
  {
   "cell_type": "code",
   "execution_count": null,
   "id": "b45ce636-f541-4f8b-bb6d-b27a6586d65f",
   "metadata": {},
   "outputs": [],
   "source": [
    "#| exporti\n",
    "def initstate(y, m, seasontype):\n",
    "    n = len(y)\n",
    "    components = 2 + (seasontype == 'P') + 2 * (seasontype == 'F')\n",
    "    lags = 1 if seasontype == 'N' else m\n",
    "    states = np.zeros((lags, components), dtype=np.float32)\n",
    "    if seasontype == 'N':\n",
    "        idx = min(max(10, m), n)\n",
    "        mean_ = np.mean(y[:idx])\n",
    "        states[0, 0] = mean_\n",
    "        states[0, 1] = mean_ / 1.1\n",
    "    elif seasontype == 'S':\n",
    "        states[:lags, 0] = y[:lags]\n",
    "        states[:lags, 1] = y[:lags] / 1.1\n",
    "    elif seasontype == 'P':\n",
    "        states[:lags, 0] = np.mean(y[:lags])\n",
    "        states[:lags, 1] = states[:lags, 0] / 1.1\n",
    "        states[:lags, 2] = seasonal_decompose(y, period=lags).seasonal[:lags]\n",
    "    elif seasontype == 'F':\n",
    "        states[:lags, 0] = np.mean(y[:lags])\n",
    "        states[:lags, 1] = states[:lags, 0] / 1.1\n",
    "        states[:lags, 2] = seasonal_decompose(y, period=lags).seasonal[:lags]\n",
    "        states[:lags, 3] = states[:lags, 2] / 1.1\n",
    "    else:\n",
    "        raise Exception(f'Unkwon seasontype: {seasontype}')\n",
    "        \n",
    "    return states"
   ]
  },
  {
   "cell_type": "code",
   "execution_count": null,
   "id": "04033d29-19eb-4006-8886-79a701deaf8b",
   "metadata": {},
   "outputs": [
    {
     "data": {
      "text/plain": [
       "array([[126.666664 , 115.15151  , -24.748737 , -22.498852 ],\n",
       "       [126.666664 , 115.15151  , -36.18813  , -32.8983   ],\n",
       "       [126.666664 , 115.15151  ,  -2.2411616,  -2.0374196],\n",
       "       [126.666664 , 115.15151  ,  -8.036616 ,  -7.3060145],\n",
       "       [126.666664 , 115.15151  ,  -4.5063133,  -4.096648 ],\n",
       "       [126.666664 , 115.15151  ,  35.40278  ,  32.184345 ],\n",
       "       [126.666664 , 115.15151  ,  63.830807 ,  58.028004 ],\n",
       "       [126.666664 , 115.15151  ,  62.82323  ,  57.112026 ],\n",
       "       [126.666664 , 115.15151  ,  16.520203 ,  15.018366 ],\n",
       "       [126.666664 , 115.15151  , -20.642677 , -18.76607  ],\n",
       "       [126.666664 , 115.15151  , -53.593433 , -48.721302 ],\n",
       "       [126.666664 , 115.15151  , -28.61995  , -26.018135 ]],\n",
       "      dtype=float32)"
      ]
     },
     "execution_count": null,
     "metadata": {},
     "output_type": "execute_result"
    }
   ],
   "source": [
    "#| hide\n",
    "initstate(ap, 12, 'N')\n",
    "initstate(ap, 12, 'S')\n",
    "initstate(ap, 12, 'P')\n",
    "initstate(ap, 12, 'F')"
   ]
  },
  {
   "cell_type": "code",
   "execution_count": null,
   "id": "467c7ef6-267d-4d6a-9268-55a0c1ca24f6",
   "metadata": {},
   "outputs": [],
   "source": [
    "#| exporti\n",
    "@njit(nogil=NOGIL, cache=CACHE)\n",
    "def cescalc(y,\n",
    "            states, # states\n",
    "            m, \n",
    "            season, \n",
    "            alpha_0, alpha_1,\n",
    "            beta_0, beta_1, \n",
    "            e, amse, nmse,\n",
    "            backfit):\n",
    "    denom = np.zeros(nmse)\n",
    "    m = 1 if season == NONE else m\n",
    "    f = np.zeros(max(nmse, m))\n",
    "    lik = 0.\n",
    "    lik2 = 0.\n",
    "    amse[:nmse] = 0.\n",
    "    n = len(y)\n",
    "    for i in range(m, n + m):\n",
    "        # one step forecast \n",
    "        forecast(states, i, m, season, f, nmse, alpha_0, alpha_1, beta_0, beta_1)\n",
    "        if math.fabs(f[0] - NA) < TOL:\n",
    "            lik = NA\n",
    "            return lik\n",
    "        e[i - m] = y[i - m] - f[0]\n",
    "        for j in range(nmse):\n",
    "            if (i + j) < n:\n",
    "                denom[j] += 1.\n",
    "                tmp = y[i + j] - f[j]\n",
    "                amse[j] = (amse[j] * (denom[j] - 1.0) + (tmp * tmp)) / denom[j]\n",
    "        # update state\n",
    "        update(states, i, m, season, alpha_0, alpha_1, beta_0, beta_1, y[i - m])\n",
    "        lik = lik + e[i - m] * e[i - m]\n",
    "        lik2 += math.log(math.fabs(f[0]))\n",
    "    new_states = forecast(states, n + m, m, season, f, m, alpha_0, alpha_1, beta_0, beta_1)\n",
    "    states[-m:] = new_states[-m:]\n",
    "    lik = n * math.log(lik)\n",
    "    if not backfit:\n",
    "        return lik\n",
    "    else:\n",
    "        cescalc(y[::-1], states[::-1], m, season, alpha_0, alpha_1, beta_0, beta_1,\n",
    "                e[::-1], amse, nmse, False)\n",
    "        lik = cescalc(y, states, m, season, alpha_0, alpha_1, beta_0, beta_1,\n",
    "                      e, amse, nmse, False)\n",
    "        return lik"
   ]
  },
  {
   "cell_type": "code",
   "execution_count": null,
   "id": "e2d34a68-2641-4eeb-b025-17f07472bbdc",
   "metadata": {},
   "outputs": [],
   "source": [
    "#| exporti\n",
    "@njit(nogil=NOGIL, cache=CACHE)\n",
    "def forecast(states, i, \n",
    "             m, season, \n",
    "             f, h, \n",
    "             alpha_0, alpha_1, beta_0, beta_1):\n",
    "    # obs:\n",
    "    # forecast are obtained in a recursive manner\n",
    "    # this is not standard, for example in ets\n",
    "    #forecasts\n",
    "    new_states = np.zeros((m + h, states.shape[1]), dtype=np.float32)\n",
    "    new_states[:m] = states[(i - m):i]\n",
    "    for i_h in range(m, m + h):\n",
    "        if season in [NONE, PARTIAL, FULL]:\n",
    "            f[i_h - m] = new_states[i_h - 1, 0]\n",
    "        else:\n",
    "            f[i_h - m] = new_states[i_h - m, 0]\n",
    "        if season > SIMPLE:\n",
    "            f[i_h - m] += new_states[i_h - m, 2]\n",
    "        update(new_states, i_h, m, season, alpha_0, alpha_1, beta_0, beta_1, f[i_h - m])\n",
    "    return new_states"
   ]
  },
  {
   "cell_type": "code",
   "execution_count": null,
   "id": "5a88b4c7-fad0-489f-b7c3-eb0e6db34f12",
   "metadata": {},
   "outputs": [],
   "source": [
    "#| exporti\n",
    "@njit(nogil=NOGIL, cache=CACHE)\n",
    "def update(states, i,\n",
    "           m, \n",
    "           season, # kind of season \n",
    "           alpha_0, alpha_1,\n",
    "           beta_0, beta_1,\n",
    "           y):\n",
    "    # season\n",
    "    if season in [NONE, PARTIAL, FULL]:\n",
    "        e = y - states[i - 1, 0]\n",
    "    else:\n",
    "        e = y - states[i - m, 0]\n",
    "    if season > SIMPLE:\n",
    "        e -= states[i - m, 2]\n",
    "        \n",
    "    if season in [NONE, PARTIAL, FULL]:\n",
    "        states[i, 0] = states[i - 1, 0] - (1. - alpha_1) * states[i - 1, 1] + (alpha_0 - alpha_1) * e\n",
    "        states[i, 1] = states[i - 1, 0] + (1. - alpha_0) * states[i - 1, 1] + (alpha_0 + alpha_1) * e\n",
    "    else:\n",
    "        states[i, 0] = states[i - m, 0] - (1. - alpha_1) * states[i - m, 1] + (alpha_0 - alpha_1) * e\n",
    "        states[i, 1] = states[i - m, 0] + (1. - alpha_0) * states[i - m, 1] + (alpha_0 + alpha_1) * e\n",
    "    \n",
    "    if season == PARTIAL:\n",
    "        states[i, 2] = states[i - m, 2] + beta_0 * e\n",
    "    if season == FULL:\n",
    "        states[i, 2] = states[i - m, 2] - (1 - beta_1) * states[i - m, 3] + (beta_0 - beta_1) * e\n",
    "        states[i, 3] = states[i - m, 2] + (1 - beta_0) * states[i - m, 3] + (beta_0 + beta_1) * e"
   ]
  },
  {
   "cell_type": "code",
   "execution_count": null,
   "id": "6ff6588c-b9fd-4892-bf66-cac0ebe4a47c",
   "metadata": {},
   "outputs": [],
   "source": [
    "#| exporti\n",
    "@njit(nogil=NOGIL, cache=CACHE)\n",
    "def cesforecast(states, n, m, season, \n",
    "                f, h, alpha_0, alpha_1, beta_0, beta_1):\n",
    "    # compute forecasts\n",
    "    m = 1 if season == NONE else m\n",
    "    new_states = forecast(states=states, i=m + n, m=m, season=season, f=f, h=h, \n",
    "             alpha_0=alpha_0, alpha_1=alpha_1, \n",
    "             beta_0=beta_0, beta_1=beta_1) \n",
    "    return new_states"
   ]
  },
  {
   "cell_type": "code",
   "execution_count": null,
   "id": "350a6729-d69b-4529-ab00-9331d6e49353",
   "metadata": {},
   "outputs": [],
   "source": [
    "#| hide\n",
    "from statsforecast.utils import AirPassengers as ap"
   ]
  },
  {
   "cell_type": "code",
   "execution_count": null,
   "id": "2585519c-6c14-45d3-9b28-ac4ef984d55e",
   "metadata": {},
   "outputs": [],
   "source": [
    "#| hide\n",
    "#nonseasonal test\n",
    "nmse_ = len(ap)\n",
    "amse_ = np.zeros(30)\n",
    "e_ = np.zeros(len(ap))\n",
    "alpha_0 = 2.001457\n",
    "alpha_1 = 1.000727\n",
    "beta_0 = 0.\n",
    "beta_1 = 0.\n",
    "init_states_non_seas = np.zeros((2 + len(ap), 2), dtype=np.float32)\n",
    "init_states_non_seas[0] = initstate(ap, 12, 'N')\n",
    "cescalc(y=ap,\n",
    "        states=init_states_non_seas, m=12, \n",
    "        season=NONE, alpha_0=alpha_0, \n",
    "        alpha_1=alpha_1, beta_0=beta_0, \n",
    "        beta_1=beta_1,\n",
    "        e=e_, amse=amse_, nmse=3, \n",
    "        backfit=True)\n",
    "np.testing.assert_array_equal(\n",
    "    init_states_non_seas[[0, -2, -1]],\n",
    "    np.array([\n",
    "        [  112.06887, 1301.9882 ],\n",
    "        [  430.92154 , 2040.1951 ],\n",
    "        [  432.40475, -1612.2461 ]\n",
    "    ], dtype=np.float32)\n",
    ")"
   ]
  },
  {
   "cell_type": "code",
   "execution_count": null,
   "id": "824b94ea-e7f5-4553-8899-4e79cec735f3",
   "metadata": {},
   "outputs": [],
   "source": [
    "#| hide\n",
    "#nonseasonal forecast test\n",
    "h = 13\n",
    "fcsts = np.zeros(h, dtype=np.float32)\n",
    "cesforecast(states=init_states_non_seas, n=len(ap), m=12, \n",
    "            season=NONE, \n",
    "            f=fcsts, h=h, \n",
    "            alpha_0=alpha_0, alpha_1=alpha_1, \n",
    "            beta_0=beta_0, beta_1=beta_1)\n",
    "#taken from R using ces(AirPassengers, h=13)\n",
    "np.testing.assert_array_almost_equal(\n",
    "    fcsts,\n",
    "    np.array([\n",
    "        430.9211, 432.4049, 431.2324, 432.7212, 431.5439,\n",
    "        433.0376, 431.8556, 433.3543, 432.1675, 433.6712,\n",
    "        432.4796, 433.9884, 432.7920\n",
    "    ], dtype=np.float32), \n",
    "    decimal=2\n",
    ")"
   ]
  },
  {
   "cell_type": "code",
   "execution_count": null,
   "id": "634c5fe9-0f2a-4b38-b3c1-c544fb66b233",
   "metadata": {},
   "outputs": [],
   "source": [
    "#| hide\n",
    "#simple seasonal test\n",
    "nmse_ = len(ap)\n",
    "amse_ = np.zeros(30)\n",
    "lik_ = 0.\n",
    "e_ = np.zeros(len(ap))\n",
    "alpha_0 = 1.996411\n",
    "alpha_1 = 1.206694\n",
    "beta_0 = 0.\n",
    "beta_1 = 0.\n",
    "m = 12\n",
    "init_states_s_ses = np.zeros((12 * 2 + len(ap), 2), dtype=np.float32)\n",
    "init_states_s_ses[:m] = initstate(ap, m, 'S')\n",
    "cescalc(y=ap, \n",
    "        states=init_states_s_ses, m=12, \n",
    "        season=SIMPLE, alpha_0=alpha_0, \n",
    "        alpha_1=alpha_1, beta_0=beta_0, \n",
    "        beta_1=beta_1,\n",
    "        e=e_, amse=amse_, nmse=3, backfit=True)\n",
    "np.testing.assert_array_equal(\n",
    "    init_states_s_ses[[0, 11, 145, 143 + 12]],\n",
    "    np.array([\n",
    "        [130.49458 ,  36.591137],\n",
    "        [135.21922 , 121.62022 ],\n",
    "        [423.57788 , 252.81241 ],\n",
    "        [505.3621  ,  95.29781 ]\n",
    "    ], dtype=np.float32)\n",
    ")"
   ]
  },
  {
   "cell_type": "code",
   "execution_count": null,
   "id": "8f7b84c8-9fd7-4062-9f01-43c58f33dc86",
   "metadata": {},
   "outputs": [],
   "source": [
    "#| hide\n",
    "#simple seasonal forecast test\n",
    "h = 13\n",
    "fcsts = np.zeros(h, dtype=np.float32)\n",
    "cesforecast(states=init_states_s_ses, n=len(ap), m=12, \n",
    "            season=SIMPLE, \n",
    "            f=fcsts, h=h, \n",
    "            alpha_0=alpha_0, alpha_1=alpha_1, \n",
    "            beta_0=beta_0, beta_1=beta_1)\n",
    "#taken from R using ces(AirPassengers, h=13, seasonality = 'simple')\n",
    "np.testing.assert_array_almost_equal(\n",
    "    fcsts,\n",
    "    np.array([\n",
    "        446.2768, 423.5779, 481.4365, 514.7730, 533.5008,\n",
    "        589.0500, 688.2703, 674.5891, 580.9486, 516.0776,\n",
    "        449.7246, 505.3621, 507.9884\n",
    "    ], dtype=np.float32), \n",
    "    decimal=2\n",
    ")"
   ]
  },
  {
   "cell_type": "code",
   "execution_count": null,
   "id": "d05bf396-0522-4764-8eea-a9556a276a30",
   "metadata": {},
   "outputs": [],
   "source": [
    "#| hide\n",
    "#partial seasonal test\n",
    "nmse_ = len(ap)\n",
    "amse_ = np.zeros(30)\n",
    "lik_ = 0.\n",
    "e_ = np.zeros(len(ap))\n",
    "alpha_0 = 1.476837\n",
    "alpha_1 = 1.\n",
    "beta_0 = 0.91997\n",
    "beta_1 = 0.\n",
    "m = 12\n",
    "init_states_p_seas = np.zeros((12 + len(ap), 3), dtype=np.float32)\n",
    "init_states_p_seas[:m] = initstate(ap, m, 'P')\n",
    "cescalc(y=ap, \n",
    "        states=init_states_p_seas, m=12, \n",
    "        season=2, alpha_0=alpha_0, \n",
    "        alpha_1=alpha_1, beta_0=beta_0, \n",
    "        beta_1=beta_1,\n",
    "        e=e_, amse=amse_, nmse=3, backfit=True)\n",
    "np.testing.assert_array_equal(\n",
    "    init_states_p_seas[[0, 11, 145, 143 + 12]],\n",
    "    np.array([\n",
    "        [122.580666,  83.00358 ,  -9.710966],\n",
    "        [122.580666,  78.11936 ,  -4.655848],\n",
    "        [438.5037  , 300.70374 , -25.55726 ],\n",
    "        [438.5037  , 296.92316 ,  -7.581563]\n",
    "    ], dtype=np.float32)\n",
    ")"
   ]
  },
  {
   "cell_type": "code",
   "execution_count": null,
   "id": "4c35e3e9-cd14-4629-8a0c-08d69edead8c",
   "metadata": {},
   "outputs": [],
   "source": [
    "#| hide\n",
    "#partial seasonal forecast test\n",
    "h = 13\n",
    "fcsts = np.zeros(h, dtype=np.float32)\n",
    "cesforecast(states=init_states_p_seas, n=len(ap), m=12, \n",
    "            season=PARTIAL, \n",
    "            f=fcsts, h=h, \n",
    "            alpha_0=alpha_0, alpha_1=alpha_1, \n",
    "            beta_0=beta_0, beta_1=beta_1)\n",
    "#taken from R using ces(AirPassengers, h=13, seasonality = 'partial')\n",
    "np.testing.assert_array_almost_equal(\n",
    "    fcsts,\n",
    "    np.array([\n",
    "        437.6247, 412.9464, 445.5811, 498.5370, 493.0405, 550.7443, \n",
    "        629.2205, 607.1793, 512.3455, 462.1260, 383.4097, 430.9221, 437.6247\n",
    "    ], dtype=np.float32), \n",
    "    decimal=2\n",
    ")"
   ]
  },
  {
   "cell_type": "code",
   "execution_count": null,
   "id": "a308f669-f09c-46bb-834b-8d6d65cbdaf8",
   "metadata": {},
   "outputs": [],
   "source": [
    "#| hide\n",
    "#full seasonal test\n",
    "nmse_ = len(ap)\n",
    "amse_ = np.zeros(30)\n",
    "lik_ = 0.\n",
    "e_ = np.zeros(len(ap))\n",
    "alpha_0 = 1.350795\n",
    "alpha_1 = 1.009169\n",
    "beta_0 = 1.777909\n",
    "beta_1 = 0.973739\n",
    "m = 12\n",
    "init_states_f_seas = np.zeros((12 * 2 + len(ap), 4), dtype=np.float32)\n",
    "init_states_f_seas[:m] = initstate(ap, m, 'F')\n",
    "cescalc(y=ap,\n",
    "        states=init_states_f_seas, m=12, \n",
    "        season=3, alpha_0=alpha_0, \n",
    "        alpha_1=alpha_1, beta_0=beta_0, \n",
    "        beta_1=beta_1,\n",
    "        e=e_, amse=amse_, nmse=3, backfit=True)\n",
    "np.testing.assert_array_equal(\n",
    "    init_states_f_seas[[0, 11, 145, 143 + 12]],\n",
    "    np.array([\n",
    "        [ 227.74284 ,  167.7603  ,  -94.299805,  -39.623283],\n",
    "        [ 211.48921 ,  155.72342 ,  -91.62251 ,  -82.953064],\n",
    "        [ 533.1726  ,  372.95758 , -139.31824 , -125.856834],\n",
    "        [ 564.9041  ,  404.3251  , -130.9048  , -137.33    ]\n",
    "    ], dtype=np.float32)\n",
    ")"
   ]
  },
  {
   "cell_type": "code",
   "execution_count": null,
   "id": "6b51f747-2ea2-41c1-8484-52e258621800",
   "metadata": {},
   "outputs": [],
   "source": [
    "#| hide\n",
    "#full seasonal forecast test\n",
    "h = 13\n",
    "fcsts = np.zeros(h, dtype=np.float32)\n",
    "cesforecast(states=init_states_f_seas, n=len(ap), m=12, \n",
    "            season=FULL, \n",
    "            f=fcsts, h=h, \n",
    "            alpha_0=alpha_0, alpha_1=alpha_1, \n",
    "            beta_0=beta_0, beta_1=beta_1)\n",
    "#taken from R using ces(AirPassengers, h=13, seasonality = 'full')\n",
    "np.testing.assert_array_almost_equal(\n",
    "    fcsts,\n",
    "    np.array([\n",
    "        450.9262, 429.2925, 465.4771, 510.1799, 517.9913, 578.5654,\n",
    "        655.9219, 638.6218, 542.0985, 498.1064, 431.3293, 477.3273,\n",
    "        501.3757\n",
    "    ], dtype=np.float32), \n",
    "    decimal=2\n",
    ")"
   ]
  },
  {
   "cell_type": "code",
   "execution_count": null,
   "id": "f6474287-f630-436d-bbb8-bd15fdcbb384",
   "metadata": {},
   "outputs": [],
   "source": [
    "#| exporti\n",
    "@njit(nogil=NOGIL, cache=CACHE)\n",
    "def initparam(alpha_0: float, alpha_1: float, \n",
    "              beta_0: float, beta_1: float,\n",
    "              seasontype: str):\n",
    "    if np.isnan(alpha_0):\n",
    "        alpha_0 = 1.3\n",
    "    if np.isnan(alpha_1):\n",
    "        alpha_1 = 1.\n",
    "    if seasontype == 'P':\n",
    "        if np.isnan(beta_0):\n",
    "            beta_0 = 0.1\n",
    "    elif seasontype == 'F':\n",
    "        if np.isnan(beta_0):\n",
    "            beta_0 = 1.3\n",
    "        if np.isnan(beta_1):\n",
    "            beta_1 = 1.\n",
    "    return {'alpha_0': alpha_0, 'alpha_1': alpha_1, 'beta_0': beta_0, 'beta_1': beta_1}"
   ]
  },
  {
   "cell_type": "code",
   "execution_count": null,
   "id": "bb8c94cb-b18a-4249-abd0-aef01795ca37",
   "metadata": {},
   "outputs": [
    {
     "data": {
      "text/plain": [
       "DictType[unicode_type,float64]<iv=None>({alpha_0: 1.3, alpha_1: 1.0, beta_0: nan, beta_1: nan})"
      ]
     },
     "execution_count": null,
     "metadata": {},
     "output_type": "execute_result"
    }
   ],
   "source": [
    "#| hide\n",
    "initparam(alpha_0=np.nan, alpha_1=np.nan, \n",
    "          beta_0=np.nan, beta_1=np.nan, \n",
    "          seasontype='N')"
   ]
  },
  {
   "cell_type": "code",
   "execution_count": null,
   "id": "ca89edd3-1d38-4a8d-b931-cde5b8f192d8",
   "metadata": {},
   "outputs": [],
   "source": [
    "#| exporti\n",
    "@njit(nogil=NOGIL, cache=CACHE)\n",
    "def switch(x: str):\n",
    "    return {'N': 0, 'S': 1, 'P': 2, 'F': 3}[x]"
   ]
  },
  {
   "cell_type": "code",
   "execution_count": null,
   "id": "a3f204a3-15e4-4d37-a571-824f6855c9bd",
   "metadata": {},
   "outputs": [
    {
     "data": {
      "text/plain": [
       "0"
      ]
     },
     "execution_count": null,
     "metadata": {},
     "output_type": "execute_result"
    }
   ],
   "source": [
    "#| hide\n",
    "switch('N')"
   ]
  },
  {
   "cell_type": "code",
   "execution_count": null,
   "id": "ad1e5d88-c650-4780-9926-41b58cf2710b",
   "metadata": {},
   "outputs": [],
   "source": [
    "#| exporti\n",
    "@njit(nogil=NOGIL, cache=CACHE)\n",
    "def pegelsresid_C(y: np.ndarray, \n",
    "                  m: int, \n",
    "                  init_states: np.ndarray, \n",
    "                  n_components: int,\n",
    "                  seasontype: str, \n",
    "                  alpha_0: float, alpha_1: float,\n",
    "                  beta_0: float, beta_1: float, \n",
    "                  nmse: int):\n",
    "    n = len(y)\n",
    "    states = np.full((len(y) + 2 * m, n_components), fill_value=np.nan)\n",
    "    states[:m] = init_states\n",
    "    e = np.full_like(y, fill_value=np.nan)\n",
    "    amse = np.full(nmse, fill_value=np.nan)\n",
    "    lik = cescalc(y=y, states=states, m=m, \n",
    "                  season=switch(seasontype), \n",
    "                  alpha_0=alpha_0, alpha_1=alpha_1, \n",
    "                  beta_0=beta_0, beta_1=beta_1, e=e, \n",
    "                  amse=amse, nmse=nmse, backfit=True)\n",
    "    if not np.isnan(lik):\n",
    "        if np.abs(lik + 99999) < 1e-7:\n",
    "            lik = np.nan\n",
    "    return amse, e, states, lik"
   ]
  },
  {
   "cell_type": "code",
   "execution_count": null,
   "id": "6ffc4052-c1d0-4350-a55d-1482c164907c",
   "metadata": {},
   "outputs": [],
   "source": [
    "#| export\n",
    "@njit(nogil=NOGIL, cache=CACHE)\n",
    "def ces_target_fn(\n",
    "        par,\n",
    "        y,\n",
    "        m,\n",
    "        init_states, \n",
    "        n_components, \n",
    "        seasontype,\n",
    "        nmse\n",
    "    ):\n",
    "    states = np.full((len(y) + 2 * m, n_components), fill_value=np.nan)\n",
    "    states[:m] = init_states\n",
    "    alpha_0, alpha_1, beta_0, beta_1 = par \n",
    "    e = np.full_like(y, fill_value=np.nan)\n",
    "    amse = np.full(nmse, fill_value=np.nan)\n",
    "    lik = cescalc(y=y, states=states, m=m, \n",
    "                  season=switch(seasontype), \n",
    "                  alpha_0=alpha_0, alpha_1=alpha_1, \n",
    "                  beta_0=beta_0, beta_1=beta_1, e=e, \n",
    "                  amse=amse, nmse=nmse, backfit=True)\n",
    "    if lik < -1e10: \n",
    "        lik = -1e10 \n",
    "    if math.isnan(lik): \n",
    "        lik = -np.inf\n",
    "    if math.fabs(lik + 99999) < 1e-7: \n",
    "        lik = -np.inf\n",
    "    return lik"
   ]
  },
  {
   "cell_type": "code",
   "execution_count": null,
   "id": "f2b5dc4d-629c-474b-9a1d-6ce4c10d9153",
   "metadata": {},
   "outputs": [],
   "source": [
    "from scipy.optimize import minimize\n",
    "from statsforecast.ets import nelder_mead"
   ]
  },
  {
   "cell_type": "code",
   "execution_count": null,
   "id": "cbae7024-fdc9-4782-86a6-41dbe15447af",
   "metadata": {},
   "outputs": [],
   "source": [
    "#| exporti\n",
    "def optimize_ces_target_fn(\n",
    "        x0, par, y, m, init_states,\n",
    "        n_components, seasontype, nmse\n",
    "    ):\n",
    "    res = minimize(\n",
    "        ces_target_fn, x0, \n",
    "        args=(y, m, init_states, n_components, seasontype, nmse),\n",
    "        method='Nelder-Mead', \n",
    "        options={'maxiter': 100}\n",
    "    )\n",
    "    return res"
   ]
  },
  {
   "cell_type": "code",
   "execution_count": null,
   "id": "abeda6c0-0d4f-44e3-97cf-2c0ac62a58b8",
   "metadata": {},
   "outputs": [],
   "source": [
    "#| exporti\n",
    "def cesmodel(y: np.ndarray, m: int, \n",
    "             seasontype: str, \n",
    "             alpha_0: float, alpha_1: float,\n",
    "             beta_0: float, beta_1: float, nmse: int):\n",
    "    if seasontype == 'N':\n",
    "        m = 1\n",
    "    par_ = initparam(alpha_0, alpha_1, beta_1, beta_0, seasontype)\n",
    "    init_state = initstate(y, m, seasontype)\n",
    "    n_components = init_state.shape[1]\n",
    "    par = np.full(len(par_), fill_value=np.nan)\n",
    "    par[:len(par_)] = list(par_.values())\n",
    "    fred = optimize_ces_target_fn(\n",
    "        x0=par, par=par, y=y, m=m, init_states=init_state, \n",
    "        n_components=n_components, seasontype=seasontype, nmse=nmse\n",
    "    )\n",
    "    fit_par = fred.x\n",
    "    alpha_0, alpha_1, beta_1, beta_0 = fit_par\n",
    "    \n",
    "    amse, e, states, lik = pegelsresid_C(\n",
    "        y=y, m=m, init_states=init_state, \n",
    "        n_components=n_components, seasontype=seasontype,\n",
    "        alpha_0=alpha_0, alpha_1=alpha_1, beta_1=beta_1, \n",
    "        beta_0=beta_0, nmse=nmse\n",
    "    )\n",
    "    np_ = n_components + 1\n",
    "    ny = len(y)\n",
    "    aic = lik + 2 * np_\n",
    "    bic = lik + np.log(ny) * np_\n",
    "    if ny - np_ - 1 != 0.:\n",
    "        aicc = aic + 2 * np_ * (np_ + 1) / (ny - np_ - 1)\n",
    "    else:\n",
    "        aicc = np.inf\n",
    "    \n",
    "    mse = amse[0]\n",
    "    amse = np.mean(amse)\n",
    "    \n",
    "    return dict(loglik=-0.5 * lik, aic=aic, bic=bic, aicc=aicc,\n",
    "                mse=mse, amse=amse, fit=fred, residuals=e,\n",
    "                m=m, states=states, par=fit_par, n=len(y), \n",
    "                seasontype=seasontype)"
   ]
  },
  {
   "cell_type": "code",
   "execution_count": null,
   "id": "f5888b12-3a1d-47aa-bff5-df4071ddcbe7",
   "metadata": {},
   "outputs": [],
   "source": [
    "#| hide\n",
    "res = cesmodel(\n",
    "    y=ap, m=12, seasontype='N',\n",
    "    alpha_0=np.nan,\n",
    "    alpha_1=np.nan,\n",
    "    beta_0=np.nan, \n",
    "    beta_1=np.nan,\n",
    "    nmse=3\n",
    ")"
   ]
  },
  {
   "cell_type": "code",
   "execution_count": null,
   "id": "4a79af59-5c27-4f01-8ff9-ec13762bcc57",
   "metadata": {},
   "outputs": [],
   "source": [
    "#| exporti\n",
    "def pegelsfcast_C(h, obj, npaths=None, level=None, bootstrap=None):\n",
    "    forecast = np.full(h, fill_value=np.nan)\n",
    "    m = obj['m']\n",
    "    n = obj['n']\n",
    "    states = obj['states']\n",
    "    alpha_0, alpha_1, beta_0, beta_1 = obj['par']\n",
    "    cesforecast(states=states, n=n, m=m, season=switch(obj['seasontype']), \n",
    "                h=h, f=forecast, alpha_0=alpha_0, alpha_1=alpha_1,\n",
    "                beta_0=beta_0, beta_1=beta_1)\n",
    "    return forecast"
   ]
  },
  {
   "cell_type": "code",
   "execution_count": null,
   "id": "3b171989-ccab-4de3-96ed-3b00f587ec83",
   "metadata": {},
   "outputs": [],
   "source": [
    "#| exporti\n",
    "def forecast_ces(obj, h):\n",
    "    fcst = pegelsfcast_C(h, obj)\n",
    "    out = {'mean': fcst}\n",
    "    return out"
   ]
  },
  {
   "cell_type": "code",
   "execution_count": null,
   "id": "e5540780-def2-4488-8ca0-1fe1a637db41",
   "metadata": {},
   "outputs": [
    {
     "data": {
      "text/plain": [
       "{'mean': array([427.86404419, 432.66995239, 427.80032349, 432.75442505,\n",
       "        427.73434448, 432.84121704, 427.66601562, 432.93035889,\n",
       "        427.59527588, 433.02194214, 427.52203369, 433.11605835])}"
      ]
     },
     "execution_count": null,
     "metadata": {},
     "output_type": "execute_result"
    }
   ],
   "source": [
    "forecast_ces(res, 12)"
   ]
  },
  {
   "cell_type": "code",
   "execution_count": null,
   "id": "ebf2f7fe-58b7-4a13-8661-81136cb14a74",
   "metadata": {},
   "outputs": [],
   "source": [
    "#| exporti\n",
    "def auto_ces(y, m, model='Z', \n",
    "             alpha_0=None, alpha_1=None, \n",
    "             beta_0=None, beta_1=None,\n",
    "             opt_crit='lik', nmse=3, \n",
    "             ic='aicc'):\n",
    "    # converting params to floats \n",
    "    # to improve numba compilation\n",
    "    if alpha_0 is None:\n",
    "        alpha_0 = np.nan\n",
    "    if alpha_1 is None:\n",
    "        alpha_1 = np.nan\n",
    "    if beta_0 is None:\n",
    "        beta_0 = np.nan\n",
    "    if beta_1 is None:\n",
    "        beta_1 = np.nan\n",
    "    if nmse < 1 or nmse > 30:\n",
    "        raise ValueError('nmse out of range')\n",
    "    #refit model not implement yet\n",
    "    if model not in ['Z', 'N', 'S', 'P', 'F']:\n",
    "        raise ValueError('Invalid model type')\n",
    "\n",
    "    seasontype = model\n",
    "    if m < 1 or len(y) <= m:\n",
    "        seasontype = 'N'\n",
    "    n = len(y)\n",
    "    npars = 2 \n",
    "    if seasontype == 'P':\n",
    "        npars += 1 \n",
    "    if seasontype  in ['F', 'Z']:\n",
    "        npars += 2 \n",
    "    #ses for non-optimized tiny datasets\n",
    "    if n <= npars + 4:\n",
    "        #we need HoltWintersZZ function\n",
    "        raise NotImplementedError('tiny datasets')\n",
    "    if seasontype == 'Z':\n",
    "        seasontype = ['N', 'S', 'P', 'F']\n",
    "    best_ic = np.inf\n",
    "    for stype in seasontype:\n",
    "        fit = cesmodel(y=y, m=m, seasontype=stype,\n",
    "                       alpha_0=alpha_0, alpha_1=alpha_1,\n",
    "                       beta_0=beta_0, beta_1=beta_1, nmse=nmse)\n",
    "        fit_ic = fit[ic]\n",
    "        if not np.isnan(fit_ic):\n",
    "            if fit_ic < best_ic:\n",
    "                model = fit\n",
    "                best_ic = fit_ic\n",
    "                best_s = stype\n",
    "    if np.isinf(best_ic):\n",
    "        raise Exception('no model able to be fitted')\n",
    "    model['seasontype'] = stype\n",
    "    return model"
   ]
  },
  {
   "cell_type": "code",
   "execution_count": null,
   "id": "26de8163-9c0d-4489-ab8b-2a9a21ce0e6f",
   "metadata": {},
   "outputs": [
    {
     "data": {
      "text/plain": [
       "[<matplotlib.lines.Line2D>]"
      ]
     },
     "execution_count": null,
     "metadata": {},
     "output_type": "execute_result"
    },
    {
     "data": {
      "image/png": "[encoded data removed]",
      "text/plain": [
       "<Figure size 432x288 with 1 Axes>"
      ]
     },
     "metadata": {
      "needs_background": "light"
     },
     "output_type": "display_data"
    }
   ],
   "source": [
    "#| hide\n",
    "import matplotlib.pyplot as plt\n",
    "res = auto_ces(ap, m=12, model='Z')\n",
    "fcst = forecast_ces(res, 12)\n",
    "plt.plot(np.arange(0, len(ap)), ap)\n",
    "plt.plot(np.arange(len(ap), len(ap) + 12), fcst['mean'])"
   ]
  }
 ],
 "metadata": {
  "kernelspec": {
   "display_name": "Python 3 (ipykernel)",
   "language": "python",
   "name": "python3"
  }
 },
 "nbformat": 4,
 "nbformat_minor": 5
}
