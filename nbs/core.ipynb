{
 "cells": [
  {
   "cell_type": "code",
   "execution_count": 1,
   "id": "524620c1",
   "metadata": {},
   "outputs": [],
   "source": [
    "#default_exp core"
   ]
  },
  {
   "cell_type": "code",
   "execution_count": 2,
   "id": "15392f6f",
   "metadata": {},
   "outputs": [],
   "source": [
    "#hide\n",
    "%load_ext autoreload\n",
    "%autoreload 2"
   ]
  },
  {
   "cell_type": "markdown",
   "id": "12fa25a4",
   "metadata": {},
   "source": [
    "# Core"
   ]
  },
  {
   "cell_type": "code",
   "execution_count": 3,
   "id": "02ce0ed1-3b26-478e-8f74-3419adbbdc6b",
   "metadata": {},
   "outputs": [],
   "source": [
    "#hide\n",
    "import warnings\n",
    "warnings.filterwarnings('ignore', category=FutureWarning)"
   ]
  },
  {
   "cell_type": "code",
   "execution_count": 57,
   "id": "bc16100a",
   "metadata": {},
   "outputs": [],
   "source": [
    "#export\n",
    "import inspect\n",
    "import logging\n",
    "from concurrent.futures import ProcessPoolExecutor\n",
    "from functools import partial\n",
    "\n",
    "import numpy as np\n",
    "import pandas as pd\n",
    "from tqdm import notebook"
   ]
  },
  {
   "cell_type": "code",
   "execution_count": 58,
   "id": "6d8d5b82-2be9-41f5-8cd0-3903d0761e09",
   "metadata": {},
   "outputs": [],
   "source": [
    "#exporti\n",
    "logging.basicConfig(\n",
    "    format='%(asctime)s %(name)s %(levelname)s: %(message)s',\n",
    "    datefmt='%Y-%m-%d %H:%M:%S',\n",
    ")\n",
    "logger = logging.getLogger(__name__)"
   ]
  },
  {
   "cell_type": "code",
   "execution_count": 59,
   "id": "353aca25-18cd-401a-b6af-007a9aec8047",
   "metadata": {},
   "outputs": [],
   "source": [
    "#hide\n",
    "logger.setLevel(logging.ERROR)"
   ]
  },
  {
   "cell_type": "code",
   "execution_count": 60,
   "id": "d1f64258",
   "metadata": {},
   "outputs": [],
   "source": [
    "from fastcore.test import test_eq\n",
    "\n",
    "from statsforecast.models import (\n",
    "    adida,\n",
    "    auto_arima,\n",
    "    croston_classic,\n",
    "    croston_optimized,\n",
    "    croston_sba,\n",
    "    historic_average,\n",
    "    imapa,\n",
    "    naive,\n",
    "    random_walk_with_drift,\n",
    "    seasonal_exponential_smoothing,\n",
    "    seasonal_naive,\n",
    "    seasonal_window_average,\n",
    "    ses,\n",
    "    tsb,\n",
    "    window_average,\n",
    ")\n",
    "from statsforecast.utils import generate_series"
   ]
  },
  {
   "cell_type": "code",
   "execution_count": 189,
   "id": "8792a05a",
   "metadata": {},
   "outputs": [],
   "source": [
    "#exporti\n",
    "class GroupedArray:\n",
    "    \n",
    "    def __init__(self, data, indptr, pid=0):\n",
    "        self.data = data\n",
    "        self.indptr = indptr\n",
    "        self.n_groups = self.indptr.size - 1\n",
    "        self.pid = pid\n",
    "        \n",
    "    def __getitem__(self, idx):\n",
    "        if isinstance(idx, int):\n",
    "            return self.data[self.indptr[idx] : self.indptr[idx + 1]]\n",
    "        elif isinstance(idx, slice):\n",
    "            idx = slice(idx.start, idx.stop + 1, idx.step)\n",
    "            new_indptr = self.indptr[idx].copy()\n",
    "            new_data = self.data[new_indptr[0] : new_indptr[-1]].copy()            \n",
    "            new_indptr -= new_indptr[0]\n",
    "            return new_data, new_indptr\n",
    "        raise ValueError(f'idx must be either int or slice, got {type(idx)}')\n",
    "    \n",
    "    def __len__(self):\n",
    "        return self.n_groups\n",
    "    \n",
    "    def __repr__(self):\n",
    "        return f'GroupedArray(n_data={self.data.size:,}, n_groups={self.n_groups:,})'\n",
    "    \n",
    "    def __eq__(self, other):\n",
    "        if not hasattr(other, 'data') or not hasattr(other, 'indptr'):\n",
    "            return False\n",
    "        return np.allclose(self.data, other.data) and np.array_equal(self.indptr, other.indptr)\n",
    "    \n",
    "    def compute_forecasts(self, h, func, xreg=None, level=None, *args):\n",
    "        has_level = 'level' in inspect.signature(func).parameters and level is not None\n",
    "        if has_level:\n",
    "            out = np.full((h * self.n_groups, 2 * len(level) + 1), np.nan, dtype=np.float32)\n",
    "            func = partial(func, level=level)\n",
    "        else:\n",
    "            out = np.full(h * self.n_groups, np.nan, dtype=np.float32)\n",
    "        xr = None\n",
    "        keys = None\n",
    "        tqdm_text = \"Process #\" + f\"{self.pid}\".zfill(3) + f\"{func.__name__}\".center(70, '-')\n",
    "        print(' ', end='', flush=True)\n",
    "        with notebook.tqdm(total=len(self), desc=tqdm_text, position=self.pid+1) as pbar:\n",
    "            for i, grp in enumerate(self):\n",
    "                if xreg is not None:\n",
    "                    xr = xreg[i]\n",
    "                res = func(grp, h, xr, *args)                \n",
    "                if has_level:\n",
    "                    if keys is None:\n",
    "                        keys = list(res.keys())\n",
    "                    for j, key in enumerate(keys):\n",
    "                        out[h * i : h * (i + 1), j] = res[key]\n",
    "                else:\n",
    "                    out[h * i : h * (i + 1)] = res\n",
    "                pbar.update(1)\n",
    "        return out, keys\n",
    "\n",
    "    def split(self, n_chunks):\n",
    "        return [GroupedArray(*self[x[0] : x[-1] + 1], pid) for pid, x in enumerate(np.array_split(range(self.n_groups), n_chunks)) if x.size]"
   ]
  },
  {
   "cell_type": "code",
   "execution_count": 190,
   "id": "822cacd0",
   "metadata": {},
   "outputs": [
    {
     "name": "stdout",
     "output_type": "stream",
     "text": [
      " "
     ]
    },
    {
     "data": {
      "application/vnd.jupyter.widget-view+json": {
       "model_id": "e566e85618b44377acc3b76794c78c2a",
       "version_major": 2,
       "version_minor": 0
      },
      "text/plain": [
       "Process #000--------------------------------naive---------------------------------:   0%|          | 0/3 [00:0…"
      ]
     },
     "metadata": {},
     "output_type": "display_data"
    }
   ],
   "source": [
    "#hide\n",
    "data = np.arange(12)\n",
    "indptr = np.array([0, 4, 8, 12])\n",
    "ga = GroupedArray(data, indptr)\n",
    "\n",
    "test_eq(len(ga), 3)\n",
    "np.testing.assert_equal(\n",
    "    ga.compute_forecasts(2, naive)[0],\n",
    "    np.hstack([2 * [data[i]] for i in indptr[1:] - 1]),\n",
    ")\n",
    "splits = ga.split(2)\n",
    "test_eq(splits[0], GroupedArray(data[:8], indptr[:3]))\n",
    "test_eq(splits[1], GroupedArray(data[8:], np.array([0, 4])))"
   ]
  },
  {
   "cell_type": "code",
   "execution_count": 191,
   "id": "0b63f598",
   "metadata": {},
   "outputs": [],
   "source": [
    "#exporti\n",
    "def _grouped_array_from_df(df):\n",
    "    df = df.set_index('ds', append=True)\n",
    "    if not df.index.is_monotonic_increasing:\n",
    "        df = df.sort_index()\n",
    "    data = df.values.astype(np.float32)\n",
    "    indices_sizes = df.index.get_level_values('unique_id').value_counts(sort=False)\n",
    "    indices = indices_sizes.index\n",
    "    sizes = indices_sizes.values\n",
    "    cum_sizes = sizes.cumsum()\n",
    "    dates = df.index.get_level_values('ds')[cum_sizes - 1]\n",
    "    indptr = np.append(0, cum_sizes).astype(np.int32)\n",
    "    return GroupedArray(data, indptr), indices, dates"
   ]
  },
  {
   "cell_type": "code",
   "execution_count": 192,
   "id": "d450cde4",
   "metadata": {},
   "outputs": [],
   "source": [
    "#hide\n",
    "series = generate_series(10_000, n_static_features=2, equal_ends=False)\n",
    "sorted_series = series.sort_values(['unique_id', 'ds'])\n",
    "unsorted_series = sorted_series.sample(frac=1.0)\n",
    "ga, indices, dates = _grouped_array_from_df(unsorted_series)\n",
    "\n",
    "np.testing.assert_allclose(ga.data, sorted_series.drop(columns='ds').values)\n",
    "test_eq(indices, sorted_series.index.unique(level='unique_id'))\n",
    "test_eq(dates, series.groupby('unique_id')['ds'].max().values)"
   ]
  },
  {
   "cell_type": "code",
   "execution_count": 193,
   "id": "7aafa169",
   "metadata": {},
   "outputs": [],
   "source": [
    "#exporti\n",
    "def _build_forecast_name(model, *args) -> str:\n",
    "    model_name = f'{model.__name__}'\n",
    "    func_params = inspect.signature(model).parameters\n",
    "    func_args = list(func_params.items())[3:]  # remove input array, horizon and xreg\n",
    "    changed_params = [\n",
    "        f'{name}-{value}'\n",
    "        for value, (name, arg) in zip(args, func_args)\n",
    "        if arg.default != value\n",
    "    ]\n",
    "    if changed_params:\n",
    "        model_name += '_' + '_'.join(changed_params)\n",
    "    return model_name"
   ]
  },
  {
   "cell_type": "code",
   "execution_count": 194,
   "id": "4ff8cd1d",
   "metadata": {},
   "outputs": [],
   "source": [
    "#hide\n",
    "test_eq(_build_forecast_name(ses, 0.1), 'ses_alpha-0.1')\n",
    "test_eq(_build_forecast_name(seasonal_window_average, 7, 4), 'seasonal_window_average_season_length-7_window_size-4')"
   ]
  },
  {
   "cell_type": "code",
   "execution_count": 195,
   "id": "b8ba3f8d",
   "metadata": {},
   "outputs": [],
   "source": [
    "#exporti\n",
    "def _as_tuple(x):\n",
    "    if isinstance(x, tuple):\n",
    "        return x\n",
    "    return (x,)"
   ]
  },
  {
   "cell_type": "code",
   "execution_count": 196,
   "id": "abd2b41f",
   "metadata": {},
   "outputs": [],
   "source": [
    "#hide\n",
    "test_eq(_as_tuple((1,)), (1,))\n",
    "test_eq(_as_tuple(1), (1,))"
   ]
  },
  {
   "cell_type": "code",
   "execution_count": 197,
   "id": "55e7021a",
   "metadata": {},
   "outputs": [],
   "source": [
    "#export\n",
    "class StatsForecast:\n",
    "    \n",
    "    def __init__(self, df, models, freq, n_jobs=1):\n",
    "        self.ga, self.uids, self.last_dates = _grouped_array_from_df(df)\n",
    "        self.models = models\n",
    "        self.freq = pd.tseries.frequencies.to_offset(freq)\n",
    "        self.n_jobs = n_jobs\n",
    "        \n",
    "    def forecast(self, h, xreg=None, level=None):\n",
    "        if xreg is not None:\n",
    "            expected_shape = (h * len(self.ga), self.ga.data.shape[1])\n",
    "            if xreg.shape != expected_shape:\n",
    "                raise ValueError(f'Expected xreg to have shape {expected_shape}, but got {xreg.shape}')\n",
    "            xreg, _, _ = _grouped_array_from_df(xreg)\n",
    "        if self.n_jobs == 1:\n",
    "            fcsts = self._sequential_forecast(h, xreg, level)\n",
    "        else:\n",
    "            fcsts = self._data_parallel_forecast(h, xreg, level)\n",
    "        if issubclass(self.last_dates.dtype.type, np.integer):\n",
    "            dates = np.hstack([\n",
    "                np.arange(last_date + 1, last_date + 1 + h, dtype=self.last_dates.dtype)\n",
    "                for last_date in self.last_dates            \n",
    "            ])\n",
    "        else:\n",
    "            dates = np.hstack([\n",
    "                pd.date_range(last_date + self.freq, periods=h, freq=self.freq)\n",
    "                for last_date in self.last_dates            \n",
    "            ])\n",
    "        idx = pd.Index(np.repeat(self.uids, h), name='unique_id')\n",
    "        return pd.DataFrame({'ds': dates, **fcsts}, index=idx)\n",
    "        \n",
    "    def _sequential_forecast(self, h, xreg, level):\n",
    "        fcsts = {}\n",
    "        logger.info('Computing forecasts')\n",
    "        for model_args in self.models:\n",
    "            model, *args = _as_tuple(model_args)\n",
    "            model_name = _build_forecast_name(model, *args)\n",
    "            values, keys = self.ga.compute_forecasts(h, model, xreg, level, *args)\n",
    "            if keys is not None:\n",
    "                for j, key in enumerate(keys):\n",
    "                    fcsts[f'{model_name}_{key}'] = values[:, j]\n",
    "            else:\n",
    "                fcsts[model_name] = values\n",
    "            logger.info(f'Computed forecasts for {model_name}.')\n",
    "        return fcsts\n",
    "    \n",
    "    def _data_parallel_forecast(self, h, xreg, level):\n",
    "        fcsts = {}\n",
    "        logger.info('Computing forecasts')\n",
    "        gas = self.ga.split(self.n_jobs)\n",
    "        if xreg is not None:\n",
    "            xregs = xreg.split(self.n_jobs)\n",
    "        else:\n",
    "            from itertools import repeat\n",
    "            \n",
    "            xregs = repeat(None)\n",
    "        with ProcessPoolExecutor(self.n_jobs) as executor:\n",
    "            for model_args in self.models:\n",
    "                model, *args = _as_tuple(model_args)\n",
    "                model_name = _build_forecast_name(model, *args)\n",
    "                futures = []\n",
    "                for ga, xr in zip(gas, xregs):\n",
    "                    future = executor.submit(ga.compute_forecasts, h, model, xr, level, *args)\n",
    "                    futures.append(future)\n",
    "                values, keys = list(zip(*[f.result() for f in futures]))\n",
    "                keys = keys[0]\n",
    "                if keys is not None:\n",
    "                    values = np.vstack(values)\n",
    "                    for j, key in enumerate(keys):\n",
    "                        fcsts[f'{model_name}_{key}'] = values[:, j]\n",
    "                else:\n",
    "                    values = np.hstack(values)\n",
    "                    fcsts[model_name] = values\n",
    "                logger.info(f'Computed forecasts for {model_name}.')\n",
    "        return fcsts"
   ]
  },
  {
   "cell_type": "markdown",
   "id": "6db0ab81",
   "metadata": {
    "tags": []
   },
   "source": [
    "## Daily data"
   ]
  },
  {
   "cell_type": "code",
   "execution_count": 198,
   "id": "add1a6f5",
   "metadata": {},
   "outputs": [
    {
     "name": "stdout",
     "output_type": "stream",
     "text": [
      " "
     ]
    },
    {
     "data": {
      "application/vnd.jupyter.widget-view+json": {
       "model_id": "6fafe467a5ee40b890a98005701340e8",
       "version_major": 2,
       "version_minor": 0
      },
      "text/plain": [
       "Process #000--------------------------------adida---------------------------------:   0%|          | 0/10000 […"
      ]
     },
     "metadata": {},
     "output_type": "display_data"
    },
    {
     "name": "stdout",
     "output_type": "stream",
     "text": [
      " "
     ]
    },
    {
     "data": {
      "application/vnd.jupyter.widget-view+json": {
       "model_id": "9af80bfcd4744971b7193103e3193ef3",
       "version_major": 2,
       "version_minor": 0
      },
      "text/plain": [
       "Process #000---------------------------croston_classic----------------------------:   0%|          | 0/10000 […"
      ]
     },
     "metadata": {},
     "output_type": "display_data"
    },
    {
     "name": "stdout",
     "output_type": "stream",
     "text": [
      " "
     ]
    },
    {
     "data": {
      "application/vnd.jupyter.widget-view+json": {
       "model_id": "66e62119d60946a999d3fb92d060fb4a",
       "version_major": 2,
       "version_minor": 0
      },
      "text/plain": [
       "Process #000--------------------------croston_optimized---------------------------:   0%|          | 0/10000 […"
      ]
     },
     "metadata": {},
     "output_type": "display_data"
    },
    {
     "name": "stdout",
     "output_type": "stream",
     "text": [
      " "
     ]
    },
    {
     "data": {
      "application/vnd.jupyter.widget-view+json": {
       "model_id": "891a4900afd64fb4825ebd2132c24b33",
       "version_major": 2,
       "version_minor": 0
      },
      "text/plain": [
       "Process #000-----------------------------croston_sba------------------------------:   0%|          | 0/10000 […"
      ]
     },
     "metadata": {},
     "output_type": "display_data"
    },
    {
     "name": "stdout",
     "output_type": "stream",
     "text": [
      " "
     ]
    },
    {
     "data": {
      "application/vnd.jupyter.widget-view+json": {
       "model_id": "aff1974a34b94f82aee035f5df404f75",
       "version_major": 2,
       "version_minor": 0
      },
      "text/plain": [
       "Process #000---------------------------historic_average---------------------------:   0%|          | 0/10000 […"
      ]
     },
     "metadata": {},
     "output_type": "display_data"
    },
    {
     "name": "stdout",
     "output_type": "stream",
     "text": [
      " "
     ]
    },
    {
     "data": {
      "application/vnd.jupyter.widget-view+json": {
       "model_id": "fa161ede007c4086abc2d2a7cc83dbfa",
       "version_major": 2,
       "version_minor": 0
      },
      "text/plain": [
       "Process #000--------------------------------imapa---------------------------------:   0%|          | 0/10000 […"
      ]
     },
     "metadata": {},
     "output_type": "display_data"
    },
    {
     "name": "stdout",
     "output_type": "stream",
     "text": [
      " "
     ]
    },
    {
     "data": {
      "application/vnd.jupyter.widget-view+json": {
       "model_id": "3d6e31996a98466dac4e87714ad6aa87",
       "version_major": 2,
       "version_minor": 0
      },
      "text/plain": [
       "Process #000--------------------------------naive---------------------------------:   0%|          | 0/10000 […"
      ]
     },
     "metadata": {},
     "output_type": "display_data"
    },
    {
     "name": "stdout",
     "output_type": "stream",
     "text": [
      " "
     ]
    },
    {
     "data": {
      "application/vnd.jupyter.widget-view+json": {
       "model_id": "6c81a06f531042a199cdd0a44fc30cca",
       "version_major": 2,
       "version_minor": 0
      },
      "text/plain": [
       "Process #000------------------------random_walk_with_drift------------------------:   0%|          | 0/10000 […"
      ]
     },
     "metadata": {},
     "output_type": "display_data"
    },
    {
     "name": "stdout",
     "output_type": "stream",
     "text": [
      " "
     ]
    },
    {
     "data": {
      "application/vnd.jupyter.widget-view+json": {
       "model_id": "d35ad23681f54c8a9020de8f44226cfc",
       "version_major": 2,
       "version_minor": 0
      },
      "text/plain": [
       "Process #000--------------------seasonal_exponential_smoothing--------------------:   0%|          | 0/10000 […"
      ]
     },
     "metadata": {},
     "output_type": "display_data"
    },
    {
     "name": "stdout",
     "output_type": "stream",
     "text": [
      " "
     ]
    },
    {
     "data": {
      "application/vnd.jupyter.widget-view+json": {
       "model_id": "f24eba4329f3400abfc7de39c23ae74b",
       "version_major": 2,
       "version_minor": 0
      },
      "text/plain": [
       "Process #000----------------------------seasonal_naive----------------------------:   0%|          | 0/10000 […"
      ]
     },
     "metadata": {},
     "output_type": "display_data"
    },
    {
     "name": "stdout",
     "output_type": "stream",
     "text": [
      " "
     ]
    },
    {
     "data": {
      "application/vnd.jupyter.widget-view+json": {
       "model_id": "b863483dc89741d7aacff361a7545c4a",
       "version_major": 2,
       "version_minor": 0
      },
      "text/plain": [
       "Process #000-----------------------seasonal_window_average------------------------:   0%|          | 0/10000 […"
      ]
     },
     "metadata": {},
     "output_type": "display_data"
    },
    {
     "name": "stdout",
     "output_type": "stream",
     "text": [
      " "
     ]
    },
    {
     "data": {
      "application/vnd.jupyter.widget-view+json": {
       "model_id": "247da58d133241889141ebcc69fae648",
       "version_major": 2,
       "version_minor": 0
      },
      "text/plain": [
       "Process #000---------------------------------ses----------------------------------:   0%|          | 0/10000 […"
      ]
     },
     "metadata": {},
     "output_type": "display_data"
    },
    {
     "name": "stdout",
     "output_type": "stream",
     "text": [
      " "
     ]
    },
    {
     "data": {
      "application/vnd.jupyter.widget-view+json": {
       "model_id": "2584c81cacc14b35b67f2972f80db907",
       "version_major": 2,
       "version_minor": 0
      },
      "text/plain": [
       "Process #000---------------------------------tsb----------------------------------:   0%|          | 0/10000 […"
      ]
     },
     "metadata": {},
     "output_type": "display_data"
    },
    {
     "name": "stdout",
     "output_type": "stream",
     "text": [
      " "
     ]
    },
    {
     "data": {
      "application/vnd.jupyter.widget-view+json": {
       "model_id": "9f8c4dcf0a704f42bf443dd7ab4bab34",
       "version_major": 2,
       "version_minor": 0
      },
      "text/plain": [
       "Process #000----------------------------window_average----------------------------:   0%|          | 0/10000 […"
      ]
     },
     "metadata": {},
     "output_type": "display_data"
    },
    {
     "data": {
      "text/html": [
       "<div>\n",
       "<style scoped>\n",
       "    .dataframe tbody tr th:only-of-type {\n",
       "        vertical-align: middle;\n",
       "    }\n",
       "\n",
       "    .dataframe tbody tr th {\n",
       "        vertical-align: top;\n",
       "    }\n",
       "\n",
       "    .dataframe thead th {\n",
       "        text-align: right;\n",
       "    }\n",
       "</style>\n",
       "<table border=\"1\" class=\"dataframe\">\n",
       "  <thead>\n",
       "    <tr style=\"text-align: right;\">\n",
       "      <th></th>\n",
       "      <th>ds</th>\n",
       "      <th>adida</th>\n",
       "      <th>croston_classic</th>\n",
       "      <th>croston_optimized</th>\n",
       "      <th>croston_sba</th>\n",
       "      <th>historic_average</th>\n",
       "      <th>imapa</th>\n",
       "      <th>naive</th>\n",
       "      <th>random_walk_with_drift</th>\n",
       "      <th>seasonal_exponential_smoothing_season_length-7_alpha-0.1</th>\n",
       "      <th>seasonal_naive_season_length-7</th>\n",
       "      <th>seasonal_window_average_season_length-7_window_size-4</th>\n",
       "      <th>ses_alpha-0.1</th>\n",
       "      <th>tsb_alpha_d-0.1_alpha_p-0.3</th>\n",
       "      <th>window_average_window_size-4</th>\n",
       "    </tr>\n",
       "    <tr>\n",
       "      <th>unique_id</th>\n",
       "      <th></th>\n",
       "      <th></th>\n",
       "      <th></th>\n",
       "      <th></th>\n",
       "      <th></th>\n",
       "      <th></th>\n",
       "      <th></th>\n",
       "      <th></th>\n",
       "      <th></th>\n",
       "      <th></th>\n",
       "      <th></th>\n",
       "      <th></th>\n",
       "      <th></th>\n",
       "      <th></th>\n",
       "      <th></th>\n",
       "    </tr>\n",
       "  </thead>\n",
       "  <tbody>\n",
       "    <tr>\n",
       "      <th>0</th>\n",
       "      <td>2000-08-10</td>\n",
       "      <td>157.559219</td>\n",
       "      <td>157.559219</td>\n",
       "      <td>157.559219</td>\n",
       "      <td>149.681259</td>\n",
       "      <td>161.040253</td>\n",
       "      <td>157.559219</td>\n",
       "      <td>215.188721</td>\n",
       "      <td>216.134415</td>\n",
       "      <td>11.505998</td>\n",
       "      <td>270.386292</td>\n",
       "      <td>258.436707</td>\n",
       "      <td>157.559219</td>\n",
       "      <td>157.559219</td>\n",
       "      <td>134.071350</td>\n",
       "    </tr>\n",
       "    <tr>\n",
       "      <th>0</th>\n",
       "      <td>2000-08-11</td>\n",
       "      <td>157.559219</td>\n",
       "      <td>157.559219</td>\n",
       "      <td>157.559219</td>\n",
       "      <td>149.681259</td>\n",
       "      <td>161.040253</td>\n",
       "      <td>157.559219</td>\n",
       "      <td>215.188721</td>\n",
       "      <td>217.080093</td>\n",
       "      <td>65.213455</td>\n",
       "      <td>316.671570</td>\n",
       "      <td>315.926270</td>\n",
       "      <td>157.559219</td>\n",
       "      <td>157.559219</td>\n",
       "      <td>134.071350</td>\n",
       "    </tr>\n",
       "    <tr>\n",
       "      <th>0</th>\n",
       "      <td>2000-08-12</td>\n",
       "      <td>157.559219</td>\n",
       "      <td>157.559219</td>\n",
       "      <td>157.559219</td>\n",
       "      <td>149.681259</td>\n",
       "      <td>161.040253</td>\n",
       "      <td>157.559219</td>\n",
       "      <td>215.188721</td>\n",
       "      <td>218.025787</td>\n",
       "      <td>109.913399</td>\n",
       "      <td>15.088776</td>\n",
       "      <td>11.100096</td>\n",
       "      <td>157.559219</td>\n",
       "      <td>157.559219</td>\n",
       "      <td>134.071350</td>\n",
       "    </tr>\n",
       "    <tr>\n",
       "      <th>0</th>\n",
       "      <td>2000-08-13</td>\n",
       "      <td>157.559219</td>\n",
       "      <td>157.559219</td>\n",
       "      <td>157.559219</td>\n",
       "      <td>149.681259</td>\n",
       "      <td>161.040253</td>\n",
       "      <td>157.559219</td>\n",
       "      <td>215.188721</td>\n",
       "      <td>218.971466</td>\n",
       "      <td>158.784393</td>\n",
       "      <td>67.045593</td>\n",
       "      <td>63.376709</td>\n",
       "      <td>157.559219</td>\n",
       "      <td>157.559219</td>\n",
       "      <td>134.071350</td>\n",
       "    </tr>\n",
       "    <tr>\n",
       "      <th>0</th>\n",
       "      <td>2000-08-14</td>\n",
       "      <td>157.559219</td>\n",
       "      <td>157.559219</td>\n",
       "      <td>157.559219</td>\n",
       "      <td>149.681259</td>\n",
       "      <td>161.040253</td>\n",
       "      <td>157.559219</td>\n",
       "      <td>215.188721</td>\n",
       "      <td>219.917160</td>\n",
       "      <td>210.499176</td>\n",
       "      <td>101.606117</td>\n",
       "      <td>111.795639</td>\n",
       "      <td>157.559219</td>\n",
       "      <td>157.559219</td>\n",
       "      <td>134.071350</td>\n",
       "    </tr>\n",
       "    <tr>\n",
       "      <th>...</th>\n",
       "      <td>...</td>\n",
       "      <td>...</td>\n",
       "      <td>...</td>\n",
       "      <td>...</td>\n",
       "      <td>...</td>\n",
       "      <td>...</td>\n",
       "      <td>...</td>\n",
       "      <td>...</td>\n",
       "      <td>...</td>\n",
       "      <td>...</td>\n",
       "      <td>...</td>\n",
       "      <td>...</td>\n",
       "      <td>...</td>\n",
       "      <td>...</td>\n",
       "      <td>...</td>\n",
       "    </tr>\n",
       "    <tr>\n",
       "      <th>9999</th>\n",
       "      <td>2000-06-27</td>\n",
       "      <td>87.646744</td>\n",
       "      <td>87.646744</td>\n",
       "      <td>87.646744</td>\n",
       "      <td>83.264404</td>\n",
       "      <td>78.274399</td>\n",
       "      <td>87.646744</td>\n",
       "      <td>149.732315</td>\n",
       "      <td>149.786240</td>\n",
       "      <td>27.759584</td>\n",
       "      <td>56.131752</td>\n",
       "      <td>52.532112</td>\n",
       "      <td>87.646744</td>\n",
       "      <td>87.646744</td>\n",
       "      <td>114.524994</td>\n",
       "    </tr>\n",
       "    <tr>\n",
       "      <th>9999</th>\n",
       "      <td>2000-06-28</td>\n",
       "      <td>87.646744</td>\n",
       "      <td>87.646744</td>\n",
       "      <td>87.646744</td>\n",
       "      <td>83.264404</td>\n",
       "      <td>78.274399</td>\n",
       "      <td>87.646744</td>\n",
       "      <td>149.732315</td>\n",
       "      <td>149.791641</td>\n",
       "      <td>53.950005</td>\n",
       "      <td>81.664482</td>\n",
       "      <td>78.404900</td>\n",
       "      <td>87.646744</td>\n",
       "      <td>87.646744</td>\n",
       "      <td>114.524994</td>\n",
       "    </tr>\n",
       "    <tr>\n",
       "      <th>9999</th>\n",
       "      <td>2000-06-29</td>\n",
       "      <td>87.646744</td>\n",
       "      <td>87.646744</td>\n",
       "      <td>87.646744</td>\n",
       "      <td>83.264404</td>\n",
       "      <td>78.274399</td>\n",
       "      <td>87.646744</td>\n",
       "      <td>149.732315</td>\n",
       "      <td>149.797028</td>\n",
       "      <td>78.058998</td>\n",
       "      <td>101.653671</td>\n",
       "      <td>101.620743</td>\n",
       "      <td>87.646744</td>\n",
       "      <td>87.646744</td>\n",
       "      <td>114.524994</td>\n",
       "    </tr>\n",
       "    <tr>\n",
       "      <th>9999</th>\n",
       "      <td>2000-06-30</td>\n",
       "      <td>87.646744</td>\n",
       "      <td>87.646744</td>\n",
       "      <td>87.646744</td>\n",
       "      <td>83.264404</td>\n",
       "      <td>78.274399</td>\n",
       "      <td>87.646744</td>\n",
       "      <td>149.732315</td>\n",
       "      <td>149.802429</td>\n",
       "      <td>101.626221</td>\n",
       "      <td>125.049500</td>\n",
       "      <td>125.748337</td>\n",
       "      <td>87.646744</td>\n",
       "      <td>87.646744</td>\n",
       "      <td>114.524994</td>\n",
       "    </tr>\n",
       "    <tr>\n",
       "      <th>9999</th>\n",
       "      <td>2000-07-01</td>\n",
       "      <td>87.646744</td>\n",
       "      <td>87.646744</td>\n",
       "      <td>87.646744</td>\n",
       "      <td>83.264404</td>\n",
       "      <td>78.274399</td>\n",
       "      <td>87.646744</td>\n",
       "      <td>149.732315</td>\n",
       "      <td>149.807816</td>\n",
       "      <td>126.068932</td>\n",
       "      <td>149.732315</td>\n",
       "      <td>148.983383</td>\n",
       "      <td>87.646744</td>\n",
       "      <td>87.646744</td>\n",
       "      <td>114.524994</td>\n",
       "    </tr>\n",
       "  </tbody>\n",
       "</table>\n",
       "<p>140000 rows × 15 columns</p>\n",
       "</div>"
      ],
      "text/plain": [
       "                  ds       adida  croston_classic  croston_optimized  \\\n",
       "unique_id                                                              \n",
       "0         2000-08-10  157.559219       157.559219         157.559219   \n",
       "0         2000-08-11  157.559219       157.559219         157.559219   \n",
       "0         2000-08-12  157.559219       157.559219         157.559219   \n",
       "0         2000-08-13  157.559219       157.559219         157.559219   \n",
       "0         2000-08-14  157.559219       157.559219         157.559219   \n",
       "...              ...         ...              ...                ...   \n",
       "9999      2000-06-27   87.646744        87.646744          87.646744   \n",
       "9999      2000-06-28   87.646744        87.646744          87.646744   \n",
       "9999      2000-06-29   87.646744        87.646744          87.646744   \n",
       "9999      2000-06-30   87.646744        87.646744          87.646744   \n",
       "9999      2000-07-01   87.646744        87.646744          87.646744   \n",
       "\n",
       "           croston_sba  historic_average       imapa       naive  \\\n",
       "unique_id                                                          \n",
       "0           149.681259        161.040253  157.559219  215.188721   \n",
       "0           149.681259        161.040253  157.559219  215.188721   \n",
       "0           149.681259        161.040253  157.559219  215.188721   \n",
       "0           149.681259        161.040253  157.559219  215.188721   \n",
       "0           149.681259        161.040253  157.559219  215.188721   \n",
       "...                ...               ...         ...         ...   \n",
       "9999         83.264404         78.274399   87.646744  149.732315   \n",
       "9999         83.264404         78.274399   87.646744  149.732315   \n",
       "9999         83.264404         78.274399   87.646744  149.732315   \n",
       "9999         83.264404         78.274399   87.646744  149.732315   \n",
       "9999         83.264404         78.274399   87.646744  149.732315   \n",
       "\n",
       "           random_walk_with_drift  \\\n",
       "unique_id                           \n",
       "0                      216.134415   \n",
       "0                      217.080093   \n",
       "0                      218.025787   \n",
       "0                      218.971466   \n",
       "0                      219.917160   \n",
       "...                           ...   \n",
       "9999                   149.786240   \n",
       "9999                   149.791641   \n",
       "9999                   149.797028   \n",
       "9999                   149.802429   \n",
       "9999                   149.807816   \n",
       "\n",
       "           seasonal_exponential_smoothing_season_length-7_alpha-0.1  \\\n",
       "unique_id                                                             \n",
       "0                                                  11.505998          \n",
       "0                                                  65.213455          \n",
       "0                                                 109.913399          \n",
       "0                                                 158.784393          \n",
       "0                                                 210.499176          \n",
       "...                                                      ...          \n",
       "9999                                               27.759584          \n",
       "9999                                               53.950005          \n",
       "9999                                               78.058998          \n",
       "9999                                              101.626221          \n",
       "9999                                              126.068932          \n",
       "\n",
       "           seasonal_naive_season_length-7  \\\n",
       "unique_id                                   \n",
       "0                              270.386292   \n",
       "0                              316.671570   \n",
       "0                               15.088776   \n",
       "0                               67.045593   \n",
       "0                              101.606117   \n",
       "...                                   ...   \n",
       "9999                            56.131752   \n",
       "9999                            81.664482   \n",
       "9999                           101.653671   \n",
       "9999                           125.049500   \n",
       "9999                           149.732315   \n",
       "\n",
       "           seasonal_window_average_season_length-7_window_size-4  \\\n",
       "unique_id                                                          \n",
       "0                                                 258.436707       \n",
       "0                                                 315.926270       \n",
       "0                                                  11.100096       \n",
       "0                                                  63.376709       \n",
       "0                                                 111.795639       \n",
       "...                                                      ...       \n",
       "9999                                               52.532112       \n",
       "9999                                               78.404900       \n",
       "9999                                              101.620743       \n",
       "9999                                              125.748337       \n",
       "9999                                              148.983383       \n",
       "\n",
       "           ses_alpha-0.1  tsb_alpha_d-0.1_alpha_p-0.3  \\\n",
       "unique_id                                               \n",
       "0             157.559219                   157.559219   \n",
       "0             157.559219                   157.559219   \n",
       "0             157.559219                   157.559219   \n",
       "0             157.559219                   157.559219   \n",
       "0             157.559219                   157.559219   \n",
       "...                  ...                          ...   \n",
       "9999           87.646744                    87.646744   \n",
       "9999           87.646744                    87.646744   \n",
       "9999           87.646744                    87.646744   \n",
       "9999           87.646744                    87.646744   \n",
       "9999           87.646744                    87.646744   \n",
       "\n",
       "           window_average_window_size-4  \n",
       "unique_id                                \n",
       "0                            134.071350  \n",
       "0                            134.071350  \n",
       "0                            134.071350  \n",
       "0                            134.071350  \n",
       "0                            134.071350  \n",
       "...                                 ...  \n",
       "9999                         114.524994  \n",
       "9999                         114.524994  \n",
       "9999                         114.524994  \n",
       "9999                         114.524994  \n",
       "9999                         114.524994  \n",
       "\n",
       "[140000 rows x 15 columns]"
      ]
     },
     "execution_count": 198,
     "metadata": {},
     "output_type": "execute_result"
    }
   ],
   "source": [
    "fcst = StatsForecast(\n",
    "    series,\n",
    "    [adida, croston_classic, croston_optimized,\n",
    "     croston_sba, historic_average, imapa, naive, \n",
    "     random_walk_with_drift, (seasonal_exponential_smoothing, 7, 0.1),\n",
    "     (seasonal_naive, 7), (seasonal_window_average, 7, 4),\n",
    "     (ses, 0.1), (tsb, 0.1, 0.3), (window_average, 4)],\n",
    "    freq='D',\n",
    ")\n",
    "res = fcst.forecast(14)\n",
    "res"
   ]
  },
  {
   "cell_type": "code",
   "execution_count": 199,
   "id": "1886551a",
   "metadata": {},
   "outputs": [],
   "source": [
    "#hide\n",
    "test_eq(res.index.unique(), fcst.uids)\n",
    "last_dates = series.groupby('unique_id')['ds'].max()\n",
    "test_eq(res.groupby('unique_id')['ds'].min().values, last_dates + pd.offsets.Day())\n",
    "test_eq(res.groupby('unique_id')['ds'].max().values, last_dates + 14 * pd.offsets.Day())"
   ]
  },
  {
   "cell_type": "markdown",
   "id": "9b433aff-8b77-48e6-966a-a2838f055769",
   "metadata": {},
   "source": [
    "### Parallel"
   ]
  },
  {
   "cell_type": "code",
   "execution_count": 200,
   "id": "73536e57-fa38-4b7c-967d-a5ddd54733d0",
   "metadata": {},
   "outputs": [],
   "source": [
    "try: from nbdev.imports import IN_NOTEBOOK\n",
    "except: IN_NOTEBOOK=False\n",
    "if __name__==\"__main__\" and not IN_NOTEBOOK:\n",
    "    fcst = StatsForecast(\n",
    "        series,\n",
    "        [adida, (ses, 0.1), historic_average, croston_classic],\n",
    "        freq='D',\n",
    "        n_jobs=2\n",
    "    )\n",
    "    res = fcst.forecast(14)\n",
    "    print(res)"
   ]
  },
  {
   "cell_type": "code",
   "execution_count": 201,
   "id": "fe3259d0-a954-4d6d-97cc-15b69aafd0f6",
   "metadata": {},
   "outputs": [
    {
     "name": "stdout",
     "output_type": "stream",
     "text": [
      "    "
     ]
    },
    {
     "data": {
      "application/vnd.jupyter.widget-view+json": {
       "model_id": "36a2584c420742b0955dcd1f3a98d5dd",
       "version_major": 2,
       "version_minor": 0
      },
      "text/plain": [
       "Process #000--------------------------------adida---------------------------------:   0%|          | 0/1250 [0…"
      ]
     },
     "metadata": {},
     "output_type": "display_data"
    },
    {
     "name": "stdout",
     "output_type": "stream",
     "text": [
      " "
     ]
    },
    {
     "data": {
      "application/vnd.jupyter.widget-view+json": {
       "model_id": "bc81a1580e724a9088f695a72e7bec86",
       "version_major": 2,
       "version_minor": 0
      },
      "text/plain": [
       "Process #001--------------------------------adida---------------------------------:   0%|          | 0/1250 [0…"
      ]
     },
     "metadata": {},
     "output_type": "display_data"
    },
    {
     "data": {
      "application/vnd.jupyter.widget-view+json": {
       "model_id": "bf09e813e7854950986a5b37ddd96b1b",
       "version_major": 2,
       "version_minor": 0
      },
      "text/plain": [
       "Process #002--------------------------------adida---------------------------------:   0%|          | 0/1250 [0…"
      ]
     },
     "metadata": {},
     "output_type": "display_data"
    },
    {
     "name": "stdout",
     "output_type": "stream",
     "text": [
      " "
     ]
    },
    {
     "data": {
      "application/vnd.jupyter.widget-view+json": {
       "model_id": "21e4a9dc06004bee826282fc2f3ec1ba",
       "version_major": 2,
       "version_minor": 0
      },
      "text/plain": [
       "Process #003--------------------------------adida---------------------------------:   0%|          | 0/1250 [0…"
      ]
     },
     "metadata": {},
     "output_type": "display_data"
    },
    {
     "name": "stdout",
     "output_type": "stream",
     "text": [
      " "
     ]
    },
    {
     "data": {
      "application/vnd.jupyter.widget-view+json": {
       "model_id": "158ab551b2a74418951aa12dc95ba892",
       "version_major": 2,
       "version_minor": 0
      },
      "text/plain": [
       "Process #004--------------------------------adida---------------------------------:   0%|          | 0/1250 [0…"
      ]
     },
     "metadata": {},
     "output_type": "display_data"
    },
    {
     "data": {
      "application/vnd.jupyter.widget-view+json": {
       "model_id": "77112086e82440a2991de94c0e1fcac7",
       "version_major": 2,
       "version_minor": 0
      },
      "text/plain": [
       "Process #005--------------------------------adida---------------------------------:   0%|          | 0/1250 [0…"
      ]
     },
     "metadata": {},
     "output_type": "display_data"
    },
    {
     "name": "stdout",
     "output_type": "stream",
     "text": [
      " "
     ]
    },
    {
     "data": {
      "application/vnd.jupyter.widget-view+json": {
       "model_id": "081b30b9da1041198e7810fbe674ff49",
       "version_major": 2,
       "version_minor": 0
      },
      "text/plain": [
       "Process #006--------------------------------adida---------------------------------:   0%|          | 0/1250 [0…"
      ]
     },
     "metadata": {},
     "output_type": "display_data"
    },
    {
     "data": {
      "application/vnd.jupyter.widget-view+json": {
       "model_id": "c9d0b8e201aa469f9f13ae2591aece05",
       "version_major": 2,
       "version_minor": 0
      },
      "text/plain": [
       "Process #007--------------------------------adida---------------------------------:   0%|          | 0/1250 [0…"
      ]
     },
     "metadata": {},
     "output_type": "display_data"
    },
    {
     "name": "stdout",
     "output_type": "stream",
     "text": [
      "   "
     ]
    },
    {
     "data": {
      "application/vnd.jupyter.widget-view+json": {
       "model_id": "2ea9f5f74ffc4ac1a8108f48d2d96d14",
       "version_major": 2,
       "version_minor": 0
      },
      "text/plain": [
       "Process #000---------------------------------ses----------------------------------:   0%|          | 0/1250 [0…"
      ]
     },
     "metadata": {},
     "output_type": "display_data"
    },
    {
     "name": "stdout",
     "output_type": "stream",
     "text": [
      " "
     ]
    },
    {
     "data": {
      "application/vnd.jupyter.widget-view+json": {
       "model_id": "6bc115b57fec401ebb6ac51bb0e04938",
       "version_major": 2,
       "version_minor": 0
      },
      "text/plain": [
       "Process #001---------------------------------ses----------------------------------:   0%|          | 0/1250 [0…"
      ]
     },
     "metadata": {},
     "output_type": "display_data"
    },
    {
     "name": "stdout",
     "output_type": "stream",
     "text": [
      "  "
     ]
    },
    {
     "data": {
      "application/vnd.jupyter.widget-view+json": {
       "model_id": "b487511f7d304bab9a2e865a8380ed6b",
       "version_major": 2,
       "version_minor": 0
      },
      "text/plain": [
       "Process #002---------------------------------ses----------------------------------:   0%|          | 0/1250 [0…"
      ]
     },
     "metadata": {},
     "output_type": "display_data"
    },
    {
     "data": {
      "application/vnd.jupyter.widget-view+json": {
       "model_id": "227b98754d65413493d4ecd85d2d4740",
       "version_major": 2,
       "version_minor": 0
      },
      "text/plain": [
       "Process #004---------------------------------ses----------------------------------:   0%|          | 0/1250 [0…"
      ]
     },
     "metadata": {},
     "output_type": "display_data"
    },
    {
     "name": "stdout",
     "output_type": "stream",
     "text": [
      " "
     ]
    },
    {
     "data": {
      "application/vnd.jupyter.widget-view+json": {
       "model_id": "4e94044b9a214d09aaef3ea1b6ad7a8b",
       "version_major": 2,
       "version_minor": 0
      },
      "text/plain": [
       "Process #003---------------------------------ses----------------------------------:   0%|          | 0/1250 [0…"
      ]
     },
     "metadata": {},
     "output_type": "display_data"
    },
    {
     "data": {
      "application/vnd.jupyter.widget-view+json": {
       "model_id": "1f4b1b1278f6410d87ffe90231618914",
       "version_major": 2,
       "version_minor": 0
      },
      "text/plain": [
       "Process #005---------------------------------ses----------------------------------:   0%|          | 0/1250 [0…"
      ]
     },
     "metadata": {},
     "output_type": "display_data"
    },
    {
     "data": {
      "application/vnd.jupyter.widget-view+json": {
       "model_id": "9bf3880a1a2044f5be2aa209398a34bc",
       "version_major": 2,
       "version_minor": 0
      },
      "text/plain": [
       "Process #006---------------------------------ses----------------------------------:   0%|          | 0/1250 [0…"
      ]
     },
     "metadata": {},
     "output_type": "display_data"
    },
    {
     "name": "stdout",
     "output_type": "stream",
     "text": [
      " "
     ]
    },
    {
     "data": {
      "application/vnd.jupyter.widget-view+json": {
       "model_id": "3798f3519dcd46d9a0a30d93b0a88d89",
       "version_major": 2,
       "version_minor": 0
      },
      "text/plain": [
       "Process #007---------------------------------ses----------------------------------:   0%|          | 0/1250 [0…"
      ]
     },
     "metadata": {},
     "output_type": "display_data"
    },
    {
     "name": "stdout",
     "output_type": "stream",
     "text": [
      "   "
     ]
    },
    {
     "data": {
      "application/vnd.jupyter.widget-view+json": {
       "model_id": "3bf599d54be64f53beb86983a63c0001",
       "version_major": 2,
       "version_minor": 0
      },
      "text/plain": [
       "Process #000---------------------------historic_average---------------------------:   0%|          | 0/1250 [0…"
      ]
     },
     "metadata": {},
     "output_type": "display_data"
    },
    {
     "name": "stdout",
     "output_type": "stream",
     "text": [
      " "
     ]
    },
    {
     "data": {
      "application/vnd.jupyter.widget-view+json": {
       "model_id": "165243448cea4bfdb38707dc8cf9fe2e",
       "version_major": 2,
       "version_minor": 0
      },
      "text/plain": [
       "Process #001---------------------------historic_average---------------------------:   0%|          | 0/1250 [0…"
      ]
     },
     "metadata": {},
     "output_type": "display_data"
    },
    {
     "name": "stdout",
     "output_type": "stream",
     "text": [
      " "
     ]
    },
    {
     "data": {
      "application/vnd.jupyter.widget-view+json": {
       "model_id": "9342b69586dc4e6ca713a167373e9876",
       "version_major": 2,
       "version_minor": 0
      },
      "text/plain": [
       "Process #002---------------------------historic_average---------------------------:   0%|          | 0/1250 [0…"
      ]
     },
     "metadata": {},
     "output_type": "display_data"
    },
    {
     "data": {
      "application/vnd.jupyter.widget-view+json": {
       "model_id": "6b03e427eda34526adb6d99dd6c769b2",
       "version_major": 2,
       "version_minor": 0
      },
      "text/plain": [
       "Process #003---------------------------historic_average---------------------------:   0%|          | 0/1250 [0…"
      ]
     },
     "metadata": {},
     "output_type": "display_data"
    },
    {
     "name": "stdout",
     "output_type": "stream",
     "text": [
      " "
     ]
    },
    {
     "data": {
      "application/vnd.jupyter.widget-view+json": {
       "model_id": "4497d7e62ddf4bd6bcc03d4f719914d1",
       "version_major": 2,
       "version_minor": 0
      },
      "text/plain": [
       "Process #004---------------------------historic_average---------------------------:   0%|          | 0/1250 [0…"
      ]
     },
     "metadata": {},
     "output_type": "display_data"
    },
    {
     "name": "stdout",
     "output_type": "stream",
     "text": [
      " "
     ]
    },
    {
     "data": {
      "application/vnd.jupyter.widget-view+json": {
       "model_id": "a650fe8b518a4a9a80bf148d98a4cbb2",
       "version_major": 2,
       "version_minor": 0
      },
      "text/plain": [
       "Process #005---------------------------historic_average---------------------------:   0%|          | 0/1250 [0…"
      ]
     },
     "metadata": {},
     "output_type": "display_data"
    },
    {
     "name": "stdout",
     "output_type": "stream",
     "text": [
      " "
     ]
    },
    {
     "data": {
      "application/vnd.jupyter.widget-view+json": {
       "model_id": "71583cdad6614f66b457215e8d4bc758",
       "version_major": 2,
       "version_minor": 0
      },
      "text/plain": [
       "Process #006---------------------------historic_average---------------------------:   0%|          | 0/1250 [0…"
      ]
     },
     "metadata": {},
     "output_type": "display_data"
    },
    {
     "data": {
      "application/vnd.jupyter.widget-view+json": {
       "model_id": "a0821338e28743aa99422300baa9d4e3",
       "version_major": 2,
       "version_minor": 0
      },
      "text/plain": [
       "Process #007---------------------------historic_average---------------------------:   0%|          | 0/1250 [0…"
      ]
     },
     "metadata": {},
     "output_type": "display_data"
    },
    {
     "name": "stdout",
     "output_type": "stream",
     "text": [
      "   "
     ]
    },
    {
     "data": {
      "application/vnd.jupyter.widget-view+json": {
       "model_id": "362e279be26942938f756267f8bfe5ec",
       "version_major": 2,
       "version_minor": 0
      },
      "text/plain": [
       "Process #000---------------------------croston_classic----------------------------:   0%|          | 0/1250 [0…"
      ]
     },
     "metadata": {},
     "output_type": "display_data"
    },
    {
     "name": "stdout",
     "output_type": "stream",
     "text": [
      "  "
     ]
    },
    {
     "data": {
      "application/vnd.jupyter.widget-view+json": {
       "model_id": "b904c67172eb43d1afe7d92aeb10c03b",
       "version_major": 2,
       "version_minor": 0
      },
      "text/plain": [
       "Process #001---------------------------croston_classic----------------------------:   0%|          | 0/1250 [0…"
      ]
     },
     "metadata": {},
     "output_type": "display_data"
    },
    {
     "data": {
      "application/vnd.jupyter.widget-view+json": {
       "model_id": "62c2d56e6da64c82abf08aa1f45071c6",
       "version_major": 2,
       "version_minor": 0
      },
      "text/plain": [
       "Process #002---------------------------croston_classic----------------------------:   0%|          | 0/1250 [0…"
      ]
     },
     "metadata": {},
     "output_type": "display_data"
    },
    {
     "name": "stdout",
     "output_type": "stream",
     "text": [
      " "
     ]
    },
    {
     "data": {
      "application/vnd.jupyter.widget-view+json": {
       "model_id": "2dd9a1cd91cb41768af6739b95497568",
       "version_major": 2,
       "version_minor": 0
      },
      "text/plain": [
       "Process #003---------------------------croston_classic----------------------------:   0%|          | 0/1250 [0…"
      ]
     },
     "metadata": {},
     "output_type": "display_data"
    },
    {
     "name": "stdout",
     "output_type": "stream",
     "text": [
      " "
     ]
    },
    {
     "data": {
      "application/vnd.jupyter.widget-view+json": {
       "model_id": "2e82587122594bf2b0768843dc93e4c0",
       "version_major": 2,
       "version_minor": 0
      },
      "text/plain": [
       "Process #004---------------------------croston_classic----------------------------:   0%|          | 0/1250 [0…"
      ]
     },
     "metadata": {},
     "output_type": "display_data"
    },
    {
     "name": "stdout",
     "output_type": "stream",
     "text": [
      " "
     ]
    },
    {
     "data": {
      "application/vnd.jupyter.widget-view+json": {
       "model_id": "136afa1cc8c948e58f06185bf26749da",
       "version_major": 2,
       "version_minor": 0
      },
      "text/plain": [
       "Process #005---------------------------croston_classic----------------------------:   0%|          | 0/1250 [0…"
      ]
     },
     "metadata": {},
     "output_type": "display_data"
    },
    {
     "data": {
      "application/vnd.jupyter.widget-view+json": {
       "model_id": "8f21b0b2bac94413b41b2104241ab9b4",
       "version_major": 2,
       "version_minor": 0
      },
      "text/plain": [
       "Process #006---------------------------croston_classic----------------------------:   0%|          | 0/1250 [0…"
      ]
     },
     "metadata": {},
     "output_type": "display_data"
    },
    {
     "data": {
      "application/vnd.jupyter.widget-view+json": {
       "model_id": "5a2ff03f5b7b4068a613627cd688e297",
       "version_major": 2,
       "version_minor": 0
      },
      "text/plain": [
       "Process #007---------------------------croston_classic----------------------------:   0%|          | 0/1250 [0…"
      ]
     },
     "metadata": {},
     "output_type": "display_data"
    }
   ],
   "source": [
    "fcst = StatsForecast(\n",
    "    series,\n",
    "    [adida, (ses, 0.1), historic_average, croston_classic],\n",
    "    freq='D',\n",
    "    n_jobs=8\n",
    ")\n",
    "res = fcst.forecast(14)\n",
    "#print(res)"
   ]
  },
  {
   "cell_type": "markdown",
   "id": "c2a014d9",
   "metadata": {},
   "source": [
    "## Monthly data"
   ]
  },
  {
   "cell_type": "code",
   "execution_count": null,
   "id": "11ff6a2d",
   "metadata": {},
   "outputs": [],
   "source": [
    "monthly_series = generate_series(10_000, freq='M', min_length=10, max_length=20, equal_ends=True)\n",
    "monthly_series"
   ]
  },
  {
   "cell_type": "code",
   "execution_count": null,
   "id": "a050b58f",
   "metadata": {},
   "outputs": [],
   "source": [
    "fcst = StatsForecast(\n",
    "    monthly_series,\n",
    "    [adida, (ses, 0.1), historic_average, croston_classic],\n",
    "    freq='M'\n",
    ")\n",
    "%time monthly_res = fcst.forecast(4)\n",
    "monthly_res"
   ]
  },
  {
   "cell_type": "code",
   "execution_count": null,
   "id": "c210b06f-9021-4aae-a801-088cea5526c6",
   "metadata": {},
   "outputs": [],
   "source": [
    "fcst.ga.split(2)[1].data"
   ]
  },
  {
   "cell_type": "code",
   "execution_count": null,
   "id": "a770d8d4",
   "metadata": {},
   "outputs": [],
   "source": [
    "#hide\n",
    "last_dates = monthly_series.groupby('unique_id')['ds'].max()\n",
    "test_eq(monthly_res.groupby('unique_id')['ds'].min().values, fcst.last_dates + pd.offsets.MonthEnd())\n",
    "test_eq(monthly_res.groupby('unique_id')['ds'].max().values, fcst.last_dates + 4 * pd.offsets.MonthEnd())"
   ]
  },
  {
   "cell_type": "markdown",
   "id": "a1ddc742-cae0-43f8-89eb-f5ae2effeb15",
   "metadata": {},
   "source": [
    "## Integer datestamp"
   ]
  },
  {
   "cell_type": "code",
   "execution_count": null,
   "id": "8cc45251-a56b-4dad-9d84-9a843de0e794",
   "metadata": {},
   "outputs": [],
   "source": [
    "from statsforecast.utils import AirPassengers as ap"
   ]
  },
  {
   "cell_type": "code",
   "execution_count": null,
   "id": "aa0e072d-5f62-4c1a-8b0c-1592a7f992b1",
   "metadata": {},
   "outputs": [],
   "source": [
    "int_ds_df = pd.DataFrame({'ds': np.arange(1, len(ap) + 1), 'y': ap})\n",
    "int_ds_df.insert(0, 'unique_id', 'AirPassengers')\n",
    "int_ds_df.set_index('unique_id', inplace=True)\n",
    "int_ds_df.head()"
   ]
  },
  {
   "cell_type": "code",
   "execution_count": null,
   "id": "9c1575c5-ad2b-419d-aff1-f757ce39f27b",
   "metadata": {},
   "outputs": [],
   "source": [
    "int_ds_df.tail()"
   ]
  },
  {
   "cell_type": "code",
   "execution_count": null,
   "id": "0bfbe2a7-3205-4976-9e78-3225b7808444",
   "metadata": {},
   "outputs": [],
   "source": [
    "fcst = StatsForecast(int_ds_df, models=[historic_average], freq='D')\n",
    "horizon = 7\n",
    "forecast = fcst.forecast(horizon)\n",
    "forecast.head()"
   ]
  },
  {
   "cell_type": "code",
   "execution_count": null,
   "id": "df545ed2-7b28-44a6-875d-58a3ea7a934b",
   "metadata": {},
   "outputs": [],
   "source": [
    "last_date = int_ds_df['ds'].max()\n",
    "test_eq(forecast['ds'].values, np.arange(last_date + 1, last_date + 1 + horizon))"
   ]
  },
  {
   "cell_type": "markdown",
   "id": "23eb42c4-8275-430f-b074-d93f71c0ca22",
   "metadata": {},
   "source": [
    "## External regressors"
   ]
  },
  {
   "cell_type": "markdown",
   "id": "3320eba6-603d-431e-9f5c-0ba2df7876d8",
   "metadata": {},
   "source": [
    "Every column after **y** is considered an external regressor and will be passed to the models that allow them. If you use them you must supply the future values to the `forecast` method."
   ]
  },
  {
   "cell_type": "code",
   "execution_count": null,
   "id": "df99fb36-c574-47d7-bff6-d95a1172c572",
   "metadata": {},
   "outputs": [],
   "source": [
    "def linear_regression(X, h, future_xreg):\n",
    "    y = X[:, 0]\n",
    "    xreg = X[:, 1:]\n",
    "    coefs, *_ = np.linalg.lstsq(xreg, y, rcond=None)\n",
    "    return future_xreg @ coefs"
   ]
  },
  {
   "cell_type": "code",
   "execution_count": null,
   "id": "91be1d0a-7943-4082-8987-40535635bdc6",
   "metadata": {},
   "outputs": [],
   "source": [
    "series_xreg = series = generate_series(10_000, equal_ends=True)\n",
    "series_xreg['intercept'] = 1\n",
    "series_xreg['dayofweek'] = series_xreg['ds'].dt.dayofweek\n",
    "series_xreg = pd.get_dummies(series_xreg, columns=['dayofweek'], drop_first=True)\n",
    "series_xreg"
   ]
  },
  {
   "cell_type": "code",
   "execution_count": null,
   "id": "830bc4c7-9f0f-4cdc-a639-965cc2ea0bf3",
   "metadata": {},
   "outputs": [],
   "source": [
    "dates = sorted(series_xreg['ds'].unique())\n",
    "valid_start = dates[-14]\n",
    "train_mask = series_xreg['ds'] < valid_start\n",
    "series_train = series_xreg[train_mask]\n",
    "series_valid = series_xreg[~train_mask]\n",
    "X_valid = series_valid.drop(columns=['y'])\n",
    "fcst = StatsForecast(\n",
    "    series_train,\n",
    "    [linear_regression],\n",
    "    freq='D',\n",
    ")\n",
    "%time xreg_res = fcst.forecast(14, xreg=X_valid)\n",
    "xreg_res['y'] = series_valid['y'].values"
   ]
  },
  {
   "cell_type": "code",
   "execution_count": null,
   "id": "8b339f52-af88-4dc8-93af-cbbc751e231e",
   "metadata": {},
   "outputs": [],
   "source": [
    "xreg_res.groupby('ds').mean().plot();"
   ]
  },
  {
   "cell_type": "markdown",
   "id": "3df775a7-fa4a-42eb-b556-bea2c851f23f",
   "metadata": {},
   "source": [
    "## Confidence intervals"
   ]
  },
  {
   "cell_type": "code",
   "execution_count": null,
   "id": "9ee9fd95-52c4-4c42-a350-8e667fba2b06",
   "metadata": {},
   "outputs": [],
   "source": [
    "ap_df = pd.DataFrame({'ds': np.arange(ap.size), 'y': ap}, index=pd.Index([0] * ap.size, name='unique_id'))\n",
    "fcst = StatsForecast(\n",
    "    ap_df,\n",
    "    [(seasonal_naive, 12), (auto_arima, 12)],\n",
    "    freq='M',\n",
    ")\n",
    "ap_ci = fcst.forecast(12, level=(80, 95))\n",
    "ap_ci.set_index('ds').plot(marker='.', figsize=(10, 6));"
   ]
  },
  {
   "cell_type": "markdown",
   "id": "9363cb67-e8df-4ad5-8c1a-700fca7a9cde",
   "metadata": {},
   "source": [
    "## n jobs"
   ]
  },
  {
   "cell_type": "code",
   "execution_count": null,
   "id": "ac620b94-e5cf-48d8-a252-935edbe01733",
   "metadata": {},
   "outputs": [],
   "source": [
    "ap_df_2 = pd.DataFrame(\n",
    "    {'ds': np.hstack([np.arange(ap.size), np.arange(ap.size)]), \n",
    "     'y': np.hstack([ap, ap])}, \n",
    "    index=pd.Index([0] * ap.size + [1] * ap.size, name='unique_id')\n",
    ")"
   ]
  },
  {
   "cell_type": "code",
   "execution_count": null,
   "id": "4d5e2b7a-f3b2-4200-b902-b4c5d369e5ad",
   "metadata": {},
   "outputs": [],
   "source": [
    "if __name__==\"__main__\" and not IN_NOTEBOOK:\n",
    "    ap_df = pd.DataFrame({'ds': np.arange(ap.size), 'y': ap}, index=pd.Index([0] * ap.size, name='unique_id'))\n",
    "    fcst = StatsForecast(\n",
    "        ap_df,\n",
    "        [(seasonal_naive, 12), (auto_arima, 12)],\n",
    "        freq='M',\n",
    "        n_jobs=101\n",
    "    )\n",
    "    ap_ci = fcst.forecast(12, level=(80, 95))\n",
    "    ap_ci.set_index('ds').plot(marker='.', figsize=(10, 6))"
   ]
  },
  {
   "cell_type": "code",
   "execution_count": null,
   "id": "b0c8c27e-1cb1-4e02-8243-6d3ccfc76860",
   "metadata": {},
   "outputs": [],
   "source": [
    "#hide\n",
    "def return_xreg(X, h, xreg, *args):\n",
    "    return xreg[:, 0]"
   ]
  },
  {
   "cell_type": "code",
   "execution_count": null,
   "id": "2da58f77-7194-4108-a32d-d3f01b39b129",
   "metadata": {},
   "outputs": [],
   "source": [
    "#hide\n",
    "df = pd.DataFrame(\n",
    "    {\n",
    "        'ds': np.hstack([np.arange(10), np.arange(10)]),\n",
    "        'y': np.random.rand(20),\n",
    "        'x': np.arange(20, dtype=np.float32),\n",
    "    },\n",
    "    index=pd.Index([0] * 10 + [1] * 10, name='unique_id'),\n",
    ")\n",
    "train_mask = df['ds'] < 6\n",
    "train_df = df[train_mask]\n",
    "test_df = df[~ train_mask]"
   ]
  },
  {
   "cell_type": "code",
   "execution_count": null,
   "id": "ca34f367-211b-40c2-a98a-8413abbe8b79",
   "metadata": {},
   "outputs": [],
   "source": [
    "#hide\n",
    "fcst = StatsForecast(\n",
    "    train_df,\n",
    "    [return_xreg],\n",
    "    freq='M',\n",
    "    n_jobs=1,\n",
    ")\n",
    "xreg = test_df.drop(columns='y')\n",
    "res = fcst.forecast(4, xreg=xreg)\n",
    "expected_res = xreg.rename(columns={'x': 'return_xreg'})\n",
    "pd.testing.assert_frame_equal(res, expected_res, check_dtype=False)"
   ]
  },
  {
   "cell_type": "code",
   "execution_count": null,
   "id": "b6095cae-4788-49f5-9a15-9a61ea49c4f2",
   "metadata": {},
   "outputs": [],
   "source": [
    "#hide\n",
    "if __name__==\"__main__\" and not IN_NOTEBOOK:\n",
    "    fcst = StatsForecast(\n",
    "        train_df,\n",
    "        [return_xreg],\n",
    "        freq='M',\n",
    "        n_jobs=2,\n",
    "    )\n",
    "    xreg = test_df.drop(columns='y')\n",
    "    res = fcst.forecast(4, xreg=xreg)\n",
    "    expected_res = xreg.rename(columns={'x': 'return_xreg'})\n",
    "    pd.testing.assert_frame_equal(res, expected_res, check_dtype=False)"
   ]
  }
 ],
 "metadata": {
  "kernelspec": {
   "display_name": "Python 3 (ipykernel)",
   "language": "python",
   "name": "python3"
  },
  "language_info": {
   "codemirror_mode": {
    "name": "ipython",
    "version": 3
   },
   "file_extension": ".py",
   "mimetype": "text/x-python",
   "name": "python",
   "nbconvert_exporter": "python",
   "pygments_lexer": "ipython3",
   "version": "3.7.12"
  }
 },
 "nbformat": 4,
 "nbformat_minor": 5
}
