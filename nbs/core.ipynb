{
 "cells": [
  {
   "cell_type": "code",
   "execution_count": null,
   "id": "ca59995b",
   "metadata": {},
   "outputs": [],
   "source": [
    "#default_exp core"
   ]
  },
  {
   "cell_type": "code",
   "execution_count": null,
   "id": "f3c32ec9",
   "metadata": {},
   "outputs": [],
   "source": [
    "#hide\n",
    "%load_ext autoreload\n",
    "%autoreload 2"
   ]
  },
  {
   "cell_type": "markdown",
   "id": "8586849f",
   "metadata": {},
   "source": [
    "# Core"
   ]
  },
  {
   "cell_type": "code",
   "execution_count": null,
   "id": "0b69031a",
   "metadata": {},
   "outputs": [],
   "source": [
    "#export\n",
    "import inspect\n",
    "import logging\n",
    "from concurrent.futures import ProcessPoolExecutor\n",
    "from functools import partial\n",
    "from itertools import chain\n",
    "\n",
    "import numpy as np\n",
    "import pandas as pd\n",
    "from numba import njit\n",
    "\n",
    "from statsforecast.utils import generate_daily_series"
   ]
  },
  {
   "cell_type": "code",
   "execution_count": null,
   "id": "a05ba325",
   "metadata": {},
   "outputs": [],
   "source": [
    "#exporti\n",
    "logging.basicConfig(\n",
    "    format='%(asctime)s %(name)s %(levelname)s: %(message)s',\n",
    "    datefmt='%Y-%m-%d %H:%M:%S',\n",
    "    level=logging.INFO,\n",
    ")\n",
    "logger = logging.getLogger(__name__)"
   ]
  },
  {
   "cell_type": "code",
   "execution_count": null,
   "id": "4500647d",
   "metadata": {},
   "outputs": [],
   "source": [
    "from statsforecast.models import adida, ses, historic_average, croston_classic"
   ]
  },
  {
   "cell_type": "code",
   "execution_count": null,
   "id": "a83f17e7",
   "metadata": {},
   "outputs": [],
   "source": [
    "series = generate_daily_series(10_000, equal_ends=True)\n",
    "series"
   ]
  },
  {
   "cell_type": "code",
   "execution_count": null,
   "id": "4edb5977",
   "metadata": {},
   "outputs": [],
   "source": [
    "#export\n",
    "class GroupedArray:\n",
    "    \n",
    "    def __init__(self, data, indptr):\n",
    "        self.data = data\n",
    "        self.indptr = indptr\n",
    "        self.n_groups = self.indptr.size - 1\n",
    "        \n",
    "    def __getitem__(self, idx):\n",
    "        if isinstance(idx, int):\n",
    "            return self.data[self.indptr[idx] : self.indptr[idx + 1]]\n",
    "        elif isinstance(idx, slice):\n",
    "            idx = slice(idx.start, idx.stop + 1, idx.step)\n",
    "            new_indptr = self.indptr[idx].copy()\n",
    "            new_data = self.data[new_indptr[0] : new_indptr[-1]].copy()            \n",
    "            new_indptr -= new_indptr[0]\n",
    "            return GroupedArray(new_data, new_indptr)\n",
    "        raise ValueError(f'idx must be either int or slice, got {type(idx)}')\n",
    "    \n",
    "    def __len__(self):\n",
    "        return self.n_groups\n",
    "    \n",
    "    def __repr__(self):\n",
    "        return f'GroupedArray(n_data={self.data.size:,}, n_groups={self.n_groups:,})'\n",
    "    \n",
    "    def compute_forecasts(self, h, func, *args):\n",
    "        out = np.full(h * self.n_groups, np.nan, dtype=np.float32)\n",
    "        for i, grp in enumerate(self):\n",
    "            out[h * i : h * (i + 1)] = func(grp, h, *args)\n",
    "        return out\n",
    "    \n",
    "    def split(self, n_chunks):\n",
    "        return [self[x[0] : x[-1] + 1] for x in np.array_split(range(self.n_groups), n_chunks)]"
   ]
  },
  {
   "cell_type": "code",
   "execution_count": null,
   "id": "23c69b05",
   "metadata": {},
   "outputs": [],
   "source": [
    "#exporti\n",
    "def _grouped_array_from_df(df):\n",
    "    df = df.set_index('ds', append=True)\n",
    "    if not df.index.is_monotonic_increasing:\n",
    "        df = df.sort_index()\n",
    "    data = df['y'].values.astype(np.float32)\n",
    "    df = df.reset_index('ds')\n",
    "    indices_sizes = df.index.value_counts(sort=False)\n",
    "    indices = indices_sizes.index\n",
    "    sizes = indices_sizes.values\n",
    "    cum_sizes = sizes.cumsum()\n",
    "    dates = df['ds'].values[cum_sizes - 1]\n",
    "    indptr = np.append(0, cum_sizes).astype(np.int32)\n",
    "    return GroupedArray(data, indptr), indices, dates"
   ]
  },
  {
   "cell_type": "code",
   "execution_count": null,
   "id": "1b503dec",
   "metadata": {},
   "outputs": [],
   "source": [
    "%time ga, *_ = _grouped_array_from_df(series)\n",
    "ga"
   ]
  },
  {
   "cell_type": "code",
   "execution_count": null,
   "id": "8805afb9",
   "metadata": {},
   "outputs": [],
   "source": [
    "%time yy = ga.compute_forecasts(14, ses, 0.1)"
   ]
  },
  {
   "cell_type": "code",
   "execution_count": null,
   "id": "8a90dda0",
   "metadata": {},
   "outputs": [],
   "source": [
    "%timeit ga.compute_forecasts(14, ses, 0.1)"
   ]
  },
  {
   "cell_type": "code",
   "execution_count": null,
   "id": "4018d1e5",
   "metadata": {},
   "outputs": [],
   "source": [
    "#exporti\n",
    "def _build_forecast_name(model, *args) -> str:\n",
    "    model_name = f'{model.__name__}'\n",
    "    func_params = inspect.signature(model).parameters\n",
    "    func_args = list(func_params.items())[2:]  # remove input array and horizon\n",
    "    changed_params = [\n",
    "        f'{name}-{value}'\n",
    "        for value, (name, arg) in zip(args, func_args)\n",
    "        if arg.default != value\n",
    "    ]\n",
    "    if changed_params:\n",
    "        model_name += '_' + '_'.join(changed_params)\n",
    "    return model_name\n",
    "\n",
    "def _as_tuple(x):\n",
    "    if isinstance(x, tuple):\n",
    "        return x\n",
    "    return (x, )"
   ]
  },
  {
   "cell_type": "code",
   "execution_count": null,
   "id": "8c3d7f89",
   "metadata": {},
   "outputs": [],
   "source": [
    "np.repeat(np.array([1, 2]), 2)"
   ]
  },
  {
   "cell_type": "code",
   "execution_count": null,
   "id": "d538f423",
   "metadata": {},
   "outputs": [],
   "source": [
    "np.hstack([pd.date_range('2021-01-01', periods=2, freq='D'), pd.date_range('2021-01-01', periods=2, freq='D')])"
   ]
  },
  {
   "cell_type": "code",
   "execution_count": null,
   "id": "e41695d7",
   "metadata": {},
   "outputs": [],
   "source": [
    "#export\n",
    "class StatsForecast:\n",
    "    \n",
    "    def __init__(self, df, models, freq, n_jobs=1):\n",
    "        self.ga, self.uids, self.last_dates = _grouped_array_from_df(df)\n",
    "        self.models = models\n",
    "        self.freq = pd.tseries.frequencies.to_offset(freq)\n",
    "        self.n_jobs = n_jobs\n",
    "        \n",
    "    def forecast(self, h):\n",
    "        if self.n_jobs == 1:\n",
    "            fcsts = self._sequential_forecast(h)\n",
    "        else:\n",
    "            fcsts = self._data_parallel_forecast(h)\n",
    "        dates = np.hstack([\n",
    "            pd.date_range(last_date + self.freq, periods=h, freq=self.freq)\n",
    "            for last_date in self.last_dates            \n",
    "        ])\n",
    "        idx = pd.Index(np.repeat(self.uids, h), name='unique_id')\n",
    "        return pd.DataFrame({'ds': dates, **fcsts}, index=idx)\n",
    "        \n",
    "    def _sequential_forecast(self, h):\n",
    "        fcsts = {}\n",
    "        logger.info('Computing forecasts')\n",
    "        for model_args in self.models:\n",
    "            model, *args = _as_tuple(model_args)\n",
    "            model_name = _build_forecast_name(model, *args)\n",
    "            fcsts[model_name] = self.ga.compute_forecasts(h, model, *args)\n",
    "            logger.info(f'Computed forecasts for {model_name}.')\n",
    "        return fcsts\n",
    "    \n",
    "    def _data_parallel_forecast(self, h):\n",
    "        fcsts = {}\n",
    "        logger.info('Computing forecasts')\n",
    "        gas = self.ga.split(self.n_jobs)\n",
    "        with ProcessPoolExecutor(self.n_jobs) as executor:\n",
    "            for model_args in self.models:\n",
    "                model, *args = _as_tuple(model_args)\n",
    "                model_name = _build_forecast_name(model, *args)\n",
    "                futures = []\n",
    "                for ga in gas:\n",
    "                    future = executor.submit(ga.compute_forecasts, h, model, *args)\n",
    "                    futures.append(future)\n",
    "                fcsts[model_name] = np.hstack([f.result() for f in futures])\n",
    "                logger.info(f'Computed forecasts for {model_name}.')\n",
    "        return fcsts"
   ]
  },
  {
   "cell_type": "code",
   "execution_count": null,
   "id": "af896cab",
   "metadata": {},
   "outputs": [],
   "source": [
    "fcst = StatsForecast(\n",
    "    series,\n",
    "    [adida, (ses, 0.1), (ses, 0.2), (ses, 0.3), historic_average, croston_classic],\n",
    "    freq='D',\n",
    ")\n",
    "%time res1 = fcst.forecast(14)\n",
    "res1"
   ]
  },
  {
   "cell_type": "code",
   "execution_count": null,
   "id": "fe39971c",
   "metadata": {},
   "outputs": [],
   "source": [
    "fcst = StatsForecast(\n",
    "    series,\n",
    "    [adida, (ses, 0.1), (ses, 0.2), (ses, 0.3), historic_average, croston_classic],\n",
    "    freq='D',\n",
    "    n_jobs=2,\n",
    ")\n",
    "%time res2 = fcst.forecast(14)\n",
    "res2"
   ]
  },
  {
   "cell_type": "code",
   "execution_count": null,
   "id": "aee22679",
   "metadata": {},
   "outputs": [],
   "source": [
    "pd.testing.assert_frame_equal(res1, res2)"
   ]
  }
 ],
 "metadata": {
  "kernelspec": {
   "display_name": "Python 3 (ipykernel)",
   "language": "python",
   "name": "python3"
  }
 },
 "nbformat": 4,
 "nbformat_minor": 5
}
