{
 "cells": [
  {
   "cell_type": "code",
   "execution_count": null,
   "id": "524620c1",
   "metadata": {},
   "outputs": [],
   "source": [
    "#default_exp core"
   ]
  },
  {
   "cell_type": "code",
   "execution_count": null,
   "id": "15392f6f",
   "metadata": {},
   "outputs": [],
   "source": [
    "#hide\n",
    "%load_ext autoreload\n",
    "%autoreload 2"
   ]
  },
  {
   "cell_type": "markdown",
   "id": "12fa25a4",
   "metadata": {},
   "source": [
    "# Core"
   ]
  },
  {
   "cell_type": "code",
   "execution_count": null,
   "id": "bc16100a",
   "metadata": {},
   "outputs": [],
   "source": [
    "#export\n",
    "import inspect\n",
    "import logging\n",
    "from concurrent.futures import ProcessPoolExecutor\n",
    "\n",
    "import numpy as np\n",
    "import pandas as pd"
   ]
  },
  {
   "cell_type": "code",
   "execution_count": null,
   "id": "5941fe3f",
   "metadata": {},
   "outputs": [],
   "source": [
    "#exporti\n",
    "logging.basicConfig(\n",
    "    format='%(asctime)s %(name)s %(levelname)s: %(message)s',\n",
    "    datefmt='%Y-%m-%d %H:%M:%S',\n",
    "    level=logging.INFO,\n",
    ")\n",
    "logger = logging.getLogger(__name__)"
   ]
  },
  {
   "cell_type": "code",
   "execution_count": null,
   "id": "d1f64258",
   "metadata": {},
   "outputs": [],
   "source": [
    "from fastcore.test import test_eq\n",
    "\n",
    "from statsforecast.models import (\n",
    "    adida,\n",
    "    croston_classic,\n",
    "    historic_average,\n",
    "    naive,\n",
    "    seasonal_naive,\n",
    "    seasonal_window_average,\n",
    "    ses,\n",
    ")\n",
    "from statsforecast.utils import generate_series"
   ]
  },
  {
   "cell_type": "code",
   "execution_count": null,
   "id": "8792a05a",
   "metadata": {},
   "outputs": [],
   "source": [
    "#exporti\n",
    "class GroupedArray:\n",
    "    \n",
    "    def __init__(self, data, indptr):\n",
    "        self.data = data\n",
    "        self.indptr = indptr\n",
    "        self.n_groups = self.indptr.size - 1\n",
    "        \n",
    "    def __getitem__(self, idx):\n",
    "        if isinstance(idx, int):\n",
    "            return self.data[self.indptr[idx] : self.indptr[idx + 1]]\n",
    "        elif isinstance(idx, slice):\n",
    "            idx = slice(idx.start, idx.stop + 1, idx.step)\n",
    "            new_indptr = self.indptr[idx].copy()\n",
    "            new_data = self.data[new_indptr[0] : new_indptr[-1]].copy()            \n",
    "            new_indptr -= new_indptr[0]\n",
    "            return GroupedArray(new_data, new_indptr)\n",
    "        raise ValueError(f'idx must be either int or slice, got {type(idx)}')\n",
    "    \n",
    "    def __len__(self):\n",
    "        return self.n_groups\n",
    "    \n",
    "    def __repr__(self):\n",
    "        return f'GroupedArray(n_data={self.data.size:,}, n_groups={self.n_groups:,})'\n",
    "    \n",
    "    def __eq__(self, other):\n",
    "        if not hasattr(other, 'data') or not hasattr(other, 'indptr'):\n",
    "            return False\n",
    "        return np.allclose(self.data, other.data) and np.array_equal(self.indptr, other.indptr)\n",
    "    \n",
    "    def compute_forecasts(self, h, func, xreg=None, *args):\n",
    "        out = np.full(h * self.n_groups, np.nan, dtype=np.float32)\n",
    "        xr = None\n",
    "        for i, grp in enumerate(self):\n",
    "            if xreg is not None:\n",
    "                xr = xreg[i*h : (i+1)*h]\n",
    "            out[h * i : h * (i + 1)] = func(grp, h, xr, *args)\n",
    "        return out\n",
    "    \n",
    "    def split(self, n_chunks):\n",
    "        return [self[x[0] : x[-1] + 1] for x in np.array_split(range(self.n_groups), n_chunks)]"
   ]
  },
  {
   "cell_type": "code",
   "execution_count": null,
   "id": "822cacd0",
   "metadata": {},
   "outputs": [],
   "source": [
    "#hide\n",
    "data = np.arange(12)\n",
    "indptr = np.array([0, 4, 8, 12])\n",
    "ga = GroupedArray(data, indptr)\n",
    "\n",
    "test_eq(len(ga), 3)\n",
    "np.testing.assert_equal(\n",
    "    ga.compute_forecasts(2, naive),\n",
    "    np.hstack([2 * [data[i]] for i in indptr[1:] - 1]),\n",
    ")\n",
    "splits = ga.split(2)\n",
    "test_eq(splits[0], GroupedArray(data[:8], indptr[:3]))\n",
    "test_eq(splits[1], GroupedArray(data[8:], np.array([0, 4])))"
   ]
  },
  {
   "cell_type": "code",
   "execution_count": null,
   "id": "0b63f598",
   "metadata": {},
   "outputs": [],
   "source": [
    "#exporti\n",
    "def _grouped_array_from_df(df):\n",
    "    df = df.set_index('ds', append=True)\n",
    "    if not df.index.is_monotonic_increasing:\n",
    "        df = df.sort_index()\n",
    "    data = df.values.astype(np.float32)\n",
    "    indices_sizes = df.index.get_level_values('unique_id').value_counts(sort=False)\n",
    "    indices = indices_sizes.index\n",
    "    sizes = indices_sizes.values\n",
    "    cum_sizes = sizes.cumsum()\n",
    "    dates = df.index.get_level_values('ds')[cum_sizes - 1]\n",
    "    indptr = np.append(0, cum_sizes).astype(np.int32)\n",
    "    return GroupedArray(data, indptr), indices, dates"
   ]
  },
  {
   "cell_type": "code",
   "execution_count": null,
   "id": "d450cde4",
   "metadata": {},
   "outputs": [],
   "source": [
    "#hide\n",
    "series = generate_series(10_000, n_static_features=2, equal_ends=False)\n",
    "sorted_series = series.sort_values(['unique_id', 'ds'])\n",
    "unsorted_series = sorted_series.sample(frac=1.0)\n",
    "ga, indices, dates = _grouped_array_from_df(unsorted_series)\n",
    "\n",
    "np.testing.assert_allclose(ga.data, sorted_series.drop(columns='ds').values)\n",
    "test_eq(indices, sorted_series.index.unique(level='unique_id'))\n",
    "test_eq(dates, series.groupby('unique_id')['ds'].max().values)"
   ]
  },
  {
   "cell_type": "code",
   "execution_count": null,
   "id": "7aafa169",
   "metadata": {},
   "outputs": [],
   "source": [
    "#exporti\n",
    "def _build_forecast_name(model, *args) -> str:\n",
    "    model_name = f'{model.__name__}'\n",
    "    func_params = inspect.signature(model).parameters\n",
    "    func_args = list(func_params.items())[3:]  # remove input array, horizon and xreg\n",
    "    changed_params = [\n",
    "        f'{name}-{value}'\n",
    "        for value, (name, arg) in zip(args, func_args)\n",
    "        if arg.default != value\n",
    "    ]\n",
    "    if changed_params:\n",
    "        model_name += '_' + '_'.join(changed_params)\n",
    "    return model_name"
   ]
  },
  {
   "cell_type": "code",
   "execution_count": null,
   "id": "4ff8cd1d",
   "metadata": {},
   "outputs": [],
   "source": [
    "#hide\n",
    "test_eq(_build_forecast_name(ses, 0.1), 'ses_alpha-0.1')\n",
    "test_eq(_build_forecast_name(seasonal_window_average, 7, 4), 'seasonal_window_average_season_length-7_window_size-4')"
   ]
  },
  {
   "cell_type": "code",
   "execution_count": null,
   "id": "b8ba3f8d",
   "metadata": {},
   "outputs": [],
   "source": [
    "#exporti\n",
    "def _as_tuple(x):\n",
    "    if isinstance(x, tuple):\n",
    "        return x\n",
    "    return (x,)"
   ]
  },
  {
   "cell_type": "code",
   "execution_count": null,
   "id": "abd2b41f",
   "metadata": {},
   "outputs": [],
   "source": [
    "#hide\n",
    "test_eq(_as_tuple((1,)), (1,))\n",
    "test_eq(_as_tuple(1), (1,))"
   ]
  },
  {
   "cell_type": "code",
   "execution_count": null,
   "id": "55e7021a",
   "metadata": {},
   "outputs": [],
   "source": [
    "#export\n",
    "class StatsForecast:\n",
    "    \n",
    "    def __init__(self, df, models, freq, n_jobs=1):\n",
    "        self.ga, self.uids, self.last_dates = _grouped_array_from_df(df)\n",
    "        self.models = models\n",
    "        self.freq = pd.tseries.frequencies.to_offset(freq)\n",
    "        self.n_jobs = n_jobs\n",
    "        \n",
    "    def forecast(self, h, xreg=None):\n",
    "        if self.n_jobs == 1:\n",
    "            fcsts = self._sequential_forecast(h, xreg)\n",
    "        else:\n",
    "            fcsts = self._data_parallel_forecast(h, xreg)\n",
    "        if issubclass(self.last_dates.dtype.type, np.integer):\n",
    "            dates = np.hstack([\n",
    "                np.arange(last_date + 1, last_date + 1 + h, dtype=self.last_dates.dtype)\n",
    "                for last_date in self.last_dates            \n",
    "            ])\n",
    "        else:\n",
    "            dates = np.hstack([\n",
    "                pd.date_range(last_date + self.freq, periods=h, freq=self.freq)\n",
    "                for last_date in self.last_dates            \n",
    "            ])\n",
    "        idx = pd.Index(np.repeat(self.uids, h), name='unique_id')\n",
    "        return pd.DataFrame({'ds': dates, **fcsts}, index=idx)\n",
    "        \n",
    "    def _sequential_forecast(self, h, xreg):\n",
    "        fcsts = {}\n",
    "        logger.info('Computing forecasts')\n",
    "        for model_args in self.models:\n",
    "            model, *args = _as_tuple(model_args)\n",
    "            model_name = _build_forecast_name(model, *args)\n",
    "            fcsts[model_name] = self.ga.compute_forecasts(h, model, xreg, *args)\n",
    "            logger.info(f'Computed forecasts for {model_name}.')\n",
    "        return fcsts\n",
    "    \n",
    "    def _data_parallel_forecast(self, h, xreg):\n",
    "        fcsts = {}\n",
    "        logger.info('Computing forecasts')\n",
    "        gas = self.ga.split(self.n_jobs)\n",
    "        with ProcessPoolExecutor(self.n_jobs) as executor:\n",
    "            for model_args in self.models:\n",
    "                model, *args = _as_tuple(model_args)\n",
    "                model_name = _build_forecast_name(model, *args)\n",
    "                futures = []\n",
    "                for ga in gas:\n",
    "                    future = executor.submit(ga.compute_forecasts, h, model, xreg, *args)\n",
    "                    futures.append(future)\n",
    "                fcsts[model_name] = np.hstack([f.result() for f in futures])\n",
    "                logger.info(f'Computed forecasts for {model_name}.')\n",
    "        return fcsts"
   ]
  },
  {
   "cell_type": "markdown",
   "id": "6db0ab81",
   "metadata": {},
   "source": [
    "## Daily data"
   ]
  },
  {
   "cell_type": "code",
   "execution_count": null,
   "id": "add1a6f5",
   "metadata": {},
   "outputs": [],
   "source": [
    "fcst = StatsForecast(\n",
    "    series,\n",
    "    [adida, (ses, 0.1), historic_average, croston_classic],\n",
    "    freq='D',\n",
    ")\n",
    "res = fcst.forecast(14)\n",
    "res"
   ]
  },
  {
   "cell_type": "code",
   "execution_count": null,
   "id": "1886551a",
   "metadata": {},
   "outputs": [],
   "source": [
    "#hide\n",
    "test_eq(res.index.unique(), fcst.uids)\n",
    "last_dates = series.groupby('unique_id')['ds'].max()\n",
    "test_eq(res.groupby('unique_id')['ds'].min().values, last_dates + pd.offsets.Day())\n",
    "test_eq(res.groupby('unique_id')['ds'].max().values, last_dates + 14 * pd.offsets.Day())"
   ]
  },
  {
   "cell_type": "markdown",
   "id": "c2a014d9",
   "metadata": {},
   "source": [
    "## Monthly data"
   ]
  },
  {
   "cell_type": "code",
   "execution_count": null,
   "id": "11ff6a2d",
   "metadata": {},
   "outputs": [],
   "source": [
    "monthly_series = generate_series(10_000, freq='M', min_length=10, max_length=20, equal_ends=True)\n",
    "monthly_series"
   ]
  },
  {
   "cell_type": "code",
   "execution_count": null,
   "id": "a050b58f",
   "metadata": {},
   "outputs": [],
   "source": [
    "fcst = StatsForecast(\n",
    "    monthly_series,\n",
    "    [adida, (ses, 0.1), historic_average, croston_classic],\n",
    "    freq='M',\n",
    ")\n",
    "%time monthly_res = fcst.forecast(4)\n",
    "monthly_res"
   ]
  },
  {
   "cell_type": "code",
   "execution_count": null,
   "id": "a770d8d4",
   "metadata": {},
   "outputs": [],
   "source": [
    "#hide\n",
    "last_dates = monthly_series.groupby('unique_id')['ds'].max()\n",
    "test_eq(monthly_res.groupby('unique_id')['ds'].min().values, fcst.last_dates + pd.offsets.MonthEnd())\n",
    "test_eq(monthly_res.groupby('unique_id')['ds'].max().values, fcst.last_dates + 4 * pd.offsets.MonthEnd())"
   ]
  },
  {
   "cell_type": "markdown",
   "id": "a1ddc742-cae0-43f8-89eb-f5ae2effeb15",
   "metadata": {},
   "source": [
    "## Integer datestamp"
   ]
  },
  {
   "cell_type": "code",
   "execution_count": null,
   "id": "8cc45251-a56b-4dad-9d84-9a843de0e794",
   "metadata": {},
   "outputs": [],
   "source": [
    "from statsforecast.utils import AirPassengers as ap"
   ]
  },
  {
   "cell_type": "code",
   "execution_count": null,
   "id": "aa0e072d-5f62-4c1a-8b0c-1592a7f992b1",
   "metadata": {},
   "outputs": [],
   "source": [
    "int_ds_df = pd.DataFrame({'ds': np.arange(1, len(ap) + 1), 'y': ap})\n",
    "int_ds_df.insert(0, 'unique_id', 'AirPassengers')\n",
    "int_ds_df.set_index('unique_id', inplace=True)\n",
    "int_ds_df.head()"
   ]
  },
  {
   "cell_type": "code",
   "execution_count": null,
   "id": "9c1575c5-ad2b-419d-aff1-f757ce39f27b",
   "metadata": {},
   "outputs": [],
   "source": [
    "int_ds_df.tail()"
   ]
  },
  {
   "cell_type": "code",
   "execution_count": null,
   "id": "0bfbe2a7-3205-4976-9e78-3225b7808444",
   "metadata": {},
   "outputs": [],
   "source": [
    "fcst = StatsForecast(int_ds_df, models=[historic_average], freq='D')\n",
    "horizon = 7\n",
    "forecast = fcst.forecast(horizon)\n",
    "forecast.head()"
   ]
  },
  {
   "cell_type": "code",
   "execution_count": null,
   "id": "df545ed2-7b28-44a6-875d-58a3ea7a934b",
   "metadata": {},
   "outputs": [],
   "source": [
    "last_date = int_ds_df['ds'].max()\n",
    "test_eq(forecast['ds'].values, np.arange(last_date + 1, last_date + 1 + horizon))"
   ]
  },
  {
   "cell_type": "markdown",
   "id": "23eb42c4-8275-430f-b074-d93f71c0ca22",
   "metadata": {},
   "source": [
    "## External regressors"
   ]
  },
  {
   "cell_type": "markdown",
   "id": "3320eba6-603d-431e-9f5c-0ba2df7876d8",
   "metadata": {},
   "source": [
    "Every column after **y** is considered an external regressor and will be passed to the models that allow them. If you use them you must supply the future values to the `forecast` method."
   ]
  },
  {
   "cell_type": "code",
   "execution_count": null,
   "id": "df99fb36-c574-47d7-bff6-d95a1172c572",
   "metadata": {},
   "outputs": [],
   "source": [
    "def linear_regression(X, h, future_xreg):\n",
    "    y = X[:, 0]\n",
    "    xreg = X[:, 1:]\n",
    "    coefs, *_ = np.linalg.lstsq(xreg, y, rcond=None)\n",
    "    return future_xreg @ coefs"
   ]
  },
  {
   "cell_type": "code",
   "execution_count": null,
   "id": "91be1d0a-7943-4082-8987-40535635bdc6",
   "metadata": {},
   "outputs": [],
   "source": [
    "series_xreg = series = generate_series(10_000, equal_ends=True)\n",
    "series_xreg['intercept'] = 1\n",
    "series_xreg['dayofweek'] = series_xreg['ds'].dt.dayofweek\n",
    "series_xreg = pd.get_dummies(series_xreg, columns=['dayofweek'], drop_first=True)\n",
    "series_xreg"
   ]
  },
  {
   "cell_type": "code",
   "execution_count": null,
   "id": "830bc4c7-9f0f-4cdc-a639-965cc2ea0bf3",
   "metadata": {},
   "outputs": [],
   "source": [
    "dates = sorted(series_xreg['ds'].unique())\n",
    "valid_start = dates[-14]\n",
    "train_mask = series_xreg['ds'] < valid_start\n",
    "series_train = series_xreg[train_mask]\n",
    "series_valid = series_xreg[~train_mask]\n",
    "X_valid = series_valid.drop(columns=['ds', 'y'])\n",
    "fcst = StatsForecast(\n",
    "    series_train,\n",
    "    [linear_regression],\n",
    "    freq='D',\n",
    ")\n",
    "%time xreg_res = fcst.forecast(14, xreg=X_valid)\n",
    "xreg_res['y'] = series_valid['y'].values"
   ]
  },
  {
   "cell_type": "code",
   "execution_count": null,
   "id": "8b339f52-af88-4dc8-93af-cbbc751e231e",
   "metadata": {},
   "outputs": [],
   "source": [
    "xreg_res.groupby('ds').mean().plot();"
   ]
  }
 ],
 "metadata": {
  "kernelspec": {
   "display_name": "Python 3 (ipykernel)",
   "language": "python",
   "name": "python3"
  }
 },
 "nbformat": 4,
 "nbformat_minor": 5
}
