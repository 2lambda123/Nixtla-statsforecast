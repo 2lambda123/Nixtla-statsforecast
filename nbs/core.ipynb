{
 "cells": [
  {
   "cell_type": "code",
   "execution_count": null,
   "id": "6b978d64",
   "metadata": {},
   "outputs": [],
   "source": [
    "#default_exp core"
   ]
  },
  {
   "cell_type": "code",
   "execution_count": null,
   "id": "c85dc433",
   "metadata": {},
   "outputs": [],
   "source": [
    "#hide\n",
    "%load_ext autoreload\n",
    "%autoreload 2"
   ]
  },
  {
   "cell_type": "code",
   "execution_count": null,
   "id": "bf96eaf4",
   "metadata": {},
   "outputs": [],
   "source": [
    "#export\n",
    "import logging\n",
    "\n",
    "import numpy as np\n",
    "import pandas as pd\n",
    "from numba import njit\n",
    "\n",
    "from statsforecast.utils import generate_daily_series"
   ]
  },
  {
   "cell_type": "code",
   "execution_count": null,
   "id": "a2970a47",
   "metadata": {},
   "outputs": [],
   "source": [
    "#exporti\n",
    "logging.basicConfig(\n",
    "    format='%(asctime)s %(name)s %(levelname)s: %(message)s',\n",
    "    datefmt='%Y-%m-%d %H:%M:%S',\n",
    "    level=logging.INFO,\n",
    ")\n",
    "logger = logging.getLogger(__name__)"
   ]
  },
  {
   "cell_type": "code",
   "execution_count": null,
   "id": "2ef59874",
   "metadata": {},
   "outputs": [],
   "source": [
    "from statsforecast.models import adida, ses, historic_average, croston_classic"
   ]
  },
  {
   "cell_type": "code",
   "execution_count": null,
   "id": "665082a3",
   "metadata": {},
   "outputs": [],
   "source": [
    "series = generate_daily_series(50_000, equal_ends=True)\n",
    "series"
   ]
  },
  {
   "cell_type": "code",
   "execution_count": null,
   "id": "7ad8ac79",
   "metadata": {},
   "outputs": [],
   "source": [
    "#export\n",
    "class GroupedArray:\n",
    "    \n",
    "    def __init__(self, data, indptr):\n",
    "        self.data = data\n",
    "        self.indptr = indptr\n",
    "        self.n_groups = self.indptr.size - 1\n",
    "        \n",
    "    def __getitem__(self, idx):\n",
    "        if isinstance(idx, int):\n",
    "            return self.data[self.indptr[idx] : self.indptr[idx + 1]]\n",
    "        elif isinstance(idx, slice):\n",
    "            idx = slice(idx.start, idx.stop + 1, idx.step)\n",
    "            new_indptr = self.indptr[idx].copy()\n",
    "            new_data = self.data[new_indptr[0] : new_indptr[-1]].copy()            \n",
    "            new_indptr -= new_indptr[0]\n",
    "            return GroupedArray(new_data, new_indptr)\n",
    "        raise ValueError(f'idx must be either int or slice, got {type(idx)}')\n",
    "    \n",
    "    def __len__(self):\n",
    "        return self.n_groups\n",
    "    \n",
    "    def __repr__(self):\n",
    "        return f'GroupedArray(n_data={self.data.size:,}, n_groups={self.n_groups:,})'\n",
    "    \n",
    "    def compute_forecasts(self, h, func, *args):\n",
    "        out = np.full(h * self.n_groups, np.nan, dtype=np.float32)\n",
    "        for i, grp in enumerate(self):\n",
    "            out[h * i : h * (i + 1)] = func(grp, h, *args)\n",
    "        return out\n",
    "    \n",
    "    def split(self, n_chunks):\n",
    "        return [self[x[0] : x[-1] + 1] for x in np.array_split(range(self.n_groups), n_chunks)]"
   ]
  },
  {
   "cell_type": "code",
   "execution_count": null,
   "id": "afa56c08",
   "metadata": {},
   "outputs": [],
   "source": [
    "#export\n",
    "def grouped_array_from_df(df):\n",
    "    df = df.sort_values(['unique_id', 'ds'])\n",
    "    sizes = df.groupby('unique_id').size()\n",
    "    data = df['y'].values.astype(np.float32)\n",
    "    indptr = np.append(0, sizes.cumsum()).astype(np.int32)\n",
    "    return GroupedArray(data, indptr)"
   ]
  },
  {
   "cell_type": "code",
   "execution_count": null,
   "id": "adc5cbff",
   "metadata": {},
   "outputs": [],
   "source": [
    "ga = grouped_array_from_df(series)\n",
    "ga"
   ]
  },
  {
   "cell_type": "code",
   "execution_count": null,
   "id": "7e86f05b",
   "metadata": {},
   "outputs": [],
   "source": [
    "%time yy = ga.compute_forecasts(14, ses, 0.1)"
   ]
  },
  {
   "cell_type": "code",
   "execution_count": null,
   "id": "80f55fce",
   "metadata": {},
   "outputs": [],
   "source": [
    "%timeit ga.compute_forecasts(14, ses, 0.1)"
   ]
  },
  {
   "cell_type": "code",
   "execution_count": null,
   "id": "751ceabf",
   "metadata": {},
   "outputs": [],
   "source": [
    "def plot_fcst(ga, h, func, *args):\n",
    "    future_dates = pd.date_range(series['ds'].max(), periods=14, freq='D')\n",
    "    idx = pd.Index(np.hstack([future_dates for _ in range(ga.n_groups)]), name='ds')\n",
    "    fcst = pd.Series(ga.compute_forecasts(h, func, *args), index=idx)\n",
    "    ax = series.groupby('ds')['y'].sum().tail(50).plot(marker='.', figsize=(16, 6))\n",
    "    fcst.groupby('ds').sum().plot(ax=ax, marker='.');"
   ]
  },
  {
   "cell_type": "code",
   "execution_count": null,
   "id": "bf0666d8",
   "metadata": {},
   "outputs": [],
   "source": [
    "%time plot_fcst(ga, 14, ses, 0.1)"
   ]
  },
  {
   "cell_type": "code",
   "execution_count": null,
   "id": "310684fd",
   "metadata": {},
   "outputs": [],
   "source": [
    "%time plot_fcst(ga, 14, historic_average)"
   ]
  },
  {
   "cell_type": "code",
   "execution_count": null,
   "id": "f2da4398",
   "metadata": {},
   "outputs": [],
   "source": [
    "%time plot_fcst(ga, 14, croston_classic)"
   ]
  },
  {
   "cell_type": "code",
   "execution_count": null,
   "id": "3b921153",
   "metadata": {},
   "outputs": [],
   "source": [
    "%time plot_fcst(ga, 14, adida)"
   ]
  },
  {
   "cell_type": "code",
   "execution_count": null,
   "id": "cdb245f6",
   "metadata": {},
   "outputs": [],
   "source": [
    "ga.split(5)"
   ]
  },
  {
   "cell_type": "code",
   "execution_count": null,
   "id": "4e4b7159",
   "metadata": {},
   "outputs": [],
   "source": [
    "#exporti\n",
    "import inspect\n",
    "\n",
    "def _build_forecast_name(model, *args) -> str:\n",
    "    model_name = f'{model.__name__}'\n",
    "    func_params = inspect.signature(model).parameters\n",
    "    func_args = list(func_params.items())[2:]  # remove input array and horizon\n",
    "    changed_params = [\n",
    "        f'{name}-{value}'\n",
    "        for value, (name, arg) in zip(args, func_args)\n",
    "        if arg.default != value\n",
    "    ]\n",
    "    if changed_params:\n",
    "        model_name += '_' + '_'.join(changed_params)\n",
    "    return model_name\n",
    "\n",
    "def _as_tuple(x):\n",
    "    if isinstance(x, tuple):\n",
    "        return x\n",
    "    return (x, )"
   ]
  },
  {
   "cell_type": "code",
   "execution_count": null,
   "id": "571e5164",
   "metadata": {},
   "outputs": [],
   "source": [
    "def compute_forecast(ga, h, model, *args):\n",
    "    return ga.compute_forecasts(h, model, *args)"
   ]
  },
  {
   "cell_type": "code",
   "execution_count": null,
   "id": "c4ae97ea",
   "metadata": {},
   "outputs": [],
   "source": [
    "from concurrent.futures import ProcessPoolExecutor\n",
    "from functools import partial\n",
    "\n",
    "class StatsForecast:\n",
    "    \n",
    "    def __init__(self, df, models, n_jobs=1):\n",
    "        self.ga = grouped_array_from_df(df)\n",
    "        self.models = models\n",
    "        self.n_jobs = n_jobs\n",
    "        \n",
    "    def forecast(self, h):\n",
    "        fcsts = {}\n",
    "        logger.info('Computing forecasts')\n",
    "        for model_args in self.models:\n",
    "            model, *args = _as_tuple(model_args)\n",
    "            model_name = _build_forecast_name(model, *args)\n",
    "            fcsts[model_name] = self.ga.compute_forecasts(h, model, *args)\n",
    "            logger.info(f'Computed forecasts for {model_name}.')\n",
    "        return pd.DataFrame(fcsts)\n",
    "    \n",
    "    def data_parallel_forecast(self, h):\n",
    "        fcsts = {}\n",
    "        logger.info('Computing forecasts')\n",
    "        gas = self.ga.split(self.n_jobs)\n",
    "        with ProcessPoolExecutor(self.n_jobs) as executor:\n",
    "            for model_args in self.models:\n",
    "                model, *args = _as_tuple(model_args)\n",
    "                model_name = _build_forecast_name(model, *args)\n",
    "                forecast_func = partial(compute_forecast, h=h, model=model, *args)\n",
    "                futures = []\n",
    "                for ga in gas:\n",
    "                    future = executor.submit(ga.compute_forecasts, h, model, *args)\n",
    "                    futures.append(future)\n",
    "                fcsts[model_name] = np.hstack([f.result() for f in futures])\n",
    "                logger.info(f'Computed forecasts for {model_name}.')\n",
    "        return pd.DataFrame(fcsts)"
   ]
  },
  {
   "cell_type": "code",
   "execution_count": null,
   "id": "1acddc4b",
   "metadata": {},
   "outputs": [],
   "source": [
    "fcst = StatsForecast(series, [adida, (ses, 0.1), (ses, 0.2), (ses, 0.3), historic_average, croston_classic], n_jobs=2)"
   ]
  },
  {
   "cell_type": "code",
   "execution_count": null,
   "id": "8cf65de2",
   "metadata": {},
   "outputs": [],
   "source": [
    "%time res1 = fcst.forecast(14)\n",
    "res1"
   ]
  },
  {
   "cell_type": "code",
   "execution_count": null,
   "id": "3f5c86e7",
   "metadata": {},
   "outputs": [],
   "source": [
    "%time res2 = fcst.data_parallel_forecast(14)\n",
    "res2"
   ]
  },
  {
   "cell_type": "code",
   "execution_count": null,
   "id": "4ba4fd4c",
   "metadata": {},
   "outputs": [],
   "source": [
    "pd.testing.assert_frame_equal(res1, res2)"
   ]
  }
 ],
 "metadata": {
  "kernelspec": {
   "display_name": "Python 3 (ipykernel)",
   "language": "python",
   "name": "python3"
  }
 },
 "nbformat": 4,
 "nbformat_minor": 5
}
