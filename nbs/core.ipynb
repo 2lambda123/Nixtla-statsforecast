{
 "cells": [
  {
   "cell_type": "code",
   "execution_count": null,
   "id": "524620c1",
   "metadata": {},
   "outputs": [],
   "source": [
    "#default_exp core"
   ]
  },
  {
   "cell_type": "code",
   "execution_count": null,
   "id": "15392f6f",
   "metadata": {},
   "outputs": [],
   "source": [
    "#hide\n",
    "%load_ext autoreload\n",
    "%autoreload 2"
   ]
  },
  {
   "cell_type": "markdown",
   "id": "12fa25a4",
   "metadata": {},
   "source": [
    "# Core"
   ]
  },
  {
   "cell_type": "code",
   "execution_count": null,
   "id": "02ce0ed1-3b26-478e-8f74-3419adbbdc6b",
   "metadata": {},
   "outputs": [],
   "source": [
    "#hide\n",
    "import warnings\n",
    "warnings.filterwarnings('ignore', category=FutureWarning)"
   ]
  },
  {
   "cell_type": "code",
   "execution_count": null,
   "id": "bc16100a",
   "metadata": {},
   "outputs": [],
   "source": [
    "#export\n",
    "import inspect\n",
    "import logging\n",
    "from functools import partial\n",
    "from os import cpu_count\n",
    "\n",
    "import numpy as np\n",
    "import pandas as pd"
   ]
  },
  {
   "cell_type": "code",
   "execution_count": null,
   "id": "6d8d5b82-2be9-41f5-8cd0-3903d0761e09",
   "metadata": {},
   "outputs": [],
   "source": [
    "#exporti\n",
    "logging.basicConfig(\n",
    "    format='%(asctime)s %(name)s %(levelname)s: %(message)s',\n",
    "    datefmt='%Y-%m-%d %H:%M:%S',\n",
    ")\n",
    "logger = logging.getLogger(__name__)"
   ]
  },
  {
   "cell_type": "code",
   "execution_count": null,
   "id": "353aca25-18cd-401a-b6af-007a9aec8047",
   "metadata": {},
   "outputs": [],
   "source": [
    "#hide\n",
    "logger.setLevel(logging.ERROR)"
   ]
  },
  {
   "cell_type": "code",
   "execution_count": null,
   "id": "d1f64258",
   "metadata": {},
   "outputs": [],
   "source": [
    "from fastcore.test import test_eq\n",
    "\n",
    "from statsforecast.models import (\n",
    "    adida,\n",
    "    auto_arima,\n",
    "    croston_classic,\n",
    "    croston_optimized,\n",
    "    croston_sba,\n",
    "    historic_average,\n",
    "    imapa,\n",
    "    naive,\n",
    "    random_walk_with_drift,\n",
    "    seasonal_exponential_smoothing,\n",
    "    seasonal_naive,\n",
    "    seasonal_window_average,\n",
    "    ses,\n",
    "    tsb,\n",
    "    window_average,\n",
    ")\n",
    "from statsforecast.utils import generate_series"
   ]
  },
  {
   "cell_type": "code",
   "execution_count": null,
   "id": "aacb71d9-3438-48cb-9247-bad463fa9eae",
   "metadata": {},
   "outputs": [],
   "source": [
    "#exporti\n",
    "class GroupedArray:\n",
    "    \n",
    "    def __init__(self, data, indptr):\n",
    "        self.data = data\n",
    "        self.indptr = indptr\n",
    "        self.n_groups = self.indptr.size - 1\n",
    "        \n",
    "    def __getitem__(self, idx):\n",
    "        if isinstance(idx, int):\n",
    "            return self.data[self.indptr[idx] : self.indptr[idx + 1]]\n",
    "        elif isinstance(idx, slice):\n",
    "            idx = slice(idx.start, idx.stop + 1, idx.step)\n",
    "            new_indptr = self.indptr[idx].copy()\n",
    "            new_data = self.data[new_indptr[0] : new_indptr[-1]].copy()            \n",
    "            new_indptr -= new_indptr[0]\n",
    "            return GroupedArray(new_data, new_indptr)\n",
    "        raise ValueError(f'idx must be either int or slice, got {type(idx)}')\n",
    "    \n",
    "    def __len__(self):\n",
    "        return self.n_groups\n",
    "    \n",
    "    def __repr__(self):\n",
    "        return f'GroupedArray(n_data={self.data.size:,}, n_groups={self.n_groups:,})'\n",
    "    \n",
    "    def __eq__(self, other):\n",
    "        if not hasattr(other, 'data') or not hasattr(other, 'indptr'):\n",
    "            return False\n",
    "        return np.allclose(self.data, other.data) and np.array_equal(self.indptr, other.indptr)\n",
    "    \n",
    "    def compute_forecasts(self, h, func, xreg=None, level=None, *args):\n",
    "        has_level = 'level' in inspect.signature(func).parameters and level is not None\n",
    "        if has_level:\n",
    "            out = np.full((h * self.n_groups, 2 * len(level) + 1), np.nan, dtype=np.float32)\n",
    "            func = partial(func, level=level)\n",
    "        else:\n",
    "            out = np.full(h * self.n_groups, np.nan, dtype=np.float32)\n",
    "        xr = None\n",
    "        keys = None\n",
    "        for i, grp in enumerate(self):\n",
    "            if xreg is not None:\n",
    "                xr = xreg[i]\n",
    "            res = func(grp, h, xr, *args)                \n",
    "            if has_level:\n",
    "                if keys is None:\n",
    "                    keys = list(res.keys())\n",
    "                for j, key in enumerate(keys):\n",
    "                    out[h * i : h * (i + 1), j] = res[key]\n",
    "            else:\n",
    "                out[h * i : h * (i + 1)] = res\n",
    "        return out, keys\n",
    "    \n",
    "    def compute_cv(self, h, test_size, func, input_size=None, *args):\n",
    "        # output of size: (ts, window, h)\n",
    "        # assuming step_size = 1 for the moment\n",
    "        n_windows = test_size - h + 1\n",
    "        out = np.full((self.n_groups, n_windows, h), np.nan, dtype=np.float32)\n",
    "        out_test = np.full((self.n_groups, n_windows, h), np.nan, dtype=np.float32)\n",
    "        for i_ts, grp in enumerate(self):\n",
    "            for i_window in range(n_windows):\n",
    "                cutoff = -test_size + i_window\n",
    "                end_cutoff = cutoff + h\n",
    "                y_train = grp[(cutoff - input_size):cutoff] if input_size is not None else grp[:cutoff]\n",
    "                y_test = grp[cutoff:] if end_cutoff == 0 else grp[cutoff:end_cutoff]\n",
    "                future_xreg = y_test[:, 1:] if (y_test.ndim == 2 and y_test.shape[1] > 1) else None\n",
    "                out[i_ts, i_window] = func(y_train, h, future_xreg, *args)\n",
    "                out_test[i_ts, i_window] = y_test[:, 0] if y_test.ndim == 2 else y_test\n",
    "        \n",
    "        return out, out_test\n",
    "\n",
    "    def split(self, n_chunks):\n",
    "        return [self[x[0] : x[-1] + 1] for x in np.array_split(range(self.n_groups), n_chunks) if x.size]"
   ]
  },
  {
   "cell_type": "code",
   "execution_count": null,
   "id": "822cacd0",
   "metadata": {},
   "outputs": [],
   "source": [
    "#hide\n",
    "data = np.arange(12)\n",
    "indptr = np.array([0, 4, 8, 12])\n",
    "ga = GroupedArray(data, indptr)\n",
    "\n",
    "test_eq(len(ga), 3)\n",
    "np.testing.assert_equal(\n",
    "    ga.compute_forecasts(2, naive)[0],\n",
    "    np.hstack([2 * [data[i]] for i in indptr[1:] - 1]),\n",
    ")\n",
    "splits = ga.split(2)\n",
    "test_eq(splits[0], GroupedArray(data[:8], indptr[:3]))\n",
    "test_eq(splits[1], GroupedArray(data[8:], np.array([0, 4])))"
   ]
  },
  {
   "cell_type": "code",
   "execution_count": null,
   "id": "69e325a2-aaa4-406c-9008-b5987e1372f0",
   "metadata": {},
   "outputs": [],
   "source": [
    "#hide\n",
    "data = np.hstack([np.arange(10), np.arange(100, 200), np.arange(20, 40)])\n",
    "indptr = np.array([0, 10, 110, 130])\n",
    "ga = GroupedArray(data, indptr)\n",
    "def sum_ahead(x, h, xreg):\n",
    "    return x[-1] + np.arange(1, h + 1)\n",
    "y_hat, y_test = ga.compute_cv(h=2, test_size=5, func=sum_ahead)\n",
    "np.testing.assert_equal(y_hat, y_test)"
   ]
  },
  {
   "cell_type": "code",
   "execution_count": null,
   "id": "0b63f598",
   "metadata": {},
   "outputs": [],
   "source": [
    "#exporti\n",
    "def _grouped_array_from_df(df, sort_df):\n",
    "    df = df.set_index('ds', append=True)\n",
    "    if not df.index.is_monotonic_increasing and sort_df:\n",
    "        df = df.sort_index()\n",
    "    data = df.values.astype(np.float32)\n",
    "    indices_sizes = df.index.get_level_values('unique_id').value_counts(sort=False)\n",
    "    indices = indices_sizes.index\n",
    "    sizes = indices_sizes.values\n",
    "    cum_sizes = sizes.cumsum()\n",
    "    dates = df.index.get_level_values('ds')[cum_sizes - 1]\n",
    "    indptr = np.append(0, cum_sizes).astype(np.int32)\n",
    "    return GroupedArray(data, indptr), indices, dates"
   ]
  },
  {
   "cell_type": "code",
   "execution_count": null,
   "id": "d450cde4",
   "metadata": {},
   "outputs": [],
   "source": [
    "#hide\n",
    "series = generate_series(10_000, n_static_features=2, equal_ends=False)\n",
    "sorted_series = series.sort_values(['unique_id', 'ds'])\n",
    "unsorted_series = sorted_series.sample(frac=1.0)\n",
    "ga, indices, dates = _grouped_array_from_df(unsorted_series, sort_df=True)\n",
    "\n",
    "np.testing.assert_allclose(ga.data, sorted_series.drop(columns='ds').values)\n",
    "test_eq(indices, sorted_series.index.unique(level='unique_id'))\n",
    "test_eq(dates, series.groupby('unique_id')['ds'].max().values)"
   ]
  },
  {
   "cell_type": "code",
   "execution_count": null,
   "id": "2248ad77-7658-416a-8eb5-fac9b17d8f1c",
   "metadata": {},
   "outputs": [],
   "source": [
    "#exporti\n",
    "def _cv_dates(last_dates, freq, h, test_size):\n",
    "    #assuming step_size = 1\n",
    "    n_windows = test_size - h + 1\n",
    "    if len(np.unique(last_dates)) == 1:\n",
    "        if issubclass(last_dates.dtype.type, np.integer):\n",
    "            total_dates = np.arange(last_dates[0] - test_size + 1, last_dates[0] + 1)\n",
    "            out = np.empty((h * n_windows, 2), dtype=last_dates.dtype)\n",
    "            freq = 1\n",
    "        else:\n",
    "            total_dates = pd.date_range(end=last_dates[0], periods=test_size, freq=freq)\n",
    "            out = np.empty((h * n_windows, 2), dtype='datetime64[s]')\n",
    "        for i_window in range(n_windows):\n",
    "            out[h * i_window : h * (i_window + 1), 0] = total_dates[i_window:(i_window + h)]\n",
    "            out[h * i_window : h * (i_window + 1), 1] = np.tile(total_dates[i_window] - freq * 1, h)\n",
    "        dates = pd.DataFrame(np.tile(out, (len(last_dates), 1)), columns=['ds', 'cutoff'])\n",
    "    else:\n",
    "        dates = pd.concat([_cv_dates(np.array([ld]), freq, h, test_size) for ld in last_dates])\n",
    "        dates = dates.reset_index(drop=True)\n",
    "    return dates"
   ]
  },
  {
   "cell_type": "code",
   "execution_count": null,
   "id": "39444de3-107c-4024-8dfa-d4c5278db639",
   "metadata": {},
   "outputs": [],
   "source": [
    "#hide\n",
    "ds_int_cv_test = pd.DataFrame({\n",
    "    'ds': np.hstack([\n",
    "        [46, 47, 48],\n",
    "        [47, 48, 49],\n",
    "        [48, 49, 50]\n",
    "    ]),\n",
    "    'cutoff': [45] * 3 + [46] * 3 + [47] * 3\n",
    "}, dtype=np.int64)\n",
    "pd.testing.assert_frame_equal(ds_int_cv_test, _cv_dates(np.array([50], dtype=np.int64), 'D', 3, 5))"
   ]
  },
  {
   "cell_type": "code",
   "execution_count": null,
   "id": "b988d4f2-e99d-4608-aba9-530d15e95d94",
   "metadata": {},
   "outputs": [],
   "source": [
    "#hide\n",
    "for e_e in [True, False]:\n",
    "    n_series = 2\n",
    "    ga, indices, dates = _grouped_array_from_df(generate_series(n_series, equal_ends=e_e), sort_df=True)\n",
    "    freq = pd.tseries.frequencies.to_offset('D')\n",
    "    horizon = 3\n",
    "    test_size = 5\n",
    "    df_dates = _cv_dates(last_dates=dates, freq=freq, h=horizon, test_size=test_size)\n",
    "    test_eq(len(df_dates), n_series * horizon * (test_size - horizon + 1)) "
   ]
  },
  {
   "cell_type": "code",
   "execution_count": null,
   "id": "7aafa169",
   "metadata": {},
   "outputs": [],
   "source": [
    "#exporti\n",
    "def _build_forecast_name(model, *args) -> str:\n",
    "    model_name = f'{model.__name__}'\n",
    "    func_params = inspect.signature(model).parameters\n",
    "    func_args = list(func_params.items())[3:]  # remove input array, horizon and xreg\n",
    "    changed_params = [\n",
    "        f'{name}-{value}'\n",
    "        for value, (name, arg) in zip(args, func_args)\n",
    "        if arg.default != value\n",
    "    ]\n",
    "    if changed_params:\n",
    "        model_name += '_' + '_'.join(changed_params)\n",
    "    return model_name"
   ]
  },
  {
   "cell_type": "code",
   "execution_count": null,
   "id": "4ff8cd1d",
   "metadata": {},
   "outputs": [],
   "source": [
    "#hide\n",
    "test_eq(_build_forecast_name(ses, 0.1), 'ses_alpha-0.1')\n",
    "test_eq(_build_forecast_name(seasonal_window_average, 7, 4), 'seasonal_window_average_season_length-7_window_size-4')"
   ]
  },
  {
   "cell_type": "code",
   "execution_count": null,
   "id": "b8ba3f8d",
   "metadata": {},
   "outputs": [],
   "source": [
    "#exporti\n",
    "def _as_tuple(x):\n",
    "    if isinstance(x, tuple):\n",
    "        return x\n",
    "    return (x,)"
   ]
  },
  {
   "cell_type": "code",
   "execution_count": null,
   "id": "abd2b41f",
   "metadata": {},
   "outputs": [],
   "source": [
    "#hide\n",
    "test_eq(_as_tuple((1,)), (1,))\n",
    "test_eq(_as_tuple(1), (1,))"
   ]
  },
  {
   "cell_type": "code",
   "execution_count": null,
   "id": "aa571eb5-f4b8-4e6b-b910-75bf8514eb48",
   "metadata": {},
   "outputs": [],
   "source": [
    "#exporti\n",
    "def _get_n_jobs(n_groups, n_jobs, ray_address):\n",
    "    if ray_address is not None:\n",
    "        logger.info(\n",
    "            'Using ray address,'\n",
    "            'using available resources insted of `n_jobs`'\n",
    "        )\n",
    "        try:\n",
    "            import ray\n",
    "        except ModuleNotFoundError as e:\n",
    "            msg = (\n",
    "                '{e}. To use a ray cluster you have to install '\n",
    "                'ray. Please run `pip install ray`. '\n",
    "            )\n",
    "            raise ModuleNotFoundError(msg) from e\n",
    "        if not ray.is_initialized():\n",
    "            ray.init(ray_address, ignore_reinit_error=True)\n",
    "        actual_n_jobs = int(ray.available_resources()['CPU'])\n",
    "    else:\n",
    "        if n_jobs == -1 or (n_jobs is None):\n",
    "            actual_n_jobs = cpu_count()\n",
    "        else:\n",
    "            actual_n_jobs = n_jobs\n",
    "    return min(n_groups, actual_n_jobs)"
   ]
  },
  {
   "cell_type": "code",
   "execution_count": null,
   "id": "17f8b257-9d7b-4578-a8bf-57e72f19e86a",
   "metadata": {},
   "outputs": [],
   "source": [
    "#hide\n",
    "#tests for more series than resources\n",
    "test_eq(_get_n_jobs(10, -1, None), cpu_count()) \n",
    "test_eq(_get_n_jobs(10, None, None), cpu_count())\n",
    "test_eq(_get_n_jobs(10, 2, None), 2)"
   ]
  },
  {
   "cell_type": "code",
   "execution_count": null,
   "id": "71a43806-e6d7-495c-b98f-3729b8bcb510",
   "metadata": {},
   "outputs": [],
   "source": [
    "#hide\n",
    "#tests for less series than resources\n",
    "test_eq(_get_n_jobs(1, -1, None), 1) \n",
    "test_eq(_get_n_jobs(1, None, None), 1)\n",
    "test_eq(_get_n_jobs(2, 10, None), 2)"
   ]
  },
  {
   "cell_type": "code",
   "execution_count": null,
   "id": "55e7021a",
   "metadata": {},
   "outputs": [],
   "source": [
    "#export\n",
    "class StatsForecast:\n",
    "    \n",
    "    def __init__(self, df, models, freq, n_jobs=1, ray_address=None, sort_df=True):\n",
    "        self.ga, self.uids, self.last_dates = _grouped_array_from_df(df, sort_df)\n",
    "        self.models = models\n",
    "        self.freq = pd.tseries.frequencies.to_offset(freq)\n",
    "        self.n_jobs = _get_n_jobs(len(self.ga), n_jobs, ray_address)\n",
    "        self.ray_address = ray_address\n",
    "        self.sort_df = sort_df\n",
    "        \n",
    "    def forecast(self, h, xreg=None, level=None):\n",
    "        if xreg is not None:\n",
    "            expected_shape = (h * len(self.ga), self.ga.data.shape[1])\n",
    "            if xreg.shape != expected_shape:\n",
    "                raise ValueError(f'Expected xreg to have shape {expected_shape}, but got {xreg.shape}')\n",
    "            xreg, _, _ = _grouped_array_from_df(xreg, sort_df=self.sort_df)\n",
    "        forecast_kwargs = dict(\n",
    "            h=h, test_size=None, input_size=None, \n",
    "            xreg=xreg, level=level, mode='forecast',\n",
    "        )\n",
    "        if self.n_jobs == 1:\n",
    "            fcsts = self._sequential(**forecast_kwargs)\n",
    "        else:\n",
    "            fcsts = self._data_parallel(**forecast_kwargs)\n",
    "        if issubclass(self.last_dates.dtype.type, np.integer):\n",
    "            last_date_f = lambda x: np.arange(x + 1, x + 1 + h, dtype=self.last_dates.dtype)\n",
    "        else:\n",
    "            last_date_f = lambda x: pd.date_range(x + self.freq, periods=h, freq=self.freq)\n",
    "        if len(np.unique(self.last_dates)) == 1:\n",
    "            dates = np.tile(last_date_f(self.last_dates[0]), len(self.ga))\n",
    "        else:\n",
    "            dates = np.hstack([\n",
    "                last_date_f(last_date)\n",
    "                for last_date in self.last_dates            \n",
    "            ])\n",
    "        idx = pd.Index(np.repeat(self.uids, h), name='unique_id')\n",
    "        return pd.DataFrame({'ds': dates, **fcsts}, index=idx)\n",
    "    \n",
    "    def cross_validation(self, h, test_size, input_size=None):\n",
    "        cv_kwargs = dict(\n",
    "            h=h, test_size=test_size, input_size=input_size, \n",
    "            xreg=None, level=None, mode='cv',\n",
    "        )\n",
    "        if self.n_jobs == 1:\n",
    "            fcsts = self._sequential(**cv_kwargs)\n",
    "        else:\n",
    "            fcsts = self._data_parallel(**cv_kwargs)\n",
    "            \n",
    "        dates = _cv_dates(last_dates=self.last_dates, freq=self.freq, h=h, test_size=test_size)\n",
    "        dates = {'ds': dates['ds'].values, 'cutoff': dates['cutoff'].values}\n",
    "        idx = pd.Index(np.repeat(self.uids, h * (test_size - h + 1)), name='unique_id')\n",
    "        return pd.DataFrame({**dates, **fcsts}, index=idx)\n",
    "\n",
    "    def _sequential(self, h, test_size, input_size, xreg, level, mode='forecast'):\n",
    "        fcsts = {}\n",
    "        logger.info('Computing forecasts')\n",
    "        for model_args in self.models:\n",
    "            model, *args = _as_tuple(model_args)\n",
    "            model_name = _build_forecast_name(model, *args)\n",
    "            if mode == 'forecast':\n",
    "                values, keys = self.ga.compute_forecasts(h, model, xreg, level, *args)\n",
    "            elif mode == 'cv':\n",
    "                values, test_values = self.ga.compute_cv(h, test_size, model, input_size, *args)\n",
    "                keys = None\n",
    "            if keys is not None:\n",
    "                for j, key in enumerate(keys):\n",
    "                    fcsts[f'{model_name}_{key}'] = values[:, j]\n",
    "            else:\n",
    "                fcsts[model_name] = values.flatten()\n",
    "            logger.info(f'Computed forecasts for {model_name}.')\n",
    "        if mode == 'cv':\n",
    "            fcsts = {'y': test_values.flatten(), **fcsts}\n",
    "        return fcsts\n",
    "    \n",
    "    def _data_parallel(self, h, test_size, input_size, xreg, level, mode='forecast'):\n",
    "        fcsts = {}\n",
    "        logger.info('Computing forecasts')\n",
    "        gas = self.ga.split(self.n_jobs)\n",
    "        if xreg is not None:\n",
    "            xregs = xreg.split(self.n_jobs)\n",
    "        else:\n",
    "            from itertools import repeat\n",
    "            \n",
    "            xregs = repeat(None)\n",
    "        \n",
    "        if self.ray_address is not None:\n",
    "            try:\n",
    "                from ray.util.multiprocessing import Pool\n",
    "            except ModuleNotFoundError as e:\n",
    "                msg = (\n",
    "                    f'{e}. To use a ray cluster you have to install '\n",
    "                    'ray. Please run `pip install ray`. '\n",
    "                )\n",
    "                raise ModuleNotFoundError(msg) from e\n",
    "            kwargs = dict(ray_address=self.ray_address)\n",
    "        else:\n",
    "            from multiprocessing import Pool\n",
    "            kwargs = dict()\n",
    "        \n",
    "        with Pool(self.n_jobs, **kwargs) as executor:\n",
    "            for model_args in self.models:\n",
    "                model, *args = _as_tuple(model_args)\n",
    "                model_name = _build_forecast_name(model, *args)\n",
    "                futures = []\n",
    "                for ga, xr in zip(gas, xregs):\n",
    "                    if mode == 'forecast':\n",
    "                        future = executor.apply_async(ga.compute_forecasts, (h, model, xr, level, *args,))\n",
    "                    elif mode == 'cv':\n",
    "                        future = executor.apply_async(ga.compute_cv, (h, test_size, model, input_size, *args))\n",
    "                    futures.append(future)\n",
    "                if mode == 'forecast':\n",
    "                    values, keys = list(zip(*[f.get() for f in futures]))\n",
    "                    keys = keys[0]\n",
    "                elif mode == 'cv':\n",
    "                    values, test_values = list(zip(*[f.get() for f in futures]))\n",
    "                    keys = None\n",
    "                if keys is not None:\n",
    "                    values = np.vstack(values)\n",
    "                    for j, key in enumerate(keys):\n",
    "                        fcsts[f'{model_name}_{key}'] = values[:, j]\n",
    "                else:\n",
    "                    values = np.hstack([val.flatten() for val in values])\n",
    "                    fcsts[model_name] = values.flatten()\n",
    "                logger.info(f'Computed forecasts for {model_name}.')\n",
    "        if mode == 'cv':\n",
    "            test_values = np.vstack(test_values)\n",
    "            fcsts = {'y': test_values.flatten(), **fcsts}\n",
    "        return fcsts"
   ]
  },
  {
   "cell_type": "markdown",
   "id": "6db0ab81",
   "metadata": {},
   "source": [
    "## Daily data"
   ]
  },
  {
   "cell_type": "code",
   "execution_count": null,
   "id": "add1a6f5",
   "metadata": {
    "tags": []
   },
   "outputs": [],
   "source": [
    "fcst = StatsForecast(\n",
    "    series,\n",
    "    [adida, croston_classic, croston_optimized,\n",
    "     croston_sba, historic_average, imapa, naive, \n",
    "     random_walk_with_drift, (seasonal_exponential_smoothing, 7, 0.1),\n",
    "     (seasonal_naive, 7), (seasonal_window_average, 7, 4),\n",
    "     (ses, 0.1), (tsb, 0.1, 0.3), (window_average, 4)],\n",
    "    freq='D',\n",
    ")\n",
    "res = fcst.forecast(14)\n",
    "res"
   ]
  },
  {
   "cell_type": "code",
   "execution_count": null,
   "id": "1886551a",
   "metadata": {},
   "outputs": [],
   "source": [
    "#hide\n",
    "test_eq(res.index.unique(), fcst.uids)\n",
    "last_dates = series.groupby('unique_id')['ds'].max()\n",
    "test_eq(res.groupby('unique_id')['ds'].min().values, last_dates + pd.offsets.Day())\n",
    "test_eq(res.groupby('unique_id')['ds'].max().values, last_dates + 14 * pd.offsets.Day())"
   ]
  },
  {
   "cell_type": "code",
   "execution_count": null,
   "id": "6e4b03fd-7de8-4af1-bb79-7ff21eeb4b95",
   "metadata": {},
   "outputs": [],
   "source": [
    "#hide\n",
    "series_cv = pd.DataFrame({\n",
    "    'ds': np.hstack([\n",
    "        pd.date_range(end='2021-01-01', freq='D', periods=10),\n",
    "        pd.date_range(end='2022-01-01', freq='D', periods=100),\n",
    "        pd.date_range(end='2020-01-01', freq='D', periods=20)\n",
    "    ]),\n",
    "    'y': np.hstack([np.arange(10), np.arange(100, 200), np.arange(20, 40)])\n",
    "}, index=pd.Index(\n",
    "    data=np.hstack([np.zeros(10), np.zeros(100) + 1, np.zeros(20) + 2]),\n",
    "    name='unique_id'\n",
    "))\n",
    "\n",
    "fcst = StatsForecast(\n",
    "    series_cv,\n",
    "    [sum_ahead],\n",
    "    freq='D',\n",
    ")\n",
    "res_cv = fcst.cross_validation(h=2, test_size=5)\n",
    "test_eq(0., np.mean(res_cv['y'] - res_cv['sum_ahead']))"
   ]
  },
  {
   "cell_type": "markdown",
   "id": "7a3fb553-942f-4650-8816-fa18f08fa7df",
   "metadata": {},
   "source": [
    "### Equal ends"
   ]
  },
  {
   "cell_type": "code",
   "execution_count": null,
   "id": "a4c880eb-331d-41c2-8239-8b9f828261e0",
   "metadata": {},
   "outputs": [],
   "source": [
    "series_eq_ends = generate_series(10_000, equal_ends=True)"
   ]
  },
  {
   "cell_type": "code",
   "execution_count": null,
   "id": "07143f32-f939-4850-9e62-978b995da080",
   "metadata": {},
   "outputs": [],
   "source": [
    "fcst = StatsForecast(\n",
    "    series_eq_ends,\n",
    "    [adida, croston_classic, croston_optimized,\n",
    "     croston_sba, historic_average, imapa, naive, \n",
    "     random_walk_with_drift, (seasonal_exponential_smoothing, 7, 0.1),\n",
    "     (seasonal_naive, 7), (seasonal_window_average, 7, 4),\n",
    "     (ses, 0.1), (tsb, 0.1, 0.3), (window_average, 4)],\n",
    "    freq='D',\n",
    ")\n",
    "res = fcst.forecast(14)\n",
    "res"
   ]
  },
  {
   "cell_type": "code",
   "execution_count": null,
   "id": "c55b5101-b358-479e-9451-3350ec8574fa",
   "metadata": {},
   "outputs": [],
   "source": [
    "#hide\n",
    "test_eq(res.index.unique(), fcst.uids)\n",
    "last_dates = series_eq_ends.groupby('unique_id')['ds'].max()\n",
    "test_eq(res.groupby('unique_id')['ds'].min().values, last_dates + pd.offsets.Day())\n",
    "test_eq(res.groupby('unique_id')['ds'].max().values, last_dates + 14 * pd.offsets.Day())"
   ]
  },
  {
   "cell_type": "code",
   "execution_count": null,
   "id": "72eec1ee-9144-469f-b82d-b49e25261114",
   "metadata": {},
   "outputs": [],
   "source": [
    "#hide\n",
    "series_cv = pd.DataFrame({\n",
    "    'ds': np.hstack([\n",
    "        pd.date_range(end='2022-01-01', freq='D', periods=10),\n",
    "        pd.date_range(end='2022-01-01', freq='D', periods=100),\n",
    "        pd.date_range(end='2022-01-01', freq='D', periods=20)\n",
    "    ]),\n",
    "    'y': np.hstack([np.arange(10), np.arange(100, 200), np.arange(20, 40)])\n",
    "}, index=pd.Index(\n",
    "    data=np.hstack([np.zeros(10), np.zeros(100) + 1, np.zeros(20) + 2]),\n",
    "    name='unique_id'\n",
    "))\n",
    "\n",
    "fcst = StatsForecast(\n",
    "    series_cv,\n",
    "    [sum_ahead],\n",
    "    freq='D',\n",
    ")\n",
    "res_cv = fcst.cross_validation(h=2, test_size=5)\n",
    "test_eq(0., np.mean(res_cv['y'] - res_cv['sum_ahead']))"
   ]
  },
  {
   "cell_type": "markdown",
   "id": "9b433aff-8b77-48e6-966a-a2838f055769",
   "metadata": {},
   "source": [
    "### Parallel"
   ]
  },
  {
   "cell_type": "code",
   "execution_count": null,
   "id": "73536e57-fa38-4b7c-967d-a5ddd54733d0",
   "metadata": {},
   "outputs": [],
   "source": [
    "try: from nbdev.imports import IN_NOTEBOOK\n",
    "except: IN_NOTEBOOK=False\n",
    "if __name__==\"__main__\" and not IN_NOTEBOOK:\n",
    "    fcst = StatsForecast(\n",
    "        series,\n",
    "        [adida, (ses, 0.1), historic_average, croston_classic],\n",
    "        freq='D',\n",
    "        n_jobs=2\n",
    "    )\n",
    "    res = fcst.forecast(14)\n",
    "    res_cv = fcst.cross_validation(h=3, test_size=10)\n",
    "    print(res)\n",
    "    print(res_cv)\n",
    "    fcst = StatsForecast(\n",
    "        series_cv,\n",
    "        [sum_ahead],\n",
    "        freq='D',\n",
    "    )\n",
    "    res_cv = fcst.cross_validation(h=2, test_size=5)\n",
    "    test_eq(0., np.mean(res_cv['y'] - res_cv['sum_ahead']))"
   ]
  },
  {
   "cell_type": "markdown",
   "id": "c2a014d9",
   "metadata": {},
   "source": [
    "## Monthly data"
   ]
  },
  {
   "cell_type": "code",
   "execution_count": null,
   "id": "11ff6a2d",
   "metadata": {},
   "outputs": [],
   "source": [
    "monthly_series = generate_series(10_000, freq='M', min_length=10, max_length=20, equal_ends=True)\n",
    "monthly_series"
   ]
  },
  {
   "cell_type": "code",
   "execution_count": null,
   "id": "a050b58f",
   "metadata": {},
   "outputs": [],
   "source": [
    "fcst = StatsForecast(\n",
    "    monthly_series,\n",
    "    [adida, (ses, 0.1), historic_average, croston_classic],\n",
    "    freq='M'\n",
    ")\n",
    "%time monthly_res = fcst.forecast(4)\n",
    "monthly_res"
   ]
  },
  {
   "cell_type": "code",
   "execution_count": null,
   "id": "a770d8d4",
   "metadata": {},
   "outputs": [],
   "source": [
    "#hide\n",
    "last_dates = monthly_series.groupby('unique_id')['ds'].max()\n",
    "test_eq(monthly_res.groupby('unique_id')['ds'].min().values, fcst.last_dates + pd.offsets.MonthEnd())\n",
    "test_eq(monthly_res.groupby('unique_id')['ds'].max().values, fcst.last_dates + 4 * pd.offsets.MonthEnd())"
   ]
  },
  {
   "cell_type": "markdown",
   "id": "a1ddc742-cae0-43f8-89eb-f5ae2effeb15",
   "metadata": {},
   "source": [
    "## Integer datestamp"
   ]
  },
  {
   "cell_type": "code",
   "execution_count": null,
   "id": "8cc45251-a56b-4dad-9d84-9a843de0e794",
   "metadata": {},
   "outputs": [],
   "source": [
    "from statsforecast.utils import AirPassengers as ap"
   ]
  },
  {
   "cell_type": "code",
   "execution_count": null,
   "id": "aa0e072d-5f62-4c1a-8b0c-1592a7f992b1",
   "metadata": {},
   "outputs": [],
   "source": [
    "int_ds_df = pd.DataFrame({'ds': np.arange(1, len(ap) + 1), 'y': ap})\n",
    "int_ds_df.insert(0, 'unique_id', 'AirPassengers')\n",
    "int_ds_df.set_index('unique_id', inplace=True)\n",
    "int_ds_df.head()"
   ]
  },
  {
   "cell_type": "code",
   "execution_count": null,
   "id": "9c1575c5-ad2b-419d-aff1-f757ce39f27b",
   "metadata": {},
   "outputs": [],
   "source": [
    "int_ds_df.tail()"
   ]
  },
  {
   "cell_type": "code",
   "execution_count": null,
   "id": "0bfbe2a7-3205-4976-9e78-3225b7808444",
   "metadata": {},
   "outputs": [],
   "source": [
    "fcst = StatsForecast(int_ds_df, models=[historic_average], freq='D')\n",
    "horizon = 7\n",
    "forecast = fcst.forecast(horizon)\n",
    "forecast.head()"
   ]
  },
  {
   "cell_type": "code",
   "execution_count": null,
   "id": "df545ed2-7b28-44a6-875d-58a3ea7a934b",
   "metadata": {},
   "outputs": [],
   "source": [
    "last_date = int_ds_df['ds'].max()\n",
    "test_eq(forecast['ds'].values, np.arange(last_date + 1, last_date + 1 + horizon))"
   ]
  },
  {
   "cell_type": "code",
   "execution_count": null,
   "id": "a589bdae-0303-4878-b387-07935afa855b",
   "metadata": {},
   "outputs": [],
   "source": [
    "int_ds_cv = fcst.cross_validation(7, 8)\n",
    "int_ds_cv"
   ]
  },
  {
   "cell_type": "markdown",
   "id": "23eb42c4-8275-430f-b074-d93f71c0ca22",
   "metadata": {},
   "source": [
    "## External regressors"
   ]
  },
  {
   "cell_type": "markdown",
   "id": "3320eba6-603d-431e-9f5c-0ba2df7876d8",
   "metadata": {},
   "source": [
    "Every column after **y** is considered an external regressor and will be passed to the models that allow them. If you use them you must supply the future values to the `forecast` method."
   ]
  },
  {
   "cell_type": "code",
   "execution_count": null,
   "id": "df99fb36-c574-47d7-bff6-d95a1172c572",
   "metadata": {},
   "outputs": [],
   "source": [
    "def linear_regression(X, h, future_xreg):\n",
    "    y = X[:, 0]\n",
    "    xreg = X[:, 1:]\n",
    "    coefs, *_ = np.linalg.lstsq(xreg, y, rcond=None)\n",
    "    return future_xreg @ coefs"
   ]
  },
  {
   "cell_type": "code",
   "execution_count": null,
   "id": "91be1d0a-7943-4082-8987-40535635bdc6",
   "metadata": {},
   "outputs": [],
   "source": [
    "series_xreg = series = generate_series(10_000, equal_ends=True)\n",
    "series_xreg['intercept'] = 1\n",
    "series_xreg['dayofweek'] = series_xreg['ds'].dt.dayofweek\n",
    "series_xreg = pd.get_dummies(series_xreg, columns=['dayofweek'], drop_first=True)\n",
    "series_xreg"
   ]
  },
  {
   "cell_type": "code",
   "execution_count": null,
   "id": "830bc4c7-9f0f-4cdc-a639-965cc2ea0bf3",
   "metadata": {},
   "outputs": [],
   "source": [
    "dates = sorted(series_xreg['ds'].unique())\n",
    "valid_start = dates[-14]\n",
    "train_mask = series_xreg['ds'] < valid_start\n",
    "series_train = series_xreg[train_mask]\n",
    "series_valid = series_xreg[~train_mask]\n",
    "X_valid = series_valid.drop(columns=['y'])\n",
    "fcst = StatsForecast(\n",
    "    series_train,\n",
    "    [linear_regression],\n",
    "    freq='D',\n",
    ")\n",
    "%time xreg_res = fcst.forecast(14, xreg=X_valid)\n",
    "xreg_res['y'] = series_valid['y'].values"
   ]
  },
  {
   "cell_type": "code",
   "execution_count": null,
   "id": "8b339f52-af88-4dc8-93af-cbbc751e231e",
   "metadata": {},
   "outputs": [],
   "source": [
    "xreg_res.groupby('ds').mean().plot();"
   ]
  },
  {
   "cell_type": "code",
   "execution_count": null,
   "id": "c9af9dd2-eeb8-4ef6-9eef-13608ace264d",
   "metadata": {},
   "outputs": [],
   "source": [
    "xreg_res_cv = fcst.cross_validation(h=3, test_size=5)"
   ]
  },
  {
   "cell_type": "markdown",
   "id": "3df775a7-fa4a-42eb-b556-bea2c851f23f",
   "metadata": {},
   "source": [
    "## Confidence intervals"
   ]
  },
  {
   "cell_type": "code",
   "execution_count": null,
   "id": "9ee9fd95-52c4-4c42-a350-8e667fba2b06",
   "metadata": {},
   "outputs": [],
   "source": [
    "ap_df = pd.DataFrame({'ds': np.arange(ap.size), 'y': ap}, index=pd.Index([0] * ap.size, name='unique_id'))\n",
    "fcst = StatsForecast(\n",
    "    ap_df,\n",
    "    [(seasonal_naive, 12), (auto_arima, 12)],\n",
    "    freq='M',\n",
    ")\n",
    "ap_ci = fcst.forecast(12, level=(80, 95))\n",
    "ap_ci.set_index('ds').plot(marker='.', figsize=(10, 6));"
   ]
  },
  {
   "cell_type": "markdown",
   "id": "9363cb67-e8df-4ad5-8c1a-700fca7a9cde",
   "metadata": {},
   "source": [
    "## n jobs"
   ]
  },
  {
   "cell_type": "code",
   "execution_count": null,
   "id": "ac620b94-e5cf-48d8-a252-935edbe01733",
   "metadata": {},
   "outputs": [],
   "source": [
    "ap_df_2 = pd.DataFrame(\n",
    "    {'ds': np.hstack([np.arange(ap.size), np.arange(ap.size)]), \n",
    "     'y': np.hstack([ap, ap])}, \n",
    "    index=pd.Index([0] * ap.size + [1] * ap.size, name='unique_id')\n",
    ")"
   ]
  },
  {
   "cell_type": "code",
   "execution_count": null,
   "id": "4d5e2b7a-f3b2-4200-b902-b4c5d369e5ad",
   "metadata": {},
   "outputs": [],
   "source": [
    "if __name__==\"__main__\" and not IN_NOTEBOOK:\n",
    "    ap_df = pd.DataFrame({'ds': np.arange(ap.size), 'y': ap}, index=pd.Index([0] * ap.size, name='unique_id'))\n",
    "    fcst = StatsForecast(\n",
    "        ap_df,\n",
    "        [(seasonal_naive, 12), (auto_arima, 12)],\n",
    "        freq='M',\n",
    "        n_jobs=101\n",
    "    )\n",
    "    ap_ci = fcst.forecast(12, level=(80, 95))\n",
    "    ap_ci.set_index('ds').plot(marker='.', figsize=(10, 6))"
   ]
  },
  {
   "cell_type": "code",
   "execution_count": null,
   "id": "b0c8c27e-1cb1-4e02-8243-6d3ccfc76860",
   "metadata": {},
   "outputs": [],
   "source": [
    "#hide\n",
    "def return_xreg(X, h, xreg, *args):\n",
    "    return xreg[:, 0]"
   ]
  },
  {
   "cell_type": "code",
   "execution_count": null,
   "id": "2da58f77-7194-4108-a32d-d3f01b39b129",
   "metadata": {},
   "outputs": [],
   "source": [
    "#hide\n",
    "df = pd.DataFrame(\n",
    "    {\n",
    "        'ds': np.hstack([np.arange(10), np.arange(10)]),\n",
    "        'y': np.random.rand(20),\n",
    "        'x': np.arange(20, dtype=np.float32),\n",
    "    },\n",
    "    index=pd.Index([0] * 10 + [1] * 10, name='unique_id'),\n",
    ")\n",
    "train_mask = df['ds'] < 6\n",
    "train_df = df[train_mask]\n",
    "test_df = df[~ train_mask]"
   ]
  },
  {
   "cell_type": "code",
   "execution_count": null,
   "id": "ca34f367-211b-40c2-a98a-8413abbe8b79",
   "metadata": {},
   "outputs": [],
   "source": [
    "#hide\n",
    "fcst = StatsForecast(\n",
    "    train_df,\n",
    "    [return_xreg],\n",
    "    freq='M',\n",
    "    n_jobs=1,\n",
    ")\n",
    "xreg = test_df.drop(columns='y')\n",
    "res = fcst.forecast(4, xreg=xreg)\n",
    "expected_res = xreg.rename(columns={'x': 'return_xreg'})\n",
    "pd.testing.assert_frame_equal(res, expected_res, check_dtype=False)"
   ]
  },
  {
   "cell_type": "code",
   "execution_count": null,
   "id": "b6095cae-4788-49f5-9a15-9a61ea49c4f2",
   "metadata": {},
   "outputs": [],
   "source": [
    "#hide\n",
    "if __name__==\"__main__\" and not IN_NOTEBOOK:\n",
    "    fcst = StatsForecast(\n",
    "        train_df,\n",
    "        [return_xreg],\n",
    "        freq='M',\n",
    "        n_jobs=2,\n",
    "    )\n",
    "    xreg = test_df.drop(columns='y')\n",
    "    res = fcst.forecast(4, xreg=xreg)\n",
    "    expected_res = xreg.rename(columns={'x': 'return_xreg'})\n",
    "    pd.testing.assert_frame_equal(res, expected_res, check_dtype=False)"
   ]
  }
 ],
 "metadata": {
  "kernelspec": {
   "display_name": "Python 3 (ipykernel)",
   "language": "python",
   "name": "python3"
  },
  "language_info": {
   "codemirror_mode": {
    "name": "ipython",
    "version": 3
   },
   "file_extension": ".py",
   "mimetype": "text/x-python",
   "name": "python",
   "nbconvert_exporter": "python",
   "pygments_lexer": "ipython3",
   "version": "3.7.12"
  }
 },
 "nbformat": 4,
 "nbformat_minor": 5
}
