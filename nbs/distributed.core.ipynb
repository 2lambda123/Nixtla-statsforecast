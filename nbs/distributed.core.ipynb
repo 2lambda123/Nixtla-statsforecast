{
 "cells": [
  {
   "cell_type": "code",
   "execution_count": null,
   "id": "524620c1",
   "metadata": {},
   "outputs": [],
   "source": [
    "#default_exp distributed.core"
   ]
  },
  {
   "cell_type": "code",
   "execution_count": null,
   "id": "15392f6f",
   "metadata": {},
   "outputs": [],
   "source": [
    "#hide\n",
    "%load_ext autoreload\n",
    "%autoreload 2"
   ]
  },
  {
   "cell_type": "markdown",
   "id": "12fa25a4",
   "metadata": {
    "tags": []
   },
   "source": [
    "# Core"
   ]
  },
  {
   "cell_type": "code",
   "execution_count": null,
   "id": "06732b96-bd80-4a4d-b9a2-4f95c7a82331",
   "metadata": {},
   "outputs": [],
   "source": [
    "#hide\n",
    "from fastcore.test import test_eq"
   ]
  },
  {
   "cell_type": "code",
   "execution_count": null,
   "id": "bc16100a",
   "metadata": {},
   "outputs": [],
   "source": [
    "#export\n",
    "from typing import Any\n",
    "\n",
    "from statsforecast.core import StatsForecast"
   ]
  },
  {
   "cell_type": "code",
   "execution_count": null,
   "id": "6d8d5b82-2be9-41f5-8cd0-3903d0761e09",
   "metadata": {},
   "outputs": [],
   "source": [
    "#export\n",
    "class ParallelBackend:\n",
    "    def forecast(self, df, models, freq, **kwargs: Any) -> Any:\n",
    "        model = StatsForecast(df=df, models=models, freq=freq)\n",
    "        return model.forecast(**kwargs)\n",
    "\n",
    "    def cross_validation(self, df, models, freq, **kwargs: Any) -> Any:\n",
    "        model = StatsForecast(df=df, models=models, freq=freq)\n",
    "        return model.cross_validation(**kwargs)"
   ]
  },
  {
   "cell_type": "code",
   "execution_count": null,
   "id": "4d95e09b-cb70-4232-8ffa-b26fc8aea557",
   "metadata": {},
   "outputs": [],
   "source": [
    "#hide\n",
    "from statsforecast.models import Naive\n",
    "from statsforecast.utils import generate_series\n",
    "\n",
    "df = generate_series(10).reset_index()\n",
    "df['unique_id'] = df['unique_id'].astype(str)\n",
    "\n",
    "backend = ParallelBackend()\n",
    "#forecast\n",
    "fcst = backend.forecast(df, models=[Naive()], freq='D', h=12)\n",
    "fcst_stats = StatsForecast(models=[Naive()], freq='D').forecast(df=df, h=12)\n",
    "test_eq(fcst, fcst_stats)\n",
    "#cross validation\n",
    "fcst = backend.cross_validation(df, models=[Naive()], freq='D', h=12)\n",
    "fcst_stats = StatsForecast(models=[Naive()], freq='D').cross_validation(df=df, h=12)\n",
    "test_eq(fcst, fcst_stats)"
   ]
  }
 ],
 "metadata": {
  "kernelspec": {
   "display_name": "Python 3 (ipykernel)",
   "language": "python",
   "name": "python3"
  },
  "language_info": {
   "codemirror_mode": {
    "name": "ipython",
    "version": 3
   },
   "file_extension": ".py",
   "mimetype": "text/x-python",
   "name": "python",
   "nbconvert_exporter": "python",
   "pygments_lexer": "ipython3",
   "version": "3.7.12"
  }
 },
 "nbformat": 4,
 "nbformat_minor": 5
}
