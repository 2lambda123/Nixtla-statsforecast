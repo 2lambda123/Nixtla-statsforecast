{
 "cells": [
  {
   "cell_type": "code",
   "execution_count": null,
   "id": "524620c1",
   "metadata": {},
   "outputs": [],
   "source": [
    "#| default_exp distributed.fugue"
   ]
  },
  {
   "cell_type": "code",
   "execution_count": null,
   "id": "15392f6f",
   "metadata": {},
   "outputs": [],
   "source": [
    "#| hide\n",
    "%load_ext autoreload\n",
    "%autoreload 2"
   ]
  },
  {
   "cell_type": "markdown",
   "id": "12fa25a4",
   "metadata": {},
   "source": [
    "# Fugue Backend\n",
    "\n",
    "> Distribute time series forecasting using Fugue"
   ]
  },
  {
   "cell_type": "markdown",
   "id": "859ec2cd-41bd-4d35-b8f4-04eda91cdb36",
   "metadata": {},
   "source": [
    "[Fugue](https://github.com/fugue-project/fugue) is a unified interface for distributed computing. The backend allows `StatsForecast` to fit time series using `Dask` and `Spark`."
   ]
  },
  {
   "cell_type": "code",
   "execution_count": null,
   "id": "06732b96-bd80-4a4d-b9a2-4f95c7a82331",
   "metadata": {},
   "outputs": [],
   "source": [
    "#| hide\n",
    "from fastcore.test import test_eq\n",
    "from nbdev.showdoc import add_docs, show_doc"
   ]
  },
  {
   "cell_type": "code",
   "execution_count": null,
   "id": "bc16100a",
   "metadata": {},
   "outputs": [],
   "source": [
    "#| export\n",
    "from typing import Any, Dict\n",
    "\n",
    "import numpy as np\n",
    "import pandas as pd\n",
    "try:\n",
    "    from fugue import transform\n",
    "except ModuleNotFoundError as e:\n",
    "    msg = (\n",
    "        f'{e}. To use fugue you have to install it.'\n",
    "        'Please run `pip install fugue`. '\n",
    "    )\n",
    "    raise ModuleNotFoundError(msg) from e\n",
    "from statsforecast.core import StatsForecast\n",
    "from statsforecast.distributed.core import ParallelBackend\n",
    "from triad import Schema"
   ]
  },
  {
   "cell_type": "code",
   "execution_count": null,
   "id": "6d8d5b82-2be9-41f5-8cd0-3903d0761e09",
   "metadata": {},
   "outputs": [],
   "source": [
    "#| export\n",
    "class FugueBackend(ParallelBackend):\n",
    "    def __init__(\n",
    "            self, \n",
    "            engine: Any = None, # Fugue engine\n",
    "            conf: Any = None, # Engine configuration\n",
    "            **transform_kwargs: Any # Additional kwargs to pass to `transform`'s fugue\n",
    "        ):\n",
    "        self._engine = engine\n",
    "        self._conf = conf\n",
    "        self._transform_kwargs = dict(transform_kwargs)\n",
    "\n",
    "    def __getstate__(self) -> Dict[str, Any]:\n",
    "        return {}\n",
    "\n",
    "    def forecast(\n",
    "            self, \n",
    "            df, # DataFrame with columns `unique_id`, `ds`, `y`, and exogenous variables \n",
    "            models, # List of instantiated models (`statsforecast.models`) \n",
    "            freq, # Frequency of the data\n",
    "            **kwargs: Any,\n",
    "        ) -> Any:\n",
    "        schema = \"*-y+\" + str(self._get_output_schema(models))\n",
    "        return transform(\n",
    "            df,\n",
    "            self._forecast_series,\n",
    "            params=dict(models=models, freq=freq, kwargs=kwargs),\n",
    "            schema=schema,\n",
    "            partition={\"by\": \"unique_id\"},\n",
    "            engine=self._engine,\n",
    "            engine_conf=self._conf,\n",
    "            **self._transform_kwargs,\n",
    "        )\n",
    "\n",
    "    def cross_validation(\n",
    "            self, \n",
    "            df, # DataFrame with columns `unique_id`, `ds`, `y`, and exogenous variables \n",
    "            models, # List of instantiated models (`statsforecast.models`) \n",
    "            freq, # Frequency of the data\n",
    "            **kwargs: Any, \n",
    "        ) -> Any:\n",
    "        schema = \"*-y+\" + str(self._get_output_schema(models, mode=\"cv\"))\n",
    "        return transform(\n",
    "            df,\n",
    "            self._cv,\n",
    "            params=dict(models=models, freq=freq, kwargs=kwargs),\n",
    "            schema=schema,\n",
    "            partition={\"by\": \"unique_id\"},\n",
    "            engine=self._engine,\n",
    "            engine_conf=self._conf,\n",
    "            **self._transform_kwargs,\n",
    "        )\n",
    "\n",
    "    def _forecast_series(self, df: pd.DataFrame, models, freq, kwargs) -> pd.DataFrame:\n",
    "        tdf = df.set_index(\"unique_id\")\n",
    "        model = StatsForecast(df=tdf, models=models, freq=freq, n_jobs=1)\n",
    "        return model.forecast(**kwargs).reset_index()\n",
    "\n",
    "    def _cv(self, df: pd.DataFrame, models, freq, kwargs) -> pd.DataFrame:\n",
    "        tdf = df.set_index(\"unique_id\")\n",
    "        model = StatsForecast(df=tdf, models=models, freq=freq, n_jobs=1)\n",
    "        return model.cross_validation(**kwargs).reset_index()\n",
    "\n",
    "    def _get_output_schema(self, models, mode=\"forecast\") -> Schema:\n",
    "        cols = [(repr(model), np.float32) for model in models]\n",
    "        if mode == \"cv\":\n",
    "            cols = [(\"cutoff\", \"datetime\"), (\"y\", np.float32)] + cols\n",
    "        return Schema(cols)"
   ]
  },
  {
   "cell_type": "code",
   "execution_count": null,
   "id": "1d920794-1cb8-4f15-91b5-661f507eae8a",
   "metadata": {},
   "outputs": [],
   "source": [
    "#| hide\n",
    "add_docs(\n",
    "    FugueBackend, 'Fugue Backend',\n",
    "    forecast='Forecast using fugue as backend',\n",
    "    cross_validation='Perform cross validation using fugue as backend'\n",
    ")"
   ]
  },
  {
   "cell_type": "code",
   "execution_count": null,
   "id": "53913de1-81b9-401c-93a2-83e42047e471",
   "metadata": {},
   "outputs": [],
   "source": [
    "show_doc(FugueBackend)"
   ]
  },
  {
   "cell_type": "code",
   "execution_count": null,
   "id": "f4621d57-a565-40af-a41a-be97854f682b",
   "metadata": {},
   "outputs": [],
   "source": [
    "show_doc(FugueBackend.forecast)"
   ]
  },
  {
   "cell_type": "code",
   "execution_count": null,
   "id": "1fe51bdf-7941-41e9-a939-4a62e5119cb4",
   "metadata": {},
   "outputs": [],
   "source": [
    "show_doc(FugueBackend.cross_validation)"
   ]
  },
  {
   "cell_type": "markdown",
   "id": "e037f72d-4ace-44e8-b4d5-b8399d5e294d",
   "metadata": {},
   "source": [
    "## Dask"
   ]
  },
  {
   "cell_type": "code",
   "execution_count": null,
   "id": "e2df29ce-c1ac-44d9-829e-47096adf2917",
   "metadata": {},
   "outputs": [],
   "source": [
    "#| eval: false\n",
    "from dask.distributed import Client\n",
    "from fugue_dask import DaskExecutionEngine\n",
    "from statsforecast.models import Naive\n",
    "from statsforecast.utils import generate_series\n",
    "\n",
    "df = generate_series(10).reset_index()\n",
    "df['unique_id'] = df['unique_id'].astype(str)\n",
    "\n",
    "dask_client = Client()\n",
    "engine = DaskExecutionEngine(dask_client=dask_client)\n",
    "fcst = FugueBackend(engine=engine, as_local=True)"
   ]
  },
  {
   "cell_type": "markdown",
   "id": "dc1a44ec-787f-4ef7-8129-71409d2dd32a",
   "metadata": {},
   "source": [
    "### Forecast"
   ]
  },
  {
   "cell_type": "code",
   "execution_count": null,
   "id": "5bf2454a-7683-40d1-8828-877dba0345fa",
   "metadata": {},
   "outputs": [],
   "source": [
    "#| eval: false\n",
    "fcst.forecast(df, models=[Naive()], freq='D', h=12)"
   ]
  },
  {
   "cell_type": "markdown",
   "id": "a3b4f3de-910d-46eb-842b-579935cfbd10",
   "metadata": {},
   "source": [
    "### Cross Validation"
   ]
  },
  {
   "cell_type": "code",
   "execution_count": null,
   "id": "232d0a2f-8f3b-45cd-9f25-d8db281db3f8",
   "metadata": {},
   "outputs": [],
   "source": [
    "#| eval: false\n",
    "fcst.cross_validation(df, models=[Naive()], freq='D', h=12, n_windows=2)"
   ]
  },
  {
   "cell_type": "code",
   "execution_count": null,
   "id": "4d95e09b-cb70-4232-8ffa-b26fc8aea557",
   "metadata": {},
   "outputs": [],
   "source": [
    "#| hide\n",
    "#| eval: false\n",
    "from statsforecast.models import Naive\n",
    "from statsforecast.utils import generate_series\n",
    "\n",
    "df = generate_series(10).reset_index()\n",
    "df['unique_id'] = df['unique_id'].astype(str)\n",
    "\n",
    "backend = FugueBackend()\n",
    "#forecast\n",
    "fcst_fugue = backend.forecast(df, models=[Naive()], freq='D', h=12)\n",
    "fcst_stats = StatsForecast(models=[Naive()], freq='D').forecast(df=df, h=12)\n",
    "test_eq(fcst_fugue, fcst_stats.reset_index())\n",
    "\n",
    "#cross validation\n",
    "fcst_fugue = backend.cross_validation(df, models=[Naive()], freq='D', h=12)\n",
    "fcst_stats = StatsForecast(models=[Naive()], freq='D').cross_validation(df=df, h=12)\n",
    "test_eq(fcst_fugue, fcst_stats.reset_index())"
   ]
  }
 ],
 "metadata": {
  "kernelspec": {
   "display_name": "Python 3 (ipykernel)",
   "language": "python",
   "name": "python3"
  }
 },
 "nbformat": 4,
 "nbformat_minor": 5
}
