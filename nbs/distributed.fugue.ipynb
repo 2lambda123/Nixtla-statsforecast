{
 "cells": [
  {
   "cell_type": "code",
   "execution_count": null,
   "id": "524620c1",
   "metadata": {},
   "outputs": [],
   "source": [
    "#| default_exp distributed.fugue"
   ]
  },
  {
   "cell_type": "code",
   "execution_count": null,
   "id": "15392f6f",
   "metadata": {},
   "outputs": [],
   "source": [
    "#| hide\n",
    "%load_ext autoreload\n",
    "%autoreload 2"
   ]
  },
  {
   "cell_type": "markdown",
   "id": "12fa25a4",
   "metadata": {},
   "source": [
    "# Fugue Backend"
   ]
  },
  {
   "cell_type": "code",
   "execution_count": null,
   "id": "06732b96-bd80-4a4d-b9a2-4f95c7a82331",
   "metadata": {},
   "outputs": [],
   "source": [
    "#| hide\n",
    "from fastcore.test import test_eq"
   ]
  },
  {
   "cell_type": "code",
   "execution_count": null,
   "id": "bc16100a",
   "metadata": {},
   "outputs": [],
   "source": [
    "#| export\n",
    "from typing import Any, Dict\n",
    "\n",
    "import numpy as np\n",
    "import pandas as pd\n",
    "try:\n",
    "    from fugue import transform\n",
    "except ModuleNotFoundError as e:\n",
    "    msg = (\n",
    "        f'{e}. To use fugue you have to install it.'\n",
    "        'Please run `pip install fugue`. '\n",
    "    )\n",
    "    raise ModuleNotFoundError(msg) from e\n",
    "from statsforecast.core import StatsForecast\n",
    "from statsforecast.distributed.core import ParallelBackend\n",
    "from triad import Schema"
   ]
  },
  {
   "cell_type": "code",
   "execution_count": null,
   "id": "6d8d5b82-2be9-41f5-8cd0-3903d0761e09",
   "metadata": {},
   "outputs": [],
   "source": [
    "#| export\n",
    "class FugueBackend(ParallelBackend):\n",
    "    def __init__(self, engine: Any = None, conf: Any = None, **transform_kwargs: Any):\n",
    "        self._engine = engine\n",
    "        self._conf = conf\n",
    "        self._transform_kwargs = dict(transform_kwargs)\n",
    "\n",
    "    def __getstate__(self) -> Dict[str, Any]:\n",
    "        return {}\n",
    "\n",
    "    def forecast(self, df, models, freq, **kwargs: Any) -> Any:\n",
    "        schema = \"*-y+\" + str(self._get_output_schema(models))\n",
    "        return transform(\n",
    "            df,\n",
    "            self._forecast_series,\n",
    "            params=dict(models=models, freq=freq, kwargs=kwargs),\n",
    "            schema=schema,\n",
    "            partition={\"by\": \"unique_id\"},\n",
    "            engine=self._engine,\n",
    "            engine_conf=self._conf,\n",
    "            **self._transform_kwargs,\n",
    "        )\n",
    "\n",
    "    def cross_validation(self, df, models, freq, **kwargs: Any) -> Any:\n",
    "        schema = \"*-y+\" + str(self._get_output_schema(models, mode=\"cv\"))\n",
    "        return transform(\n",
    "            df,\n",
    "            self._cv,\n",
    "            params=dict(models=models, freq=freq, kwargs=kwargs),\n",
    "            schema=schema,\n",
    "            partition={\"by\": \"unique_id\"},\n",
    "            engine=self._engine,\n",
    "            engine_conf=self._conf,\n",
    "            **self._transform_kwargs,\n",
    "        )\n",
    "\n",
    "    def _forecast_series(self, df: pd.DataFrame, models, freq, kwargs) -> pd.DataFrame:\n",
    "        tdf = df.set_index(\"unique_id\")\n",
    "        model = StatsForecast(df=tdf, models=models, freq=freq, n_jobs=1)\n",
    "        return model.forecast(**kwargs).reset_index()\n",
    "\n",
    "    def _cv(self, df: pd.DataFrame, models, freq, kwargs) -> pd.DataFrame:\n",
    "        tdf = df.set_index(\"unique_id\")\n",
    "        model = StatsForecast(df=tdf, models=models, freq=freq, n_jobs=1)\n",
    "        return model.cross_validation(**kwargs).reset_index()\n",
    "\n",
    "    def _get_output_schema(self, models, mode=\"forecast\") -> Schema:\n",
    "        cols = [(repr(model), np.float32) for model in models]\n",
    "        if mode == \"cv\":\n",
    "            cols = [(\"cutoff\", \"datetime\"), (\"y\", np.float32)] + cols\n",
    "        return Schema(cols)"
   ]
  },
  {
   "cell_type": "code",
   "execution_count": null,
   "id": "4d95e09b-cb70-4232-8ffa-b26fc8aea557",
   "metadata": {},
   "outputs": [],
   "source": [
    "#| hide\n",
    "try: from nbdev.imports import IN_NOTEBOOK\n",
    "except: IN_NOTEBOOK=False\n",
    "if __name__==\"__main__\" and not IN_NOTEBOOK:\n",
    "    from statsforecast.models import Naive\n",
    "    from statsforecast.utils import generate_series\n",
    "\n",
    "    df = generate_series(10).reset_index()\n",
    "    df['unique_id'] = df['unique_id'].astype(str)\n",
    "\n",
    "    backend = FugueBackend()\n",
    "    #forecast\n",
    "    fcst_fugue = backend.forecast(df, models=[Naive()], freq='D', h=12)\n",
    "    fcst_stats = StatsForecast(models=[Naive()], freq='D').forecast(df=df, h=12)\n",
    "    test_eq(fcst_fugue, fcst_stats.reset_index())\n",
    "\n",
    "    #cross validation\n",
    "    fcst_fugue = backend.cross_validation(df, models=[Naive()], freq='D', h=12)\n",
    "    fcst_stats = StatsForecast(models=[Naive()], freq='D').cross_validation(df=df, h=12)\n",
    "    test_eq(fcst_fugue, fcst_stats.reset_index())"
   ]
  }
 ],
 "metadata": {
  "kernelspec": {
   "display_name": "Python 3 (ipykernel)",
   "language": "python",
   "name": "python3"
  }
 },
 "nbformat": 4,
 "nbformat_minor": 5
}
