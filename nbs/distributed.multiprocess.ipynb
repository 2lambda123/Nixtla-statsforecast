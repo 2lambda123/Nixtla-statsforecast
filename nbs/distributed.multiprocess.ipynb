{
 "cells": [
  {
   "cell_type": "code",
   "execution_count": null,
   "id": "524620c1",
   "metadata": {},
   "outputs": [],
   "source": [
    "#| default_exp distributed.multiprocess"
   ]
  },
  {
   "cell_type": "code",
   "execution_count": null,
   "id": "15392f6f",
   "metadata": {},
   "outputs": [],
   "source": [
    "#| hide\n",
    "%load_ext autoreload\n",
    "%autoreload 2"
   ]
  },
  {
   "cell_type": "markdown",
   "id": "12fa25a4",
   "metadata": {},
   "source": [
    "# Multiprocess Backend"
   ]
  },
  {
   "cell_type": "code",
   "execution_count": null,
   "id": "06732b96-bd80-4a4d-b9a2-4f95c7a82331",
   "metadata": {},
   "outputs": [],
   "source": [
    "#| hide\n",
    "from fastcore.test import test_eq"
   ]
  },
  {
   "cell_type": "code",
   "execution_count": null,
   "id": "bc16100a",
   "metadata": {},
   "outputs": [],
   "source": [
    "#| export\n",
    "from typing import Any\n",
    "\n",
    "from statsforecast.core import StatsForecast\n",
    "from statsforecast.distributed.core import ParallelBackend"
   ]
  },
  {
   "cell_type": "code",
   "execution_count": null,
   "id": "6d8d5b82-2be9-41f5-8cd0-3903d0761e09",
   "metadata": {},
   "outputs": [],
   "source": [
    "#| export\n",
    "class MultiprocessBackend(ParallelBackend):\n",
    "    def __init__(self, n_jobs: int) -> None:\n",
    "        self.n_jobs = n_jobs\n",
    "        super().__init__()\n",
    "\n",
    "    def forecast(self, df, models, freq, **kwargs: Any) -> Any:\n",
    "        model = StatsForecast(df=df, models=models, freq=freq, n_jobs=self.n_jobs)\n",
    "        return model.forecast(**kwargs)\n",
    "\n",
    "    def cross_validation(self, df, models, freq, **kwargs: Any) -> Any:\n",
    "        model = StatsForecast(df=df, models=models, freq=freq, n_jobs=self.n_jobs)\n",
    "        return model.cross_validation(**kwargs)"
   ]
  },
  {
   "cell_type": "code",
   "execution_count": null,
   "id": "4d95e09b-cb70-4232-8ffa-b26fc8aea557",
   "metadata": {},
   "outputs": [],
   "source": [
    "#| hide\n",
    "from statsforecast.models import Naive\n",
    "from statsforecast.utils import generate_series\n",
    "try: from nbdev.imports import IN_NOTEBOOK\n",
    "except: IN_NOTEBOOK=False\n",
    "\n",
    "df = generate_series(10).reset_index()\n",
    "df['unique_id'] = df['unique_id'].astype(str)\n",
    "\n",
    "def test_mp_back(n_jobs=1):\n",
    "    backend = MultiprocessBackend(n_jobs=n_jobs)\n",
    "    #forecast\n",
    "    fcst = backend.forecast(df, models=[Naive()], freq='D', h=12)\n",
    "    fcst_stats = StatsForecast(models=[Naive()], freq='D').forecast(df=df, h=12)\n",
    "    test_eq(fcst, fcst_stats)\n",
    "    #crossvalidation\n",
    "    fcst = backend.cross_validation(df, models=[Naive()], freq='D', h=12)\n",
    "    fcst_stats = StatsForecast(models=[Naive()], freq='D').cross_validation(df=df, h=12)\n",
    "    test_eq(fcst, fcst_stats)\n",
    "    \n",
    "test_mp_back()\n",
    "if __name__==\"__main__\" and not IN_NOTEBOOK:\n",
    "    test_mp_back(n_jobs=2)"
   ]
  }
 ],
 "metadata": {
  "kernelspec": {
   "display_name": "Python 3 (ipykernel)",
   "language": "python",
   "name": "python3"
  }
 },
 "nbformat": 4,
 "nbformat_minor": 5
}
