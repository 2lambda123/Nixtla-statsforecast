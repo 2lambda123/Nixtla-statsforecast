{
 "cells": [
  {
   "cell_type": "code",
   "execution_count": null,
   "id": "524620c1",
   "metadata": {},
   "outputs": [],
   "source": [
    "#| default_exp distributed.ray"
   ]
  },
  {
   "cell_type": "code",
   "execution_count": null,
   "id": "15392f6f",
   "metadata": {},
   "outputs": [],
   "source": [
    "#| hide\n",
    "%load_ext autoreload\n",
    "%autoreload 2"
   ]
  },
  {
   "cell_type": "markdown",
   "id": "12fa25a4",
   "metadata": {},
   "source": [
    "# Ray Backend"
   ]
  },
  {
   "cell_type": "code",
   "execution_count": null,
   "id": "06732b96-bd80-4a4d-b9a2-4f95c7a82331",
   "metadata": {},
   "outputs": [],
   "source": [
    "#| hide\n",
    "from fastcore.test import test_eq"
   ]
  },
  {
   "cell_type": "code",
   "execution_count": null,
   "id": "bc16100a",
   "metadata": {},
   "outputs": [],
   "source": [
    "#| export\n",
    "from typing import Any\n",
    "\n",
    "try:\n",
    "    import ray\n",
    "except ModuleNotFoundError as e:\n",
    "    msg = (\n",
    "        f'{e}. To use a ray cluster you have to install '\n",
    "        'ray. Please run `pip install ray`. '\n",
    "    )\n",
    "    raise ModuleNotFoundError(msg) from e\n",
    "from statsforecast.core import StatsForecast\n",
    "from statsforecast.distributed.core import ParallelBackend"
   ]
  },
  {
   "cell_type": "code",
   "execution_count": null,
   "id": "6d8d5b82-2be9-41f5-8cd0-3903d0761e09",
   "metadata": {},
   "outputs": [],
   "source": [
    "#| export\n",
    "class RayBackend(ParallelBackend):\n",
    "    def __init__(self, ray_address) -> None:\n",
    "        self.ray_address = ray_address\n",
    "\n",
    "    def forecast(self, df, models, freq, **kwargs: Any) -> Any:\n",
    "        model = StatsForecast(df=df.set_index(\"unique_id\"), models=models, freq=freq, ray_address=self.ray_address)\n",
    "        return model.forecast(**kwargs)\n",
    "\n",
    "    def cross_validation(self, df, models, freq, **kwargs: Any) -> Any:\n",
    "        model = StatsForecast(df=df.set_index(\"unique_id\"), models=models, freq=freq, ray_address=self.ray_address)\n",
    "        return model.cross_validation(df, models, freq, **kwargs)"
   ]
  }
 ],
 "metadata": {
  "kernelspec": {
   "display_name": "Python 3 (ipykernel)",
   "language": "python",
   "name": "python3"
  }
 },
 "nbformat": 4,
 "nbformat_minor": 5
}
