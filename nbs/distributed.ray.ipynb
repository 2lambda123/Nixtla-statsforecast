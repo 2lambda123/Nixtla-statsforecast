{
 "cells": [
  {
   "cell_type": "code",
   "execution_count": null,
   "id": "524620c1",
   "metadata": {},
   "outputs": [],
   "source": [
    "#| default_exp distributed.ray"
   ]
  },
  {
   "cell_type": "code",
   "execution_count": null,
   "id": "15392f6f",
   "metadata": {},
   "outputs": [],
   "source": [
    "#| hide\n",
    "%load_ext autoreload\n",
    "%autoreload 2"
   ]
  },
  {
   "cell_type": "markdown",
   "id": "12fa25a4",
   "metadata": {},
   "source": [
    "# RayBackend\n",
    "\n",
    "> The computational efficiency of `StatsForecast` can be tracked to its two core components:<br>1. Its `models` written in NumBa that optimizes Python code to reach C speeds.<br>2. Its `core.StatsForecast` class that enables distributed computing.<br><br>Here we use [Ray](https://github.com/ray-project/ray) to distribute ML workloads.<br><br>"
   ]
  },
  {
   "cell_type": "code",
   "execution_count": null,
   "id": "06732b96-bd80-4a4d-b9a2-4f95c7a82331",
   "metadata": {},
   "outputs": [],
   "source": [
    "#| hide\n",
    "from fastcore.test import test_eq\n",
    "from nbdev.showdoc import add_docs, show_doc"
   ]
  },
  {
   "cell_type": "code",
   "execution_count": null,
   "id": "bc16100a",
   "metadata": {},
   "outputs": [],
   "source": [
    "#| export\n",
    "from typing import Any\n",
    "\n",
    "from statsforecast.core import StatsForecast\n",
    "from statsforecast.distributed.core import ParallelBackend"
   ]
  },
  {
   "cell_type": "code",
   "execution_count": null,
   "id": "6d8d5b82-2be9-41f5-8cd0-3903d0761e09",
   "metadata": {},
   "outputs": [],
   "source": [
    "#| export\n",
    "class RayBackend(ParallelBackend):\n",
    "    \"\"\"RayBackend for Distributed Computation.\n",
    "    [Source code](https://github.com/Nixtla/statsforecast/blob/main/statsforecast/distributed/ray.py).\n",
    "\n",
    "    This class uses [Ray](https://github.com/ray-project/ray) backend. \n",
    "    Ray consists of a core distributed runtime and a toolkit of libraries (Ray AIR) \n",
    "    for accelerating ML workloads.\n",
    "\n",
    "    **Parameters:**<br>\n",
    "    `ray_address`: fugue.ExecutionEngine, a selection between spark and dask.<br>\n",
    "\n",
    "    **Notes:**<br>\n",
    "    A short introduction to Ray, with examples on how to train and select ML models\n",
    "    is available [here](https://docs.ray.io/en/latest/ray-overview/).\n",
    "    \"\"\"    \n",
    "    def __init__(self, ray_address) -> None:\n",
    "        self.ray_address = ray_address\n",
    "\n",
    "    def forecast(self, df, models, freq, **kwargs: Any) -> Any:\n",
    "        \"\"\"Memory Efficient core.StatsForecast predictions with RayBackend.\n",
    "\n",
    "        This method uses a Ray's cluster, in combination with \n",
    "        `core.StatsForecast`'s forecast to distribute the predictions of \n",
    "        StatsForecast models.\n",
    "\n",
    "        **Parameters:**<br>\n",
    "        `df`: pandas.DataFrame, with columns [`unique_id`, `ds`, `y`] and exogenous.<br>\n",
    "        `freq`: str, frequency of the data, [panda's available frequencies](https://pandas.pydata.org/pandas-docs/stable/user_guide/timeseries.html#offset-aliases).<br>\n",
    "        `models`: List[typing.Any], list of instantiated objects `StatsForecast.models`.<br>\n",
    "        `**kwargs`: Additional `core.StatsForecast` parameters. Example forecast horizon `h`.<br>\n",
    "\n",
    "        **Returns:**<br>\n",
    "        `fcsts_df`: pandas.DataFrame, with `models` columns for point predictions and probabilistic\n",
    "        predictions for all fitted `models`.<br>\n",
    "        \n",
    "        **References:**<br>\n",
    "        \"\"\"        \n",
    "        model = StatsForecast(df=df.set_index(\"unique_id\"), \n",
    "                              models=models, freq=freq, \n",
    "                              ray_address=self.ray_address)\n",
    "        return model.forecast(**kwargs)\n",
    "\n",
    "    def cross_validation(self, df, models, freq, **kwargs: Any) -> Any:\n",
    "        \"\"\"Temporal Cross-Validation with core.StatsForecast and RayBackend.\n",
    "\n",
    "        This method uses a Ray's cluster, in combination with \n",
    "        `core.StatsForecast`'s cross-validation to efficiently fit a list of StatsForecast \n",
    "        models through multiple training windows, in either chained or rolled manner.\n",
    "\n",
    "        `StatsForecast.models`' speed along with Rays's distributed computation allow to \n",
    "        overcome this evaluation technique high computational costs. Temporal cross-validation \n",
    "        provides better model's generalization measurements by increasing the test's length \n",
    "        and diversity.\n",
    "\n",
    "        **Parameters:**<br>\n",
    "        `df`: pandas.DataFrame, with columns [`unique_id`, `ds`, `y`] and exogenous.<br>\n",
    "        `freq`: str, frequency of the data, [panda's available frequencies](https://pandas.pydata.org/pandas-docs/stable/user_guide/timeseries.html#offset-aliases).<br>\n",
    "        `models`: List[typing.Any], list of instantiated objects `StatsForecast.models`.<br>\n",
    "\n",
    "        **Returns:**<br>\n",
    "        `fcsts_df`: pandas.DataFrame, with `models` columns for point predictions and probabilistic\n",
    "        predictions for all fitted `models`.<br>\n",
    "        \n",
    "        **References:**<br>\n",
    "        The [core.StatsForecast's cross validation](https://nixtla.github.io/statsforecast/core.html#statsforecast.cross_validation)\n",
    "        method documentation.<br>\n",
    "        [Rob J. Hyndman and George Athanasopoulos (2018). \"Forecasting principles and practice, Temporal Cross-Validation\"](https://otexts.com/fpp3/tscv.html).\n",
    "        \"\"\"\n",
    "        model = StatsForecast(df=df.set_index(\"unique_id\"), models=models, freq=freq, ray_address=self.ray_address)\n",
    "        return model.cross_validation(df, models, freq, **kwargs)"
   ]
  },
  {
   "cell_type": "code",
   "execution_count": null,
   "id": "82628b5f",
   "metadata": {},
   "outputs": [
    {
     "data": {
      "text/markdown": [
       "---\n",
       "\n",
       "### RayBackend\n",
       "\n",
       ">      RayBackend (ray_address)\n",
       "\n",
       "RayBackend for Distributed Computation.\n",
       "[Source code](https://github.com/Nixtla/statsforecast/blob/main/statsforecast/distributed/ray.py).\n",
       "\n",
       "This class uses [Ray](https://github.com/ray-project/ray) backend. \n",
       "Ray consists of a core distributed runtime and a toolkit of libraries (Ray AIR) \n",
       "for accelerating ML workloads.\n",
       "\n",
       "**Parameters:**<br>\n",
       "`ray_address`: fugue.ExecutionEngine, a selection between spark and dask.<br>\n",
       "\n",
       "**Notes:**<br>\n",
       "A short introduction to Ray, with examples on how to train and select ML models\n",
       "is available [here](https://docs.ray.io/en/latest/ray-overview/)."
      ],
      "text/plain": [
       "---\n",
       "\n",
       "### RayBackend\n",
       "\n",
       ">      RayBackend (ray_address)\n",
       "\n",
       "RayBackend for Distributed Computation.\n",
       "[Source code](https://github.com/Nixtla/statsforecast/blob/main/statsforecast/distributed/ray.py).\n",
       "\n",
       "This class uses [Ray](https://github.com/ray-project/ray) backend. \n",
       "Ray consists of a core distributed runtime and a toolkit of libraries (Ray AIR) \n",
       "for accelerating ML workloads.\n",
       "\n",
       "**Parameters:**<br>\n",
       "`ray_address`: fugue.ExecutionEngine, a selection between spark and dask.<br>\n",
       "\n",
       "**Notes:**<br>\n",
       "A short introduction to Ray, with examples on how to train and select ML models\n",
       "is available [here](https://docs.ray.io/en/latest/ray-overview/)."
      ]
     },
     "execution_count": null,
     "metadata": {},
     "output_type": "execute_result"
    }
   ],
   "source": [
    "show_doc(RayBackend, title_level=3)"
   ]
  },
  {
   "cell_type": "code",
   "execution_count": null,
   "id": "64258a98",
   "metadata": {},
   "outputs": [
    {
     "data": {
      "text/markdown": [
       "---\n",
       "\n",
       "### RayBackend.forecast\n",
       "\n",
       ">      RayBackend.forecast (df, models, freq, **kwargs:Any)\n",
       "\n",
       "Memory Efficient core.StatsForecast predictions with RayBackend.\n",
       "\n",
       "This method uses a Ray's cluster, in combination with \n",
       "`core.StatsForecast`'s forecast to distribute the predictions of \n",
       "StatsForecast models.\n",
       "\n",
       "**Parameters:**<br>\n",
       "`df`: pandas.DataFrame, with columns [`unique_id`, `ds`, `y`] and exogenous.<br>\n",
       "`freq`: str, frequency of the data, [panda's available frequencies](https://pandas.pydata.org/pandas-docs/stable/user_guide/timeseries.html#offset-aliases).<br>\n",
       "`models`: List[typing.Any], list of instantiated objects `StatsForecast.models`.<br>\n",
       "`**kwargs`: Additional `core.StatsForecast` parameters. Example forecast horizon `h`.<br>\n",
       "\n",
       "**Returns:**<br>\n",
       "`fcsts_df`: pandas.DataFrame, with `models` columns for point predictions and probabilistic\n",
       "predictions for all fitted `models`.<br>\n",
       "\n",
       "**References:**<br>"
      ],
      "text/plain": [
       "---\n",
       "\n",
       "### RayBackend.forecast\n",
       "\n",
       ">      RayBackend.forecast (df, models, freq, **kwargs:Any)\n",
       "\n",
       "Memory Efficient core.StatsForecast predictions with RayBackend.\n",
       "\n",
       "This method uses a Ray's cluster, in combination with \n",
       "`core.StatsForecast`'s forecast to distribute the predictions of \n",
       "StatsForecast models.\n",
       "\n",
       "**Parameters:**<br>\n",
       "`df`: pandas.DataFrame, with columns [`unique_id`, `ds`, `y`] and exogenous.<br>\n",
       "`freq`: str, frequency of the data, [panda's available frequencies](https://pandas.pydata.org/pandas-docs/stable/user_guide/timeseries.html#offset-aliases).<br>\n",
       "`models`: List[typing.Any], list of instantiated objects `StatsForecast.models`.<br>\n",
       "`**kwargs`: Additional `core.StatsForecast` parameters. Example forecast horizon `h`.<br>\n",
       "\n",
       "**Returns:**<br>\n",
       "`fcsts_df`: pandas.DataFrame, with `models` columns for point predictions and probabilistic\n",
       "predictions for all fitted `models`.<br>\n",
       "\n",
       "**References:**<br>"
      ]
     },
     "execution_count": null,
     "metadata": {},
     "output_type": "execute_result"
    }
   ],
   "source": [
    "show_doc(RayBackend.forecast, title_level=3)"
   ]
  },
  {
   "cell_type": "code",
   "execution_count": null,
   "id": "c00f24e3",
   "metadata": {},
   "outputs": [
    {
     "data": {
      "text/markdown": [
       "---\n",
       "\n",
       "### RayBackend.cross_validation\n",
       "\n",
       ">      RayBackend.cross_validation (df, models, freq, **kwargs:Any)\n",
       "\n",
       "Temporal Cross-Validation with core.StatsForecast and RayBackend.\n",
       "\n",
       "This method uses a Ray's cluster, in combination with \n",
       "`core.StatsForecast`'s cross-validation to efficiently fit a list of StatsForecast \n",
       "models through multiple training windows, in either chained or rolled manner.\n",
       "\n",
       "`StatsForecast.models`' speed along with Rays's distributed computation allow to \n",
       "overcome this evaluation technique high computational costs. Temporal cross-validation \n",
       "provides better model's generalization measurements by increasing the test's length \n",
       "and diversity.\n",
       "\n",
       "**Parameters:**<br>\n",
       "`df`: pandas.DataFrame, with columns [`unique_id`, `ds`, `y`] and exogenous.<br>\n",
       "`freq`: str, frequency of the data, [panda's available frequencies](https://pandas.pydata.org/pandas-docs/stable/user_guide/timeseries.html#offset-aliases).<br>\n",
       "`models`: List[typing.Any], list of instantiated objects `StatsForecast.models`.<br>\n",
       "\n",
       "**Returns:**<br>\n",
       "`fcsts_df`: pandas.DataFrame, with `models` columns for point predictions and probabilistic\n",
       "predictions for all fitted `models`.<br>\n",
       "\n",
       "**References:**<br>\n",
       "The [core.StatsForecast's cross validation](https://nixtla.github.io/statsforecast/core.html#statsforecast.cross_validation)\n",
       "method documentation.<br>\n",
       "[Rob J. Hyndman and George Athanasopoulos (2018). \"forecasting principles and practice, Temporal Cross-Validation\"](https://otexts.com/fpp3/tscv.html)."
      ],
      "text/plain": [
       "---\n",
       "\n",
       "### RayBackend.cross_validation\n",
       "\n",
       ">      RayBackend.cross_validation (df, models, freq, **kwargs:Any)\n",
       "\n",
       "Temporal Cross-Validation with core.StatsForecast and RayBackend.\n",
       "\n",
       "This method uses a Ray's cluster, in combination with \n",
       "`core.StatsForecast`'s cross-validation to efficiently fit a list of StatsForecast \n",
       "models through multiple training windows, in either chained or rolled manner.\n",
       "\n",
       "`StatsForecast.models`' speed along with Rays's distributed computation allow to \n",
       "overcome this evaluation technique high computational costs. Temporal cross-validation \n",
       "provides better model's generalization measurements by increasing the test's length \n",
       "and diversity.\n",
       "\n",
       "**Parameters:**<br>\n",
       "`df`: pandas.DataFrame, with columns [`unique_id`, `ds`, `y`] and exogenous.<br>\n",
       "`freq`: str, frequency of the data, [panda's available frequencies](https://pandas.pydata.org/pandas-docs/stable/user_guide/timeseries.html#offset-aliases).<br>\n",
       "`models`: List[typing.Any], list of instantiated objects `StatsForecast.models`.<br>\n",
       "\n",
       "**Returns:**<br>\n",
       "`fcsts_df`: pandas.DataFrame, with `models` columns for point predictions and probabilistic\n",
       "predictions for all fitted `models`.<br>\n",
       "\n",
       "**References:**<br>\n",
       "The [core.StatsForecast's cross validation](https://nixtla.github.io/statsforecast/core.html#statsforecast.cross_validation)\n",
       "method documentation.<br>\n",
       "[Rob J. Hyndman and George Athanasopoulos (2018). \"forecasting principles and practice, Temporal Cross-Validation\"](https://otexts.com/fpp3/tscv.html)."
      ]
     },
     "execution_count": null,
     "metadata": {},
     "output_type": "execute_result"
    }
   ],
   "source": [
    "show_doc(RayBackend.cross_validation, title_level=3)"
   ]
  },
  {
   "cell_type": "markdown",
   "id": "db9d8f2a",
   "metadata": {},
   "source": [
    "## Ray Distributed Predictions\n",
    "\n",
    "Here we provide an example for the distribution of the `StatsForecast` predictions using `RayBackend` to execute the code in a Ray cluster.\n",
    "\n",
    "**Work in progress**"
   ]
  },
  {
   "cell_type": "code",
   "execution_count": null,
   "id": "009bfb66",
   "metadata": {},
   "outputs": [],
   "source": []
  }
 ],
 "metadata": {
  "kernelspec": {
   "display_name": "Python 3 (ipykernel)",
   "language": "python",
   "name": "python3"
  }
 },
 "nbformat": 4,
 "nbformat_minor": 5
}
