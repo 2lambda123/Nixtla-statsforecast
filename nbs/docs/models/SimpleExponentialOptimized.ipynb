{
 "cells": [
  {
   "attachments": {},
   "cell_type": "markdown",
   "metadata": {},
   "source": [
    "The objective of the following article is to obtain a step-by-step guide on building the `Simple Exponential Smoothing Optimized` using `SimpleExponentialSmoothingOptimized()` with `Statsforecast`.\n",
    "\n",
    "During this walkthrough, we will become familiar with the main `StatsForecast` class and some relevant methods such as `StatsForecast.plot`, `StatsForecast.forecast` and `StatsForecast.cross_validation` in other.\n",
    "\n",
    "Let's start!!!"
   ]
  },
  {
   "attachments": {},
   "cell_type": "markdown",
   "metadata": {},
   "source": [
    "<a class=\"anchor\" id=\"0.1\"></a>\n",
    "# **Table of Contents** \n",
    "\n",
    "\n",
    "1.\t[Introduction](#1)\n",
    "2.\t[Simple Exponential Smoothing Optimized ](#2)\n",
    "3.\t[Installing Statsforecast](#3)\n",
    "4.\t[Loading libraries and data](#4)\n",
    "5.\t[Explore Data with the plot method](#5)\n",
    "6.\t[Split the data into training and testing](#6)\n",
    "7.\t[Implementation of Theta with StatsForecast](#7)\n",
    "8.\t[Evaluate the model’s performance](#8)\n",
    "9.\t[Evaluate the model](#9)\n",
    "10. [References](#10)"
   ]
  },
  {
   "attachments": {},
   "cell_type": "markdown",
   "metadata": {},
   "source": [
    "# **1. Introduction** <a class=\"anchor\" id=\"1\"></a>\n",
    "\n",
    "[Table of Contents](#0)\n",
    "\n",
    "Simple Exponential Smoothing Optimized (SES Optimized) is a forecasting model used to predict future values in univariate time series. It is a variant of the simple exponential smoothing (SES) method that uses an optimization approach to estimate the model parameters more accurately.\n",
    "\n",
    "The SES Optimized method uses a single smoothing parameter to estimate the trend and seasonality in the time series data. The model attempts to minimize the mean squared error (MSE) between the predictions and the actual values in the training sample using an optimization algorithm. \n",
    "\n",
    "The SES Optimized approach is especially useful for time series with strong trend and seasonality patterns, or for time series with noisy data. However, it is important to note that this model assumes that the time series is stationary and that the variation in the data is random and there are no non-random patterns in the data. If these assumptions are not met, the SES Optimized model may not perform well and another forecasting method may be required."
   ]
  },
  {
   "attachments": {},
   "cell_type": "markdown",
   "metadata": {},
   "source": [
    "# **2. Simple Exponential Smoothing Optimized** <a class=\"anchor\" id=\"2\"></a>\n",
    "\n",
    "[Table of Contents](#0)\n",
    "\n",
    "The simplest of the exponentially smoothing methods is naturally called simple exponential smoothing (SES). This method is suitable for forecasting data with no clear trend or seasonal pattern.\n",
    "\n",
    "Using the naïve method, all forecasts for the future are equal to the last observed value of the series,\n",
    "$$\\hat{y}_{T+h|T} = y_{T},$$\n",
    "\n",
    "for $h=1,2,\\dots $. Hence, the naïve method assumes that the most recent observation is the only important one, and all previous observations provide no information for the future. This can be thought of as a weighted average where all of the weight is given to the last observation.\n",
    "\n",
    "Using the average method, all future forecasts are equal to a simple average of the observed data,\n",
    "$$\\hat{y}_{T+h|T} = \\frac1T \\sum_{t=1}^T y_t, $$\n",
    "\n",
    "for $h=1,2,\\dots $ Hence, the average method assumes that all observations are of equal importance, and gives them equal weights when generating forecasts.\n",
    "\n",
    "We often want something between these two extremes. For example, it may be sensible to attach larger weights to more recent observations than to observations from the distant past. This is exactly the concept behind simple exponential smoothing. Forecasts are calculated using weighted averages, where the weights decrease exponentially as observations come from further in the past — the smallest weights are associated with the oldest observations:\n",
    "\n",
    "\\begin{equation}\n",
    "  \\hat{y}_{T+1|T} = \\alpha y_T + \\alpha(1-\\alpha) y_{T-1} + \\alpha(1-\\alpha)^2 y_{T-2}+ \\cdots,   \\tag{1}\n",
    "\\end{equation}\n",
    "\n",
    "where $0 \\le \\alpha \\le 1$ is the smoothing parameter. The one-step-ahead forecast for time $T+1$ is a weighted average of all of the observations in the series $y_1,\\dots,y_T$. The rate at which the weights decrease is controlled by the parameter $\\alpha$.\n",
    "\n",
    "For any $\\alpha$ between 0 and 1, the weights attached to the observations decrease exponentially as we go back in time, hence the name “exponential smoothing”. If $\\alpha$ is small (i.e., close to 0), more weight is given to observations from the more distant past. If $\\alpha$ is large (i.e., close to 1), more weight is given to the more recent observations. For the extreme case where $\\alpha=1$, $\\hat{y}_{T+1|T}=y_T$ and the forecasts are equal to the naïve forecasts.\n"
   ]
  },
  {
   "attachments": {},
   "cell_type": "markdown",
   "metadata": {},
   "source": [
    "## **2.1 Optimisation**\n",
    "\n",
    "The application of every exponential smoothing method requires the smoothing parameters and the initial values to be chosen. In particular, for simple exponential smoothing, we need to select the values of $\\alpha$ and $\\ell_0$\n",
    " . All forecasts can be computed from the data once we know those values. For the methods that follow there is usually more than one smoothing parameter and more than one initial component to be chosen.\n",
    "\n",
    " In some cases, the smoothing parameters may be chosen in a subjective manner — the forecaster specifies the value of the smoothing parameters based on previous experience. However, a more reliable and objective way to obtain values for the unknown parameters is to estimate them from the observed data.\n",
    "\n",
    " From regression models we estimated the coefficients of a regression model by minimising the sum of the squared residuals (usually known as SSE or “sum of squared errors”). Similarly, the unknown parameters and the initial values for any exponential smoothing method can be estimated by minimising the SSE. The residuals are specified as $e_t=y_t - \\hat{y}_{t|t-1}$ for $t=1,\\dots,T$. Hence, we find the values of the unknown parameters and the initial values that minimise\n",
    "\n",
    "\\begin{equation}\n",
    "\\text{SSE}=\\sum_{t=1}^T(y_t - \\hat{y}_{t|t-1})^2=\\sum_{t=1}^Te_t^2. \\tag{2}\n",
    "\\end{equation}\n",
    "\n",
    "Unlike the regression case (where we have formulas which return the values of the regression coefficients that minimise the SSE), this involves a non-linear minimisation problem, and we need to use an optimisation tool to solve it."
   ]
  },
  {
   "attachments": {},
   "cell_type": "markdown",
   "metadata": {},
   "source": [
    "# **3. Installing Statsforecast** <a class=\"anchor\" id=\"3\"></a>\n",
    "\n",
    "[Table of Contents](#0.1)\n",
    "\n",
    "* using pip:\n",
    "\n",
    "`pip install statsforecast`\n",
    "\n",
    "* using with conda:\n",
    "\n",
    "`conda install -c conda-forge statsforecast`"
   ]
  },
  {
   "attachments": {},
   "cell_type": "markdown",
   "metadata": {},
   "source": [
    "¡Warning!\n",
    "\n",
    "We are constantly updating StatsForecast, so we suggest fixing the version to avoid issues. \n",
    "\n",
    "`pip install statsforecast==\"1.0.0\"`"
   ]
  },
  {
   "attachments": {},
   "cell_type": "markdown",
   "metadata": {},
   "source": [
    "# **4. Loading libraries and data** <a class=\"anchor\" id=\"4\"></a>\n",
    "\n",
    "[Table of Contents](#0.1)"
   ]
  },
  {
   "cell_type": "code",
   "execution_count": 1,
   "metadata": {},
   "outputs": [],
   "source": [
    "# Handling and processing of Data\n",
    "# ==============================================================================\n",
    "import numpy as np\n",
    "import pandas as pd\n",
    "\n",
    "import scipy.stats as stats\n",
    "\n",
    "# Handling and processing of Data for Date (time)\n",
    "# ==============================================================================\n",
    "import datetime\n",
    "import time\n",
    "from datetime import datetime, timedelta\n"
   ]
  },
  {
   "cell_type": "code",
   "execution_count": 2,
   "metadata": {},
   "outputs": [],
   "source": [
    "# Plot\n",
    "# ==============================================================================\n",
    "import matplotlib.pyplot as plt\n",
    "import matplotlib.ticker as ticker\n",
    "import seaborn as sns\n",
    "from statsmodels.graphics.tsaplots import plot_acf\n",
    "from statsmodels.graphics.tsaplots import plot_pacf\n",
    "import plotly.express as px\n",
    "import plotly.graph_objects as go\n",
    "plt.style.use('fivethirtyeight')\n",
    "plt.rcParams['lines.linewidth'] = 1.5\n",
    "dark_style = {\n",
    "    'figure.facecolor': '#212946',\n",
    "    'axes.facecolor': '#212946',\n",
    "    'savefig.facecolor':'#212946',\n",
    "    'axes.grid': True,\n",
    "    'axes.grid.which': 'both',\n",
    "    'axes.spines.left': False,\n",
    "    'axes.spines.right': False,\n",
    "    'axes.spines.top': False,\n",
    "    'axes.spines.bottom': False,\n",
    "    'grid.color': '#2A3459',\n",
    "    'grid.linewidth': '1',\n",
    "    'text.color': '0.9',\n",
    "    'axes.labelcolor': '0.9',\n",
    "    'xtick.color': '0.9',\n",
    "    'ytick.color': '0.9',\n",
    "    'font.size': 12 }\n",
    "plt.rcParams.update(dark_style)\n",
    "# Define the plot size\n",
    "# ==============================================================================\n",
    "from pylab import rcParams\n",
    "rcParams['figure.figsize'] = (18,7)\n",
    "\n",
    "# Hide warnings\n",
    "# ==============================================================================\n",
    "from pylab import rcParams\n",
    "import warnings\n",
    "warnings.filterwarnings(\"ignore\")"
   ]
  },
  {
   "attachments": {},
   "cell_type": "markdown",
   "metadata": {},
   "source": [
    "## **4.1 Read Data**"
   ]
  },
  {
   "cell_type": "code",
   "execution_count": 3,
   "metadata": {},
   "outputs": [
    {
     "data": {
      "text/html": [
       "<div>\n",
       "<style scoped>\n",
       "    .dataframe tbody tr th:only-of-type {\n",
       "        vertical-align: middle;\n",
       "    }\n",
       "\n",
       "    .dataframe tbody tr th {\n",
       "        vertical-align: top;\n",
       "    }\n",
       "\n",
       "    .dataframe thead th {\n",
       "        text-align: right;\n",
       "    }\n",
       "</style>\n",
       "<table border=\"1\" class=\"dataframe\">\n",
       "  <thead>\n",
       "    <tr style=\"text-align: right;\">\n",
       "      <th></th>\n",
       "      <th>Time</th>\n",
       "      <th>Ads</th>\n",
       "    </tr>\n",
       "  </thead>\n",
       "  <tbody>\n",
       "    <tr>\n",
       "      <th>0</th>\n",
       "      <td>2017-09-13T00:00:00</td>\n",
       "      <td>80115</td>\n",
       "    </tr>\n",
       "    <tr>\n",
       "      <th>1</th>\n",
       "      <td>2017-09-13T01:00:00</td>\n",
       "      <td>79885</td>\n",
       "    </tr>\n",
       "    <tr>\n",
       "      <th>2</th>\n",
       "      <td>2017-09-13T02:00:00</td>\n",
       "      <td>89325</td>\n",
       "    </tr>\n",
       "    <tr>\n",
       "      <th>3</th>\n",
       "      <td>2017-09-13T03:00:00</td>\n",
       "      <td>101930</td>\n",
       "    </tr>\n",
       "    <tr>\n",
       "      <th>4</th>\n",
       "      <td>2017-09-13T04:00:00</td>\n",
       "      <td>121630</td>\n",
       "    </tr>\n",
       "  </tbody>\n",
       "</table>\n",
       "</div>"
      ],
      "text/plain": [
       "                  Time     Ads\n",
       "0  2017-09-13T00:00:00   80115\n",
       "1  2017-09-13T01:00:00   79885\n",
       "2  2017-09-13T02:00:00   89325\n",
       "3  2017-09-13T03:00:00  101930\n",
       "4  2017-09-13T04:00:00  121630"
      ]
     },
     "execution_count": 3,
     "metadata": {},
     "output_type": "execute_result"
    }
   ],
   "source": [
    "df=pd.read_csv(\"https://raw.githubusercontent.com/Naren8520/Serie-de-tiempo-con-Machine-Learning/main/Data/ads.csv\")\n",
    "df.head()"
   ]
  },
  {
   "attachments": {},
   "cell_type": "markdown",
   "metadata": {},
   "source": [
    "The input to StatsForecast is always a data frame in long format with three columns: unique_id, ds and y:\n",
    "\n",
    "* The `unique_id` (string, int or category) represents an identifier for the series.\n",
    "\n",
    "* The `ds` (datestamp) column should be of a format expected by Pandas, ideally YYYY-MM-DD for a date or YYYY-MM-DD HH:MM:SS for a timestamp.\n",
    "\n",
    "* The `y` (numeric) represents the measurement we wish to forecast."
   ]
  },
  {
   "cell_type": "code",
   "execution_count": 4,
   "metadata": {},
   "outputs": [
    {
     "data": {
      "text/html": [
       "<div>\n",
       "<style scoped>\n",
       "    .dataframe tbody tr th:only-of-type {\n",
       "        vertical-align: middle;\n",
       "    }\n",
       "\n",
       "    .dataframe tbody tr th {\n",
       "        vertical-align: top;\n",
       "    }\n",
       "\n",
       "    .dataframe thead th {\n",
       "        text-align: right;\n",
       "    }\n",
       "</style>\n",
       "<table border=\"1\" class=\"dataframe\">\n",
       "  <thead>\n",
       "    <tr style=\"text-align: right;\">\n",
       "      <th></th>\n",
       "      <th>ds</th>\n",
       "      <th>y</th>\n",
       "      <th>unique_id</th>\n",
       "    </tr>\n",
       "  </thead>\n",
       "  <tbody>\n",
       "    <tr>\n",
       "      <th>0</th>\n",
       "      <td>2017-09-13T00:00:00</td>\n",
       "      <td>80115</td>\n",
       "      <td>1</td>\n",
       "    </tr>\n",
       "    <tr>\n",
       "      <th>1</th>\n",
       "      <td>2017-09-13T01:00:00</td>\n",
       "      <td>79885</td>\n",
       "      <td>1</td>\n",
       "    </tr>\n",
       "    <tr>\n",
       "      <th>2</th>\n",
       "      <td>2017-09-13T02:00:00</td>\n",
       "      <td>89325</td>\n",
       "      <td>1</td>\n",
       "    </tr>\n",
       "    <tr>\n",
       "      <th>3</th>\n",
       "      <td>2017-09-13T03:00:00</td>\n",
       "      <td>101930</td>\n",
       "      <td>1</td>\n",
       "    </tr>\n",
       "    <tr>\n",
       "      <th>4</th>\n",
       "      <td>2017-09-13T04:00:00</td>\n",
       "      <td>121630</td>\n",
       "      <td>1</td>\n",
       "    </tr>\n",
       "  </tbody>\n",
       "</table>\n",
       "</div>"
      ],
      "text/plain": [
       "                    ds       y unique_id\n",
       "0  2017-09-13T00:00:00   80115         1\n",
       "1  2017-09-13T01:00:00   79885         1\n",
       "2  2017-09-13T02:00:00   89325         1\n",
       "3  2017-09-13T03:00:00  101930         1\n",
       "4  2017-09-13T04:00:00  121630         1"
      ]
     },
     "execution_count": 4,
     "metadata": {},
     "output_type": "execute_result"
    }
   ],
   "source": [
    "df[\"unique_id\"]=\"1\"\n",
    "df.columns=[\"ds\", \"y\", \"unique_id\"]\n",
    "df.head()"
   ]
  },
  {
   "cell_type": "code",
   "execution_count": 5,
   "metadata": {},
   "outputs": [
    {
     "data": {
      "text/html": [
       "<div>\n",
       "<style scoped>\n",
       "    .dataframe tbody tr th:only-of-type {\n",
       "        vertical-align: middle;\n",
       "    }\n",
       "\n",
       "    .dataframe tbody tr th {\n",
       "        vertical-align: top;\n",
       "    }\n",
       "\n",
       "    .dataframe thead th {\n",
       "        text-align: right;\n",
       "    }\n",
       "</style>\n",
       "<table border=\"1\" class=\"dataframe\">\n",
       "  <thead>\n",
       "    <tr style=\"text-align: right;\">\n",
       "      <th></th>\n",
       "      <th>ds</th>\n",
       "      <th>y</th>\n",
       "      <th>unique_id</th>\n",
       "    </tr>\n",
       "  </thead>\n",
       "  <tbody>\n",
       "    <tr>\n",
       "      <th>211</th>\n",
       "      <td>2017-09-21T19:00:00</td>\n",
       "      <td>155890</td>\n",
       "      <td>1</td>\n",
       "    </tr>\n",
       "    <tr>\n",
       "      <th>212</th>\n",
       "      <td>2017-09-21T20:00:00</td>\n",
       "      <td>123395</td>\n",
       "      <td>1</td>\n",
       "    </tr>\n",
       "    <tr>\n",
       "      <th>213</th>\n",
       "      <td>2017-09-21T21:00:00</td>\n",
       "      <td>103080</td>\n",
       "      <td>1</td>\n",
       "    </tr>\n",
       "    <tr>\n",
       "      <th>214</th>\n",
       "      <td>2017-09-21T22:00:00</td>\n",
       "      <td>95155</td>\n",
       "      <td>1</td>\n",
       "    </tr>\n",
       "    <tr>\n",
       "      <th>215</th>\n",
       "      <td>2017-09-21T23:00:00</td>\n",
       "      <td>80285</td>\n",
       "      <td>1</td>\n",
       "    </tr>\n",
       "  </tbody>\n",
       "</table>\n",
       "</div>"
      ],
      "text/plain": [
       "                      ds       y unique_id\n",
       "211  2017-09-21T19:00:00  155890         1\n",
       "212  2017-09-21T20:00:00  123395         1\n",
       "213  2017-09-21T21:00:00  103080         1\n",
       "214  2017-09-21T22:00:00   95155         1\n",
       "215  2017-09-21T23:00:00   80285         1"
      ]
     },
     "execution_count": 5,
     "metadata": {},
     "output_type": "execute_result"
    }
   ],
   "source": [
    "df.tail()"
   ]
  },
  {
   "cell_type": "code",
   "execution_count": 6,
   "metadata": {},
   "outputs": [
    {
     "name": "stdout",
     "output_type": "stream",
     "text": [
      "<class 'pandas.core.frame.DataFrame'>\n",
      "RangeIndex: 216 entries, 0 to 215\n",
      "Data columns (total 3 columns):\n",
      " #   Column     Non-Null Count  Dtype \n",
      "---  ------     --------------  ----- \n",
      " 0   ds         216 non-null    object\n",
      " 1   y          216 non-null    int64 \n",
      " 2   unique_id  216 non-null    object\n",
      "dtypes: int64(1), object(2)\n",
      "memory usage: 5.2+ KB\n"
     ]
    }
   ],
   "source": [
    "df.info()"
   ]
  },
  {
   "attachments": {},
   "cell_type": "markdown",
   "metadata": {},
   "source": [
    "We can see that our time variable `(ds)` is in an object format, we need to convert to a date format"
   ]
  },
  {
   "cell_type": "code",
   "execution_count": 7,
   "metadata": {},
   "outputs": [],
   "source": [
    "# Convert to a datetime format\n",
    "from datetime import datetime\n",
    "df[\"ds\"] = pd.to_datetime(df[\"ds\"])"
   ]
  },
  {
   "attachments": {},
   "cell_type": "markdown",
   "metadata": {},
   "source": [
    "# **5. Explore Data with the plot method** <a class=\"anchor\" id=\"5\"></a>\n",
    "\n",
    "[Table of Contents](#0.1)\n",
    "\n",
    "Plot some series using the plot method from the StatsForecast class. This method prints 8 random series from the dataset and is useful for basic EDA."
   ]
  },
  {
   "cell_type": "code",
   "execution_count": 8,
   "metadata": {},
   "outputs": [
    {
     "data": {
      "application/vnd.plotly.v1+json": {
       "config": {
        "plotlyServerURL": "https://plot.ly"
       },
       "data": [
        {
         "legendgroup": "y",
         "line": {
          "color": "#1f77b4",
          "width": 1
         },
         "mode": "lines",
         "name": "y",
         "showlegend": true,
         "type": "scatter",
         "x": [
          "2017-09-13T00:00:00",
          "2017-09-13T01:00:00",
          "2017-09-13T02:00:00",
          "2017-09-13T03:00:00",
          "2017-09-13T04:00:00",
          "2017-09-13T05:00:00",
          "2017-09-13T06:00:00",
          "2017-09-13T07:00:00",
          "2017-09-13T08:00:00",
          "2017-09-13T09:00:00",
          "2017-09-13T10:00:00",
          "2017-09-13T11:00:00",
          "2017-09-13T12:00:00",
          "2017-09-13T13:00:00",
          "2017-09-13T14:00:00",
          "2017-09-13T15:00:00",
          "2017-09-13T16:00:00",
          "2017-09-13T17:00:00",
          "2017-09-13T18:00:00",
          "2017-09-13T19:00:00",
          "2017-09-13T20:00:00",
          "2017-09-13T21:00:00",
          "2017-09-13T22:00:00",
          "2017-09-13T23:00:00",
          "2017-09-14T00:00:00",
          "2017-09-14T01:00:00",
          "2017-09-14T02:00:00",
          "2017-09-14T03:00:00",
          "2017-09-14T04:00:00",
          "2017-09-14T05:00:00",
          "2017-09-14T06:00:00",
          "2017-09-14T07:00:00",
          "2017-09-14T08:00:00",
          "2017-09-14T09:00:00",
          "2017-09-14T10:00:00",
          "2017-09-14T11:00:00",
          "2017-09-14T12:00:00",
          "2017-09-14T13:00:00",
          "2017-09-14T14:00:00",
          "2017-09-14T15:00:00",
          "2017-09-14T16:00:00",
          "2017-09-14T17:00:00",
          "2017-09-14T18:00:00",
          "2017-09-14T19:00:00",
          "2017-09-14T20:00:00",
          "2017-09-14T21:00:00",
          "2017-09-14T22:00:00",
          "2017-09-14T23:00:00",
          "2017-09-15T00:00:00",
          "2017-09-15T01:00:00",
          "2017-09-15T02:00:00",
          "2017-09-15T03:00:00",
          "2017-09-15T04:00:00",
          "2017-09-15T05:00:00",
          "2017-09-15T06:00:00",
          "2017-09-15T07:00:00",
          "2017-09-15T08:00:00",
          "2017-09-15T09:00:00",
          "2017-09-15T10:00:00",
          "2017-09-15T11:00:00",
          "2017-09-15T12:00:00",
          "2017-09-15T13:00:00",
          "2017-09-15T14:00:00",
          "2017-09-15T15:00:00",
          "2017-09-15T16:00:00",
          "2017-09-15T17:00:00",
          "2017-09-15T18:00:00",
          "2017-09-15T19:00:00",
          "2017-09-15T20:00:00",
          "2017-09-15T21:00:00",
          "2017-09-15T22:00:00",
          "2017-09-15T23:00:00",
          "2017-09-16T00:00:00",
          "2017-09-16T01:00:00",
          "2017-09-16T02:00:00",
          "2017-09-16T03:00:00",
          "2017-09-16T04:00:00",
          "2017-09-16T05:00:00",
          "2017-09-16T06:00:00",
          "2017-09-16T07:00:00",
          "2017-09-16T08:00:00",
          "2017-09-16T09:00:00",
          "2017-09-16T10:00:00",
          "2017-09-16T11:00:00",
          "2017-09-16T12:00:00",
          "2017-09-16T13:00:00",
          "2017-09-16T14:00:00",
          "2017-09-16T15:00:00",
          "2017-09-16T16:00:00",
          "2017-09-16T17:00:00",
          "2017-09-16T18:00:00",
          "2017-09-16T19:00:00",
          "2017-09-16T20:00:00",
          "2017-09-16T21:00:00",
          "2017-09-16T22:00:00",
          "2017-09-16T23:00:00",
          "2017-09-17T00:00:00",
          "2017-09-17T01:00:00",
          "2017-09-17T02:00:00",
          "2017-09-17T03:00:00",
          "2017-09-17T04:00:00",
          "2017-09-17T05:00:00",
          "2017-09-17T06:00:00",
          "2017-09-17T07:00:00",
          "2017-09-17T08:00:00",
          "2017-09-17T09:00:00",
          "2017-09-17T10:00:00",
          "2017-09-17T11:00:00",
          "2017-09-17T12:00:00",
          "2017-09-17T13:00:00",
          "2017-09-17T14:00:00",
          "2017-09-17T15:00:00",
          "2017-09-17T16:00:00",
          "2017-09-17T17:00:00",
          "2017-09-17T18:00:00",
          "2017-09-17T19:00:00",
          "2017-09-17T20:00:00",
          "2017-09-17T21:00:00",
          "2017-09-17T22:00:00",
          "2017-09-17T23:00:00",
          "2017-09-18T00:00:00",
          "2017-09-18T01:00:00",
          "2017-09-18T02:00:00",
          "2017-09-18T03:00:00",
          "2017-09-18T04:00:00",
          "2017-09-18T05:00:00",
          "2017-09-18T06:00:00",
          "2017-09-18T07:00:00",
          "2017-09-18T08:00:00",
          "2017-09-18T09:00:00",
          "2017-09-18T10:00:00",
          "2017-09-18T11:00:00",
          "2017-09-18T12:00:00",
          "2017-09-18T13:00:00",
          "2017-09-18T14:00:00",
          "2017-09-18T15:00:00",
          "2017-09-18T16:00:00",
          "2017-09-18T17:00:00",
          "2017-09-18T18:00:00",
          "2017-09-18T19:00:00",
          "2017-09-18T20:00:00",
          "2017-09-18T21:00:00",
          "2017-09-18T22:00:00",
          "2017-09-18T23:00:00",
          "2017-09-19T00:00:00",
          "2017-09-19T01:00:00",
          "2017-09-19T02:00:00",
          "2017-09-19T03:00:00",
          "2017-09-19T04:00:00",
          "2017-09-19T05:00:00",
          "2017-09-19T06:00:00",
          "2017-09-19T07:00:00",
          "2017-09-19T08:00:00",
          "2017-09-19T09:00:00",
          "2017-09-19T10:00:00",
          "2017-09-19T11:00:00",
          "2017-09-19T12:00:00",
          "2017-09-19T13:00:00",
          "2017-09-19T14:00:00",
          "2017-09-19T15:00:00",
          "2017-09-19T16:00:00",
          "2017-09-19T17:00:00",
          "2017-09-19T18:00:00",
          "2017-09-19T19:00:00",
          "2017-09-19T20:00:00",
          "2017-09-19T21:00:00",
          "2017-09-19T22:00:00",
          "2017-09-19T23:00:00",
          "2017-09-20T00:00:00",
          "2017-09-20T01:00:00",
          "2017-09-20T02:00:00",
          "2017-09-20T03:00:00",
          "2017-09-20T04:00:00",
          "2017-09-20T05:00:00",
          "2017-09-20T06:00:00",
          "2017-09-20T07:00:00",
          "2017-09-20T08:00:00",
          "2017-09-20T09:00:00",
          "2017-09-20T10:00:00",
          "2017-09-20T11:00:00",
          "2017-09-20T12:00:00",
          "2017-09-20T13:00:00",
          "2017-09-20T14:00:00",
          "2017-09-20T15:00:00",
          "2017-09-20T16:00:00",
          "2017-09-20T17:00:00",
          "2017-09-20T18:00:00",
          "2017-09-20T19:00:00",
          "2017-09-20T20:00:00",
          "2017-09-20T21:00:00",
          "2017-09-20T22:00:00",
          "2017-09-20T23:00:00",
          "2017-09-21T00:00:00",
          "2017-09-21T01:00:00",
          "2017-09-21T02:00:00",
          "2017-09-21T03:00:00",
          "2017-09-21T04:00:00",
          "2017-09-21T05:00:00",
          "2017-09-21T06:00:00",
          "2017-09-21T07:00:00",
          "2017-09-21T08:00:00",
          "2017-09-21T09:00:00",
          "2017-09-21T10:00:00",
          "2017-09-21T11:00:00",
          "2017-09-21T12:00:00",
          "2017-09-21T13:00:00",
          "2017-09-21T14:00:00",
          "2017-09-21T15:00:00",
          "2017-09-21T16:00:00",
          "2017-09-21T17:00:00",
          "2017-09-21T18:00:00",
          "2017-09-21T19:00:00",
          "2017-09-21T20:00:00",
          "2017-09-21T21:00:00",
          "2017-09-21T22:00:00",
          "2017-09-21T23:00:00"
         ],
         "xaxis": "x",
         "y": [
          80115,
          79885,
          89325,
          101930,
          121630,
          116475,
          106495,
          102795,
          108055,
          116125,
          131030,
          149020,
          157590,
          150715,
          149295,
          150100,
          144780,
          150690,
          163840,
          166235,
          139520,
          105895,
          96780,
          82520,
          80125,
          75335,
          85105,
          102080,
          125135,
          118030,
          109225,
          102475,
          102240,
          115840,
          130540,
          144325,
          148970,
          149150,
          148040,
          148810,
          149830,
          150570,
          149440,
          150520,
          129130,
          103815,
          92175,
          82765,
          76315,
          75130,
          82640,
          88795,
          118430,
          115190,
          110940,
          98860,
          104185,
          108665,
          126640,
          140435,
          152470,
          146275,
          148020,
          147735,
          145750,
          149285,
          159725,
          161085,
          135520,
          112945,
          100200,
          87615,
          87835,
          88845,
          92350,
          104465,
          115940,
          128950,
          141385,
          144440,
          143250,
          133190,
          131240,
          142480,
          157375,
          152500,
          153735,
          151195,
          150645,
          147435,
          152525,
          146875,
          125245,
          117925,
          96700,
          93610,
          89060,
          89345,
          90575,
          98290,
          112570,
          129470,
          141405,
          152560,
          152580,
          141170,
          147550,
          161110,
          166335,
          166780,
          163140,
          157305,
          159055,
          160020,
          168345,
          169900,
          142710,
          112955,
          97345,
          81675,
          79510,
          78350,
          88045,
          99790,
          123780,
          111325,
          99440,
          97655,
          97655,
          102565,
          119930,
          135755,
          140120,
          141730,
          142220,
          145360,
          145335,
          150410,
          161520,
          153415,
          134720,
          107065,
          95045,
          79515,
          78335,
          74670,
          81990,
          97950,
          119345,
          113115,
          98880,
          94000,
          93660,
          104185,
          119750,
          135990,
          146455,
          139165,
          147225,
          144935,
          151370,
          156080,
          161385,
          165010,
          134090,
          105585,
          92855,
          79270,
          79980,
          78110,
          85785,
          100010,
          123880,
          116335,
          104290,
          101440,
          97635,
          108265,
          121250,
          140850,
          138555,
          140990,
          141525,
          141590,
          140610,
          139515,
          146215,
          142425,
          123945,
          101360,
          88170,
          76050,
          70335,
          72150,
          80195,
          94945,
          121910,
          113950,
          106495,
          97290,
          98860,
          105635,
          114380,
          132335,
          146630,
          141995,
          142815,
          146020,
          152120,
          151790,
          155665,
          155890,
          123395,
          103080,
          95155,
          80285
         ],
         "yaxis": "y"
        }
       ],
       "layout": {
        "annotations": [
         {
          "font": {
           "size": 10
          },
          "showarrow": false,
          "text": "1",
          "x": 0.5,
          "xanchor": "center",
          "xref": "paper",
          "y": 1,
          "yanchor": "bottom",
          "yref": "paper"
         },
         {
          "font": {
           "size": 10
          },
          "showarrow": false,
          "text": "Datestamp [ds]",
          "x": 0.5,
          "xanchor": "center",
          "xref": "paper",
          "y": 0,
          "yanchor": "top",
          "yref": "paper",
          "yshift": -30
         },
         {
          "font": {
           "size": 10
          },
          "showarrow": false,
          "text": "Target [y]",
          "textangle": -90,
          "x": 0,
          "xanchor": "right",
          "xref": "paper",
          "xshift": -40,
          "y": 0.5,
          "yanchor": "middle",
          "yref": "paper"
         }
        ],
        "autosize": true,
        "font": {
         "size": 10
        },
        "height": 150,
        "margin": {
         "b": 50,
         "l": 60,
         "r": 10,
         "t": 20
        },
        "template": {
         "data": {
          "bar": [
           {
            "error_x": {
             "color": "#2a3f5f"
            },
            "error_y": {
             "color": "#2a3f5f"
            },
            "marker": {
             "line": {
              "color": "white",
              "width": 0.5
             },
             "pattern": {
              "fillmode": "overlay",
              "size": 10,
              "solidity": 0.2
             }
            },
            "type": "bar"
           }
          ],
          "barpolar": [
           {
            "marker": {
             "line": {
              "color": "white",
              "width": 0.5
             },
             "pattern": {
              "fillmode": "overlay",
              "size": 10,
              "solidity": 0.2
             }
            },
            "type": "barpolar"
           }
          ],
          "carpet": [
           {
            "aaxis": {
             "endlinecolor": "#2a3f5f",
             "gridcolor": "#C8D4E3",
             "linecolor": "#C8D4E3",
             "minorgridcolor": "#C8D4E3",
             "startlinecolor": "#2a3f5f"
            },
            "baxis": {
             "endlinecolor": "#2a3f5f",
             "gridcolor": "#C8D4E3",
             "linecolor": "#C8D4E3",
             "minorgridcolor": "#C8D4E3",
             "startlinecolor": "#2a3f5f"
            },
            "type": "carpet"
           }
          ],
          "choropleth": [
           {
            "colorbar": {
             "outlinewidth": 0,
             "ticks": ""
            },
            "type": "choropleth"
           }
          ],
          "contour": [
           {
            "colorbar": {
             "outlinewidth": 0,
             "ticks": ""
            },
            "colorscale": [
             [
              0,
              "#0d0887"
             ],
             [
              0.1111111111111111,
              "#46039f"
             ],
             [
              0.2222222222222222,
              "#7201a8"
             ],
             [
              0.3333333333333333,
              "#9c179e"
             ],
             [
              0.4444444444444444,
              "#bd3786"
             ],
             [
              0.5555555555555556,
              "#d8576b"
             ],
             [
              0.6666666666666666,
              "#ed7953"
             ],
             [
              0.7777777777777778,
              "#fb9f3a"
             ],
             [
              0.8888888888888888,
              "#fdca26"
             ],
             [
              1,
              "#f0f921"
             ]
            ],
            "type": "contour"
           }
          ],
          "contourcarpet": [
           {
            "colorbar": {
             "outlinewidth": 0,
             "ticks": ""
            },
            "type": "contourcarpet"
           }
          ],
          "heatmap": [
           {
            "colorbar": {
             "outlinewidth": 0,
             "ticks": ""
            },
            "colorscale": [
             [
              0,
              "#0d0887"
             ],
             [
              0.1111111111111111,
              "#46039f"
             ],
             [
              0.2222222222222222,
              "#7201a8"
             ],
             [
              0.3333333333333333,
              "#9c179e"
             ],
             [
              0.4444444444444444,
              "#bd3786"
             ],
             [
              0.5555555555555556,
              "#d8576b"
             ],
             [
              0.6666666666666666,
              "#ed7953"
             ],
             [
              0.7777777777777778,
              "#fb9f3a"
             ],
             [
              0.8888888888888888,
              "#fdca26"
             ],
             [
              1,
              "#f0f921"
             ]
            ],
            "type": "heatmap"
           }
          ],
          "heatmapgl": [
           {
            "colorbar": {
             "outlinewidth": 0,
             "ticks": ""
            },
            "colorscale": [
             [
              0,
              "#0d0887"
             ],
             [
              0.1111111111111111,
              "#46039f"
             ],
             [
              0.2222222222222222,
              "#7201a8"
             ],
             [
              0.3333333333333333,
              "#9c179e"
             ],
             [
              0.4444444444444444,
              "#bd3786"
             ],
             [
              0.5555555555555556,
              "#d8576b"
             ],
             [
              0.6666666666666666,
              "#ed7953"
             ],
             [
              0.7777777777777778,
              "#fb9f3a"
             ],
             [
              0.8888888888888888,
              "#fdca26"
             ],
             [
              1,
              "#f0f921"
             ]
            ],
            "type": "heatmapgl"
           }
          ],
          "histogram": [
           {
            "marker": {
             "pattern": {
              "fillmode": "overlay",
              "size": 10,
              "solidity": 0.2
             }
            },
            "type": "histogram"
           }
          ],
          "histogram2d": [
           {
            "colorbar": {
             "outlinewidth": 0,
             "ticks": ""
            },
            "colorscale": [
             [
              0,
              "#0d0887"
             ],
             [
              0.1111111111111111,
              "#46039f"
             ],
             [
              0.2222222222222222,
              "#7201a8"
             ],
             [
              0.3333333333333333,
              "#9c179e"
             ],
             [
              0.4444444444444444,
              "#bd3786"
             ],
             [
              0.5555555555555556,
              "#d8576b"
             ],
             [
              0.6666666666666666,
              "#ed7953"
             ],
             [
              0.7777777777777778,
              "#fb9f3a"
             ],
             [
              0.8888888888888888,
              "#fdca26"
             ],
             [
              1,
              "#f0f921"
             ]
            ],
            "type": "histogram2d"
           }
          ],
          "histogram2dcontour": [
           {
            "colorbar": {
             "outlinewidth": 0,
             "ticks": ""
            },
            "colorscale": [
             [
              0,
              "#0d0887"
             ],
             [
              0.1111111111111111,
              "#46039f"
             ],
             [
              0.2222222222222222,
              "#7201a8"
             ],
             [
              0.3333333333333333,
              "#9c179e"
             ],
             [
              0.4444444444444444,
              "#bd3786"
             ],
             [
              0.5555555555555556,
              "#d8576b"
             ],
             [
              0.6666666666666666,
              "#ed7953"
             ],
             [
              0.7777777777777778,
              "#fb9f3a"
             ],
             [
              0.8888888888888888,
              "#fdca26"
             ],
             [
              1,
              "#f0f921"
             ]
            ],
            "type": "histogram2dcontour"
           }
          ],
          "mesh3d": [
           {
            "colorbar": {
             "outlinewidth": 0,
             "ticks": ""
            },
            "type": "mesh3d"
           }
          ],
          "parcoords": [
           {
            "line": {
             "colorbar": {
              "outlinewidth": 0,
              "ticks": ""
             }
            },
            "type": "parcoords"
           }
          ],
          "pie": [
           {
            "automargin": true,
            "type": "pie"
           }
          ],
          "scatter": [
           {
            "fillpattern": {
             "fillmode": "overlay",
             "size": 10,
             "solidity": 0.2
            },
            "type": "scatter"
           }
          ],
          "scatter3d": [
           {
            "line": {
             "colorbar": {
              "outlinewidth": 0,
              "ticks": ""
             }
            },
            "marker": {
             "colorbar": {
              "outlinewidth": 0,
              "ticks": ""
             }
            },
            "type": "scatter3d"
           }
          ],
          "scattercarpet": [
           {
            "marker": {
             "colorbar": {
              "outlinewidth": 0,
              "ticks": ""
             }
            },
            "type": "scattercarpet"
           }
          ],
          "scattergeo": [
           {
            "marker": {
             "colorbar": {
              "outlinewidth": 0,
              "ticks": ""
             }
            },
            "type": "scattergeo"
           }
          ],
          "scattergl": [
           {
            "marker": {
             "colorbar": {
              "outlinewidth": 0,
              "ticks": ""
             }
            },
            "type": "scattergl"
           }
          ],
          "scattermapbox": [
           {
            "marker": {
             "colorbar": {
              "outlinewidth": 0,
              "ticks": ""
             }
            },
            "type": "scattermapbox"
           }
          ],
          "scatterpolar": [
           {
            "marker": {
             "colorbar": {
              "outlinewidth": 0,
              "ticks": ""
             }
            },
            "type": "scatterpolar"
           }
          ],
          "scatterpolargl": [
           {
            "marker": {
             "colorbar": {
              "outlinewidth": 0,
              "ticks": ""
             }
            },
            "type": "scatterpolargl"
           }
          ],
          "scatterternary": [
           {
            "marker": {
             "colorbar": {
              "outlinewidth": 0,
              "ticks": ""
             }
            },
            "type": "scatterternary"
           }
          ],
          "surface": [
           {
            "colorbar": {
             "outlinewidth": 0,
             "ticks": ""
            },
            "colorscale": [
             [
              0,
              "#0d0887"
             ],
             [
              0.1111111111111111,
              "#46039f"
             ],
             [
              0.2222222222222222,
              "#7201a8"
             ],
             [
              0.3333333333333333,
              "#9c179e"
             ],
             [
              0.4444444444444444,
              "#bd3786"
             ],
             [
              0.5555555555555556,
              "#d8576b"
             ],
             [
              0.6666666666666666,
              "#ed7953"
             ],
             [
              0.7777777777777778,
              "#fb9f3a"
             ],
             [
              0.8888888888888888,
              "#fdca26"
             ],
             [
              1,
              "#f0f921"
             ]
            ],
            "type": "surface"
           }
          ],
          "table": [
           {
            "cells": {
             "fill": {
              "color": "#EBF0F8"
             },
             "line": {
              "color": "white"
             }
            },
            "header": {
             "fill": {
              "color": "#C8D4E3"
             },
             "line": {
              "color": "white"
             }
            },
            "type": "table"
           }
          ]
         },
         "layout": {
          "annotationdefaults": {
           "arrowcolor": "#2a3f5f",
           "arrowhead": 0,
           "arrowwidth": 1
          },
          "autotypenumbers": "strict",
          "coloraxis": {
           "colorbar": {
            "outlinewidth": 0,
            "ticks": ""
           }
          },
          "colorscale": {
           "diverging": [
            [
             0,
             "#8e0152"
            ],
            [
             0.1,
             "#c51b7d"
            ],
            [
             0.2,
             "#de77ae"
            ],
            [
             0.3,
             "#f1b6da"
            ],
            [
             0.4,
             "#fde0ef"
            ],
            [
             0.5,
             "#f7f7f7"
            ],
            [
             0.6,
             "#e6f5d0"
            ],
            [
             0.7,
             "#b8e186"
            ],
            [
             0.8,
             "#7fbc41"
            ],
            [
             0.9,
             "#4d9221"
            ],
            [
             1,
             "#276419"
            ]
           ],
           "sequential": [
            [
             0,
             "#0d0887"
            ],
            [
             0.1111111111111111,
             "#46039f"
            ],
            [
             0.2222222222222222,
             "#7201a8"
            ],
            [
             0.3333333333333333,
             "#9c179e"
            ],
            [
             0.4444444444444444,
             "#bd3786"
            ],
            [
             0.5555555555555556,
             "#d8576b"
            ],
            [
             0.6666666666666666,
             "#ed7953"
            ],
            [
             0.7777777777777778,
             "#fb9f3a"
            ],
            [
             0.8888888888888888,
             "#fdca26"
            ],
            [
             1,
             "#f0f921"
            ]
           ],
           "sequentialminus": [
            [
             0,
             "#0d0887"
            ],
            [
             0.1111111111111111,
             "#46039f"
            ],
            [
             0.2222222222222222,
             "#7201a8"
            ],
            [
             0.3333333333333333,
             "#9c179e"
            ],
            [
             0.4444444444444444,
             "#bd3786"
            ],
            [
             0.5555555555555556,
             "#d8576b"
            ],
            [
             0.6666666666666666,
             "#ed7953"
            ],
            [
             0.7777777777777778,
             "#fb9f3a"
            ],
            [
             0.8888888888888888,
             "#fdca26"
            ],
            [
             1,
             "#f0f921"
            ]
           ]
          },
          "colorway": [
           "#636efa",
           "#EF553B",
           "#00cc96",
           "#ab63fa",
           "#FFA15A",
           "#19d3f3",
           "#FF6692",
           "#B6E880",
           "#FF97FF",
           "#FECB52"
          ],
          "font": {
           "color": "#2a3f5f"
          },
          "geo": {
           "bgcolor": "white",
           "lakecolor": "white",
           "landcolor": "white",
           "showlakes": true,
           "showland": true,
           "subunitcolor": "#C8D4E3"
          },
          "hoverlabel": {
           "align": "left"
          },
          "hovermode": "closest",
          "mapbox": {
           "style": "light"
          },
          "paper_bgcolor": "white",
          "plot_bgcolor": "white",
          "polar": {
           "angularaxis": {
            "gridcolor": "#EBF0F8",
            "linecolor": "#EBF0F8",
            "ticks": ""
           },
           "bgcolor": "white",
           "radialaxis": {
            "gridcolor": "#EBF0F8",
            "linecolor": "#EBF0F8",
            "ticks": ""
           }
          },
          "scene": {
           "xaxis": {
            "backgroundcolor": "white",
            "gridcolor": "#DFE8F3",
            "gridwidth": 2,
            "linecolor": "#EBF0F8",
            "showbackground": true,
            "ticks": "",
            "zerolinecolor": "#EBF0F8"
           },
           "yaxis": {
            "backgroundcolor": "white",
            "gridcolor": "#DFE8F3",
            "gridwidth": 2,
            "linecolor": "#EBF0F8",
            "showbackground": true,
            "ticks": "",
            "zerolinecolor": "#EBF0F8"
           },
           "zaxis": {
            "backgroundcolor": "white",
            "gridcolor": "#DFE8F3",
            "gridwidth": 2,
            "linecolor": "#EBF0F8",
            "showbackground": true,
            "ticks": "",
            "zerolinecolor": "#EBF0F8"
           }
          },
          "shapedefaults": {
           "line": {
            "color": "#2a3f5f"
           }
          },
          "ternary": {
           "aaxis": {
            "gridcolor": "#DFE8F3",
            "linecolor": "#A2B1C6",
            "ticks": ""
           },
           "baxis": {
            "gridcolor": "#DFE8F3",
            "linecolor": "#A2B1C6",
            "ticks": ""
           },
           "bgcolor": "white",
           "caxis": {
            "gridcolor": "#DFE8F3",
            "linecolor": "#A2B1C6",
            "ticks": ""
           }
          },
          "title": {
           "x": 0.05
          },
          "xaxis": {
           "automargin": true,
           "gridcolor": "#EBF0F8",
           "linecolor": "#EBF0F8",
           "ticks": "",
           "title": {
            "standoff": 15
           },
           "zerolinecolor": "#EBF0F8",
           "zerolinewidth": 2
          },
          "yaxis": {
           "automargin": true,
           "gridcolor": "#EBF0F8",
           "linecolor": "#EBF0F8",
           "ticks": "",
           "title": {
            "standoff": 15
           },
           "zerolinecolor": "#EBF0F8",
           "zerolinewidth": 2
          }
         }
        },
        "xaxis": {
         "anchor": "y",
         "domain": [
          0,
          1
         ],
         "showticklabels": true,
         "visible": true
        },
        "yaxis": {
         "anchor": "x",
         "domain": [
          0,
          1
         ]
        }
       }
      }
     },
     "metadata": {},
     "output_type": "display_data"
    }
   ],
   "source": [
    "from statsforecast import StatsForecast\n",
    "\n",
    "StatsForecast.plot(df)"
   ]
  },
  {
   "attachments": {},
   "cell_type": "markdown",
   "metadata": {},
   "source": [
    "## **5.1 Autocorrelation plots**"
   ]
  },
  {
   "cell_type": "code",
   "execution_count": 9,
   "metadata": {},
   "outputs": [
    {
     "data": {
      "image/png": "[encoded data removed]",
      "text/plain": [
       "<Figure size 1800x700 with 2 Axes>"
      ]
     },
     "metadata": {},
     "output_type": "display_data"
    }
   ],
   "source": [
    "fig, axs = plt.subplots(nrows=1, ncols=2)\n",
    "\n",
    "plot_acf(df[\"y\"],  lags=30, ax=axs[0],color=\"fuchsia\")\n",
    "axs[0].set_title(\"Autocorrelation\");\n",
    "\n",
    "# Grafico\n",
    "plot_pacf(df[\"y\"],  lags=30, ax=axs[1],color=\"lime\")\n",
    "axs[1].set_title('Partial Autocorrelation')\n",
    "\n",
    "#plt.savefig(\"Gráfico de Densidad y qq\")\n",
    "plt.show();"
   ]
  },
  {
   "attachments": {},
   "cell_type": "markdown",
   "metadata": {},
   "source": [
    "# **6. Split the data into training and testing** <a class=\"anchor\" id=\"6\"></a>\n",
    "\n",
    "[Table of Contents](#0.1)\n",
    "\n",
    "Let's divide our data into sets\n",
    "1. Data to train our `Simple Exponential Smoothing Optimized Model`\n",
    "2. Data to test our model\n",
    "\n",
    "For the test data we will use the last 30 Hours to test and evaluate the performance of our model."
   ]
  },
  {
   "cell_type": "code",
   "execution_count": 10,
   "metadata": {},
   "outputs": [],
   "source": [
    "train = df[df.ds<='2017-09-20 17:00:00'] \n",
    "test = df[df.ds>'2017-09-20 17:00:00'] "
   ]
  },
  {
   "cell_type": "code",
   "execution_count": 11,
   "metadata": {},
   "outputs": [
    {
     "data": {
      "text/plain": [
       "((186, 3), (30, 3))"
      ]
     },
     "execution_count": 11,
     "metadata": {},
     "output_type": "execute_result"
    }
   ],
   "source": [
    "train.shape, test.shape"
   ]
  },
  {
   "attachments": {},
   "cell_type": "markdown",
   "metadata": {},
   "source": [
    "Now let's plot the training data and the test data."
   ]
  },
  {
   "cell_type": "code",
   "execution_count": 12,
   "metadata": {},
   "outputs": [
    {
     "data": {
      "image/png": "[encoded data removed]",
      "text/plain": [
       "<Figure size 1800x700 with 1 Axes>"
      ]
     },
     "metadata": {},
     "output_type": "display_data"
    }
   ],
   "source": [
    "sns.lineplot(train,x=\"ds\", y=\"y\", label=\"Train\", linestyle=\"--\")\n",
    "sns.lineplot(test, x=\"ds\", y=\"y\", label=\"Test\")\n",
    "plt.title(\"Ads watched (hourly data)\");\n",
    "plt.show()"
   ]
  },
  {
   "attachments": {},
   "cell_type": "markdown",
   "metadata": {},
   "source": [
    "# **7. Implementation of Standard Theta with StatsForecast** <a class=\"anchor\" id=\"7\"></a>\n",
    "\n",
    "[Table of Contents](#0.1)\n",
    "\n",
    "To also know more about the parameters of the functions of the `Simple Exponential Smoothing Optimized Model` you can see it [here](https://nixtla.github.io/statsforecast/src/core/models.html#simplesmoothoptimized)."
   ]
  },
  {
   "attachments": {},
   "cell_type": "markdown",
   "metadata": {},
   "source": [
    "## **7.1 Load libraries**"
   ]
  },
  {
   "cell_type": "code",
   "execution_count": 13,
   "metadata": {},
   "outputs": [],
   "source": [
    "from statsforecast import StatsForecast\n",
    "from statsforecast.models import SimpleExponentialSmoothingOptimized"
   ]
  },
  {
   "cell_type": "code",
   "execution_count": 14,
   "metadata": {},
   "outputs": [
    {
     "name": "stdout",
     "output_type": "stream",
     "text": [
      "\u001b[0;31mInit signature:\u001b[0m \u001b[0mSimpleExponentialSmoothingOptimized\u001b[0m\u001b[0;34m(\u001b[0m\u001b[0malias\u001b[0m\u001b[0;34m:\u001b[0m \u001b[0mstr\u001b[0m \u001b[0;34m=\u001b[0m \u001b[0;34m'SESOpt'\u001b[0m\u001b[0;34m)\u001b[0m\u001b[0;34m\u001b[0m\u001b[0;34m\u001b[0m\u001b[0m\n",
      "\u001b[0;31mDocstring:\u001b[0m     \n",
      "SimpleExponentialSmoothing model.\n",
      "\n",
      "Uses a weighted average of all past observations where the weights decrease exponentially into the past.\n",
      "Suitable for data with no clear trend or seasonality.\n",
      "Assuming there are $t$ observations, the one-step forecast is given by: $\\hat{y}_{t+1} = \\alpha y_t + (1-\\alpha) \\hat{y}_{t-1}$\n",
      "\n",
      "The smoothing parameter $\\alpha^*$ is optimized by square error minimization.\n",
      "\n",
      "**References:**<br>\n",
      "[Charles C Holt (1957). “Forecasting seasonals and trends by exponentially weighted moving averages”](https://doi.org/10.1016/j.ijforecast).\n",
      "\n",
      "Parameters\n",
      "----------\n",
      "alias: str\n",
      "    Custom name of the model.\n",
      "\u001b[0;31mFile:\u001b[0m           ~/miniconda3/envs/statsforecast/lib/python3.10/site-packages/statsforecast/models.py\n",
      "\u001b[0;31mType:\u001b[0m           type\n",
      "\u001b[0;31mSubclasses:\u001b[0m     "
     ]
    }
   ],
   "source": [
    "?SimpleExponentialSmoothingOptimized"
   ]
  },
  {
   "attachments": {},
   "cell_type": "markdown",
   "metadata": {},
   "source": [
    "## **7.2 Building Model**\n"
   ]
  },
  {
   "cell_type": "code",
   "execution_count": 15,
   "metadata": {},
   "outputs": [],
   "source": [
    "horizon = len(test) # number of predictions\n",
    "\n",
    "# We call the model that we are going to use\n",
    "models = [SimpleExponentialSmoothingOptimized()] # multiplicative   additive"
   ]
  },
  {
   "attachments": {},
   "cell_type": "markdown",
   "metadata": {},
   "source": [
    "We fit the models by instantiating a new StatsForecast object with the following parameters:\n",
    "\n",
    "models: a list of models. Select the models you want from models and import them.\n",
    "\n",
    "* `freq:` a string indicating the frequency of the data. (See [panda’s available frequencies](https://pandas.pydata.org/pandas-docs/stable/user_guide/timeseries.html#offset-aliases).)\n",
    "\n",
    "* `n_jobs:` n_jobs: int, number of jobs used in the parallel processing, use -1 for all cores.\n",
    "\n",
    "* `fallback_model:` a model to be used if a model fails.\n",
    "\n",
    "Any settings are passed into the constructor. Then you call its fit method and pass in the historical data frame."
   ]
  },
  {
   "cell_type": "code",
   "execution_count": 16,
   "metadata": {},
   "outputs": [],
   "source": [
    "# Instantiate StatsForecast class as sf\n",
    "sf = StatsForecast(df=df,\n",
    "                   models=models,\n",
    "                   freq='H', \n",
    "                   n_jobs=-1)"
   ]
  },
  {
   "attachments": {},
   "cell_type": "markdown",
   "metadata": {},
   "source": [
    "## **7.3 Fit the Model**"
   ]
  },
  {
   "cell_type": "code",
   "execution_count": 17,
   "metadata": {},
   "outputs": [
    {
     "data": {
      "text/plain": [
       "StatsForecast(models=[SESOpt])"
      ]
     },
     "execution_count": 17,
     "metadata": {},
     "output_type": "execute_result"
    }
   ],
   "source": [
    "# fit the models\n",
    "sf.fit()"
   ]
  },
  {
   "attachments": {},
   "cell_type": "markdown",
   "metadata": {},
   "source": [
    "Let's see the results of our `Simple Exponential Smoothing Optimized model`. We can observe it with the following instruction:"
   ]
  },
  {
   "cell_type": "code",
   "execution_count": 18,
   "metadata": {},
   "outputs": [
    {
     "data": {
      "text/plain": [
       "{'mean': array([80434.516], dtype=float32),\n",
       " 'fitted': array([       nan,  80115.   ,  79887.3  ,  89230.625, 101803.01 ,\n",
       "        121431.73 , 116524.57 , 106595.3  , 102833.   , 108002.78 ,\n",
       "        116043.78 , 130880.14 , 148838.6  , 157502.48 , 150782.88 ,\n",
       "        149309.88 , 150092.1  , 144833.12 , 150631.44 , 163707.92 ,\n",
       "        166209.73 , 139786.89 , 106233.92 ,  96874.54 ,  82663.55 ,\n",
       "         80150.38 ,  75383.16 ,  85007.78 , 101909.28 , 124902.74 ,\n",
       "        118098.73 , 109313.734, 102543.39 , 102243.03 , 115704.03 ,\n",
       "        130391.64 , 144185.67 , 148922.16 , 149147.72 , 148051.08 ,\n",
       "        148802.4  , 149819.72 , 150562.5  , 149451.22 , 150509.31 ,\n",
       "        129343.8  , 104070.29 ,  92293.95 ,  82860.29 ,  76380.45 ,\n",
       "         75142.51 ,  82565.02 ,  88732.7  , 118133.02 , 115219.43 ,\n",
       "        110982.8  ,  98981.23 , 104132.96 , 108619.68 , 126459.8  ,\n",
       "        140295.25 , 152348.25 , 146335.73 , 148003.16 , 147737.69 ,\n",
       "        145769.88 , 149249.84 , 159620.25 , 161070.36 , 135775.5  ,\n",
       "        113173.305, 100329.734,  87742.15 ,  87834.07 ,  88834.89 ,\n",
       "         92314.85 , 104343.5  , 115824.03 , 128818.74 , 141259.34 ,\n",
       "        144408.19 , 143261.58 , 133290.72 , 131260.5  , 142367.81 ,\n",
       "        157224.92 , 152547.25 , 153723.12 , 151220.28 , 150650.75 ,\n",
       "        147467.16 , 152474.42 , 146931.   , 125461.86 , 118000.37 ,\n",
       "         96913.   ,  93643.03 ,  89105.83 ,  89342.61 ,  90562.68 ,\n",
       "         98212.73 , 112426.43 , 129299.56 , 141283.95 , 152447.23 ,\n",
       "        152578.67 , 141284.1  , 147487.34 , 160973.77 , 166281.39 ,\n",
       "        166775.02 , 163176.34 , 157363.72 , 159038.1  , 160010.19 ,\n",
       "        168261.66 , 169883.61 , 142981.73 , 113255.266,  97504.1  ,\n",
       "         81833.29 ,  79533.234,  78361.836,  87948.17 ,  99671.58 ,\n",
       "        123538.914, 111447.14 ,  99560.07 ,  97674.05 ,  97655.19 ,\n",
       "        102515.9  , 119755.86 , 135595.02 , 140074.75 , 141713.45 ,\n",
       "        142214.94 , 145328.55 , 145334.94 , 150359.25 , 161408.39 ,\n",
       "        153494.94 , 134907.75 , 107343.43 ,  95167.984,  79671.53 ,\n",
       "         78348.37 ,  74706.78 ,  81917.164,  97789.67 , 119129.445,\n",
       "        113175.14 ,  99022.95 ,  94050.23 ,  93663.9  , 104079.79 ,\n",
       "        119593.3  , 135826.03 , 146348.7  , 139236.84 , 147145.12 ,\n",
       "        144957.1  , 151305.88 , 156032.27 , 161331.47 , 164973.22 ,\n",
       "        134398.83 , 105873.14 ,  92985.18 ,  79407.15 ,  79974.27 ,\n",
       "         78128.64 ,  85708.44 ,  99866.984, 123639.87 , 116408.05 ,\n",
       "        104411.18 , 101469.71 ,  97673.34 , 108159.086, 121119.09 ,\n",
       "        140652.69 , 138575.98 , 140965.86 , 141519.4  , 141589.3  ,\n",
       "        140619.8  , 139526.05 , 146148.11 , 142462.23 , 124130.17 ,\n",
       "        101587.7  ,  88304.18 ,  76172.54 ,  70393.375,  72132.44 ,\n",
       "         80114.375,  94796.695, 121638.87 , 114026.89 , 106570.32 ,\n",
       "         97382.805,  98845.23 , 105567.1  , 114291.87 , 132154.56 ,\n",
       "        146485.25 , 142039.9  , 142807.25 , 145987.88 , 152058.67 ,\n",
       "        151792.69 , 155626.28 , 155887.36 , 123719.92 , 103286.4  ,\n",
       "         95236.31 ], dtype=float32)}"
      ]
     },
     "execution_count": 18,
     "metadata": {},
     "output_type": "execute_result"
    }
   ],
   "source": [
    "result=sf.fitted_[0,0].model_\n",
    "result"
   ]
  },
  {
   "attachments": {},
   "cell_type": "markdown",
   "metadata": {},
   "source": [
    "Let us now visualize the residuals of our models.\n",
    "\n",
    "As we can see, the result obtained above has an output in a dictionary, to extract each element from the dictionary we are going to use the `.get()` function to extract the element and then we are going to save it in a `pd.DataFrame()`."
   ]
  },
  {
   "cell_type": "code",
   "execution_count": 19,
   "metadata": {},
   "outputs": [
    {
     "data": {
      "text/html": [
       "<div>\n",
       "<style scoped>\n",
       "    .dataframe tbody tr th:only-of-type {\n",
       "        vertical-align: middle;\n",
       "    }\n",
       "\n",
       "    .dataframe tbody tr th {\n",
       "        vertical-align: top;\n",
       "    }\n",
       "\n",
       "    .dataframe thead th {\n",
       "        text-align: right;\n",
       "    }\n",
       "</style>\n",
       "<table border=\"1\" class=\"dataframe\">\n",
       "  <thead>\n",
       "    <tr style=\"text-align: right;\">\n",
       "      <th></th>\n",
       "      <th>fitted</th>\n",
       "      <th>ds</th>\n",
       "    </tr>\n",
       "  </thead>\n",
       "  <tbody>\n",
       "    <tr>\n",
       "      <th>0</th>\n",
       "      <td>NaN</td>\n",
       "      <td>2017-09-13 00:00:00</td>\n",
       "    </tr>\n",
       "    <tr>\n",
       "      <th>1</th>\n",
       "      <td>80115.000000</td>\n",
       "      <td>2017-09-13 01:00:00</td>\n",
       "    </tr>\n",
       "    <tr>\n",
       "      <th>2</th>\n",
       "      <td>79887.296875</td>\n",
       "      <td>2017-09-13 02:00:00</td>\n",
       "    </tr>\n",
       "    <tr>\n",
       "      <th>3</th>\n",
       "      <td>89230.625000</td>\n",
       "      <td>2017-09-13 03:00:00</td>\n",
       "    </tr>\n",
       "    <tr>\n",
       "      <th>4</th>\n",
       "      <td>101803.007812</td>\n",
       "      <td>2017-09-13 04:00:00</td>\n",
       "    </tr>\n",
       "    <tr>\n",
       "      <th>...</th>\n",
       "      <td>...</td>\n",
       "      <td>...</td>\n",
       "    </tr>\n",
       "    <tr>\n",
       "      <th>211</th>\n",
       "      <td>155626.281250</td>\n",
       "      <td>2017-09-21 19:00:00</td>\n",
       "    </tr>\n",
       "    <tr>\n",
       "      <th>212</th>\n",
       "      <td>155887.359375</td>\n",
       "      <td>2017-09-21 20:00:00</td>\n",
       "    </tr>\n",
       "    <tr>\n",
       "      <th>213</th>\n",
       "      <td>123719.921875</td>\n",
       "      <td>2017-09-21 21:00:00</td>\n",
       "    </tr>\n",
       "    <tr>\n",
       "      <th>214</th>\n",
       "      <td>103286.398438</td>\n",
       "      <td>2017-09-21 22:00:00</td>\n",
       "    </tr>\n",
       "    <tr>\n",
       "      <th>215</th>\n",
       "      <td>95236.312500</td>\n",
       "      <td>2017-09-21 23:00:00</td>\n",
       "    </tr>\n",
       "  </tbody>\n",
       "</table>\n",
       "<p>216 rows × 2 columns</p>\n",
       "</div>"
      ],
      "text/plain": [
       "            fitted                  ds\n",
       "0              NaN 2017-09-13 00:00:00\n",
       "1     80115.000000 2017-09-13 01:00:00\n",
       "2     79887.296875 2017-09-13 02:00:00\n",
       "3     89230.625000 2017-09-13 03:00:00\n",
       "4    101803.007812 2017-09-13 04:00:00\n",
       "..             ...                 ...\n",
       "211  155626.281250 2017-09-21 19:00:00\n",
       "212  155887.359375 2017-09-21 20:00:00\n",
       "213  123719.921875 2017-09-21 21:00:00\n",
       "214  103286.398438 2017-09-21 22:00:00\n",
       "215   95236.312500 2017-09-21 23:00:00\n",
       "\n",
       "[216 rows x 2 columns]"
      ]
     },
     "execution_count": 19,
     "metadata": {},
     "output_type": "execute_result"
    }
   ],
   "source": [
    "fitted=pd.DataFrame(result.get(\"fitted\"), columns=[\"fitted\"])\n",
    "fitted[\"ds\"]=df[\"ds\"]\n",
    "fitted"
   ]
  },
  {
   "cell_type": "code",
   "execution_count": 20,
   "metadata": {},
   "outputs": [
    {
     "data": {
      "image/png": "[encoded data removed]",
      "text/plain": [
       "<Figure size 1800x700 with 1 Axes>"
      ]
     },
     "metadata": {},
     "output_type": "display_data"
    }
   ],
   "source": [
    "sns.lineplot(df, x=\"ds\", y=\"y\", label=\"Actual\", linewidth=2)\n",
    "sns.lineplot(fitted,x=\"ds\", y=\"fitted\", label=\"Fitted\", linestyle=\"--\" )\n",
    "\n",
    "plt.title(\"Ads watched (hourly data)\");\n",
    "plt.show()"
   ]
  },
  {
   "attachments": {},
   "cell_type": "markdown",
   "metadata": {},
   "source": [
    "## **7.4 Forecast Method**\n",
    "\n",
    "If you want to gain speed in productive settings where you have multiple series or models we recommend using the `StatsForecast.forecast` method instead of `.fit` and `.predict`.\n",
    "\n",
    "The main difference is that the `.forecast` doest not store the fitted values and is highly scalable in distributed environments.\n",
    "\n",
    "The forecast method takes two arguments: forecasts next `h` (horizon) and `level`.\n",
    "\n",
    "* `h (int):` represents the forecast h steps into the future. In this case, 30 hors ahead.\n",
    "\n",
    "The forecast object here is a new data frame that includes a column with the name of the model and the y hat values, as well as columns for the uncertainty intervals. Depending on your computer, this step should take around 1min. (If you want to speed things up to a couple of seconds, remove the AutoModels like `ARIMA` and `Theta`)"
   ]
  },
  {
   "cell_type": "code",
   "execution_count": 21,
   "metadata": {},
   "outputs": [
    {
     "data": {
      "text/html": [
       "<div>\n",
       "<style scoped>\n",
       "    .dataframe tbody tr th:only-of-type {\n",
       "        vertical-align: middle;\n",
       "    }\n",
       "\n",
       "    .dataframe tbody tr th {\n",
       "        vertical-align: top;\n",
       "    }\n",
       "\n",
       "    .dataframe thead th {\n",
       "        text-align: right;\n",
       "    }\n",
       "</style>\n",
       "<table border=\"1\" class=\"dataframe\">\n",
       "  <thead>\n",
       "    <tr style=\"text-align: right;\">\n",
       "      <th></th>\n",
       "      <th>ds</th>\n",
       "      <th>SESOpt</th>\n",
       "    </tr>\n",
       "    <tr>\n",
       "      <th>unique_id</th>\n",
       "      <th></th>\n",
       "      <th></th>\n",
       "    </tr>\n",
       "  </thead>\n",
       "  <tbody>\n",
       "    <tr>\n",
       "      <th>1</th>\n",
       "      <td>2017-09-22 00:00:00</td>\n",
       "      <td>80434.515625</td>\n",
       "    </tr>\n",
       "    <tr>\n",
       "      <th>1</th>\n",
       "      <td>2017-09-22 01:00:00</td>\n",
       "      <td>80434.515625</td>\n",
       "    </tr>\n",
       "    <tr>\n",
       "      <th>1</th>\n",
       "      <td>2017-09-22 02:00:00</td>\n",
       "      <td>80434.515625</td>\n",
       "    </tr>\n",
       "    <tr>\n",
       "      <th>1</th>\n",
       "      <td>2017-09-22 03:00:00</td>\n",
       "      <td>80434.515625</td>\n",
       "    </tr>\n",
       "    <tr>\n",
       "      <th>1</th>\n",
       "      <td>2017-09-22 04:00:00</td>\n",
       "      <td>80434.515625</td>\n",
       "    </tr>\n",
       "    <tr>\n",
       "      <th>1</th>\n",
       "      <td>2017-09-22 05:00:00</td>\n",
       "      <td>80434.515625</td>\n",
       "    </tr>\n",
       "    <tr>\n",
       "      <th>1</th>\n",
       "      <td>2017-09-22 06:00:00</td>\n",
       "      <td>80434.515625</td>\n",
       "    </tr>\n",
       "    <tr>\n",
       "      <th>1</th>\n",
       "      <td>2017-09-22 07:00:00</td>\n",
       "      <td>80434.515625</td>\n",
       "    </tr>\n",
       "    <tr>\n",
       "      <th>1</th>\n",
       "      <td>2017-09-22 08:00:00</td>\n",
       "      <td>80434.515625</td>\n",
       "    </tr>\n",
       "    <tr>\n",
       "      <th>1</th>\n",
       "      <td>2017-09-22 09:00:00</td>\n",
       "      <td>80434.515625</td>\n",
       "    </tr>\n",
       "    <tr>\n",
       "      <th>1</th>\n",
       "      <td>2017-09-22 10:00:00</td>\n",
       "      <td>80434.515625</td>\n",
       "    </tr>\n",
       "    <tr>\n",
       "      <th>1</th>\n",
       "      <td>2017-09-22 11:00:00</td>\n",
       "      <td>80434.515625</td>\n",
       "    </tr>\n",
       "    <tr>\n",
       "      <th>1</th>\n",
       "      <td>2017-09-22 12:00:00</td>\n",
       "      <td>80434.515625</td>\n",
       "    </tr>\n",
       "    <tr>\n",
       "      <th>1</th>\n",
       "      <td>2017-09-22 13:00:00</td>\n",
       "      <td>80434.515625</td>\n",
       "    </tr>\n",
       "    <tr>\n",
       "      <th>1</th>\n",
       "      <td>2017-09-22 14:00:00</td>\n",
       "      <td>80434.515625</td>\n",
       "    </tr>\n",
       "    <tr>\n",
       "      <th>1</th>\n",
       "      <td>2017-09-22 15:00:00</td>\n",
       "      <td>80434.515625</td>\n",
       "    </tr>\n",
       "    <tr>\n",
       "      <th>1</th>\n",
       "      <td>2017-09-22 16:00:00</td>\n",
       "      <td>80434.515625</td>\n",
       "    </tr>\n",
       "    <tr>\n",
       "      <th>1</th>\n",
       "      <td>2017-09-22 17:00:00</td>\n",
       "      <td>80434.515625</td>\n",
       "    </tr>\n",
       "    <tr>\n",
       "      <th>1</th>\n",
       "      <td>2017-09-22 18:00:00</td>\n",
       "      <td>80434.515625</td>\n",
       "    </tr>\n",
       "    <tr>\n",
       "      <th>1</th>\n",
       "      <td>2017-09-22 19:00:00</td>\n",
       "      <td>80434.515625</td>\n",
       "    </tr>\n",
       "    <tr>\n",
       "      <th>1</th>\n",
       "      <td>2017-09-22 20:00:00</td>\n",
       "      <td>80434.515625</td>\n",
       "    </tr>\n",
       "    <tr>\n",
       "      <th>1</th>\n",
       "      <td>2017-09-22 21:00:00</td>\n",
       "      <td>80434.515625</td>\n",
       "    </tr>\n",
       "    <tr>\n",
       "      <th>1</th>\n",
       "      <td>2017-09-22 22:00:00</td>\n",
       "      <td>80434.515625</td>\n",
       "    </tr>\n",
       "    <tr>\n",
       "      <th>1</th>\n",
       "      <td>2017-09-22 23:00:00</td>\n",
       "      <td>80434.515625</td>\n",
       "    </tr>\n",
       "    <tr>\n",
       "      <th>1</th>\n",
       "      <td>2017-09-23 00:00:00</td>\n",
       "      <td>80434.515625</td>\n",
       "    </tr>\n",
       "    <tr>\n",
       "      <th>1</th>\n",
       "      <td>2017-09-23 01:00:00</td>\n",
       "      <td>80434.515625</td>\n",
       "    </tr>\n",
       "    <tr>\n",
       "      <th>1</th>\n",
       "      <td>2017-09-23 02:00:00</td>\n",
       "      <td>80434.515625</td>\n",
       "    </tr>\n",
       "    <tr>\n",
       "      <th>1</th>\n",
       "      <td>2017-09-23 03:00:00</td>\n",
       "      <td>80434.515625</td>\n",
       "    </tr>\n",
       "    <tr>\n",
       "      <th>1</th>\n",
       "      <td>2017-09-23 04:00:00</td>\n",
       "      <td>80434.515625</td>\n",
       "    </tr>\n",
       "    <tr>\n",
       "      <th>1</th>\n",
       "      <td>2017-09-23 05:00:00</td>\n",
       "      <td>80434.515625</td>\n",
       "    </tr>\n",
       "  </tbody>\n",
       "</table>\n",
       "</div>"
      ],
      "text/plain": [
       "                           ds        SESOpt\n",
       "unique_id                                  \n",
       "1         2017-09-22 00:00:00  80434.515625\n",
       "1         2017-09-22 01:00:00  80434.515625\n",
       "1         2017-09-22 02:00:00  80434.515625\n",
       "1         2017-09-22 03:00:00  80434.515625\n",
       "1         2017-09-22 04:00:00  80434.515625\n",
       "1         2017-09-22 05:00:00  80434.515625\n",
       "1         2017-09-22 06:00:00  80434.515625\n",
       "1         2017-09-22 07:00:00  80434.515625\n",
       "1         2017-09-22 08:00:00  80434.515625\n",
       "1         2017-09-22 09:00:00  80434.515625\n",
       "1         2017-09-22 10:00:00  80434.515625\n",
       "1         2017-09-22 11:00:00  80434.515625\n",
       "1         2017-09-22 12:00:00  80434.515625\n",
       "1         2017-09-22 13:00:00  80434.515625\n",
       "1         2017-09-22 14:00:00  80434.515625\n",
       "1         2017-09-22 15:00:00  80434.515625\n",
       "1         2017-09-22 16:00:00  80434.515625\n",
       "1         2017-09-22 17:00:00  80434.515625\n",
       "1         2017-09-22 18:00:00  80434.515625\n",
       "1         2017-09-22 19:00:00  80434.515625\n",
       "1         2017-09-22 20:00:00  80434.515625\n",
       "1         2017-09-22 21:00:00  80434.515625\n",
       "1         2017-09-22 22:00:00  80434.515625\n",
       "1         2017-09-22 23:00:00  80434.515625\n",
       "1         2017-09-23 00:00:00  80434.515625\n",
       "1         2017-09-23 01:00:00  80434.515625\n",
       "1         2017-09-23 02:00:00  80434.515625\n",
       "1         2017-09-23 03:00:00  80434.515625\n",
       "1         2017-09-23 04:00:00  80434.515625\n",
       "1         2017-09-23 05:00:00  80434.515625"
      ]
     },
     "execution_count": 21,
     "metadata": {},
     "output_type": "execute_result"
    }
   ],
   "source": [
    "# Prediction\n",
    "Y_hat = sf.forecast(horizon, fitted=True)\n",
    "\n",
    "Y_hat"
   ]
  },
  {
   "attachments": {},
   "cell_type": "markdown",
   "metadata": {},
   "source": [
    "Let's visualize the fitted values"
   ]
  },
  {
   "cell_type": "code",
   "execution_count": 22,
   "metadata": {},
   "outputs": [
    {
     "data": {
      "text/html": [
       "<div>\n",
       "<style scoped>\n",
       "    .dataframe tbody tr th:only-of-type {\n",
       "        vertical-align: middle;\n",
       "    }\n",
       "\n",
       "    .dataframe tbody tr th {\n",
       "        vertical-align: top;\n",
       "    }\n",
       "\n",
       "    .dataframe thead th {\n",
       "        text-align: right;\n",
       "    }\n",
       "</style>\n",
       "<table border=\"1\" class=\"dataframe\">\n",
       "  <thead>\n",
       "    <tr style=\"text-align: right;\">\n",
       "      <th></th>\n",
       "      <th>ds</th>\n",
       "      <th>y</th>\n",
       "      <th>SESOpt</th>\n",
       "    </tr>\n",
       "    <tr>\n",
       "      <th>unique_id</th>\n",
       "      <th></th>\n",
       "      <th></th>\n",
       "      <th></th>\n",
       "    </tr>\n",
       "  </thead>\n",
       "  <tbody>\n",
       "    <tr>\n",
       "      <th>1</th>\n",
       "      <td>2017-09-13 00:00:00</td>\n",
       "      <td>80115.0</td>\n",
       "      <td>NaN</td>\n",
       "    </tr>\n",
       "    <tr>\n",
       "      <th>1</th>\n",
       "      <td>2017-09-13 01:00:00</td>\n",
       "      <td>79885.0</td>\n",
       "      <td>80115.000000</td>\n",
       "    </tr>\n",
       "    <tr>\n",
       "      <th>1</th>\n",
       "      <td>2017-09-13 02:00:00</td>\n",
       "      <td>89325.0</td>\n",
       "      <td>79887.296875</td>\n",
       "    </tr>\n",
       "    <tr>\n",
       "      <th>1</th>\n",
       "      <td>2017-09-13 03:00:00</td>\n",
       "      <td>101930.0</td>\n",
       "      <td>89230.625000</td>\n",
       "    </tr>\n",
       "    <tr>\n",
       "      <th>1</th>\n",
       "      <td>2017-09-13 04:00:00</td>\n",
       "      <td>121630.0</td>\n",
       "      <td>101803.007812</td>\n",
       "    </tr>\n",
       "  </tbody>\n",
       "</table>\n",
       "</div>"
      ],
      "text/plain": [
       "                           ds         y         SESOpt\n",
       "unique_id                                             \n",
       "1         2017-09-13 00:00:00   80115.0            NaN\n",
       "1         2017-09-13 01:00:00   79885.0   80115.000000\n",
       "1         2017-09-13 02:00:00   89325.0   79887.296875\n",
       "1         2017-09-13 03:00:00  101930.0   89230.625000\n",
       "1         2017-09-13 04:00:00  121630.0  101803.007812"
      ]
     },
     "execution_count": 22,
     "metadata": {},
     "output_type": "execute_result"
    }
   ],
   "source": [
    "values=sf.forecast_fitted_values()\n",
    "values.head()"
   ]
  },
  {
   "cell_type": "code",
   "execution_count": 23,
   "metadata": {},
   "outputs": [
    {
     "data": {
      "application/vnd.plotly.v1+json": {
       "config": {
        "plotlyServerURL": "https://plot.ly"
       },
       "data": [
        {
         "legendgroup": "y",
         "line": {
          "color": "#1f77b4",
          "width": 1
         },
         "mode": "lines",
         "name": "y",
         "showlegend": true,
         "type": "scatter",
         "x": [
          "2017-09-13T00:00:00",
          "2017-09-13T01:00:00",
          "2017-09-13T02:00:00",
          "2017-09-13T03:00:00",
          "2017-09-13T04:00:00",
          "2017-09-13T05:00:00",
          "2017-09-13T06:00:00",
          "2017-09-13T07:00:00",
          "2017-09-13T08:00:00",
          "2017-09-13T09:00:00",
          "2017-09-13T10:00:00",
          "2017-09-13T11:00:00",
          "2017-09-13T12:00:00",
          "2017-09-13T13:00:00",
          "2017-09-13T14:00:00",
          "2017-09-13T15:00:00",
          "2017-09-13T16:00:00",
          "2017-09-13T17:00:00",
          "2017-09-13T18:00:00",
          "2017-09-13T19:00:00",
          "2017-09-13T20:00:00",
          "2017-09-13T21:00:00",
          "2017-09-13T22:00:00",
          "2017-09-13T23:00:00",
          "2017-09-14T00:00:00",
          "2017-09-14T01:00:00",
          "2017-09-14T02:00:00",
          "2017-09-14T03:00:00",
          "2017-09-14T04:00:00",
          "2017-09-14T05:00:00",
          "2017-09-14T06:00:00",
          "2017-09-14T07:00:00",
          "2017-09-14T08:00:00",
          "2017-09-14T09:00:00",
          "2017-09-14T10:00:00",
          "2017-09-14T11:00:00",
          "2017-09-14T12:00:00",
          "2017-09-14T13:00:00",
          "2017-09-14T14:00:00",
          "2017-09-14T15:00:00",
          "2017-09-14T16:00:00",
          "2017-09-14T17:00:00",
          "2017-09-14T18:00:00",
          "2017-09-14T19:00:00",
          "2017-09-14T20:00:00",
          "2017-09-14T21:00:00",
          "2017-09-14T22:00:00",
          "2017-09-14T23:00:00",
          "2017-09-15T00:00:00",
          "2017-09-15T01:00:00",
          "2017-09-15T02:00:00",
          "2017-09-15T03:00:00",
          "2017-09-15T04:00:00",
          "2017-09-15T05:00:00",
          "2017-09-15T06:00:00",
          "2017-09-15T07:00:00",
          "2017-09-15T08:00:00",
          "2017-09-15T09:00:00",
          "2017-09-15T10:00:00",
          "2017-09-15T11:00:00",
          "2017-09-15T12:00:00",
          "2017-09-15T13:00:00",
          "2017-09-15T14:00:00",
          "2017-09-15T15:00:00",
          "2017-09-15T16:00:00",
          "2017-09-15T17:00:00",
          "2017-09-15T18:00:00",
          "2017-09-15T19:00:00",
          "2017-09-15T20:00:00",
          "2017-09-15T21:00:00",
          "2017-09-15T22:00:00",
          "2017-09-15T23:00:00",
          "2017-09-16T00:00:00",
          "2017-09-16T01:00:00",
          "2017-09-16T02:00:00",
          "2017-09-16T03:00:00",
          "2017-09-16T04:00:00",
          "2017-09-16T05:00:00",
          "2017-09-16T06:00:00",
          "2017-09-16T07:00:00",
          "2017-09-16T08:00:00",
          "2017-09-16T09:00:00",
          "2017-09-16T10:00:00",
          "2017-09-16T11:00:00",
          "2017-09-16T12:00:00",
          "2017-09-16T13:00:00",
          "2017-09-16T14:00:00",
          "2017-09-16T15:00:00",
          "2017-09-16T16:00:00",
          "2017-09-16T17:00:00",
          "2017-09-16T18:00:00",
          "2017-09-16T19:00:00",
          "2017-09-16T20:00:00",
          "2017-09-16T21:00:00",
          "2017-09-16T22:00:00",
          "2017-09-16T23:00:00",
          "2017-09-17T00:00:00",
          "2017-09-17T01:00:00",
          "2017-09-17T02:00:00",
          "2017-09-17T03:00:00",
          "2017-09-17T04:00:00",
          "2017-09-17T05:00:00",
          "2017-09-17T06:00:00",
          "2017-09-17T07:00:00",
          "2017-09-17T08:00:00",
          "2017-09-17T09:00:00",
          "2017-09-17T10:00:00",
          "2017-09-17T11:00:00",
          "2017-09-17T12:00:00",
          "2017-09-17T13:00:00",
          "2017-09-17T14:00:00",
          "2017-09-17T15:00:00",
          "2017-09-17T16:00:00",
          "2017-09-17T17:00:00",
          "2017-09-17T18:00:00",
          "2017-09-17T19:00:00",
          "2017-09-17T20:00:00",
          "2017-09-17T21:00:00",
          "2017-09-17T22:00:00",
          "2017-09-17T23:00:00",
          "2017-09-18T00:00:00",
          "2017-09-18T01:00:00",
          "2017-09-18T02:00:00",
          "2017-09-18T03:00:00",
          "2017-09-18T04:00:00",
          "2017-09-18T05:00:00",
          "2017-09-18T06:00:00",
          "2017-09-18T07:00:00",
          "2017-09-18T08:00:00",
          "2017-09-18T09:00:00",
          "2017-09-18T10:00:00",
          "2017-09-18T11:00:00",
          "2017-09-18T12:00:00",
          "2017-09-18T13:00:00",
          "2017-09-18T14:00:00",
          "2017-09-18T15:00:00",
          "2017-09-18T16:00:00",
          "2017-09-18T17:00:00",
          "2017-09-18T18:00:00",
          "2017-09-18T19:00:00",
          "2017-09-18T20:00:00",
          "2017-09-18T21:00:00",
          "2017-09-18T22:00:00",
          "2017-09-18T23:00:00",
          "2017-09-19T00:00:00",
          "2017-09-19T01:00:00",
          "2017-09-19T02:00:00",
          "2017-09-19T03:00:00",
          "2017-09-19T04:00:00",
          "2017-09-19T05:00:00",
          "2017-09-19T06:00:00",
          "2017-09-19T07:00:00",
          "2017-09-19T08:00:00",
          "2017-09-19T09:00:00",
          "2017-09-19T10:00:00",
          "2017-09-19T11:00:00",
          "2017-09-19T12:00:00",
          "2017-09-19T13:00:00",
          "2017-09-19T14:00:00",
          "2017-09-19T15:00:00",
          "2017-09-19T16:00:00",
          "2017-09-19T17:00:00",
          "2017-09-19T18:00:00",
          "2017-09-19T19:00:00",
          "2017-09-19T20:00:00",
          "2017-09-19T21:00:00",
          "2017-09-19T22:00:00",
          "2017-09-19T23:00:00",
          "2017-09-20T00:00:00",
          "2017-09-20T01:00:00",
          "2017-09-20T02:00:00",
          "2017-09-20T03:00:00",
          "2017-09-20T04:00:00",
          "2017-09-20T05:00:00",
          "2017-09-20T06:00:00",
          "2017-09-20T07:00:00",
          "2017-09-20T08:00:00",
          "2017-09-20T09:00:00",
          "2017-09-20T10:00:00",
          "2017-09-20T11:00:00",
          "2017-09-20T12:00:00",
          "2017-09-20T13:00:00",
          "2017-09-20T14:00:00",
          "2017-09-20T15:00:00",
          "2017-09-20T16:00:00",
          "2017-09-20T17:00:00",
          "2017-09-20T18:00:00",
          "2017-09-20T19:00:00",
          "2017-09-20T20:00:00",
          "2017-09-20T21:00:00",
          "2017-09-20T22:00:00",
          "2017-09-20T23:00:00",
          "2017-09-21T00:00:00",
          "2017-09-21T01:00:00",
          "2017-09-21T02:00:00",
          "2017-09-21T03:00:00",
          "2017-09-21T04:00:00",
          "2017-09-21T05:00:00",
          "2017-09-21T06:00:00",
          "2017-09-21T07:00:00",
          "2017-09-21T08:00:00",
          "2017-09-21T09:00:00",
          "2017-09-21T10:00:00",
          "2017-09-21T11:00:00",
          "2017-09-21T12:00:00",
          "2017-09-21T13:00:00",
          "2017-09-21T14:00:00",
          "2017-09-21T15:00:00",
          "2017-09-21T16:00:00",
          "2017-09-21T17:00:00",
          "2017-09-21T18:00:00",
          "2017-09-21T19:00:00",
          "2017-09-21T20:00:00",
          "2017-09-21T21:00:00",
          "2017-09-21T22:00:00",
          "2017-09-21T23:00:00"
         ],
         "xaxis": "x",
         "y": [
          80115,
          79885,
          89325,
          101930,
          121630,
          116475,
          106495,
          102795,
          108055,
          116125,
          131030,
          149020,
          157590,
          150715,
          149295,
          150100,
          144780,
          150690,
          163840,
          166235,
          139520,
          105895,
          96780,
          82520,
          80125,
          75335,
          85105,
          102080,
          125135,
          118030,
          109225,
          102475,
          102240,
          115840,
          130540,
          144325,
          148970,
          149150,
          148040,
          148810,
          149830,
          150570,
          149440,
          150520,
          129130,
          103815,
          92175,
          82765,
          76315,
          75130,
          82640,
          88795,
          118430,
          115190,
          110940,
          98860,
          104185,
          108665,
          126640,
          140435,
          152470,
          146275,
          148020,
          147735,
          145750,
          149285,
          159725,
          161085,
          135520,
          112945,
          100200,
          87615,
          87835,
          88845,
          92350,
          104465,
          115940,
          128950,
          141385,
          144440,
          143250,
          133190,
          131240,
          142480,
          157375,
          152500,
          153735,
          151195,
          150645,
          147435,
          152525,
          146875,
          125245,
          117925,
          96700,
          93610,
          89060,
          89345,
          90575,
          98290,
          112570,
          129470,
          141405,
          152560,
          152580,
          141170,
          147550,
          161110,
          166335,
          166780,
          163140,
          157305,
          159055,
          160020,
          168345,
          169900,
          142710,
          112955,
          97345,
          81675,
          79510,
          78350,
          88045,
          99790,
          123780,
          111325,
          99440,
          97655,
          97655,
          102565,
          119930,
          135755,
          140120,
          141730,
          142220,
          145360,
          145335,
          150410,
          161520,
          153415,
          134720,
          107065,
          95045,
          79515,
          78335,
          74670,
          81990,
          97950,
          119345,
          113115,
          98880,
          94000,
          93660,
          104185,
          119750,
          135990,
          146455,
          139165,
          147225,
          144935,
          151370,
          156080,
          161385,
          165010,
          134090,
          105585,
          92855,
          79270,
          79980,
          78110,
          85785,
          100010,
          123880,
          116335,
          104290,
          101440,
          97635,
          108265,
          121250,
          140850,
          138555,
          140990,
          141525,
          141590,
          140610,
          139515,
          146215,
          142425,
          123945,
          101360,
          88170,
          76050,
          70335,
          72150,
          80195,
          94945,
          121910,
          113950,
          106495,
          97290,
          98860,
          105635,
          114380,
          132335,
          146630,
          141995,
          142815,
          146020,
          152120,
          151790,
          155665,
          155890,
          123395,
          103080,
          95155,
          80285
         ],
         "yaxis": "y"
        },
        {
         "legendgroup": "SESOpt",
         "line": {
          "color": "#393b79",
          "width": 1
         },
         "mode": "lines",
         "name": "SESOpt",
         "showlegend": true,
         "type": "scatter",
         "x": [
          "2017-09-13T00:00:00",
          "2017-09-13T01:00:00",
          "2017-09-13T02:00:00",
          "2017-09-13T03:00:00",
          "2017-09-13T04:00:00",
          "2017-09-13T05:00:00",
          "2017-09-13T06:00:00",
          "2017-09-13T07:00:00",
          "2017-09-13T08:00:00",
          "2017-09-13T09:00:00",
          "2017-09-13T10:00:00",
          "2017-09-13T11:00:00",
          "2017-09-13T12:00:00",
          "2017-09-13T13:00:00",
          "2017-09-13T14:00:00",
          "2017-09-13T15:00:00",
          "2017-09-13T16:00:00",
          "2017-09-13T17:00:00",
          "2017-09-13T18:00:00",
          "2017-09-13T19:00:00",
          "2017-09-13T20:00:00",
          "2017-09-13T21:00:00",
          "2017-09-13T22:00:00",
          "2017-09-13T23:00:00",
          "2017-09-14T00:00:00",
          "2017-09-14T01:00:00",
          "2017-09-14T02:00:00",
          "2017-09-14T03:00:00",
          "2017-09-14T04:00:00",
          "2017-09-14T05:00:00",
          "2017-09-14T06:00:00",
          "2017-09-14T07:00:00",
          "2017-09-14T08:00:00",
          "2017-09-14T09:00:00",
          "2017-09-14T10:00:00",
          "2017-09-14T11:00:00",
          "2017-09-14T12:00:00",
          "2017-09-14T13:00:00",
          "2017-09-14T14:00:00",
          "2017-09-14T15:00:00",
          "2017-09-14T16:00:00",
          "2017-09-14T17:00:00",
          "2017-09-14T18:00:00",
          "2017-09-14T19:00:00",
          "2017-09-14T20:00:00",
          "2017-09-14T21:00:00",
          "2017-09-14T22:00:00",
          "2017-09-14T23:00:00",
          "2017-09-15T00:00:00",
          "2017-09-15T01:00:00",
          "2017-09-15T02:00:00",
          "2017-09-15T03:00:00",
          "2017-09-15T04:00:00",
          "2017-09-15T05:00:00",
          "2017-09-15T06:00:00",
          "2017-09-15T07:00:00",
          "2017-09-15T08:00:00",
          "2017-09-15T09:00:00",
          "2017-09-15T10:00:00",
          "2017-09-15T11:00:00",
          "2017-09-15T12:00:00",
          "2017-09-15T13:00:00",
          "2017-09-15T14:00:00",
          "2017-09-15T15:00:00",
          "2017-09-15T16:00:00",
          "2017-09-15T17:00:00",
          "2017-09-15T18:00:00",
          "2017-09-15T19:00:00",
          "2017-09-15T20:00:00",
          "2017-09-15T21:00:00",
          "2017-09-15T22:00:00",
          "2017-09-15T23:00:00",
          "2017-09-16T00:00:00",
          "2017-09-16T01:00:00",
          "2017-09-16T02:00:00",
          "2017-09-16T03:00:00",
          "2017-09-16T04:00:00",
          "2017-09-16T05:00:00",
          "2017-09-16T06:00:00",
          "2017-09-16T07:00:00",
          "2017-09-16T08:00:00",
          "2017-09-16T09:00:00",
          "2017-09-16T10:00:00",
          "2017-09-16T11:00:00",
          "2017-09-16T12:00:00",
          "2017-09-16T13:00:00",
          "2017-09-16T14:00:00",
          "2017-09-16T15:00:00",
          "2017-09-16T16:00:00",
          "2017-09-16T17:00:00",
          "2017-09-16T18:00:00",
          "2017-09-16T19:00:00",
          "2017-09-16T20:00:00",
          "2017-09-16T21:00:00",
          "2017-09-16T22:00:00",
          "2017-09-16T23:00:00",
          "2017-09-17T00:00:00",
          "2017-09-17T01:00:00",
          "2017-09-17T02:00:00",
          "2017-09-17T03:00:00",
          "2017-09-17T04:00:00",
          "2017-09-17T05:00:00",
          "2017-09-17T06:00:00",
          "2017-09-17T07:00:00",
          "2017-09-17T08:00:00",
          "2017-09-17T09:00:00",
          "2017-09-17T10:00:00",
          "2017-09-17T11:00:00",
          "2017-09-17T12:00:00",
          "2017-09-17T13:00:00",
          "2017-09-17T14:00:00",
          "2017-09-17T15:00:00",
          "2017-09-17T16:00:00",
          "2017-09-17T17:00:00",
          "2017-09-17T18:00:00",
          "2017-09-17T19:00:00",
          "2017-09-17T20:00:00",
          "2017-09-17T21:00:00",
          "2017-09-17T22:00:00",
          "2017-09-17T23:00:00",
          "2017-09-18T00:00:00",
          "2017-09-18T01:00:00",
          "2017-09-18T02:00:00",
          "2017-09-18T03:00:00",
          "2017-09-18T04:00:00",
          "2017-09-18T05:00:00",
          "2017-09-18T06:00:00",
          "2017-09-18T07:00:00",
          "2017-09-18T08:00:00",
          "2017-09-18T09:00:00",
          "2017-09-18T10:00:00",
          "2017-09-18T11:00:00",
          "2017-09-18T12:00:00",
          "2017-09-18T13:00:00",
          "2017-09-18T14:00:00",
          "2017-09-18T15:00:00",
          "2017-09-18T16:00:00",
          "2017-09-18T17:00:00",
          "2017-09-18T18:00:00",
          "2017-09-18T19:00:00",
          "2017-09-18T20:00:00",
          "2017-09-18T21:00:00",
          "2017-09-18T22:00:00",
          "2017-09-18T23:00:00",
          "2017-09-19T00:00:00",
          "2017-09-19T01:00:00",
          "2017-09-19T02:00:00",
          "2017-09-19T03:00:00",
          "2017-09-19T04:00:00",
          "2017-09-19T05:00:00",
          "2017-09-19T06:00:00",
          "2017-09-19T07:00:00",
          "2017-09-19T08:00:00",
          "2017-09-19T09:00:00",
          "2017-09-19T10:00:00",
          "2017-09-19T11:00:00",
          "2017-09-19T12:00:00",
          "2017-09-19T13:00:00",
          "2017-09-19T14:00:00",
          "2017-09-19T15:00:00",
          "2017-09-19T16:00:00",
          "2017-09-19T17:00:00",
          "2017-09-19T18:00:00",
          "2017-09-19T19:00:00",
          "2017-09-19T20:00:00",
          "2017-09-19T21:00:00",
          "2017-09-19T22:00:00",
          "2017-09-19T23:00:00",
          "2017-09-20T00:00:00",
          "2017-09-20T01:00:00",
          "2017-09-20T02:00:00",
          "2017-09-20T03:00:00",
          "2017-09-20T04:00:00",
          "2017-09-20T05:00:00",
          "2017-09-20T06:00:00",
          "2017-09-20T07:00:00",
          "2017-09-20T08:00:00",
          "2017-09-20T09:00:00",
          "2017-09-20T10:00:00",
          "2017-09-20T11:00:00",
          "2017-09-20T12:00:00",
          "2017-09-20T13:00:00",
          "2017-09-20T14:00:00",
          "2017-09-20T15:00:00",
          "2017-09-20T16:00:00",
          "2017-09-20T17:00:00",
          "2017-09-20T18:00:00",
          "2017-09-20T19:00:00",
          "2017-09-20T20:00:00",
          "2017-09-20T21:00:00",
          "2017-09-20T22:00:00",
          "2017-09-20T23:00:00",
          "2017-09-21T00:00:00",
          "2017-09-21T01:00:00",
          "2017-09-21T02:00:00",
          "2017-09-21T03:00:00",
          "2017-09-21T04:00:00",
          "2017-09-21T05:00:00",
          "2017-09-21T06:00:00",
          "2017-09-21T07:00:00",
          "2017-09-21T08:00:00",
          "2017-09-21T09:00:00",
          "2017-09-21T10:00:00",
          "2017-09-21T11:00:00",
          "2017-09-21T12:00:00",
          "2017-09-21T13:00:00",
          "2017-09-21T14:00:00",
          "2017-09-21T15:00:00",
          "2017-09-21T16:00:00",
          "2017-09-21T17:00:00",
          "2017-09-21T18:00:00",
          "2017-09-21T19:00:00",
          "2017-09-21T20:00:00",
          "2017-09-21T21:00:00",
          "2017-09-21T22:00:00",
          "2017-09-21T23:00:00"
         ],
         "xaxis": "x",
         "y": [
          null,
          80115,
          79887.3,
          89230.625,
          101803.01,
          121431.73,
          116524.57,
          106595.3,
          102833,
          108002.78,
          116043.78,
          130880.14,
          148838.6,
          157502.48,
          150782.88,
          149309.88,
          150092.1,
          144833.12,
          150631.44,
          163707.92,
          166209.73,
          139786.89,
          106233.92,
          96874.54,
          82663.55,
          80150.38,
          75383.16,
          85007.78,
          101909.28,
          124902.74,
          118098.73,
          109313.734,
          102543.39,
          102243.03,
          115704.03,
          130391.64,
          144185.67,
          148922.16,
          149147.72,
          148051.08,
          148802.4,
          149819.72,
          150562.5,
          149451.22,
          150509.31,
          129343.8,
          104070.29,
          92293.95,
          82860.29,
          76380.45,
          75142.51,
          82565.02,
          88732.7,
          118133.02,
          115219.43,
          110982.8,
          98981.23,
          104132.96,
          108619.68,
          126459.8,
          140295.25,
          152348.25,
          146335.73,
          148003.16,
          147737.69,
          145769.88,
          149249.84,
          159620.25,
          161070.36,
          135775.5,
          113173.305,
          100329.734,
          87742.15,
          87834.07,
          88834.89,
          92314.85,
          104343.5,
          115824.03,
          128818.74,
          141259.34,
          144408.19,
          143261.58,
          133290.72,
          131260.5,
          142367.81,
          157224.92,
          152547.25,
          153723.12,
          151220.28,
          150650.75,
          147467.16,
          152474.42,
          146931,
          125461.86,
          118000.37,
          96913,
          93643.03,
          89105.83,
          89342.61,
          90562.68,
          98212.73,
          112426.43,
          129299.56,
          141283.95,
          152447.23,
          152578.67,
          141284.1,
          147487.34,
          160973.77,
          166281.39,
          166775.02,
          163176.34,
          157363.72,
          159038.1,
          160010.19,
          168261.66,
          169883.61,
          142981.73,
          113255.266,
          97504.1,
          81833.29,
          79533.234,
          78361.836,
          87948.17,
          99671.58,
          123538.914,
          111447.14,
          99560.07,
          97674.05,
          97655.19,
          102515.9,
          119755.86,
          135595.02,
          140074.75,
          141713.45,
          142214.94,
          145328.55,
          145334.94,
          150359.25,
          161408.39,
          153494.94,
          134907.75,
          107343.43,
          95167.984,
          79671.53,
          78348.37,
          74706.78,
          81917.164,
          97789.67,
          119129.445,
          113175.14,
          99022.95,
          94050.23,
          93663.9,
          104079.79,
          119593.3,
          135826.03,
          146348.7,
          139236.84,
          147145.12,
          144957.1,
          151305.88,
          156032.27,
          161331.47,
          164973.22,
          134398.83,
          105873.14,
          92985.18,
          79407.15,
          79974.27,
          78128.64,
          85708.44,
          99866.984,
          123639.87,
          116408.05,
          104411.18,
          101469.71,
          97673.34,
          108159.086,
          121119.09,
          140652.69,
          138575.98,
          140965.86,
          141519.4,
          141589.3,
          140619.8,
          139526.05,
          146148.11,
          142462.23,
          124130.17,
          101587.7,
          88304.18,
          76172.54,
          70393.375,
          72132.44,
          80114.375,
          94796.695,
          121638.87,
          114026.89,
          106570.32,
          97382.805,
          98845.23,
          105567.1,
          114291.87,
          132154.56,
          146485.25,
          142039.9,
          142807.25,
          145987.88,
          152058.67,
          151792.69,
          155626.28,
          155887.36,
          123719.92,
          103286.4,
          95236.31
         ],
         "yaxis": "y"
        }
       ],
       "layout": {
        "annotations": [
         {
          "font": {
           "size": 10
          },
          "showarrow": false,
          "text": "1",
          "x": 0.5,
          "xanchor": "center",
          "xref": "paper",
          "y": 1,
          "yanchor": "bottom",
          "yref": "paper"
         },
         {
          "font": {
           "size": 10
          },
          "showarrow": false,
          "text": "Datestamp [ds]",
          "x": 0.5,
          "xanchor": "center",
          "xref": "paper",
          "y": 0,
          "yanchor": "top",
          "yref": "paper",
          "yshift": -30
         },
         {
          "font": {
           "size": 10
          },
          "showarrow": false,
          "text": "Target [y]",
          "textangle": -90,
          "x": 0,
          "xanchor": "right",
          "xref": "paper",
          "xshift": -40,
          "y": 0.5,
          "yanchor": "middle",
          "yref": "paper"
         }
        ],
        "autosize": true,
        "font": {
         "size": 10
        },
        "height": 150,
        "margin": {
         "b": 50,
         "l": 60,
         "r": 10,
         "t": 20
        },
        "template": {
         "data": {
          "bar": [
           {
            "error_x": {
             "color": "#2a3f5f"
            },
            "error_y": {
             "color": "#2a3f5f"
            },
            "marker": {
             "line": {
              "color": "white",
              "width": 0.5
             },
             "pattern": {
              "fillmode": "overlay",
              "size": 10,
              "solidity": 0.2
             }
            },
            "type": "bar"
           }
          ],
          "barpolar": [
           {
            "marker": {
             "line": {
              "color": "white",
              "width": 0.5
             },
             "pattern": {
              "fillmode": "overlay",
              "size": 10,
              "solidity": 0.2
             }
            },
            "type": "barpolar"
           }
          ],
          "carpet": [
           {
            "aaxis": {
             "endlinecolor": "#2a3f5f",
             "gridcolor": "#C8D4E3",
             "linecolor": "#C8D4E3",
             "minorgridcolor": "#C8D4E3",
             "startlinecolor": "#2a3f5f"
            },
            "baxis": {
             "endlinecolor": "#2a3f5f",
             "gridcolor": "#C8D4E3",
             "linecolor": "#C8D4E3",
             "minorgridcolor": "#C8D4E3",
             "startlinecolor": "#2a3f5f"
            },
            "type": "carpet"
           }
          ],
          "choropleth": [
           {
            "colorbar": {
             "outlinewidth": 0,
             "ticks": ""
            },
            "type": "choropleth"
           }
          ],
          "contour": [
           {
            "colorbar": {
             "outlinewidth": 0,
             "ticks": ""
            },
            "colorscale": [
             [
              0,
              "#0d0887"
             ],
             [
              0.1111111111111111,
              "#46039f"
             ],
             [
              0.2222222222222222,
              "#7201a8"
             ],
             [
              0.3333333333333333,
              "#9c179e"
             ],
             [
              0.4444444444444444,
              "#bd3786"
             ],
             [
              0.5555555555555556,
              "#d8576b"
             ],
             [
              0.6666666666666666,
              "#ed7953"
             ],
             [
              0.7777777777777778,
              "#fb9f3a"
             ],
             [
              0.8888888888888888,
              "#fdca26"
             ],
             [
              1,
              "#f0f921"
             ]
            ],
            "type": "contour"
           }
          ],
          "contourcarpet": [
           {
            "colorbar": {
             "outlinewidth": 0,
             "ticks": ""
            },
            "type": "contourcarpet"
           }
          ],
          "heatmap": [
           {
            "colorbar": {
             "outlinewidth": 0,
             "ticks": ""
            },
            "colorscale": [
             [
              0,
              "#0d0887"
             ],
             [
              0.1111111111111111,
              "#46039f"
             ],
             [
              0.2222222222222222,
              "#7201a8"
             ],
             [
              0.3333333333333333,
              "#9c179e"
             ],
             [
              0.4444444444444444,
              "#bd3786"
             ],
             [
              0.5555555555555556,
              "#d8576b"
             ],
             [
              0.6666666666666666,
              "#ed7953"
             ],
             [
              0.7777777777777778,
              "#fb9f3a"
             ],
             [
              0.8888888888888888,
              "#fdca26"
             ],
             [
              1,
              "#f0f921"
             ]
            ],
            "type": "heatmap"
           }
          ],
          "heatmapgl": [
           {
            "colorbar": {
             "outlinewidth": 0,
             "ticks": ""
            },
            "colorscale": [
             [
              0,
              "#0d0887"
             ],
             [
              0.1111111111111111,
              "#46039f"
             ],
             [
              0.2222222222222222,
              "#7201a8"
             ],
             [
              0.3333333333333333,
              "#9c179e"
             ],
             [
              0.4444444444444444,
              "#bd3786"
             ],
             [
              0.5555555555555556,
              "#d8576b"
             ],
             [
              0.6666666666666666,
              "#ed7953"
             ],
             [
              0.7777777777777778,
              "#fb9f3a"
             ],
             [
              0.8888888888888888,
              "#fdca26"
             ],
             [
              1,
              "#f0f921"
             ]
            ],
            "type": "heatmapgl"
           }
          ],
          "histogram": [
           {
            "marker": {
             "pattern": {
              "fillmode": "overlay",
              "size": 10,
              "solidity": 0.2
             }
            },
            "type": "histogram"
           }
          ],
          "histogram2d": [
           {
            "colorbar": {
             "outlinewidth": 0,
             "ticks": ""
            },
            "colorscale": [
             [
              0,
              "#0d0887"
             ],
             [
              0.1111111111111111,
              "#46039f"
             ],
             [
              0.2222222222222222,
              "#7201a8"
             ],
             [
              0.3333333333333333,
              "#9c179e"
             ],
             [
              0.4444444444444444,
              "#bd3786"
             ],
             [
              0.5555555555555556,
              "#d8576b"
             ],
             [
              0.6666666666666666,
              "#ed7953"
             ],
             [
              0.7777777777777778,
              "#fb9f3a"
             ],
             [
              0.8888888888888888,
              "#fdca26"
             ],
             [
              1,
              "#f0f921"
             ]
            ],
            "type": "histogram2d"
           }
          ],
          "histogram2dcontour": [
           {
            "colorbar": {
             "outlinewidth": 0,
             "ticks": ""
            },
            "colorscale": [
             [
              0,
              "#0d0887"
             ],
             [
              0.1111111111111111,
              "#46039f"
             ],
             [
              0.2222222222222222,
              "#7201a8"
             ],
             [
              0.3333333333333333,
              "#9c179e"
             ],
             [
              0.4444444444444444,
              "#bd3786"
             ],
             [
              0.5555555555555556,
              "#d8576b"
             ],
             [
              0.6666666666666666,
              "#ed7953"
             ],
             [
              0.7777777777777778,
              "#fb9f3a"
             ],
             [
              0.8888888888888888,
              "#fdca26"
             ],
             [
              1,
              "#f0f921"
             ]
            ],
            "type": "histogram2dcontour"
           }
          ],
          "mesh3d": [
           {
            "colorbar": {
             "outlinewidth": 0,
             "ticks": ""
            },
            "type": "mesh3d"
           }
          ],
          "parcoords": [
           {
            "line": {
             "colorbar": {
              "outlinewidth": 0,
              "ticks": ""
             }
            },
            "type": "parcoords"
           }
          ],
          "pie": [
           {
            "automargin": true,
            "type": "pie"
           }
          ],
          "scatter": [
           {
            "fillpattern": {
             "fillmode": "overlay",
             "size": 10,
             "solidity": 0.2
            },
            "type": "scatter"
           }
          ],
          "scatter3d": [
           {
            "line": {
             "colorbar": {
              "outlinewidth": 0,
              "ticks": ""
             }
            },
            "marker": {
             "colorbar": {
              "outlinewidth": 0,
              "ticks": ""
             }
            },
            "type": "scatter3d"
           }
          ],
          "scattercarpet": [
           {
            "marker": {
             "colorbar": {
              "outlinewidth": 0,
              "ticks": ""
             }
            },
            "type": "scattercarpet"
           }
          ],
          "scattergeo": [
           {
            "marker": {
             "colorbar": {
              "outlinewidth": 0,
              "ticks": ""
             }
            },
            "type": "scattergeo"
           }
          ],
          "scattergl": [
           {
            "marker": {
             "colorbar": {
              "outlinewidth": 0,
              "ticks": ""
             }
            },
            "type": "scattergl"
           }
          ],
          "scattermapbox": [
           {
            "marker": {
             "colorbar": {
              "outlinewidth": 0,
              "ticks": ""
             }
            },
            "type": "scattermapbox"
           }
          ],
          "scatterpolar": [
           {
            "marker": {
             "colorbar": {
              "outlinewidth": 0,
              "ticks": ""
             }
            },
            "type": "scatterpolar"
           }
          ],
          "scatterpolargl": [
           {
            "marker": {
             "colorbar": {
              "outlinewidth": 0,
              "ticks": ""
             }
            },
            "type": "scatterpolargl"
           }
          ],
          "scatterternary": [
           {
            "marker": {
             "colorbar": {
              "outlinewidth": 0,
              "ticks": ""
             }
            },
            "type": "scatterternary"
           }
          ],
          "surface": [
           {
            "colorbar": {
             "outlinewidth": 0,
             "ticks": ""
            },
            "colorscale": [
             [
              0,
              "#0d0887"
             ],
             [
              0.1111111111111111,
              "#46039f"
             ],
             [
              0.2222222222222222,
              "#7201a8"
             ],
             [
              0.3333333333333333,
              "#9c179e"
             ],
             [
              0.4444444444444444,
              "#bd3786"
             ],
             [
              0.5555555555555556,
              "#d8576b"
             ],
             [
              0.6666666666666666,
              "#ed7953"
             ],
             [
              0.7777777777777778,
              "#fb9f3a"
             ],
             [
              0.8888888888888888,
              "#fdca26"
             ],
             [
              1,
              "#f0f921"
             ]
            ],
            "type": "surface"
           }
          ],
          "table": [
           {
            "cells": {
             "fill": {
              "color": "#EBF0F8"
             },
             "line": {
              "color": "white"
             }
            },
            "header": {
             "fill": {
              "color": "#C8D4E3"
             },
             "line": {
              "color": "white"
             }
            },
            "type": "table"
           }
          ]
         },
         "layout": {
          "annotationdefaults": {
           "arrowcolor": "#2a3f5f",
           "arrowhead": 0,
           "arrowwidth": 1
          },
          "autotypenumbers": "strict",
          "coloraxis": {
           "colorbar": {
            "outlinewidth": 0,
            "ticks": ""
           }
          },
          "colorscale": {
           "diverging": [
            [
             0,
             "#8e0152"
            ],
            [
             0.1,
             "#c51b7d"
            ],
            [
             0.2,
             "#de77ae"
            ],
            [
             0.3,
             "#f1b6da"
            ],
            [
             0.4,
             "#fde0ef"
            ],
            [
             0.5,
             "#f7f7f7"
            ],
            [
             0.6,
             "#e6f5d0"
            ],
            [
             0.7,
             "#b8e186"
            ],
            [
             0.8,
             "#7fbc41"
            ],
            [
             0.9,
             "#4d9221"
            ],
            [
             1,
             "#276419"
            ]
           ],
           "sequential": [
            [
             0,
             "#0d0887"
            ],
            [
             0.1111111111111111,
             "#46039f"
            ],
            [
             0.2222222222222222,
             "#7201a8"
            ],
            [
             0.3333333333333333,
             "#9c179e"
            ],
            [
             0.4444444444444444,
             "#bd3786"
            ],
            [
             0.5555555555555556,
             "#d8576b"
            ],
            [
             0.6666666666666666,
             "#ed7953"
            ],
            [
             0.7777777777777778,
             "#fb9f3a"
            ],
            [
             0.8888888888888888,
             "#fdca26"
            ],
            [
             1,
             "#f0f921"
            ]
           ],
           "sequentialminus": [
            [
             0,
             "#0d0887"
            ],
            [
             0.1111111111111111,
             "#46039f"
            ],
            [
             0.2222222222222222,
             "#7201a8"
            ],
            [
             0.3333333333333333,
             "#9c179e"
            ],
            [
             0.4444444444444444,
             "#bd3786"
            ],
            [
             0.5555555555555556,
             "#d8576b"
            ],
            [
             0.6666666666666666,
             "#ed7953"
            ],
            [
             0.7777777777777778,
             "#fb9f3a"
            ],
            [
             0.8888888888888888,
             "#fdca26"
            ],
            [
             1,
             "#f0f921"
            ]
           ]
          },
          "colorway": [
           "#636efa",
           "#EF553B",
           "#00cc96",
           "#ab63fa",
           "#FFA15A",
           "#19d3f3",
           "#FF6692",
           "#B6E880",
           "#FF97FF",
           "#FECB52"
          ],
          "font": {
           "color": "#2a3f5f"
          },
          "geo": {
           "bgcolor": "white",
           "lakecolor": "white",
           "landcolor": "white",
           "showlakes": true,
           "showland": true,
           "subunitcolor": "#C8D4E3"
          },
          "hoverlabel": {
           "align": "left"
          },
          "hovermode": "closest",
          "mapbox": {
           "style": "light"
          },
          "paper_bgcolor": "white",
          "plot_bgcolor": "white",
          "polar": {
           "angularaxis": {
            "gridcolor": "#EBF0F8",
            "linecolor": "#EBF0F8",
            "ticks": ""
           },
           "bgcolor": "white",
           "radialaxis": {
            "gridcolor": "#EBF0F8",
            "linecolor": "#EBF0F8",
            "ticks": ""
           }
          },
          "scene": {
           "xaxis": {
            "backgroundcolor": "white",
            "gridcolor": "#DFE8F3",
            "gridwidth": 2,
            "linecolor": "#EBF0F8",
            "showbackground": true,
            "ticks": "",
            "zerolinecolor": "#EBF0F8"
           },
           "yaxis": {
            "backgroundcolor": "white",
            "gridcolor": "#DFE8F3",
            "gridwidth": 2,
            "linecolor": "#EBF0F8",
            "showbackground": true,
            "ticks": "",
            "zerolinecolor": "#EBF0F8"
           },
           "zaxis": {
            "backgroundcolor": "white",
            "gridcolor": "#DFE8F3",
            "gridwidth": 2,
            "linecolor": "#EBF0F8",
            "showbackground": true,
            "ticks": "",
            "zerolinecolor": "#EBF0F8"
           }
          },
          "shapedefaults": {
           "line": {
            "color": "#2a3f5f"
           }
          },
          "ternary": {
           "aaxis": {
            "gridcolor": "#DFE8F3",
            "linecolor": "#A2B1C6",
            "ticks": ""
           },
           "baxis": {
            "gridcolor": "#DFE8F3",
            "linecolor": "#A2B1C6",
            "ticks": ""
           },
           "bgcolor": "white",
           "caxis": {
            "gridcolor": "#DFE8F3",
            "linecolor": "#A2B1C6",
            "ticks": ""
           }
          },
          "title": {
           "x": 0.05
          },
          "xaxis": {
           "automargin": true,
           "gridcolor": "#EBF0F8",
           "linecolor": "#EBF0F8",
           "ticks": "",
           "title": {
            "standoff": 15
           },
           "zerolinecolor": "#EBF0F8",
           "zerolinewidth": 2
          },
          "yaxis": {
           "automargin": true,
           "gridcolor": "#EBF0F8",
           "linecolor": "#EBF0F8",
           "ticks": "",
           "title": {
            "standoff": 15
           },
           "zerolinecolor": "#EBF0F8",
           "zerolinewidth": 2
          }
         }
        },
        "xaxis": {
         "anchor": "y",
         "domain": [
          0,
          1
         ],
         "showticklabels": true,
         "visible": true
        },
        "yaxis": {
         "anchor": "x",
         "domain": [
          0,
          1
         ]
        }
       }
      }
     },
     "metadata": {},
     "output_type": "display_data"
    }
   ],
   "source": [
    "StatsForecast.plot(values)"
   ]
  },
  {
   "cell_type": "code",
   "execution_count": 24,
   "metadata": {},
   "outputs": [
    {
     "data": {
      "text/html": [
       "<div>\n",
       "<style scoped>\n",
       "    .dataframe tbody tr th:only-of-type {\n",
       "        vertical-align: middle;\n",
       "    }\n",
       "\n",
       "    .dataframe tbody tr th {\n",
       "        vertical-align: top;\n",
       "    }\n",
       "\n",
       "    .dataframe thead th {\n",
       "        text-align: right;\n",
       "    }\n",
       "</style>\n",
       "<table border=\"1\" class=\"dataframe\">\n",
       "  <thead>\n",
       "    <tr style=\"text-align: right;\">\n",
       "      <th></th>\n",
       "      <th>ds</th>\n",
       "      <th>SESOpt</th>\n",
       "    </tr>\n",
       "    <tr>\n",
       "      <th>unique_id</th>\n",
       "      <th></th>\n",
       "      <th></th>\n",
       "    </tr>\n",
       "  </thead>\n",
       "  <tbody>\n",
       "    <tr>\n",
       "      <th>1</th>\n",
       "      <td>2017-09-22 00:00:00</td>\n",
       "      <td>80434.515625</td>\n",
       "    </tr>\n",
       "    <tr>\n",
       "      <th>1</th>\n",
       "      <td>2017-09-22 01:00:00</td>\n",
       "      <td>80434.515625</td>\n",
       "    </tr>\n",
       "    <tr>\n",
       "      <th>1</th>\n",
       "      <td>2017-09-22 02:00:00</td>\n",
       "      <td>80434.515625</td>\n",
       "    </tr>\n",
       "    <tr>\n",
       "      <th>1</th>\n",
       "      <td>2017-09-22 03:00:00</td>\n",
       "      <td>80434.515625</td>\n",
       "    </tr>\n",
       "    <tr>\n",
       "      <th>1</th>\n",
       "      <td>2017-09-22 04:00:00</td>\n",
       "      <td>80434.515625</td>\n",
       "    </tr>\n",
       "    <tr>\n",
       "      <th>1</th>\n",
       "      <td>2017-09-22 05:00:00</td>\n",
       "      <td>80434.515625</td>\n",
       "    </tr>\n",
       "    <tr>\n",
       "      <th>1</th>\n",
       "      <td>2017-09-22 06:00:00</td>\n",
       "      <td>80434.515625</td>\n",
       "    </tr>\n",
       "    <tr>\n",
       "      <th>1</th>\n",
       "      <td>2017-09-22 07:00:00</td>\n",
       "      <td>80434.515625</td>\n",
       "    </tr>\n",
       "    <tr>\n",
       "      <th>1</th>\n",
       "      <td>2017-09-22 08:00:00</td>\n",
       "      <td>80434.515625</td>\n",
       "    </tr>\n",
       "    <tr>\n",
       "      <th>1</th>\n",
       "      <td>2017-09-22 09:00:00</td>\n",
       "      <td>80434.515625</td>\n",
       "    </tr>\n",
       "    <tr>\n",
       "      <th>1</th>\n",
       "      <td>2017-09-22 10:00:00</td>\n",
       "      <td>80434.515625</td>\n",
       "    </tr>\n",
       "    <tr>\n",
       "      <th>1</th>\n",
       "      <td>2017-09-22 11:00:00</td>\n",
       "      <td>80434.515625</td>\n",
       "    </tr>\n",
       "    <tr>\n",
       "      <th>1</th>\n",
       "      <td>2017-09-22 12:00:00</td>\n",
       "      <td>80434.515625</td>\n",
       "    </tr>\n",
       "    <tr>\n",
       "      <th>1</th>\n",
       "      <td>2017-09-22 13:00:00</td>\n",
       "      <td>80434.515625</td>\n",
       "    </tr>\n",
       "    <tr>\n",
       "      <th>1</th>\n",
       "      <td>2017-09-22 14:00:00</td>\n",
       "      <td>80434.515625</td>\n",
       "    </tr>\n",
       "    <tr>\n",
       "      <th>1</th>\n",
       "      <td>2017-09-22 15:00:00</td>\n",
       "      <td>80434.515625</td>\n",
       "    </tr>\n",
       "    <tr>\n",
       "      <th>1</th>\n",
       "      <td>2017-09-22 16:00:00</td>\n",
       "      <td>80434.515625</td>\n",
       "    </tr>\n",
       "    <tr>\n",
       "      <th>1</th>\n",
       "      <td>2017-09-22 17:00:00</td>\n",
       "      <td>80434.515625</td>\n",
       "    </tr>\n",
       "    <tr>\n",
       "      <th>1</th>\n",
       "      <td>2017-09-22 18:00:00</td>\n",
       "      <td>80434.515625</td>\n",
       "    </tr>\n",
       "    <tr>\n",
       "      <th>1</th>\n",
       "      <td>2017-09-22 19:00:00</td>\n",
       "      <td>80434.515625</td>\n",
       "    </tr>\n",
       "    <tr>\n",
       "      <th>1</th>\n",
       "      <td>2017-09-22 20:00:00</td>\n",
       "      <td>80434.515625</td>\n",
       "    </tr>\n",
       "    <tr>\n",
       "      <th>1</th>\n",
       "      <td>2017-09-22 21:00:00</td>\n",
       "      <td>80434.515625</td>\n",
       "    </tr>\n",
       "    <tr>\n",
       "      <th>1</th>\n",
       "      <td>2017-09-22 22:00:00</td>\n",
       "      <td>80434.515625</td>\n",
       "    </tr>\n",
       "    <tr>\n",
       "      <th>1</th>\n",
       "      <td>2017-09-22 23:00:00</td>\n",
       "      <td>80434.515625</td>\n",
       "    </tr>\n",
       "    <tr>\n",
       "      <th>1</th>\n",
       "      <td>2017-09-23 00:00:00</td>\n",
       "      <td>80434.515625</td>\n",
       "    </tr>\n",
       "    <tr>\n",
       "      <th>1</th>\n",
       "      <td>2017-09-23 01:00:00</td>\n",
       "      <td>80434.515625</td>\n",
       "    </tr>\n",
       "    <tr>\n",
       "      <th>1</th>\n",
       "      <td>2017-09-23 02:00:00</td>\n",
       "      <td>80434.515625</td>\n",
       "    </tr>\n",
       "    <tr>\n",
       "      <th>1</th>\n",
       "      <td>2017-09-23 03:00:00</td>\n",
       "      <td>80434.515625</td>\n",
       "    </tr>\n",
       "    <tr>\n",
       "      <th>1</th>\n",
       "      <td>2017-09-23 04:00:00</td>\n",
       "      <td>80434.515625</td>\n",
       "    </tr>\n",
       "    <tr>\n",
       "      <th>1</th>\n",
       "      <td>2017-09-23 05:00:00</td>\n",
       "      <td>80434.515625</td>\n",
       "    </tr>\n",
       "  </tbody>\n",
       "</table>\n",
       "</div>"
      ],
      "text/plain": [
       "                           ds        SESOpt\n",
       "unique_id                                  \n",
       "1         2017-09-22 00:00:00  80434.515625\n",
       "1         2017-09-22 01:00:00  80434.515625\n",
       "1         2017-09-22 02:00:00  80434.515625\n",
       "1         2017-09-22 03:00:00  80434.515625\n",
       "1         2017-09-22 04:00:00  80434.515625\n",
       "1         2017-09-22 05:00:00  80434.515625\n",
       "1         2017-09-22 06:00:00  80434.515625\n",
       "1         2017-09-22 07:00:00  80434.515625\n",
       "1         2017-09-22 08:00:00  80434.515625\n",
       "1         2017-09-22 09:00:00  80434.515625\n",
       "1         2017-09-22 10:00:00  80434.515625\n",
       "1         2017-09-22 11:00:00  80434.515625\n",
       "1         2017-09-22 12:00:00  80434.515625\n",
       "1         2017-09-22 13:00:00  80434.515625\n",
       "1         2017-09-22 14:00:00  80434.515625\n",
       "1         2017-09-22 15:00:00  80434.515625\n",
       "1         2017-09-22 16:00:00  80434.515625\n",
       "1         2017-09-22 17:00:00  80434.515625\n",
       "1         2017-09-22 18:00:00  80434.515625\n",
       "1         2017-09-22 19:00:00  80434.515625\n",
       "1         2017-09-22 20:00:00  80434.515625\n",
       "1         2017-09-22 21:00:00  80434.515625\n",
       "1         2017-09-22 22:00:00  80434.515625\n",
       "1         2017-09-22 23:00:00  80434.515625\n",
       "1         2017-09-23 00:00:00  80434.515625\n",
       "1         2017-09-23 01:00:00  80434.515625\n",
       "1         2017-09-23 02:00:00  80434.515625\n",
       "1         2017-09-23 03:00:00  80434.515625\n",
       "1         2017-09-23 04:00:00  80434.515625\n",
       "1         2017-09-23 05:00:00  80434.515625"
      ]
     },
     "execution_count": 24,
     "metadata": {},
     "output_type": "execute_result"
    }
   ],
   "source": [
    "sf.forecast(h=horizon)"
   ]
  },
  {
   "cell_type": "code",
   "execution_count": 25,
   "metadata": {},
   "outputs": [
    {
     "data": {
      "text/html": [
       "<div>\n",
       "<style scoped>\n",
       "    .dataframe tbody tr th:only-of-type {\n",
       "        vertical-align: middle;\n",
       "    }\n",
       "\n",
       "    .dataframe tbody tr th {\n",
       "        vertical-align: top;\n",
       "    }\n",
       "\n",
       "    .dataframe thead th {\n",
       "        text-align: right;\n",
       "    }\n",
       "</style>\n",
       "<table border=\"1\" class=\"dataframe\">\n",
       "  <thead>\n",
       "    <tr style=\"text-align: right;\">\n",
       "      <th></th>\n",
       "      <th>unique_id</th>\n",
       "      <th>ds</th>\n",
       "      <th>SESOpt</th>\n",
       "    </tr>\n",
       "  </thead>\n",
       "  <tbody>\n",
       "    <tr>\n",
       "      <th>0</th>\n",
       "      <td>1</td>\n",
       "      <td>2017-09-22 00:00:00</td>\n",
       "      <td>80434.515625</td>\n",
       "    </tr>\n",
       "    <tr>\n",
       "      <th>1</th>\n",
       "      <td>1</td>\n",
       "      <td>2017-09-22 01:00:00</td>\n",
       "      <td>80434.515625</td>\n",
       "    </tr>\n",
       "    <tr>\n",
       "      <th>2</th>\n",
       "      <td>1</td>\n",
       "      <td>2017-09-22 02:00:00</td>\n",
       "      <td>80434.515625</td>\n",
       "    </tr>\n",
       "    <tr>\n",
       "      <th>3</th>\n",
       "      <td>1</td>\n",
       "      <td>2017-09-22 03:00:00</td>\n",
       "      <td>80434.515625</td>\n",
       "    </tr>\n",
       "    <tr>\n",
       "      <th>4</th>\n",
       "      <td>1</td>\n",
       "      <td>2017-09-22 04:00:00</td>\n",
       "      <td>80434.515625</td>\n",
       "    </tr>\n",
       "    <tr>\n",
       "      <th>5</th>\n",
       "      <td>1</td>\n",
       "      <td>2017-09-22 05:00:00</td>\n",
       "      <td>80434.515625</td>\n",
       "    </tr>\n",
       "    <tr>\n",
       "      <th>6</th>\n",
       "      <td>1</td>\n",
       "      <td>2017-09-22 06:00:00</td>\n",
       "      <td>80434.515625</td>\n",
       "    </tr>\n",
       "    <tr>\n",
       "      <th>7</th>\n",
       "      <td>1</td>\n",
       "      <td>2017-09-22 07:00:00</td>\n",
       "      <td>80434.515625</td>\n",
       "    </tr>\n",
       "    <tr>\n",
       "      <th>8</th>\n",
       "      <td>1</td>\n",
       "      <td>2017-09-22 08:00:00</td>\n",
       "      <td>80434.515625</td>\n",
       "    </tr>\n",
       "    <tr>\n",
       "      <th>9</th>\n",
       "      <td>1</td>\n",
       "      <td>2017-09-22 09:00:00</td>\n",
       "      <td>80434.515625</td>\n",
       "    </tr>\n",
       "  </tbody>\n",
       "</table>\n",
       "</div>"
      ],
      "text/plain": [
       "  unique_id                  ds        SESOpt\n",
       "0         1 2017-09-22 00:00:00  80434.515625\n",
       "1         1 2017-09-22 01:00:00  80434.515625\n",
       "2         1 2017-09-22 02:00:00  80434.515625\n",
       "3         1 2017-09-22 03:00:00  80434.515625\n",
       "4         1 2017-09-22 04:00:00  80434.515625\n",
       "5         1 2017-09-22 05:00:00  80434.515625\n",
       "6         1 2017-09-22 06:00:00  80434.515625\n",
       "7         1 2017-09-22 07:00:00  80434.515625\n",
       "8         1 2017-09-22 08:00:00  80434.515625\n",
       "9         1 2017-09-22 09:00:00  80434.515625"
      ]
     },
     "execution_count": 25,
     "metadata": {},
     "output_type": "execute_result"
    }
   ],
   "source": [
    "Y_hat=Y_hat.reset_index()\n",
    "Y_hat.head(10)"
   ]
  },
  {
   "attachments": {},
   "cell_type": "markdown",
   "metadata": {},
   "source": [
    "## **7.5 Predict method with confidence interval**\n",
    "\n",
    "To generate forecasts use the predict method.\n",
    "\n",
    "The predict method takes two arguments: forecasts the next `h` (for horizon) and `level`.\n",
    "\n",
    "* `h (int):` represents the forecast h steps into the future. In this case, 30 hours ahead.\n",
    "\n",
    "The forecast object here is a new data frame that includes a column with the name of the model and the y hat values, as well as columns for the uncertainty intervals.\n",
    "\n",
    "This step should take less than 1 second."
   ]
  },
  {
   "cell_type": "code",
   "execution_count": 26,
   "metadata": {},
   "outputs": [
    {
     "data": {
      "text/html": [
       "<div>\n",
       "<style scoped>\n",
       "    .dataframe tbody tr th:only-of-type {\n",
       "        vertical-align: middle;\n",
       "    }\n",
       "\n",
       "    .dataframe tbody tr th {\n",
       "        vertical-align: top;\n",
       "    }\n",
       "\n",
       "    .dataframe thead th {\n",
       "        text-align: right;\n",
       "    }\n",
       "</style>\n",
       "<table border=\"1\" class=\"dataframe\">\n",
       "  <thead>\n",
       "    <tr style=\"text-align: right;\">\n",
       "      <th></th>\n",
       "      <th>ds</th>\n",
       "      <th>SESOpt</th>\n",
       "    </tr>\n",
       "    <tr>\n",
       "      <th>unique_id</th>\n",
       "      <th></th>\n",
       "      <th></th>\n",
       "    </tr>\n",
       "  </thead>\n",
       "  <tbody>\n",
       "    <tr>\n",
       "      <th>1</th>\n",
       "      <td>2017-09-22 00:00:00</td>\n",
       "      <td>80434.515625</td>\n",
       "    </tr>\n",
       "    <tr>\n",
       "      <th>1</th>\n",
       "      <td>2017-09-22 01:00:00</td>\n",
       "      <td>80434.515625</td>\n",
       "    </tr>\n",
       "    <tr>\n",
       "      <th>1</th>\n",
       "      <td>2017-09-22 02:00:00</td>\n",
       "      <td>80434.515625</td>\n",
       "    </tr>\n",
       "    <tr>\n",
       "      <th>1</th>\n",
       "      <td>2017-09-22 03:00:00</td>\n",
       "      <td>80434.515625</td>\n",
       "    </tr>\n",
       "    <tr>\n",
       "      <th>1</th>\n",
       "      <td>2017-09-22 04:00:00</td>\n",
       "      <td>80434.515625</td>\n",
       "    </tr>\n",
       "    <tr>\n",
       "      <th>1</th>\n",
       "      <td>2017-09-22 05:00:00</td>\n",
       "      <td>80434.515625</td>\n",
       "    </tr>\n",
       "    <tr>\n",
       "      <th>1</th>\n",
       "      <td>2017-09-22 06:00:00</td>\n",
       "      <td>80434.515625</td>\n",
       "    </tr>\n",
       "    <tr>\n",
       "      <th>1</th>\n",
       "      <td>2017-09-22 07:00:00</td>\n",
       "      <td>80434.515625</td>\n",
       "    </tr>\n",
       "    <tr>\n",
       "      <th>1</th>\n",
       "      <td>2017-09-22 08:00:00</td>\n",
       "      <td>80434.515625</td>\n",
       "    </tr>\n",
       "    <tr>\n",
       "      <th>1</th>\n",
       "      <td>2017-09-22 09:00:00</td>\n",
       "      <td>80434.515625</td>\n",
       "    </tr>\n",
       "    <tr>\n",
       "      <th>1</th>\n",
       "      <td>2017-09-22 10:00:00</td>\n",
       "      <td>80434.515625</td>\n",
       "    </tr>\n",
       "    <tr>\n",
       "      <th>1</th>\n",
       "      <td>2017-09-22 11:00:00</td>\n",
       "      <td>80434.515625</td>\n",
       "    </tr>\n",
       "    <tr>\n",
       "      <th>1</th>\n",
       "      <td>2017-09-22 12:00:00</td>\n",
       "      <td>80434.515625</td>\n",
       "    </tr>\n",
       "    <tr>\n",
       "      <th>1</th>\n",
       "      <td>2017-09-22 13:00:00</td>\n",
       "      <td>80434.515625</td>\n",
       "    </tr>\n",
       "    <tr>\n",
       "      <th>1</th>\n",
       "      <td>2017-09-22 14:00:00</td>\n",
       "      <td>80434.515625</td>\n",
       "    </tr>\n",
       "    <tr>\n",
       "      <th>1</th>\n",
       "      <td>2017-09-22 15:00:00</td>\n",
       "      <td>80434.515625</td>\n",
       "    </tr>\n",
       "    <tr>\n",
       "      <th>1</th>\n",
       "      <td>2017-09-22 16:00:00</td>\n",
       "      <td>80434.515625</td>\n",
       "    </tr>\n",
       "    <tr>\n",
       "      <th>1</th>\n",
       "      <td>2017-09-22 17:00:00</td>\n",
       "      <td>80434.515625</td>\n",
       "    </tr>\n",
       "    <tr>\n",
       "      <th>1</th>\n",
       "      <td>2017-09-22 18:00:00</td>\n",
       "      <td>80434.515625</td>\n",
       "    </tr>\n",
       "    <tr>\n",
       "      <th>1</th>\n",
       "      <td>2017-09-22 19:00:00</td>\n",
       "      <td>80434.515625</td>\n",
       "    </tr>\n",
       "    <tr>\n",
       "      <th>1</th>\n",
       "      <td>2017-09-22 20:00:00</td>\n",
       "      <td>80434.515625</td>\n",
       "    </tr>\n",
       "    <tr>\n",
       "      <th>1</th>\n",
       "      <td>2017-09-22 21:00:00</td>\n",
       "      <td>80434.515625</td>\n",
       "    </tr>\n",
       "    <tr>\n",
       "      <th>1</th>\n",
       "      <td>2017-09-22 22:00:00</td>\n",
       "      <td>80434.515625</td>\n",
       "    </tr>\n",
       "    <tr>\n",
       "      <th>1</th>\n",
       "      <td>2017-09-22 23:00:00</td>\n",
       "      <td>80434.515625</td>\n",
       "    </tr>\n",
       "    <tr>\n",
       "      <th>1</th>\n",
       "      <td>2017-09-23 00:00:00</td>\n",
       "      <td>80434.515625</td>\n",
       "    </tr>\n",
       "    <tr>\n",
       "      <th>1</th>\n",
       "      <td>2017-09-23 01:00:00</td>\n",
       "      <td>80434.515625</td>\n",
       "    </tr>\n",
       "    <tr>\n",
       "      <th>1</th>\n",
       "      <td>2017-09-23 02:00:00</td>\n",
       "      <td>80434.515625</td>\n",
       "    </tr>\n",
       "    <tr>\n",
       "      <th>1</th>\n",
       "      <td>2017-09-23 03:00:00</td>\n",
       "      <td>80434.515625</td>\n",
       "    </tr>\n",
       "    <tr>\n",
       "      <th>1</th>\n",
       "      <td>2017-09-23 04:00:00</td>\n",
       "      <td>80434.515625</td>\n",
       "    </tr>\n",
       "    <tr>\n",
       "      <th>1</th>\n",
       "      <td>2017-09-23 05:00:00</td>\n",
       "      <td>80434.515625</td>\n",
       "    </tr>\n",
       "  </tbody>\n",
       "</table>\n",
       "</div>"
      ],
      "text/plain": [
       "                           ds        SESOpt\n",
       "unique_id                                  \n",
       "1         2017-09-22 00:00:00  80434.515625\n",
       "1         2017-09-22 01:00:00  80434.515625\n",
       "1         2017-09-22 02:00:00  80434.515625\n",
       "1         2017-09-22 03:00:00  80434.515625\n",
       "1         2017-09-22 04:00:00  80434.515625\n",
       "1         2017-09-22 05:00:00  80434.515625\n",
       "1         2017-09-22 06:00:00  80434.515625\n",
       "1         2017-09-22 07:00:00  80434.515625\n",
       "1         2017-09-22 08:00:00  80434.515625\n",
       "1         2017-09-22 09:00:00  80434.515625\n",
       "1         2017-09-22 10:00:00  80434.515625\n",
       "1         2017-09-22 11:00:00  80434.515625\n",
       "1         2017-09-22 12:00:00  80434.515625\n",
       "1         2017-09-22 13:00:00  80434.515625\n",
       "1         2017-09-22 14:00:00  80434.515625\n",
       "1         2017-09-22 15:00:00  80434.515625\n",
       "1         2017-09-22 16:00:00  80434.515625\n",
       "1         2017-09-22 17:00:00  80434.515625\n",
       "1         2017-09-22 18:00:00  80434.515625\n",
       "1         2017-09-22 19:00:00  80434.515625\n",
       "1         2017-09-22 20:00:00  80434.515625\n",
       "1         2017-09-22 21:00:00  80434.515625\n",
       "1         2017-09-22 22:00:00  80434.515625\n",
       "1         2017-09-22 23:00:00  80434.515625\n",
       "1         2017-09-23 00:00:00  80434.515625\n",
       "1         2017-09-23 01:00:00  80434.515625\n",
       "1         2017-09-23 02:00:00  80434.515625\n",
       "1         2017-09-23 03:00:00  80434.515625\n",
       "1         2017-09-23 04:00:00  80434.515625\n",
       "1         2017-09-23 05:00:00  80434.515625"
      ]
     },
     "execution_count": 26,
     "metadata": {},
     "output_type": "execute_result"
    }
   ],
   "source": [
    "forecast_df = sf.predict(h=horizon) \n",
    "\n",
    "forecast_df"
   ]
  },
  {
   "attachments": {},
   "cell_type": "markdown",
   "metadata": {},
   "source": [
    "We can join the forecast result with the historical data using the pandas function `pd.concat()`, and then be able to use this result for graphing."
   ]
  },
  {
   "cell_type": "code",
   "execution_count": 27,
   "metadata": {},
   "outputs": [
    {
     "data": {
      "text/html": [
       "<div>\n",
       "<style scoped>\n",
       "    .dataframe tbody tr th:only-of-type {\n",
       "        vertical-align: middle;\n",
       "    }\n",
       "\n",
       "    .dataframe tbody tr th {\n",
       "        vertical-align: top;\n",
       "    }\n",
       "\n",
       "    .dataframe thead th {\n",
       "        text-align: right;\n",
       "    }\n",
       "</style>\n",
       "<table border=\"1\" class=\"dataframe\">\n",
       "  <thead>\n",
       "    <tr style=\"text-align: right;\">\n",
       "      <th></th>\n",
       "      <th>y</th>\n",
       "      <th>unique_id</th>\n",
       "      <th>SESOpt</th>\n",
       "    </tr>\n",
       "    <tr>\n",
       "      <th>ds</th>\n",
       "      <th></th>\n",
       "      <th></th>\n",
       "      <th></th>\n",
       "    </tr>\n",
       "  </thead>\n",
       "  <tbody>\n",
       "    <tr>\n",
       "      <th>2017-09-13 00:00:00</th>\n",
       "      <td>80115.0</td>\n",
       "      <td>1</td>\n",
       "      <td>NaN</td>\n",
       "    </tr>\n",
       "    <tr>\n",
       "      <th>2017-09-13 01:00:00</th>\n",
       "      <td>79885.0</td>\n",
       "      <td>1</td>\n",
       "      <td>NaN</td>\n",
       "    </tr>\n",
       "    <tr>\n",
       "      <th>2017-09-13 02:00:00</th>\n",
       "      <td>89325.0</td>\n",
       "      <td>1</td>\n",
       "      <td>NaN</td>\n",
       "    </tr>\n",
       "    <tr>\n",
       "      <th>2017-09-13 03:00:00</th>\n",
       "      <td>101930.0</td>\n",
       "      <td>1</td>\n",
       "      <td>NaN</td>\n",
       "    </tr>\n",
       "    <tr>\n",
       "      <th>2017-09-13 04:00:00</th>\n",
       "      <td>121630.0</td>\n",
       "      <td>1</td>\n",
       "      <td>NaN</td>\n",
       "    </tr>\n",
       "    <tr>\n",
       "      <th>...</th>\n",
       "      <td>...</td>\n",
       "      <td>...</td>\n",
       "      <td>...</td>\n",
       "    </tr>\n",
       "    <tr>\n",
       "      <th>2017-09-23 01:00:00</th>\n",
       "      <td>NaN</td>\n",
       "      <td>NaN</td>\n",
       "      <td>80434.515625</td>\n",
       "    </tr>\n",
       "    <tr>\n",
       "      <th>2017-09-23 02:00:00</th>\n",
       "      <td>NaN</td>\n",
       "      <td>NaN</td>\n",
       "      <td>80434.515625</td>\n",
       "    </tr>\n",
       "    <tr>\n",
       "      <th>2017-09-23 03:00:00</th>\n",
       "      <td>NaN</td>\n",
       "      <td>NaN</td>\n",
       "      <td>80434.515625</td>\n",
       "    </tr>\n",
       "    <tr>\n",
       "      <th>2017-09-23 04:00:00</th>\n",
       "      <td>NaN</td>\n",
       "      <td>NaN</td>\n",
       "      <td>80434.515625</td>\n",
       "    </tr>\n",
       "    <tr>\n",
       "      <th>2017-09-23 05:00:00</th>\n",
       "      <td>NaN</td>\n",
       "      <td>NaN</td>\n",
       "      <td>80434.515625</td>\n",
       "    </tr>\n",
       "  </tbody>\n",
       "</table>\n",
       "<p>246 rows × 3 columns</p>\n",
       "</div>"
      ],
      "text/plain": [
       "                            y unique_id        SESOpt\n",
       "ds                                                   \n",
       "2017-09-13 00:00:00   80115.0         1           NaN\n",
       "2017-09-13 01:00:00   79885.0         1           NaN\n",
       "2017-09-13 02:00:00   89325.0         1           NaN\n",
       "2017-09-13 03:00:00  101930.0         1           NaN\n",
       "2017-09-13 04:00:00  121630.0         1           NaN\n",
       "...                       ...       ...           ...\n",
       "2017-09-23 01:00:00       NaN       NaN  80434.515625\n",
       "2017-09-23 02:00:00       NaN       NaN  80434.515625\n",
       "2017-09-23 03:00:00       NaN       NaN  80434.515625\n",
       "2017-09-23 04:00:00       NaN       NaN  80434.515625\n",
       "2017-09-23 05:00:00       NaN       NaN  80434.515625\n",
       "\n",
       "[246 rows x 3 columns]"
      ]
     },
     "execution_count": 27,
     "metadata": {},
     "output_type": "execute_result"
    }
   ],
   "source": [
    "df_plot=pd.concat([df, forecast_df]).set_index('ds')\n",
    "df_plot"
   ]
  },
  {
   "cell_type": "code",
   "execution_count": 39,
   "metadata": {},
   "outputs": [
    {
     "data": {
      "image/png": "[encoded data removed]",
      "text/plain": [
       "<Figure size 1800x700 with 1 Axes>"
      ]
     },
     "metadata": {},
     "output_type": "display_data"
    }
   ],
   "source": [
    "# Plot the data and the exponentially smoothed data\n",
    "plt.plot(df_plot['y'],label=\"Actual\", linewidth=2.5)\n",
    "plt.plot(df_plot['SESOpt'], label=\"SESOpt\") # '-', '--', '-.', ':',\n",
    "#sns.lineplot(fitted,x=\"ds\", y=\"fitted\", label=\"Fitted\", linestyle=\"--\", )  # '-', '--', '-.', ':',\n",
    "plt.title(\"Ads watched (hourly data)\");\n",
    "plt.ylabel(\"\")\n",
    "plt.legend()\n",
    "plt.show()"
   ]
  },
  {
   "attachments": {},
   "cell_type": "markdown",
   "metadata": {},
   "source": [
    "Let's plot the same graph using the plot function that comes in `Statsforecast`, as shown below."
   ]
  },
  {
   "cell_type": "code",
   "execution_count": 29,
   "metadata": {},
   "outputs": [
    {
     "data": {
      "application/vnd.plotly.v1+json": {
       "config": {
        "plotlyServerURL": "https://plot.ly"
       },
       "data": [
        {
         "legendgroup": "y",
         "line": {
          "color": "#1f77b4",
          "width": 1
         },
         "mode": "lines",
         "name": "y",
         "showlegend": true,
         "type": "scatter",
         "x": [
          "2017-09-13T00:00:00",
          "2017-09-13T01:00:00",
          "2017-09-13T02:00:00",
          "2017-09-13T03:00:00",
          "2017-09-13T04:00:00",
          "2017-09-13T05:00:00",
          "2017-09-13T06:00:00",
          "2017-09-13T07:00:00",
          "2017-09-13T08:00:00",
          "2017-09-13T09:00:00",
          "2017-09-13T10:00:00",
          "2017-09-13T11:00:00",
          "2017-09-13T12:00:00",
          "2017-09-13T13:00:00",
          "2017-09-13T14:00:00",
          "2017-09-13T15:00:00",
          "2017-09-13T16:00:00",
          "2017-09-13T17:00:00",
          "2017-09-13T18:00:00",
          "2017-09-13T19:00:00",
          "2017-09-13T20:00:00",
          "2017-09-13T21:00:00",
          "2017-09-13T22:00:00",
          "2017-09-13T23:00:00",
          "2017-09-14T00:00:00",
          "2017-09-14T01:00:00",
          "2017-09-14T02:00:00",
          "2017-09-14T03:00:00",
          "2017-09-14T04:00:00",
          "2017-09-14T05:00:00",
          "2017-09-14T06:00:00",
          "2017-09-14T07:00:00",
          "2017-09-14T08:00:00",
          "2017-09-14T09:00:00",
          "2017-09-14T10:00:00",
          "2017-09-14T11:00:00",
          "2017-09-14T12:00:00",
          "2017-09-14T13:00:00",
          "2017-09-14T14:00:00",
          "2017-09-14T15:00:00",
          "2017-09-14T16:00:00",
          "2017-09-14T17:00:00",
          "2017-09-14T18:00:00",
          "2017-09-14T19:00:00",
          "2017-09-14T20:00:00",
          "2017-09-14T21:00:00",
          "2017-09-14T22:00:00",
          "2017-09-14T23:00:00",
          "2017-09-15T00:00:00",
          "2017-09-15T01:00:00",
          "2017-09-15T02:00:00",
          "2017-09-15T03:00:00",
          "2017-09-15T04:00:00",
          "2017-09-15T05:00:00",
          "2017-09-15T06:00:00",
          "2017-09-15T07:00:00",
          "2017-09-15T08:00:00",
          "2017-09-15T09:00:00",
          "2017-09-15T10:00:00",
          "2017-09-15T11:00:00",
          "2017-09-15T12:00:00",
          "2017-09-15T13:00:00",
          "2017-09-15T14:00:00",
          "2017-09-15T15:00:00",
          "2017-09-15T16:00:00",
          "2017-09-15T17:00:00",
          "2017-09-15T18:00:00",
          "2017-09-15T19:00:00",
          "2017-09-15T20:00:00",
          "2017-09-15T21:00:00",
          "2017-09-15T22:00:00",
          "2017-09-15T23:00:00",
          "2017-09-16T00:00:00",
          "2017-09-16T01:00:00",
          "2017-09-16T02:00:00",
          "2017-09-16T03:00:00",
          "2017-09-16T04:00:00",
          "2017-09-16T05:00:00",
          "2017-09-16T06:00:00",
          "2017-09-16T07:00:00",
          "2017-09-16T08:00:00",
          "2017-09-16T09:00:00",
          "2017-09-16T10:00:00",
          "2017-09-16T11:00:00",
          "2017-09-16T12:00:00",
          "2017-09-16T13:00:00",
          "2017-09-16T14:00:00",
          "2017-09-16T15:00:00",
          "2017-09-16T16:00:00",
          "2017-09-16T17:00:00",
          "2017-09-16T18:00:00",
          "2017-09-16T19:00:00",
          "2017-09-16T20:00:00",
          "2017-09-16T21:00:00",
          "2017-09-16T22:00:00",
          "2017-09-16T23:00:00",
          "2017-09-17T00:00:00",
          "2017-09-17T01:00:00",
          "2017-09-17T02:00:00",
          "2017-09-17T03:00:00",
          "2017-09-17T04:00:00",
          "2017-09-17T05:00:00",
          "2017-09-17T06:00:00",
          "2017-09-17T07:00:00",
          "2017-09-17T08:00:00",
          "2017-09-17T09:00:00",
          "2017-09-17T10:00:00",
          "2017-09-17T11:00:00",
          "2017-09-17T12:00:00",
          "2017-09-17T13:00:00",
          "2017-09-17T14:00:00",
          "2017-09-17T15:00:00",
          "2017-09-17T16:00:00",
          "2017-09-17T17:00:00",
          "2017-09-17T18:00:00",
          "2017-09-17T19:00:00",
          "2017-09-17T20:00:00",
          "2017-09-17T21:00:00",
          "2017-09-17T22:00:00",
          "2017-09-17T23:00:00",
          "2017-09-18T00:00:00",
          "2017-09-18T01:00:00",
          "2017-09-18T02:00:00",
          "2017-09-18T03:00:00",
          "2017-09-18T04:00:00",
          "2017-09-18T05:00:00",
          "2017-09-18T06:00:00",
          "2017-09-18T07:00:00",
          "2017-09-18T08:00:00",
          "2017-09-18T09:00:00",
          "2017-09-18T10:00:00",
          "2017-09-18T11:00:00",
          "2017-09-18T12:00:00",
          "2017-09-18T13:00:00",
          "2017-09-18T14:00:00",
          "2017-09-18T15:00:00",
          "2017-09-18T16:00:00",
          "2017-09-18T17:00:00",
          "2017-09-18T18:00:00",
          "2017-09-18T19:00:00",
          "2017-09-18T20:00:00",
          "2017-09-18T21:00:00",
          "2017-09-18T22:00:00",
          "2017-09-18T23:00:00",
          "2017-09-19T00:00:00",
          "2017-09-19T01:00:00",
          "2017-09-19T02:00:00",
          "2017-09-19T03:00:00",
          "2017-09-19T04:00:00",
          "2017-09-19T05:00:00",
          "2017-09-19T06:00:00",
          "2017-09-19T07:00:00",
          "2017-09-19T08:00:00",
          "2017-09-19T09:00:00",
          "2017-09-19T10:00:00",
          "2017-09-19T11:00:00",
          "2017-09-19T12:00:00",
          "2017-09-19T13:00:00",
          "2017-09-19T14:00:00",
          "2017-09-19T15:00:00",
          "2017-09-19T16:00:00",
          "2017-09-19T17:00:00",
          "2017-09-19T18:00:00",
          "2017-09-19T19:00:00",
          "2017-09-19T20:00:00",
          "2017-09-19T21:00:00",
          "2017-09-19T22:00:00",
          "2017-09-19T23:00:00",
          "2017-09-20T00:00:00",
          "2017-09-20T01:00:00",
          "2017-09-20T02:00:00",
          "2017-09-20T03:00:00",
          "2017-09-20T04:00:00",
          "2017-09-20T05:00:00",
          "2017-09-20T06:00:00",
          "2017-09-20T07:00:00",
          "2017-09-20T08:00:00",
          "2017-09-20T09:00:00",
          "2017-09-20T10:00:00",
          "2017-09-20T11:00:00",
          "2017-09-20T12:00:00",
          "2017-09-20T13:00:00",
          "2017-09-20T14:00:00",
          "2017-09-20T15:00:00",
          "2017-09-20T16:00:00",
          "2017-09-20T17:00:00",
          "2017-09-20T18:00:00",
          "2017-09-20T19:00:00",
          "2017-09-20T20:00:00",
          "2017-09-20T21:00:00",
          "2017-09-20T22:00:00",
          "2017-09-20T23:00:00",
          "2017-09-21T00:00:00",
          "2017-09-21T01:00:00",
          "2017-09-21T02:00:00",
          "2017-09-21T03:00:00",
          "2017-09-21T04:00:00",
          "2017-09-21T05:00:00",
          "2017-09-21T06:00:00",
          "2017-09-21T07:00:00",
          "2017-09-21T08:00:00",
          "2017-09-21T09:00:00",
          "2017-09-21T10:00:00",
          "2017-09-21T11:00:00",
          "2017-09-21T12:00:00",
          "2017-09-21T13:00:00",
          "2017-09-21T14:00:00",
          "2017-09-21T15:00:00",
          "2017-09-21T16:00:00",
          "2017-09-21T17:00:00",
          "2017-09-21T18:00:00",
          "2017-09-21T19:00:00",
          "2017-09-21T20:00:00",
          "2017-09-21T21:00:00",
          "2017-09-21T22:00:00",
          "2017-09-21T23:00:00"
         ],
         "xaxis": "x",
         "y": [
          80115,
          79885,
          89325,
          101930,
          121630,
          116475,
          106495,
          102795,
          108055,
          116125,
          131030,
          149020,
          157590,
          150715,
          149295,
          150100,
          144780,
          150690,
          163840,
          166235,
          139520,
          105895,
          96780,
          82520,
          80125,
          75335,
          85105,
          102080,
          125135,
          118030,
          109225,
          102475,
          102240,
          115840,
          130540,
          144325,
          148970,
          149150,
          148040,
          148810,
          149830,
          150570,
          149440,
          150520,
          129130,
          103815,
          92175,
          82765,
          76315,
          75130,
          82640,
          88795,
          118430,
          115190,
          110940,
          98860,
          104185,
          108665,
          126640,
          140435,
          152470,
          146275,
          148020,
          147735,
          145750,
          149285,
          159725,
          161085,
          135520,
          112945,
          100200,
          87615,
          87835,
          88845,
          92350,
          104465,
          115940,
          128950,
          141385,
          144440,
          143250,
          133190,
          131240,
          142480,
          157375,
          152500,
          153735,
          151195,
          150645,
          147435,
          152525,
          146875,
          125245,
          117925,
          96700,
          93610,
          89060,
          89345,
          90575,
          98290,
          112570,
          129470,
          141405,
          152560,
          152580,
          141170,
          147550,
          161110,
          166335,
          166780,
          163140,
          157305,
          159055,
          160020,
          168345,
          169900,
          142710,
          112955,
          97345,
          81675,
          79510,
          78350,
          88045,
          99790,
          123780,
          111325,
          99440,
          97655,
          97655,
          102565,
          119930,
          135755,
          140120,
          141730,
          142220,
          145360,
          145335,
          150410,
          161520,
          153415,
          134720,
          107065,
          95045,
          79515,
          78335,
          74670,
          81990,
          97950,
          119345,
          113115,
          98880,
          94000,
          93660,
          104185,
          119750,
          135990,
          146455,
          139165,
          147225,
          144935,
          151370,
          156080,
          161385,
          165010,
          134090,
          105585,
          92855,
          79270,
          79980,
          78110,
          85785,
          100010,
          123880,
          116335,
          104290,
          101440,
          97635,
          108265,
          121250,
          140850,
          138555,
          140990,
          141525,
          141590,
          140610,
          139515,
          146215,
          142425,
          123945,
          101360,
          88170,
          76050,
          70335,
          72150,
          80195,
          94945,
          121910,
          113950,
          106495,
          97290,
          98860,
          105635,
          114380,
          132335,
          146630,
          141995,
          142815,
          146020,
          152120,
          151790,
          155665,
          155890,
          123395,
          103080,
          95155,
          80285
         ],
         "yaxis": "y"
        },
        {
         "legendgroup": "SESOpt",
         "line": {
          "color": "#393b79",
          "width": 1
         },
         "mode": "lines",
         "name": "SESOpt",
         "showlegend": true,
         "type": "scatter",
         "x": [
          "2017-09-22T00:00:00",
          "2017-09-22T01:00:00",
          "2017-09-22T02:00:00",
          "2017-09-22T03:00:00",
          "2017-09-22T04:00:00",
          "2017-09-22T05:00:00",
          "2017-09-22T06:00:00",
          "2017-09-22T07:00:00",
          "2017-09-22T08:00:00",
          "2017-09-22T09:00:00",
          "2017-09-22T10:00:00",
          "2017-09-22T11:00:00",
          "2017-09-22T12:00:00",
          "2017-09-22T13:00:00",
          "2017-09-22T14:00:00",
          "2017-09-22T15:00:00",
          "2017-09-22T16:00:00",
          "2017-09-22T17:00:00",
          "2017-09-22T18:00:00",
          "2017-09-22T19:00:00",
          "2017-09-22T20:00:00",
          "2017-09-22T21:00:00",
          "2017-09-22T22:00:00",
          "2017-09-22T23:00:00",
          "2017-09-23T00:00:00",
          "2017-09-23T01:00:00",
          "2017-09-23T02:00:00",
          "2017-09-23T03:00:00",
          "2017-09-23T04:00:00",
          "2017-09-23T05:00:00"
         ],
         "xaxis": "x",
         "y": [
          80434.516,
          80434.516,
          80434.516,
          80434.516,
          80434.516,
          80434.516,
          80434.516,
          80434.516,
          80434.516,
          80434.516,
          80434.516,
          80434.516,
          80434.516,
          80434.516,
          80434.516,
          80434.516,
          80434.516,
          80434.516,
          80434.516,
          80434.516,
          80434.516,
          80434.516,
          80434.516,
          80434.516,
          80434.516,
          80434.516,
          80434.516,
          80434.516,
          80434.516,
          80434.516
         ],
         "yaxis": "y"
        }
       ],
       "layout": {
        "annotations": [
         {
          "font": {
           "size": 10
          },
          "showarrow": false,
          "text": "1",
          "x": 0.5,
          "xanchor": "center",
          "xref": "paper",
          "y": 1,
          "yanchor": "bottom",
          "yref": "paper"
         },
         {
          "font": {
           "size": 10
          },
          "showarrow": false,
          "text": "Datestamp [ds]",
          "x": 0.5,
          "xanchor": "center",
          "xref": "paper",
          "y": 0,
          "yanchor": "top",
          "yref": "paper",
          "yshift": -30
         },
         {
          "font": {
           "size": 10
          },
          "showarrow": false,
          "text": "Target [y]",
          "textangle": -90,
          "x": 0,
          "xanchor": "right",
          "xref": "paper",
          "xshift": -40,
          "y": 0.5,
          "yanchor": "middle",
          "yref": "paper"
         }
        ],
        "autosize": true,
        "font": {
         "size": 10
        },
        "height": 150,
        "margin": {
         "b": 50,
         "l": 60,
         "r": 10,
         "t": 20
        },
        "template": {
         "data": {
          "bar": [
           {
            "error_x": {
             "color": "#2a3f5f"
            },
            "error_y": {
             "color": "#2a3f5f"
            },
            "marker": {
             "line": {
              "color": "white",
              "width": 0.5
             },
             "pattern": {
              "fillmode": "overlay",
              "size": 10,
              "solidity": 0.2
             }
            },
            "type": "bar"
           }
          ],
          "barpolar": [
           {
            "marker": {
             "line": {
              "color": "white",
              "width": 0.5
             },
             "pattern": {
              "fillmode": "overlay",
              "size": 10,
              "solidity": 0.2
             }
            },
            "type": "barpolar"
           }
          ],
          "carpet": [
           {
            "aaxis": {
             "endlinecolor": "#2a3f5f",
             "gridcolor": "#C8D4E3",
             "linecolor": "#C8D4E3",
             "minorgridcolor": "#C8D4E3",
             "startlinecolor": "#2a3f5f"
            },
            "baxis": {
             "endlinecolor": "#2a3f5f",
             "gridcolor": "#C8D4E3",
             "linecolor": "#C8D4E3",
             "minorgridcolor": "#C8D4E3",
             "startlinecolor": "#2a3f5f"
            },
            "type": "carpet"
           }
          ],
          "choropleth": [
           {
            "colorbar": {
             "outlinewidth": 0,
             "ticks": ""
            },
            "type": "choropleth"
           }
          ],
          "contour": [
           {
            "colorbar": {
             "outlinewidth": 0,
             "ticks": ""
            },
            "colorscale": [
             [
              0,
              "#0d0887"
             ],
             [
              0.1111111111111111,
              "#46039f"
             ],
             [
              0.2222222222222222,
              "#7201a8"
             ],
             [
              0.3333333333333333,
              "#9c179e"
             ],
             [
              0.4444444444444444,
              "#bd3786"
             ],
             [
              0.5555555555555556,
              "#d8576b"
             ],
             [
              0.6666666666666666,
              "#ed7953"
             ],
             [
              0.7777777777777778,
              "#fb9f3a"
             ],
             [
              0.8888888888888888,
              "#fdca26"
             ],
             [
              1,
              "#f0f921"
             ]
            ],
            "type": "contour"
           }
          ],
          "contourcarpet": [
           {
            "colorbar": {
             "outlinewidth": 0,
             "ticks": ""
            },
            "type": "contourcarpet"
           }
          ],
          "heatmap": [
           {
            "colorbar": {
             "outlinewidth": 0,
             "ticks": ""
            },
            "colorscale": [
             [
              0,
              "#0d0887"
             ],
             [
              0.1111111111111111,
              "#46039f"
             ],
             [
              0.2222222222222222,
              "#7201a8"
             ],
             [
              0.3333333333333333,
              "#9c179e"
             ],
             [
              0.4444444444444444,
              "#bd3786"
             ],
             [
              0.5555555555555556,
              "#d8576b"
             ],
             [
              0.6666666666666666,
              "#ed7953"
             ],
             [
              0.7777777777777778,
              "#fb9f3a"
             ],
             [
              0.8888888888888888,
              "#fdca26"
             ],
             [
              1,
              "#f0f921"
             ]
            ],
            "type": "heatmap"
           }
          ],
          "heatmapgl": [
           {
            "colorbar": {
             "outlinewidth": 0,
             "ticks": ""
            },
            "colorscale": [
             [
              0,
              "#0d0887"
             ],
             [
              0.1111111111111111,
              "#46039f"
             ],
             [
              0.2222222222222222,
              "#7201a8"
             ],
             [
              0.3333333333333333,
              "#9c179e"
             ],
             [
              0.4444444444444444,
              "#bd3786"
             ],
             [
              0.5555555555555556,
              "#d8576b"
             ],
             [
              0.6666666666666666,
              "#ed7953"
             ],
             [
              0.7777777777777778,
              "#fb9f3a"
             ],
             [
              0.8888888888888888,
              "#fdca26"
             ],
             [
              1,
              "#f0f921"
             ]
            ],
            "type": "heatmapgl"
           }
          ],
          "histogram": [
           {
            "marker": {
             "pattern": {
              "fillmode": "overlay",
              "size": 10,
              "solidity": 0.2
             }
            },
            "type": "histogram"
           }
          ],
          "histogram2d": [
           {
            "colorbar": {
             "outlinewidth": 0,
             "ticks": ""
            },
            "colorscale": [
             [
              0,
              "#0d0887"
             ],
             [
              0.1111111111111111,
              "#46039f"
             ],
             [
              0.2222222222222222,
              "#7201a8"
             ],
             [
              0.3333333333333333,
              "#9c179e"
             ],
             [
              0.4444444444444444,
              "#bd3786"
             ],
             [
              0.5555555555555556,
              "#d8576b"
             ],
             [
              0.6666666666666666,
              "#ed7953"
             ],
             [
              0.7777777777777778,
              "#fb9f3a"
             ],
             [
              0.8888888888888888,
              "#fdca26"
             ],
             [
              1,
              "#f0f921"
             ]
            ],
            "type": "histogram2d"
           }
          ],
          "histogram2dcontour": [
           {
            "colorbar": {
             "outlinewidth": 0,
             "ticks": ""
            },
            "colorscale": [
             [
              0,
              "#0d0887"
             ],
             [
              0.1111111111111111,
              "#46039f"
             ],
             [
              0.2222222222222222,
              "#7201a8"
             ],
             [
              0.3333333333333333,
              "#9c179e"
             ],
             [
              0.4444444444444444,
              "#bd3786"
             ],
             [
              0.5555555555555556,
              "#d8576b"
             ],
             [
              0.6666666666666666,
              "#ed7953"
             ],
             [
              0.7777777777777778,
              "#fb9f3a"
             ],
             [
              0.8888888888888888,
              "#fdca26"
             ],
             [
              1,
              "#f0f921"
             ]
            ],
            "type": "histogram2dcontour"
           }
          ],
          "mesh3d": [
           {
            "colorbar": {
             "outlinewidth": 0,
             "ticks": ""
            },
            "type": "mesh3d"
           }
          ],
          "parcoords": [
           {
            "line": {
             "colorbar": {
              "outlinewidth": 0,
              "ticks": ""
             }
            },
            "type": "parcoords"
           }
          ],
          "pie": [
           {
            "automargin": true,
            "type": "pie"
           }
          ],
          "scatter": [
           {
            "fillpattern": {
             "fillmode": "overlay",
             "size": 10,
             "solidity": 0.2
            },
            "type": "scatter"
           }
          ],
          "scatter3d": [
           {
            "line": {
             "colorbar": {
              "outlinewidth": 0,
              "ticks": ""
             }
            },
            "marker": {
             "colorbar": {
              "outlinewidth": 0,
              "ticks": ""
             }
            },
            "type": "scatter3d"
           }
          ],
          "scattercarpet": [
           {
            "marker": {
             "colorbar": {
              "outlinewidth": 0,
              "ticks": ""
             }
            },
            "type": "scattercarpet"
           }
          ],
          "scattergeo": [
           {
            "marker": {
             "colorbar": {
              "outlinewidth": 0,
              "ticks": ""
             }
            },
            "type": "scattergeo"
           }
          ],
          "scattergl": [
           {
            "marker": {
             "colorbar": {
              "outlinewidth": 0,
              "ticks": ""
             }
            },
            "type": "scattergl"
           }
          ],
          "scattermapbox": [
           {
            "marker": {
             "colorbar": {
              "outlinewidth": 0,
              "ticks": ""
             }
            },
            "type": "scattermapbox"
           }
          ],
          "scatterpolar": [
           {
            "marker": {
             "colorbar": {
              "outlinewidth": 0,
              "ticks": ""
             }
            },
            "type": "scatterpolar"
           }
          ],
          "scatterpolargl": [
           {
            "marker": {
             "colorbar": {
              "outlinewidth": 0,
              "ticks": ""
             }
            },
            "type": "scatterpolargl"
           }
          ],
          "scatterternary": [
           {
            "marker": {
             "colorbar": {
              "outlinewidth": 0,
              "ticks": ""
             }
            },
            "type": "scatterternary"
           }
          ],
          "surface": [
           {
            "colorbar": {
             "outlinewidth": 0,
             "ticks": ""
            },
            "colorscale": [
             [
              0,
              "#0d0887"
             ],
             [
              0.1111111111111111,
              "#46039f"
             ],
             [
              0.2222222222222222,
              "#7201a8"
             ],
             [
              0.3333333333333333,
              "#9c179e"
             ],
             [
              0.4444444444444444,
              "#bd3786"
             ],
             [
              0.5555555555555556,
              "#d8576b"
             ],
             [
              0.6666666666666666,
              "#ed7953"
             ],
             [
              0.7777777777777778,
              "#fb9f3a"
             ],
             [
              0.8888888888888888,
              "#fdca26"
             ],
             [
              1,
              "#f0f921"
             ]
            ],
            "type": "surface"
           }
          ],
          "table": [
           {
            "cells": {
             "fill": {
              "color": "#EBF0F8"
             },
             "line": {
              "color": "white"
             }
            },
            "header": {
             "fill": {
              "color": "#C8D4E3"
             },
             "line": {
              "color": "white"
             }
            },
            "type": "table"
           }
          ]
         },
         "layout": {
          "annotationdefaults": {
           "arrowcolor": "#2a3f5f",
           "arrowhead": 0,
           "arrowwidth": 1
          },
          "autotypenumbers": "strict",
          "coloraxis": {
           "colorbar": {
            "outlinewidth": 0,
            "ticks": ""
           }
          },
          "colorscale": {
           "diverging": [
            [
             0,
             "#8e0152"
            ],
            [
             0.1,
             "#c51b7d"
            ],
            [
             0.2,
             "#de77ae"
            ],
            [
             0.3,
             "#f1b6da"
            ],
            [
             0.4,
             "#fde0ef"
            ],
            [
             0.5,
             "#f7f7f7"
            ],
            [
             0.6,
             "#e6f5d0"
            ],
            [
             0.7,
             "#b8e186"
            ],
            [
             0.8,
             "#7fbc41"
            ],
            [
             0.9,
             "#4d9221"
            ],
            [
             1,
             "#276419"
            ]
           ],
           "sequential": [
            [
             0,
             "#0d0887"
            ],
            [
             0.1111111111111111,
             "#46039f"
            ],
            [
             0.2222222222222222,
             "#7201a8"
            ],
            [
             0.3333333333333333,
             "#9c179e"
            ],
            [
             0.4444444444444444,
             "#bd3786"
            ],
            [
             0.5555555555555556,
             "#d8576b"
            ],
            [
             0.6666666666666666,
             "#ed7953"
            ],
            [
             0.7777777777777778,
             "#fb9f3a"
            ],
            [
             0.8888888888888888,
             "#fdca26"
            ],
            [
             1,
             "#f0f921"
            ]
           ],
           "sequentialminus": [
            [
             0,
             "#0d0887"
            ],
            [
             0.1111111111111111,
             "#46039f"
            ],
            [
             0.2222222222222222,
             "#7201a8"
            ],
            [
             0.3333333333333333,
             "#9c179e"
            ],
            [
             0.4444444444444444,
             "#bd3786"
            ],
            [
             0.5555555555555556,
             "#d8576b"
            ],
            [
             0.6666666666666666,
             "#ed7953"
            ],
            [
             0.7777777777777778,
             "#fb9f3a"
            ],
            [
             0.8888888888888888,
             "#fdca26"
            ],
            [
             1,
             "#f0f921"
            ]
           ]
          },
          "colorway": [
           "#636efa",
           "#EF553B",
           "#00cc96",
           "#ab63fa",
           "#FFA15A",
           "#19d3f3",
           "#FF6692",
           "#B6E880",
           "#FF97FF",
           "#FECB52"
          ],
          "font": {
           "color": "#2a3f5f"
          },
          "geo": {
           "bgcolor": "white",
           "lakecolor": "white",
           "landcolor": "white",
           "showlakes": true,
           "showland": true,
           "subunitcolor": "#C8D4E3"
          },
          "hoverlabel": {
           "align": "left"
          },
          "hovermode": "closest",
          "mapbox": {
           "style": "light"
          },
          "paper_bgcolor": "white",
          "plot_bgcolor": "white",
          "polar": {
           "angularaxis": {
            "gridcolor": "#EBF0F8",
            "linecolor": "#EBF0F8",
            "ticks": ""
           },
           "bgcolor": "white",
           "radialaxis": {
            "gridcolor": "#EBF0F8",
            "linecolor": "#EBF0F8",
            "ticks": ""
           }
          },
          "scene": {
           "xaxis": {
            "backgroundcolor": "white",
            "gridcolor": "#DFE8F3",
            "gridwidth": 2,
            "linecolor": "#EBF0F8",
            "showbackground": true,
            "ticks": "",
            "zerolinecolor": "#EBF0F8"
           },
           "yaxis": {
            "backgroundcolor": "white",
            "gridcolor": "#DFE8F3",
            "gridwidth": 2,
            "linecolor": "#EBF0F8",
            "showbackground": true,
            "ticks": "",
            "zerolinecolor": "#EBF0F8"
           },
           "zaxis": {
            "backgroundcolor": "white",
            "gridcolor": "#DFE8F3",
            "gridwidth": 2,
            "linecolor": "#EBF0F8",
            "showbackground": true,
            "ticks": "",
            "zerolinecolor": "#EBF0F8"
           }
          },
          "shapedefaults": {
           "line": {
            "color": "#2a3f5f"
           }
          },
          "ternary": {
           "aaxis": {
            "gridcolor": "#DFE8F3",
            "linecolor": "#A2B1C6",
            "ticks": ""
           },
           "baxis": {
            "gridcolor": "#DFE8F3",
            "linecolor": "#A2B1C6",
            "ticks": ""
           },
           "bgcolor": "white",
           "caxis": {
            "gridcolor": "#DFE8F3",
            "linecolor": "#A2B1C6",
            "ticks": ""
           }
          },
          "title": {
           "x": 0.05
          },
          "xaxis": {
           "automargin": true,
           "gridcolor": "#EBF0F8",
           "linecolor": "#EBF0F8",
           "ticks": "",
           "title": {
            "standoff": 15
           },
           "zerolinecolor": "#EBF0F8",
           "zerolinewidth": 2
          },
          "yaxis": {
           "automargin": true,
           "gridcolor": "#EBF0F8",
           "linecolor": "#EBF0F8",
           "ticks": "",
           "title": {
            "standoff": 15
           },
           "zerolinecolor": "#EBF0F8",
           "zerolinewidth": 2
          }
         }
        },
        "xaxis": {
         "anchor": "y",
         "domain": [
          0,
          1
         ],
         "showticklabels": true,
         "visible": true
        },
        "yaxis": {
         "anchor": "x",
         "domain": [
          0,
          1
         ]
        }
       }
      }
     },
     "metadata": {},
     "output_type": "display_data"
    }
   ],
   "source": [
    "sf.plot(df, forecast_df)"
   ]
  },
  {
   "attachments": {},
   "cell_type": "markdown",
   "metadata": {},
   "source": [
    "# **8. Evaluate the model’s performance** <a class=\"anchor\" id=\"8\"></a>\n",
    "\n",
    "[Table of Contents](#0.1)\n",
    "\n",
    "In previous steps, we’ve taken our historical data to predict the future. However, to asses its accuracy we would also like to know how the model would have performed in the past. To assess the accuracy and robustness of your models on your data perform Cross-Validation.\n",
    "\n",
    "With time series data, Cross Validation is done by defining a sliding window across the historical data and predicting the period following it. This form of cross-validation allows us to arrive at a better estimation of our model’s predictive abilities across a wider range of temporal instances while also keeping the data in the training set contiguous as is required by our models.\n",
    "\n",
    "The following graph depicts such a Cross Validation Strategy:\n",
    "\n",
    "![](https://raw.githubusercontent.com/Nixtla/statsforecast/main/nbs/imgs/ChainedWindows.gif)"
   ]
  },
  {
   "attachments": {},
   "cell_type": "markdown",
   "metadata": {},
   "source": [
    "## **8.1 Perform time series cross-validation**\n",
    "\n",
    "Cross-validation of time series models is considered a best practice but most implementations are very slow. The statsforecast library implements cross-validation as a distributed operation, making the process less time-consuming to perform. If you have big datasets you can also perform Cross Validation in a distributed cluster using Ray, Dask or Spark.\n",
    "\n",
    "In this case, we want to evaluate the performance of each model for the last 5 months `(n_windows=)`, forecasting every second months `(step_size=12)`. Depending on your computer, this step should take around 1 min.\n",
    "\n",
    "The cross_validation method from the StatsForecast class takes the following arguments.\n",
    "\n",
    "* `df:` training data frame\n",
    "\n",
    "* `h (int):` represents h steps into the future that are being forecasted. In this case, 30 hours ahead.\n",
    "\n",
    "* `step_size (int):` step size between each window. In other words: how often do you want to run the forecasting processes.\n",
    "\n",
    "* `n_windows(int):` number of windows used for cross validation. In other words: what number of forecasting processes in the past do you want to evaluate."
   ]
  },
  {
   "cell_type": "code",
   "execution_count": 31,
   "metadata": {},
   "outputs": [],
   "source": [
    "crossvalidation_df = sf.cross_validation(df=df,\n",
    "                                         h=horizon,\n",
    "                                         step_size=30,\n",
    "                                         n_windows=3)"
   ]
  },
  {
   "attachments": {},
   "cell_type": "markdown",
   "metadata": {},
   "source": [
    "The crossvaldation_df object is a new data frame that includes the following columns:\n",
    "\n",
    "* `unique_id:` index. If you dont like working with index just run `crossvalidation_df.resetindex()`.\n",
    "* `ds:` datestamp or temporal index\n",
    "* `cutoff:` the last datestamp or temporal index for the `n_windows`.\n",
    "* `y:` true value\n",
    "* `model:` columns with the model’s name and fitted value."
   ]
  },
  {
   "cell_type": "code",
   "execution_count": 32,
   "metadata": {},
   "outputs": [
    {
     "data": {
      "text/html": [
       "<div>\n",
       "<style scoped>\n",
       "    .dataframe tbody tr th:only-of-type {\n",
       "        vertical-align: middle;\n",
       "    }\n",
       "\n",
       "    .dataframe tbody tr th {\n",
       "        vertical-align: top;\n",
       "    }\n",
       "\n",
       "    .dataframe thead th {\n",
       "        text-align: right;\n",
       "    }\n",
       "</style>\n",
       "<table border=\"1\" class=\"dataframe\">\n",
       "  <thead>\n",
       "    <tr style=\"text-align: right;\">\n",
       "      <th></th>\n",
       "      <th>ds</th>\n",
       "      <th>cutoff</th>\n",
       "      <th>y</th>\n",
       "      <th>SESOpt</th>\n",
       "    </tr>\n",
       "    <tr>\n",
       "      <th>unique_id</th>\n",
       "      <th></th>\n",
       "      <th></th>\n",
       "      <th></th>\n",
       "      <th></th>\n",
       "    </tr>\n",
       "  </thead>\n",
       "  <tbody>\n",
       "    <tr>\n",
       "      <th>1</th>\n",
       "      <td>2017-09-18 06:00:00</td>\n",
       "      <td>2017-09-18 05:00:00</td>\n",
       "      <td>99440.0</td>\n",
       "      <td>111447.140625</td>\n",
       "    </tr>\n",
       "    <tr>\n",
       "      <th>1</th>\n",
       "      <td>2017-09-18 07:00:00</td>\n",
       "      <td>2017-09-18 05:00:00</td>\n",
       "      <td>97655.0</td>\n",
       "      <td>111447.140625</td>\n",
       "    </tr>\n",
       "    <tr>\n",
       "      <th>1</th>\n",
       "      <td>2017-09-18 08:00:00</td>\n",
       "      <td>2017-09-18 05:00:00</td>\n",
       "      <td>97655.0</td>\n",
       "      <td>111447.140625</td>\n",
       "    </tr>\n",
       "    <tr>\n",
       "      <th>1</th>\n",
       "      <td>2017-09-18 09:00:00</td>\n",
       "      <td>2017-09-18 05:00:00</td>\n",
       "      <td>102565.0</td>\n",
       "      <td>111447.140625</td>\n",
       "    </tr>\n",
       "    <tr>\n",
       "      <th>1</th>\n",
       "      <td>2017-09-18 10:00:00</td>\n",
       "      <td>2017-09-18 05:00:00</td>\n",
       "      <td>119930.0</td>\n",
       "      <td>111447.140625</td>\n",
       "    </tr>\n",
       "    <tr>\n",
       "      <th>...</th>\n",
       "      <td>...</td>\n",
       "      <td>...</td>\n",
       "      <td>...</td>\n",
       "      <td>...</td>\n",
       "    </tr>\n",
       "    <tr>\n",
       "      <th>1</th>\n",
       "      <td>2017-09-21 19:00:00</td>\n",
       "      <td>2017-09-20 17:00:00</td>\n",
       "      <td>155890.0</td>\n",
       "      <td>139526.046875</td>\n",
       "    </tr>\n",
       "    <tr>\n",
       "      <th>1</th>\n",
       "      <td>2017-09-21 20:00:00</td>\n",
       "      <td>2017-09-20 17:00:00</td>\n",
       "      <td>123395.0</td>\n",
       "      <td>139526.046875</td>\n",
       "    </tr>\n",
       "    <tr>\n",
       "      <th>1</th>\n",
       "      <td>2017-09-21 21:00:00</td>\n",
       "      <td>2017-09-20 17:00:00</td>\n",
       "      <td>103080.0</td>\n",
       "      <td>139526.046875</td>\n",
       "    </tr>\n",
       "    <tr>\n",
       "      <th>1</th>\n",
       "      <td>2017-09-21 22:00:00</td>\n",
       "      <td>2017-09-20 17:00:00</td>\n",
       "      <td>95155.0</td>\n",
       "      <td>139526.046875</td>\n",
       "    </tr>\n",
       "    <tr>\n",
       "      <th>1</th>\n",
       "      <td>2017-09-21 23:00:00</td>\n",
       "      <td>2017-09-20 17:00:00</td>\n",
       "      <td>80285.0</td>\n",
       "      <td>139526.046875</td>\n",
       "    </tr>\n",
       "  </tbody>\n",
       "</table>\n",
       "<p>90 rows × 4 columns</p>\n",
       "</div>"
      ],
      "text/plain": [
       "                           ds              cutoff         y         SESOpt\n",
       "unique_id                                                                 \n",
       "1         2017-09-18 06:00:00 2017-09-18 05:00:00   99440.0  111447.140625\n",
       "1         2017-09-18 07:00:00 2017-09-18 05:00:00   97655.0  111447.140625\n",
       "1         2017-09-18 08:00:00 2017-09-18 05:00:00   97655.0  111447.140625\n",
       "1         2017-09-18 09:00:00 2017-09-18 05:00:00  102565.0  111447.140625\n",
       "1         2017-09-18 10:00:00 2017-09-18 05:00:00  119930.0  111447.140625\n",
       "...                       ...                 ...       ...            ...\n",
       "1         2017-09-21 19:00:00 2017-09-20 17:00:00  155890.0  139526.046875\n",
       "1         2017-09-21 20:00:00 2017-09-20 17:00:00  123395.0  139526.046875\n",
       "1         2017-09-21 21:00:00 2017-09-20 17:00:00  103080.0  139526.046875\n",
       "1         2017-09-21 22:00:00 2017-09-20 17:00:00   95155.0  139526.046875\n",
       "1         2017-09-21 23:00:00 2017-09-20 17:00:00   80285.0  139526.046875\n",
       "\n",
       "[90 rows x 4 columns]"
      ]
     },
     "execution_count": 32,
     "metadata": {},
     "output_type": "execute_result"
    }
   ],
   "source": [
    "crossvalidation_df"
   ]
  },
  {
   "cell_type": "code",
   "execution_count": 33,
   "metadata": {},
   "outputs": [
    {
     "data": {
      "application/vnd.plotly.v1+json": {
       "config": {
        "plotlyServerURL": "https://plot.ly"
       },
       "data": [
        {
         "legendgroup": "y",
         "line": {
          "color": "#1f77b4",
          "width": 1
         },
         "mode": "lines",
         "name": "y",
         "showlegend": true,
         "type": "scatter",
         "x": [
          "2017-09-13T00:00:00",
          "2017-09-13T01:00:00",
          "2017-09-13T02:00:00",
          "2017-09-13T03:00:00",
          "2017-09-13T04:00:00",
          "2017-09-13T05:00:00",
          "2017-09-13T06:00:00",
          "2017-09-13T07:00:00",
          "2017-09-13T08:00:00",
          "2017-09-13T09:00:00",
          "2017-09-13T10:00:00",
          "2017-09-13T11:00:00",
          "2017-09-13T12:00:00",
          "2017-09-13T13:00:00",
          "2017-09-13T14:00:00",
          "2017-09-13T15:00:00",
          "2017-09-13T16:00:00",
          "2017-09-13T17:00:00",
          "2017-09-13T18:00:00",
          "2017-09-13T19:00:00",
          "2017-09-13T20:00:00",
          "2017-09-13T21:00:00",
          "2017-09-13T22:00:00",
          "2017-09-13T23:00:00",
          "2017-09-14T00:00:00",
          "2017-09-14T01:00:00",
          "2017-09-14T02:00:00",
          "2017-09-14T03:00:00",
          "2017-09-14T04:00:00",
          "2017-09-14T05:00:00",
          "2017-09-14T06:00:00",
          "2017-09-14T07:00:00",
          "2017-09-14T08:00:00",
          "2017-09-14T09:00:00",
          "2017-09-14T10:00:00",
          "2017-09-14T11:00:00",
          "2017-09-14T12:00:00",
          "2017-09-14T13:00:00",
          "2017-09-14T14:00:00",
          "2017-09-14T15:00:00",
          "2017-09-14T16:00:00",
          "2017-09-14T17:00:00",
          "2017-09-14T18:00:00",
          "2017-09-14T19:00:00",
          "2017-09-14T20:00:00",
          "2017-09-14T21:00:00",
          "2017-09-14T22:00:00",
          "2017-09-14T23:00:00",
          "2017-09-15T00:00:00",
          "2017-09-15T01:00:00",
          "2017-09-15T02:00:00",
          "2017-09-15T03:00:00",
          "2017-09-15T04:00:00",
          "2017-09-15T05:00:00",
          "2017-09-15T06:00:00",
          "2017-09-15T07:00:00",
          "2017-09-15T08:00:00",
          "2017-09-15T09:00:00",
          "2017-09-15T10:00:00",
          "2017-09-15T11:00:00",
          "2017-09-15T12:00:00",
          "2017-09-15T13:00:00",
          "2017-09-15T14:00:00",
          "2017-09-15T15:00:00",
          "2017-09-15T16:00:00",
          "2017-09-15T17:00:00",
          "2017-09-15T18:00:00",
          "2017-09-15T19:00:00",
          "2017-09-15T20:00:00",
          "2017-09-15T21:00:00",
          "2017-09-15T22:00:00",
          "2017-09-15T23:00:00",
          "2017-09-16T00:00:00",
          "2017-09-16T01:00:00",
          "2017-09-16T02:00:00",
          "2017-09-16T03:00:00",
          "2017-09-16T04:00:00",
          "2017-09-16T05:00:00",
          "2017-09-16T06:00:00",
          "2017-09-16T07:00:00",
          "2017-09-16T08:00:00",
          "2017-09-16T09:00:00",
          "2017-09-16T10:00:00",
          "2017-09-16T11:00:00",
          "2017-09-16T12:00:00",
          "2017-09-16T13:00:00",
          "2017-09-16T14:00:00",
          "2017-09-16T15:00:00",
          "2017-09-16T16:00:00",
          "2017-09-16T17:00:00",
          "2017-09-16T18:00:00",
          "2017-09-16T19:00:00",
          "2017-09-16T20:00:00",
          "2017-09-16T21:00:00",
          "2017-09-16T22:00:00",
          "2017-09-16T23:00:00",
          "2017-09-17T00:00:00",
          "2017-09-17T01:00:00",
          "2017-09-17T02:00:00",
          "2017-09-17T03:00:00",
          "2017-09-17T04:00:00",
          "2017-09-17T05:00:00",
          "2017-09-17T06:00:00",
          "2017-09-17T07:00:00",
          "2017-09-17T08:00:00",
          "2017-09-17T09:00:00",
          "2017-09-17T10:00:00",
          "2017-09-17T11:00:00",
          "2017-09-17T12:00:00",
          "2017-09-17T13:00:00",
          "2017-09-17T14:00:00",
          "2017-09-17T15:00:00",
          "2017-09-17T16:00:00",
          "2017-09-17T17:00:00",
          "2017-09-17T18:00:00",
          "2017-09-17T19:00:00",
          "2017-09-17T20:00:00",
          "2017-09-17T21:00:00",
          "2017-09-17T22:00:00",
          "2017-09-17T23:00:00",
          "2017-09-18T00:00:00",
          "2017-09-18T01:00:00",
          "2017-09-18T02:00:00",
          "2017-09-18T03:00:00",
          "2017-09-18T04:00:00",
          "2017-09-18T05:00:00",
          "2017-09-18T06:00:00",
          "2017-09-18T07:00:00",
          "2017-09-18T08:00:00",
          "2017-09-18T09:00:00",
          "2017-09-18T10:00:00",
          "2017-09-18T11:00:00",
          "2017-09-18T12:00:00",
          "2017-09-18T13:00:00",
          "2017-09-18T14:00:00",
          "2017-09-18T15:00:00",
          "2017-09-18T16:00:00",
          "2017-09-18T17:00:00",
          "2017-09-18T18:00:00",
          "2017-09-18T19:00:00",
          "2017-09-18T20:00:00",
          "2017-09-18T21:00:00",
          "2017-09-18T22:00:00",
          "2017-09-18T23:00:00",
          "2017-09-19T00:00:00",
          "2017-09-19T01:00:00",
          "2017-09-19T02:00:00",
          "2017-09-19T03:00:00",
          "2017-09-19T04:00:00",
          "2017-09-19T05:00:00",
          "2017-09-19T06:00:00",
          "2017-09-19T07:00:00",
          "2017-09-19T08:00:00",
          "2017-09-19T09:00:00",
          "2017-09-19T10:00:00",
          "2017-09-19T11:00:00",
          "2017-09-19T12:00:00",
          "2017-09-19T13:00:00",
          "2017-09-19T14:00:00",
          "2017-09-19T15:00:00",
          "2017-09-19T16:00:00",
          "2017-09-19T17:00:00",
          "2017-09-19T18:00:00",
          "2017-09-19T19:00:00",
          "2017-09-19T20:00:00",
          "2017-09-19T21:00:00",
          "2017-09-19T22:00:00",
          "2017-09-19T23:00:00",
          "2017-09-20T00:00:00",
          "2017-09-20T01:00:00",
          "2017-09-20T02:00:00",
          "2017-09-20T03:00:00",
          "2017-09-20T04:00:00",
          "2017-09-20T05:00:00",
          "2017-09-20T06:00:00",
          "2017-09-20T07:00:00",
          "2017-09-20T08:00:00",
          "2017-09-20T09:00:00",
          "2017-09-20T10:00:00",
          "2017-09-20T11:00:00",
          "2017-09-20T12:00:00",
          "2017-09-20T13:00:00",
          "2017-09-20T14:00:00",
          "2017-09-20T15:00:00",
          "2017-09-20T16:00:00",
          "2017-09-20T17:00:00",
          "2017-09-20T18:00:00",
          "2017-09-20T19:00:00",
          "2017-09-20T20:00:00",
          "2017-09-20T21:00:00",
          "2017-09-20T22:00:00",
          "2017-09-20T23:00:00",
          "2017-09-21T00:00:00",
          "2017-09-21T01:00:00",
          "2017-09-21T02:00:00",
          "2017-09-21T03:00:00",
          "2017-09-21T04:00:00",
          "2017-09-21T05:00:00",
          "2017-09-21T06:00:00",
          "2017-09-21T07:00:00",
          "2017-09-21T08:00:00",
          "2017-09-21T09:00:00",
          "2017-09-21T10:00:00",
          "2017-09-21T11:00:00",
          "2017-09-21T12:00:00",
          "2017-09-21T13:00:00",
          "2017-09-21T14:00:00",
          "2017-09-21T15:00:00",
          "2017-09-21T16:00:00",
          "2017-09-21T17:00:00",
          "2017-09-21T18:00:00",
          "2017-09-21T19:00:00",
          "2017-09-21T20:00:00",
          "2017-09-21T21:00:00",
          "2017-09-21T22:00:00",
          "2017-09-21T23:00:00"
         ],
         "xaxis": "x",
         "y": [
          80115,
          79885,
          89325,
          101930,
          121630,
          116475,
          106495,
          102795,
          108055,
          116125,
          131030,
          149020,
          157590,
          150715,
          149295,
          150100,
          144780,
          150690,
          163840,
          166235,
          139520,
          105895,
          96780,
          82520,
          80125,
          75335,
          85105,
          102080,
          125135,
          118030,
          109225,
          102475,
          102240,
          115840,
          130540,
          144325,
          148970,
          149150,
          148040,
          148810,
          149830,
          150570,
          149440,
          150520,
          129130,
          103815,
          92175,
          82765,
          76315,
          75130,
          82640,
          88795,
          118430,
          115190,
          110940,
          98860,
          104185,
          108665,
          126640,
          140435,
          152470,
          146275,
          148020,
          147735,
          145750,
          149285,
          159725,
          161085,
          135520,
          112945,
          100200,
          87615,
          87835,
          88845,
          92350,
          104465,
          115940,
          128950,
          141385,
          144440,
          143250,
          133190,
          131240,
          142480,
          157375,
          152500,
          153735,
          151195,
          150645,
          147435,
          152525,
          146875,
          125245,
          117925,
          96700,
          93610,
          89060,
          89345,
          90575,
          98290,
          112570,
          129470,
          141405,
          152560,
          152580,
          141170,
          147550,
          161110,
          166335,
          166780,
          163140,
          157305,
          159055,
          160020,
          168345,
          169900,
          142710,
          112955,
          97345,
          81675,
          79510,
          78350,
          88045,
          99790,
          123780,
          111325,
          99440,
          97655,
          97655,
          102565,
          119930,
          135755,
          140120,
          141730,
          142220,
          145360,
          145335,
          150410,
          161520,
          153415,
          134720,
          107065,
          95045,
          79515,
          78335,
          74670,
          81990,
          97950,
          119345,
          113115,
          98880,
          94000,
          93660,
          104185,
          119750,
          135990,
          146455,
          139165,
          147225,
          144935,
          151370,
          156080,
          161385,
          165010,
          134090,
          105585,
          92855,
          79270,
          79980,
          78110,
          85785,
          100010,
          123880,
          116335,
          104290,
          101440,
          97635,
          108265,
          121250,
          140850,
          138555,
          140990,
          141525,
          141590,
          140610,
          139515,
          146215,
          142425,
          123945,
          101360,
          88170,
          76050,
          70335,
          72150,
          80195,
          94945,
          121910,
          113950,
          106495,
          97290,
          98860,
          105635,
          114380,
          132335,
          146630,
          141995,
          142815,
          146020,
          152120,
          151790,
          155665,
          155890,
          123395,
          103080,
          95155,
          80285
         ],
         "yaxis": "y"
        },
        {
         "legendgroup": "actual",
         "line": {
          "color": "#393b79",
          "width": 1
         },
         "mode": "lines",
         "name": "actual",
         "showlegend": true,
         "type": "scatter",
         "x": [
          "2017-09-18T06:00:00",
          "2017-09-18T07:00:00",
          "2017-09-18T08:00:00",
          "2017-09-18T09:00:00",
          "2017-09-18T10:00:00",
          "2017-09-18T11:00:00",
          "2017-09-18T12:00:00",
          "2017-09-18T13:00:00",
          "2017-09-18T14:00:00",
          "2017-09-18T15:00:00",
          "2017-09-18T16:00:00",
          "2017-09-18T17:00:00",
          "2017-09-18T18:00:00",
          "2017-09-18T19:00:00",
          "2017-09-18T20:00:00",
          "2017-09-18T21:00:00",
          "2017-09-18T22:00:00",
          "2017-09-18T23:00:00",
          "2017-09-19T00:00:00",
          "2017-09-19T01:00:00",
          "2017-09-19T02:00:00",
          "2017-09-19T03:00:00",
          "2017-09-19T04:00:00",
          "2017-09-19T05:00:00",
          "2017-09-19T06:00:00",
          "2017-09-19T07:00:00",
          "2017-09-19T08:00:00",
          "2017-09-19T09:00:00",
          "2017-09-19T10:00:00",
          "2017-09-19T11:00:00"
         ],
         "xaxis": "x",
         "y": [
          99440,
          97655,
          97655,
          102565,
          119930,
          135755,
          140120,
          141730,
          142220,
          145360,
          145335,
          150410,
          161520,
          153415,
          134720,
          107065,
          95045,
          79515,
          78335,
          74670,
          81990,
          97950,
          119345,
          113115,
          98880,
          94000,
          93660,
          104185,
          119750,
          135990
         ],
         "yaxis": "y"
        },
        {
         "legendgroup": "SESOpt",
         "line": {
          "color": "#e7ba52",
          "width": 1
         },
         "mode": "lines",
         "name": "SESOpt",
         "showlegend": true,
         "type": "scatter",
         "x": [
          "2017-09-18T06:00:00",
          "2017-09-18T07:00:00",
          "2017-09-18T08:00:00",
          "2017-09-18T09:00:00",
          "2017-09-18T10:00:00",
          "2017-09-18T11:00:00",
          "2017-09-18T12:00:00",
          "2017-09-18T13:00:00",
          "2017-09-18T14:00:00",
          "2017-09-18T15:00:00",
          "2017-09-18T16:00:00",
          "2017-09-18T17:00:00",
          "2017-09-18T18:00:00",
          "2017-09-18T19:00:00",
          "2017-09-18T20:00:00",
          "2017-09-18T21:00:00",
          "2017-09-18T22:00:00",
          "2017-09-18T23:00:00",
          "2017-09-19T00:00:00",
          "2017-09-19T01:00:00",
          "2017-09-19T02:00:00",
          "2017-09-19T03:00:00",
          "2017-09-19T04:00:00",
          "2017-09-19T05:00:00",
          "2017-09-19T06:00:00",
          "2017-09-19T07:00:00",
          "2017-09-19T08:00:00",
          "2017-09-19T09:00:00",
          "2017-09-19T10:00:00",
          "2017-09-19T11:00:00"
         ],
         "xaxis": "x",
         "y": [
          111447.14,
          111447.14,
          111447.14,
          111447.14,
          111447.14,
          111447.14,
          111447.14,
          111447.14,
          111447.14,
          111447.14,
          111447.14,
          111447.14,
          111447.14,
          111447.14,
          111447.14,
          111447.14,
          111447.14,
          111447.14,
          111447.14,
          111447.14,
          111447.14,
          111447.14,
          111447.14,
          111447.14,
          111447.14,
          111447.14,
          111447.14,
          111447.14,
          111447.14,
          111447.14
         ],
         "yaxis": "y"
        }
       ],
       "layout": {
        "annotations": [
         {
          "font": {
           "size": 10
          },
          "showarrow": false,
          "text": "1",
          "x": 0.5,
          "xanchor": "center",
          "xref": "paper",
          "y": 1,
          "yanchor": "bottom",
          "yref": "paper"
         },
         {
          "font": {
           "size": 10
          },
          "showarrow": false,
          "text": "Datestamp [ds]",
          "x": 0.5,
          "xanchor": "center",
          "xref": "paper",
          "y": 0,
          "yanchor": "top",
          "yref": "paper",
          "yshift": -30
         },
         {
          "font": {
           "size": 10
          },
          "showarrow": false,
          "text": "Target [y]",
          "textangle": -90,
          "x": 0,
          "xanchor": "right",
          "xref": "paper",
          "xshift": -40,
          "y": 0.5,
          "yanchor": "middle",
          "yref": "paper"
         }
        ],
        "autosize": true,
        "font": {
         "size": 10
        },
        "height": 150,
        "margin": {
         "b": 50,
         "l": 60,
         "r": 10,
         "t": 20
        },
        "template": {
         "data": {
          "bar": [
           {
            "error_x": {
             "color": "#2a3f5f"
            },
            "error_y": {
             "color": "#2a3f5f"
            },
            "marker": {
             "line": {
              "color": "white",
              "width": 0.5
             },
             "pattern": {
              "fillmode": "overlay",
              "size": 10,
              "solidity": 0.2
             }
            },
            "type": "bar"
           }
          ],
          "barpolar": [
           {
            "marker": {
             "line": {
              "color": "white",
              "width": 0.5
             },
             "pattern": {
              "fillmode": "overlay",
              "size": 10,
              "solidity": 0.2
             }
            },
            "type": "barpolar"
           }
          ],
          "carpet": [
           {
            "aaxis": {
             "endlinecolor": "#2a3f5f",
             "gridcolor": "#C8D4E3",
             "linecolor": "#C8D4E3",
             "minorgridcolor": "#C8D4E3",
             "startlinecolor": "#2a3f5f"
            },
            "baxis": {
             "endlinecolor": "#2a3f5f",
             "gridcolor": "#C8D4E3",
             "linecolor": "#C8D4E3",
             "minorgridcolor": "#C8D4E3",
             "startlinecolor": "#2a3f5f"
            },
            "type": "carpet"
           }
          ],
          "choropleth": [
           {
            "colorbar": {
             "outlinewidth": 0,
             "ticks": ""
            },
            "type": "choropleth"
           }
          ],
          "contour": [
           {
            "colorbar": {
             "outlinewidth": 0,
             "ticks": ""
            },
            "colorscale": [
             [
              0,
              "#0d0887"
             ],
             [
              0.1111111111111111,
              "#46039f"
             ],
             [
              0.2222222222222222,
              "#7201a8"
             ],
             [
              0.3333333333333333,
              "#9c179e"
             ],
             [
              0.4444444444444444,
              "#bd3786"
             ],
             [
              0.5555555555555556,
              "#d8576b"
             ],
             [
              0.6666666666666666,
              "#ed7953"
             ],
             [
              0.7777777777777778,
              "#fb9f3a"
             ],
             [
              0.8888888888888888,
              "#fdca26"
             ],
             [
              1,
              "#f0f921"
             ]
            ],
            "type": "contour"
           }
          ],
          "contourcarpet": [
           {
            "colorbar": {
             "outlinewidth": 0,
             "ticks": ""
            },
            "type": "contourcarpet"
           }
          ],
          "heatmap": [
           {
            "colorbar": {
             "outlinewidth": 0,
             "ticks": ""
            },
            "colorscale": [
             [
              0,
              "#0d0887"
             ],
             [
              0.1111111111111111,
              "#46039f"
             ],
             [
              0.2222222222222222,
              "#7201a8"
             ],
             [
              0.3333333333333333,
              "#9c179e"
             ],
             [
              0.4444444444444444,
              "#bd3786"
             ],
             [
              0.5555555555555556,
              "#d8576b"
             ],
             [
              0.6666666666666666,
              "#ed7953"
             ],
             [
              0.7777777777777778,
              "#fb9f3a"
             ],
             [
              0.8888888888888888,
              "#fdca26"
             ],
             [
              1,
              "#f0f921"
             ]
            ],
            "type": "heatmap"
           }
          ],
          "heatmapgl": [
           {
            "colorbar": {
             "outlinewidth": 0,
             "ticks": ""
            },
            "colorscale": [
             [
              0,
              "#0d0887"
             ],
             [
              0.1111111111111111,
              "#46039f"
             ],
             [
              0.2222222222222222,
              "#7201a8"
             ],
             [
              0.3333333333333333,
              "#9c179e"
             ],
             [
              0.4444444444444444,
              "#bd3786"
             ],
             [
              0.5555555555555556,
              "#d8576b"
             ],
             [
              0.6666666666666666,
              "#ed7953"
             ],
             [
              0.7777777777777778,
              "#fb9f3a"
             ],
             [
              0.8888888888888888,
              "#fdca26"
             ],
             [
              1,
              "#f0f921"
             ]
            ],
            "type": "heatmapgl"
           }
          ],
          "histogram": [
           {
            "marker": {
             "pattern": {
              "fillmode": "overlay",
              "size": 10,
              "solidity": 0.2
             }
            },
            "type": "histogram"
           }
          ],
          "histogram2d": [
           {
            "colorbar": {
             "outlinewidth": 0,
             "ticks": ""
            },
            "colorscale": [
             [
              0,
              "#0d0887"
             ],
             [
              0.1111111111111111,
              "#46039f"
             ],
             [
              0.2222222222222222,
              "#7201a8"
             ],
             [
              0.3333333333333333,
              "#9c179e"
             ],
             [
              0.4444444444444444,
              "#bd3786"
             ],
             [
              0.5555555555555556,
              "#d8576b"
             ],
             [
              0.6666666666666666,
              "#ed7953"
             ],
             [
              0.7777777777777778,
              "#fb9f3a"
             ],
             [
              0.8888888888888888,
              "#fdca26"
             ],
             [
              1,
              "#f0f921"
             ]
            ],
            "type": "histogram2d"
           }
          ],
          "histogram2dcontour": [
           {
            "colorbar": {
             "outlinewidth": 0,
             "ticks": ""
            },
            "colorscale": [
             [
              0,
              "#0d0887"
             ],
             [
              0.1111111111111111,
              "#46039f"
             ],
             [
              0.2222222222222222,
              "#7201a8"
             ],
             [
              0.3333333333333333,
              "#9c179e"
             ],
             [
              0.4444444444444444,
              "#bd3786"
             ],
             [
              0.5555555555555556,
              "#d8576b"
             ],
             [
              0.6666666666666666,
              "#ed7953"
             ],
             [
              0.7777777777777778,
              "#fb9f3a"
             ],
             [
              0.8888888888888888,
              "#fdca26"
             ],
             [
              1,
              "#f0f921"
             ]
            ],
            "type": "histogram2dcontour"
           }
          ],
          "mesh3d": [
           {
            "colorbar": {
             "outlinewidth": 0,
             "ticks": ""
            },
            "type": "mesh3d"
           }
          ],
          "parcoords": [
           {
            "line": {
             "colorbar": {
              "outlinewidth": 0,
              "ticks": ""
             }
            },
            "type": "parcoords"
           }
          ],
          "pie": [
           {
            "automargin": true,
            "type": "pie"
           }
          ],
          "scatter": [
           {
            "fillpattern": {
             "fillmode": "overlay",
             "size": 10,
             "solidity": 0.2
            },
            "type": "scatter"
           }
          ],
          "scatter3d": [
           {
            "line": {
             "colorbar": {
              "outlinewidth": 0,
              "ticks": ""
             }
            },
            "marker": {
             "colorbar": {
              "outlinewidth": 0,
              "ticks": ""
             }
            },
            "type": "scatter3d"
           }
          ],
          "scattercarpet": [
           {
            "marker": {
             "colorbar": {
              "outlinewidth": 0,
              "ticks": ""
             }
            },
            "type": "scattercarpet"
           }
          ],
          "scattergeo": [
           {
            "marker": {
             "colorbar": {
              "outlinewidth": 0,
              "ticks": ""
             }
            },
            "type": "scattergeo"
           }
          ],
          "scattergl": [
           {
            "marker": {
             "colorbar": {
              "outlinewidth": 0,
              "ticks": ""
             }
            },
            "type": "scattergl"
           }
          ],
          "scattermapbox": [
           {
            "marker": {
             "colorbar": {
              "outlinewidth": 0,
              "ticks": ""
             }
            },
            "type": "scattermapbox"
           }
          ],
          "scatterpolar": [
           {
            "marker": {
             "colorbar": {
              "outlinewidth": 0,
              "ticks": ""
             }
            },
            "type": "scatterpolar"
           }
          ],
          "scatterpolargl": [
           {
            "marker": {
             "colorbar": {
              "outlinewidth": 0,
              "ticks": ""
             }
            },
            "type": "scatterpolargl"
           }
          ],
          "scatterternary": [
           {
            "marker": {
             "colorbar": {
              "outlinewidth": 0,
              "ticks": ""
             }
            },
            "type": "scatterternary"
           }
          ],
          "surface": [
           {
            "colorbar": {
             "outlinewidth": 0,
             "ticks": ""
            },
            "colorscale": [
             [
              0,
              "#0d0887"
             ],
             [
              0.1111111111111111,
              "#46039f"
             ],
             [
              0.2222222222222222,
              "#7201a8"
             ],
             [
              0.3333333333333333,
              "#9c179e"
             ],
             [
              0.4444444444444444,
              "#bd3786"
             ],
             [
              0.5555555555555556,
              "#d8576b"
             ],
             [
              0.6666666666666666,
              "#ed7953"
             ],
             [
              0.7777777777777778,
              "#fb9f3a"
             ],
             [
              0.8888888888888888,
              "#fdca26"
             ],
             [
              1,
              "#f0f921"
             ]
            ],
            "type": "surface"
           }
          ],
          "table": [
           {
            "cells": {
             "fill": {
              "color": "#EBF0F8"
             },
             "line": {
              "color": "white"
             }
            },
            "header": {
             "fill": {
              "color": "#C8D4E3"
             },
             "line": {
              "color": "white"
             }
            },
            "type": "table"
           }
          ]
         },
         "layout": {
          "annotationdefaults": {
           "arrowcolor": "#2a3f5f",
           "arrowhead": 0,
           "arrowwidth": 1
          },
          "autotypenumbers": "strict",
          "coloraxis": {
           "colorbar": {
            "outlinewidth": 0,
            "ticks": ""
           }
          },
          "colorscale": {
           "diverging": [
            [
             0,
             "#8e0152"
            ],
            [
             0.1,
             "#c51b7d"
            ],
            [
             0.2,
             "#de77ae"
            ],
            [
             0.3,
             "#f1b6da"
            ],
            [
             0.4,
             "#fde0ef"
            ],
            [
             0.5,
             "#f7f7f7"
            ],
            [
             0.6,
             "#e6f5d0"
            ],
            [
             0.7,
             "#b8e186"
            ],
            [
             0.8,
             "#7fbc41"
            ],
            [
             0.9,
             "#4d9221"
            ],
            [
             1,
             "#276419"
            ]
           ],
           "sequential": [
            [
             0,
             "#0d0887"
            ],
            [
             0.1111111111111111,
             "#46039f"
            ],
            [
             0.2222222222222222,
             "#7201a8"
            ],
            [
             0.3333333333333333,
             "#9c179e"
            ],
            [
             0.4444444444444444,
             "#bd3786"
            ],
            [
             0.5555555555555556,
             "#d8576b"
            ],
            [
             0.6666666666666666,
             "#ed7953"
            ],
            [
             0.7777777777777778,
             "#fb9f3a"
            ],
            [
             0.8888888888888888,
             "#fdca26"
            ],
            [
             1,
             "#f0f921"
            ]
           ],
           "sequentialminus": [
            [
             0,
             "#0d0887"
            ],
            [
             0.1111111111111111,
             "#46039f"
            ],
            [
             0.2222222222222222,
             "#7201a8"
            ],
            [
             0.3333333333333333,
             "#9c179e"
            ],
            [
             0.4444444444444444,
             "#bd3786"
            ],
            [
             0.5555555555555556,
             "#d8576b"
            ],
            [
             0.6666666666666666,
             "#ed7953"
            ],
            [
             0.7777777777777778,
             "#fb9f3a"
            ],
            [
             0.8888888888888888,
             "#fdca26"
            ],
            [
             1,
             "#f0f921"
            ]
           ]
          },
          "colorway": [
           "#636efa",
           "#EF553B",
           "#00cc96",
           "#ab63fa",
           "#FFA15A",
           "#19d3f3",
           "#FF6692",
           "#B6E880",
           "#FF97FF",
           "#FECB52"
          ],
          "font": {
           "color": "#2a3f5f"
          },
          "geo": {
           "bgcolor": "white",
           "lakecolor": "white",
           "landcolor": "white",
           "showlakes": true,
           "showland": true,
           "subunitcolor": "#C8D4E3"
          },
          "hoverlabel": {
           "align": "left"
          },
          "hovermode": "closest",
          "mapbox": {
           "style": "light"
          },
          "paper_bgcolor": "white",
          "plot_bgcolor": "white",
          "polar": {
           "angularaxis": {
            "gridcolor": "#EBF0F8",
            "linecolor": "#EBF0F8",
            "ticks": ""
           },
           "bgcolor": "white",
           "radialaxis": {
            "gridcolor": "#EBF0F8",
            "linecolor": "#EBF0F8",
            "ticks": ""
           }
          },
          "scene": {
           "xaxis": {
            "backgroundcolor": "white",
            "gridcolor": "#DFE8F3",
            "gridwidth": 2,
            "linecolor": "#EBF0F8",
            "showbackground": true,
            "ticks": "",
            "zerolinecolor": "#EBF0F8"
           },
           "yaxis": {
            "backgroundcolor": "white",
            "gridcolor": "#DFE8F3",
            "gridwidth": 2,
            "linecolor": "#EBF0F8",
            "showbackground": true,
            "ticks": "",
            "zerolinecolor": "#EBF0F8"
           },
           "zaxis": {
            "backgroundcolor": "white",
            "gridcolor": "#DFE8F3",
            "gridwidth": 2,
            "linecolor": "#EBF0F8",
            "showbackground": true,
            "ticks": "",
            "zerolinecolor": "#EBF0F8"
           }
          },
          "shapedefaults": {
           "line": {
            "color": "#2a3f5f"
           }
          },
          "ternary": {
           "aaxis": {
            "gridcolor": "#DFE8F3",
            "linecolor": "#A2B1C6",
            "ticks": ""
           },
           "baxis": {
            "gridcolor": "#DFE8F3",
            "linecolor": "#A2B1C6",
            "ticks": ""
           },
           "bgcolor": "white",
           "caxis": {
            "gridcolor": "#DFE8F3",
            "linecolor": "#A2B1C6",
            "ticks": ""
           }
          },
          "title": {
           "x": 0.05
          },
          "xaxis": {
           "automargin": true,
           "gridcolor": "#EBF0F8",
           "linecolor": "#EBF0F8",
           "ticks": "",
           "title": {
            "standoff": 15
           },
           "zerolinecolor": "#EBF0F8",
           "zerolinewidth": 2
          },
          "yaxis": {
           "automargin": true,
           "gridcolor": "#EBF0F8",
           "linecolor": "#EBF0F8",
           "ticks": "",
           "title": {
            "standoff": 15
           },
           "zerolinecolor": "#EBF0F8",
           "zerolinewidth": 2
          }
         }
        },
        "xaxis": {
         "anchor": "y",
         "domain": [
          0,
          1
         ],
         "showticklabels": true,
         "visible": true
        },
        "yaxis": {
         "anchor": "x",
         "domain": [
          0,
          1
         ]
        }
       }
      }
     },
     "metadata": {},
     "output_type": "display_data"
    },
    {
     "data": {
      "application/vnd.plotly.v1+json": {
       "config": {
        "plotlyServerURL": "https://plot.ly"
       },
       "data": [
        {
         "legendgroup": "y",
         "line": {
          "color": "#1f77b4",
          "width": 1
         },
         "mode": "lines",
         "name": "y",
         "showlegend": true,
         "type": "scatter",
         "x": [
          "2017-09-13T00:00:00",
          "2017-09-13T01:00:00",
          "2017-09-13T02:00:00",
          "2017-09-13T03:00:00",
          "2017-09-13T04:00:00",
          "2017-09-13T05:00:00",
          "2017-09-13T06:00:00",
          "2017-09-13T07:00:00",
          "2017-09-13T08:00:00",
          "2017-09-13T09:00:00",
          "2017-09-13T10:00:00",
          "2017-09-13T11:00:00",
          "2017-09-13T12:00:00",
          "2017-09-13T13:00:00",
          "2017-09-13T14:00:00",
          "2017-09-13T15:00:00",
          "2017-09-13T16:00:00",
          "2017-09-13T17:00:00",
          "2017-09-13T18:00:00",
          "2017-09-13T19:00:00",
          "2017-09-13T20:00:00",
          "2017-09-13T21:00:00",
          "2017-09-13T22:00:00",
          "2017-09-13T23:00:00",
          "2017-09-14T00:00:00",
          "2017-09-14T01:00:00",
          "2017-09-14T02:00:00",
          "2017-09-14T03:00:00",
          "2017-09-14T04:00:00",
          "2017-09-14T05:00:00",
          "2017-09-14T06:00:00",
          "2017-09-14T07:00:00",
          "2017-09-14T08:00:00",
          "2017-09-14T09:00:00",
          "2017-09-14T10:00:00",
          "2017-09-14T11:00:00",
          "2017-09-14T12:00:00",
          "2017-09-14T13:00:00",
          "2017-09-14T14:00:00",
          "2017-09-14T15:00:00",
          "2017-09-14T16:00:00",
          "2017-09-14T17:00:00",
          "2017-09-14T18:00:00",
          "2017-09-14T19:00:00",
          "2017-09-14T20:00:00",
          "2017-09-14T21:00:00",
          "2017-09-14T22:00:00",
          "2017-09-14T23:00:00",
          "2017-09-15T00:00:00",
          "2017-09-15T01:00:00",
          "2017-09-15T02:00:00",
          "2017-09-15T03:00:00",
          "2017-09-15T04:00:00",
          "2017-09-15T05:00:00",
          "2017-09-15T06:00:00",
          "2017-09-15T07:00:00",
          "2017-09-15T08:00:00",
          "2017-09-15T09:00:00",
          "2017-09-15T10:00:00",
          "2017-09-15T11:00:00",
          "2017-09-15T12:00:00",
          "2017-09-15T13:00:00",
          "2017-09-15T14:00:00",
          "2017-09-15T15:00:00",
          "2017-09-15T16:00:00",
          "2017-09-15T17:00:00",
          "2017-09-15T18:00:00",
          "2017-09-15T19:00:00",
          "2017-09-15T20:00:00",
          "2017-09-15T21:00:00",
          "2017-09-15T22:00:00",
          "2017-09-15T23:00:00",
          "2017-09-16T00:00:00",
          "2017-09-16T01:00:00",
          "2017-09-16T02:00:00",
          "2017-09-16T03:00:00",
          "2017-09-16T04:00:00",
          "2017-09-16T05:00:00",
          "2017-09-16T06:00:00",
          "2017-09-16T07:00:00",
          "2017-09-16T08:00:00",
          "2017-09-16T09:00:00",
          "2017-09-16T10:00:00",
          "2017-09-16T11:00:00",
          "2017-09-16T12:00:00",
          "2017-09-16T13:00:00",
          "2017-09-16T14:00:00",
          "2017-09-16T15:00:00",
          "2017-09-16T16:00:00",
          "2017-09-16T17:00:00",
          "2017-09-16T18:00:00",
          "2017-09-16T19:00:00",
          "2017-09-16T20:00:00",
          "2017-09-16T21:00:00",
          "2017-09-16T22:00:00",
          "2017-09-16T23:00:00",
          "2017-09-17T00:00:00",
          "2017-09-17T01:00:00",
          "2017-09-17T02:00:00",
          "2017-09-17T03:00:00",
          "2017-09-17T04:00:00",
          "2017-09-17T05:00:00",
          "2017-09-17T06:00:00",
          "2017-09-17T07:00:00",
          "2017-09-17T08:00:00",
          "2017-09-17T09:00:00",
          "2017-09-17T10:00:00",
          "2017-09-17T11:00:00",
          "2017-09-17T12:00:00",
          "2017-09-17T13:00:00",
          "2017-09-17T14:00:00",
          "2017-09-17T15:00:00",
          "2017-09-17T16:00:00",
          "2017-09-17T17:00:00",
          "2017-09-17T18:00:00",
          "2017-09-17T19:00:00",
          "2017-09-17T20:00:00",
          "2017-09-17T21:00:00",
          "2017-09-17T22:00:00",
          "2017-09-17T23:00:00",
          "2017-09-18T00:00:00",
          "2017-09-18T01:00:00",
          "2017-09-18T02:00:00",
          "2017-09-18T03:00:00",
          "2017-09-18T04:00:00",
          "2017-09-18T05:00:00",
          "2017-09-18T06:00:00",
          "2017-09-18T07:00:00",
          "2017-09-18T08:00:00",
          "2017-09-18T09:00:00",
          "2017-09-18T10:00:00",
          "2017-09-18T11:00:00",
          "2017-09-18T12:00:00",
          "2017-09-18T13:00:00",
          "2017-09-18T14:00:00",
          "2017-09-18T15:00:00",
          "2017-09-18T16:00:00",
          "2017-09-18T17:00:00",
          "2017-09-18T18:00:00",
          "2017-09-18T19:00:00",
          "2017-09-18T20:00:00",
          "2017-09-18T21:00:00",
          "2017-09-18T22:00:00",
          "2017-09-18T23:00:00",
          "2017-09-19T00:00:00",
          "2017-09-19T01:00:00",
          "2017-09-19T02:00:00",
          "2017-09-19T03:00:00",
          "2017-09-19T04:00:00",
          "2017-09-19T05:00:00",
          "2017-09-19T06:00:00",
          "2017-09-19T07:00:00",
          "2017-09-19T08:00:00",
          "2017-09-19T09:00:00",
          "2017-09-19T10:00:00",
          "2017-09-19T11:00:00",
          "2017-09-19T12:00:00",
          "2017-09-19T13:00:00",
          "2017-09-19T14:00:00",
          "2017-09-19T15:00:00",
          "2017-09-19T16:00:00",
          "2017-09-19T17:00:00",
          "2017-09-19T18:00:00",
          "2017-09-19T19:00:00",
          "2017-09-19T20:00:00",
          "2017-09-19T21:00:00",
          "2017-09-19T22:00:00",
          "2017-09-19T23:00:00",
          "2017-09-20T00:00:00",
          "2017-09-20T01:00:00",
          "2017-09-20T02:00:00",
          "2017-09-20T03:00:00",
          "2017-09-20T04:00:00",
          "2017-09-20T05:00:00",
          "2017-09-20T06:00:00",
          "2017-09-20T07:00:00",
          "2017-09-20T08:00:00",
          "2017-09-20T09:00:00",
          "2017-09-20T10:00:00",
          "2017-09-20T11:00:00",
          "2017-09-20T12:00:00",
          "2017-09-20T13:00:00",
          "2017-09-20T14:00:00",
          "2017-09-20T15:00:00",
          "2017-09-20T16:00:00",
          "2017-09-20T17:00:00",
          "2017-09-20T18:00:00",
          "2017-09-20T19:00:00",
          "2017-09-20T20:00:00",
          "2017-09-20T21:00:00",
          "2017-09-20T22:00:00",
          "2017-09-20T23:00:00",
          "2017-09-21T00:00:00",
          "2017-09-21T01:00:00",
          "2017-09-21T02:00:00",
          "2017-09-21T03:00:00",
          "2017-09-21T04:00:00",
          "2017-09-21T05:00:00",
          "2017-09-21T06:00:00",
          "2017-09-21T07:00:00",
          "2017-09-21T08:00:00",
          "2017-09-21T09:00:00",
          "2017-09-21T10:00:00",
          "2017-09-21T11:00:00",
          "2017-09-21T12:00:00",
          "2017-09-21T13:00:00",
          "2017-09-21T14:00:00",
          "2017-09-21T15:00:00",
          "2017-09-21T16:00:00",
          "2017-09-21T17:00:00",
          "2017-09-21T18:00:00",
          "2017-09-21T19:00:00",
          "2017-09-21T20:00:00",
          "2017-09-21T21:00:00",
          "2017-09-21T22:00:00",
          "2017-09-21T23:00:00"
         ],
         "xaxis": "x",
         "y": [
          80115,
          79885,
          89325,
          101930,
          121630,
          116475,
          106495,
          102795,
          108055,
          116125,
          131030,
          149020,
          157590,
          150715,
          149295,
          150100,
          144780,
          150690,
          163840,
          166235,
          139520,
          105895,
          96780,
          82520,
          80125,
          75335,
          85105,
          102080,
          125135,
          118030,
          109225,
          102475,
          102240,
          115840,
          130540,
          144325,
          148970,
          149150,
          148040,
          148810,
          149830,
          150570,
          149440,
          150520,
          129130,
          103815,
          92175,
          82765,
          76315,
          75130,
          82640,
          88795,
          118430,
          115190,
          110940,
          98860,
          104185,
          108665,
          126640,
          140435,
          152470,
          146275,
          148020,
          147735,
          145750,
          149285,
          159725,
          161085,
          135520,
          112945,
          100200,
          87615,
          87835,
          88845,
          92350,
          104465,
          115940,
          128950,
          141385,
          144440,
          143250,
          133190,
          131240,
          142480,
          157375,
          152500,
          153735,
          151195,
          150645,
          147435,
          152525,
          146875,
          125245,
          117925,
          96700,
          93610,
          89060,
          89345,
          90575,
          98290,
          112570,
          129470,
          141405,
          152560,
          152580,
          141170,
          147550,
          161110,
          166335,
          166780,
          163140,
          157305,
          159055,
          160020,
          168345,
          169900,
          142710,
          112955,
          97345,
          81675,
          79510,
          78350,
          88045,
          99790,
          123780,
          111325,
          99440,
          97655,
          97655,
          102565,
          119930,
          135755,
          140120,
          141730,
          142220,
          145360,
          145335,
          150410,
          161520,
          153415,
          134720,
          107065,
          95045,
          79515,
          78335,
          74670,
          81990,
          97950,
          119345,
          113115,
          98880,
          94000,
          93660,
          104185,
          119750,
          135990,
          146455,
          139165,
          147225,
          144935,
          151370,
          156080,
          161385,
          165010,
          134090,
          105585,
          92855,
          79270,
          79980,
          78110,
          85785,
          100010,
          123880,
          116335,
          104290,
          101440,
          97635,
          108265,
          121250,
          140850,
          138555,
          140990,
          141525,
          141590,
          140610,
          139515,
          146215,
          142425,
          123945,
          101360,
          88170,
          76050,
          70335,
          72150,
          80195,
          94945,
          121910,
          113950,
          106495,
          97290,
          98860,
          105635,
          114380,
          132335,
          146630,
          141995,
          142815,
          146020,
          152120,
          151790,
          155665,
          155890,
          123395,
          103080,
          95155,
          80285
         ],
         "yaxis": "y"
        },
        {
         "legendgroup": "actual",
         "line": {
          "color": "#393b79",
          "width": 1
         },
         "mode": "lines",
         "name": "actual",
         "showlegend": true,
         "type": "scatter",
         "x": [
          "2017-09-19T12:00:00",
          "2017-09-19T13:00:00",
          "2017-09-19T14:00:00",
          "2017-09-19T15:00:00",
          "2017-09-19T16:00:00",
          "2017-09-19T17:00:00",
          "2017-09-19T18:00:00",
          "2017-09-19T19:00:00",
          "2017-09-19T20:00:00",
          "2017-09-19T21:00:00",
          "2017-09-19T22:00:00",
          "2017-09-19T23:00:00",
          "2017-09-20T00:00:00",
          "2017-09-20T01:00:00",
          "2017-09-20T02:00:00",
          "2017-09-20T03:00:00",
          "2017-09-20T04:00:00",
          "2017-09-20T05:00:00",
          "2017-09-20T06:00:00",
          "2017-09-20T07:00:00",
          "2017-09-20T08:00:00",
          "2017-09-20T09:00:00",
          "2017-09-20T10:00:00",
          "2017-09-20T11:00:00",
          "2017-09-20T12:00:00",
          "2017-09-20T13:00:00",
          "2017-09-20T14:00:00",
          "2017-09-20T15:00:00",
          "2017-09-20T16:00:00",
          "2017-09-20T17:00:00"
         ],
         "xaxis": "x",
         "y": [
          146455,
          139165,
          147225,
          144935,
          151370,
          156080,
          161385,
          165010,
          134090,
          105585,
          92855,
          79270,
          79980,
          78110,
          85785,
          100010,
          123880,
          116335,
          104290,
          101440,
          97635,
          108265,
          121250,
          140850,
          138555,
          140990,
          141525,
          141590,
          140610,
          139515
         ],
         "yaxis": "y"
        },
        {
         "legendgroup": "SESOpt",
         "line": {
          "color": "#e7ba52",
          "width": 1
         },
         "mode": "lines",
         "name": "SESOpt",
         "showlegend": true,
         "type": "scatter",
         "x": [
          "2017-09-19T12:00:00",
          "2017-09-19T13:00:00",
          "2017-09-19T14:00:00",
          "2017-09-19T15:00:00",
          "2017-09-19T16:00:00",
          "2017-09-19T17:00:00",
          "2017-09-19T18:00:00",
          "2017-09-19T19:00:00",
          "2017-09-19T20:00:00",
          "2017-09-19T21:00:00",
          "2017-09-19T22:00:00",
          "2017-09-19T23:00:00",
          "2017-09-20T00:00:00",
          "2017-09-20T01:00:00",
          "2017-09-20T02:00:00",
          "2017-09-20T03:00:00",
          "2017-09-20T04:00:00",
          "2017-09-20T05:00:00",
          "2017-09-20T06:00:00",
          "2017-09-20T07:00:00",
          "2017-09-20T08:00:00",
          "2017-09-20T09:00:00",
          "2017-09-20T10:00:00",
          "2017-09-20T11:00:00",
          "2017-09-20T12:00:00",
          "2017-09-20T13:00:00",
          "2017-09-20T14:00:00",
          "2017-09-20T15:00:00",
          "2017-09-20T16:00:00",
          "2017-09-20T17:00:00"
         ],
         "xaxis": "x",
         "y": [
          135826.03,
          135826.03,
          135826.03,
          135826.03,
          135826.03,
          135826.03,
          135826.03,
          135826.03,
          135826.03,
          135826.03,
          135826.03,
          135826.03,
          135826.03,
          135826.03,
          135826.03,
          135826.03,
          135826.03,
          135826.03,
          135826.03,
          135826.03,
          135826.03,
          135826.03,
          135826.03,
          135826.03,
          135826.03,
          135826.03,
          135826.03,
          135826.03,
          135826.03,
          135826.03
         ],
         "yaxis": "y"
        }
       ],
       "layout": {
        "annotations": [
         {
          "font": {
           "size": 10
          },
          "showarrow": false,
          "text": "1",
          "x": 0.5,
          "xanchor": "center",
          "xref": "paper",
          "y": 1,
          "yanchor": "bottom",
          "yref": "paper"
         },
         {
          "font": {
           "size": 10
          },
          "showarrow": false,
          "text": "Datestamp [ds]",
          "x": 0.5,
          "xanchor": "center",
          "xref": "paper",
          "y": 0,
          "yanchor": "top",
          "yref": "paper",
          "yshift": -30
         },
         {
          "font": {
           "size": 10
          },
          "showarrow": false,
          "text": "Target [y]",
          "textangle": -90,
          "x": 0,
          "xanchor": "right",
          "xref": "paper",
          "xshift": -40,
          "y": 0.5,
          "yanchor": "middle",
          "yref": "paper"
         }
        ],
        "autosize": true,
        "font": {
         "size": 10
        },
        "height": 150,
        "margin": {
         "b": 50,
         "l": 60,
         "r": 10,
         "t": 20
        },
        "template": {
         "data": {
          "bar": [
           {
            "error_x": {
             "color": "#2a3f5f"
            },
            "error_y": {
             "color": "#2a3f5f"
            },
            "marker": {
             "line": {
              "color": "white",
              "width": 0.5
             },
             "pattern": {
              "fillmode": "overlay",
              "size": 10,
              "solidity": 0.2
             }
            },
            "type": "bar"
           }
          ],
          "barpolar": [
           {
            "marker": {
             "line": {
              "color": "white",
              "width": 0.5
             },
             "pattern": {
              "fillmode": "overlay",
              "size": 10,
              "solidity": 0.2
             }
            },
            "type": "barpolar"
           }
          ],
          "carpet": [
           {
            "aaxis": {
             "endlinecolor": "#2a3f5f",
             "gridcolor": "#C8D4E3",
             "linecolor": "#C8D4E3",
             "minorgridcolor": "#C8D4E3",
             "startlinecolor": "#2a3f5f"
            },
            "baxis": {
             "endlinecolor": "#2a3f5f",
             "gridcolor": "#C8D4E3",
             "linecolor": "#C8D4E3",
             "minorgridcolor": "#C8D4E3",
             "startlinecolor": "#2a3f5f"
            },
            "type": "carpet"
           }
          ],
          "choropleth": [
           {
            "colorbar": {
             "outlinewidth": 0,
             "ticks": ""
            },
            "type": "choropleth"
           }
          ],
          "contour": [
           {
            "colorbar": {
             "outlinewidth": 0,
             "ticks": ""
            },
            "colorscale": [
             [
              0,
              "#0d0887"
             ],
             [
              0.1111111111111111,
              "#46039f"
             ],
             [
              0.2222222222222222,
              "#7201a8"
             ],
             [
              0.3333333333333333,
              "#9c179e"
             ],
             [
              0.4444444444444444,
              "#bd3786"
             ],
             [
              0.5555555555555556,
              "#d8576b"
             ],
             [
              0.6666666666666666,
              "#ed7953"
             ],
             [
              0.7777777777777778,
              "#fb9f3a"
             ],
             [
              0.8888888888888888,
              "#fdca26"
             ],
             [
              1,
              "#f0f921"
             ]
            ],
            "type": "contour"
           }
          ],
          "contourcarpet": [
           {
            "colorbar": {
             "outlinewidth": 0,
             "ticks": ""
            },
            "type": "contourcarpet"
           }
          ],
          "heatmap": [
           {
            "colorbar": {
             "outlinewidth": 0,
             "ticks": ""
            },
            "colorscale": [
             [
              0,
              "#0d0887"
             ],
             [
              0.1111111111111111,
              "#46039f"
             ],
             [
              0.2222222222222222,
              "#7201a8"
             ],
             [
              0.3333333333333333,
              "#9c179e"
             ],
             [
              0.4444444444444444,
              "#bd3786"
             ],
             [
              0.5555555555555556,
              "#d8576b"
             ],
             [
              0.6666666666666666,
              "#ed7953"
             ],
             [
              0.7777777777777778,
              "#fb9f3a"
             ],
             [
              0.8888888888888888,
              "#fdca26"
             ],
             [
              1,
              "#f0f921"
             ]
            ],
            "type": "heatmap"
           }
          ],
          "heatmapgl": [
           {
            "colorbar": {
             "outlinewidth": 0,
             "ticks": ""
            },
            "colorscale": [
             [
              0,
              "#0d0887"
             ],
             [
              0.1111111111111111,
              "#46039f"
             ],
             [
              0.2222222222222222,
              "#7201a8"
             ],
             [
              0.3333333333333333,
              "#9c179e"
             ],
             [
              0.4444444444444444,
              "#bd3786"
             ],
             [
              0.5555555555555556,
              "#d8576b"
             ],
             [
              0.6666666666666666,
              "#ed7953"
             ],
             [
              0.7777777777777778,
              "#fb9f3a"
             ],
             [
              0.8888888888888888,
              "#fdca26"
             ],
             [
              1,
              "#f0f921"
             ]
            ],
            "type": "heatmapgl"
           }
          ],
          "histogram": [
           {
            "marker": {
             "pattern": {
              "fillmode": "overlay",
              "size": 10,
              "solidity": 0.2
             }
            },
            "type": "histogram"
           }
          ],
          "histogram2d": [
           {
            "colorbar": {
             "outlinewidth": 0,
             "ticks": ""
            },
            "colorscale": [
             [
              0,
              "#0d0887"
             ],
             [
              0.1111111111111111,
              "#46039f"
             ],
             [
              0.2222222222222222,
              "#7201a8"
             ],
             [
              0.3333333333333333,
              "#9c179e"
             ],
             [
              0.4444444444444444,
              "#bd3786"
             ],
             [
              0.5555555555555556,
              "#d8576b"
             ],
             [
              0.6666666666666666,
              "#ed7953"
             ],
             [
              0.7777777777777778,
              "#fb9f3a"
             ],
             [
              0.8888888888888888,
              "#fdca26"
             ],
             [
              1,
              "#f0f921"
             ]
            ],
            "type": "histogram2d"
           }
          ],
          "histogram2dcontour": [
           {
            "colorbar": {
             "outlinewidth": 0,
             "ticks": ""
            },
            "colorscale": [
             [
              0,
              "#0d0887"
             ],
             [
              0.1111111111111111,
              "#46039f"
             ],
             [
              0.2222222222222222,
              "#7201a8"
             ],
             [
              0.3333333333333333,
              "#9c179e"
             ],
             [
              0.4444444444444444,
              "#bd3786"
             ],
             [
              0.5555555555555556,
              "#d8576b"
             ],
             [
              0.6666666666666666,
              "#ed7953"
             ],
             [
              0.7777777777777778,
              "#fb9f3a"
             ],
             [
              0.8888888888888888,
              "#fdca26"
             ],
             [
              1,
              "#f0f921"
             ]
            ],
            "type": "histogram2dcontour"
           }
          ],
          "mesh3d": [
           {
            "colorbar": {
             "outlinewidth": 0,
             "ticks": ""
            },
            "type": "mesh3d"
           }
          ],
          "parcoords": [
           {
            "line": {
             "colorbar": {
              "outlinewidth": 0,
              "ticks": ""
             }
            },
            "type": "parcoords"
           }
          ],
          "pie": [
           {
            "automargin": true,
            "type": "pie"
           }
          ],
          "scatter": [
           {
            "fillpattern": {
             "fillmode": "overlay",
             "size": 10,
             "solidity": 0.2
            },
            "type": "scatter"
           }
          ],
          "scatter3d": [
           {
            "line": {
             "colorbar": {
              "outlinewidth": 0,
              "ticks": ""
             }
            },
            "marker": {
             "colorbar": {
              "outlinewidth": 0,
              "ticks": ""
             }
            },
            "type": "scatter3d"
           }
          ],
          "scattercarpet": [
           {
            "marker": {
             "colorbar": {
              "outlinewidth": 0,
              "ticks": ""
             }
            },
            "type": "scattercarpet"
           }
          ],
          "scattergeo": [
           {
            "marker": {
             "colorbar": {
              "outlinewidth": 0,
              "ticks": ""
             }
            },
            "type": "scattergeo"
           }
          ],
          "scattergl": [
           {
            "marker": {
             "colorbar": {
              "outlinewidth": 0,
              "ticks": ""
             }
            },
            "type": "scattergl"
           }
          ],
          "scattermapbox": [
           {
            "marker": {
             "colorbar": {
              "outlinewidth": 0,
              "ticks": ""
             }
            },
            "type": "scattermapbox"
           }
          ],
          "scatterpolar": [
           {
            "marker": {
             "colorbar": {
              "outlinewidth": 0,
              "ticks": ""
             }
            },
            "type": "scatterpolar"
           }
          ],
          "scatterpolargl": [
           {
            "marker": {
             "colorbar": {
              "outlinewidth": 0,
              "ticks": ""
             }
            },
            "type": "scatterpolargl"
           }
          ],
          "scatterternary": [
           {
            "marker": {
             "colorbar": {
              "outlinewidth": 0,
              "ticks": ""
             }
            },
            "type": "scatterternary"
           }
          ],
          "surface": [
           {
            "colorbar": {
             "outlinewidth": 0,
             "ticks": ""
            },
            "colorscale": [
             [
              0,
              "#0d0887"
             ],
             [
              0.1111111111111111,
              "#46039f"
             ],
             [
              0.2222222222222222,
              "#7201a8"
             ],
             [
              0.3333333333333333,
              "#9c179e"
             ],
             [
              0.4444444444444444,
              "#bd3786"
             ],
             [
              0.5555555555555556,
              "#d8576b"
             ],
             [
              0.6666666666666666,
              "#ed7953"
             ],
             [
              0.7777777777777778,
              "#fb9f3a"
             ],
             [
              0.8888888888888888,
              "#fdca26"
             ],
             [
              1,
              "#f0f921"
             ]
            ],
            "type": "surface"
           }
          ],
          "table": [
           {
            "cells": {
             "fill": {
              "color": "#EBF0F8"
             },
             "line": {
              "color": "white"
             }
            },
            "header": {
             "fill": {
              "color": "#C8D4E3"
             },
             "line": {
              "color": "white"
             }
            },
            "type": "table"
           }
          ]
         },
         "layout": {
          "annotationdefaults": {
           "arrowcolor": "#2a3f5f",
           "arrowhead": 0,
           "arrowwidth": 1
          },
          "autotypenumbers": "strict",
          "coloraxis": {
           "colorbar": {
            "outlinewidth": 0,
            "ticks": ""
           }
          },
          "colorscale": {
           "diverging": [
            [
             0,
             "#8e0152"
            ],
            [
             0.1,
             "#c51b7d"
            ],
            [
             0.2,
             "#de77ae"
            ],
            [
             0.3,
             "#f1b6da"
            ],
            [
             0.4,
             "#fde0ef"
            ],
            [
             0.5,
             "#f7f7f7"
            ],
            [
             0.6,
             "#e6f5d0"
            ],
            [
             0.7,
             "#b8e186"
            ],
            [
             0.8,
             "#7fbc41"
            ],
            [
             0.9,
             "#4d9221"
            ],
            [
             1,
             "#276419"
            ]
           ],
           "sequential": [
            [
             0,
             "#0d0887"
            ],
            [
             0.1111111111111111,
             "#46039f"
            ],
            [
             0.2222222222222222,
             "#7201a8"
            ],
            [
             0.3333333333333333,
             "#9c179e"
            ],
            [
             0.4444444444444444,
             "#bd3786"
            ],
            [
             0.5555555555555556,
             "#d8576b"
            ],
            [
             0.6666666666666666,
             "#ed7953"
            ],
            [
             0.7777777777777778,
             "#fb9f3a"
            ],
            [
             0.8888888888888888,
             "#fdca26"
            ],
            [
             1,
             "#f0f921"
            ]
           ],
           "sequentialminus": [
            [
             0,
             "#0d0887"
            ],
            [
             0.1111111111111111,
             "#46039f"
            ],
            [
             0.2222222222222222,
             "#7201a8"
            ],
            [
             0.3333333333333333,
             "#9c179e"
            ],
            [
             0.4444444444444444,
             "#bd3786"
            ],
            [
             0.5555555555555556,
             "#d8576b"
            ],
            [
             0.6666666666666666,
             "#ed7953"
            ],
            [
             0.7777777777777778,
             "#fb9f3a"
            ],
            [
             0.8888888888888888,
             "#fdca26"
            ],
            [
             1,
             "#f0f921"
            ]
           ]
          },
          "colorway": [
           "#636efa",
           "#EF553B",
           "#00cc96",
           "#ab63fa",
           "#FFA15A",
           "#19d3f3",
           "#FF6692",
           "#B6E880",
           "#FF97FF",
           "#FECB52"
          ],
          "font": {
           "color": "#2a3f5f"
          },
          "geo": {
           "bgcolor": "white",
           "lakecolor": "white",
           "landcolor": "white",
           "showlakes": true,
           "showland": true,
           "subunitcolor": "#C8D4E3"
          },
          "hoverlabel": {
           "align": "left"
          },
          "hovermode": "closest",
          "mapbox": {
           "style": "light"
          },
          "paper_bgcolor": "white",
          "plot_bgcolor": "white",
          "polar": {
           "angularaxis": {
            "gridcolor": "#EBF0F8",
            "linecolor": "#EBF0F8",
            "ticks": ""
           },
           "bgcolor": "white",
           "radialaxis": {
            "gridcolor": "#EBF0F8",
            "linecolor": "#EBF0F8",
            "ticks": ""
           }
          },
          "scene": {
           "xaxis": {
            "backgroundcolor": "white",
            "gridcolor": "#DFE8F3",
            "gridwidth": 2,
            "linecolor": "#EBF0F8",
            "showbackground": true,
            "ticks": "",
            "zerolinecolor": "#EBF0F8"
           },
           "yaxis": {
            "backgroundcolor": "white",
            "gridcolor": "#DFE8F3",
            "gridwidth": 2,
            "linecolor": "#EBF0F8",
            "showbackground": true,
            "ticks": "",
            "zerolinecolor": "#EBF0F8"
           },
           "zaxis": {
            "backgroundcolor": "white",
            "gridcolor": "#DFE8F3",
            "gridwidth": 2,
            "linecolor": "#EBF0F8",
            "showbackground": true,
            "ticks": "",
            "zerolinecolor": "#EBF0F8"
           }
          },
          "shapedefaults": {
           "line": {
            "color": "#2a3f5f"
           }
          },
          "ternary": {
           "aaxis": {
            "gridcolor": "#DFE8F3",
            "linecolor": "#A2B1C6",
            "ticks": ""
           },
           "baxis": {
            "gridcolor": "#DFE8F3",
            "linecolor": "#A2B1C6",
            "ticks": ""
           },
           "bgcolor": "white",
           "caxis": {
            "gridcolor": "#DFE8F3",
            "linecolor": "#A2B1C6",
            "ticks": ""
           }
          },
          "title": {
           "x": 0.05
          },
          "xaxis": {
           "automargin": true,
           "gridcolor": "#EBF0F8",
           "linecolor": "#EBF0F8",
           "ticks": "",
           "title": {
            "standoff": 15
           },
           "zerolinecolor": "#EBF0F8",
           "zerolinewidth": 2
          },
          "yaxis": {
           "automargin": true,
           "gridcolor": "#EBF0F8",
           "linecolor": "#EBF0F8",
           "ticks": "",
           "title": {
            "standoff": 15
           },
           "zerolinecolor": "#EBF0F8",
           "zerolinewidth": 2
          }
         }
        },
        "xaxis": {
         "anchor": "y",
         "domain": [
          0,
          1
         ],
         "showticklabels": true,
         "visible": true
        },
        "yaxis": {
         "anchor": "x",
         "domain": [
          0,
          1
         ]
        }
       }
      }
     },
     "metadata": {},
     "output_type": "display_data"
    },
    {
     "data": {
      "application/vnd.plotly.v1+json": {
       "config": {
        "plotlyServerURL": "https://plot.ly"
       },
       "data": [
        {
         "legendgroup": "y",
         "line": {
          "color": "#1f77b4",
          "width": 1
         },
         "mode": "lines",
         "name": "y",
         "showlegend": true,
         "type": "scatter",
         "x": [
          "2017-09-13T00:00:00",
          "2017-09-13T01:00:00",
          "2017-09-13T02:00:00",
          "2017-09-13T03:00:00",
          "2017-09-13T04:00:00",
          "2017-09-13T05:00:00",
          "2017-09-13T06:00:00",
          "2017-09-13T07:00:00",
          "2017-09-13T08:00:00",
          "2017-09-13T09:00:00",
          "2017-09-13T10:00:00",
          "2017-09-13T11:00:00",
          "2017-09-13T12:00:00",
          "2017-09-13T13:00:00",
          "2017-09-13T14:00:00",
          "2017-09-13T15:00:00",
          "2017-09-13T16:00:00",
          "2017-09-13T17:00:00",
          "2017-09-13T18:00:00",
          "2017-09-13T19:00:00",
          "2017-09-13T20:00:00",
          "2017-09-13T21:00:00",
          "2017-09-13T22:00:00",
          "2017-09-13T23:00:00",
          "2017-09-14T00:00:00",
          "2017-09-14T01:00:00",
          "2017-09-14T02:00:00",
          "2017-09-14T03:00:00",
          "2017-09-14T04:00:00",
          "2017-09-14T05:00:00",
          "2017-09-14T06:00:00",
          "2017-09-14T07:00:00",
          "2017-09-14T08:00:00",
          "2017-09-14T09:00:00",
          "2017-09-14T10:00:00",
          "2017-09-14T11:00:00",
          "2017-09-14T12:00:00",
          "2017-09-14T13:00:00",
          "2017-09-14T14:00:00",
          "2017-09-14T15:00:00",
          "2017-09-14T16:00:00",
          "2017-09-14T17:00:00",
          "2017-09-14T18:00:00",
          "2017-09-14T19:00:00",
          "2017-09-14T20:00:00",
          "2017-09-14T21:00:00",
          "2017-09-14T22:00:00",
          "2017-09-14T23:00:00",
          "2017-09-15T00:00:00",
          "2017-09-15T01:00:00",
          "2017-09-15T02:00:00",
          "2017-09-15T03:00:00",
          "2017-09-15T04:00:00",
          "2017-09-15T05:00:00",
          "2017-09-15T06:00:00",
          "2017-09-15T07:00:00",
          "2017-09-15T08:00:00",
          "2017-09-15T09:00:00",
          "2017-09-15T10:00:00",
          "2017-09-15T11:00:00",
          "2017-09-15T12:00:00",
          "2017-09-15T13:00:00",
          "2017-09-15T14:00:00",
          "2017-09-15T15:00:00",
          "2017-09-15T16:00:00",
          "2017-09-15T17:00:00",
          "2017-09-15T18:00:00",
          "2017-09-15T19:00:00",
          "2017-09-15T20:00:00",
          "2017-09-15T21:00:00",
          "2017-09-15T22:00:00",
          "2017-09-15T23:00:00",
          "2017-09-16T00:00:00",
          "2017-09-16T01:00:00",
          "2017-09-16T02:00:00",
          "2017-09-16T03:00:00",
          "2017-09-16T04:00:00",
          "2017-09-16T05:00:00",
          "2017-09-16T06:00:00",
          "2017-09-16T07:00:00",
          "2017-09-16T08:00:00",
          "2017-09-16T09:00:00",
          "2017-09-16T10:00:00",
          "2017-09-16T11:00:00",
          "2017-09-16T12:00:00",
          "2017-09-16T13:00:00",
          "2017-09-16T14:00:00",
          "2017-09-16T15:00:00",
          "2017-09-16T16:00:00",
          "2017-09-16T17:00:00",
          "2017-09-16T18:00:00",
          "2017-09-16T19:00:00",
          "2017-09-16T20:00:00",
          "2017-09-16T21:00:00",
          "2017-09-16T22:00:00",
          "2017-09-16T23:00:00",
          "2017-09-17T00:00:00",
          "2017-09-17T01:00:00",
          "2017-09-17T02:00:00",
          "2017-09-17T03:00:00",
          "2017-09-17T04:00:00",
          "2017-09-17T05:00:00",
          "2017-09-17T06:00:00",
          "2017-09-17T07:00:00",
          "2017-09-17T08:00:00",
          "2017-09-17T09:00:00",
          "2017-09-17T10:00:00",
          "2017-09-17T11:00:00",
          "2017-09-17T12:00:00",
          "2017-09-17T13:00:00",
          "2017-09-17T14:00:00",
          "2017-09-17T15:00:00",
          "2017-09-17T16:00:00",
          "2017-09-17T17:00:00",
          "2017-09-17T18:00:00",
          "2017-09-17T19:00:00",
          "2017-09-17T20:00:00",
          "2017-09-17T21:00:00",
          "2017-09-17T22:00:00",
          "2017-09-17T23:00:00",
          "2017-09-18T00:00:00",
          "2017-09-18T01:00:00",
          "2017-09-18T02:00:00",
          "2017-09-18T03:00:00",
          "2017-09-18T04:00:00",
          "2017-09-18T05:00:00",
          "2017-09-18T06:00:00",
          "2017-09-18T07:00:00",
          "2017-09-18T08:00:00",
          "2017-09-18T09:00:00",
          "2017-09-18T10:00:00",
          "2017-09-18T11:00:00",
          "2017-09-18T12:00:00",
          "2017-09-18T13:00:00",
          "2017-09-18T14:00:00",
          "2017-09-18T15:00:00",
          "2017-09-18T16:00:00",
          "2017-09-18T17:00:00",
          "2017-09-18T18:00:00",
          "2017-09-18T19:00:00",
          "2017-09-18T20:00:00",
          "2017-09-18T21:00:00",
          "2017-09-18T22:00:00",
          "2017-09-18T23:00:00",
          "2017-09-19T00:00:00",
          "2017-09-19T01:00:00",
          "2017-09-19T02:00:00",
          "2017-09-19T03:00:00",
          "2017-09-19T04:00:00",
          "2017-09-19T05:00:00",
          "2017-09-19T06:00:00",
          "2017-09-19T07:00:00",
          "2017-09-19T08:00:00",
          "2017-09-19T09:00:00",
          "2017-09-19T10:00:00",
          "2017-09-19T11:00:00",
          "2017-09-19T12:00:00",
          "2017-09-19T13:00:00",
          "2017-09-19T14:00:00",
          "2017-09-19T15:00:00",
          "2017-09-19T16:00:00",
          "2017-09-19T17:00:00",
          "2017-09-19T18:00:00",
          "2017-09-19T19:00:00",
          "2017-09-19T20:00:00",
          "2017-09-19T21:00:00",
          "2017-09-19T22:00:00",
          "2017-09-19T23:00:00",
          "2017-09-20T00:00:00",
          "2017-09-20T01:00:00",
          "2017-09-20T02:00:00",
          "2017-09-20T03:00:00",
          "2017-09-20T04:00:00",
          "2017-09-20T05:00:00",
          "2017-09-20T06:00:00",
          "2017-09-20T07:00:00",
          "2017-09-20T08:00:00",
          "2017-09-20T09:00:00",
          "2017-09-20T10:00:00",
          "2017-09-20T11:00:00",
          "2017-09-20T12:00:00",
          "2017-09-20T13:00:00",
          "2017-09-20T14:00:00",
          "2017-09-20T15:00:00",
          "2017-09-20T16:00:00",
          "2017-09-20T17:00:00",
          "2017-09-20T18:00:00",
          "2017-09-20T19:00:00",
          "2017-09-20T20:00:00",
          "2017-09-20T21:00:00",
          "2017-09-20T22:00:00",
          "2017-09-20T23:00:00",
          "2017-09-21T00:00:00",
          "2017-09-21T01:00:00",
          "2017-09-21T02:00:00",
          "2017-09-21T03:00:00",
          "2017-09-21T04:00:00",
          "2017-09-21T05:00:00",
          "2017-09-21T06:00:00",
          "2017-09-21T07:00:00",
          "2017-09-21T08:00:00",
          "2017-09-21T09:00:00",
          "2017-09-21T10:00:00",
          "2017-09-21T11:00:00",
          "2017-09-21T12:00:00",
          "2017-09-21T13:00:00",
          "2017-09-21T14:00:00",
          "2017-09-21T15:00:00",
          "2017-09-21T16:00:00",
          "2017-09-21T17:00:00",
          "2017-09-21T18:00:00",
          "2017-09-21T19:00:00",
          "2017-09-21T20:00:00",
          "2017-09-21T21:00:00",
          "2017-09-21T22:00:00",
          "2017-09-21T23:00:00"
         ],
         "xaxis": "x",
         "y": [
          80115,
          79885,
          89325,
          101930,
          121630,
          116475,
          106495,
          102795,
          108055,
          116125,
          131030,
          149020,
          157590,
          150715,
          149295,
          150100,
          144780,
          150690,
          163840,
          166235,
          139520,
          105895,
          96780,
          82520,
          80125,
          75335,
          85105,
          102080,
          125135,
          118030,
          109225,
          102475,
          102240,
          115840,
          130540,
          144325,
          148970,
          149150,
          148040,
          148810,
          149830,
          150570,
          149440,
          150520,
          129130,
          103815,
          92175,
          82765,
          76315,
          75130,
          82640,
          88795,
          118430,
          115190,
          110940,
          98860,
          104185,
          108665,
          126640,
          140435,
          152470,
          146275,
          148020,
          147735,
          145750,
          149285,
          159725,
          161085,
          135520,
          112945,
          100200,
          87615,
          87835,
          88845,
          92350,
          104465,
          115940,
          128950,
          141385,
          144440,
          143250,
          133190,
          131240,
          142480,
          157375,
          152500,
          153735,
          151195,
          150645,
          147435,
          152525,
          146875,
          125245,
          117925,
          96700,
          93610,
          89060,
          89345,
          90575,
          98290,
          112570,
          129470,
          141405,
          152560,
          152580,
          141170,
          147550,
          161110,
          166335,
          166780,
          163140,
          157305,
          159055,
          160020,
          168345,
          169900,
          142710,
          112955,
          97345,
          81675,
          79510,
          78350,
          88045,
          99790,
          123780,
          111325,
          99440,
          97655,
          97655,
          102565,
          119930,
          135755,
          140120,
          141730,
          142220,
          145360,
          145335,
          150410,
          161520,
          153415,
          134720,
          107065,
          95045,
          79515,
          78335,
          74670,
          81990,
          97950,
          119345,
          113115,
          98880,
          94000,
          93660,
          104185,
          119750,
          135990,
          146455,
          139165,
          147225,
          144935,
          151370,
          156080,
          161385,
          165010,
          134090,
          105585,
          92855,
          79270,
          79980,
          78110,
          85785,
          100010,
          123880,
          116335,
          104290,
          101440,
          97635,
          108265,
          121250,
          140850,
          138555,
          140990,
          141525,
          141590,
          140610,
          139515,
          146215,
          142425,
          123945,
          101360,
          88170,
          76050,
          70335,
          72150,
          80195,
          94945,
          121910,
          113950,
          106495,
          97290,
          98860,
          105635,
          114380,
          132335,
          146630,
          141995,
          142815,
          146020,
          152120,
          151790,
          155665,
          155890,
          123395,
          103080,
          95155,
          80285
         ],
         "yaxis": "y"
        },
        {
         "legendgroup": "actual",
         "line": {
          "color": "#393b79",
          "width": 1
         },
         "mode": "lines",
         "name": "actual",
         "showlegend": true,
         "type": "scatter",
         "x": [
          "2017-09-20T18:00:00",
          "2017-09-20T19:00:00",
          "2017-09-20T20:00:00",
          "2017-09-20T21:00:00",
          "2017-09-20T22:00:00",
          "2017-09-20T23:00:00",
          "2017-09-21T00:00:00",
          "2017-09-21T01:00:00",
          "2017-09-21T02:00:00",
          "2017-09-21T03:00:00",
          "2017-09-21T04:00:00",
          "2017-09-21T05:00:00",
          "2017-09-21T06:00:00",
          "2017-09-21T07:00:00",
          "2017-09-21T08:00:00",
          "2017-09-21T09:00:00",
          "2017-09-21T10:00:00",
          "2017-09-21T11:00:00",
          "2017-09-21T12:00:00",
          "2017-09-21T13:00:00",
          "2017-09-21T14:00:00",
          "2017-09-21T15:00:00",
          "2017-09-21T16:00:00",
          "2017-09-21T17:00:00",
          "2017-09-21T18:00:00",
          "2017-09-21T19:00:00",
          "2017-09-21T20:00:00",
          "2017-09-21T21:00:00",
          "2017-09-21T22:00:00",
          "2017-09-21T23:00:00"
         ],
         "xaxis": "x",
         "y": [
          146215,
          142425,
          123945,
          101360,
          88170,
          76050,
          70335,
          72150,
          80195,
          94945,
          121910,
          113950,
          106495,
          97290,
          98860,
          105635,
          114380,
          132335,
          146630,
          141995,
          142815,
          146020,
          152120,
          151790,
          155665,
          155890,
          123395,
          103080,
          95155,
          80285
         ],
         "yaxis": "y"
        },
        {
         "legendgroup": "SESOpt",
         "line": {
          "color": "#e7ba52",
          "width": 1
         },
         "mode": "lines",
         "name": "SESOpt",
         "showlegend": true,
         "type": "scatter",
         "x": [
          "2017-09-20T18:00:00",
          "2017-09-20T19:00:00",
          "2017-09-20T20:00:00",
          "2017-09-20T21:00:00",
          "2017-09-20T22:00:00",
          "2017-09-20T23:00:00",
          "2017-09-21T00:00:00",
          "2017-09-21T01:00:00",
          "2017-09-21T02:00:00",
          "2017-09-21T03:00:00",
          "2017-09-21T04:00:00",
          "2017-09-21T05:00:00",
          "2017-09-21T06:00:00",
          "2017-09-21T07:00:00",
          "2017-09-21T08:00:00",
          "2017-09-21T09:00:00",
          "2017-09-21T10:00:00",
          "2017-09-21T11:00:00",
          "2017-09-21T12:00:00",
          "2017-09-21T13:00:00",
          "2017-09-21T14:00:00",
          "2017-09-21T15:00:00",
          "2017-09-21T16:00:00",
          "2017-09-21T17:00:00",
          "2017-09-21T18:00:00",
          "2017-09-21T19:00:00",
          "2017-09-21T20:00:00",
          "2017-09-21T21:00:00",
          "2017-09-21T22:00:00",
          "2017-09-21T23:00:00"
         ],
         "xaxis": "x",
         "y": [
          139526.05,
          139526.05,
          139526.05,
          139526.05,
          139526.05,
          139526.05,
          139526.05,
          139526.05,
          139526.05,
          139526.05,
          139526.05,
          139526.05,
          139526.05,
          139526.05,
          139526.05,
          139526.05,
          139526.05,
          139526.05,
          139526.05,
          139526.05,
          139526.05,
          139526.05,
          139526.05,
          139526.05,
          139526.05,
          139526.05,
          139526.05,
          139526.05,
          139526.05,
          139526.05
         ],
         "yaxis": "y"
        }
       ],
       "layout": {
        "annotations": [
         {
          "font": {
           "size": 10
          },
          "showarrow": false,
          "text": "1",
          "x": 0.5,
          "xanchor": "center",
          "xref": "paper",
          "y": 1,
          "yanchor": "bottom",
          "yref": "paper"
         },
         {
          "font": {
           "size": 10
          },
          "showarrow": false,
          "text": "Datestamp [ds]",
          "x": 0.5,
          "xanchor": "center",
          "xref": "paper",
          "y": 0,
          "yanchor": "top",
          "yref": "paper",
          "yshift": -30
         },
         {
          "font": {
           "size": 10
          },
          "showarrow": false,
          "text": "Target [y]",
          "textangle": -90,
          "x": 0,
          "xanchor": "right",
          "xref": "paper",
          "xshift": -40,
          "y": 0.5,
          "yanchor": "middle",
          "yref": "paper"
         }
        ],
        "autosize": true,
        "font": {
         "size": 10
        },
        "height": 150,
        "margin": {
         "b": 50,
         "l": 60,
         "r": 10,
         "t": 20
        },
        "template": {
         "data": {
          "bar": [
           {
            "error_x": {
             "color": "#2a3f5f"
            },
            "error_y": {
             "color": "#2a3f5f"
            },
            "marker": {
             "line": {
              "color": "white",
              "width": 0.5
             },
             "pattern": {
              "fillmode": "overlay",
              "size": 10,
              "solidity": 0.2
             }
            },
            "type": "bar"
           }
          ],
          "barpolar": [
           {
            "marker": {
             "line": {
              "color": "white",
              "width": 0.5
             },
             "pattern": {
              "fillmode": "overlay",
              "size": 10,
              "solidity": 0.2
             }
            },
            "type": "barpolar"
           }
          ],
          "carpet": [
           {
            "aaxis": {
             "endlinecolor": "#2a3f5f",
             "gridcolor": "#C8D4E3",
             "linecolor": "#C8D4E3",
             "minorgridcolor": "#C8D4E3",
             "startlinecolor": "#2a3f5f"
            },
            "baxis": {
             "endlinecolor": "#2a3f5f",
             "gridcolor": "#C8D4E3",
             "linecolor": "#C8D4E3",
             "minorgridcolor": "#C8D4E3",
             "startlinecolor": "#2a3f5f"
            },
            "type": "carpet"
           }
          ],
          "choropleth": [
           {
            "colorbar": {
             "outlinewidth": 0,
             "ticks": ""
            },
            "type": "choropleth"
           }
          ],
          "contour": [
           {
            "colorbar": {
             "outlinewidth": 0,
             "ticks": ""
            },
            "colorscale": [
             [
              0,
              "#0d0887"
             ],
             [
              0.1111111111111111,
              "#46039f"
             ],
             [
              0.2222222222222222,
              "#7201a8"
             ],
             [
              0.3333333333333333,
              "#9c179e"
             ],
             [
              0.4444444444444444,
              "#bd3786"
             ],
             [
              0.5555555555555556,
              "#d8576b"
             ],
             [
              0.6666666666666666,
              "#ed7953"
             ],
             [
              0.7777777777777778,
              "#fb9f3a"
             ],
             [
              0.8888888888888888,
              "#fdca26"
             ],
             [
              1,
              "#f0f921"
             ]
            ],
            "type": "contour"
           }
          ],
          "contourcarpet": [
           {
            "colorbar": {
             "outlinewidth": 0,
             "ticks": ""
            },
            "type": "contourcarpet"
           }
          ],
          "heatmap": [
           {
            "colorbar": {
             "outlinewidth": 0,
             "ticks": ""
            },
            "colorscale": [
             [
              0,
              "#0d0887"
             ],
             [
              0.1111111111111111,
              "#46039f"
             ],
             [
              0.2222222222222222,
              "#7201a8"
             ],
             [
              0.3333333333333333,
              "#9c179e"
             ],
             [
              0.4444444444444444,
              "#bd3786"
             ],
             [
              0.5555555555555556,
              "#d8576b"
             ],
             [
              0.6666666666666666,
              "#ed7953"
             ],
             [
              0.7777777777777778,
              "#fb9f3a"
             ],
             [
              0.8888888888888888,
              "#fdca26"
             ],
             [
              1,
              "#f0f921"
             ]
            ],
            "type": "heatmap"
           }
          ],
          "heatmapgl": [
           {
            "colorbar": {
             "outlinewidth": 0,
             "ticks": ""
            },
            "colorscale": [
             [
              0,
              "#0d0887"
             ],
             [
              0.1111111111111111,
              "#46039f"
             ],
             [
              0.2222222222222222,
              "#7201a8"
             ],
             [
              0.3333333333333333,
              "#9c179e"
             ],
             [
              0.4444444444444444,
              "#bd3786"
             ],
             [
              0.5555555555555556,
              "#d8576b"
             ],
             [
              0.6666666666666666,
              "#ed7953"
             ],
             [
              0.7777777777777778,
              "#fb9f3a"
             ],
             [
              0.8888888888888888,
              "#fdca26"
             ],
             [
              1,
              "#f0f921"
             ]
            ],
            "type": "heatmapgl"
           }
          ],
          "histogram": [
           {
            "marker": {
             "pattern": {
              "fillmode": "overlay",
              "size": 10,
              "solidity": 0.2
             }
            },
            "type": "histogram"
           }
          ],
          "histogram2d": [
           {
            "colorbar": {
             "outlinewidth": 0,
             "ticks": ""
            },
            "colorscale": [
             [
              0,
              "#0d0887"
             ],
             [
              0.1111111111111111,
              "#46039f"
             ],
             [
              0.2222222222222222,
              "#7201a8"
             ],
             [
              0.3333333333333333,
              "#9c179e"
             ],
             [
              0.4444444444444444,
              "#bd3786"
             ],
             [
              0.5555555555555556,
              "#d8576b"
             ],
             [
              0.6666666666666666,
              "#ed7953"
             ],
             [
              0.7777777777777778,
              "#fb9f3a"
             ],
             [
              0.8888888888888888,
              "#fdca26"
             ],
             [
              1,
              "#f0f921"
             ]
            ],
            "type": "histogram2d"
           }
          ],
          "histogram2dcontour": [
           {
            "colorbar": {
             "outlinewidth": 0,
             "ticks": ""
            },
            "colorscale": [
             [
              0,
              "#0d0887"
             ],
             [
              0.1111111111111111,
              "#46039f"
             ],
             [
              0.2222222222222222,
              "#7201a8"
             ],
             [
              0.3333333333333333,
              "#9c179e"
             ],
             [
              0.4444444444444444,
              "#bd3786"
             ],
             [
              0.5555555555555556,
              "#d8576b"
             ],
             [
              0.6666666666666666,
              "#ed7953"
             ],
             [
              0.7777777777777778,
              "#fb9f3a"
             ],
             [
              0.8888888888888888,
              "#fdca26"
             ],
             [
              1,
              "#f0f921"
             ]
            ],
            "type": "histogram2dcontour"
           }
          ],
          "mesh3d": [
           {
            "colorbar": {
             "outlinewidth": 0,
             "ticks": ""
            },
            "type": "mesh3d"
           }
          ],
          "parcoords": [
           {
            "line": {
             "colorbar": {
              "outlinewidth": 0,
              "ticks": ""
             }
            },
            "type": "parcoords"
           }
          ],
          "pie": [
           {
            "automargin": true,
            "type": "pie"
           }
          ],
          "scatter": [
           {
            "fillpattern": {
             "fillmode": "overlay",
             "size": 10,
             "solidity": 0.2
            },
            "type": "scatter"
           }
          ],
          "scatter3d": [
           {
            "line": {
             "colorbar": {
              "outlinewidth": 0,
              "ticks": ""
             }
            },
            "marker": {
             "colorbar": {
              "outlinewidth": 0,
              "ticks": ""
             }
            },
            "type": "scatter3d"
           }
          ],
          "scattercarpet": [
           {
            "marker": {
             "colorbar": {
              "outlinewidth": 0,
              "ticks": ""
             }
            },
            "type": "scattercarpet"
           }
          ],
          "scattergeo": [
           {
            "marker": {
             "colorbar": {
              "outlinewidth": 0,
              "ticks": ""
             }
            },
            "type": "scattergeo"
           }
          ],
          "scattergl": [
           {
            "marker": {
             "colorbar": {
              "outlinewidth": 0,
              "ticks": ""
             }
            },
            "type": "scattergl"
           }
          ],
          "scattermapbox": [
           {
            "marker": {
             "colorbar": {
              "outlinewidth": 0,
              "ticks": ""
             }
            },
            "type": "scattermapbox"
           }
          ],
          "scatterpolar": [
           {
            "marker": {
             "colorbar": {
              "outlinewidth": 0,
              "ticks": ""
             }
            },
            "type": "scatterpolar"
           }
          ],
          "scatterpolargl": [
           {
            "marker": {
             "colorbar": {
              "outlinewidth": 0,
              "ticks": ""
             }
            },
            "type": "scatterpolargl"
           }
          ],
          "scatterternary": [
           {
            "marker": {
             "colorbar": {
              "outlinewidth": 0,
              "ticks": ""
             }
            },
            "type": "scatterternary"
           }
          ],
          "surface": [
           {
            "colorbar": {
             "outlinewidth": 0,
             "ticks": ""
            },
            "colorscale": [
             [
              0,
              "#0d0887"
             ],
             [
              0.1111111111111111,
              "#46039f"
             ],
             [
              0.2222222222222222,
              "#7201a8"
             ],
             [
              0.3333333333333333,
              "#9c179e"
             ],
             [
              0.4444444444444444,
              "#bd3786"
             ],
             [
              0.5555555555555556,
              "#d8576b"
             ],
             [
              0.6666666666666666,
              "#ed7953"
             ],
             [
              0.7777777777777778,
              "#fb9f3a"
             ],
             [
              0.8888888888888888,
              "#fdca26"
             ],
             [
              1,
              "#f0f921"
             ]
            ],
            "type": "surface"
           }
          ],
          "table": [
           {
            "cells": {
             "fill": {
              "color": "#EBF0F8"
             },
             "line": {
              "color": "white"
             }
            },
            "header": {
             "fill": {
              "color": "#C8D4E3"
             },
             "line": {
              "color": "white"
             }
            },
            "type": "table"
           }
          ]
         },
         "layout": {
          "annotationdefaults": {
           "arrowcolor": "#2a3f5f",
           "arrowhead": 0,
           "arrowwidth": 1
          },
          "autotypenumbers": "strict",
          "coloraxis": {
           "colorbar": {
            "outlinewidth": 0,
            "ticks": ""
           }
          },
          "colorscale": {
           "diverging": [
            [
             0,
             "#8e0152"
            ],
            [
             0.1,
             "#c51b7d"
            ],
            [
             0.2,
             "#de77ae"
            ],
            [
             0.3,
             "#f1b6da"
            ],
            [
             0.4,
             "#fde0ef"
            ],
            [
             0.5,
             "#f7f7f7"
            ],
            [
             0.6,
             "#e6f5d0"
            ],
            [
             0.7,
             "#b8e186"
            ],
            [
             0.8,
             "#7fbc41"
            ],
            [
             0.9,
             "#4d9221"
            ],
            [
             1,
             "#276419"
            ]
           ],
           "sequential": [
            [
             0,
             "#0d0887"
            ],
            [
             0.1111111111111111,
             "#46039f"
            ],
            [
             0.2222222222222222,
             "#7201a8"
            ],
            [
             0.3333333333333333,
             "#9c179e"
            ],
            [
             0.4444444444444444,
             "#bd3786"
            ],
            [
             0.5555555555555556,
             "#d8576b"
            ],
            [
             0.6666666666666666,
             "#ed7953"
            ],
            [
             0.7777777777777778,
             "#fb9f3a"
            ],
            [
             0.8888888888888888,
             "#fdca26"
            ],
            [
             1,
             "#f0f921"
            ]
           ],
           "sequentialminus": [
            [
             0,
             "#0d0887"
            ],
            [
             0.1111111111111111,
             "#46039f"
            ],
            [
             0.2222222222222222,
             "#7201a8"
            ],
            [
             0.3333333333333333,
             "#9c179e"
            ],
            [
             0.4444444444444444,
             "#bd3786"
            ],
            [
             0.5555555555555556,
             "#d8576b"
            ],
            [
             0.6666666666666666,
             "#ed7953"
            ],
            [
             0.7777777777777778,
             "#fb9f3a"
            ],
            [
             0.8888888888888888,
             "#fdca26"
            ],
            [
             1,
             "#f0f921"
            ]
           ]
          },
          "colorway": [
           "#636efa",
           "#EF553B",
           "#00cc96",
           "#ab63fa",
           "#FFA15A",
           "#19d3f3",
           "#FF6692",
           "#B6E880",
           "#FF97FF",
           "#FECB52"
          ],
          "font": {
           "color": "#2a3f5f"
          },
          "geo": {
           "bgcolor": "white",
           "lakecolor": "white",
           "landcolor": "white",
           "showlakes": true,
           "showland": true,
           "subunitcolor": "#C8D4E3"
          },
          "hoverlabel": {
           "align": "left"
          },
          "hovermode": "closest",
          "mapbox": {
           "style": "light"
          },
          "paper_bgcolor": "white",
          "plot_bgcolor": "white",
          "polar": {
           "angularaxis": {
            "gridcolor": "#EBF0F8",
            "linecolor": "#EBF0F8",
            "ticks": ""
           },
           "bgcolor": "white",
           "radialaxis": {
            "gridcolor": "#EBF0F8",
            "linecolor": "#EBF0F8",
            "ticks": ""
           }
          },
          "scene": {
           "xaxis": {
            "backgroundcolor": "white",
            "gridcolor": "#DFE8F3",
            "gridwidth": 2,
            "linecolor": "#EBF0F8",
            "showbackground": true,
            "ticks": "",
            "zerolinecolor": "#EBF0F8"
           },
           "yaxis": {
            "backgroundcolor": "white",
            "gridcolor": "#DFE8F3",
            "gridwidth": 2,
            "linecolor": "#EBF0F8",
            "showbackground": true,
            "ticks": "",
            "zerolinecolor": "#EBF0F8"
           },
           "zaxis": {
            "backgroundcolor": "white",
            "gridcolor": "#DFE8F3",
            "gridwidth": 2,
            "linecolor": "#EBF0F8",
            "showbackground": true,
            "ticks": "",
            "zerolinecolor": "#EBF0F8"
           }
          },
          "shapedefaults": {
           "line": {
            "color": "#2a3f5f"
           }
          },
          "ternary": {
           "aaxis": {
            "gridcolor": "#DFE8F3",
            "linecolor": "#A2B1C6",
            "ticks": ""
           },
           "baxis": {
            "gridcolor": "#DFE8F3",
            "linecolor": "#A2B1C6",
            "ticks": ""
           },
           "bgcolor": "white",
           "caxis": {
            "gridcolor": "#DFE8F3",
            "linecolor": "#A2B1C6",
            "ticks": ""
           }
          },
          "title": {
           "x": 0.05
          },
          "xaxis": {
           "automargin": true,
           "gridcolor": "#EBF0F8",
           "linecolor": "#EBF0F8",
           "ticks": "",
           "title": {
            "standoff": 15
           },
           "zerolinecolor": "#EBF0F8",
           "zerolinewidth": 2
          },
          "yaxis": {
           "automargin": true,
           "gridcolor": "#EBF0F8",
           "linecolor": "#EBF0F8",
           "ticks": "",
           "title": {
            "standoff": 15
           },
           "zerolinecolor": "#EBF0F8",
           "zerolinewidth": 2
          }
         }
        },
        "xaxis": {
         "anchor": "y",
         "domain": [
          0,
          1
         ],
         "showticklabels": true,
         "visible": true
        },
        "yaxis": {
         "anchor": "x",
         "domain": [
          0,
          1
         ]
        }
       }
      }
     },
     "metadata": {},
     "output_type": "display_data"
    }
   ],
   "source": [
    "cross_validation=crossvalidation_df.copy()\n",
    "cross_validation.rename(columns = {'y' : 'actual'}, inplace = True) # rename actual values \n",
    "\n",
    "cutoff = cross_validation['cutoff'].unique()\n",
    "\n",
    "for k in range(len(cutoff)): \n",
    "    cv = cross_validation[cross_validation['cutoff'] == cutoff[k]]\n",
    "    StatsForecast.plot(df, cv.loc[:, cv.columns != 'cutoff'])"
   ]
  },
  {
   "attachments": {},
   "cell_type": "markdown",
   "metadata": {},
   "source": [
    "# **9. Evaluate the model** <a class=\"anchor\" id=\"9\"></a>\n",
    "\n",
    "[Table of Contents](#0.1)\n",
    "\n",
    "We can now compute the accuracy of the forecast using an appropiate accuracy metric. Here we’ll use the Root Mean Squared Error (RMSE). To do this, we first need to `install datasetsforecast`, a Python library developed **by Nixtla** that includes a function to compute the RMSE.\n",
    "\n",
    "`pip install datasetsforecast`"
   ]
  },
  {
   "cell_type": "code",
   "execution_count": 34,
   "metadata": {},
   "outputs": [],
   "source": [
    "from datasetsforecast.losses import rmse"
   ]
  },
  {
   "attachments": {},
   "cell_type": "markdown",
   "metadata": {},
   "source": [
    "The function to compute the RMSE takes two arguments:\n",
    "\n",
    "1. The actual values.\n",
    "2. The forecasts, in this case, `Simple Exponential Smoothing Optimized Model`."
   ]
  },
  {
   "cell_type": "code",
   "execution_count": 35,
   "metadata": {},
   "outputs": [
    {
     "name": "stdout",
     "output_type": "stream",
     "text": [
      "RMSE using cross-validation:  30098.377\n"
     ]
    }
   ],
   "source": [
    "rmse = rmse(cross_validation['actual'], cross_validation[\"SESOpt\"])\n",
    "print(\"RMSE using cross-validation: \", rmse)"
   ]
  },
  {
   "attachments": {},
   "cell_type": "markdown",
   "metadata": {},
   "source": [
    "# **10. References** <a class=\"anchor\" id=\"10\"></a>\n",
    "\n",
    "[Table of Contents](#0)\n",
    "\n",
    "1. Changquan Huang • Alla Petukhina. Springer series (2022). Applied Time Series Analysis and Forecasting with Python. \n",
    "2. Ivan Svetunkov. [Forecasting and Analytics with the Augmented Dynamic Adaptive Model (ADAM)](https://openforecast.org/adam/)\n",
    "3. [James D. Hamilton. Time Series Analysis Princeton University Press, Princeton, New Jersey, 1st Edition, 1994.](https://press.princeton.edu/books/hardcover/9780691042893/time-series-analysis)\n",
    "4. [Nixtla Parameters](https://nixtla.github.io/statsforecast/src/core/models.html#arch-model).\n",
    "5. [Pandas available frequencies](https://pandas.pydata.org/pandas-docs/stable/user_guide/timeseries.html#offset-aliases).\n",
    "6. [Rob J. Hyndman and George Athanasopoulos (2018). “Forecasting principles and practice, Time series cross-validation”.](https://otexts.com/fpp3/tscv.html).\n",
    "7. [Seasonal periods- Rob J Hyndman](https://robjhyndman.com/hyndsight/seasonal-periods/).\n",
    "\n",
    "\n"
   ]
  }
 ],
 "metadata": {
  "kernelspec": {
   "display_name": "statsforecast",
   "language": "python",
   "name": "python3"
  },
  "language_info": {
   "codemirror_mode": {
    "name": "ipython",
    "version": 3
   },
   "file_extension": ".py",
   "mimetype": "text/x-python",
   "name": "python",
   "nbconvert_exporter": "python",
   "pygments_lexer": "ipython3",
   "version": "3.10.11"
  },
  "orig_nbformat": 4
 },
 "nbformat": 4,
 "nbformat_minor": 2
}
