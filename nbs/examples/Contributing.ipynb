{
 "cells": [
  {
   "cell_type": "markdown",
   "id": "14f5686c-449b-4376-8c58-fc8141f4b0f8",
   "metadata": {},
   "source": [
    "# How to Contribute\n",
    "\n",
    "> Installation instructions."
   ]
  },
  {
   "cell_type": "code",
   "execution_count": null,
   "id": "8a75da2f-38f2-4284-a7a1-29881af721b8",
   "metadata": {},
   "outputs": [],
   "source": []
  }
 ],
 "metadata": {
  "kernelspec": {
   "display_name": "Python 3 (ipykernel)",
   "language": "python",
   "name": "python3"
  }
 },
 "nbformat": 4,
 "nbformat_minor": 5
}
