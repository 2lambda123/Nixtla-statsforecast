{
 "cells": [
  {
   "cell_type": "markdown",
   "id": "14f5686c-449b-4376-8c58-fc8141f4b0f8",
   "metadata": {},
   "source": [
    "# Exogenous Regressors\n",
    "\n",
    "> In this notebook, we'll incorporate exogenous regressors to a StatsForecast model. "
   ]
  },
  {
   "cell_type": "markdown",
   "id": "3cb5086e-fdf9-475b-bb28-eea2bab999eb",
   "metadata": {},
   "source": [
    "::: {.callout-warning collapse=\"true\"}\n",
    "\n",
    "## Prerequesites\n",
    "\n",
    "This tutorial assumes basic familiarity with StatsForecast. For a minimal example visit the [Quick Start](https://nixtla.github.io/statsforecast/examples/getting_started_short.html) \n",
    ":::"
   ]
  },
  {
   "cell_type": "markdown",
   "id": "b2f0c790-56c9-45db-8345-4875fceb5e83",
   "metadata": {},
   "source": [
    "## Introduction \n",
    "\n",
    "**Exogenous regressors** are variables that can affect the values of a time series. They may not be directly related to the variable that is beging forecasted, but they can still have an impact on it. Examples of exogenous regressors are weather data, economic indicators, or promotional sales. They are typically collected from external sources and by incorporating them into a forecasting model, they can improve the accuracy of our predictions. \n",
    "\n",
    "By the end of this tutorial, you'll have a good understanding of how to incorporate exogenous regressors into [StatsForecast](https://nixtla.github.io/statsforecast/)'s models. Furthermore, you'll see how to evaluate their performance and decide whether or not they can help enhance the forecast. "
   ]
  },
  {
   "cell_type": "markdown",
   "id": "3af1e54e-9602-4341-9e94-3d163a5b46c6",
   "metadata": {},
   "source": [
    "**Outline**\n",
    "\n",
    "1. Install libraries\n",
    "2. Load and explore the data\n",
    "3. Split train/test set\n",
    "4. Add exogenous regressors\n",
    "5. Create future exogenous regressors\n",
    "6. Train model \n",
    "7. Evaluate results "
   ]
  },
  {
   "cell_type": "markdown",
   "id": "9c2c3ef4-3ff4-4e3b-b3f7-5d27482db846",
   "metadata": {},
   "source": [
    "::: {.callout-tip}\n",
    "You can use Colab to run this Notebook interactively <a href=\"https://colab.research.google.com/github/Nixtla/statsforecast/blob/main/nbs/examples/Exogenous.ipynb\" target=\"_parent\"><img src=\"https://colab.research.google.com/assets/colab-badge.svg\" alt=\"Open In Colab\"/></a>\n",
    "::: "
   ]
  },
  {
   "cell_type": "markdown",
   "id": "cb73834a-92a7-4f24-823c-b3690693fbf6",
   "metadata": {},
   "source": [
    "## Install libraries"
   ]
  },
  {
   "cell_type": "markdown",
   "id": "91cea3f0-d72b-4015-9c23-6009b63a493f",
   "metadata": {},
   "source": [
    "We assume that you have StatsForecast already installed. If not, check this guide for instructions on [how to install StatsForecast](https://nixtla.github.io/statsforecast/examples/installation.html) "
   ]
  },
  {
   "cell_type": "markdown",
   "id": "dcf790a7-9015-4baa-b184-be7b084d4b3e",
   "metadata": {},
   "source": [
    "Install the necessary packages using `pip install statsforecast`"
   ]
  },
  {
   "cell_type": "code",
   "execution_count": null,
   "id": "73b3cf45-f6d4-4eb8-9a8f-63eca4ee1fcd",
   "metadata": {},
   "outputs": [],
   "source": [
    "pip install statsforecast -U"
   ]
  },
  {
   "cell_type": "markdown",
   "id": "3e68ce7c-2e43-45cb-bd8a-26faf91fd4d1",
   "metadata": {},
   "source": [
    "## Load and explore the data\n",
    "\n",
    "In this example, we'll use a single time series from the [M5 Competition](https://www.sciencedirect.com/science/article/pii/S0169207021001187#:~:text=The%20objective%20of%20the%20M5,the%20uncertainty%20around%20these%20forecasts.) dataset. This series represents the daily sales of a product in a Walmart store. We'll first import the complete dataset from [datasetsforecast](https://github.com/Nixtla/datasetsforecast/tree/main/), which you can install using `pip install datasetsforecast`. "
   ]
  },
  {
   "cell_type": "code",
   "execution_count": null,
   "id": "78d76857-ad74-475c-8dc2-b03329a7e712",
   "metadata": {},
   "outputs": [],
   "source": [
    "pip install datasetsforecast -U"
   ]
  },
  {
   "cell_type": "code",
   "execution_count": null,
   "id": "45673c6b-eeae-4c5a-94c9-df8f51ac2212",
   "metadata": {},
   "outputs": [],
   "source": [
    "from datasetsforecast.m5 import M5"
   ]
  },
  {
   "cell_type": "markdown",
   "id": "3c735081-51b1-4f51-a6b5-0f5ac3700f37",
   "metadata": {},
   "source": [
    "The function to load the data is `M5.load`, which requieres the following argument. \n",
    "\n",
    "- `directory`: (str) The directory where the data will be downloaded. \n",
    "\n",
    "This function returns multiple outputs. We need the first two. \n",
    "\n",
    "- `Y_df`: (pandas DataFrame) The target time series with columns [`unique_id`, `ds`, `y`]. \n",
    "- `X_df`: (pandas DataFrame) Exogenous time series with columns [`unique_id`, `ds`, exogenous regressors]. "
   ]
  },
  {
   "cell_type": "code",
   "execution_count": null,
   "id": "7f45e42b-e954-4eb4-a2ac-a91fade4bdad",
   "metadata": {},
   "outputs": [],
   "source": [
    "Y_df, X_df, *_ = M5.load('./data')"
   ]
  },
  {
   "cell_type": "markdown",
   "id": "ca9cf93c-96f8-46b2-b117-69ab53e66a45",
   "metadata": {},
   "source": [
    "We now need to filter the dataset. The product-store combination that we'll use in this notebook has `unique_id = FOODS_3_586_CA_3`. This time series was chosen because it is not [intermittent](https://nixtla.github.io/statsforecast/examples/intermittentdata.html) and has exogenous regressors that will be useful for forecasting. "
   ]
  },
  {
   "cell_type": "code",
   "execution_count": null,
   "id": "58085405-4f9e-4150-8f78-07f4b9947826",
   "metadata": {},
   "outputs": [],
   "source": [
    "# Filter data \n",
    "Y_ts = Y_df[Y_df['unique_id'] == 'FOODS_3_586_CA_3'].reset_index(drop = True)\n",
    "X_ts = X_df[X_df['unique_id'] == 'FOODS_3_586_CA_3'].reset_index(drop = True)\n",
    "\n",
    "Y_ts.head()"
   ]
  },
  {
   "cell_type": "markdown",
   "id": "4481392d-59a9-4179-b28b-7179a551bb8b",
   "metadata": {},
   "source": [
    "We can plot the sales of this product-store combination with the `statsforecast.plot` method from the [StatsForecast](https://nixtla.github.io/statsforecast/core.html#statsforecast) class. This method has multiple parameters, and the requiered ones to generate the plots in this notebook are explained below. \n",
    "\n",
    "- `df`: A pandas dataframe with columns [`unique_id`, `ds`, `y`].\n",
    "- `forecasts_df`: A pandas dataframe with columns [`unique_id`, `ds`] and models.\n",
    "- `engine`: str = `plotly`. It can also be `matplotlib`. `plotly` generates interactive plots, while `matplotlib` generates static plots."
   ]
  },
  {
   "cell_type": "code",
   "execution_count": null,
   "id": "660075c7-0495-420e-8472-52be61a0c67a",
   "metadata": {},
   "outputs": [],
   "source": [
    "from statsforecast import StatsForecast "
   ]
  },
  {
   "cell_type": "code",
   "execution_count": null,
   "id": "1fa8fd2a-b3a3-43fa-a9a1-11f903a8c86f",
   "metadata": {},
   "outputs": [],
   "source": [
    "StatsForecast.plot(Y_ts) "
   ]
  },
  {
   "cell_type": "markdown",
   "id": "ccde2a07-ba78-45fd-9ea0-5085365f143d",
   "metadata": {},
   "source": [
    "The M5 Competition included several exogenous regressors. Here we'll use the following two.  \n",
    "    \n",
    "- `sell_price`: The price of the product for the given store. The price is provided per week. \n",
    "- `snap_CA`: A binary variable indicating whether the store allows SNAP purchases (1 if yes, 0 otherwise). SNAP stands for Supplement Nutrition Assitance Program, and it gives individuals and families money to help them purchase food products. "
   ]
  },
  {
   "cell_type": "code",
   "execution_count": null,
   "id": "93e354fa-ce4f-43f3-918f-7af4a8901292",
   "metadata": {},
   "outputs": [],
   "source": [
    "X_ts = X_ts[['unique_id', 'ds', 'sell_price', 'snap_CA']]\n",
    "X_ts.head()"
   ]
  },
  {
   "cell_type": "markdown",
   "id": "5506cf92-2a88-4444-9e4b-2fa32dbf4a64",
   "metadata": {},
   "source": [
    "Here the `unique_id` is a category, but for the exogenous regressors it needs to be a string. "
   ]
  },
  {
   "cell_type": "code",
   "execution_count": null,
   "id": "c8cc462c-166c-4d0e-969a-056032793854",
   "metadata": {},
   "outputs": [],
   "source": [
    "X_ts['unique_id'] = X_ts.unique_id.astype(str)"
   ]
  },
  {
   "cell_type": "markdown",
   "id": "840708a2-80a9-4d9f-9742-aeb261a4c5b9",
   "metadata": {},
   "source": [
    "We can plot the exogenous regressors using `plotly`. We could use `statsforecast.plot`, but then one of the regressors must be renamed `y`, and the name must be changed back to the original before generating the forecast. "
   ]
  },
  {
   "cell_type": "code",
   "execution_count": null,
   "id": "4b7662c2-e51f-4d25-8d9d-881a62456fc2",
   "metadata": {},
   "outputs": [],
   "source": [
    "import plotly.express as px\n",
    "\n",
    "fig = px.line(X_ts, x = 'ds', y = ['sell_price', 'snap_CA'], title = 'Exogenous Regressors')\n",
    "fig.update_layout(template=\"plotly_white\")\n",
    "fig.show()"
   ]
  },
  {
   "cell_type": "markdown",
   "id": "c57ac60d-16b6-453b-b07a-0a1f451aaee0",
   "metadata": {},
   "source": [
    "From this plot, we can conclude that price has increased twice and that SNAP occurs at regular intervals. "
   ]
  },
  {
   "cell_type": "markdown",
   "id": "1a1aac79-701f-46b4-9c7d-2da76cb2cd2c",
   "metadata": {},
   "source": [
    "## Split train/test set "
   ]
  },
  {
   "cell_type": "markdown",
   "id": "596eb0d3-d0fc-4dcb-bb76-2ec197109d40",
   "metadata": {},
   "source": [
    "In the M5 Competition, participants had to forecast sales for the last 28 days in the dataset. We'll use the same forecast horizon and create the train and test sets accordingly. "
   ]
  },
  {
   "cell_type": "code",
   "execution_count": null,
   "id": "1fe058c9-3b4b-4d49-9320-f18e49ad2e2d",
   "metadata": {},
   "outputs": [],
   "source": [
    "# Extract dates for train and test set \n",
    "dates = Y_df['ds'].unique()\n",
    "dtrain = dates[:-28]\n",
    "dtest = dates[-28:]\n",
    "\n",
    "Y_train = Y_ts.query('ds in @dtrain')\n",
    "Y_test = Y_ts.query('ds in @dtest') \n",
    "\n",
    "X_train = X_ts.query('ds in @dtrain') \n",
    "X_test = X_ts.query('ds in @dtest')"
   ]
  },
  {
   "cell_type": "markdown",
   "id": "4fc97130-6b44-4727-b5b4-d3c2f27f5fc8",
   "metadata": {},
   "source": [
    "## Add exogenous regressors "
   ]
  },
  {
   "cell_type": "markdown",
   "id": "5af06ced-358f-427c-8db1-e1c83e0b4ae7",
   "metadata": {},
   "source": [
    "The exogenous regressors need to be place after the target variable `y`. "
   ]
  },
  {
   "cell_type": "code",
   "execution_count": null,
   "id": "ce95297c-cf27-405f-a0b0-399bc4178b98",
   "metadata": {},
   "outputs": [],
   "source": [
    "train = Y_train.merge(X_ts, how = 'left', on = ['unique_id', 'ds']) \n",
    "train.head()"
   ]
  },
  {
   "cell_type": "markdown",
   "id": "da0f674b-1d69-4101-bdfb-cd8c4393bdea",
   "metadata": {},
   "source": [
    "## Create future exogenous regressors "
   ]
  },
  {
   "cell_type": "markdown",
   "id": "2a76e4bb-ded3-4178-827a-2b7d1ca1e7ec",
   "metadata": {},
   "source": [
    "We need to include the future values of the exogenous regressors so that we can produce the forecasts. Notice that we already have this information in `X_test`. "
   ]
  },
  {
   "cell_type": "code",
   "execution_count": null,
   "id": "376f4132-f376-4296-801f-6d0489f0060e",
   "metadata": {},
   "outputs": [],
   "source": [
    "X_test.head()"
   ]
  },
  {
   "cell_type": "markdown",
   "id": "2bcbf439-a536-4565-984b-544bee40a683",
   "metadata": {},
   "source": [
    "::: {.callout-important}\n",
    "\n",
    "If the future values of the exogenous regressors are not available, then they must be forecasted or the regressors need to be eliminated from the model. Without them, it is not possible to generate the forecast. \n",
    "\n",
    ":::"
   ]
  },
  {
   "cell_type": "markdown",
   "id": "c3e32a7d-6a97-416f-ab02-a58f45356e9a",
   "metadata": {},
   "source": [
    "## Train model "
   ]
  },
  {
   "cell_type": "markdown",
   "id": "f2133e1d-5b6e-4a91-8df3-97d6869b1559",
   "metadata": {},
   "source": [
    "To generate the forecast, we'll use [AutoARIMA](https://nixtla.github.io/statsforecast/models.html#autoarima), which is one of the models available in StatsForecast that allows exogenous regressors. To use this model, we first need to import it from `statsforecast.models` and then we need to instatiate it. Given that we're working with daily data, we need to set `season_length = 7`. "
   ]
  },
  {
   "cell_type": "code",
   "execution_count": null,
   "id": "e6b188d6-4526-4532-acbc-766e939a4d3a",
   "metadata": {},
   "outputs": [],
   "source": [
    "from statsforecast.models import AutoARIMA\n",
    "\n",
    "# Create a list with the model and its instantiation parameters \n",
    "models = [AutoARIMA(season_length = 7)]"
   ]
  },
  {
   "cell_type": "markdown",
   "id": "459c143a-4b88-44fc-8d83-d5ed5be4b6fa",
   "metadata": {},
   "source": [
    "Next, we need to instantiate a new StatsForecast object, which has the following parameters. \n",
    "\n",
    "- `df`: The dataframe with the training data.\n",
    "- `models`: The list of models defined in the previous step.\n",
    "- `freq`: A string indicating the frequency of the data. See [pandas’ available frequencies](https://pandas.pydata.org/pandas-docs/stable/user_guide/timeseries.html#offset-aliases).\n",
    "- `n_jobs`: An integer that indicates the number of jobs used in parallel processing. Use -1 to select all cores."
   ]
  },
  {
   "cell_type": "code",
   "execution_count": null,
   "id": "8622382d-72d9-412f-a5b5-0f93b6166cde",
   "metadata": {},
   "outputs": [],
   "source": [
    "sf = StatsForecast(\n",
    "    df = train, \n",
    "    models = models, \n",
    "    freq = 'D', \n",
    "    n_jobs = -1\n",
    ")"
   ]
  },
  {
   "cell_type": "markdown",
   "id": "08dd211a-13c8-42ef-9088-dbc3d3714516",
   "metadata": {},
   "source": [
    "Now we're ready to generate the forecast. To do this, we'll use the `forecast` method, which takes the following arguments. \n",
    "\n",
    "- `h`: An integer that represents the forecast horizon. In this case, we'll forecast the next 28 days. \n",
    "- `X_df`: A pandas dataframe with the future values of the exogenous regressors. \n",
    "- `level`:  A list of floats with the confidence levels of the prediction intervals. For example, `level=[95]` means that the range of values should include the actual future value with probability 95%."
   ]
  },
  {
   "cell_type": "code",
   "execution_count": null,
   "id": "465193b1-2c55-4b68-9432-37933b5e2b2c",
   "metadata": {},
   "outputs": [],
   "source": [
    "horizon = 28\n",
    "level = [95]\n",
    "\n",
    "fcst = sf.forecast(h = horizon, X_df = X_test, level = level)\n",
    "fcst = fcst.reset_index()\n",
    "fcst.head()"
   ]
  },
  {
   "cell_type": "markdown",
   "id": "ab36cb16-3df3-4f6e-b764-a1d3b4260119",
   "metadata": {},
   "source": [
    "We can plot the forecasts with the `statsforecast.plot` method described above. "
   ]
  },
  {
   "cell_type": "code",
   "execution_count": null,
   "id": "f7b63365-37fe-4503-a0dd-c2eefbb9196b",
   "metadata": {},
   "outputs": [],
   "source": [
    "StatsForecast.plot(Y_ts, fcst) "
   ]
  },
  {
   "cell_type": "markdown",
   "id": "bbc2d42e-2307-4836-8b4d-ffe95ac7d99f",
   "metadata": {},
   "source": [
    "## Evaluate results "
   ]
  },
  {
   "cell_type": "markdown",
   "id": "81b2fcf2-0206-410d-8186-381728c2b60e",
   "metadata": {},
   "source": [
    "We'll merge the test set and the forecast to evaluate the accuracy using the [mean absolute error](https://en.wikipedia.org/wiki/Mean_absolute_error) (MAE). "
   ]
  },
  {
   "cell_type": "code",
   "execution_count": null,
   "id": "6b87c7d6-ac73-4013-ab55-29079e143344",
   "metadata": {},
   "outputs": [],
   "source": [
    "res = Y_test.merge(fcst, how = 'left', on = ['unique_id', 'ds'])\n",
    "res.head()"
   ]
  },
  {
   "cell_type": "code",
   "execution_count": null,
   "id": "79e9647e-e0b8-46b8-83ac-14e465ba1a9d",
   "metadata": {},
   "outputs": [],
   "source": [
    "mae = abs(res['y']-res['AutoARIMA']).mean()\n",
    "print('The MAE with exogenous regressors is '+str(round(mae,2)))"
   ]
  },
  {
   "cell_type": "markdown",
   "id": "7de253b8-7502-41f2-87b1-032624bd9363",
   "metadata": {},
   "source": [
    "To check whether the exogenous regressors were useful or not, we need to generate the forecast again, now without them. To do this, we need to instantiate a new StatsForecast object. Notice that the data only includes `unique_id`, `ds`, and `y`. The `forecast` method no longer requieres the future values of the exogenous regressors `X_df`. "
   ]
  },
  {
   "cell_type": "code",
   "execution_count": null,
   "id": "0ff9c4af-febc-424e-954b-8eb495136c79",
   "metadata": {},
   "outputs": [],
   "source": [
    "# univariate model \n",
    "sf_u = StatsForecast(\n",
    "    df = train[['unique_id', 'ds', 'y']], \n",
    "    models = models, \n",
    "    freq = 'D', \n",
    "    n_jobs = -1\n",
    ")\n",
    "\n",
    "fcst_u = sf_u.forecast(h = 28)\n",
    "\n",
    "res_u = Y_test.merge(fcst_u, how = 'left', on = ['unique_id', 'ds'])\n",
    "mae_u = abs(res_u['y']-res_u['AutoARIMA']).mean()"
   ]
  },
  {
   "cell_type": "code",
   "execution_count": null,
   "id": "c7f578c9-ce2d-4b24-b6fb-c372916b074e",
   "metadata": {},
   "outputs": [],
   "source": [
    "print('The MAE without exogenous regressors is '+str(round(mae_u,2)))"
   ]
  },
  {
   "cell_type": "markdown",
   "id": "29625b70-8eb4-47ca-8b36-e698888831d7",
   "metadata": {},
   "source": [
    "Hence, we can conclude that using `sell_price` and `snap_CA` as external regressors helped improve the forecast. "
   ]
  }
 ],
 "metadata": {
  "kernelspec": {
   "display_name": "Python 3 (ipykernel)",
   "language": "python",
   "name": "python3"
  }
 },
 "nbformat": 4,
 "nbformat_minor": 5
}
