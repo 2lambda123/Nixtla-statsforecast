{
 "cells": [
  {
   "cell_type": "markdown",
   "id": "14f5686c-449b-4376-8c58-fc8141f4b0f8",
   "metadata": {},
   "source": [
    "# Exogenous Regressors\n",
    "\n",
    "> How to include exogenous regressors."
   ]
  },
  {
   "cell_type": "markdown",
   "id": "3af1e54e-9602-4341-9e94-3d163a5b46c6",
   "metadata": {},
   "source": [
    "With `StatsForecast` you can easily include exogenous regressors. Some methods, such as `AutoARIMA`, have the ability to include exogenous regressors, while other models only use the time series information. `StatsForecast` takes care of passing the exogenous variables to the models that use them. "
   ]
  },
  {
   "cell_type": "markdown",
   "id": "cb73834a-92a7-4f24-823c-b3690693fbf6",
   "metadata": {},
   "source": [
    "## Install statsforecast"
   ]
  },
  {
   "cell_type": "code",
   "execution_count": null,
   "id": "c54ea861-6b2c-4be6-9bf9-4e73432f6e48",
   "metadata": {},
   "outputs": [],
   "source": [
    "%%capture\n",
    "!pip install statsforecast"
   ]
  },
  {
   "cell_type": "code",
   "execution_count": null,
   "id": "6043409b-b24f-416f-8157-1867b5d2d159",
   "metadata": {},
   "outputs": [],
   "source": [
    "import matplotlib.pyplot as plt\n",
    "import numpy as np\n",
    "import pandas as pd\n",
    "\n",
    "from statsforecast import StatsForecast\n",
    "from statsforecast.models import AutoARIMA\n",
    "from statsforecast.utils import AirPassengersDF as Y_df"
   ]
  },
  {
   "cell_type": "markdown",
   "id": "3e68ce7c-2e43-45cb-bd8a-26faf91fd4d1",
   "metadata": {},
   "source": [
    "In this example, we will use the `AirPassengers` dataset to show how to work with exogenous regressors."
   ]
  },
  {
   "cell_type": "code",
   "execution_count": null,
   "id": "26bac08c-2705-4382-9cc9-cfd7e1dd39f6",
   "metadata": {},
   "outputs": [
    {
     "data": {
      "text/html": [
       "<div>\n",
       "<style scoped>\n",
       "    .dataframe tbody tr th:only-of-type {\n",
       "        vertical-align: middle;\n",
       "    }\n",
       "\n",
       "    .dataframe tbody tr th {\n",
       "        vertical-align: top;\n",
       "    }\n",
       "\n",
       "    .dataframe thead th {\n",
       "        text-align: right;\n",
       "    }\n",
       "</style>\n",
       "<table border=\"1\" class=\"dataframe\">\n",
       "  <thead>\n",
       "    <tr style=\"text-align: right;\">\n",
       "      <th></th>\n",
       "      <th>unique_id</th>\n",
       "      <th>ds</th>\n",
       "      <th>y</th>\n",
       "    </tr>\n",
       "  </thead>\n",
       "  <tbody>\n",
       "    <tr>\n",
       "      <th>0</th>\n",
       "      <td>1.0</td>\n",
       "      <td>1949-01-31</td>\n",
       "      <td>112.0</td>\n",
       "    </tr>\n",
       "    <tr>\n",
       "      <th>1</th>\n",
       "      <td>1.0</td>\n",
       "      <td>1949-02-28</td>\n",
       "      <td>118.0</td>\n",
       "    </tr>\n",
       "    <tr>\n",
       "      <th>2</th>\n",
       "      <td>1.0</td>\n",
       "      <td>1949-03-31</td>\n",
       "      <td>132.0</td>\n",
       "    </tr>\n",
       "    <tr>\n",
       "      <th>3</th>\n",
       "      <td>1.0</td>\n",
       "      <td>1949-04-30</td>\n",
       "      <td>129.0</td>\n",
       "    </tr>\n",
       "    <tr>\n",
       "      <th>4</th>\n",
       "      <td>1.0</td>\n",
       "      <td>1949-05-31</td>\n",
       "      <td>121.0</td>\n",
       "    </tr>\n",
       "  </tbody>\n",
       "</table>\n",
       "</div>"
      ],
      "text/plain": [
       "   unique_id         ds      y\n",
       "0        1.0 1949-01-31  112.0\n",
       "1        1.0 1949-02-28  118.0\n",
       "2        1.0 1949-03-31  132.0\n",
       "3        1.0 1949-04-30  129.0\n",
       "4        1.0 1949-05-31  121.0"
      ]
     },
     "execution_count": null,
     "metadata": {},
     "output_type": "execute_result"
    }
   ],
   "source": [
    "Y_df.head()"
   ]
  },
  {
   "cell_type": "markdown",
   "id": "7ac3eb45-b85c-437e-867c-1a65b8ccad86",
   "metadata": {},
   "source": [
    "## Split train/test sets"
   ]
  },
  {
   "cell_type": "markdown",
   "id": "4d5c2769-728f-4b6f-903f-b02f3d894753",
   "metadata": {},
   "source": [
    "We will use the last `12` observations of the dataset as the test set."
   ]
  },
  {
   "cell_type": "code",
   "execution_count": null,
   "id": "27806383-80b5-4351-9bfb-85af3610dfc2",
   "metadata": {},
   "outputs": [],
   "source": [
    "horizon = 12\n",
    "Y_train_df = Y_df[Y_df.ds<='1959-12-31'] # 132 train\n",
    "Y_test_df = Y_df[Y_df.ds>'1959-12-31'] # 12 test"
   ]
  },
  {
   "cell_type": "markdown",
   "id": "23d919d1-878a-417f-9761-dde0525db41c",
   "metadata": {},
   "source": [
    "## Add exogenous regressors"
   ]
  },
  {
   "cell_type": "markdown",
   "id": "87b9e8d9-fd8c-4802-a69f-7e11502b21eb",
   "metadata": {},
   "source": [
    "In this example, we will include the `trend` as exogenous regressor. But you can include as many as you have or want."
   ]
  },
  {
   "cell_type": "code",
   "execution_count": null,
   "id": "3d3db62d-3771-446d-975b-6ae59bf2cf47",
   "metadata": {},
   "outputs": [],
   "source": [
    "%%capture\n",
    "Y_train_df['trend'] = np.arange(1, len(Y_train_df) + 1)"
   ]
  },
  {
   "cell_type": "code",
   "execution_count": null,
   "id": "547ee3dc-05a0-458e-ae3a-7d17fef9a204",
   "metadata": {},
   "outputs": [
    {
     "data": {
      "text/html": [
       "<div>\n",
       "<style scoped>\n",
       "    .dataframe tbody tr th:only-of-type {\n",
       "        vertical-align: middle;\n",
       "    }\n",
       "\n",
       "    .dataframe tbody tr th {\n",
       "        vertical-align: top;\n",
       "    }\n",
       "\n",
       "    .dataframe thead th {\n",
       "        text-align: right;\n",
       "    }\n",
       "</style>\n",
       "<table border=\"1\" class=\"dataframe\">\n",
       "  <thead>\n",
       "    <tr style=\"text-align: right;\">\n",
       "      <th></th>\n",
       "      <th>unique_id</th>\n",
       "      <th>ds</th>\n",
       "      <th>y</th>\n",
       "      <th>trend</th>\n",
       "    </tr>\n",
       "  </thead>\n",
       "  <tbody>\n",
       "    <tr>\n",
       "      <th>0</th>\n",
       "      <td>1.0</td>\n",
       "      <td>1949-01-31</td>\n",
       "      <td>112.0</td>\n",
       "      <td>1</td>\n",
       "    </tr>\n",
       "    <tr>\n",
       "      <th>1</th>\n",
       "      <td>1.0</td>\n",
       "      <td>1949-02-28</td>\n",
       "      <td>118.0</td>\n",
       "      <td>2</td>\n",
       "    </tr>\n",
       "    <tr>\n",
       "      <th>2</th>\n",
       "      <td>1.0</td>\n",
       "      <td>1949-03-31</td>\n",
       "      <td>132.0</td>\n",
       "      <td>3</td>\n",
       "    </tr>\n",
       "    <tr>\n",
       "      <th>3</th>\n",
       "      <td>1.0</td>\n",
       "      <td>1949-04-30</td>\n",
       "      <td>129.0</td>\n",
       "      <td>4</td>\n",
       "    </tr>\n",
       "    <tr>\n",
       "      <th>4</th>\n",
       "      <td>1.0</td>\n",
       "      <td>1949-05-31</td>\n",
       "      <td>121.0</td>\n",
       "      <td>5</td>\n",
       "    </tr>\n",
       "  </tbody>\n",
       "</table>\n",
       "</div>"
      ],
      "text/plain": [
       "   unique_id         ds      y  trend\n",
       "0        1.0 1949-01-31  112.0      1\n",
       "1        1.0 1949-02-28  118.0      2\n",
       "2        1.0 1949-03-31  132.0      3\n",
       "3        1.0 1949-04-30  129.0      4\n",
       "4        1.0 1949-05-31  121.0      5"
      ]
     },
     "execution_count": null,
     "metadata": {},
     "output_type": "execute_result"
    }
   ],
   "source": [
    "Y_train_df.head()"
   ]
  },
  {
   "cell_type": "code",
   "execution_count": null,
   "id": "5c964926-b72c-4ad6-8276-509a248173d4",
   "metadata": {},
   "outputs": [
    {
     "data": {
      "text/html": [
       "<div>\n",
       "<style scoped>\n",
       "    .dataframe tbody tr th:only-of-type {\n",
       "        vertical-align: middle;\n",
       "    }\n",
       "\n",
       "    .dataframe tbody tr th {\n",
       "        vertical-align: top;\n",
       "    }\n",
       "\n",
       "    .dataframe thead th {\n",
       "        text-align: right;\n",
       "    }\n",
       "</style>\n",
       "<table border=\"1\" class=\"dataframe\">\n",
       "  <thead>\n",
       "    <tr style=\"text-align: right;\">\n",
       "      <th></th>\n",
       "      <th>unique_id</th>\n",
       "      <th>ds</th>\n",
       "      <th>y</th>\n",
       "      <th>trend</th>\n",
       "    </tr>\n",
       "  </thead>\n",
       "  <tbody>\n",
       "    <tr>\n",
       "      <th>127</th>\n",
       "      <td>1.0</td>\n",
       "      <td>1959-08-31</td>\n",
       "      <td>559.0</td>\n",
       "      <td>128</td>\n",
       "    </tr>\n",
       "    <tr>\n",
       "      <th>128</th>\n",
       "      <td>1.0</td>\n",
       "      <td>1959-09-30</td>\n",
       "      <td>463.0</td>\n",
       "      <td>129</td>\n",
       "    </tr>\n",
       "    <tr>\n",
       "      <th>129</th>\n",
       "      <td>1.0</td>\n",
       "      <td>1959-10-31</td>\n",
       "      <td>407.0</td>\n",
       "      <td>130</td>\n",
       "    </tr>\n",
       "    <tr>\n",
       "      <th>130</th>\n",
       "      <td>1.0</td>\n",
       "      <td>1959-11-30</td>\n",
       "      <td>362.0</td>\n",
       "      <td>131</td>\n",
       "    </tr>\n",
       "    <tr>\n",
       "      <th>131</th>\n",
       "      <td>1.0</td>\n",
       "      <td>1959-12-31</td>\n",
       "      <td>405.0</td>\n",
       "      <td>132</td>\n",
       "    </tr>\n",
       "  </tbody>\n",
       "</table>\n",
       "</div>"
      ],
      "text/plain": [
       "     unique_id         ds      y  trend\n",
       "127        1.0 1959-08-31  559.0    128\n",
       "128        1.0 1959-09-30  463.0    129\n",
       "129        1.0 1959-10-31  407.0    130\n",
       "130        1.0 1959-11-30  362.0    131\n",
       "131        1.0 1959-12-31  405.0    132"
      ]
     },
     "execution_count": null,
     "metadata": {},
     "output_type": "execute_result"
    }
   ],
   "source": [
    "Y_train_df.tail()"
   ]
  },
  {
   "cell_type": "markdown",
   "id": "164eb64a-e590-4267-9a0e-7a217268e357",
   "metadata": {},
   "source": [
    "Observe that the exogenous regressors have to be placed after the target variable `y`."
   ]
  },
  {
   "cell_type": "markdown",
   "id": "dc263cd5-215f-4285-8911-63d4a9e0700b",
   "metadata": {},
   "source": [
    "### Create future exogenous regressors"
   ]
  },
  {
   "cell_type": "markdown",
   "id": "65f00931-b345-4143-8330-798702e5bce7",
   "metadata": {},
   "source": [
    "In order for the model to produce forecasts, it needs the future exogenous regressors. In this section we will construct a dataframe that includes the future `trend`."
   ]
  },
  {
   "cell_type": "code",
   "execution_count": null,
   "id": "37518642-1232-4976-b450-48bffec0a964",
   "metadata": {},
   "outputs": [
    {
     "data": {
      "text/html": [
       "<div>\n",
       "<style scoped>\n",
       "    .dataframe tbody tr th:only-of-type {\n",
       "        vertical-align: middle;\n",
       "    }\n",
       "\n",
       "    .dataframe tbody tr th {\n",
       "        vertical-align: top;\n",
       "    }\n",
       "\n",
       "    .dataframe thead th {\n",
       "        text-align: right;\n",
       "    }\n",
       "</style>\n",
       "<table border=\"1\" class=\"dataframe\">\n",
       "  <thead>\n",
       "    <tr style=\"text-align: right;\">\n",
       "      <th></th>\n",
       "      <th>unique_id</th>\n",
       "      <th>ds</th>\n",
       "      <th>trend</th>\n",
       "    </tr>\n",
       "  </thead>\n",
       "  <tbody>\n",
       "    <tr>\n",
       "      <th>0</th>\n",
       "      <td>1.0</td>\n",
       "      <td>1960-01-31</td>\n",
       "      <td>133</td>\n",
       "    </tr>\n",
       "    <tr>\n",
       "      <th>1</th>\n",
       "      <td>1.0</td>\n",
       "      <td>1960-02-29</td>\n",
       "      <td>134</td>\n",
       "    </tr>\n",
       "    <tr>\n",
       "      <th>2</th>\n",
       "      <td>1.0</td>\n",
       "      <td>1960-03-31</td>\n",
       "      <td>135</td>\n",
       "    </tr>\n",
       "    <tr>\n",
       "      <th>3</th>\n",
       "      <td>1.0</td>\n",
       "      <td>1960-04-30</td>\n",
       "      <td>136</td>\n",
       "    </tr>\n",
       "    <tr>\n",
       "      <th>4</th>\n",
       "      <td>1.0</td>\n",
       "      <td>1960-05-31</td>\n",
       "      <td>137</td>\n",
       "    </tr>\n",
       "  </tbody>\n",
       "</table>\n",
       "</div>"
      ],
      "text/plain": [
       "   unique_id         ds  trend\n",
       "0        1.0 1960-01-31    133\n",
       "1        1.0 1960-02-29    134\n",
       "2        1.0 1960-03-31    135\n",
       "3        1.0 1960-04-30    136\n",
       "4        1.0 1960-05-31    137"
      ]
     },
     "execution_count": null,
     "metadata": {},
     "output_type": "execute_result"
    }
   ],
   "source": [
    "X_test_df = pd.DataFrame({\n",
    "  'unique_id': 1.0,\n",
    "  'ds': pd.date_range(start='1960-01-01', periods=horizon, freq='M')\n",
    "})\n",
    "# We construct xreg for test. The train series ends at the 133th step. \n",
    "X_test_df['trend'] = np.arange(133, 133 + horizon)\n",
    "X_test_df.head()"
   ]
  },
  {
   "cell_type": "markdown",
   "id": "075db4bb-d0d3-4f8b-a426-3868e194f2ee",
   "metadata": {},
   "source": [
    "## Train the model"
   ]
  },
  {
   "cell_type": "code",
   "execution_count": null,
   "id": "d67e483d-8166-468c-9eea-38f399ddd35c",
   "metadata": {},
   "outputs": [],
   "source": [
    "season_length = 12\n",
    "model = StatsForecast(\n",
    "    df=Y_train_df, \n",
    "    models=[AutoARIMA(season_length=12)], \n",
    "    freq='M', \n",
    "    n_jobs=-1\n",
    ")"
   ]
  },
  {
   "cell_type": "markdown",
   "id": "ad3ad2b0-70d7-48bb-9f36-e5a0c1727557",
   "metadata": {},
   "source": [
    "### Forecast mode"
   ]
  },
  {
   "cell_type": "markdown",
   "id": "18181485-d2ca-4527-b896-5eb4259c7b8d",
   "metadata": {},
   "source": [
    "The `StatsForecast.forecast` method is more computationally efficient since it does not save objects during training and predicting. The method receives the future exogenous regressors `X_test_df`. "
   ]
  },
  {
   "cell_type": "code",
   "execution_count": null,
   "id": "a9e191c9-365c-4bae-9a9f-81aee473fdc0",
   "metadata": {},
   "outputs": [
    {
     "data": {
      "text/html": [
       "<div>\n",
       "<style scoped>\n",
       "    .dataframe tbody tr th:only-of-type {\n",
       "        vertical-align: middle;\n",
       "    }\n",
       "\n",
       "    .dataframe tbody tr th {\n",
       "        vertical-align: top;\n",
       "    }\n",
       "\n",
       "    .dataframe thead th {\n",
       "        text-align: right;\n",
       "    }\n",
       "</style>\n",
       "<table border=\"1\" class=\"dataframe\">\n",
       "  <thead>\n",
       "    <tr style=\"text-align: right;\">\n",
       "      <th></th>\n",
       "      <th>unique_id</th>\n",
       "      <th>ds</th>\n",
       "      <th>AutoARIMA</th>\n",
       "    </tr>\n",
       "  </thead>\n",
       "  <tbody>\n",
       "    <tr>\n",
       "      <th>0</th>\n",
       "      <td>1.0</td>\n",
       "      <td>1960-01-31</td>\n",
       "      <td>414.551483</td>\n",
       "    </tr>\n",
       "    <tr>\n",
       "      <th>1</th>\n",
       "      <td>1.0</td>\n",
       "      <td>1960-02-29</td>\n",
       "      <td>387.550842</td>\n",
       "    </tr>\n",
       "    <tr>\n",
       "      <th>2</th>\n",
       "      <td>1.0</td>\n",
       "      <td>1960-03-31</td>\n",
       "      <td>445.526978</td>\n",
       "    </tr>\n",
       "    <tr>\n",
       "      <th>3</th>\n",
       "      <td>1.0</td>\n",
       "      <td>1960-04-30</td>\n",
       "      <td>431.495422</td>\n",
       "    </tr>\n",
       "    <tr>\n",
       "      <th>4</th>\n",
       "      <td>1.0</td>\n",
       "      <td>1960-05-31</td>\n",
       "      <td>452.797211</td>\n",
       "    </tr>\n",
       "  </tbody>\n",
       "</table>\n",
       "</div>"
      ],
      "text/plain": [
       "   unique_id         ds   AutoARIMA\n",
       "0        1.0 1960-01-31  414.551483\n",
       "1        1.0 1960-02-29  387.550842\n",
       "2        1.0 1960-03-31  445.526978\n",
       "3        1.0 1960-04-30  431.495422\n",
       "4        1.0 1960-05-31  452.797211"
      ]
     },
     "execution_count": null,
     "metadata": {},
     "output_type": "execute_result"
    }
   ],
   "source": [
    "Y_hat_df = model.forecast(horizon, X_df=X_test_df)\n",
    "Y_hat_df = Y_hat_df.reset_index()\n",
    "Y_hat_df.head()"
   ]
  },
  {
   "cell_type": "code",
   "execution_count": null,
   "id": "2a0bcc58-7ae1-4c0b-b4d2-99587c7e742b",
   "metadata": {},
   "outputs": [
    {
     "data": {
      "image/png": "[encoded data removed]",
      "text/plain": [
       "<Figure size 1440x504 with 1 Axes>"
      ]
     },
     "metadata": {
      "needs_background": "light"
     },
     "output_type": "display_data"
    }
   ],
   "source": [
    "fig, ax = plt.subplots(1, 1, figsize = (20, 7))\n",
    "Y_hat_df = Y_test_df.merge(Y_hat_df, how='left', on=['unique_id', 'ds'])\n",
    "df_plot = pd.concat([Y_train_df, Y_hat_df_xreg]).set_index('ds')\n",
    "df_plot[['y', 'AutoARIMA']].plot(ax=ax, linewidth=2)\n",
    "ax.set_title('AirPassengers Forecast (with AutoARIMA external regressors)', fontsize=22)\n",
    "ax.set_ylabel('Monthly Passengers', fontsize=20)\n",
    "ax.set_xlabel('Timestamp [t]', fontsize=20)\n",
    "ax.legend(prop={'size': 15})\n",
    "ax.grid()\n",
    "for label in (ax.get_xticklabels() + ax.get_yticklabels()):\n",
    "    label.set_fontsize(20)"
   ]
  },
  {
   "cell_type": "markdown",
   "id": "85a95234-2168-4d70-bac1-11d74125a311",
   "metadata": {},
   "source": [
    "### SKlearn syntax"
   ]
  },
  {
   "cell_type": "markdown",
   "id": "014c46f9-7df3-4a15-800a-cd9ce7087e86",
   "metadata": {},
   "source": [
    "The `sklearn` syntax can also be used. Fist, train the model using the `StatsForecast.fit` method."
   ]
  },
  {
   "cell_type": "code",
   "execution_count": null,
   "id": "d1383803-40ef-4607-86b1-c8d53f7343c5",
   "metadata": {},
   "outputs": [
    {
     "data": {
      "text/plain": [
       "StatsForecast(models=[AutoARIMA])"
      ]
     },
     "execution_count": null,
     "metadata": {},
     "output_type": "execute_result"
    }
   ],
   "source": [
    "model.fit()"
   ]
  },
  {
   "cell_type": "markdown",
   "id": "9bb29427-47fa-4695-9ab1-f22c23ece226",
   "metadata": {},
   "source": [
    "The use the fitted model to produce forecasts. Observe that the `StatsForecast.predict` method receives the future exogenous regressors."
   ]
  },
  {
   "cell_type": "code",
   "execution_count": null,
   "id": "b22fdc81-fdb6-4c02-9849-db7e860b2802",
   "metadata": {},
   "outputs": [
    {
     "data": {
      "text/html": [
       "<div>\n",
       "<style scoped>\n",
       "    .dataframe tbody tr th:only-of-type {\n",
       "        vertical-align: middle;\n",
       "    }\n",
       "\n",
       "    .dataframe tbody tr th {\n",
       "        vertical-align: top;\n",
       "    }\n",
       "\n",
       "    .dataframe thead th {\n",
       "        text-align: right;\n",
       "    }\n",
       "</style>\n",
       "<table border=\"1\" class=\"dataframe\">\n",
       "  <thead>\n",
       "    <tr style=\"text-align: right;\">\n",
       "      <th></th>\n",
       "      <th>ds</th>\n",
       "      <th>AutoARIMA</th>\n",
       "    </tr>\n",
       "    <tr>\n",
       "      <th>unique_id</th>\n",
       "      <th></th>\n",
       "      <th></th>\n",
       "    </tr>\n",
       "  </thead>\n",
       "  <tbody>\n",
       "    <tr>\n",
       "      <th>1.0</th>\n",
       "      <td>1960-01-31</td>\n",
       "      <td>414.551483</td>\n",
       "    </tr>\n",
       "    <tr>\n",
       "      <th>1.0</th>\n",
       "      <td>1960-02-29</td>\n",
       "      <td>387.550842</td>\n",
       "    </tr>\n",
       "    <tr>\n",
       "      <th>1.0</th>\n",
       "      <td>1960-03-31</td>\n",
       "      <td>445.526978</td>\n",
       "    </tr>\n",
       "    <tr>\n",
       "      <th>1.0</th>\n",
       "      <td>1960-04-30</td>\n",
       "      <td>431.495422</td>\n",
       "    </tr>\n",
       "    <tr>\n",
       "      <th>1.0</th>\n",
       "      <td>1960-05-31</td>\n",
       "      <td>452.797211</td>\n",
       "    </tr>\n",
       "    <tr>\n",
       "      <th>1.0</th>\n",
       "      <td>1960-06-30</td>\n",
       "      <td>502.991394</td>\n",
       "    </tr>\n",
       "    <tr>\n",
       "      <th>1.0</th>\n",
       "      <td>1960-07-31</td>\n",
       "      <td>577.782837</td>\n",
       "    </tr>\n",
       "    <tr>\n",
       "      <th>1.0</th>\n",
       "      <td>1960-08-31</td>\n",
       "      <td>587.973938</td>\n",
       "    </tr>\n",
       "    <tr>\n",
       "      <th>1.0</th>\n",
       "      <td>1960-09-30</td>\n",
       "      <td>491.432617</td>\n",
       "    </tr>\n",
       "    <tr>\n",
       "      <th>1.0</th>\n",
       "      <td>1960-10-31</td>\n",
       "      <td>435.070312</td>\n",
       "    </tr>\n",
       "    <tr>\n",
       "      <th>1.0</th>\n",
       "      <td>1960-11-30</td>\n",
       "      <td>389.827820</td>\n",
       "    </tr>\n",
       "    <tr>\n",
       "      <th>1.0</th>\n",
       "      <td>1960-12-31</td>\n",
       "      <td>432.665527</td>\n",
       "    </tr>\n",
       "  </tbody>\n",
       "</table>\n",
       "</div>"
      ],
      "text/plain": [
       "                  ds   AutoARIMA\n",
       "unique_id                       \n",
       "1.0       1960-01-31  414.551483\n",
       "1.0       1960-02-29  387.550842\n",
       "1.0       1960-03-31  445.526978\n",
       "1.0       1960-04-30  431.495422\n",
       "1.0       1960-05-31  452.797211\n",
       "1.0       1960-06-30  502.991394\n",
       "1.0       1960-07-31  577.782837\n",
       "1.0       1960-08-31  587.973938\n",
       "1.0       1960-09-30  491.432617\n",
       "1.0       1960-10-31  435.070312\n",
       "1.0       1960-11-30  389.827820\n",
       "1.0       1960-12-31  432.665527"
      ]
     },
     "execution_count": null,
     "metadata": {},
     "output_type": "execute_result"
    }
   ],
   "source": [
    "model.predict(horizon, X_df=X_test_df)"
   ]
  },
  {
   "cell_type": "markdown",
   "id": "36997793-43e2-4415-a36a-13a7927e78b9",
   "metadata": {},
   "source": [
    "## Including prediction intervals"
   ]
  },
  {
   "cell_type": "markdown",
   "id": "0bb8961d-81d8-464b-8910-8e655efb6c4b",
   "metadata": {},
   "source": [
    "You can also compute prediction intervals using exogenous regressors. Simply add the `level` argument."
   ]
  },
  {
   "cell_type": "markdown",
   "id": "6f851676-bb3c-4b01-b459-6522578643ef",
   "metadata": {},
   "source": [
    "### Forecast mode"
   ]
  },
  {
   "cell_type": "code",
   "execution_count": null,
   "id": "13f32825-402a-49fb-a7d2-dea2b456fe2e",
   "metadata": {},
   "outputs": [
    {
     "data": {
      "text/html": [
       "<div>\n",
       "<style scoped>\n",
       "    .dataframe tbody tr th:only-of-type {\n",
       "        vertical-align: middle;\n",
       "    }\n",
       "\n",
       "    .dataframe tbody tr th {\n",
       "        vertical-align: top;\n",
       "    }\n",
       "\n",
       "    .dataframe thead th {\n",
       "        text-align: right;\n",
       "    }\n",
       "</style>\n",
       "<table border=\"1\" class=\"dataframe\">\n",
       "  <thead>\n",
       "    <tr style=\"text-align: right;\">\n",
       "      <th></th>\n",
       "      <th>unique_id</th>\n",
       "      <th>ds</th>\n",
       "      <th>AutoARIMA</th>\n",
       "      <th>AutoARIMA-lo-95</th>\n",
       "      <th>AutoARIMA-lo-80</th>\n",
       "      <th>AutoARIMA-hi-80</th>\n",
       "      <th>AutoARIMA-hi-95</th>\n",
       "    </tr>\n",
       "  </thead>\n",
       "  <tbody>\n",
       "    <tr>\n",
       "      <th>0</th>\n",
       "      <td>1.0</td>\n",
       "      <td>1960-01-31</td>\n",
       "      <td>414.551483</td>\n",
       "      <td>393.468414</td>\n",
       "      <td>400.765991</td>\n",
       "      <td>428.337006</td>\n",
       "      <td>435.634583</td>\n",
       "    </tr>\n",
       "    <tr>\n",
       "      <th>1</th>\n",
       "      <td>1.0</td>\n",
       "      <td>1960-02-29</td>\n",
       "      <td>387.550842</td>\n",
       "      <td>362.181641</td>\n",
       "      <td>370.962830</td>\n",
       "      <td>404.138855</td>\n",
       "      <td>412.920044</td>\n",
       "    </tr>\n",
       "    <tr>\n",
       "      <th>2</th>\n",
       "      <td>1.0</td>\n",
       "      <td>1960-03-31</td>\n",
       "      <td>445.526978</td>\n",
       "      <td>418.457153</td>\n",
       "      <td>427.826965</td>\n",
       "      <td>463.226990</td>\n",
       "      <td>472.596832</td>\n",
       "    </tr>\n",
       "    <tr>\n",
       "      <th>3</th>\n",
       "      <td>1.0</td>\n",
       "      <td>1960-04-30</td>\n",
       "      <td>431.495422</td>\n",
       "      <td>403.697540</td>\n",
       "      <td>413.319366</td>\n",
       "      <td>449.671478</td>\n",
       "      <td>459.293304</td>\n",
       "    </tr>\n",
       "    <tr>\n",
       "      <th>4</th>\n",
       "      <td>1.0</td>\n",
       "      <td>1960-05-31</td>\n",
       "      <td>452.797211</td>\n",
       "      <td>424.679352</td>\n",
       "      <td>434.411926</td>\n",
       "      <td>471.182495</td>\n",
       "      <td>480.915070</td>\n",
       "    </tr>\n",
       "  </tbody>\n",
       "</table>\n",
       "</div>"
      ],
      "text/plain": [
       "   unique_id         ds   AutoARIMA  AutoARIMA-lo-95  AutoARIMA-lo-80  \\\n",
       "0        1.0 1960-01-31  414.551483       393.468414       400.765991   \n",
       "1        1.0 1960-02-29  387.550842       362.181641       370.962830   \n",
       "2        1.0 1960-03-31  445.526978       418.457153       427.826965   \n",
       "3        1.0 1960-04-30  431.495422       403.697540       413.319366   \n",
       "4        1.0 1960-05-31  452.797211       424.679352       434.411926   \n",
       "\n",
       "   AutoARIMA-hi-80  AutoARIMA-hi-95  \n",
       "0       428.337006       435.634583  \n",
       "1       404.138855       412.920044  \n",
       "2       463.226990       472.596832  \n",
       "3       449.671478       459.293304  \n",
       "4       471.182495       480.915070  "
      ]
     },
     "execution_count": null,
     "metadata": {},
     "output_type": "execute_result"
    }
   ],
   "source": [
    "Y_hat_df = model.forecast(horizon, X_df=X_test_df, level=(80,95))\n",
    "Y_hat_df = Y_hat_df.reset_index()\n",
    "Y_hat_df.head()"
   ]
  },
  {
   "cell_type": "code",
   "execution_count": null,
   "id": "d48b19af-ba38-467e-a0f4-b1f7380c0488",
   "metadata": {},
   "outputs": [
    {
     "data": {
      "image/png": "[encoded data removed]",
      "text/plain": [
       "<Figure size 1440x504 with 1 Axes>"
      ]
     },
     "metadata": {
      "needs_background": "light"
     },
     "output_type": "display_data"
    }
   ],
   "source": [
    "fig, ax = plt.subplots(1, 1, figsize = (20, 7))\n",
    "df_plot = pd.concat([Y_train_df, Y_hat_df]).set_index('ds')\n",
    "df_plot[['y', 'AutoARIMA']].plot(ax=ax, linewidth=2)\n",
    "ax.fill_between(df_plot.index, \n",
    "                df_plot['AutoARIMA-lo-80'], \n",
    "                df_plot['AutoARIMA-hi-80'],\n",
    "                alpha=.35,\n",
    "                color='orange',\n",
    "                label='auto_arima_level_80')\n",
    "ax.fill_between(df_plot.index, \n",
    "                df_plot['AutoARIMA-lo-95'], \n",
    "                df_plot['AutoARIMA-hi-95'],\n",
    "                alpha=.2,\n",
    "                color='orange',\n",
    "                label='auto_arima_level_95')\n",
    "ax.set_title('AirPassengers Forecast (with AutoARIMA external regressors and intervals)', fontsize=22)\n",
    "ax.set_ylabel('Monthly Passengers', fontsize=20)\n",
    "ax.set_xlabel('Timestamp [t]', fontsize=20)\n",
    "ax.legend(prop={'size': 15})\n",
    "ax.grid()\n",
    "for label in (ax.get_xticklabels() + ax.get_yticklabels()):\n",
    "    label.set_fontsize(20)"
   ]
  },
  {
   "cell_type": "markdown",
   "id": "7db57604-59ae-450a-9a0e-a496d3e2c6fd",
   "metadata": {},
   "source": [
    "### SKlearn syntax"
   ]
  },
  {
   "cell_type": "markdown",
   "id": "52b73f43-65b4-4d44-a04f-daf4599124a1",
   "metadata": {},
   "source": [
    "Since the model is already fitted, just add `level=(80,90)` to the `StatsForecast.predict` method."
   ]
  },
  {
   "cell_type": "code",
   "execution_count": null,
   "id": "4f74d8f0-1be1-400b-be7f-fc9e89ab876f",
   "metadata": {},
   "outputs": [
    {
     "data": {
      "text/html": [
       "<div>\n",
       "<style scoped>\n",
       "    .dataframe tbody tr th:only-of-type {\n",
       "        vertical-align: middle;\n",
       "    }\n",
       "\n",
       "    .dataframe tbody tr th {\n",
       "        vertical-align: top;\n",
       "    }\n",
       "\n",
       "    .dataframe thead th {\n",
       "        text-align: right;\n",
       "    }\n",
       "</style>\n",
       "<table border=\"1\" class=\"dataframe\">\n",
       "  <thead>\n",
       "    <tr style=\"text-align: right;\">\n",
       "      <th></th>\n",
       "      <th>ds</th>\n",
       "      <th>AutoARIMA</th>\n",
       "      <th>AutoARIMA-lo-90</th>\n",
       "      <th>AutoARIMA-lo-80</th>\n",
       "      <th>AutoARIMA-hi-80</th>\n",
       "      <th>AutoARIMA-hi-90</th>\n",
       "    </tr>\n",
       "    <tr>\n",
       "      <th>unique_id</th>\n",
       "      <th></th>\n",
       "      <th></th>\n",
       "      <th></th>\n",
       "      <th></th>\n",
       "      <th></th>\n",
       "      <th></th>\n",
       "    </tr>\n",
       "  </thead>\n",
       "  <tbody>\n",
       "    <tr>\n",
       "      <th>1.0</th>\n",
       "      <td>1960-01-31</td>\n",
       "      <td>414.551483</td>\n",
       "      <td>396.858002</td>\n",
       "      <td>400.765991</td>\n",
       "      <td>428.337006</td>\n",
       "      <td>432.244995</td>\n",
       "    </tr>\n",
       "    <tr>\n",
       "      <th>1.0</th>\n",
       "      <td>1960-02-29</td>\n",
       "      <td>387.550842</td>\n",
       "      <td>366.260345</td>\n",
       "      <td>370.962830</td>\n",
       "      <td>404.138855</td>\n",
       "      <td>408.841339</td>\n",
       "    </tr>\n",
       "    <tr>\n",
       "      <th>1.0</th>\n",
       "      <td>1960-03-31</td>\n",
       "      <td>445.526978</td>\n",
       "      <td>422.809265</td>\n",
       "      <td>427.826965</td>\n",
       "      <td>463.226990</td>\n",
       "      <td>468.244720</td>\n",
       "    </tr>\n",
       "    <tr>\n",
       "      <th>1.0</th>\n",
       "      <td>1960-04-30</td>\n",
       "      <td>431.495422</td>\n",
       "      <td>408.166718</td>\n",
       "      <td>413.319366</td>\n",
       "      <td>449.671478</td>\n",
       "      <td>454.824127</td>\n",
       "    </tr>\n",
       "    <tr>\n",
       "      <th>1.0</th>\n",
       "      <td>1960-05-31</td>\n",
       "      <td>452.797211</td>\n",
       "      <td>429.199951</td>\n",
       "      <td>434.411926</td>\n",
       "      <td>471.182495</td>\n",
       "      <td>476.394470</td>\n",
       "    </tr>\n",
       "    <tr>\n",
       "      <th>1.0</th>\n",
       "      <td>1960-06-30</td>\n",
       "      <td>502.991394</td>\n",
       "      <td>479.274841</td>\n",
       "      <td>484.513153</td>\n",
       "      <td>521.469604</td>\n",
       "      <td>526.707947</td>\n",
       "    </tr>\n",
       "    <tr>\n",
       "      <th>1.0</th>\n",
       "      <td>1960-07-31</td>\n",
       "      <td>577.782837</td>\n",
       "      <td>554.013000</td>\n",
       "      <td>559.263123</td>\n",
       "      <td>596.302551</td>\n",
       "      <td>601.552612</td>\n",
       "    </tr>\n",
       "    <tr>\n",
       "      <th>1.0</th>\n",
       "      <td>1960-08-31</td>\n",
       "      <td>587.973938</td>\n",
       "      <td>564.180298</td>\n",
       "      <td>569.435669</td>\n",
       "      <td>606.512207</td>\n",
       "      <td>611.767517</td>\n",
       "    </tr>\n",
       "    <tr>\n",
       "      <th>1.0</th>\n",
       "      <td>1960-09-30</td>\n",
       "      <td>491.432617</td>\n",
       "      <td>467.628357</td>\n",
       "      <td>472.886047</td>\n",
       "      <td>509.979187</td>\n",
       "      <td>515.236877</td>\n",
       "    </tr>\n",
       "    <tr>\n",
       "      <th>1.0</th>\n",
       "      <td>1960-10-31</td>\n",
       "      <td>435.070312</td>\n",
       "      <td>411.261261</td>\n",
       "      <td>416.520020</td>\n",
       "      <td>453.620575</td>\n",
       "      <td>458.879333</td>\n",
       "    </tr>\n",
       "    <tr>\n",
       "      <th>1.0</th>\n",
       "      <td>1960-11-30</td>\n",
       "      <td>389.827820</td>\n",
       "      <td>366.016632</td>\n",
       "      <td>371.275848</td>\n",
       "      <td>408.379761</td>\n",
       "      <td>413.638977</td>\n",
       "    </tr>\n",
       "    <tr>\n",
       "      <th>1.0</th>\n",
       "      <td>1960-12-31</td>\n",
       "      <td>432.665527</td>\n",
       "      <td>408.853394</td>\n",
       "      <td>414.112823</td>\n",
       "      <td>451.218231</td>\n",
       "      <td>456.477661</td>\n",
       "    </tr>\n",
       "  </tbody>\n",
       "</table>\n",
       "</div>"
      ],
      "text/plain": [
       "                  ds   AutoARIMA  AutoARIMA-lo-90  AutoARIMA-lo-80  \\\n",
       "unique_id                                                            \n",
       "1.0       1960-01-31  414.551483       396.858002       400.765991   \n",
       "1.0       1960-02-29  387.550842       366.260345       370.962830   \n",
       "1.0       1960-03-31  445.526978       422.809265       427.826965   \n",
       "1.0       1960-04-30  431.495422       408.166718       413.319366   \n",
       "1.0       1960-05-31  452.797211       429.199951       434.411926   \n",
       "1.0       1960-06-30  502.991394       479.274841       484.513153   \n",
       "1.0       1960-07-31  577.782837       554.013000       559.263123   \n",
       "1.0       1960-08-31  587.973938       564.180298       569.435669   \n",
       "1.0       1960-09-30  491.432617       467.628357       472.886047   \n",
       "1.0       1960-10-31  435.070312       411.261261       416.520020   \n",
       "1.0       1960-11-30  389.827820       366.016632       371.275848   \n",
       "1.0       1960-12-31  432.665527       408.853394       414.112823   \n",
       "\n",
       "           AutoARIMA-hi-80  AutoARIMA-hi-90  \n",
       "unique_id                                    \n",
       "1.0             428.337006       432.244995  \n",
       "1.0             404.138855       408.841339  \n",
       "1.0             463.226990       468.244720  \n",
       "1.0             449.671478       454.824127  \n",
       "1.0             471.182495       476.394470  \n",
       "1.0             521.469604       526.707947  \n",
       "1.0             596.302551       601.552612  \n",
       "1.0             606.512207       611.767517  \n",
       "1.0             509.979187       515.236877  \n",
       "1.0             453.620575       458.879333  \n",
       "1.0             408.379761       413.638977  \n",
       "1.0             451.218231       456.477661  "
      ]
     },
     "execution_count": null,
     "metadata": {},
     "output_type": "execute_result"
    }
   ],
   "source": [
    "model.predict(horizon, X_df=X_test_df, level=(80, 90))"
   ]
  }
 ],
 "metadata": {
  "kernelspec": {
   "display_name": "Python 3 (ipykernel)",
   "language": "python",
   "name": "python3"
  }
 },
 "nbformat": 4,
 "nbformat_minor": 5
}
