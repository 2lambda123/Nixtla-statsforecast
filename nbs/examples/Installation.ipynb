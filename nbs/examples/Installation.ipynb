{
 "cells": [
  {
   "cell_type": "markdown",
   "id": "14f5686c-449b-4376-8c58-fc8141f4b0f8",
   "metadata": {},
   "source": [
    "# Installation\n",
    "\n",
    "> Installation instructions."
   ]
  },
  {
   "cell_type": "markdown",
   "id": "0f1d1483-6da7-4372-8390-84c9c280109e",
   "metadata": {},
   "source": [
    "### PyPI\n",
    "\n",
    "You can install the *released version* of `StatsForecast` from the [Python package index](https://pypi.org) with:\n",
    "\n",
    "```python\n",
    "pip install statsforecast\n",
    "```\n",
    "\n",
    "(Installing inside a python virtualenvironment or a conda environment is recommended.)\n",
    "\n",
    "\n",
    "### Conda\n",
    "  \n",
    "Also you can install the *released version* of `StatsForecast` from [conda](https://anaconda.org) with:\n",
    "\n",
    "```python\n",
    "conda install -c conda-forge statsforecast\n",
    "```\n",
    "\n",
    "(Installing inside a python virtualenvironment or a conda environment is recommended.)"
   ]
  }
 ],
 "metadata": {
  "kernelspec": {
   "display_name": "Python 3 (ipykernel)",
   "language": "python",
   "name": "python3"
  }
 },
 "nbformat": 4,
 "nbformat_minor": 5
}
