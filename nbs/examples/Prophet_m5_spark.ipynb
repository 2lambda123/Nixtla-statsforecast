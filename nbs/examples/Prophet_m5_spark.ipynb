{
 "cells": [
  {
   "cell_type": "code",
   "execution_count": null,
   "metadata": {},
   "outputs": [
    {
     "data": {
      "text/html": [
       "<style scoped>\n  .ansiout {\n    display: block;\n    unicode-bidi: embed;\n    white-space: pre-wrap;\n    word-wrap: break-word;\n    word-break: break-all;\n    font-family: \"Source Code Pro\", \"Menlo\", monospace;;\n    font-size: 13px;\n    color: #555;\n    margin-left: 4px;\n    line-height: 19px;\n  }\n</style>\n<div class=\"ansiout\">Python interpreter will be restarted.\nRequirement already satisfied: prophet in /local_disk0/.ephemeral_nfs/envs/pythonEnv-d63bb69c-d94f-48ce-a119-7284f7df4f1d/lib/python3.8/site-packages (1.1)\nRequirement already satisfied: neuralforecast in /local_disk0/.ephemeral_nfs/envs/pythonEnv-d63bb69c-d94f-48ce-a119-7284f7df4f1d/lib/python3.8/site-packages (0.1.0)\nRequirement already satisfied: pytorch-lightning&gt;=1.3.0 in /local_disk0/.ephemeral_nfs/envs/pythonEnv-d63bb69c-d94f-48ce-a119-7284f7df4f1d/lib/python3.8/site-packages (from neuralforecast) (1.7.2)\nRequirement already satisfied: numba in /local_disk0/.ephemeral_nfs/envs/pythonEnv-d63bb69c-d94f-48ce-a119-7284f7df4f1d/lib/python3.8/site-packages (from neuralforecast) (0.56.0)\nRequirement already satisfied: tqdm in /local_disk0/.ephemeral_nfs/envs/pythonEnv-d63bb69c-d94f-48ce-a119-7284f7df4f1d/lib/python3.8/site-packages (from neuralforecast) (4.64.0)\nRequirement already satisfied: torchinfo in /local_disk0/.ephemeral_nfs/envs/pythonEnv-d63bb69c-d94f-48ce-a119-7284f7df4f1d/lib/python3.8/site-packages (from neuralforecast) (1.7.0)\nRequirement already satisfied: requests in /databricks/python3/lib/python3.8/site-packages (from neuralforecast) (2.25.1)\nRequirement already satisfied: torch&gt;=1.4 in /local_disk0/.ephemeral_nfs/envs/pythonEnv-d63bb69c-d94f-48ce-a119-7284f7df4f1d/lib/python3.8/site-packages (from neuralforecast) (1.12.1)\nRequirement already satisfied: openpyxl in /local_disk0/.ephemeral_nfs/envs/pythonEnv-d63bb69c-d94f-48ce-a119-7284f7df4f1d/lib/python3.8/site-packages (from neuralforecast) (3.0.10)\nRequirement already satisfied: statsmodels in /databricks/python3/lib/python3.8/site-packages (from neuralforecast) (0.12.2)\nRequirement already satisfied: matplotlib in /databricks/python3/lib/python3.8/site-packages (from neuralforecast) (3.4.2)\nRequirement already satisfied: xlrd in /local_disk0/.ephemeral_nfs/envs/pythonEnv-d63bb69c-d94f-48ce-a119-7284f7df4f1d/lib/python3.8/site-packages (from neuralforecast) (2.0.1)\nRequirement already satisfied: pip in /local_disk0/.ephemeral_nfs/envs/pythonEnv-d63bb69c-d94f-48ce-a119-7284f7df4f1d/lib/python3.8/site-packages (from neuralforecast) (21.0.1)\nRequirement already satisfied: pandas in /databricks/python3/lib/python3.8/site-packages (from neuralforecast) (1.2.4)\nRequirement already satisfied: hyperopt in /local_disk0/.ephemeral_nfs/envs/pythonEnv-d63bb69c-d94f-48ce-a119-7284f7df4f1d/lib/python3.8/site-packages (from neuralforecast) (0.2.7)\nRequirement already satisfied: py7zr in /local_disk0/.ephemeral_nfs/envs/pythonEnv-d63bb69c-d94f-48ce-a119-7284f7df4f1d/lib/python3.8/site-packages (from neuralforecast) (0.20.0)\nRequirement already satisfied: scikit-learn in /databricks/python3/lib/python3.8/site-packages (from neuralforecast) (0.24.1)\nRequirement already satisfied: gdown in /local_disk0/.ephemeral_nfs/envs/pythonEnv-d63bb69c-d94f-48ce-a119-7284f7df4f1d/lib/python3.8/site-packages (from neuralforecast) (4.5.1)\nRequirement already satisfied: fastcore in /local_disk0/.ephemeral_nfs/envs/pythonEnv-d63bb69c-d94f-48ce-a119-7284f7df4f1d/lib/python3.8/site-packages (from neuralforecast) (1.5.21)\nRequirement already satisfied: torchmetrics&gt;=0.7.0 in /local_disk0/.ephemeral_nfs/envs/pythonEnv-d63bb69c-d94f-48ce-a119-7284f7df4f1d/lib/python3.8/site-packages (from pytorch-lightning&gt;=1.3.0-&gt;neuralforecast) (0.9.3)\nRequirement already satisfied: typing-extensions&gt;=4.0.0 in /local_disk0/.ephemeral_nfs/envs/pythonEnv-d63bb69c-d94f-48ce-a119-7284f7df4f1d/lib/python3.8/site-packages (from pytorch-lightning&gt;=1.3.0-&gt;neuralforecast) (4.3.0)\nRequirement already satisfied: tensorboard&gt;=2.9.1 in /local_disk0/.ephemeral_nfs/envs/pythonEnv-d63bb69c-d94f-48ce-a119-7284f7df4f1d/lib/python3.8/site-packages (from pytorch-lightning&gt;=1.3.0-&gt;neuralforecast) (2.10.0)\nRequirement already satisfied: pyDeprecate&gt;=0.3.1 in /local_disk0/.ephemeral_nfs/envs/pythonEnv-d63bb69c-d94f-48ce-a119-7284f7df4f1d/lib/python3.8/site-packages (from pytorch-lightning&gt;=1.3.0-&gt;neuralforecast) (0.3.2)\nRequirement already satisfied: numpy&gt;=1.17.2 in /local_disk0/.ephemeral_nfs/envs/pythonEnv-d63bb69c-d94f-48ce-a119-7284f7df4f1d/lib/python3.8/site-packages (from pytorch-lightning&gt;=1.3.0-&gt;neuralforecast) (1.22.4)\nRequirement already satisfied: packaging&gt;=17.0 in /databricks/python3/lib/python3.8/site-packages (from pytorch-lightning&gt;=1.3.0-&gt;neuralforecast) (20.9)\nRequirement already satisfied: PyYAML&gt;=5.4 in /local_disk0/.ephemeral_nfs/envs/pythonEnv-d63bb69c-d94f-48ce-a119-7284f7df4f1d/lib/python3.8/site-packages (from pytorch-lightning&gt;=1.3.0-&gt;neuralforecast) (6.0)\nRequirement already satisfied: fsspec[http]!=2021.06.0,&gt;=2021.05.0 in /local_disk0/.ephemeral_nfs/envs/pythonEnv-d63bb69c-d94f-48ce-a119-7284f7df4f1d/lib/python3.8/site-packages (from pytorch-lightning&gt;=1.3.0-&gt;neuralforecast) (2022.7.1)\nRequirement already satisfied: aiohttp in /local_disk0/.ephemeral_nfs/envs/pythonEnv-d63bb69c-d94f-48ce-a119-7284f7df4f1d/lib/python3.8/site-packages (from fsspec[http]!=2021.06.0,&gt;=2021.05.0-&gt;pytorch-lightning&gt;=1.3.0-&gt;neuralforecast) (3.8.1)\nRequirement already satisfied: pyparsing&gt;=2.0.2 in /databricks/python3/lib/python3.8/site-packages (from packaging&gt;=17.0-&gt;pytorch-lightning&gt;=1.3.0-&gt;neuralforecast) (2.4.7)\nRequirement already satisfied: markdown&gt;=2.6.8 in /local_disk0/.ephemeral_nfs/envs/pythonEnv-d63bb69c-d94f-48ce-a119-7284f7df4f1d/lib/python3.8/site-packages (from tensorboard&gt;=2.9.1-&gt;pytorch-lightning&gt;=1.3.0-&gt;neuralforecast) (3.4.1)\nRequirement already satisfied: absl-py&gt;=0.4 in /local_disk0/.ephemeral_nfs/envs/pythonEnv-d63bb69c-d94f-48ce-a119-7284f7df4f1d/lib/python3.8/site-packages (from tensorboard&gt;=2.9.1-&gt;pytorch-lightning&gt;=1.3.0-&gt;neuralforecast) (1.2.0)\nRequirement already satisfied: grpcio&gt;=1.24.3 in /local_disk0/.ephemeral_nfs/envs/pythonEnv-d63bb69c-d94f-48ce-a119-7284f7df4f1d/lib/python3.8/site-packages (from tensorboard&gt;=2.9.1-&gt;pytorch-lightning&gt;=1.3.0-&gt;neuralforecast) (1.47.0)\nRequirement already satisfied: setuptools&gt;=41.0.0 in /usr/local/lib/python3.8/dist-packages (from tensorboard&gt;=2.9.1-&gt;pytorch-lightning&gt;=1.3.0-&gt;neuralforecast) (52.0.0)\nRequirement already satisfied: werkzeug&gt;=1.0.1 in /local_disk0/.ephemeral_nfs/envs/pythonEnv-d63bb69c-d94f-48ce-a119-7284f7df4f1d/lib/python3.8/site-packages (from tensorboard&gt;=2.9.1-&gt;pytorch-lightning&gt;=1.3.0-&gt;neuralforecast) (2.2.2)\nRequirement already satisfied: google-auth-oauthlib&lt;0.5,&gt;=0.4.1 in /local_disk0/.ephemeral_nfs/envs/pythonEnv-d63bb69c-d94f-48ce-a119-7284f7df4f1d/lib/python3.8/site-packages (from tensorboard&gt;=2.9.1-&gt;pytorch-lightning&gt;=1.3.0-&gt;neuralforecast) (0.4.6)\nRequirement already satisfied: tensorboard-data-server&lt;0.7.0,&gt;=0.6.0 in /local_disk0/.ephemeral_nfs/envs/pythonEnv-d63bb69c-d94f-48ce-a119-7284f7df4f1d/lib/python3.8/site-packages (from tensorboard&gt;=2.9.1-&gt;pytorch-lightning&gt;=1.3.0-&gt;neuralforecast) (0.6.1)\nRequirement already satisfied: google-auth&lt;3,&gt;=1.6.3 in /local_disk0/.ephemeral_nfs/envs/pythonEnv-d63bb69c-d94f-48ce-a119-7284f7df4f1d/lib/python3.8/site-packages (from tensorboard&gt;=2.9.1-&gt;pytorch-lightning&gt;=1.3.0-&gt;neuralforecast) (2.11.0)\nRequirement already satisfied: wheel&gt;=0.26 in /local_disk0/.ephemeral_nfs/envs/pythonEnv-d63bb69c-d94f-48ce-a119-7284f7df4f1d/lib/python3.8/site-packages (from tensorboard&gt;=2.9.1-&gt;pytorch-lightning&gt;=1.3.0-&gt;neuralforecast) (0.37.1)\nRequirement already satisfied: protobuf&lt;3.20,&gt;=3.9.2 in /databricks/python3/lib/python3.8/site-packages (from tensorboard&gt;=2.9.1-&gt;pytorch-lightning&gt;=1.3.0-&gt;neuralforecast) (3.17.2)\nRequirement already satisfied: tensorboard-plugin-wit&gt;=1.6.0 in /local_disk0/.ephemeral_nfs/envs/pythonEnv-d63bb69c-d94f-48ce-a119-7284f7df4f1d/lib/python3.8/site-packages (from tensorboard&gt;=2.9.1-&gt;pytorch-lightning&gt;=1.3.0-&gt;neuralforecast) (1.8.1)\nRequirement already satisfied: six&gt;=1.9.0 in /databricks/python3/lib/python3.8/site-packages (from google-auth&lt;3,&gt;=1.6.3-&gt;tensorboard&gt;=2.9.1-&gt;pytorch-lightning&gt;=1.3.0-&gt;neuralforecast) (1.15.0)\nRequirement already satisfied: rsa&lt;5,&gt;=3.1.4 in /local_disk0/.ephemeral_nfs/envs/pythonEnv-d63bb69c-d94f-48ce-a119-7284f7df4f1d/lib/python3.8/site-packages (from google-auth&lt;3,&gt;=1.6.3-&gt;tensorboard&gt;=2.9.1-&gt;pytorch-lightning&gt;=1.3.0-&gt;neuralforecast) (4.9)\nRequirement already satisfied: cachetools&lt;6.0,&gt;=2.0.0 in /local_disk0/.ephemeral_nfs/envs/pythonEnv-d63bb69c-d94f-48ce-a119-7284f7df4f1d/lib/python3.8/site-packages (from google-auth&lt;3,&gt;=1.6.3-&gt;tensorboard&gt;=2.9.1-&gt;pytorch-lightning&gt;=1.3.0-&gt;neuralforecast) (5.2.0)\nRequirement already satisfied: pyasn1-modules&gt;=0.2.1 in /local_disk0/.ephemeral_nfs/envs/pythonEnv-d63bb69c-d94f-48ce-a119-7284f7df4f1d/lib/python3.8/site-packages (from google-auth&lt;3,&gt;=1.6.3-&gt;tensorboard&gt;=2.9.1-&gt;pytorch-lightning&gt;=1.3.0-&gt;neuralforecast) (0.2.8)\nRequirement already satisfied: requests-oauthlib&gt;=0.7.0 in /local_disk0/.ephemeral_nfs/envs/pythonEnv-d63bb69c-d94f-48ce-a119-7284f7df4f1d/lib/python3.8/site-packages (from google-auth-oauthlib&lt;0.5,&gt;=0.4.1-&gt;tensorboard&gt;=2.9.1-&gt;pytorch-lightning&gt;=1.3.0-&gt;neuralforecast) (1.3.1)\nRequirement already satisfied: importlib-metadata&gt;=4.4 in /local_disk0/.ephemeral_nfs/envs/pythonEnv-d63bb69c-d94f-48ce-a119-7284f7df4f1d/lib/python3.8/site-packages (from markdown&gt;=2.6.8-&gt;tensorboard&gt;=2.9.1-&gt;pytorch-lightning&gt;=1.3.0-&gt;neuralforecast) (4.12.0)\nRequirement already satisfied: zipp&gt;=0.5 in /local_disk0/.ephemeral_nfs/envs/pythonEnv-d63bb69c-d94f-48ce-a119-7284f7df4f1d/lib/python3.8/site-packages (from importlib-metadata&gt;=4.4-&gt;markdown&gt;=2.6.8-&gt;tensorboard&gt;=2.9.1-&gt;pytorch-lightning&gt;=1.3.0-&gt;neuralforecast) (3.8.1)\nRequirement already satisfied: pyasn1&lt;0.5.0,&gt;=0.4.6 in /local_disk0/.ephemeral_nfs/envs/pythonEnv-d63bb69c-d94f-48ce-a119-7284f7df4f1d/lib/python3.8/site-packages (from pyasn1-modules&gt;=0.2.1-&gt;google-auth&lt;3,&gt;=1.6.3-&gt;tensorboard&gt;=2.9.1-&gt;pytorch-lightning&gt;=1.3.0-&gt;neuralforecast) (0.4.8)\nRequirement already satisfied: urllib3&lt;1.27,&gt;=1.21.1 in /databricks/python3/lib/python3.8/site-packages (from requests-&gt;neuralforecast) (1.25.11)\nRequirement already satisfied: idna&lt;3,&gt;=2.5 in /databricks/python3/lib/python3.8/site-packages (from requests-&gt;neuralforecast) (2.10)\nRequirement already satisfied: certifi&gt;=2017.4.17 in /databricks/python3/lib/python3.8/site-packages (from requests-&gt;neuralforecast) (2020.12.5)\nRequirement already satisfied: chardet&lt;5,&gt;=3.0.2 in /databricks/python3/lib/python3.8/site-packages (from requests-&gt;neuralforecast) (4.0.0)\nRequirement already satisfied: oauthlib&gt;=3.0.0 in /local_disk0/.ephemeral_nfs/envs/pythonEnv-d63bb69c-d94f-48ce-a119-7284f7df4f1d/lib/python3.8/site-packages (from requests-oauthlib&gt;=0.7.0-&gt;google-auth-oauthlib&lt;0.5,&gt;=0.4.1-&gt;tensorboard&gt;=2.9.1-&gt;pytorch-lightning&gt;=1.3.0-&gt;neuralforecast) (3.2.0)\nRequirement already satisfied: MarkupSafe&gt;=2.1.1 in /local_disk0/.ephemeral_nfs/envs/pythonEnv-d63bb69c-d94f-48ce-a119-7284f7df4f1d/lib/python3.8/site-packages (from werkzeug&gt;=1.0.1-&gt;tensorboard&gt;=2.9.1-&gt;pytorch-lightning&gt;=1.3.0-&gt;neuralforecast) (2.1.1)\nRequirement already satisfied: setuptools-git&gt;=1.2 in /local_disk0/.ephemeral_nfs/envs/pythonEnv-d63bb69c-d94f-48ce-a119-7284f7df4f1d/lib/python3.8/site-packages (from prophet) (1.2)\nRequirement already satisfied: Cython&gt;=0.22 in /databricks/python3/lib/python3.8/site-packages (from prophet) (0.29.23)\nRequirement already satisfied: convertdate&gt;=2.1.2 in /local_disk0/.ephemeral_nfs/envs/pythonEnv-d63bb69c-d94f-48ce-a119-7284f7df4f1d/lib/python3.8/site-packages (from prophet) (2.4.0)\nRequirement already satisfied: LunarCalendar&gt;=0.0.9 in /local_disk0/.ephemeral_nfs/envs/pythonEnv-d63bb69c-d94f-48ce-a119-7284f7df4f1d/lib/python3.8/site-packages (from prophet) (0.0.9)\nRequirement already satisfied: python-dateutil&gt;=2.8.0 in /databricks/python3/lib/python3.8/site-packages (from prophet) (2.8.1)\nRequirement already satisfied: holidays&gt;=0.13 in /local_disk0/.ephemeral_nfs/envs/pythonEnv-d63bb69c-d94f-48ce-a119-7284f7df4f1d/lib/python3.8/site-packages (from prophet) (0.15)\nRequirement already satisfied: cmdstanpy&gt;=1.0.1 in /local_disk0/.ephemeral_nfs/envs/pythonEnv-d63bb69c-d94f-48ce-a119-7284f7df4f1d/lib/python3.8/site-packages (from prophet) (1.0.6)\nRequirement already satisfied: ujson in /local_disk0/.ephemeral_nfs/envs/pythonEnv-d63bb69c-d94f-48ce-a119-7284f7df4f1d/lib/python3.8/site-packages (from cmdstanpy&gt;=1.0.1-&gt;prophet) (5.4.0)\nRequirement already satisfied: pymeeus&lt;=1,&gt;=0.3.13 in /local_disk0/.ephemeral_nfs/envs/pythonEnv-d63bb69c-d94f-48ce-a119-7284f7df4f1d/lib/python3.8/site-packages (from convertdate&gt;=2.1.2-&gt;prophet) (0.5.11)\nRequirement already satisfied: korean-lunar-calendar in /local_disk0/.ephemeral_nfs/envs/pythonEnv-d63bb69c-d94f-48ce-a119-7284f7df4f1d/lib/python3.8/site-packages (from holidays&gt;=0.13-&gt;prophet) (0.2.1)\nRequirement already satisfied: hijri-converter in /local_disk0/.ephemeral_nfs/envs/pythonEnv-d63bb69c-d94f-48ce-a119-7284f7df4f1d/lib/python3.8/site-packages (from holidays&gt;=0.13-&gt;prophet) (2.2.4)\nRequirement already satisfied: ephem&gt;=3.7.5.3 in /local_disk0/.ephemeral_nfs/envs/pythonEnv-d63bb69c-d94f-48ce-a119-7284f7df4f1d/lib/python3.8/site-packages (from LunarCalendar&gt;=0.0.9-&gt;prophet) (4.1.3)\nRequirement already satisfied: pytz in /databricks/python3/lib/python3.8/site-packages (from LunarCalendar&gt;=0.0.9-&gt;prophet) (2020.5)\nRequirement already satisfied: pillow&gt;=6.2.0 in /databricks/python3/lib/python3.8/site-packages (from matplotlib-&gt;neuralforecast) (8.2.0)\nRequirement already satisfied: cycler&gt;=0.10 in /databricks/python3/lib/python3.8/site-packages (from matplotlib-&gt;neuralforecast) (0.10.0)\nRequirement already satisfied: kiwisolver&gt;=1.0.1 in /databricks/python3/lib/python3.8/site-packages (from matplotlib-&gt;neuralforecast) (1.3.1)\nRequirement already satisfied: yarl&lt;2.0,&gt;=1.0 in /local_disk0/.ephemeral_nfs/envs/pythonEnv-d63bb69c-d94f-48ce-a119-7284f7df4f1d/lib/python3.8/site-packages (from aiohttp-&gt;fsspec[http]!=2021.06.0,&gt;=2021.05.0-&gt;pytorch-lightning&gt;=1.3.0-&gt;neuralforecast) (1.8.1)\nRequirement already satisfied: async-timeout&lt;5.0,&gt;=4.0.0a3 in /local_disk0/.ephemeral_nfs/envs/pythonEnv-d63bb69c-d94f-48ce-a119-7284f7df4f1d/lib/python3.8/site-packages (from aiohttp-&gt;fsspec[http]!=2021.06.0,&gt;=2021.05.0-&gt;pytorch-lightning&gt;=1.3.0-&gt;neuralforecast) (4.0.2)\nRequirement already satisfied: multidict&lt;7.0,&gt;=4.5 in /local_disk0/.ephemeral_nfs/envs/pythonEnv-d63bb69c-d94f-48ce-a119-7284f7df4f1d/lib/python3.8/site-packages (from aiohttp-&gt;fsspec[http]!=2021.06.0,&gt;=2021.05.0-&gt;pytorch-lightning&gt;=1.3.0-&gt;neuralforecast) (6.0.2)\nRequirement already satisfied: attrs&gt;=17.3.0 in /databricks/python3/lib/python3.8/site-packages (from aiohttp-&gt;fsspec[http]!=2021.06.0,&gt;=2021.05.0-&gt;pytorch-lightning&gt;=1.3.0-&gt;neuralforecast) (20.3.0)\nRequirement already satisfied: aiosignal&gt;=1.1.2 in /local_disk0/.ephemeral_nfs/envs/pythonEnv-d63bb69c-d94f-48ce-a119-7284f7df4f1d/lib/python3.8/site-packages (from aiohttp-&gt;fsspec[http]!=2021.06.0,&gt;=2021.05.0-&gt;pytorch-lightning&gt;=1.3.0-&gt;neuralforecast) (1.2.0)\nRequirement already satisfied: frozenlist&gt;=1.1.1 in /local_disk0/.ephemeral_nfs/envs/pythonEnv-d63bb69c-d94f-48ce-a119-7284f7df4f1d/lib/python3.8/site-packages (from aiohttp-&gt;fsspec[http]!=2021.06.0,&gt;=2021.05.0-&gt;pytorch-lightning&gt;=1.3.0-&gt;neuralforecast) (1.3.1)\nRequirement already satisfied: charset-normalizer&lt;3.0,&gt;=2.0 in /local_disk0/.ephemeral_nfs/envs/pythonEnv-d63bb69c-d94f-48ce-a119-7284f7df4f1d/lib/python3.8/site-packages (from aiohttp-&gt;fsspec[http]!=2021.06.0,&gt;=2021.05.0-&gt;pytorch-lightning&gt;=1.3.0-&gt;neuralforecast) (2.1.1)\nRequirement already satisfied: filelock in /usr/local/lib/python3.8/dist-packages (from gdown-&gt;neuralforecast) (3.6.0)\nRequirement already satisfied: beautifulsoup4 in /local_disk0/.ephemeral_nfs/envs/pythonEnv-d63bb69c-d94f-48ce-a119-7284f7df4f1d/lib/python3.8/site-packages (from gdown-&gt;neuralforecast) (4.11.1)\nRequirement already satisfied: soupsieve&gt;1.2 in /local_disk0/.ephemeral_nfs/envs/pythonEnv-d63bb69c-d94f-48ce-a119-7284f7df4f1d/lib/python3.8/site-packages (from beautifulsoup4-&gt;gdown-&gt;neuralforecast) (2.3.2.post1)\nRequirement already satisfied: cloudpickle in /local_disk0/.ephemeral_nfs/envs/pythonEnv-d63bb69c-d94f-48ce-a119-7284f7df4f1d/lib/python3.8/site-packages (from hyperopt-&gt;neuralforecast) (2.1.0)\nRequirement already satisfied: future in /local_disk0/.ephemeral_nfs/envs/pythonEnv-d63bb69c-d94f-48ce-a119-7284f7df4f1d/lib/python3.8/site-packages (from hyperopt-&gt;neuralforecast) (0.18.2)\nRequirement already satisfied: networkx&gt;=2.2 in /local_disk0/.ephemeral_nfs/envs/pythonEnv-d63bb69c-d94f-48ce-a119-7284f7df4f1d/lib/python3.8/site-packages (from hyperopt-&gt;neuralforecast) (2.8.6)\nRequirement already satisfied: scipy in /databricks/python3/lib/python3.8/site-packages (from hyperopt-&gt;neuralforecast) (1.6.2)\nRequirement already satisfied: py4j in /local_disk0/.ephemeral_nfs/envs/pythonEnv-d63bb69c-d94f-48ce-a119-7284f7df4f1d/lib/python3.8/site-packages (from hyperopt-&gt;neuralforecast) (0.10.9.7)\nRequirement already satisfied: llvmlite&lt;0.40,&gt;=0.39.0dev0 in /local_disk0/.ephemeral_nfs/envs/pythonEnv-d63bb69c-d94f-48ce-a119-7284f7df4f1d/lib/python3.8/site-packages (from numba-&gt;neuralforecast) (0.39.0)\nRequirement already satisfied: et-xmlfile in /local_disk0/.ephemeral_nfs/envs/pythonEnv-d63bb69c-d94f-48ce-a119-7284f7df4f1d/lib/python3.8/site-packages (from openpyxl-&gt;neuralforecast) (1.1.0)\nRequirement already satisfied: pybcj&gt;=0.6.0 in /local_disk0/.ephemeral_nfs/envs/pythonEnv-d63bb69c-d94f-48ce-a119-7284f7df4f1d/lib/python3.8/site-packages (from py7zr-&gt;neuralforecast) (1.0.1)\nRequirement already satisfied: multivolumefile&gt;=0.2.3 in /local_disk0/.ephemeral_nfs/envs/pythonEnv-d63bb69c-d94f-48ce-a119-7284f7df4f1d/lib/python3.8/site-packages (from py7zr-&gt;neuralforecast) (0.2.3)\nRequirement already satisfied: brotli&gt;=1.0.9 in /local_disk0/.ephemeral_nfs/envs/pythonEnv-d63bb69c-d94f-48ce-a119-7284f7df4f1d/lib/python3.8/site-packages (from py7zr-&gt;neuralforecast) (1.0.9)\nRequirement already satisfied: texttable in /local_disk0/.ephemeral_nfs/envs/pythonEnv-d63bb69c-d94f-48ce-a119-7284f7df4f1d/lib/python3.8/site-packages (from py7zr-&gt;neuralforecast) (1.6.4)\nRequirement already satisfied: pyppmd&lt;0.19.0,&gt;=0.18.1 in /local_disk0/.ephemeral_nfs/envs/pythonEnv-d63bb69c-d94f-48ce-a119-7284f7df4f1d/lib/python3.8/site-packages (from py7zr-&gt;neuralforecast) (0.18.3)\nRequirement already satisfied: pycryptodomex&gt;=3.6.6 in /local_disk0/.ephemeral_nfs/envs/pythonEnv-d63bb69c-d94f-48ce-a119-7284f7df4f1d/lib/python3.8/site-packages (from py7zr-&gt;neuralforecast) (3.15.0)\nRequirement already satisfied: pyzstd&gt;=0.14.4 in /local_disk0/.ephemeral_nfs/envs/pythonEnv-d63bb69c-d94f-48ce-a119-7284f7df4f1d/lib/python3.8/site-packages (from py7zr-&gt;neuralforecast) (0.15.3)\nRequirement already satisfied: psutil in /local_disk0/.ephemeral_nfs/envs/pythonEnv-d63bb69c-d94f-48ce-a119-7284f7df4f1d/lib/python3.8/site-packages (from py7zr-&gt;neuralforecast) (5.9.1)\nRequirement already satisfied: inflate64&gt;=0.3.0 in /local_disk0/.ephemeral_nfs/envs/pythonEnv-d63bb69c-d94f-48ce-a119-7284f7df4f1d/lib/python3.8/site-packages (from py7zr-&gt;neuralforecast) (0.3.0)\nRequirement already satisfied: PySocks!=1.5.7,&gt;=1.5.6 in /local_disk0/.ephemeral_nfs/envs/pythonEnv-d63bb69c-d94f-48ce-a119-7284f7df4f1d/lib/python3.8/site-packages (from requests-&gt;neuralforecast) (1.7.1)\nRequirement already satisfied: joblib&gt;=0.11 in /databricks/python3/lib/python3.8/site-packages (from scikit-learn-&gt;neuralforecast) (1.0.1)\nRequirement already satisfied: threadpoolctl&gt;=2.0.0 in /databricks/python3/lib/python3.8/site-packages (from scikit-learn-&gt;neuralforecast) (2.1.0)\nRequirement already satisfied: patsy&gt;=0.5 in /databricks/python3/lib/python3.8/site-packages (from statsmodels-&gt;neuralforecast) (0.5.1)\nPython interpreter will be restarted.\n</div>"
      ]
     },
     "metadata": {
      "application/vnd.databricks.v1+output": {
       "addedWidgets": {},
       "arguments": {},
       "data": "<div class=\"ansiout\">Python interpreter will be restarted.\nRequirement already satisfied: prophet in /local_disk0/.ephemeral_nfs/envs/pythonEnv-d63bb69c-d94f-48ce-a119-7284f7df4f1d/lib/python3.8/site-packages (1.1)\nRequirement already satisfied: neuralforecast in /local_disk0/.ephemeral_nfs/envs/pythonEnv-d63bb69c-d94f-48ce-a119-7284f7df4f1d/lib/python3.8/site-packages (0.1.0)\nRequirement already satisfied: pytorch-lightning&gt;=1.3.0 in /local_disk0/.ephemeral_nfs/envs/pythonEnv-d63bb69c-d94f-48ce-a119-7284f7df4f1d/lib/python3.8/site-packages (from neuralforecast) (1.7.2)\nRequirement already satisfied: numba in /local_disk0/.ephemeral_nfs/envs/pythonEnv-d63bb69c-d94f-48ce-a119-7284f7df4f1d/lib/python3.8/site-packages (from neuralforecast) (0.56.0)\nRequirement already satisfied: tqdm in /local_disk0/.ephemeral_nfs/envs/pythonEnv-d63bb69c-d94f-48ce-a119-7284f7df4f1d/lib/python3.8/site-packages (from neuralforecast) (4.64.0)\nRequirement already satisfied: torchinfo in /local_disk0/.ephemeral_nfs/envs/pythonEnv-d63bb69c-d94f-48ce-a119-7284f7df4f1d/lib/python3.8/site-packages (from neuralforecast) (1.7.0)\nRequirement already satisfied: requests in /databricks/python3/lib/python3.8/site-packages (from neuralforecast) (2.25.1)\nRequirement already satisfied: torch&gt;=1.4 in /local_disk0/.ephemeral_nfs/envs/pythonEnv-d63bb69c-d94f-48ce-a119-7284f7df4f1d/lib/python3.8/site-packages (from neuralforecast) (1.12.1)\nRequirement already satisfied: openpyxl in /local_disk0/.ephemeral_nfs/envs/pythonEnv-d63bb69c-d94f-48ce-a119-7284f7df4f1d/lib/python3.8/site-packages (from neuralforecast) (3.0.10)\nRequirement already satisfied: statsmodels in /databricks/python3/lib/python3.8/site-packages (from neuralforecast) (0.12.2)\nRequirement already satisfied: matplotlib in /databricks/python3/lib/python3.8/site-packages (from neuralforecast) (3.4.2)\nRequirement already satisfied: xlrd in /local_disk0/.ephemeral_nfs/envs/pythonEnv-d63bb69c-d94f-48ce-a119-7284f7df4f1d/lib/python3.8/site-packages (from neuralforecast) (2.0.1)\nRequirement already satisfied: pip in /local_disk0/.ephemeral_nfs/envs/pythonEnv-d63bb69c-d94f-48ce-a119-7284f7df4f1d/lib/python3.8/site-packages (from neuralforecast) (21.0.1)\nRequirement already satisfied: pandas in /databricks/python3/lib/python3.8/site-packages (from neuralforecast) (1.2.4)\nRequirement already satisfied: hyperopt in /local_disk0/.ephemeral_nfs/envs/pythonEnv-d63bb69c-d94f-48ce-a119-7284f7df4f1d/lib/python3.8/site-packages (from neuralforecast) (0.2.7)\nRequirement already satisfied: py7zr in /local_disk0/.ephemeral_nfs/envs/pythonEnv-d63bb69c-d94f-48ce-a119-7284f7df4f1d/lib/python3.8/site-packages (from neuralforecast) (0.20.0)\nRequirement already satisfied: scikit-learn in /databricks/python3/lib/python3.8/site-packages (from neuralforecast) (0.24.1)\nRequirement already satisfied: gdown in /local_disk0/.ephemeral_nfs/envs/pythonEnv-d63bb69c-d94f-48ce-a119-7284f7df4f1d/lib/python3.8/site-packages (from neuralforecast) (4.5.1)\nRequirement already satisfied: fastcore in /local_disk0/.ephemeral_nfs/envs/pythonEnv-d63bb69c-d94f-48ce-a119-7284f7df4f1d/lib/python3.8/site-packages (from neuralforecast) (1.5.21)\nRequirement already satisfied: torchmetrics&gt;=0.7.0 in /local_disk0/.ephemeral_nfs/envs/pythonEnv-d63bb69c-d94f-48ce-a119-7284f7df4f1d/lib/python3.8/site-packages (from pytorch-lightning&gt;=1.3.0-&gt;neuralforecast) (0.9.3)\nRequirement already satisfied: typing-extensions&gt;=4.0.0 in /local_disk0/.ephemeral_nfs/envs/pythonEnv-d63bb69c-d94f-48ce-a119-7284f7df4f1d/lib/python3.8/site-packages (from pytorch-lightning&gt;=1.3.0-&gt;neuralforecast) (4.3.0)\nRequirement already satisfied: tensorboard&gt;=2.9.1 in /local_disk0/.ephemeral_nfs/envs/pythonEnv-d63bb69c-d94f-48ce-a119-7284f7df4f1d/lib/python3.8/site-packages (from pytorch-lightning&gt;=1.3.0-&gt;neuralforecast) (2.10.0)\nRequirement already satisfied: pyDeprecate&gt;=0.3.1 in /local_disk0/.ephemeral_nfs/envs/pythonEnv-d63bb69c-d94f-48ce-a119-7284f7df4f1d/lib/python3.8/site-packages (from pytorch-lightning&gt;=1.3.0-&gt;neuralforecast) (0.3.2)\nRequirement already satisfied: numpy&gt;=1.17.2 in /local_disk0/.ephemeral_nfs/envs/pythonEnv-d63bb69c-d94f-48ce-a119-7284f7df4f1d/lib/python3.8/site-packages (from pytorch-lightning&gt;=1.3.0-&gt;neuralforecast) (1.22.4)\nRequirement already satisfied: packaging&gt;=17.0 in /databricks/python3/lib/python3.8/site-packages (from pytorch-lightning&gt;=1.3.0-&gt;neuralforecast) (20.9)\nRequirement already satisfied: PyYAML&gt;=5.4 in /local_disk0/.ephemeral_nfs/envs/pythonEnv-d63bb69c-d94f-48ce-a119-7284f7df4f1d/lib/python3.8/site-packages (from pytorch-lightning&gt;=1.3.0-&gt;neuralforecast) (6.0)\nRequirement already satisfied: fsspec[http]!=2021.06.0,&gt;=2021.05.0 in /local_disk0/.ephemeral_nfs/envs/pythonEnv-d63bb69c-d94f-48ce-a119-7284f7df4f1d/lib/python3.8/site-packages (from pytorch-lightning&gt;=1.3.0-&gt;neuralforecast) (2022.7.1)\nRequirement already satisfied: aiohttp in /local_disk0/.ephemeral_nfs/envs/pythonEnv-d63bb69c-d94f-48ce-a119-7284f7df4f1d/lib/python3.8/site-packages (from fsspec[http]!=2021.06.0,&gt;=2021.05.0-&gt;pytorch-lightning&gt;=1.3.0-&gt;neuralforecast) (3.8.1)\nRequirement already satisfied: pyparsing&gt;=2.0.2 in /databricks/python3/lib/python3.8/site-packages (from packaging&gt;=17.0-&gt;pytorch-lightning&gt;=1.3.0-&gt;neuralforecast) (2.4.7)\nRequirement already satisfied: markdown&gt;=2.6.8 in /local_disk0/.ephemeral_nfs/envs/pythonEnv-d63bb69c-d94f-48ce-a119-7284f7df4f1d/lib/python3.8/site-packages (from tensorboard&gt;=2.9.1-&gt;pytorch-lightning&gt;=1.3.0-&gt;neuralforecast) (3.4.1)\nRequirement already satisfied: absl-py&gt;=0.4 in /local_disk0/.ephemeral_nfs/envs/pythonEnv-d63bb69c-d94f-48ce-a119-7284f7df4f1d/lib/python3.8/site-packages (from tensorboard&gt;=2.9.1-&gt;pytorch-lightning&gt;=1.3.0-&gt;neuralforecast) (1.2.0)\nRequirement already satisfied: grpcio&gt;=1.24.3 in /local_disk0/.ephemeral_nfs/envs/pythonEnv-d63bb69c-d94f-48ce-a119-7284f7df4f1d/lib/python3.8/site-packages (from tensorboard&gt;=2.9.1-&gt;pytorch-lightning&gt;=1.3.0-&gt;neuralforecast) (1.47.0)\nRequirement already satisfied: setuptools&gt;=41.0.0 in /usr/local/lib/python3.8/dist-packages (from tensorboard&gt;=2.9.1-&gt;pytorch-lightning&gt;=1.3.0-&gt;neuralforecast) (52.0.0)\nRequirement already satisfied: werkzeug&gt;=1.0.1 in /local_disk0/.ephemeral_nfs/envs/pythonEnv-d63bb69c-d94f-48ce-a119-7284f7df4f1d/lib/python3.8/site-packages (from tensorboard&gt;=2.9.1-&gt;pytorch-lightning&gt;=1.3.0-&gt;neuralforecast) (2.2.2)\nRequirement already satisfied: google-auth-oauthlib&lt;0.5,&gt;=0.4.1 in /local_disk0/.ephemeral_nfs/envs/pythonEnv-d63bb69c-d94f-48ce-a119-7284f7df4f1d/lib/python3.8/site-packages (from tensorboard&gt;=2.9.1-&gt;pytorch-lightning&gt;=1.3.0-&gt;neuralforecast) (0.4.6)\nRequirement already satisfied: tensorboard-data-server&lt;0.7.0,&gt;=0.6.0 in /local_disk0/.ephemeral_nfs/envs/pythonEnv-d63bb69c-d94f-48ce-a119-7284f7df4f1d/lib/python3.8/site-packages (from tensorboard&gt;=2.9.1-&gt;pytorch-lightning&gt;=1.3.0-&gt;neuralforecast) (0.6.1)\nRequirement already satisfied: google-auth&lt;3,&gt;=1.6.3 in /local_disk0/.ephemeral_nfs/envs/pythonEnv-d63bb69c-d94f-48ce-a119-7284f7df4f1d/lib/python3.8/site-packages (from tensorboard&gt;=2.9.1-&gt;pytorch-lightning&gt;=1.3.0-&gt;neuralforecast) (2.11.0)\nRequirement already satisfied: wheel&gt;=0.26 in /local_disk0/.ephemeral_nfs/envs/pythonEnv-d63bb69c-d94f-48ce-a119-7284f7df4f1d/lib/python3.8/site-packages (from tensorboard&gt;=2.9.1-&gt;pytorch-lightning&gt;=1.3.0-&gt;neuralforecast) (0.37.1)\nRequirement already satisfied: protobuf&lt;3.20,&gt;=3.9.2 in /databricks/python3/lib/python3.8/site-packages (from tensorboard&gt;=2.9.1-&gt;pytorch-lightning&gt;=1.3.0-&gt;neuralforecast) (3.17.2)\nRequirement already satisfied: tensorboard-plugin-wit&gt;=1.6.0 in /local_disk0/.ephemeral_nfs/envs/pythonEnv-d63bb69c-d94f-48ce-a119-7284f7df4f1d/lib/python3.8/site-packages (from tensorboard&gt;=2.9.1-&gt;pytorch-lightning&gt;=1.3.0-&gt;neuralforecast) (1.8.1)\nRequirement already satisfied: six&gt;=1.9.0 in /databricks/python3/lib/python3.8/site-packages (from google-auth&lt;3,&gt;=1.6.3-&gt;tensorboard&gt;=2.9.1-&gt;pytorch-lightning&gt;=1.3.0-&gt;neuralforecast) (1.15.0)\nRequirement already satisfied: rsa&lt;5,&gt;=3.1.4 in /local_disk0/.ephemeral_nfs/envs/pythonEnv-d63bb69c-d94f-48ce-a119-7284f7df4f1d/lib/python3.8/site-packages (from google-auth&lt;3,&gt;=1.6.3-&gt;tensorboard&gt;=2.9.1-&gt;pytorch-lightning&gt;=1.3.0-&gt;neuralforecast) (4.9)\nRequirement already satisfied: cachetools&lt;6.0,&gt;=2.0.0 in /local_disk0/.ephemeral_nfs/envs/pythonEnv-d63bb69c-d94f-48ce-a119-7284f7df4f1d/lib/python3.8/site-packages (from google-auth&lt;3,&gt;=1.6.3-&gt;tensorboard&gt;=2.9.1-&gt;pytorch-lightning&gt;=1.3.0-&gt;neuralforecast) (5.2.0)\nRequirement already satisfied: pyasn1-modules&gt;=0.2.1 in /local_disk0/.ephemeral_nfs/envs/pythonEnv-d63bb69c-d94f-48ce-a119-7284f7df4f1d/lib/python3.8/site-packages (from google-auth&lt;3,&gt;=1.6.3-&gt;tensorboard&gt;=2.9.1-&gt;pytorch-lightning&gt;=1.3.0-&gt;neuralforecast) (0.2.8)\nRequirement already satisfied: requests-oauthlib&gt;=0.7.0 in /local_disk0/.ephemeral_nfs/envs/pythonEnv-d63bb69c-d94f-48ce-a119-7284f7df4f1d/lib/python3.8/site-packages (from google-auth-oauthlib&lt;0.5,&gt;=0.4.1-&gt;tensorboard&gt;=2.9.1-&gt;pytorch-lightning&gt;=1.3.0-&gt;neuralforecast) (1.3.1)\nRequirement already satisfied: importlib-metadata&gt;=4.4 in /local_disk0/.ephemeral_nfs/envs/pythonEnv-d63bb69c-d94f-48ce-a119-7284f7df4f1d/lib/python3.8/site-packages (from markdown&gt;=2.6.8-&gt;tensorboard&gt;=2.9.1-&gt;pytorch-lightning&gt;=1.3.0-&gt;neuralforecast) (4.12.0)\nRequirement already satisfied: zipp&gt;=0.5 in /local_disk0/.ephemeral_nfs/envs/pythonEnv-d63bb69c-d94f-48ce-a119-7284f7df4f1d/lib/python3.8/site-packages (from importlib-metadata&gt;=4.4-&gt;markdown&gt;=2.6.8-&gt;tensorboard&gt;=2.9.1-&gt;pytorch-lightning&gt;=1.3.0-&gt;neuralforecast) (3.8.1)\nRequirement already satisfied: pyasn1&lt;0.5.0,&gt;=0.4.6 in /local_disk0/.ephemeral_nfs/envs/pythonEnv-d63bb69c-d94f-48ce-a119-7284f7df4f1d/lib/python3.8/site-packages (from pyasn1-modules&gt;=0.2.1-&gt;google-auth&lt;3,&gt;=1.6.3-&gt;tensorboard&gt;=2.9.1-&gt;pytorch-lightning&gt;=1.3.0-&gt;neuralforecast) (0.4.8)\nRequirement already satisfied: urllib3&lt;1.27,&gt;=1.21.1 in /databricks/python3/lib/python3.8/site-packages (from requests-&gt;neuralforecast) (1.25.11)\nRequirement already satisfied: idna&lt;3,&gt;=2.5 in /databricks/python3/lib/python3.8/site-packages (from requests-&gt;neuralforecast) (2.10)\nRequirement already satisfied: certifi&gt;=2017.4.17 in /databricks/python3/lib/python3.8/site-packages (from requests-&gt;neuralforecast) (2020.12.5)\nRequirement already satisfied: chardet&lt;5,&gt;=3.0.2 in /databricks/python3/lib/python3.8/site-packages (from requests-&gt;neuralforecast) (4.0.0)\nRequirement already satisfied: oauthlib&gt;=3.0.0 in /local_disk0/.ephemeral_nfs/envs/pythonEnv-d63bb69c-d94f-48ce-a119-7284f7df4f1d/lib/python3.8/site-packages (from requests-oauthlib&gt;=0.7.0-&gt;google-auth-oauthlib&lt;0.5,&gt;=0.4.1-&gt;tensorboard&gt;=2.9.1-&gt;pytorch-lightning&gt;=1.3.0-&gt;neuralforecast) (3.2.0)\nRequirement already satisfied: MarkupSafe&gt;=2.1.1 in /local_disk0/.ephemeral_nfs/envs/pythonEnv-d63bb69c-d94f-48ce-a119-7284f7df4f1d/lib/python3.8/site-packages (from werkzeug&gt;=1.0.1-&gt;tensorboard&gt;=2.9.1-&gt;pytorch-lightning&gt;=1.3.0-&gt;neuralforecast) (2.1.1)\nRequirement already satisfied: setuptools-git&gt;=1.2 in /local_disk0/.ephemeral_nfs/envs/pythonEnv-d63bb69c-d94f-48ce-a119-7284f7df4f1d/lib/python3.8/site-packages (from prophet) (1.2)\nRequirement already satisfied: Cython&gt;=0.22 in /databricks/python3/lib/python3.8/site-packages (from prophet) (0.29.23)\nRequirement already satisfied: convertdate&gt;=2.1.2 in /local_disk0/.ephemeral_nfs/envs/pythonEnv-d63bb69c-d94f-48ce-a119-7284f7df4f1d/lib/python3.8/site-packages (from prophet) (2.4.0)\nRequirement already satisfied: LunarCalendar&gt;=0.0.9 in /local_disk0/.ephemeral_nfs/envs/pythonEnv-d63bb69c-d94f-48ce-a119-7284f7df4f1d/lib/python3.8/site-packages (from prophet) (0.0.9)\nRequirement already satisfied: python-dateutil&gt;=2.8.0 in /databricks/python3/lib/python3.8/site-packages (from prophet) (2.8.1)\nRequirement already satisfied: holidays&gt;=0.13 in /local_disk0/.ephemeral_nfs/envs/pythonEnv-d63bb69c-d94f-48ce-a119-7284f7df4f1d/lib/python3.8/site-packages (from prophet) (0.15)\nRequirement already satisfied: cmdstanpy&gt;=1.0.1 in /local_disk0/.ephemeral_nfs/envs/pythonEnv-d63bb69c-d94f-48ce-a119-7284f7df4f1d/lib/python3.8/site-packages (from prophet) (1.0.6)\nRequirement already satisfied: ujson in /local_disk0/.ephemeral_nfs/envs/pythonEnv-d63bb69c-d94f-48ce-a119-7284f7df4f1d/lib/python3.8/site-packages (from cmdstanpy&gt;=1.0.1-&gt;prophet) (5.4.0)\nRequirement already satisfied: pymeeus&lt;=1,&gt;=0.3.13 in /local_disk0/.ephemeral_nfs/envs/pythonEnv-d63bb69c-d94f-48ce-a119-7284f7df4f1d/lib/python3.8/site-packages (from convertdate&gt;=2.1.2-&gt;prophet) (0.5.11)\nRequirement already satisfied: korean-lunar-calendar in /local_disk0/.ephemeral_nfs/envs/pythonEnv-d63bb69c-d94f-48ce-a119-7284f7df4f1d/lib/python3.8/site-packages (from holidays&gt;=0.13-&gt;prophet) (0.2.1)\nRequirement already satisfied: hijri-converter in /local_disk0/.ephemeral_nfs/envs/pythonEnv-d63bb69c-d94f-48ce-a119-7284f7df4f1d/lib/python3.8/site-packages (from holidays&gt;=0.13-&gt;prophet) (2.2.4)\nRequirement already satisfied: ephem&gt;=3.7.5.3 in /local_disk0/.ephemeral_nfs/envs/pythonEnv-d63bb69c-d94f-48ce-a119-7284f7df4f1d/lib/python3.8/site-packages (from LunarCalendar&gt;=0.0.9-&gt;prophet) (4.1.3)\nRequirement already satisfied: pytz in /databricks/python3/lib/python3.8/site-packages (from LunarCalendar&gt;=0.0.9-&gt;prophet) (2020.5)\nRequirement already satisfied: pillow&gt;=6.2.0 in /databricks/python3/lib/python3.8/site-packages (from matplotlib-&gt;neuralforecast) (8.2.0)\nRequirement already satisfied: cycler&gt;=0.10 in /databricks/python3/lib/python3.8/site-packages (from matplotlib-&gt;neuralforecast) (0.10.0)\nRequirement already satisfied: kiwisolver&gt;=1.0.1 in /databricks/python3/lib/python3.8/site-packages (from matplotlib-&gt;neuralforecast) (1.3.1)\nRequirement already satisfied: yarl&lt;2.0,&gt;=1.0 in /local_disk0/.ephemeral_nfs/envs/pythonEnv-d63bb69c-d94f-48ce-a119-7284f7df4f1d/lib/python3.8/site-packages (from aiohttp-&gt;fsspec[http]!=2021.06.0,&gt;=2021.05.0-&gt;pytorch-lightning&gt;=1.3.0-&gt;neuralforecast) (1.8.1)\nRequirement already satisfied: async-timeout&lt;5.0,&gt;=4.0.0a3 in /local_disk0/.ephemeral_nfs/envs/pythonEnv-d63bb69c-d94f-48ce-a119-7284f7df4f1d/lib/python3.8/site-packages (from aiohttp-&gt;fsspec[http]!=2021.06.0,&gt;=2021.05.0-&gt;pytorch-lightning&gt;=1.3.0-&gt;neuralforecast) (4.0.2)\nRequirement already satisfied: multidict&lt;7.0,&gt;=4.5 in /local_disk0/.ephemeral_nfs/envs/pythonEnv-d63bb69c-d94f-48ce-a119-7284f7df4f1d/lib/python3.8/site-packages (from aiohttp-&gt;fsspec[http]!=2021.06.0,&gt;=2021.05.0-&gt;pytorch-lightning&gt;=1.3.0-&gt;neuralforecast) (6.0.2)\nRequirement already satisfied: attrs&gt;=17.3.0 in /databricks/python3/lib/python3.8/site-packages (from aiohttp-&gt;fsspec[http]!=2021.06.0,&gt;=2021.05.0-&gt;pytorch-lightning&gt;=1.3.0-&gt;neuralforecast) (20.3.0)\nRequirement already satisfied: aiosignal&gt;=1.1.2 in /local_disk0/.ephemeral_nfs/envs/pythonEnv-d63bb69c-d94f-48ce-a119-7284f7df4f1d/lib/python3.8/site-packages (from aiohttp-&gt;fsspec[http]!=2021.06.0,&gt;=2021.05.0-&gt;pytorch-lightning&gt;=1.3.0-&gt;neuralforecast) (1.2.0)\nRequirement already satisfied: frozenlist&gt;=1.1.1 in /local_disk0/.ephemeral_nfs/envs/pythonEnv-d63bb69c-d94f-48ce-a119-7284f7df4f1d/lib/python3.8/site-packages (from aiohttp-&gt;fsspec[http]!=2021.06.0,&gt;=2021.05.0-&gt;pytorch-lightning&gt;=1.3.0-&gt;neuralforecast) (1.3.1)\nRequirement already satisfied: charset-normalizer&lt;3.0,&gt;=2.0 in /local_disk0/.ephemeral_nfs/envs/pythonEnv-d63bb69c-d94f-48ce-a119-7284f7df4f1d/lib/python3.8/site-packages (from aiohttp-&gt;fsspec[http]!=2021.06.0,&gt;=2021.05.0-&gt;pytorch-lightning&gt;=1.3.0-&gt;neuralforecast) (2.1.1)\nRequirement already satisfied: filelock in /usr/local/lib/python3.8/dist-packages (from gdown-&gt;neuralforecast) (3.6.0)\nRequirement already satisfied: beautifulsoup4 in /local_disk0/.ephemeral_nfs/envs/pythonEnv-d63bb69c-d94f-48ce-a119-7284f7df4f1d/lib/python3.8/site-packages (from gdown-&gt;neuralforecast) (4.11.1)\nRequirement already satisfied: soupsieve&gt;1.2 in /local_disk0/.ephemeral_nfs/envs/pythonEnv-d63bb69c-d94f-48ce-a119-7284f7df4f1d/lib/python3.8/site-packages (from beautifulsoup4-&gt;gdown-&gt;neuralforecast) (2.3.2.post1)\nRequirement already satisfied: cloudpickle in /local_disk0/.ephemeral_nfs/envs/pythonEnv-d63bb69c-d94f-48ce-a119-7284f7df4f1d/lib/python3.8/site-packages (from hyperopt-&gt;neuralforecast) (2.1.0)\nRequirement already satisfied: future in /local_disk0/.ephemeral_nfs/envs/pythonEnv-d63bb69c-d94f-48ce-a119-7284f7df4f1d/lib/python3.8/site-packages (from hyperopt-&gt;neuralforecast) (0.18.2)\nRequirement already satisfied: networkx&gt;=2.2 in /local_disk0/.ephemeral_nfs/envs/pythonEnv-d63bb69c-d94f-48ce-a119-7284f7df4f1d/lib/python3.8/site-packages (from hyperopt-&gt;neuralforecast) (2.8.6)\nRequirement already satisfied: scipy in /databricks/python3/lib/python3.8/site-packages (from hyperopt-&gt;neuralforecast) (1.6.2)\nRequirement already satisfied: py4j in /local_disk0/.ephemeral_nfs/envs/pythonEnv-d63bb69c-d94f-48ce-a119-7284f7df4f1d/lib/python3.8/site-packages (from hyperopt-&gt;neuralforecast) (0.10.9.7)\nRequirement already satisfied: llvmlite&lt;0.40,&gt;=0.39.0dev0 in /local_disk0/.ephemeral_nfs/envs/pythonEnv-d63bb69c-d94f-48ce-a119-7284f7df4f1d/lib/python3.8/site-packages (from numba-&gt;neuralforecast) (0.39.0)\nRequirement already satisfied: et-xmlfile in /local_disk0/.ephemeral_nfs/envs/pythonEnv-d63bb69c-d94f-48ce-a119-7284f7df4f1d/lib/python3.8/site-packages (from openpyxl-&gt;neuralforecast) (1.1.0)\nRequirement already satisfied: pybcj&gt;=0.6.0 in /local_disk0/.ephemeral_nfs/envs/pythonEnv-d63bb69c-d94f-48ce-a119-7284f7df4f1d/lib/python3.8/site-packages (from py7zr-&gt;neuralforecast) (1.0.1)\nRequirement already satisfied: multivolumefile&gt;=0.2.3 in /local_disk0/.ephemeral_nfs/envs/pythonEnv-d63bb69c-d94f-48ce-a119-7284f7df4f1d/lib/python3.8/site-packages (from py7zr-&gt;neuralforecast) (0.2.3)\nRequirement already satisfied: brotli&gt;=1.0.9 in /local_disk0/.ephemeral_nfs/envs/pythonEnv-d63bb69c-d94f-48ce-a119-7284f7df4f1d/lib/python3.8/site-packages (from py7zr-&gt;neuralforecast) (1.0.9)\nRequirement already satisfied: texttable in /local_disk0/.ephemeral_nfs/envs/pythonEnv-d63bb69c-d94f-48ce-a119-7284f7df4f1d/lib/python3.8/site-packages (from py7zr-&gt;neuralforecast) (1.6.4)\nRequirement already satisfied: pyppmd&lt;0.19.0,&gt;=0.18.1 in /local_disk0/.ephemeral_nfs/envs/pythonEnv-d63bb69c-d94f-48ce-a119-7284f7df4f1d/lib/python3.8/site-packages (from py7zr-&gt;neuralforecast) (0.18.3)\nRequirement already satisfied: pycryptodomex&gt;=3.6.6 in /local_disk0/.ephemeral_nfs/envs/pythonEnv-d63bb69c-d94f-48ce-a119-7284f7df4f1d/lib/python3.8/site-packages (from py7zr-&gt;neuralforecast) (3.15.0)\nRequirement already satisfied: pyzstd&gt;=0.14.4 in /local_disk0/.ephemeral_nfs/envs/pythonEnv-d63bb69c-d94f-48ce-a119-7284f7df4f1d/lib/python3.8/site-packages (from py7zr-&gt;neuralforecast) (0.15.3)\nRequirement already satisfied: psutil in /local_disk0/.ephemeral_nfs/envs/pythonEnv-d63bb69c-d94f-48ce-a119-7284f7df4f1d/lib/python3.8/site-packages (from py7zr-&gt;neuralforecast) (5.9.1)\nRequirement already satisfied: inflate64&gt;=0.3.0 in /local_disk0/.ephemeral_nfs/envs/pythonEnv-d63bb69c-d94f-48ce-a119-7284f7df4f1d/lib/python3.8/site-packages (from py7zr-&gt;neuralforecast) (0.3.0)\nRequirement already satisfied: PySocks!=1.5.7,&gt;=1.5.6 in /local_disk0/.ephemeral_nfs/envs/pythonEnv-d63bb69c-d94f-48ce-a119-7284f7df4f1d/lib/python3.8/site-packages (from requests-&gt;neuralforecast) (1.7.1)\nRequirement already satisfied: joblib&gt;=0.11 in /databricks/python3/lib/python3.8/site-packages (from scikit-learn-&gt;neuralforecast) (1.0.1)\nRequirement already satisfied: threadpoolctl&gt;=2.0.0 in /databricks/python3/lib/python3.8/site-packages (from scikit-learn-&gt;neuralforecast) (2.1.0)\nRequirement already satisfied: patsy&gt;=0.5 in /databricks/python3/lib/python3.8/site-packages (from statsmodels-&gt;neuralforecast) (0.5.1)\nPython interpreter will be restarted.\n</div>",
       "datasetInfos": [],
       "metadata": {},
       "removedWidgets": [],
       "type": "html"
      }
     },
     "output_type": "display_data"
    }
   ],
   "source": [
    "pip install prophet neuralforecast"
   ]
  },
  {
   "cell_type": "code",
   "execution_count": null,
   "metadata": {},
   "outputs": [
    {
     "data": {
      "text/html": [
       "<style scoped>\n  .ansiout {\n    display: block;\n    unicode-bidi: embed;\n    white-space: pre-wrap;\n    word-wrap: break-word;\n    word-break: break-all;\n    font-family: \"Source Code Pro\", \"Menlo\", monospace;;\n    font-size: 13px;\n    color: #555;\n    margin-left: 4px;\n    line-height: 19px;\n  }\n</style>\n<div class=\"ansiout\">INFO:py4j.java_gateway:Received command c on object id p0\nINFO:py4j.java_gateway:Received command c on object id p0\nINFO:py4j.java_gateway:Received command c on object id p0\nINFO:py4j.java_gateway:Received command c on object id p0\nINFO:py4j.java_gateway:Received command c on object id p0\nINFO:py4j.java_gateway:Received command c on object id p0\nINFO:py4j.java_gateway:Received command c on object id p0\nINFO:py4j.java_gateway:Received command c on object id p0\nINFO:py4j.java_gateway:Received command c on object id p0\nINFO:py4j.java_gateway:Received command c on object id p0\n</div>"
      ]
     },
     "metadata": {
      "application/vnd.databricks.v1+output": {
       "addedWidgets": {},
       "arguments": {},
       "data": "<div class=\"ansiout\">INFO:py4j.java_gateway:Received command c on object id p0\nINFO:py4j.java_gateway:Received command c on object id p0\nINFO:py4j.java_gateway:Received command c on object id p0\nINFO:py4j.java_gateway:Received command c on object id p0\nINFO:py4j.java_gateway:Received command c on object id p0\nINFO:py4j.java_gateway:Received command c on object id p0\nINFO:py4j.java_gateway:Received command c on object id p0\nINFO:py4j.java_gateway:Received command c on object id p0\nINFO:py4j.java_gateway:Received command c on object id p0\nINFO:py4j.java_gateway:Received command c on object id p0\n</div>",
       "datasetInfos": [],
       "metadata": {},
       "removedWidgets": [],
       "type": "html"
      }
     },
     "output_type": "display_data"
    }
   ],
   "source": [
    "import logging\nfrom time import time\n\nimport pandas as pd\nfrom neuralforecast.data.datasets.m5 import M5, M5Evaluation\nfrom prophet import Prophet\nfrom pyspark.sql.types import *\n\n# disable informational messages from prophet\nlogging.getLogger('py4j').setLevel(logging.ERROR)"
   ]
  },
  {
   "cell_type": "code",
   "execution_count": null,
   "metadata": {},
   "outputs": [
    {
     "data": {
      "text/html": [
       "<style scoped>\n  .ansiout {\n    display: block;\n    unicode-bidi: embed;\n    white-space: pre-wrap;\n    word-wrap: break-word;\n    word-break: break-all;\n    font-family: \"Source Code Pro\", \"Menlo\", monospace;;\n    font-size: 13px;\n    color: #555;\n    margin-left: 4px;\n    line-height: 19px;\n  }\n</style>\n<div class=\"ansiout\"></div>"
      ]
     },
     "metadata": {
      "application/vnd.databricks.v1+output": {
       "addedWidgets": {},
       "arguments": {},
       "data": "<div class=\"ansiout\"></div>",
       "datasetInfos": [],
       "metadata": {},
       "removedWidgets": [],
       "type": "html"
      }
     },
     "output_type": "display_data"
    }
   ],
   "source": [
    "# structure of the training data set\ntrain_schema = StructType([\n  StructField('item_id', StringType()),  \n  StructField('timestamp', DateType()),\n  StructField('demand', DoubleType())\n  ])\n \n# read the training file into a dataframe\ntrain = spark.read.parquet(\n  's3://m5-benchmarks/data/train/target.parquet', \n  header=True, \n  schema=train_schema\n )\n \n# make the dataframe queriable as a temporary view\ntrain.createOrReplaceTempView('train')\n"
   ]
  },
  {
   "cell_type": "code",
   "execution_count": null,
   "metadata": {},
   "outputs": [
    {
     "data": {
      "text/html": [
       "<style scoped>\n  .ansiout {\n    display: block;\n    unicode-bidi: embed;\n    white-space: pre-wrap;\n    word-wrap: break-word;\n    word-break: break-all;\n    font-family: \"Source Code Pro\", \"Menlo\", monospace;;\n    font-size: 13px;\n    color: #555;\n    margin-left: 4px;\n    line-height: 19px;\n  }\n</style>\n<div class=\"ansiout\"></div>"
      ]
     },
     "metadata": {
      "application/vnd.databricks.v1+output": {
       "addedWidgets": {},
       "arguments": {},
       "data": "<div class=\"ansiout\"></div>",
       "datasetInfos": [],
       "metadata": {},
       "removedWidgets": [],
       "type": "html"
      }
     },
     "output_type": "display_data"
    }
   ],
   "source": [
    "sql_statement = '''\n  SELECT\n    item_id AS unique_id,\n    CAST(timestamp as date) as ds,\n    demand as y\n  FROM train\n  '''\n \nm5_history = (\n  spark\n    .sql( sql_statement )\n    .repartition(sc.defaultParallelism, ['unique_id'])\n  ).cache()"
   ]
  },
  {
   "cell_type": "code",
   "execution_count": null,
   "metadata": {},
   "outputs": [
    {
     "data": {
      "text/html": [
       "<style scoped>\n  .ansiout {\n    display: block;\n    unicode-bidi: embed;\n    white-space: pre-wrap;\n    word-wrap: break-word;\n    word-break: break-all;\n    font-family: \"Source Code Pro\", \"Menlo\", monospace;;\n    font-size: 13px;\n    color: #555;\n    margin-left: 4px;\n    line-height: 19px;\n  }\n</style>\n<div class=\"ansiout\"></div>"
      ]
     },
     "metadata": {
      "application/vnd.databricks.v1+output": {
       "addedWidgets": {},
       "arguments": {},
       "data": "<div class=\"ansiout\"></div>",
       "datasetInfos": [],
       "metadata": {},
       "removedWidgets": [],
       "type": "html"
      }
     },
     "output_type": "display_data"
    }
   ],
   "source": [
    "def forecast( history_pd: pd.DataFrame ) -> pd.DataFrame:\n  \n  # TRAIN MODEL AS BEFORE\n  # --------------------------------------\n  # remove missing values (more likely at day-store-item level)\n    history_pd = history_pd.dropna()\n\n    # configure the model\n    model = Prophet(\n        growth='linear',\n        daily_seasonality=False,\n        weekly_seasonality=True,\n        yearly_seasonality=True,\n        seasonality_mode='multiplicative'\n    )\n\n    # train the model\n    model.fit( history_pd )\n    # --------------------------------------\n\n    # BUILD FORECAST AS BEFORE\n    # --------------------------------------\n    # make predictions\n    future_pd = model.make_future_dataframe(\n        periods=28, \n        freq='d', \n        include_history=False\n    )\n    forecast_pd = model.predict( future_pd )  \n    # --------------------------------------\n\n    # ASSEMBLE EXPECTED RESULT SET\n    # --------------------------------------\n    # get relevant fields from forecast\n    forecast_pd['unique_id'] = history_pd['unique_id'].unique()[0]\n    f_pd = forecast_pd[['unique_id', 'ds','yhat']]\n    # --------------------------------------\n\n    # return expected dataset\n    return f_pd  "
   ]
  },
  {
   "cell_type": "code",
   "execution_count": null,
   "metadata": {},
   "outputs": [
    {
     "data": {
      "text/html": [
       "<style scoped>\n  .ansiout {\n    display: block;\n    unicode-bidi: embed;\n    white-space: pre-wrap;\n    word-wrap: break-word;\n    word-break: break-all;\n    font-family: \"Source Code Pro\", \"Menlo\", monospace;;\n    font-size: 13px;\n    color: #555;\n    margin-left: 4px;\n    line-height: 19px;\n  }\n</style>\n<div class=\"ansiout\"></div>"
      ]
     },
     "metadata": {
      "application/vnd.databricks.v1+output": {
       "addedWidgets": {},
       "arguments": {},
       "data": "<div class=\"ansiout\"></div>",
       "datasetInfos": [],
       "metadata": {},
       "removedWidgets": [],
       "type": "html"
      }
     },
     "output_type": "display_data"
    }
   ],
   "source": [
    "result_schema = StructType([\n  StructField('unique_id', StringType()), \n  StructField('ds',DateType()),\n  StructField('yhat',FloatType()),\n])"
   ]
  },
  {
   "cell_type": "code",
   "execution_count": null,
   "metadata": {},
   "outputs": [
    {
     "data": {
      "text/html": [
       "<style scoped>\n  .ansiout {\n    display: block;\n    unicode-bidi: embed;\n    white-space: pre-wrap;\n    word-wrap: break-word;\n    word-break: break-all;\n    font-family: \"Source Code Pro\", \"Menlo\", monospace;;\n    font-size: 13px;\n    color: #555;\n    margin-left: 4px;\n    line-height: 19px;\n  }\n</style>\n<div class=\"ansiout\">Minutes taken by Prophet on a Spark cluster: 18.23116923570633\n</div>"
      ]
     },
     "metadata": {
      "application/vnd.databricks.v1+output": {
       "addedWidgets": {},
       "arguments": {},
       "data": "<div class=\"ansiout\">Minutes taken by Prophet on a Spark cluster: 18.23116923570633\n</div>",
       "datasetInfos": [],
       "metadata": {},
       "removedWidgets": [],
       "type": "html"
      }
     },
     "output_type": "display_data"
    }
   ],
   "source": [
    "init = time()\nresults = (\n  m5_history\n    .groupBy('unique_id')\n      .applyInPandas(forecast, schema=result_schema)\n    ).toPandas()\nend = time()\nprint(f'Minutes taken by Prophet on a Spark cluster: {(end - init) / 60}')\n"
   ]
  },
  {
   "cell_type": "code",
   "execution_count": null,
   "metadata": {},
   "outputs": [
    {
     "data": {
      "text/html": [
       "<style scoped>\n  .ansiout {\n    display: block;\n    unicode-bidi: embed;\n    white-space: pre-wrap;\n    word-wrap: break-word;\n    word-break: break-all;\n    font-family: \"Source Code Pro\", \"Menlo\", monospace;;\n    font-size: 13px;\n    color: #555;\n    margin-left: 4px;\n    line-height: 19px;\n  }\n</style>\n<div class=\"ansiout\"></div>"
      ]
     },
     "metadata": {
      "application/vnd.databricks.v1+output": {
       "addedWidgets": {},
       "arguments": {},
       "data": "<div class=\"ansiout\"></div>",
       "datasetInfos": [],
       "metadata": {},
       "removedWidgets": [],
       "type": "html"
      }
     },
     "output_type": "display_data"
    }
   ],
   "source": [
    "Y_hat = results.set_index(['unique_id', 'ds']).unstack()\nY_hat = Y_hat.droplevel(0, 1).reset_index()"
   ]
  },
  {
   "cell_type": "code",
   "execution_count": null,
   "metadata": {},
   "outputs": [
    {
     "data": {
      "text/html": [
       "<style scoped>\n  .ansiout {\n    display: block;\n    unicode-bidi: embed;\n    white-space: pre-wrap;\n    word-wrap: break-word;\n    word-break: break-all;\n    font-family: \"Source Code Pro\", \"Menlo\", monospace;;\n    font-size: 13px;\n    color: #555;\n    margin-left: 4px;\n    line-height: 19px;\n  }\n</style>\n<div class=\"ansiout\"></div>"
      ]
     },
     "metadata": {
      "application/vnd.databricks.v1+output": {
       "addedWidgets": {},
       "arguments": {},
       "data": "<div class=\"ansiout\"></div>",
       "datasetInfos": [],
       "metadata": {},
       "removedWidgets": [],
       "type": "html"
      }
     },
     "output_type": "display_data"
    }
   ],
   "source": [
    "*_, S_df = M5.load('./data')\nY_hat = S_df.merge(Y_hat, how='left', on=['unique_id'])#.drop(columns=['unique_id'])"
   ]
  },
  {
   "cell_type": "code",
   "execution_count": null,
   "metadata": {},
   "outputs": [
    {
     "data": {
      "text/html": [
       "<style scoped>\n  .ansiout {\n    display: block;\n    unicode-bidi: embed;\n    white-space: pre-wrap;\n    word-wrap: break-word;\n    word-break: break-all;\n    font-family: \"Source Code Pro\", \"Menlo\", monospace;;\n    font-size: 13px;\n    color: #555;\n    margin-left: 4px;\n    line-height: 19px;\n  }\n</style>\n<div class=\"ansiout\"></div>"
      ]
     },
     "metadata": {
      "application/vnd.databricks.v1+output": {
       "addedWidgets": {},
       "arguments": {},
       "data": "<div class=\"ansiout\"></div>",
       "datasetInfos": [],
       "metadata": {},
       "removedWidgets": [],
       "type": "html"
      }
     },
     "output_type": "display_data"
    }
   ],
   "source": [
    "wrmsse = M5Evaluation.evaluate(y_hat=Y_hat, directory='./data')"
   ]
  },
  {
   "cell_type": "code",
   "execution_count": null,
   "metadata": {},
   "outputs": [
    {
     "data": {
      "text/html": [
       "<style scoped>\n  .ansiout {\n    display: block;\n    unicode-bidi: embed;\n    white-space: pre-wrap;\n    word-wrap: break-word;\n    word-break: break-all;\n    font-family: \"Source Code Pro\", \"Menlo\", monospace;;\n    font-size: 13px;\n    color: #555;\n    margin-left: 4px;\n    line-height: 19px;\n  }\n</style>\n<div class=\"ansiout\">Out[10]: </div>"
      ]
     },
     "metadata": {
      "application/vnd.databricks.v1+output": {
       "addedWidgets": {},
       "arguments": {},
       "data": "<div class=\"ansiout\">Out[10]: </div>",
       "datasetInfos": [],
       "metadata": {},
       "removedWidgets": [],
       "type": "html"
      }
     },
     "output_type": "display_data"
    },
    {
     "data": {
      "text/html": [
       "<div>\n<style scoped>\n    .dataframe tbody tr th:only-of-type {\n        vertical-align: middle;\n    }\n\n    .dataframe tbody tr th {\n        vertical-align: top;\n    }\n\n    .dataframe thead th {\n        text-align: right;\n    }\n</style>\n<table border=\"1\" class=\"dataframe\">\n  <thead>\n    <tr style=\"text-align: right;\">\n      <th></th>\n      <th>wrmsse</th>\n    </tr>\n  </thead>\n  <tbody>\n    <tr>\n      <th>Total</th>\n      <td>0.771800</td>\n    </tr>\n    <tr>\n      <th>Level1</th>\n      <td>0.507905</td>\n    </tr>\n    <tr>\n      <th>Level2</th>\n      <td>0.586328</td>\n    </tr>\n    <tr>\n      <th>Level3</th>\n      <td>0.666686</td>\n    </tr>\n    <tr>\n      <th>Level4</th>\n      <td>0.549358</td>\n    </tr>\n    <tr>\n      <th>Level5</th>\n      <td>0.655003</td>\n    </tr>\n    <tr>\n      <th>Level6</th>\n      <td>0.647176</td>\n    </tr>\n    <tr>\n      <th>Level7</th>\n      <td>0.747047</td>\n    </tr>\n    <tr>\n      <th>Level8</th>\n      <td>0.743422</td>\n    </tr>\n    <tr>\n      <th>Level9</th>\n      <td>0.824667</td>\n    </tr>\n    <tr>\n      <th>Level10</th>\n      <td>1.207069</td>\n    </tr>\n    <tr>\n      <th>Level11</th>\n      <td>1.108780</td>\n    </tr>\n    <tr>\n      <th>Level12</th>\n      <td>1.018163</td>\n    </tr>\n  </tbody>\n</table>\n</div>"
      ]
     },
     "metadata": {
      "application/vnd.databricks.v1+output": {
       "addedWidgets": {},
       "arguments": {},
       "data": "<div>\n<style scoped>\n    .dataframe tbody tr th:only-of-type {\n        vertical-align: middle;\n    }\n\n    .dataframe tbody tr th {\n        vertical-align: top;\n    }\n\n    .dataframe thead th {\n        text-align: right;\n    }\n</style>\n<table border=\"1\" class=\"dataframe\">\n  <thead>\n    <tr style=\"text-align: right;\">\n      <th></th>\n      <th>wrmsse</th>\n    </tr>\n  </thead>\n  <tbody>\n    <tr>\n      <th>Total</th>\n      <td>0.771800</td>\n    </tr>\n    <tr>\n      <th>Level1</th>\n      <td>0.507905</td>\n    </tr>\n    <tr>\n      <th>Level2</th>\n      <td>0.586328</td>\n    </tr>\n    <tr>\n      <th>Level3</th>\n      <td>0.666686</td>\n    </tr>\n    <tr>\n      <th>Level4</th>\n      <td>0.549358</td>\n    </tr>\n    <tr>\n      <th>Level5</th>\n      <td>0.655003</td>\n    </tr>\n    <tr>\n      <th>Level6</th>\n      <td>0.647176</td>\n    </tr>\n    <tr>\n      <th>Level7</th>\n      <td>0.747047</td>\n    </tr>\n    <tr>\n      <th>Level8</th>\n      <td>0.743422</td>\n    </tr>\n    <tr>\n      <th>Level9</th>\n      <td>0.824667</td>\n    </tr>\n    <tr>\n      <th>Level10</th>\n      <td>1.207069</td>\n    </tr>\n    <tr>\n      <th>Level11</th>\n      <td>1.108780</td>\n    </tr>\n    <tr>\n      <th>Level12</th>\n      <td>1.018163</td>\n    </tr>\n  </tbody>\n</table>\n</div>",
       "datasetInfos": [],
       "metadata": {},
       "removedWidgets": [],
       "textData": null,
       "type": "htmlSandbox"
      }
     },
     "output_type": "display_data"
    }
   ],
   "source": [
    "wrmsse"
   ]
  },
  {
   "cell_type": "code",
   "execution_count": null,
   "metadata": {},
   "outputs": [],
   "source": []
  }
 ],
 "metadata": {},
 "nbformat": 4,
 "nbformat_minor": 0
}
