{
 "cells": [
  {
   "cell_type": "markdown",
   "id": "3b509550-f4f4-4ba3-8310-a0f859a0d324",
   "metadata": {},
   "source": [
    "## M5 evaluation"
   ]
  },
  {
   "cell_type": "code",
   "execution_count": null,
   "id": "447c8090-89b0-4a6c-b384-69125753cecc",
   "metadata": {},
   "outputs": [],
   "source": [
    "import pandas as pd\n",
    "\n",
    "from datasetsforecast.m5 import M5, M5Evaluation"
   ]
  },
  {
   "cell_type": "markdown",
   "id": "b5910037-c4eb-4d3b-8264-f68aac39d05d",
   "metadata": {},
   "source": [
    "### Evaluator"
   ]
  },
  {
   "cell_type": "code",
   "execution_count": null,
   "id": "7ec3e074-de80-4dd7-bd1b-3ba68f28fa42",
   "metadata": {},
   "outputs": [],
   "source": [
    "def evaluate_forecasts(df, model, model_name):\n",
    "    Y_hat = df.set_index('ds', append=True)[model].unstack()\n",
    "    *_, S_df = M5.load('data')\n",
    "    Y_hat = S_df.merge(Y_hat, how='left', on=['unique_id'])\n",
    "    eval_ = M5Evaluation.evaluate(y_hat=Y_hat, directory='./data')\n",
    "    eval_ = eval_.rename(columns={'wrmsse': f'{model_name}_{model}_wrmsse'})\n",
    "    return eval_"
   ]
  },
  {
   "cell_type": "markdown",
   "id": "2ab38c7e-5581-4f3a-9940-4d98f385dc7d",
   "metadata": {},
   "source": [
    "### Read data"
   ]
  },
  {
   "cell_type": "code",
   "execution_count": null,
   "id": "479fad8e-4296-41a2-8e8c-b80690375fb3",
   "metadata": {},
   "outputs": [],
   "source": [
    "statsforecasts_df = pd.read_parquet('s3://m5-benchmarks/forecasts/statsforecast-m5.parquet')"
   ]
  },
  {
   "cell_type": "code",
   "execution_count": null,
   "id": "cb315a80-e28c-4fd7-a276-8d2de2ba68f9",
   "metadata": {},
   "outputs": [],
   "source": [
    "amazonforecasts_df = pd.read_parquet('s3://m5-benchmarks/forecasts/amazonforecast-m5.parquet')"
   ]
  },
  {
   "cell_type": "code",
   "execution_count": null,
   "id": "04f9e64a-2020-4cf4-b717-f5e7c1a92298",
   "metadata": {},
   "outputs": [],
   "source": [
    "amazonforecasts_df = amazonforecasts_df.rename(columns={'item_id': 'unique_id', 'date': 'ds', 'mean': 'AutoPredictor'})\n",
    "amazonforecasts_df['unique_id'] = amazonforecasts_df['unique_id'].str.upper()\n",
    "amazonforecasts_df = amazonforecasts_df.set_index('unique_id')\n",
    "amazonforecasts_df['AutoPredictor'] = amazonforecasts_df['AutoPredictor'].clip(0) "
   ]
  },
  {
   "cell_type": "markdown",
   "id": "9717cd00-5024-43bc-9379-acacad2dbced",
   "metadata": {},
   "source": [
    "### Evaluate performances"
   ]
  },
  {
   "cell_type": "code",
   "execution_count": null,
   "id": "e447fc07-9f31-495d-a10b-e7a024204e55",
   "metadata": {},
   "outputs": [
    {
     "data": {
      "text/html": [
       "<div>\n",
       "<style scoped>\n",
       "    .dataframe tbody tr th:only-of-type {\n",
       "        vertical-align: middle;\n",
       "    }\n",
       "\n",
       "    .dataframe tbody tr th {\n",
       "        vertical-align: top;\n",
       "    }\n",
       "\n",
       "    .dataframe thead th {\n",
       "        text-align: right;\n",
       "    }\n",
       "</style>\n",
       "<table border=\"1\" class=\"dataframe\">\n",
       "  <thead>\n",
       "    <tr style=\"text-align: right;\">\n",
       "      <th></th>\n",
       "      <th>StatsForecast_ThETS_wrmsse</th>\n",
       "      <th>AmazonForecast_AutoPredictor_wrmsse</th>\n",
       "      <th>StatsForecast_SeasonalNaive_wrmsse</th>\n",
       "    </tr>\n",
       "  </thead>\n",
       "  <tbody>\n",
       "    <tr>\n",
       "      <th>Total</th>\n",
       "      <td>0.669606</td>\n",
       "      <td>1.616653</td>\n",
       "      <td>0.847017</td>\n",
       "    </tr>\n",
       "    <tr>\n",
       "      <th>Level1</th>\n",
       "      <td>0.424331</td>\n",
       "      <td>1.910585</td>\n",
       "      <td>0.560047</td>\n",
       "    </tr>\n",
       "    <tr>\n",
       "      <th>Level2</th>\n",
       "      <td>0.515777</td>\n",
       "      <td>1.785607</td>\n",
       "      <td>0.673050</td>\n",
       "    </tr>\n",
       "    <tr>\n",
       "      <th>Level3</th>\n",
       "      <td>0.580670</td>\n",
       "      <td>1.735073</td>\n",
       "      <td>0.717606</td>\n",
       "    </tr>\n",
       "    <tr>\n",
       "      <th>Level4</th>\n",
       "      <td>0.474098</td>\n",
       "      <td>1.970949</td>\n",
       "      <td>0.622975</td>\n",
       "    </tr>\n",
       "    <tr>\n",
       "      <th>Level5</th>\n",
       "      <td>0.552459</td>\n",
       "      <td>2.008716</td>\n",
       "      <td>0.708155</td>\n",
       "    </tr>\n",
       "    <tr>\n",
       "      <th>Level6</th>\n",
       "      <td>0.578092</td>\n",
       "      <td>1.804468</td>\n",
       "      <td>0.759991</td>\n",
       "    </tr>\n",
       "    <tr>\n",
       "      <th>Level7</th>\n",
       "      <td>0.651079</td>\n",
       "      <td>1.817839</td>\n",
       "      <td>0.829187</td>\n",
       "    </tr>\n",
       "    <tr>\n",
       "      <th>Level8</th>\n",
       "      <td>0.642446</td>\n",
       "      <td>1.665958</td>\n",
       "      <td>0.800835</td>\n",
       "    </tr>\n",
       "    <tr>\n",
       "      <th>Level9</th>\n",
       "      <td>0.725324</td>\n",
       "      <td>1.617998</td>\n",
       "      <td>0.888126</td>\n",
       "    </tr>\n",
       "    <tr>\n",
       "      <th>Level10</th>\n",
       "      <td>1.009390</td>\n",
       "      <td>1.155950</td>\n",
       "      <td>1.223313</td>\n",
       "    </tr>\n",
       "    <tr>\n",
       "      <th>Level11</th>\n",
       "      <td>0.967537</td>\n",
       "      <td>1.012731</td>\n",
       "      <td>1.204503</td>\n",
       "    </tr>\n",
       "    <tr>\n",
       "      <th>Level12</th>\n",
       "      <td>0.914068</td>\n",
       "      <td>0.913962</td>\n",
       "      <td>1.176419</td>\n",
       "    </tr>\n",
       "  </tbody>\n",
       "</table>\n",
       "</div>"
      ],
      "text/plain": [
       "         StatsForecast_ThETS_wrmsse  AmazonForecast_AutoPredictor_wrmsse  \\\n",
       "Total                      0.669606                             1.616653   \n",
       "Level1                     0.424331                             1.910585   \n",
       "Level2                     0.515777                             1.785607   \n",
       "Level3                     0.580670                             1.735073   \n",
       "Level4                     0.474098                             1.970949   \n",
       "Level5                     0.552459                             2.008716   \n",
       "Level6                     0.578092                             1.804468   \n",
       "Level7                     0.651079                             1.817839   \n",
       "Level8                     0.642446                             1.665958   \n",
       "Level9                     0.725324                             1.617998   \n",
       "Level10                    1.009390                             1.155950   \n",
       "Level11                    0.967537                             1.012731   \n",
       "Level12                    0.914068                             0.913962   \n",
       "\n",
       "         StatsForecast_SeasonalNaive_wrmsse  \n",
       "Total                              0.847017  \n",
       "Level1                             0.560047  \n",
       "Level2                             0.673050  \n",
       "Level3                             0.717606  \n",
       "Level4                             0.622975  \n",
       "Level5                             0.708155  \n",
       "Level6                             0.759991  \n",
       "Level7                             0.829187  \n",
       "Level8                             0.800835  \n",
       "Level9                             0.888126  \n",
       "Level10                            1.223313  \n",
       "Level11                            1.204503  \n",
       "Level12                            1.176419  "
      ]
     },
     "execution_count": null,
     "metadata": {},
     "output_type": "execute_result"
    }
   ],
   "source": [
    "pd.concat([\n",
    "    evaluate_forecasts(statsforecasts_df, 'ThETS', 'StatsForecast'),\n",
    "    evaluate_forecasts(amazonforecasts_df, 'AutoPredictor', 'AmazonForecast'),\n",
    "    evaluate_forecasts(statsforecasts_df, 'SeasonalNaive', 'StatsForecast'),\n",
    "], axis=1)"
   ]
  }
 ],
 "metadata": {
  "kernelspec": {
   "display_name": "Python 3 (ipykernel)",
   "language": "python",
   "name": "python3"
  }
 },
 "nbformat": 4,
 "nbformat_minor": 5
}
