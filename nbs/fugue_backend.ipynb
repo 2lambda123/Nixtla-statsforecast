{
 "cells": [
  {
   "cell_type": "code",
   "execution_count": null,
   "id": "524620c1",
   "metadata": {},
   "outputs": [],
   "source": [
    "#default_exp fugue_backend"
   ]
  },
  {
   "cell_type": "code",
   "execution_count": null,
   "id": "15392f6f",
   "metadata": {},
   "outputs": [],
   "source": [
    "#hide\n",
    "%load_ext autoreload\n",
    "%autoreload 2"
   ]
  },
  {
   "cell_type": "markdown",
   "id": "12fa25a4",
   "metadata": {},
   "source": [
    "# Fugue_Backend"
   ]
  },
  {
   "cell_type": "code",
   "execution_count": null,
   "id": "bc16100a",
   "metadata": {},
   "outputs": [],
   "source": [
    "#export\n",
    "from typing import Any, Dict\n",
    "\n",
    "import pandas as pd\n",
    "from fugue import transform\n",
    "from statsforecast.core import (\n",
    "    ParallelBackend,\n",
    "    StatsForecast,\n",
    "    _as_tuple,\n",
    "    _build_forecast_name,\n",
    ")\n",
    "from triad import Schema"
   ]
  },
  {
   "cell_type": "code",
   "execution_count": null,
   "id": "6d8d5b82-2be9-41f5-8cd0-3903d0761e09",
   "metadata": {},
   "outputs": [],
   "source": [
    "#export\n",
    "class FugueBackend(ParallelBackend):\n",
    "    def __init__(self, engine: Any = None, conf: Any = None, **transform_kwargs: Any):\n",
    "        self._engine = engine\n",
    "        self._conf = conf\n",
    "        self._transform_kwargs = dict(transform_kwargs)\n",
    "\n",
    "    def __getstate__(self) -> Dict[str, Any]:\n",
    "        return {}\n",
    "\n",
    "    def forecast(self, df, models, freq, **kwargs: Any) -> Any:\n",
    "        schema = \"*-y+\" + str(self._get_output_schema(models))\n",
    "        return transform(\n",
    "            df,\n",
    "            self._forecast_series,\n",
    "            params=dict(models=models, freq=freq, kwargs=kwargs),\n",
    "            schema=schema,\n",
    "            partition={\"by\": \"unique_id\"},\n",
    "            engine=self._engine,\n",
    "            engine_conf=self._conf,\n",
    "            **self._transform_kwargs,\n",
    "        )\n",
    "\n",
    "    def cross_validation(self, df, models, freq, **kwargs: Any) -> Any:\n",
    "        schema = \"*,\" + str(self._get_output_schema(models, mode=\"cv\"))\n",
    "        return transform(\n",
    "            df,\n",
    "            self._cv,\n",
    "            params=dict(models=models, freq=freq, kwargs=kwargs),\n",
    "            schema=schema,\n",
    "            partition={\"by\": \"unique_id\"},\n",
    "            engine=self._engine,\n",
    "            engine_conf=self._conf,\n",
    "            **self._transform_kwargs,\n",
    "        )\n",
    "\n",
    "    def _forecast_series(self, df: pd.DataFrame, models, freq, kwargs) -> pd.DataFrame:\n",
    "        tdf = df.set_index(\"unique_id\")\n",
    "        model = StatsForecast(tdf, models=models, freq=freq, n_jobs=1)\n",
    "        return model.forecast(**kwargs).reset_index()\n",
    "\n",
    "    def _cv(self, df: pd.DataFrame, models, freq, kwargs) -> pd.DataFrame:\n",
    "        tdf = df.set_index(\"unique_id\")\n",
    "        model = StatsForecast(tdf, models=models, freq=freq, n_jobs=1)\n",
    "        return model.cross_validation(**kwargs).reset_index()\n",
    "\n",
    "    def _get_output_schema(self, models, mode=\"forecast\") -> Schema:\n",
    "        cols = []\n",
    "        for model_args in models:\n",
    "            model, *args = _as_tuple(model_args)\n",
    "            cols.append((_build_forecast_name(model, *args), float))\n",
    "        if mode == \"cv\":\n",
    "            cols = [(\"cutoff\", \"datetime\")] + cols\n",
    "        return Schema(cols)"
   ]
  }
 ],
 "metadata": {
  "kernelspec": {
   "display_name": "Python 3.10.4 64-bit",
   "language": "python",
   "name": "python3"
  }
 },
 "nbformat": 4,
 "nbformat_minor": 5
}
