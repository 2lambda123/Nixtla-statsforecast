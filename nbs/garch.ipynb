{
 "cells": [
  {
   "cell_type": "code",
   "execution_count": null,
   "id": "2ad97620-025f-4307-8068-992b019db49a",
   "metadata": {},
   "outputs": [],
   "source": [
    "#| default_exp garch"
   ]
  },
  {
   "cell_type": "code",
   "execution_count": null,
   "id": "481b51ee-4bfd-4d84-9be2-12f7569a0d0e",
   "metadata": {},
   "outputs": [],
   "source": [
    "#| hide\n",
    "import warnings\n",
    "warnings.simplefilter('ignore')"
   ]
  },
  {
   "cell_type": "markdown",
   "id": "20ba08ba-6aa7-4702-9670-e1dc6031ded5",
   "metadata": {},
   "source": [
    "# GARCH "
   ]
  },
  {
   "cell_type": "code",
   "execution_count": null,
   "id": "8d4642fc-0f0b-41f7-a005-96616d79c89f",
   "metadata": {},
   "outputs": [],
   "source": [
    "#| export\n",
    "import math\n",
    "import os \n",
    "import random \n",
    "\n",
    "import numpy as np \n",
    "import matplotlib.pyplot as plt \n",
    "from numba import njit\n",
    "from scipy.optimize import minimize\n",
    "from scipy.stats import norm\n",
    "\n",
    "# For comparison \n",
    "from arch import arch_model"
   ]
  },
  {
   "cell_type": "code",
   "execution_count": null,
   "id": "b74de8b6-8524-4d2f-8f36-325311274c00",
   "metadata": {},
   "outputs": [],
   "source": [
    "#| export \n",
    "NOGIL = os.environ.get('NUMBA_RELEASE_GIL', 'False').lower() in ['true']\n",
    "CACHE = os.environ.get('NUMBA_CACHE', 'False').lower() in ['true']"
   ]
  },
  {
   "cell_type": "markdown",
   "id": "6291fcfe-ffa1-4374-8497-5fd195a76d06",
   "metadata": {},
   "source": [
    "## Generate GARCH data "
   ]
  },
  {
   "cell_type": "code",
   "execution_count": null,
   "id": "b2848824-1026-4d6e-af1b-163b16410e69",
   "metadata": {},
   "outputs": [],
   "source": [
    "#| exporti\n",
    "@njit(nogil=NOGIL, cache=CACHE)\n",
    "def generate_garch_data(n, w, alpha, beta): \n",
    "    \n",
    "    np.random.seed(1)\n",
    "    \n",
    "    if np.any((w < 0)|(alpha < 0)|(beta < 0 )): \n",
    "        raise ValueError('Coefficients must be nonnegative')\n",
    "    \n",
    "    if np.sum(alpha)+np.sum(beta) >= 1:  \n",
    "        raise ValueError('Sum of coefficients of lagged versions of the series and lagged versions of the volatility must be less than 1')\n",
    "    \n",
    "    p = len(alpha)\n",
    "    q = len(beta)\n",
    "\n",
    "    y = np.zeros(n) \n",
    "    sigma2 = np.zeros(n)\n",
    "\n",
    "    # initialization \n",
    "    sigma2[0:q] = 1\n",
    "    for k in range(p): \n",
    "        y[k] = np.random.normal(loc = 0, scale = 1) \n",
    "\n",
    "    for k in range(max(p,q),n): \n",
    "        psum = np.flip(alpha)*(y[k-p:k]**2)\n",
    "        psum = np.nansum(psum)\n",
    "        qsum = np.flip(beta)*(sigma2[k-q:k])\n",
    "        qsum = np.nansum(qsum) \n",
    "        sigma2[k] = w+psum+qsum\n",
    "        y[k] = np.random.normal(loc = 0, scale = np.sqrt(sigma2[k])) \n",
    "\n",
    "    return y"
   ]
  },
  {
   "cell_type": "code",
   "execution_count": null,
   "id": "0ce5a60c-a58d-46a9-8b0f-f17f4ad9b4b4",
   "metadata": {},
   "outputs": [],
   "source": [
    "#| hide \n",
    "# GARCH(1,1) \n",
    "n = 1000 \n",
    "w = 0.5 \n",
    "alpha = np.array([0.3])\n",
    "beta = np.array([0.4])\n",
    "\n",
    "y = generate_garch_data(n, w, alpha, beta) \n",
    "\n",
    "plt.figure(figsize=(10,4))\n",
    "plt.plot(y)"
   ]
  },
  {
   "cell_type": "code",
   "execution_count": null,
   "id": "7cac5641-ee8e-4e09-b4b9-a10bbefc63e0",
   "metadata": {},
   "outputs": [],
   "source": [
    "#| hide \n",
    "# Use arch library to estimate the coefficients of the data \n",
    "model = arch_model(y, p=1, q=1)\n",
    "fit = model.fit()\n",
    "fit.summary()"
   ]
  },
  {
   "cell_type": "code",
   "execution_count": null,
   "id": "691ccb7f-4c49-40d3-b4ae-729903c4266e",
   "metadata": {},
   "outputs": [],
   "source": [
    "#| hide\n",
    "# Original coefficients: \n",
    "# w = 0.5 \n",
    "# alpha = 0.3 \n",
    "# beta = 0.4"
   ]
  },
  {
   "cell_type": "markdown",
   "id": "af42a313-222a-422a-a7ce-579614fcd197",
   "metadata": {},
   "source": [
    "## Generate GARCH(p,q) model "
   ]
  },
  {
   "cell_type": "code",
   "execution_count": null,
   "id": "752e85af-1d73-4678-a3e9-0759e6776269",
   "metadata": {},
   "outputs": [],
   "source": [
    "#| hide \n",
    "# GARCH(2,2) \n",
    "n = 1000 \n",
    "w = 0.5\n",
    "alpha = np.array([0.1, 0.2])\n",
    "beta = np.array([0.3, 0.1])\n",
    "\n",
    "y = generate_garch_data(n, w, alpha, beta) \n",
    "\n",
    "plt.figure(figsize=(10,4))\n",
    "plt.plot(y)"
   ]
  },
  {
   "cell_type": "code",
   "execution_count": null,
   "id": "277e2278-c7d2-4720-821d-cca42d689584",
   "metadata": {},
   "outputs": [],
   "source": [
    "#| exporti\n",
    "@njit(nogil=NOGIL, cache=CACHE)\n",
    "def garch_sigma2(x0, x, p, q): \n",
    "    \n",
    "    w = x0[0] \n",
    "    alpha = x0[1:(p+1)]\n",
    "    beta = x0[(p+1):]\n",
    "    \n",
    "    sigma2 = np.full((len(x), ), np.nan) \n",
    "    # sigma2[0] = np.var(x) # sigma2 can be initialized with the unconditional variance\n",
    "\n",
    "    for k in range(max(p,q), len(x)): \n",
    "        psum = np.flip(alpha)*(x[k-p:k]**2)\n",
    "        psum = np.nansum(psum)\n",
    "        qsum = np.flip(beta)*(sigma2[k-q:k])\n",
    "        qsum = np.nansum(qsum) \n",
    "        sigma2[k] = w+psum+qsum\n",
    "    \n",
    "    return sigma2 "
   ]
  },
  {
   "cell_type": "code",
   "execution_count": null,
   "id": "d4cf69f0-369c-47e7-be63-7c19f1fa7025",
   "metadata": {},
   "outputs": [],
   "source": [
    "#| hide \n",
    "x0 = np.array([0.5, 0.1, 0.2, 0.3, 0.1])\n",
    "p = 2\n",
    "q = 2 \n",
    "\n",
    "sigma2 = garch_sigma2(x0, y, p, q)"
   ]
  },
  {
   "cell_type": "code",
   "execution_count": null,
   "id": "25e3c9ca-241e-4c44-b484-95a0729facfe",
   "metadata": {},
   "outputs": [],
   "source": [
    "#| exporti\n",
    "@njit(nogil=NOGIL, cache=CACHE)\n",
    "def garch_cons(x0):    \n",
    "    # Constraints for GARCH model\n",
    "    # alpha+beta < 1 \n",
    "    return 1-(x0[1:].sum())"
   ]
  },
  {
   "cell_type": "code",
   "execution_count": null,
   "id": "cfb47a5a-e786-48b2-a080-db6fb5665468",
   "metadata": {},
   "outputs": [],
   "source": [
    "#| hide \n",
    "garch_cons(x0)"
   ]
  },
  {
   "cell_type": "code",
   "execution_count": null,
   "id": "df6e00b0-54cb-40f9-a243-3b6ac70cc484",
   "metadata": {},
   "outputs": [],
   "source": [
    "#| exporti \n",
    "def garch_loglik(x0, x, p, q): \n",
    "    \n",
    "    sigma2 = garch_sigma2(x0, x, p, q)\n",
    "    z = x-np.nanmean(x)\n",
    "    loglik = 0 \n",
    "\n",
    "    for k in range(max(p, q), len(x)): \n",
    "        loglik = loglik+norm.logpdf(z[k], 0, np.sqrt(sigma2[k]))\n",
    "    \n",
    "    return -loglik"
   ]
  },
  {
   "cell_type": "code",
   "execution_count": null,
   "id": "31eb3811-e6d9-4e2b-8b6f-19e9862ffa02",
   "metadata": {},
   "outputs": [],
   "source": [
    "#| hide \n",
    "garch_loglik(x0, y, p, q) "
   ]
  },
  {
   "cell_type": "code",
   "execution_count": null,
   "id": "268bdd3e-2286-4696-a8b4-4b1763b0f1fc",
   "metadata": {},
   "outputs": [],
   "source": [
    "#| exporti \n",
    "def garch_model(x, p, q): \n",
    "    \n",
    "    np.random.seed(1)\n",
    "    x0 = np.repeat(0.1, p+q+1)\n",
    "    bnds = ((0, None), )*len(x0)\n",
    "    cons = ({'type': 'ineq', 'fun': garch_cons})\n",
    "    opt = minimize(garch_loglik, x0, args = (x, p, q), method = 'SLSQP', bounds = bnds, constraints = cons)\n",
    "    \n",
    "    coeff = opt.x \n",
    "    sigma2 = garch_sigma2(coeff, x, p, q)\n",
    "    fitted = np.full((len(x), ), np.nan)\n",
    "    \n",
    "    for k in range(p,len(x)): \n",
    "        error = np.random.normal(loc = 0, scale = 1) \n",
    "        fitted[k] = error*np.sqrt(sigma2[k])\n",
    "    \n",
    "    res = {'p': p, 'q': q, 'coeff': coeff, 'message': opt.message, 'y_vals': x[-p:], 'sigma2_vals': sigma2[-q:], 'fitted': fitted}\n",
    "    \n",
    "    return res "
   ]
  },
  {
   "cell_type": "code",
   "execution_count": null,
   "id": "9e106f3c-7819-47e3-b38e-b46d46bde6a6",
   "metadata": {},
   "outputs": [],
   "source": [
    "#| hide\n",
    "mod = garch_model(y, p, q)"
   ]
  },
  {
   "cell_type": "code",
   "execution_count": null,
   "id": "f90c55c8-4a6c-4bc6-bf57-c201560da5c7",
   "metadata": {},
   "outputs": [],
   "source": [
    "#| hide \n",
    "# Comparison with arch \n",
    "model = arch_model(y, p=p, q=q)\n",
    "model.fit()"
   ]
  },
  {
   "cell_type": "code",
   "execution_count": null,
   "id": "6f51c6b3-f167-4523-8bb4-1e5340fc5304",
   "metadata": {},
   "outputs": [],
   "source": [
    "#| hide \n",
    "np.around(mod['coeff'], 5)"
   ]
  },
  {
   "cell_type": "code",
   "execution_count": null,
   "id": "ef34b507-028c-4422-baef-44a4cafb64f0",
   "metadata": {},
   "outputs": [],
   "source": [
    "#| exporti \n",
    "def garch_forecast(mod, h): \n",
    "    \n",
    "    np.random.seed(1)\n",
    "    \n",
    "    p = mod['p']\n",
    "    q = mod['q']\n",
    "    \n",
    "    w = mod['coeff'][0]\n",
    "    alpha = mod['coeff'][1:(p+1)]\n",
    "    beta = mod['coeff'][(p+1):]\n",
    "\n",
    "    y_vals = np.full((h+p, ), np.nan) \n",
    "    sigma2_vals = np.full((h+q, ), np.nan) \n",
    "\n",
    "    y_vals[0:p] = mod['y_vals']\n",
    "    sigma2_vals[0:q] = mod['sigma2_vals']\n",
    "    \n",
    "    for k in range(0, h): \n",
    "        error = np.random.normal(loc = 0, scale = 1) \n",
    "        psum = np.flip(alpha)*(y_vals[k:p+k]**2)\n",
    "        psum = np.nansum(psum)\n",
    "        qsum = np.flip(beta)*(sigma2_vals[k:q+k])\n",
    "        qsum = np.nansum(qsum) \n",
    "        sigma2hat = w+psum+qsum\n",
    "        yhat = error*np.sqrt(sigma2hat)\n",
    "        y_vals[p+k] = yhat \n",
    "        sigma2_vals[q+k] = sigma2hat \n",
    "    \n",
    "    res = {'mean': y_vals[-h:], 'sigma2': sigma2_vals[-h:], 'fitted': mod['fitted']}\n",
    "    \n",
    "    return res "
   ]
  },
  {
   "cell_type": "code",
   "execution_count": null,
   "id": "3ada18fc-eae4-474f-8b2a-51ed38ebcd8c",
   "metadata": {},
   "outputs": [],
   "source": [
    "#| hide \n",
    "h = 50\n",
    "fcst = garch_forecast(mod, h)"
   ]
  },
  {
   "cell_type": "code",
   "execution_count": null,
   "id": "e2023cd7-eccb-4e17-a682-1ac603a630e7",
   "metadata": {},
   "outputs": [],
   "source": [
    "#| hide \n",
    "fig, ax = plt.subplots(1, 1, figsize = (20,7))\n",
    "plt.plot(np.arange(0, len(y)), y) \n",
    "plt.plot(np.arange(len(y), len(y) + h), fcst['mean'], label='point forecast')\n",
    "plt.legend()"
   ]
  },
  {
   "cell_type": "code",
   "execution_count": null,
   "id": "7c240d0d-790b-4288-91d4-308a6898734f",
   "metadata": {},
   "outputs": [],
   "source": [
    "#| hide \n",
    "fig, ax = plt.subplots(1, 1, figsize = (20,7))\n",
    "plt.plot(np.arange(0, len(y)), y) \n",
    "plt.plot(np.arange(0, len(y)), fcst['fitted'], label='fitted values') \n",
    "plt.legend()"
   ]
  },
  {
   "cell_type": "markdown",
   "id": "7da079be-f231-4324-a800-5f0f50fa1c13",
   "metadata": {},
   "source": [
    "### Comparison with arch library"
   ]
  },
  {
   "cell_type": "markdown",
   "id": "ba4a13f7-0ba6-4f80-98a9-44da5a8c0e78",
   "metadata": {},
   "source": [
    "This section compares the coefficients generated by the previous functions with the coefficients generated by the [arch library](https://github.com/bashtage/arch) for $p=q$, $p>q$, and $p<q$. "
   ]
  },
  {
   "cell_type": "code",
   "execution_count": null,
   "id": "3a24edb3-2617-40d7-9fdb-6297b68d6e6d",
   "metadata": {},
   "outputs": [],
   "source": [
    "def comparison_arch(y, p, q): \n",
    "    \n",
    "    model = arch_model(y, p=p, q=q) \n",
    "    fit = model.fit()\n",
    "    print(fit.summary())\n",
    "    \n",
    "    mod = garch_model(y, p, q)\n",
    "    \n",
    "    print('STATSFORECAST\\'S COEFFICIENTS: ') \n",
    "    print(np.around(mod['coeff'], 5))"
   ]
  },
  {
   "cell_type": "code",
   "execution_count": null,
   "id": "2ac7a508-c653-4c10-a06a-d5ec3159b337",
   "metadata": {},
   "outputs": [],
   "source": [
    "# p = q \n",
    "comparison_arch(y, 1, 1) "
   ]
  },
  {
   "cell_type": "code",
   "execution_count": null,
   "id": "756eda8a-7473-4f5e-b69a-73a920fcd6cd",
   "metadata": {},
   "outputs": [],
   "source": [
    "# p > q \n",
    "comparison_arch(y, 2, 1) "
   ]
  },
  {
   "cell_type": "code",
   "execution_count": null,
   "id": "f6e82aba-482b-4306-9406-c49b66dfcab9",
   "metadata": {},
   "outputs": [],
   "source": [
    "# p < q \n",
    "comparison_arch(y, 1, 2) "
   ]
  }
 ],
 "metadata": {
  "kernelspec": {
   "display_name": "Python 3 (ipykernel)",
   "language": "python",
   "name": "python3"
  }
 },
 "nbformat": 4,
 "nbformat_minor": 5
}
