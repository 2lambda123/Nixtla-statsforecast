{
 "cells": [
  {
   "cell_type": "code",
   "execution_count": null,
   "id": "30ebf8f9",
   "metadata": {},
   "outputs": [],
   "source": [
    "#hide\n",
    "%load_ext autoreload\n",
    "%autoreload 2"
   ]
  },
  {
   "cell_type": "code",
   "execution_count": null,
   "id": "732d5057-c72b-4b2e-96f4-89d49b3e8c6f",
   "metadata": {},
   "outputs": [],
   "source": [
    "#hide\n",
    "import warnings\n",
    "warnings.simplefilter('ignore')\n",
    "\n",
    "import logging\n",
    "logging.getLogger('statsforecast').setLevel(logging.ERROR)"
   ]
  },
  {
   "cell_type": "markdown",
   "id": "73cb4b4f",
   "metadata": {},
   "source": [
    "<img src=\"https://raw.githubusercontent.com/Nixtla/neuralforecast/main/nbs/indx_imgs/branding/logo_mid.png\" />"
   ]
  },
  {
   "cell_type": "markdown",
   "id": "c6883764",
   "metadata": {},
   "source": [
    "# Statistical ⚡️ Forecast\n",
    "> Lightning fast forecasting with statistical and econometric models\n"
   ]
  },
  {
   "cell_type": "markdown",
   "id": "60fa12ac",
   "metadata": {},
   "source": [
    "[![CI](https://github.com/Nixtla/statsforecast/actions/workflows/ci.yaml/badge.svg?branch=main)](https://github.com/Nixtla/statsforecast/actions/workflows/ci.yaml)\n",
    "[![Python](https://img.shields.io/pypi/pyversions/statsforecast)](https://pypi.org/project/statsforecast/)\n",
    "[![PyPi](https://img.shields.io/pypi/v/statsforecast?color=blue)](https://pypi.org/project/statsforecast/)\n",
    "[![License](https://img.shields.io/github/license/Nixtla/statsforecast)](https://github.com/Nixtla/statsforecast/blob/main/LICENSE)\n"
   ]
  },
  {
   "cell_type": "markdown",
   "id": "6afa55be",
   "metadata": {},
   "source": [
    "**statsforecast** offers a collection of widly used univariate time series forecasting models including exponential smoothing and automatic ARIMA modelling optimized for high perfomance using `numba`."
   ]
  },
  {
   "cell_type": "markdown",
   "id": "2528d35e",
   "metadata": {},
   "source": [
    "## 🔥 Features\n",
    "\n",
    "* Fastest and most acurate autoarima in Python and R (for the moment...)\n",
    "* Out of the box implementation of other classical models and benchmarks like exponetial smoothing, croston, sesonal naive, random walk and tbs.\n",
    "* 20x faster than pmdarima\n",
    "* 1.5x faster than R\n",
    "* 500x faster than Prophet \n",
    "* Compiled to high performance machine code through [numba](https://numba.pydata.org/)"
   ]
  },
  {
   "cell_type": "markdown",
   "id": "41dcdeda-c1f7-49cc-bc13-f266752871e6",
   "metadata": {},
   "source": [
    "## 📖 Why? "
   ]
  },
  {
   "cell_type": "markdown",
   "id": "26e0270a-7b2b-4e25-acf3-367ba164586b",
   "metadata": {},
   "source": [
    "Current python alternatives for statistical models are slow and innacurate. So we created a librabry that can be used to forecast in production enviorments or as benchmarks.  `StatsForecast` includes a large battery of models that can efficiently fit thousands of time series."
   ]
  },
  {
   "cell_type": "markdown",
   "id": "c4927721-cd67-4cb1-acdd-c1f7241b47df",
   "metadata": {},
   "source": [
    "### 🔬 Accuracy"
   ]
  },
  {
   "cell_type": "markdown",
   "id": "c37db722-aaa4-4702-abee-c6d1bd8120ac",
   "metadata": {},
   "source": [
    "We compared accuracy and speed against: [pmdarima](https://github.com/alkaline-ml/pmdarima), Bob Hyndman's [forecast](https://github.com/robjhyndman/forecast) package and Facebook's [prohpet](https://github.com/facebook/prophet). We used the `Daily`, `Hourly` and `Weekly` data from the [M4 competition](https://www.sciencedirect.com/science/article/pii/S0169207019301128). \n",
    "\n",
    "The following table summarizes the results. As can be seen, our `auto_arima` is the best model in accuracy (measured by the `MASE` loss) and time, even compared with the original implementation in R."
   ]
  },
  {
   "cell_type": "markdown",
   "id": "ac3f9261-788b-4691-8502-50ba656f42a3",
   "metadata": {},
   "source": [
    "| dataset   | metric   |   nixtla | pmdarima [1] |   auto_arima_r |   prophet |\n",
    "|:----------|:---------|--------------------:|----------------------:|---------------:|----------:|\n",
    "| M4-Daily     | MASE     |                **3.26** |                  3.35 |           4.46 |     14.26 |\n",
    "| M4-Daily     | time     |                **1.41** |                 27.61 |           1.81 |    514.33 |\n",
    "| M4-Hourly    | MASE     |                **0.92** |                ---    |           1.02 |      1.78 |\n",
    "| M4-Hourly    | time     |               **12.92** |                ---    |          23.95 |     17.27 |\n",
    "| M4-Weekly    | MASE     |                **2.34** |                  2.47 |           2.58 |      7.29 |\n",
    "| M4-Weekly    | time     |                0.42 |                  2.92 |           **0.22** |     19.82 |\n",
    "\n",
    "\n",
    "[1] The model `auto_arima` from `pmdarima` had problems with Hourly data. An issue was opened in their repo."
   ]
  },
  {
   "cell_type": "markdown",
   "id": "619222fc",
   "metadata": {},
   "source": [
    "Data details\n",
    " \n",
    "| group   | n_series   | mean_length   | std_length   |   min_length | max_length   |\n",
    "|:--------|-----------:|--------------:|-------------:|-------------:|-------------:|\n",
    "| Daily   | 4,227      | 2,371         | 1,756        |          107 | 9,933        |\n",
    "| Hourly  | 414        | 901           | 127          |          748 | 1,008        |\n",
    "| Weekly  | 359        | 1,035         | 707          |           93 | 2,610        | "
   ]
  },
  {
   "cell_type": "markdown",
   "id": "5b085134-38be-46d0-91bc-2fc245897f4e",
   "metadata": {},
   "source": [
    "### ⏲ Computational efficiency"
   ]
  },
  {
   "cell_type": "markdown",
   "id": "f02cace2-7a64-4328-8232-c6cfc139c54d",
   "metadata": {},
   "source": [
    "We measured computational time againsts number of time series. The following graph shows the results. As we can see, the fastest model is our `auto_arima`."
   ]
  },
  {
   "cell_type": "markdown",
   "id": "9c474be8-7d29-462f-afd8-46d4722f9bf2",
   "metadata": {},
   "source": [
    "![](imgs/computational-efficiency.png)"
   ]
  },
  {
   "cell_type": "markdown",
   "id": "aad6a705",
   "metadata": {},
   "source": [
    "<details>\n",
    "    <summary> Nixtla vs prophet </summary> \n",
    "    <img src=\"imgs/computational-efficiency-hours-wo-pmdarima.png\" > \n",
    "</details>"
   ]
  },
  {
   "cell_type": "markdown",
   "id": "f1b9d5ce-4add-42d9-bb4c-b4adcdf30b30",
   "metadata": {},
   "source": [
    "You can reproduce the results [here](/experiments/arima/)."
   ]
  },
  {
   "cell_type": "markdown",
   "id": "8c3d8a2e",
   "metadata": {},
   "source": [
    "## 💻 Install\n",
    "`pip install statsforecast`"
   ]
  },
  {
   "cell_type": "markdown",
   "id": "be43259c",
   "metadata": {},
   "source": [
    "## 🧬 How to use"
   ]
  },
  {
   "cell_type": "code",
   "execution_count": null,
   "id": "3fce1b43",
   "metadata": {},
   "outputs": [],
   "source": [
    "import numpy as np\n",
    "import pandas as pd\n",
    "from IPython.display import display, Markdown\n",
    "\n",
    "import matplotlib.pyplot as plt\n",
    "from statsforecast import StatsForecast\n",
    "from statsforecast.models import seasonal_naive, auto_arima\n",
    "from statsforecast.utils import AirPassengers"
   ]
  },
  {
   "cell_type": "code",
   "execution_count": null,
   "id": "059ca268-8717-4808-b73e-b96c652355c6",
   "metadata": {},
   "outputs": [],
   "source": [
    "horizon = 12\n",
    "ap_train = AirPassengers[:-horizon]\n",
    "ap_test = AirPassengers[-horizon:]"
   ]
  },
  {
   "cell_type": "code",
   "execution_count": null,
   "id": "95b5a8c7-b620-4d56-9f51-909332c0537c",
   "metadata": {},
   "outputs": [],
   "source": [
    "series_train = pd.DataFrame(\n",
    "    {\n",
    "        'ds': np.arange(1, ap_train.size + 1),\n",
    "        'y': ap_train\n",
    "    },\n",
    "    index=pd.Index([0] * ap_train.size, name='unique_id')\n",
    ")"
   ]
  },
  {
   "cell_type": "code",
   "execution_count": null,
   "id": "673050c0",
   "metadata": {},
   "outputs": [],
   "source": [
    "def display_df(df):\n",
    "    display(Markdown(df.to_markdown()))"
   ]
  },
  {
   "cell_type": "code",
   "execution_count": null,
   "id": "806e23c3",
   "metadata": {},
   "outputs": [],
   "source": [
    "fcst = StatsForecast(\n",
    "    series_train, \n",
    "    models=[(auto_arima, 12), (seasonal_naive, 12)], \n",
    "    freq='M', \n",
    "    n_jobs=1\n",
    ")\n",
    "forecasts = fcst.forecast(12)\n",
    "display_df(forecasts)"
   ]
  },
  {
   "cell_type": "code",
   "execution_count": null,
   "id": "9301447b-ed59-4b3d-86e0-ecbb323fb1f8",
   "metadata": {},
   "outputs": [],
   "source": [
    "forecasts['y_test'] = ap_test"
   ]
  },
  {
   "cell_type": "code",
   "execution_count": null,
   "id": "cc2c44b6-7c42-446b-9b2e-19d8c99c44bf",
   "metadata": {},
   "outputs": [],
   "source": [
    "fig, ax = plt.subplots(1, 1, figsize = (20, 7))\n",
    "pd.concat([series_train, forecasts]).set_index('ds').plot(ax=ax, linewidth=2)\n",
    "ax.set_title('AirPassengers Forecast', fontsize=22)\n",
    "ax.set_ylabel('Monthly Passengers', fontsize=20)\n",
    "ax.set_xlabel('Timestamp [t]', fontsize=20)\n",
    "ax.legend(prop={'size': 15})\n",
    "ax.grid()\n",
    "for label in (ax.get_xticklabels() + ax.get_yticklabels()):\n",
    "    label.set_fontsize(20)"
   ]
  },
  {
   "cell_type": "markdown",
   "id": "7b6f2db0",
   "metadata": {},
   "source": [
    "## 🔨 How to contribute\n",
    "See [CONTRIBUTING.md](https://github.com/Nixtla/neuralforecast/blob/main/CONTRIBUTING.md)."
   ]
  },
  {
   "cell_type": "markdown",
   "id": "a466a5e6",
   "metadata": {},
   "source": [
    "## 📃 References\n",
    "*  The `auto_arima` model is based (translated) from the R implementation included in the [forecast](https://github.com/robjhyndman/forecast) package developed by Rob Hyndman."
   ]
  },
  {
   "cell_type": "code",
   "execution_count": null,
   "id": "6767396c",
   "metadata": {},
   "outputs": [],
   "source": []
  }
 ],
 "metadata": {
  "kernelspec": {
   "display_name": "Python 3 (ipykernel)",
   "language": "python",
   "name": "python3"
  }
 },
 "nbformat": 4,
 "nbformat_minor": 5
}
