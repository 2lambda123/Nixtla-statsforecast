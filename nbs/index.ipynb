{
 "cells": [
  {
   "cell_type": "code",
   "execution_count": null,
   "id": "30ebf8f9",
   "metadata": {},
   "outputs": [],
   "source": [
    "#hide\n",
    "%load_ext autoreload\n",
    "%autoreload 2"
   ]
  },
  {
   "cell_type": "code",
   "execution_count": null,
   "id": "732d5057-c72b-4b2e-96f4-89d49b3e8c6f",
   "metadata": {},
   "outputs": [],
   "source": [
    "#hide\n",
    "import warnings\n",
    "warnings.simplefilter('ignore')\n",
    "\n",
    "import logging\n",
    "logging.getLogger('statsforecast').setLevel(logging.ERROR)"
   ]
  },
  {
   "cell_type": "markdown",
   "id": "43832dcf-0452-4503-aace-8f38e5e23723",
   "metadata": {},
   "source": [
    "# <center>Nixtla &nbsp; [![Tweet](https://img.shields.io/twitter/url/http/shields.io.svg?style=social)](https://twitter.com/intent/tweet?text=Statistical%20Forecasting%20Algorithms%20by%20Nixtla%20&url=https://github.com/Nixtla/statsforecast&via=nixtlainc&hashtags=StatisticalModels,TimeSeries,Forecasting) &nbsp;[![Slack](https://img.shields.io/badge/Slack-4A154B?&logo=slack&logoColor=white)](https://join.slack.com/t/nixtlaworkspace/shared_invite/zt-135dssye9-fWTzMpv2WBthq8NK0Yvu6A)</center>"
   ]
  },
  {
   "cell_type": "markdown",
   "id": "4ea573e6",
   "metadata": {},
   "source": [
    "<div align=\"center\">\n",
    "<img src=\"https://raw.githubusercontent.com/Nixtla/neuralforecast/main/nbs/indx_imgs/branding/logo_mid.png\" />\n",
    "<h1 align=\"center\">Statistical ⚡️ Forecast</h1>\n",
    "<h3 align=\"center\">Lightning fast forecasting with statistical and econometric models</h3>\n",
    "    \n",
    "[![CI](https://github.com/Nixtla/statsforecast/actions/workflows/ci.yaml/badge.svg?branch=main)](https://github.com/Nixtla/statsforecast/actions/workflows/ci.yaml)\n",
    "[![Python](https://img.shields.io/pypi/pyversions/statsforecast)](https://pypi.org/project/statsforecast/)\n",
    "[![PyPi](https://img.shields.io/pypi/v/statsforecast?color=blue)](https://pypi.org/project/statsforecast/)\n",
    "[![conda-nixtla](https://img.shields.io/conda/vn/nixtla/statsforecast?color=seagreen&label=conda)](https://anaconda.org/nixtla/statsforecast)\n",
    "[![License: GPLv3](https://img.shields.io/badge/License-GPLv3-blue.svg)](https://github.com/Nixtla/statsforecast/blob/main/LICENSE)\n",
    "[![docs](https://img.shields.io/website-up-down-green-red/http/nixtla.github.io/statsforecast.svg?label=docs)](https://nixtla.github.io/statsforecast/)  \n",
    "    \n",
    "**StatsForecast** offers a collection of widely used univariate time series forecasting models, including exponential smoothing and automatic `ARIMA` modeling optimized for high performance using `numba`.\n",
    "\n",
    "[Getting started](#%F0%9F%A7%AC%20Getting%20Started) •\n",
    "[Installation](#💻-installation)\n",
    "</div>"
   ]
  },
  {
   "cell_type": "markdown",
   "id": "50d28044",
   "metadata": {},
   "source": [
    "## 🔥 Features\n",
    "\n",
    "* Fastest and most accurate `auto_arima` in Python and R (for the moment...).\n",
    "* Out of the box implementation of other classical models and benchmarks like `exponential smoothing`, `croston`, `sesonal naive`, `random walk with drift` and `tbs`.\n",
    "* 20x faster than `pmdarima`.\n",
    "* 1.5x faster than R.\n",
    "* 500x faster than `Prophet`. \n",
    "* Compiled to high performance machine code through [`numba`](https://numba.pydata.org/)."
   ]
  },
  {
   "cell_type": "markdown",
   "id": "41dcdeda-c1f7-49cc-bc13-f266752871e6",
   "metadata": {},
   "source": [
    "## 📖 Why? "
   ]
  },
  {
   "cell_type": "markdown",
   "id": "26e0270a-7b2b-4e25-acf3-367ba164586b",
   "metadata": {},
   "source": [
    "Current Python alternatives for statistical models are slow and inaccurate. So we created a library that can be used to forecast in production environments or as benchmarks.  `StatsForecast` includes an extensive battery of models that can efficiently fit thousands of time series."
   ]
  },
  {
   "cell_type": "markdown",
   "id": "c4927721-cd67-4cb1-acdd-c1f7241b47df",
   "metadata": {},
   "source": [
    "### 🔬 Accuracy"
   ]
  },
  {
   "cell_type": "markdown",
   "id": "c37db722-aaa4-4702-abee-c6d1bd8120ac",
   "metadata": {},
   "source": [
    "We compared accuracy and speed against: [pmdarima](https://github.com/alkaline-ml/pmdarima), Rob Hyndman's [forecast](https://github.com/robjhyndman/forecast) package and Facebook's [Prophet](https://github.com/facebook/prophet). We used the `Daily`, `Hourly` and `Weekly` data from the [M4 competition](https://www.sciencedirect.com/science/article/pii/S0169207019301128). \n",
    "\n",
    "The following table summarizes the results. As can be seen, our `auto_arima` is the best model in accuracy (measured by the `MASE` loss) and time, even compared with the original implementation in R."
   ]
  },
  {
   "cell_type": "markdown",
   "id": "ac3f9261-788b-4691-8502-50ba656f42a3",
   "metadata": {},
   "source": [
    "| dataset   | metric   |   nixtla | pmdarima [1] |   auto_arima_r |   prophet |\n",
    "|:----------|:---------|--------------------:|----------------------:|---------------:|----------:|\n",
    "| M4-Daily     | MASE     |                **3.26** |                  3.35 |           4.46 |     14.26 |\n",
    "| M4-Daily     | time     |                **1.41** |                 27.61 |           1.81 |    514.33 |\n",
    "| M4-Hourly    | MASE     |                **0.92** |                ---    |           1.02 |      1.78 |\n",
    "| M4-Hourly    | time     |               **12.92** |                ---    |          23.95 |     17.27 |\n",
    "| M4-Weekly    | MASE     |                **2.34** |                  2.47 |           2.58 |      7.29 |\n",
    "| M4-Weekly    | time     |                0.42 |                  2.92 |           **0.22** |     19.82 |\n",
    "\n",
    "\n",
    "[1] The model `auto_arima` from `pmdarima` had problems with Hourly data. An issue was opened in their repo."
   ]
  },
  {
   "cell_type": "markdown",
   "id": "482db014",
   "metadata": {},
   "source": [
    "The following table summarizes the data details.\n",
    " \n",
    "| group   | n_series   | mean_length   | std_length   |   min_length | max_length   |\n",
    "|:--------|-----------:|--------------:|-------------:|-------------:|-------------:|\n",
    "| Daily   | 4,227      | 2,371         | 1,756        |          107 | 9,933        |\n",
    "| Hourly  | 414        | 901           | 127          |          748 | 1,008        |\n",
    "| Weekly  | 359        | 1,035         | 707          |           93 | 2,610        | "
   ]
  },
  {
   "cell_type": "markdown",
   "id": "5b085134-38be-46d0-91bc-2fc245897f4e",
   "metadata": {},
   "source": [
    "### ⏲ Computational efficiency"
   ]
  },
  {
   "cell_type": "markdown",
   "id": "f02cace2-7a64-4328-8232-c6cfc139c54d",
   "metadata": {},
   "source": [
    "We measured the computational time against the number of time series. The following graph shows the results. As we can see, the fastest model is our `auto_arima`."
   ]
  },
  {
   "cell_type": "markdown",
   "id": "9c474be8-7d29-462f-afd8-46d4722f9bf2",
   "metadata": {},
   "source": [
    "![](imgs/computational-efficiency.png)"
   ]
  },
  {
   "cell_type": "markdown",
   "id": "3637d2fa",
   "metadata": {},
   "source": [
    "<details>\n",
    "    <summary> Nixtla vs Prophet </summary> \n",
    "    <img src=\"nbs/imgs/computational-efficiency-hours-wo-pmdarima.png\" > \n",
    "</details>"
   ]
  },
  {
   "cell_type": "markdown",
   "id": "f1b9d5ce-4add-42d9-bb4c-b4adcdf30b30",
   "metadata": {},
   "source": [
    "You can reproduce the results [here](/experiments/arima/)."
   ]
  },
  {
   "cell_type": "markdown",
   "id": "ebfa511c",
   "metadata": {},
   "source": [
    "## 👾 Less code\n",
    "![pmd to stats](imgs/pdmarimaStats.gif)\n"
   ]
  },
  {
   "cell_type": "markdown",
   "id": "2f3267fb-4476-4118-9e1e-5a07d48af3f1",
   "metadata": {},
   "source": [
    "## 📖 Documentation\n",
    "Here is a link to the [documentation](https://nixtla.github.io/statsforecast/).\n",
    "\n",
    "## 🧬 Getting Started [![Open In Colab](https://colab.research.google.com/assets/colab-badge.svg)](https://colab.research.google.com/github/nixtla/statsforecast/blob/main/examples/arima.ipynb)\n",
    "\n",
    "[Example Jupyter Notebook](https://github.com/Nixtla/statsforecast/blob/main/examples/arima.ipynb)"
   ]
  },
  {
   "cell_type": "markdown",
   "id": "8c3d8a2e",
   "metadata": {},
   "source": [
    "## 💻 Installation\n",
    "<details>\n",
    "<summary>PyPI</summary>\n",
    "\n",
    "You can install the *released version* of `StatsForecast` from the [Python package index](https://pypi.org) with:\n",
    "\n",
    "```python\n",
    "pip install statsforecast\n",
    "```\n",
    "\n",
    "(Installing inside a python virtualenvironment or a conda environment is recommended.)\n",
    "</details>\n",
    "\n",
    "<details>\n",
    "<summary>Conda</summary>\n",
    "  \n",
    "Also you can install the *released version* of `StatsForecast` from [conda](https://anaconda.org) with:\n",
    "\n",
    "```python\n",
    "conda install -c nixtla statsforecast\n",
    "```\n",
    "\n",
    "(Installing inside a python virtualenvironment or a conda environment is recommended.)\n",
    "</details>\n",
    "\n",
    "<details>\n",
    "<summary>Dev Mode</summary>\n",
    "If you want to make some modifications to the code and see the effects in real time (without reinstalling), follow the steps below:\n",
    "\n",
    "```bash\n",
    "git clone https://github.com/Nixtla/statsforecast.git\n",
    "cd statsforecast\n",
    "pip install -e .\n",
    "```\n",
    "</details>"
   ]
  },
  {
   "cell_type": "markdown",
   "id": "be43259c",
   "metadata": {},
   "source": [
    "## 🧬 How to use"
   ]
  },
  {
   "cell_type": "code",
   "execution_count": null,
   "id": "3fce1b43",
   "metadata": {},
   "outputs": [],
   "source": [
    "import numpy as np\n",
    "import pandas as pd\n",
    "from IPython.display import display, Markdown\n",
    "\n",
    "import matplotlib.pyplot as plt\n",
    "from statsforecast import StatsForecast\n",
    "from statsforecast.models import seasonal_naive, auto_arima\n",
    "from statsforecast.utils import AirPassengers"
   ]
  },
  {
   "cell_type": "code",
   "execution_count": null,
   "id": "059ca268-8717-4808-b73e-b96c652355c6",
   "metadata": {},
   "outputs": [],
   "source": [
    "horizon = 12\n",
    "ap_train = AirPassengers[:-horizon]\n",
    "ap_test = AirPassengers[-horizon:]"
   ]
  },
  {
   "cell_type": "code",
   "execution_count": null,
   "id": "95b5a8c7-b620-4d56-9f51-909332c0537c",
   "metadata": {},
   "outputs": [],
   "source": [
    "series_train = pd.DataFrame(\n",
    "    {\n",
    "        'ds': np.arange(1, ap_train.size + 1),\n",
    "        'y': ap_train\n",
    "    },\n",
    "    index=pd.Index([0] * ap_train.size, name='unique_id')\n",
    ")"
   ]
  },
  {
   "cell_type": "code",
   "execution_count": null,
   "id": "673050c0",
   "metadata": {},
   "outputs": [],
   "source": [
    "def display_df(df):\n",
    "    display(Markdown(df.to_markdown()))"
   ]
  },
  {
   "cell_type": "code",
   "execution_count": null,
   "id": "806e23c3",
   "metadata": {},
   "outputs": [],
   "source": [
    "fcst = StatsForecast(\n",
    "    series_train, \n",
    "    models=[(auto_arima, 12), (seasonal_naive, 12)], \n",
    "    freq='M', \n",
    "    n_jobs=1\n",
    ")\n",
    "forecasts = fcst.forecast(12)\n",
    "display_df(forecasts)"
   ]
  },
  {
   "cell_type": "code",
   "execution_count": null,
   "id": "9301447b-ed59-4b3d-86e0-ecbb323fb1f8",
   "metadata": {},
   "outputs": [],
   "source": [
    "forecasts['y_test'] = ap_test"
   ]
  },
  {
   "cell_type": "code",
   "execution_count": null,
   "id": "cc2c44b6-7c42-446b-9b2e-19d8c99c44bf",
   "metadata": {},
   "outputs": [],
   "source": [
    "fig, ax = plt.subplots(1, 1, figsize = (20, 7))\n",
    "pd.concat([series_train, forecasts]).set_index('ds').plot(ax=ax, linewidth=2)\n",
    "ax.set_title('AirPassengers Forecast', fontsize=22)\n",
    "ax.set_ylabel('Monthly Passengers', fontsize=20)\n",
    "ax.set_xlabel('Timestamp [t]', fontsize=20)\n",
    "ax.legend(prop={'size': 15})\n",
    "ax.grid()\n",
    "for label in (ax.get_xticklabels() + ax.get_yticklabels()):\n",
    "    label.set_fontsize(20)"
   ]
  },
  {
   "cell_type": "markdown",
   "id": "ce55c93a-29b7-477d-ae53-baa564e495e5",
   "metadata": {},
   "source": [
    "### Adding external regressors"
   ]
  },
  {
   "cell_type": "code",
   "execution_count": null,
   "id": "aae0b908-5e3d-4c86-b35e-22365769546a",
   "metadata": {},
   "outputs": [],
   "source": [
    "series_xreg = pd.DataFrame(\n",
    "    {\n",
    "        'ds': pd.date_range(start='1949-01-01', periods=ap_train.size, freq='M'),\n",
    "        'y': ap_train\n",
    "    },\n",
    "    index=pd.Index([0] * ap_train.size, name='unique_id')\n",
    ")"
   ]
  },
  {
   "cell_type": "code",
   "execution_count": null,
   "id": "f0138bae-896b-421e-ae76-00090064541a",
   "metadata": {},
   "outputs": [],
   "source": [
    "series_xreg['trend'] = np.arange(1, ap_train.size + 1)\n",
    "series_xreg['month'] = series_xreg['ds'].dt.month\n",
    "series_xreg = pd.get_dummies(series_xreg, columns=['month'], drop_first=True)"
   ]
  },
  {
   "cell_type": "code",
   "execution_count": null,
   "id": "23d890e2-0a25-4e67-a933-8cdbfde2a703",
   "metadata": {},
   "outputs": [],
   "source": [
    "display_df(series_xreg.head())"
   ]
  },
  {
   "cell_type": "code",
   "execution_count": null,
   "id": "2db70ee8-bdfe-4cc4-a0a6-5696b6f44f4b",
   "metadata": {},
   "outputs": [],
   "source": [
    "xreg_test = pd.DataFrame(\n",
    "    {\n",
    "        'ds': pd.date_range(start='1960-01-01', periods=ap_test.size, freq='M')\n",
    "    },\n",
    "    index=pd.Index([0] * ap_test.size, name='unique_id')\n",
    ")"
   ]
  },
  {
   "cell_type": "code",
   "execution_count": null,
   "id": "0b438599-d758-47df-9a07-75ec1e2f8c4b",
   "metadata": {},
   "outputs": [],
   "source": [
    "xreg_test['trend'] = np.arange(133, ap_test.size + 133)\n",
    "xreg_test['month'] = xreg_test['ds'].dt.month\n",
    "xreg_test = pd.get_dummies(xreg_test, columns=['month'], drop_first=True)"
   ]
  },
  {
   "cell_type": "code",
   "execution_count": null,
   "id": "1cbb3f70-b315-4187-b290-ae5e860a6954",
   "metadata": {},
   "outputs": [],
   "source": [
    "fcst = StatsForecast(\n",
    "    series_xreg, \n",
    "    models=[(auto_arima, 12), (seasonal_naive, 12)], \n",
    "    freq='M', \n",
    "    n_jobs=1\n",
    ")\n",
    "forecasts = fcst.forecast(12, xreg=xreg_test)\n",
    "display_df(forecasts)"
   ]
  },
  {
   "cell_type": "code",
   "execution_count": null,
   "id": "9a937be3-d24f-43bb-8e1b-df1240be6b96",
   "metadata": {},
   "outputs": [],
   "source": [
    "forecasts['y_test'] = ap_test"
   ]
  },
  {
   "cell_type": "code",
   "execution_count": null,
   "id": "8f3b4719-e614-4d53-a60b-28d020aac3e5",
   "metadata": {},
   "outputs": [],
   "source": [
    "fig, ax = plt.subplots(1, 1, figsize = (20, 7))\n",
    "pd.concat([series_xreg[['ds', 'y']], forecasts]).set_index('ds').plot(ax=ax, linewidth=2)\n",
    "ax.set_title('AirPassengers Forecast using External Regressors', fontsize=22)\n",
    "ax.set_ylabel('Monthly Passengers', fontsize=20)\n",
    "ax.set_xlabel('Timestamp [t]', fontsize=20)\n",
    "ax.legend(prop={'size': 15})\n",
    "ax.grid()\n",
    "for label in (ax.get_xticklabels() + ax.get_yticklabels()):\n",
    "    label.set_fontsize(20)"
   ]
  },
  {
   "cell_type": "markdown",
   "id": "0638ec6c",
   "metadata": {},
   "source": [
    "## 🔨 How to contribute\n",
    "See [CONTRIBUTING.md](https://github.com/Nixtla/neuralforecast/blob/main/CONTRIBUTING.md)."
   ]
  },
  {
   "cell_type": "markdown",
   "id": "5a06d6c0",
   "metadata": {},
   "source": [
    "## 📃 References\n",
    "*  The `auto_arima` model is based (translated) from the R implementation included in the [forecast](https://github.com/robjhyndman/forecast) package developed by Rob Hyndman."
   ]
  }
 ],
 "metadata": {
  "kernelspec": {
   "display_name": "Python 3 (ipykernel)",
   "language": "python",
   "name": "python3"
  },
  "language_info": {
   "codemirror_mode": {
    "name": "ipython",
    "version": 3
   },
   "file_extension": ".py",
   "mimetype": "text/x-python",
   "name": "python",
   "nbconvert_exporter": "python",
   "pygments_lexer": "ipython3",
   "version": "3.7.12"
  }
 },
 "nbformat": 4,
 "nbformat_minor": 5
}
