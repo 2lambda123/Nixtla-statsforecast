{
 "cells": [
  {
   "cell_type": "code",
   "execution_count": null,
   "id": "30ebf8f9",
   "metadata": {},
   "outputs": [
    {
     "name": "stdout",
     "output_type": "stream",
     "text": [
      "The autoreload extension is already loaded. To reload it, use:\n",
      "  %reload_ext autoreload\n"
     ]
    }
   ],
   "source": [
    "#| hide\n",
    "%load_ext autoreload\n",
    "%autoreload 2"
   ]
  },
  {
   "cell_type": "code",
   "execution_count": null,
   "id": "732d5057-c72b-4b2e-96f4-89d49b3e8c6f",
   "metadata": {},
   "outputs": [],
   "source": [
    "#| hide\n",
    "import warnings\n",
    "warnings.simplefilter('ignore')\n",
    "\n",
    "import logging\n",
    "logging.getLogger('statsforecast').setLevel(logging.ERROR)"
   ]
  },
  {
   "cell_type": "markdown",
   "id": "43832dcf-0452-4503-aace-8f38e5e23723",
   "metadata": {},
   "source": [
    "# StatsForecast ⚡️\n",
    "\n",
    "> StatsForecast offers a collection of popular univariate time series forecasting models optimized for high performance and scalability. "
   ]
  },
  {
   "cell_type": "markdown",
   "id": "50d28044",
   "metadata": {},
   "source": [
    "## Installation\n",
    "\n",
    "You can install the *released version* of `StatsForecast` from the [Python package index](https://pypi.org) with:\n",
    "\n",
    "```python\n",
    "pip install statsforecast\n",
    "```\n",
    "We are constantly updating StatsForecast, so we suggest fixing the version to avoid issues. `pip install statsforecast==\"1.0.0\"`\n",
    "\n",
    "\n",
    "We recommend installing your libraries inside a python virtual or conda environment. To install the latest *released version* of `StatsForecast` from [conda](https://anaconda.org) run this command:\n",
    "\n",
    "```python\n",
    "conda install -c conda-forge statsforecast\n",
    "```\n",
    "\n"
   ]
  },
  {
   "cell_type": "markdown",
   "id": "90f422b7",
   "metadata": {},
   "source": [
    "## Get Started\n",
    "\n",
    "To get started with a minimal example, follow this [guide](./examples/Getting_Started_short.ipynb)\n",
    "\n",
    "Or follow this [stept by step guide ](./examples/Getting_Started_complete.ipynb) to train, evaluate and select multiple models on many time series. "
   ]
  },
  {
   "cell_type": "markdown",
   "id": "2de0541c-43ca-4906-b51e-b30f94074286",
   "metadata": {},
   "source": [
    "## Features\n",
    "\n",
    "* Fastest and most accurate implementations of `AutoARIMA`, `ETS`, `AutoCES`, and `MSTL` in Python. \n",
    "* Out-of-the-box compatibility with Spark, Dask, and Ray.\n",
    "* Probabilistic Forecasting and Confidence Intervals.\n",
    "* Anomaly Detection.\n",
    "* Familiar sklearn syntax: `.fit` and `.predict`. \n",
    "* Intermittent demand forecasting with `CrostonClassic`, `CrostonSBA`, `CrostonOptimized`, `ADIDA`, and `IMAPA`.\n",
    "* Benchmarking at scale with models like `HistoricAverage`, `SeasonalWindowAverage`, `SeasonalNaive`, `Naive`, `RandomWalkWithDrift`, `WindowAverage`, `SeasonalExponentialSmoothing`, and `TSB`.\n",
    "\n"
   ]
  },
  {
   "cell_type": "markdown",
   "id": "c11cef31-a60e-4a78-995a-94063abe9809",
   "metadata": {},
   "source": [
    "## Highlights\n",
    "\n",
    "* Inclusion of `exogenous variables` and `prediction intervals` for ARIMA.\n",
    "* 20x faster than `pmdarima`.\n",
    "* 1.5x faster than `R`.\n",
    "* 500x faster than `Prophet`. \n",
    "* 4x faster than `statsmodels`.\n",
    "* Compiled to high performance machine code through [`numba`](https://numba.pydata.org/).\n",
    "* 1,000,000 series in [30 min](https://github.com/Nixtla/statsforecast/tree/main/experiments/ray) with [ray](https://github.com/ray-project/ray).\n",
    "* Replace FB-Prophet in two lines of code and gain speed and accuracy. Check the experiments [here](https://github.com/Nixtla/statsforecast/tree/main/experiments/arima_prophet_adapter).\n",
    "\n",
    "\n",
    "Missing something? Please open an issue or write us in [![Slack](https://img.shields.io/badge/Slack-4A154B?&logo=slack&logoColor=white)](https://join.slack.com/t/nixtlaworkspace/shared_invite/zt-135dssye9-fWTzMpv2WBthq8NK0Yvu6A)\n"
   ]
  },
  {
   "cell_type": "markdown",
   "id": "a8a9d04c-f064-43d3-8eae-39b69d8afb9e",
   "metadata": {},
   "source": [
    "## Why? \n",
    "\n",
    "Current Python alternatives for statistical models are slow, inaccurate and don't scale well. So we created a library that can be used to forecast in production environments or as benchmarks.  `StatsForecast` includes an extensive battery of models that can efficiently fit millions of time series."
   ]
  },
  {
   "cell_type": "markdown",
   "id": "566e6ea0-0174-42a3-94c1-4d1d14591823",
   "metadata": {},
   "source": [
    "## Accuracy & Speed \n",
    "\n",
    "### ARIMA \n",
    "The `AutoARIMA` model implemented in `StatsForecast` is **20x faster** than `pmdarima` and **1.5x faster** than `R`  while improving accuracy. You can see the exact comparison and reproduce the results [here](./experiments/arima/).\n",
    "\n",
    "### ETS\n",
    "\n",
    "StatsForecast's `ETS` is **4x faster than StatsModels'** and **1.6x faster than R's**, with improved accuracy and robustness. You can see the exact comparison and reproduce the results[here](./experiments/ets/)\n",
    "\n",
    "### Benchmarks at Scale\n",
    "\n",
    "With `StatsForecast` you can fit 9 benchmark models on **1,000,000** series in under **5 min**. Reproduce the results [here](./experiments/benchmarks_at_scale/). \n"
   ]
  },
  {
   "cell_type": "markdown",
   "id": "8f2477d4-7935-468d-8805-fc674c28461e",
   "metadata": {},
   "source": [
    "\n",
    "## Getting Started \n",
    "You can run this notebooks to get you started. \n",
    "\n",
    "* Example of different `AutoARIMA` models on M4 data [![Open In Colab](https://colab.research.google.com/assets/colab-badge.svg)](https://colab.research.google.com/github/nixtla/statsforecast/blob/main/nbs/examples/AutoArima_vs_Prophet.ipynb)  \n",
    "    * In this notebook we present Nixtla's `AutoARIMA`. \n",
    "    The `AutoARIMA` model is widely used to forecast time series in production and as a benchmark. However, the alternative python implementation (`pmdarima`) is so slow that prevents data scientists from quickly iterating and deploying `AutoARIMA` in production for a large number of time series. \n",
    "\n",
    "* Shorter Example of fitting and `AutoARIMA` and an `ETS` model. [![Open In Colab](https://colab.research.google.com/assets/colab-badge.svg)](https://colab.research.google.com/github/nixtla/statsforecast/blob/main/nbs/examples/Getting_Started_with_Auto_Arima_and_ETS.ipynb)\n",
    "\n",
    "\n",
    "* Benchmarking 9 models on millions of [series](./experiments/benchmarks_at_scale/)."
   ]
  },
  {
   "cell_type": "markdown",
   "id": "516e79e8-6add-4aa1-8e39-d28ca6a651a0",
   "metadata": {},
   "source": [
    "## How to contribute\n",
    "See [CONTRIBUTING.md](https://github.com/Nixtla/statsforecast/blob/main/CONTRIBUTING.md)."
   ]
  },
  {
   "cell_type": "markdown",
   "id": "880c61b7-ec48-428d-8668-54c9114a51a1",
   "metadata": {},
   "source": [
    "## References\n",
    "\n",
    "*  The `AutoARIMA` model is based (translated) from the R implementation included in the [forecast](https://github.com/robjhyndman/forecast) package developed by Rob Hyndman.\n",
    "*  The `ETS` model is based (translated) from the R implementation included in the [forecast](https://github.com/robjhyndman/forecast) package developed by Rob Hyndman."
   ]
  }
 ],
 "metadata": {
  "kernelspec": {
   "display_name": "Python 3 (ipykernel)",
   "language": "python",
   "name": "python3"
  }
 },
 "nbformat": 4,
 "nbformat_minor": 5
}
