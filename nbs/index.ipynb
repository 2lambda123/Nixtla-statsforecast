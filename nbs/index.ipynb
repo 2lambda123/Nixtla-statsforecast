{
 "cells": [
  {
   "cell_type": "code",
   "execution_count": null,
   "id": "d1236e00",
   "metadata": {},
   "outputs": [],
   "source": [
    "#hide\n",
    "%load_ext autoreload\n",
    "%autoreload 2"
   ]
  },
  {
   "cell_type": "markdown",
   "id": "d8bf508c",
   "metadata": {},
   "source": [
    "# statsforecast\n",
    "\n",
    "> Forecasting using statistical models"
   ]
  },
  {
   "cell_type": "code",
   "execution_count": null,
   "id": "9477cdc7",
   "metadata": {},
   "outputs": [],
   "source": [
    "import numpy as np\n",
    "import pandas as pd\n",
    "from IPython.display import display, Markdown\n",
    "\n",
    "from statsforecast import StatsForecast\n",
    "from statsforecast.models import adida, ses, seasonal_naive"
   ]
  },
  {
   "cell_type": "code",
   "execution_count": null,
   "id": "c7ad2169",
   "metadata": {},
   "outputs": [],
   "source": [
    "def display_df(df):\n",
    "    display(Markdown(df.to_markdown()))"
   ]
  },
  {
   "cell_type": "code",
   "execution_count": null,
   "id": "fcc1815c",
   "metadata": {},
   "outputs": [],
   "source": [
    "rng = np.random.RandomState(0)\n",
    "serie1 = np.arange(1, 8)[np.arange(100) % 7] + rng.randint(-1, 2, size=100)\n",
    "serie2 = np.arange(100) + rng.rand(100)\n",
    "series = pd.DataFrame(\n",
    "    {\n",
    "        'ds': pd.date_range('2000-01-01', periods=serie1.size + serie2.size, freq='D'),\n",
    "        'y': np.hstack([serie1, serie2]),\n",
    "    },\n",
    "    index=pd.Index([0] * serie1.size + [1] * serie2.size, name='unique_id')\n",
    ")\n",
    "display_df(pd.concat([series.head(), series.tail()]))"
   ]
  },
  {
   "cell_type": "code",
   "execution_count": null,
   "id": "60624004",
   "metadata": {},
   "outputs": [],
   "source": [
    "fcst = StatsForecast(series, models=[adida, (ses, 0.1), (seasonal_naive, 7)], freq='D')\n",
    "forecasts = fcst.forecast(5)\n",
    "display_df(forecasts)"
   ]
  }
 ],
 "metadata": {
  "kernelspec": {
   "display_name": "Python 3 (ipykernel)",
   "language": "python",
   "name": "python3"
  }
 },
 "nbformat": 4,
 "nbformat_minor": 5
}
