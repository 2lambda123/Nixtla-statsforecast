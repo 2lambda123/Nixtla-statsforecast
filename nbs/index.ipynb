{
 "cells": [
  {
   "cell_type": "code",
   "execution_count": null,
   "id": "30ebf8f9",
   "metadata": {},
   "outputs": [],
   "source": [
    "#hide\n",
    "%load_ext autoreload\n",
    "%autoreload 2"
   ]
  },
  {
   "cell_type": "code",
   "execution_count": null,
   "id": "732d5057-c72b-4b2e-96f4-89d49b3e8c6f",
   "metadata": {},
   "outputs": [],
   "source": [
    "#hide\n",
    "import warnings\n",
    "warnings.simplefilter('ignore')\n",
    "\n",
    "import logging\n",
    "logging.getLogger('statsforecast').setLevel(logging.ERROR)"
   ]
  },
  {
   "cell_type": "markdown",
   "id": "c6883764",
   "metadata": {},
   "source": [
    "# statsforecast\n",
    "\n",
    "> Forecasting using statistical models"
   ]
  },
  {
   "cell_type": "markdown",
   "id": "60fa12ac",
   "metadata": {},
   "source": [
    "[![CI](https://github.com/Nixtla/statsforecast/actions/workflows/ci.yaml/badge.svg?branch=main)](https://github.com/Nixtla/statsforecast/actions/workflows/ci.yaml)\n",
    "[![Python](https://img.shields.io/pypi/pyversions/statsforecast)](https://pypi.org/project/statsforecast/)\n",
    "[![PyPi](https://img.shields.io/pypi/v/statsforecast?color=blue)](https://pypi.org/project/statsforecast/)\n",
    "[![License](https://img.shields.io/github/license/Nixtla/statsforecast)](https://github.com/Nixtla/statsforecast/blob/main/LICENSE)"
   ]
  },
  {
   "cell_type": "markdown",
   "id": "8c3d8a2e",
   "metadata": {},
   "source": [
    "## Install\n",
    "`pip install statsforecast`"
   ]
  },
  {
   "cell_type": "markdown",
   "id": "be43259c",
   "metadata": {},
   "source": [
    "## How to use"
   ]
  },
  {
   "cell_type": "code",
   "execution_count": null,
   "id": "3fce1b43",
   "metadata": {},
   "outputs": [],
   "source": [
    "import numpy as np\n",
    "import pandas as pd\n",
    "from IPython.display import display, Markdown\n",
    "\n",
    "from statsforecast import StatsForecast\n",
    "from statsforecast.models import random_walk_with_drift, seasonal_naive, ses"
   ]
  },
  {
   "cell_type": "code",
   "execution_count": null,
   "id": "673050c0",
   "metadata": {},
   "outputs": [],
   "source": [
    "def display_df(df):\n",
    "    display(Markdown(df.to_markdown()))"
   ]
  },
  {
   "cell_type": "code",
   "execution_count": null,
   "id": "8323d40e",
   "metadata": {},
   "outputs": [],
   "source": [
    "rng = np.random.RandomState(0)\n",
    "serie1 = np.arange(1, 8)[np.arange(100) % 7] + rng.randint(-1, 2, size=100)\n",
    "serie2 = np.arange(100) + rng.rand(100)\n",
    "series = pd.DataFrame(\n",
    "    {\n",
    "        'ds': pd.date_range('2000-01-01', periods=serie1.size + serie2.size, freq='D'),\n",
    "        'y': np.hstack([serie1, serie2]),\n",
    "    },\n",
    "    index=pd.Index([0] * serie1.size + [1] * serie2.size, name='unique_id')\n",
    ")\n",
    "display_df(pd.concat([series.head(), series.tail()]))"
   ]
  },
  {
   "cell_type": "code",
   "execution_count": null,
   "id": "806e23c3",
   "metadata": {},
   "outputs": [],
   "source": [
    "fcst = StatsForecast(series, models=[random_walk_with_drift, (seasonal_naive, 7), (ses, 0.1)], freq='D', n_jobs=2)\n",
    "forecasts = fcst.forecast(5)\n",
    "display_df(forecasts)"
   ]
  }
 ],
 "metadata": {
  "kernelspec": {
   "display_name": "Python 3 (ipykernel)",
   "language": "python",
   "name": "python3"
  }
 },
 "nbformat": 4,
 "nbformat_minor": 5
}
