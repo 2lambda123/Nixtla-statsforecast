{
 "cells": [
  {
   "cell_type": "code",
   "execution_count": null,
   "metadata": {},
   "outputs": [],
   "source": [
    "#default_exp models"
   ]
  },
  {
   "cell_type": "code",
   "execution_count": null,
   "metadata": {},
   "outputs": [],
   "source": [
    "#hide\n",
    "from nbdev import *\n",
    "%load_ext autoreload\n",
    "%autoreload 2"
   ]
  },
  {
   "cell_type": "markdown",
   "metadata": {},
   "source": [
    "# Models\n",
    "\n",
    "> Uniserie models implementations."
   ]
  },
  {
   "cell_type": "code",
   "execution_count": null,
   "metadata": {},
   "outputs": [],
   "source": [
    "#hide\n",
    "import warnings\n",
    "warnings.filterwarnings('ignore', category=FutureWarning)\n",
    "from nbdev.showdoc import add_docs, show_doc"
   ]
  },
  {
   "cell_type": "code",
   "execution_count": null,
   "metadata": {},
   "outputs": [],
   "source": [
    "#export\n",
    "from itertools import count\n",
    "from numbers import Number\n",
    "from typing import Collection, List, Optional, Sequence, Tuple\n",
    "\n",
    "import numpy as np\n",
    "import pandas as pd\n",
    "from numba import njit\n",
    "from scipy.optimize import minimize\n",
    "\n",
    "from statsforecast.arima import auto_arima_f, forecast_arima, fitted_arima\n",
    "from statsforecast.ets import ets_f, forecast_ets"
   ]
  },
  {
   "cell_type": "code",
   "execution_count": null,
   "metadata": {},
   "outputs": [],
   "source": [
    "#hide\n",
    "from statsforecast.utils import AirPassengers as ap"
   ]
  },
  {
   "cell_type": "code",
   "execution_count": null,
   "metadata": {},
   "outputs": [],
   "source": [
    "#exporti\n",
    "class _TS:\n",
    "    \n",
    "    def new(self):\n",
    "        b = type(self).__new__(type(self))\n",
    "        b.__dict__.update(self.__dict__)\n",
    "        return b"
   ]
  },
  {
   "cell_type": "markdown",
   "metadata": {},
   "source": [
    "## ARIMA methods "
   ]
  },
  {
   "cell_type": "code",
   "execution_count": null,
   "metadata": {},
   "outputs": [],
   "source": [
    "#export\n",
    "class AutoARIMA(_TS):\n",
    "    \n",
    "    def __init__(\n",
    "            self, \n",
    "            season_length: int = 1, # Number of observations per cycle\n",
    "            approximation: bool = False,\n",
    "        ):\n",
    "        self.season_length = season_length\n",
    "        self.approximation = approximation\n",
    "        \n",
    "    def __repr__(self):\n",
    "        return f'AutoARIMA()'\n",
    "    \n",
    "    def fit(\n",
    "            self, \n",
    "            y: np.ndarray, # time series\n",
    "            X: Optional[np.ndarray] = None,\n",
    "        ):\n",
    "        with np.errstate(invalid='ignore'):\n",
    "            self.model_ = auto_arima_f(\n",
    "                y, \n",
    "                xreg=X,\n",
    "                period=self.season_length, \n",
    "                approximation=self.approximation,\n",
    "                allowmean=False, allowdrift=False #not implemented yet\n",
    "            )\n",
    "        return self\n",
    "    \n",
    "    def predict(\n",
    "            self, \n",
    "            h: int, # Forecast horizon\n",
    "            X: np.ndarray = None, \n",
    "            level: Optional[Tuple[int]] = None,\n",
    "        ):\n",
    "        fcst = forecast_arima(self.model_, h=h, xreg=X, level=level)\n",
    "        if level is None:\n",
    "            return fcst['mean']\n",
    "        out = [\n",
    "            fcst['mean'],\n",
    "            *[fcst['lower'][f'{l}%'] for l in level],\n",
    "            *[fcst['upper'][f'{l}%'] for l in level],\n",
    "        ]\n",
    "        return np.vstack(out).T\n",
    "    \n",
    "    def predict_in_sample(self):\n",
    "        return fitted_arima(self.model_)\n",
    "    \n",
    "    def forecast(\n",
    "            self, \n",
    "            y: np.ndarray, \n",
    "            h: int, \n",
    "            X: np.ndarray = None, \n",
    "            X_future: np.ndarray = None,\n",
    "            level: Optional[Tuple[int]] = None, # level\n",
    "            fitted: bool = False, # return fitted values?\n",
    "        ):\n",
    "        with np.errstate(invalid='ignore'):\n",
    "            mod = auto_arima_f(\n",
    "                y,\n",
    "                xreg=X,\n",
    "                period=self.season_length,\n",
    "                approximation=self.approximation,\n",
    "                allowmean=False, allowdrift=False #not implemented yet\n",
    "            )\n",
    "        fcst = forecast_arima(mod, h, xreg=X_future, level=level)\n",
    "        mean = fcst['mean']\n",
    "        if fitted:\n",
    "            return {'mean': mean, 'fitted': fitted_arima(mod)}\n",
    "        if level is None:\n",
    "            return {'mean': mean}\n",
    "        return {\n",
    "            'mean': mean,\n",
    "            **{f'lo-{l}': fcst['lower'][f'{l}%'] for l in reversed(level)},\n",
    "            **{f'hi-{l}': fcst['upper'][f'{l}%'] for l in level},\n",
    "        }"
   ]
  },
  {
   "cell_type": "code",
   "execution_count": null,
   "metadata": {},
   "outputs": [],
   "source": [
    "#hide\n",
    "from statsforecast.utils import AirPassengers as ap\n",
    "\n",
    "def test_class(cls_, x, h, skip_insample=False):\n",
    "    cls_ = cls_.fit(x)\n",
    "    fcst_cls = cls_.predict(h=h)\n",
    "    test_eq(len(fcst_cls), h)\n",
    "    test_eq(len(arima.predict_in_sample()), len(x))\n",
    "    # test fit + predict equals forecast\n",
    "    test_eq(\n",
    "        cls_.forecast(y=x, h=h)['mean'],\n",
    "        fcst_cls\n",
    "    )\n",
    "    if not skip_insample:\n",
    "        assert isinstance(cls_.predict_in_sample(), np.ndarray)\n",
    "        np.testing.assert_array_equal(\n",
    "            cls_.forecast(y=x, h=h, fitted=True)['fitted'],\n",
    "            cls_.predict_in_sample(), \n",
    "        )"
   ]
  },
  {
   "cell_type": "code",
   "execution_count": null,
   "metadata": {},
   "outputs": [],
   "source": [
    "#hide\n",
    "arima = AutoARIMA(season_length=12)\n",
    "test_class(arima, x=ap, h=12)"
   ]
  },
  {
   "cell_type": "code",
   "execution_count": null,
   "metadata": {},
   "outputs": [],
   "source": [
    "#hide\n",
    "add_docs(\n",
    "    AutoARIMA, 'Classical AutoARIMA model',\n",
    "    forecast='Fit and predict without storing objects',\n",
    "    fit='Fits the model and saves it',\n",
    "    predict='Predict using the fitted model',\n",
    "    predict_in_sample='Return fitted values',\n",
    ")"
   ]
  },
  {
   "cell_type": "code",
   "execution_count": null,
   "metadata": {},
   "outputs": [],
   "source": [
    "show_doc(AutoARIMA, default_cls_level=3)"
   ]
  },
  {
   "cell_type": "markdown",
   "metadata": {},
   "source": [
    "The `AutoARIMA` class instantiates the model."
   ]
  },
  {
   "cell_type": "code",
   "execution_count": null,
   "metadata": {},
   "outputs": [],
   "source": [
    "arima = AutoARIMA(season_length=12)"
   ]
  },
  {
   "cell_type": "code",
   "execution_count": null,
   "metadata": {},
   "outputs": [],
   "source": [
    "show_doc(AutoARIMA.forecast)"
   ]
  },
  {
   "cell_type": "markdown",
   "metadata": {},
   "source": [
    "Once `AutoARIMA` is instantiated, you can make forecasts directly using the `AutoARIMA.forecast` method. The purpose of this method is to avoid computational burden due to object storage. This method can be thought of as a `fit_predict` without storing information. This method assumes you know the forecast horizon in advance. Observe that the method a returns a `dict` object instead of a numpy array."
   ]
  },
  {
   "cell_type": "code",
   "execution_count": null,
   "metadata": {},
   "outputs": [],
   "source": [
    "from statsforecast.utils import AirPassengers as ap\n",
    "arima.forecast(y=ap, h=12)"
   ]
  },
  {
   "cell_type": "code",
   "execution_count": null,
   "metadata": {},
   "outputs": [],
   "source": [
    "show_doc(AutoARIMA.fit)"
   ]
  },
  {
   "cell_type": "markdown",
   "metadata": {},
   "source": [
    "If you want to store the fitted model for future analysis, you can use the `AutoARIMA.fit` method. "
   ]
  },
  {
   "cell_type": "code",
   "execution_count": null,
   "metadata": {},
   "outputs": [],
   "source": [
    "arima = arima.fit(y=ap)"
   ]
  },
  {
   "cell_type": "code",
   "execution_count": null,
   "metadata": {},
   "outputs": [],
   "source": [
    "show_doc(AutoARIMA.predict)"
   ]
  },
  {
   "cell_type": "markdown",
   "metadata": {},
   "source": [
    "You can compute forecasts for the fitted model using `AutoARIMA.predict`."
   ]
  },
  {
   "cell_type": "code",
   "execution_count": null,
   "metadata": {},
   "outputs": [],
   "source": [
    "arima.predict(h=12)"
   ]
  },
  {
   "cell_type": "code",
   "execution_count": null,
   "metadata": {},
   "outputs": [],
   "source": [
    "show_doc(AutoARIMA.predict_in_sample)"
   ]
  },
  {
   "cell_type": "markdown",
   "metadata": {},
   "source": [
    "To obtain the fitted values, you can use `AutoARIMA.predict_in_sample`."
   ]
  },
  {
   "cell_type": "code",
   "execution_count": null,
   "metadata": {},
   "outputs": [],
   "source": [
    "arima.predict_in_sample()"
   ]
  },
  {
   "cell_type": "markdown",
   "metadata": {},
   "source": [
    "### Model Description"
   ]
  },
  {
   "cell_type": "markdown",
   "metadata": {},
   "source": [
    "**Auto ARIMA**: Automatically selects the best ARIMA (AutoRegressive Integrated Moving Average) model using an information criterion. Default is the corrected Akaike Information Criterion (AICc). Information criterions are tests used to check how well a model fits the data it is trying to describe. \n",
    "\n",
    "The ARIMA models are based in the autocorrelations in the data and the autocorrelations of the forecast errors. Every model has three components: AR, I, and MA. \n",
    "\n",
    "An AR(p) model captures the autocorrelations in the data at lags $1,2,\\dots p$. \n",
    "\n",
    "$$y_t = \\beta_0+\\beta_1y_{t-1}+\\beta_2y_{t-2}+\\dots+\\beta_py{t_p}+\\epsilon_t$$\n",
    "\n",
    "If the autocorrelations of the forecast errors are added up to lag $q$, an ARMA(p,q) model is obtained. \n",
    "\n",
    "$$y_t = \\beta_0+\\beta_1y_{t-1}+\\beta_2y_{t-2}+\\dots+\\beta_py{t_p} + \\epsilon_t+\\theta_1 \\epsilon_{t-1}+\\theta_2\\epsilon_{t-2}+\\dots\\theta_q\\epsilon_{t-q}$$\n",
    "\n",
    "The last component of an ARIMA model is the integrated (I) part, which is a differencing operation. The order of differencing, denoted by $d$, indicates how many rounds of lag-1 differencing are performed. \n",
    "\n",
    "ARIMA models requiere the user to select $p$, $q$, and $d$. The values for $\\beta_i, i=1,2,\\dots,p$ and $\\theta_j, j=1,2,\\dots,q$ are then estimated. Auto ARIMA automatically makes this selection, searching over a range of possible values for $p$, $q$, and $d$, and then choosing the best model using an information criterion. "
   ]
  },
  {
   "cell_type": "markdown",
   "metadata": {},
   "source": [
    "## Exponential smoothing methods "
   ]
  },
  {
   "cell_type": "code",
   "execution_count": null,
   "metadata": {},
   "outputs": [],
   "source": [
    "#export\n",
    "class ETS(_TS):\n",
    "    \n",
    "    def __init__(self, season_length: int = 1, model: str = 'ZZZ'):\n",
    "        self.season_length = season_length\n",
    "        self.model = model\n",
    "    \n",
    "    def __repr__(self):\n",
    "        return f'ETS(sl={self.season_length},model={self.model})'\n",
    "    \n",
    "    def fit(self, y: np.ndarray, X: np.ndarray = None):\n",
    "        self.model_ = ets_f(y, m=self.season_length, model=self.model)\n",
    "        return self\n",
    "    \n",
    "    def predict(self, h: int, X: np.ndarray = None):\n",
    "        return forecast_ets(self.model_, h=h)['mean']\n",
    "    \n",
    "    def predict_in_sample(self):\n",
    "        return self.model_['fitted']\n",
    "    \n",
    "    def forecast(\n",
    "        self, \n",
    "        y: np.ndarray, \n",
    "        h: int, \n",
    "        X: np.ndarray = None, \n",
    "        X_future: np.ndarray = None,\n",
    "        fitted: bool = False, # return fitted values?\n",
    "    ):\n",
    "        mod = ets_f(y, m=self.season_length, model=self.model)\n",
    "        fcst = forecast_ets(mod, h)\n",
    "        keys = ['mean']\n",
    "        if fitted:\n",
    "            keys.append('fitted')\n",
    "        return {key: fcst[key] for key in keys}"
   ]
  },
  {
   "cell_type": "code",
   "execution_count": null,
   "metadata": {},
   "outputs": [],
   "source": [
    "#hide\n",
    "ets = ETS(season_length=12)\n",
    "test_class(ets, x=ap, h=12)"
   ]
  },
  {
   "cell_type": "markdown",
   "metadata": {},
   "source": [
    "**Error, Trend, and Seasonality**: Statistical models for exponential smoothing. These models are stochastic data generating processes than can produce complete forecast distributions. Each model consists of a set of equations to describe the observed data and the unobserved components or states, which are level, trend, and seasonal. Errors can be either additive or multiplicative. The notation ETS(Z,Z,Z) is used to describe the ETS model being used, where Z can take one of the following values. \n",
    "\n",
    "Notation| \n",
    "----- |\n",
    "N = None |     \n",
    "A = Additive |   \n",
    "Ad = Additive (damped) | \n",
    "M = Multiplicative | \n",
    "\n",
    "The possibilities for each state are shown below. \n",
    "\n",
    "State | Possible values \n",
    "----- | -----\n",
    "Error | A, M\n",
    "Trend | N, A, Ad\n",
    "Seasonal | N, A, M"
   ]
  },
  {
   "cell_type": "code",
   "execution_count": null,
   "metadata": {},
   "outputs": [],
   "source": [
    "#export\n",
    "@njit\n",
    "def _ses_fcst_mse(x: np.ndarray, alpha: float) -> Tuple[float, float]:\n",
    "    \"\"\"Perform simple exponential smoothing on a series.\n",
    "\n",
    "    This function returns the one step ahead prediction\n",
    "    as well as the mean squared error of the fit.\n",
    "    \"\"\"\n",
    "    smoothed = x[0]\n",
    "    n = x.size\n",
    "    mse = 0.\n",
    "    fitted = np.full(n, np.nan, np.float32)\n",
    "\n",
    "    for i in range(1, n):\n",
    "        smoothed = (alpha * x[i - 1] + (1 - alpha) * smoothed).item()\n",
    "        error = x[i] - smoothed\n",
    "        mse += error * error\n",
    "        fitted[i] = smoothed\n",
    "\n",
    "    mse /= n\n",
    "    forecast = alpha * x[-1] + (1 - alpha) * smoothed\n",
    "    return forecast, mse, fitted\n",
    "\n",
    "\n",
    "def _ses_mse(alpha: float, x: np.ndarray) -> float:\n",
    "    \"\"\"Compute the mean squared error of a simple exponential smoothing fit.\"\"\"\n",
    "    _, mse, _ = _ses_fcst_mse(x, alpha)\n",
    "    return mse\n",
    "\n",
    "\n",
    "@njit\n",
    "def _ses_forecast(x: np.ndarray, alpha: float) -> float:\n",
    "    \"\"\"One step ahead forecast with simple exponential smoothing.\"\"\"\n",
    "    forecast, _, fitted = _ses_fcst_mse(x, alpha)\n",
    "    return forecast, fitted\n",
    "\n",
    "\n",
    "@njit\n",
    "def _demand(x: np.ndarray) -> np.ndarray:\n",
    "    \"\"\"Extract the positive elements of a vector.\"\"\"\n",
    "    return x[x > 0]\n",
    "\n",
    "\n",
    "@njit\n",
    "def _intervals(x: np.ndarray) -> np.ndarray:\n",
    "    \"\"\"Compute the intervals between non zero elements of a vector.\"\"\"\n",
    "    y = []\n",
    "\n",
    "    ctr = 1\n",
    "    for val in x:\n",
    "        if val == 0:\n",
    "            ctr += 1\n",
    "        else:\n",
    "            y.append(ctr)\n",
    "            ctr = 1\n",
    "\n",
    "    y = np.array(y)\n",
    "    return y\n",
    "\n",
    "\n",
    "@njit\n",
    "def _probability(x: np.ndarray) -> np.ndarray:\n",
    "    \"\"\"Compute the element probabilities of being non zero.\"\"\"\n",
    "    return (x != 0).astype(np.int32)\n",
    "\n",
    "\n",
    "def _optimized_ses_forecast(\n",
    "        x: np.ndarray,\n",
    "        bounds: Sequence[Tuple[float, float]] = [(0.1, 0.3)]\n",
    "    ) -> float:\n",
    "    \"\"\"Searches for the optimal alpha and computes SES one step forecast.\"\"\"\n",
    "    alpha = minimize(\n",
    "        fun=_ses_mse,\n",
    "        x0=(0,),\n",
    "        args=(x,),\n",
    "        bounds=bounds,\n",
    "        method='L-BFGS-B'\n",
    "    ).x[0]\n",
    "    forecast, fitted = _ses_forecast(x, alpha)\n",
    "    return forecast, fitted\n",
    "\n",
    "\n",
    "@njit\n",
    "def _chunk_sums(array: np.ndarray, chunk_size: int) -> np.ndarray:\n",
    "    \"\"\"Splits an array into chunks and returns the sum of each chunk.\"\"\"\n",
    "    n = array.size\n",
    "    n_chunks = n // chunk_size\n",
    "    sums = np.empty(n_chunks)\n",
    "    for i, start in enumerate(range(0, n, chunk_size)):\n",
    "        sums[i] = array[start : start + chunk_size].sum()\n",
    "    return sums\n",
    "\n",
    "@njit\n",
    "def _repeat_val(val: float, h: int):\n",
    "    return np.full(h, val, np.float32)\n",
    "\n",
    "@njit\n",
    "def _repeat_val_seas(season_vals: np.ndarray, h: int, season_length: int):\n",
    "    out = np.empty(h, np.float32)\n",
    "    for i in range(h):\n",
    "        out[i] = season_vals[i % season_length]\n",
    "    return out"
   ]
  },
  {
   "cell_type": "code",
   "execution_count": null,
   "metadata": {},
   "outputs": [],
   "source": [
    "#exporti\n",
    "@njit\n",
    "def _ses(\n",
    "        y: np.ndarray, # time series\n",
    "        h: int, # forecasting horizon\n",
    "        fitted: bool, # fitted values\n",
    "        alpha: float, # smoothing parameter\n",
    "    ): \n",
    "    fcst, _, fitted_vals = _ses_fcst_mse(y, alpha)\n",
    "    mean = _repeat_val(val=fcst, h=h)\n",
    "    fcst = {'mean': mean}\n",
    "    if fitted:\n",
    "        fcst['fitted'] = fitted_vals\n",
    "    return fcst"
   ]
  },
  {
   "cell_type": "code",
   "execution_count": null,
   "metadata": {},
   "outputs": [],
   "source": [
    "#export\n",
    "class SimpleExponentialSmoothing(_TS):\n",
    "    \n",
    "    def __init__(self, alpha: float):\n",
    "        self.alpha = alpha\n",
    "        \n",
    "    def __repr__(self):\n",
    "        return f'SES(alpha={self.alpha})'\n",
    "    \n",
    "    def fit(self, y: np.ndarray, X: np.ndarray = None):\n",
    "        mod = _ses(y=y, alpha=self.alpha, h=1, fitted=True)\n",
    "        self.model_ = dict(mod)\n",
    "        return self\n",
    "        \n",
    "    def predict(self, h: int, X: np.ndarray = None):\n",
    "        return _repeat_val(val=self.model_['mean'][0], h=h)\n",
    "    \n",
    "    def predict_in_sample(self):\n",
    "        return self.model_['fitted']\n",
    "    \n",
    "    def forecast(\n",
    "        self, \n",
    "        y: np.ndarray, \n",
    "        h: int, \n",
    "        X: np.ndarray = None, \n",
    "        X_future: np.ndarray = None,\n",
    "        fitted: bool = False, # return fitted values?\n",
    "    ):\n",
    "        out = _ses(y=y, h=h, fitted=fitted, alpha=self.alpha)\n",
    "        return out"
   ]
  },
  {
   "cell_type": "code",
   "execution_count": null,
   "metadata": {},
   "outputs": [],
   "source": [
    "#hide\n",
    "ses = SimpleExponentialSmoothing(alpha=0.1)\n",
    "test_class(ses, x=ap, h=12)\n",
    "#more tests\n",
    "ses = ses.fit(ap)\n",
    "fcst_ses = ses.predict(12)\n",
    "test_close(fcst_ses, np.repeat(460.3028, 12), eps=1e-4)\n",
    "#to recover these residuals from R\n",
    "#you have to pass initial=\"simple\"\n",
    "#in the `ses` function\n",
    "np.testing.assert_allclose(\n",
    "    ses.predict_in_sample()[[0, 1, -1]], \n",
    "    np.array([np.nan, 118 - 6., 432 + 31.447525])\n",
    ")"
   ]
  },
  {
   "cell_type": "markdown",
   "metadata": {},
   "source": [
    "**Simple (or single) exponential smoothing**: Uses a weighted average of all past observations where the weights decrease exponentially into the past. Suitable for data with no clear trend or seasonality. Assuming there are $t$ observations, the one-step forecast is given by\n",
    "\n",
    "$$\\hat{y}_{t+1}= \\alpha y_{t} + \\alpha(1-\\alpha)y_{t-1} + \\alpha(1-\\alpha)^2 y_{t-2} \\dots$$\n",
    "\n",
    "which can also be written as \n",
    "\n",
    "$$\\hat{y}_{t+1} = \\alpha y_t + \\alpha(1-\\alpha) \\hat{y}_{t-1}$$\n",
    "\n",
    "The rate $0 \\leq \\alpha \\leq 1$ at which the weights decrease is called the smoothing parameter. When $\\alpha = 1$, SES is equal to the naive method. "
   ]
  },
  {
   "cell_type": "code",
   "execution_count": null,
   "metadata": {},
   "outputs": [],
   "source": [
    "#exporti\n",
    "def _ses_optimized(\n",
    "        y: np.ndarray, # time series\n",
    "        h: int, # forecasting horizon\n",
    "        fitted: bool, # fitted values\n",
    "    ):\n",
    "    fcst, fitted_vals = _optimized_ses_forecast(y, [(0.01, 0.99)])\n",
    "    mean = _repeat_val(val=fcst, h=h)\n",
    "    fcst = {'mean': mean}\n",
    "    if fitted:\n",
    "        fcst['fitted'] = fitted_vals\n",
    "    return fcst"
   ]
  },
  {
   "cell_type": "code",
   "execution_count": null,
   "metadata": {},
   "outputs": [],
   "source": [
    "#export\n",
    "class SimpleExponentialSmoothingOptimized(_TS):\n",
    "    \n",
    "    def __init__(self):\n",
    "        pass\n",
    "    \n",
    "    def __repr__(self):\n",
    "        return f'SESOpt()'\n",
    "    \n",
    "    def fit(self, y: np.ndarray, X: np.ndarray = None):\n",
    "        mod = _ses_optimized(y=y, h=1, fitted=True)\n",
    "        self.model_ = dict(mod)\n",
    "        return self\n",
    "        \n",
    "    def predict(self, h: int, X: np.ndarray = None):\n",
    "        return _repeat_val(val=self.model_['mean'][0], h=h)\n",
    "    \n",
    "    def predict_in_sample(self):\n",
    "        return self.model_['fitted']\n",
    "    \n",
    "    def forecast(\n",
    "        self, \n",
    "        y: np.ndarray, \n",
    "        h: int, \n",
    "        X: np.ndarray = None, \n",
    "        X_future: np.ndarray = None,\n",
    "        fitted: bool = False, # return fitted values?\n",
    "    ):\n",
    "        out = _ses_optimized(y=y, h=h, fitted=fitted)\n",
    "        return out"
   ]
  },
  {
   "cell_type": "code",
   "execution_count": null,
   "metadata": {},
   "outputs": [],
   "source": [
    "#hide\n",
    "ses_op = SimpleExponentialSmoothingOptimized()\n",
    "test_class(ses_op, x=ap, h=12)"
   ]
  },
  {
   "cell_type": "markdown",
   "metadata": {},
   "source": [
    "**Simple exponential smoothing optimized**: A version of SES where the smoothing parameter $\\alpha$ is chosen automatically by minimizing the mean squared error of the fit. "
   ]
  },
  {
   "cell_type": "code",
   "execution_count": null,
   "metadata": {},
   "outputs": [],
   "source": [
    "#exporti\n",
    "@njit\n",
    "def _seasonal_exponential_smoothing(\n",
    "        y: np.ndarray, # time series\n",
    "        h: int, # forecasting horizon\n",
    "        fitted: bool, # fitted values\n",
    "        season_length: int, # length of season\n",
    "        alpha: float, # smoothing parameter\n",
    "    ): \n",
    "    if y.size < season_length:\n",
    "        return {'mean': np.full(h, np.nan, np.float32)}\n",
    "    season_vals = np.empty(season_length, np.float32)\n",
    "    fitted_vals = np.full(y.size, np.nan, np.float32)\n",
    "    for i in range(season_length):\n",
    "        season_vals[i], fitted_vals[i::season_length] = _ses_forecast(y[i::season_length], alpha)\n",
    "    out = _repeat_val_seas(season_vals=season_vals, h=h, season_length=season_length)\n",
    "    fcst = {'mean': out}\n",
    "    if fitted:\n",
    "        fcst['fitted'] = fitted_vals\n",
    "    return fcst"
   ]
  },
  {
   "cell_type": "code",
   "execution_count": null,
   "metadata": {},
   "outputs": [],
   "source": [
    "#export\n",
    "class SeasonalExponentialSmoothing(_TS):\n",
    "    \n",
    "    def __init__(self, season_length: int, alpha: float):\n",
    "        self.season_length = season_length\n",
    "        self.alpha = alpha\n",
    "    \n",
    "    def __repr__(self):\n",
    "        return f'SeasonalES(sl={self.season_length},alpha={self.alpha})'\n",
    "    \n",
    "    def fit(self, y: np.ndarray, X: np.ndarray = None):\n",
    "        mod = _seasonal_exponential_smoothing(\n",
    "            y=y, \n",
    "            season_length=self.season_length, \n",
    "            alpha=self.alpha,\n",
    "            fitted=True,\n",
    "            h=self.season_length,\n",
    "        )\n",
    "        self.model_ = dict(mod)\n",
    "        return self\n",
    "        \n",
    "    def predict(self, h: int, X: np.ndarray = None):\n",
    "        return _repeat_val_seas(self.model_['mean'], season_length=self.season_length, h=h)\n",
    "    \n",
    "    def predict_in_sample(self):\n",
    "        return self.model_['fitted']\n",
    "    \n",
    "    def forecast(\n",
    "        self, \n",
    "        y: np.ndarray, \n",
    "        h: int, \n",
    "        X: np.ndarray = None, \n",
    "        X_future: np.ndarray = None,\n",
    "        fitted: bool = False, # return fitted values?\n",
    "    ):\n",
    "        out = _seasonal_exponential_smoothing(\n",
    "            y=y, h=h, fitted=fitted, \n",
    "            alpha=self.alpha,\n",
    "            season_length=self.season_length\n",
    "        )\n",
    "        return out"
   ]
  },
  {
   "cell_type": "code",
   "execution_count": null,
   "metadata": {},
   "outputs": [],
   "source": [
    "#hide\n",
    "seas_es = SeasonalExponentialSmoothing(season_length=12, alpha=1.)\n",
    "test_class(seas_es, x=ap, h=12)\n",
    "test_eq(seas_es.predict_in_sample()[-3:],  np.array([461 - 54., 390 - 28., 432 - 27.]))"
   ]
  },
  {
   "cell_type": "markdown",
   "metadata": {},
   "source": [
    "**Seasonal exponential smoothing**: A seasonal version of exponential smoothing. "
   ]
  },
  {
   "cell_type": "code",
   "execution_count": null,
   "metadata": {},
   "outputs": [],
   "source": [
    "#exporti\n",
    "def _seasonal_ses_optimized(\n",
    "        y: np.ndarray, # time series\n",
    "        h: int, # forecasting horizon\n",
    "        fitted: bool , # fitted values\n",
    "        season_length: int, # season length\n",
    "    ): \n",
    "    if y.size < season_length:\n",
    "        return {'mean': np.full(h, np.nan, np.float32)}\n",
    "    season_vals = np.empty(season_length, np.float32)\n",
    "    fitted_vals = np.full(y.size, np.nan, np.float32)\n",
    "    for i in range(season_length):\n",
    "        season_vals[i], fitted_vals[i::season_length] = _optimized_ses_forecast(y[i::season_length], [(0.01, 0.99)])\n",
    "    out = _repeat_val_seas(season_vals=season_vals, h=h, season_length=season_length)\n",
    "    fcst = {'mean': out}\n",
    "    if fitted:\n",
    "        fcst['fitted'] = fitted_vals\n",
    "    return fcst"
   ]
  },
  {
   "cell_type": "code",
   "execution_count": null,
   "metadata": {},
   "outputs": [],
   "source": [
    "#export\n",
    "class SeasonalExponentialSmoothingOptimized(_TS):\n",
    "    \n",
    "    def __init__(self, season_length: int):\n",
    "        self.season_length = season_length\n",
    "    \n",
    "    def __repr__(self):\n",
    "        return f'SeasESOpt(sl={self.season_length})'\n",
    "    \n",
    "    def fit(self, y: np.ndarray, X: np.ndarray = None):\n",
    "        mod = _seasonal_ses_optimized(\n",
    "            y=y, \n",
    "            season_length=self.season_length, \n",
    "            fitted=True,\n",
    "            h=self.season_length,\n",
    "        )\n",
    "        self.model_ = dict(mod)\n",
    "        return self\n",
    "        \n",
    "    def predict(self, h: int, X: np.ndarray = None):\n",
    "        return _repeat_val_seas(self.model_['mean'], season_length=self.season_length, h=h)\n",
    "    \n",
    "    def predict_in_sample(self):\n",
    "        return self.model_['fitted']\n",
    "    \n",
    "    def forecast(\n",
    "        self, \n",
    "        y: np.ndarray, \n",
    "        h: int, \n",
    "        X: np.ndarray = None, \n",
    "        X_future: np.ndarray = None,\n",
    "        fitted: bool = False, # return fitted values?\n",
    "    ):\n",
    "        out = _seasonal_ses_optimized(\n",
    "            y=y, h=h, fitted=fitted, \n",
    "            season_length=self.season_length\n",
    "        )\n",
    "        return out"
   ]
  },
  {
   "cell_type": "code",
   "execution_count": null,
   "metadata": {},
   "outputs": [],
   "source": [
    "#hide\n",
    "seas_es_opt = SeasonalExponentialSmoothingOptimized(season_length=12)\n",
    "test_class(seas_es_opt, x=ap, h=12)"
   ]
  },
  {
   "cell_type": "markdown",
   "metadata": {},
   "source": [
    "**Seasonal SES optimized**: A seasonal version of SES optimized "
   ]
  },
  {
   "cell_type": "markdown",
   "metadata": {},
   "source": [
    "## Simple methods"
   ]
  },
  {
   "cell_type": "code",
   "execution_count": null,
   "metadata": {},
   "outputs": [],
   "source": [
    "#exporti\n",
    "@njit\n",
    "def _historic_average(\n",
    "        y: np.ndarray, # time series\n",
    "        h: int, # forecasting horizon\n",
    "        fitted: bool, # fitted values\n",
    "    ):\n",
    "    mean = _repeat_val(val=y.mean(), h=h)\n",
    "    fcst = {'mean': mean}\n",
    "    if fitted:\n",
    "        fitted_vals = np.full(y.size, np.nan, np.float32)\n",
    "        fitted_vals[1:] = y.cumsum()[:-1] / np.arange(1, y.size)\n",
    "        fcst['fitted'] = fitted_vals\n",
    "    return fcst"
   ]
  },
  {
   "cell_type": "code",
   "execution_count": null,
   "metadata": {},
   "outputs": [],
   "source": [
    "#export\n",
    "class HistoricAverage(_TS):\n",
    "    \n",
    "    def __init__(self):\n",
    "        pass\n",
    "    \n",
    "    def __repr__(self):\n",
    "        return f'HistoricAverage()'\n",
    "    \n",
    "    def fit(self, y: np.ndarray, X: np.ndarray = None):\n",
    "        mod = _historic_average(y, h=1, fitted=True)\n",
    "        self.model_ = dict(mod)\n",
    "        return self\n",
    "        \n",
    "    def predict(self, h: int, X: np.ndarray = None):\n",
    "        return _repeat_val(val=self.model_['mean'][0], h=h)\n",
    "    \n",
    "    def predict_in_sample(self):\n",
    "        return self.model_['fitted']\n",
    "    \n",
    "    def forecast(\n",
    "        self, \n",
    "        y: np.ndarray, \n",
    "        h: int, \n",
    "        X: np.ndarray = None, \n",
    "        X_future: np.ndarray = None,\n",
    "        fitted: bool = False, # return fitted values?\n",
    "    ):\n",
    "        out = _historic_average(y=y, h=h, fitted=fitted)\n",
    "        return out"
   ]
  },
  {
   "cell_type": "code",
   "execution_count": null,
   "metadata": {},
   "outputs": [],
   "source": [
    "#hide\n",
    "ha = HistoricAverage()\n",
    "test_class(ha, x=ap, h=12)\n",
    "#more tests\n",
    "ha.fit(ap)\n",
    "fcst_ha = ha.predict(12)\n",
    "test_close(fcst_ha, np.repeat(ap.mean(), 12), eps=1e-5)\n",
    "np.testing.assert_almost_equal(\n",
    "    ha.predict_in_sample()[:4],\n",
    "    np.array([np.nan, 112., 115., 120.6666667]), \n",
    "    decimal=5\n",
    ")"
   ]
  },
  {
   "cell_type": "markdown",
   "metadata": {},
   "source": [
    "**Historic average:** Also known as mean method. Uses a simple average of all past observations. Assuming there are $t$ observations, the one-step forecast is given by \n",
    "\n",
    "$$ \\hat{y}_{t+1} = \\frac{1}{t} \\sum_{j=1}^t y_j $$\n"
   ]
  },
  {
   "cell_type": "code",
   "execution_count": null,
   "metadata": {},
   "outputs": [],
   "source": [
    "#exporti\n",
    "@njit\n",
    "def _naive(\n",
    "        y: np.ndarray, # time series\n",
    "        h: int, # forecasting horizon\n",
    "        fitted: bool, # fitted values\n",
    "    ): \n",
    "    mean = _repeat_val(val=y[-1], h=h)\n",
    "    if fitted:\n",
    "        fitted_vals = np.full(y.size, np.nan, np.float32)\n",
    "        fitted_vals[1:] = np.roll(y, 1)[1:]\n",
    "        return {'mean': mean, 'fitted': fitted_vals}\n",
    "    return {'mean': mean}"
   ]
  },
  {
   "cell_type": "code",
   "execution_count": null,
   "metadata": {},
   "outputs": [],
   "source": [
    "#export\n",
    "class Naive(_TS):\n",
    "    \n",
    "    def __init__(self):\n",
    "        pass\n",
    "    \n",
    "    def __repr__(self):\n",
    "        return f'Naive()'\n",
    "    \n",
    "    def fit(self, y: np.ndarray, X: np.ndarray = None):\n",
    "        mod = _naive(y, h=1, fitted=True)\n",
    "        self.model_ = dict(mod)\n",
    "        return self\n",
    "        \n",
    "    def predict(self, h: int, X: np.ndarray = None):\n",
    "        return _repeat_val(self.model_['mean'][0], h=h)\n",
    "    \n",
    "    def predict_in_sample(self):\n",
    "        return self.model_['fitted']\n",
    "    \n",
    "    def forecast(\n",
    "        self, \n",
    "        y: np.ndarray, \n",
    "        h: int, \n",
    "        X: np.ndarray = None, \n",
    "        X_future: np.ndarray = None,\n",
    "        fitted: bool = False, # return fitted values?\n",
    "    ):\n",
    "        out = _naive(y=y, h=h, fitted=fitted)\n",
    "        return out"
   ]
  },
  {
   "cell_type": "code",
   "execution_count": null,
   "metadata": {},
   "outputs": [],
   "source": [
    "#hide\n",
    "naive = Naive()\n",
    "test_class(naive, x=ap, h=12)\n",
    "naive.fit(ap)\n",
    "fcst_naive = naive.predict(12)\n",
    "test_close(fcst_naive, np.repeat(ap[-1], 12), eps=1e-5)"
   ]
  },
  {
   "cell_type": "markdown",
   "metadata": {},
   "source": [
    "**Naive**: A random walk model, defined as \n",
    "\n",
    "$$ \\hat{y}_{t+1} = y_t $$"
   ]
  },
  {
   "cell_type": "code",
   "execution_count": null,
   "metadata": {},
   "outputs": [],
   "source": [
    "#exporti\n",
    "@njit\n",
    "def _random_walk_with_drift(\n",
    "        y: np.ndarray, # time series\n",
    "        h: int, # forecasting horizon\n",
    "        fitted: bool, # fitted values\n",
    "    ): \n",
    "    slope = (y[-1] - y[0]) / (y.size - 1)\n",
    "    mean = slope * (1 + np.arange(h)) + y[-1]\n",
    "    fcst = {'mean': mean.astype(np.float32), \n",
    "            'slope': np.array([slope], dtype=np.float32), \n",
    "            'last_y': np.array([y[-1]], dtype=np.float32)}\n",
    "    if fitted:\n",
    "        fitted_vals = np.full(y.size, np.nan, dtype=np.float32)\n",
    "        fitted_vals[1:] = (slope + y[:-1]).astype(np.float32)\n",
    "        fcst['fitted'] = fitted_vals\n",
    "    return fcst"
   ]
  },
  {
   "cell_type": "code",
   "execution_count": null,
   "metadata": {},
   "outputs": [],
   "source": [
    "#export\n",
    "class RandomWalkWithDrift(_TS):\n",
    "    \n",
    "    def __init__(self):\n",
    "        pass\n",
    "    \n",
    "    def __repr__(self):\n",
    "        return f'RWD()'\n",
    "    \n",
    "    def fit(self, y: np.ndarray, X: np.ndarray = None):\n",
    "        mod = _random_walk_with_drift(y, h=1, fitted=True)\n",
    "        self.model_ = dict(mod)\n",
    "        return self\n",
    "        \n",
    "    def predict(self, h: int, X: np.ndarray = None):\n",
    "        hrange = np.arange(h, dtype=np.float32)\n",
    "        return self.model_['slope'] * (1 + hrange) + self.model_['last_y']\n",
    "    \n",
    "    def predict_in_sample(self):\n",
    "        return self.model_['fitted']\n",
    "\n",
    "    def forecast(\n",
    "        self, \n",
    "        y: np.ndarray, \n",
    "        h: int, \n",
    "        X: np.ndarray = None, \n",
    "        X_future: np.ndarray = None,\n",
    "        fitted: bool = False, # return fitted values?\n",
    "    ):\n",
    "        out = _random_walk_with_drift(y=y, h=h, fitted=fitted)\n",
    "        return out"
   ]
  },
  {
   "cell_type": "code",
   "execution_count": null,
   "metadata": {},
   "outputs": [],
   "source": [
    "#hide\n",
    "rwd = RandomWalkWithDrift()\n",
    "test_class(rwd, x=ap, h=12)\n",
    "rwd = rwd.fit(ap)\n",
    "fcst_rwd = rwd.predict(12)\n",
    "test_close(fcst_rwd[:2], np.array([434.2378, 436.4755]), eps=1e-4)\n",
    "np.testing.assert_almost_equal(\n",
    "    rwd.predict_in_sample()[:3], \n",
    "    np.array([np.nan, 118 - 3.7622378, 132 - 11.7622378]),\n",
    "    decimal=6\n",
    ")"
   ]
  },
  {
   "cell_type": "markdown",
   "metadata": {},
   "source": [
    "**Random walk with drift**: A variation of the naive method allows the forecasts to change over time. The amout of change, called drift, is the average change seen in the historical data. \n",
    "\n",
    "$$ \\hat{y}_{t+1} = y_t+\\frac{1}{t-1}\\sum_{j=1}^t (y_j-y_{j-1}) = y_t+ \\frac{y_t-y_1}{t-1} $$\n",
    "\n",
    "From the previous equation, we can see that this is equivalent to extrapolating a line between the first and the last observation. "
   ]
  },
  {
   "cell_type": "code",
   "execution_count": null,
   "metadata": {},
   "outputs": [],
   "source": [
    "#exporti\n",
    "@njit\n",
    "def _seasonal_naive(\n",
    "        y: np.ndarray, # time series\n",
    "        h: int, # forecasting horizon\n",
    "        fitted: bool, #fitted values\n",
    "        season_length: int, # season length\n",
    "    ): \n",
    "    if y.size < season_length:\n",
    "        return {'mean': np.full(h, np.nan, np.float32)}\n",
    "    season_vals = np.empty(season_length, np.float32)\n",
    "    fitted_vals = np.full(y.size, np.nan, np.float32)\n",
    "    for i in range(season_length):\n",
    "        s_naive = _naive(y[i::season_length], h=1, fitted=fitted)\n",
    "        season_vals[i] = s_naive['mean'].item()\n",
    "        if fitted:\n",
    "            fitted_vals[i::season_length] = s_naive['fitted']\n",
    "    out = _repeat_val_seas(season_vals=season_vals, h=h, season_length=season_length)\n",
    "    fcst = {'mean': out}\n",
    "    if fitted:\n",
    "        fcst['fitted'] = fitted_vals\n",
    "    return fcst"
   ]
  },
  {
   "cell_type": "code",
   "execution_count": null,
   "metadata": {},
   "outputs": [],
   "source": [
    "#export\n",
    "class SeasonalNaive(_TS):\n",
    "    \n",
    "    def __init__(self, season_length: int):\n",
    "        self.season_length = season_length\n",
    "\n",
    "    def __repr__(self):\n",
    "        return f'SeasonalNaive(sl={self.season_length})'\n",
    "    \n",
    "    def fit(self, y: np.ndarray, X: np.ndarray = None):\n",
    "        mod = _seasonal_naive(\n",
    "            y=y, \n",
    "            season_length=self.season_length, \n",
    "            h=self.season_length, \n",
    "            fitted=True,\n",
    "        )\n",
    "        self.model_ = dict(mod)\n",
    "        return self\n",
    "        \n",
    "    def predict(self, h: int, X: np.ndarray = None):\n",
    "        return _repeat_val_seas(season_vals=self.model_['mean'], season_length=self.season_length, h=h)\n",
    "    \n",
    "    def predict_in_sample(self):\n",
    "        return self.model_['fitted']\n",
    "    \n",
    "    def forecast(\n",
    "        self, \n",
    "        y: np.ndarray, \n",
    "        h: int, \n",
    "        X: np.ndarray = None, \n",
    "        X_future: np.ndarray = None,\n",
    "        fitted: bool = False, # return fitted values?\n",
    "    ):\n",
    "        out = _seasonal_naive(\n",
    "            y=y, h=h, fitted=fitted, \n",
    "            season_length=self.season_length\n",
    "        )\n",
    "        return out"
   ]
  },
  {
   "cell_type": "code",
   "execution_count": null,
   "metadata": {},
   "outputs": [],
   "source": [
    "#hide\n",
    "seas_naive = SeasonalNaive(season_length=12)\n",
    "test_class(seas_naive, x=ap, h=12)\n",
    "seas_naive = seas_naive.fit(ap)\n",
    "fcst_seas_naive = seas_naive.predict(12)\n",
    "test_eq(seas_naive.predict_in_sample()[-3:], np.array([461 - 54., 390 - 28., 432 - 27.]))"
   ]
  },
  {
   "cell_type": "markdown",
   "metadata": {},
   "source": [
    "**Seasonal naive**: Similar to the naive method, but uses the last known observation of the same period (e.g. the same month of the previous year) in order to capture seasonal variations. "
   ]
  },
  {
   "cell_type": "code",
   "execution_count": null,
   "metadata": {},
   "outputs": [],
   "source": [
    "#exporti\n",
    "@njit\n",
    "def _window_average(\n",
    "        y: np.ndarray, # time series\n",
    "        h: int, # forecasting horizon\n",
    "        fitted: bool, # fitted values\n",
    "        window_size: int, # window size\n",
    "    ): \n",
    "    if fitted:\n",
    "        raise NotImplementedError('return fitted')\n",
    "    if y.size < window_size:\n",
    "        return {'mean': np.full(h, np.nan, np.float32)}\n",
    "    wavg = y[-window_size:].mean()\n",
    "    mean = _repeat_val(val=wavg, h=h)\n",
    "    return {'mean': mean}"
   ]
  },
  {
   "cell_type": "code",
   "execution_count": null,
   "metadata": {},
   "outputs": [],
   "source": [
    "#export\n",
    "class WindowAverage(_TS):\n",
    "    \n",
    "    def __init__(self, window_size: int):\n",
    "        self.window_size = window_size\n",
    "\n",
    "    def __repr__(self):\n",
    "        return f'WindowAverage(ws={self.window_size})'\n",
    "    \n",
    "    def fit(self, y: np.ndarray, X: np.ndarray = None):\n",
    "        mod = _window_average(y=y, h=1, window_size=self.window_size, fitted=False)\n",
    "        self.model_ = dict(mod)\n",
    "        return self\n",
    "        \n",
    "    def predict(self, h: int, X: np.ndarray = None):\n",
    "        return _repeat_val(self.model_['mean'][0], h=h)\n",
    "    \n",
    "    def predict_in_sample(self):\n",
    "        raise NotImplementedError\n",
    "        \n",
    "    def forecast(\n",
    "        self, \n",
    "        y: np.ndarray, \n",
    "        h: int, \n",
    "        X: np.ndarray = None, \n",
    "        X_future: np.ndarray = None,\n",
    "        fitted: bool = False, # return fitted values?\n",
    "    ):\n",
    "        out = _window_average(y=y, h=h, fitted=fitted, window_size=self.window_size)\n",
    "        return out"
   ]
  },
  {
   "cell_type": "code",
   "execution_count": null,
   "metadata": {},
   "outputs": [],
   "source": [
    "#hide\n",
    "w_avg = WindowAverage(window_size=24)\n",
    "test_class(w_avg, x=ap, h=12, skip_insample=True)\n",
    "w_avg = w_avg.fit(ap)\n",
    "fcst_w_avg = w_avg.predict(12)\n",
    "test_close(fcst_w_avg, np.repeat(ap[-24:].mean(), 12))"
   ]
  },
  {
   "cell_type": "markdown",
   "metadata": {},
   "source": [
    "**Window average**: Uses the average of the last $k$ observations, with $k$ the length of the window. Wider windows will capture global trends, while narrow windows will reveal local trends. The length of the window selected should take into account the importance of past observations and how fast the series changes. "
   ]
  },
  {
   "cell_type": "code",
   "execution_count": null,
   "metadata": {},
   "outputs": [],
   "source": [
    "#exporti\n",
    "@njit\n",
    "def _seasonal_window_average(\n",
    "        y: np.ndarray,\n",
    "        h: int,\n",
    "        fitted: bool,\n",
    "        season_length: int,\n",
    "        window_size: int,\n",
    "    ):\n",
    "    if fitted:\n",
    "        raise NotImplementedError('return fitted')\n",
    "    min_samples = season_length * window_size\n",
    "    if y.size < min_samples:\n",
    "        return {'mean': np.full(h, np.nan, np.float32)}\n",
    "    season_avgs = np.zeros(season_length, np.float32)\n",
    "    for i, value in enumerate(y[-min_samples:]):\n",
    "        season = i % season_length\n",
    "        season_avgs[season] += value / window_size\n",
    "    out = _repeat_val_seas(season_vals=season_avgs, h=h, season_length=season_length)\n",
    "    return {'mean': out}"
   ]
  },
  {
   "cell_type": "code",
   "execution_count": null,
   "metadata": {},
   "outputs": [],
   "source": [
    "#export\n",
    "class SeasonalWindowAverage(_TS):\n",
    "    \n",
    "    def __init__(self, season_length: int, window_size: int):\n",
    "        self.season_length = season_length\n",
    "        self.window_size = window_size\n",
    "\n",
    "    def __repr__(self):\n",
    "        return f'SeasWA(sl={self.season_length},ws={self.window_size})'\n",
    "    \n",
    "    def fit(self, y: np.ndarray, X: np.ndarray = None):\n",
    "        mod = _seasonal_window_average(\n",
    "            y=y, \n",
    "            h=self.season_length,\n",
    "            fitted=False,\n",
    "            season_length=self.season_length, \n",
    "            window_size=self.window_size,\n",
    "        )\n",
    "        self.model_ = dict(mod)\n",
    "        return self\n",
    "        \n",
    "    def predict(self, h: int, X: np.ndarray = None):\n",
    "        return _repeat_val_seas(season_vals=self.model_['mean'], season_length=self.season_length, h=h)\n",
    "    \n",
    "    def predict_in_sample(self):\n",
    "        raise NotImplementedError\n",
    "\n",
    "    def forecast(\n",
    "        self, \n",
    "        y: np.ndarray, \n",
    "        h: int, \n",
    "        X: np.ndarray = None, \n",
    "        X_future: np.ndarray = None,\n",
    "        fitted: bool = False, # return fitted values?\n",
    "    ):\n",
    "        out = _seasonal_window_average(\n",
    "            y=y, h=h, fitted=fitted, \n",
    "            season_length=self.season_length,\n",
    "            window_size=self.window_size\n",
    "        )\n",
    "        return out"
   ]
  },
  {
   "cell_type": "code",
   "execution_count": null,
   "metadata": {},
   "outputs": [],
   "source": [
    "#hide\n",
    "seas_w_avg = SeasonalWindowAverage(season_length=12, window_size=1)\n",
    "#test_class(seas_w_avg, x=ap, h=12, skip_insample=True)\n",
    "seas_w_avg = seas_w_avg.fit(ap)\n",
    "fcst_seas_w_avg = w_avg.predict(12)\n",
    "test_eq(fcst_w_avg, fcst_seas_w_avg)"
   ]
  },
  {
   "cell_type": "markdown",
   "metadata": {},
   "source": [
    "**Seasonal window average**: An average of the last $k$ observations of the same period, with $k$ the length of the window."
   ]
  },
  {
   "cell_type": "markdown",
   "metadata": {},
   "source": [
    "## Sparse or intermittent series "
   ]
  },
  {
   "cell_type": "markdown",
   "metadata": {},
   "source": [
    "Sparse or intermittent series are series with very few non-zero observations. They are notoriously hard to forecast, and so, different methods have been developed especifically for them. Before the development of Croston's method and its variants, SES was usually used to forecast them. "
   ]
  },
  {
   "cell_type": "code",
   "execution_count": null,
   "metadata": {},
   "outputs": [],
   "source": [
    "#exporti\n",
    "def _adida(\n",
    "        y: np.ndarray, # time series\n",
    "        h: int, # forecasting horizon\n",
    "        fitted: bool, # fitted values\n",
    "    ):\n",
    "    if fitted:\n",
    "        raise NotImplementedError('return fitted')\n",
    "    if (y == 0).all():\n",
    "        return {'mean': np.repeat(np.float32(0), h)}\n",
    "    y_intervals = _intervals(y)\n",
    "    mean_interval = y_intervals.mean()\n",
    "    aggregation_level = round(mean_interval)\n",
    "    lost_remainder_data = len(y) % aggregation_level\n",
    "    y_cut = y[lost_remainder_data:]\n",
    "    aggregation_sums = _chunk_sums(y_cut, aggregation_level)\n",
    "    sums_forecast, _ = _optimized_ses_forecast(aggregation_sums)\n",
    "    forecast = sums_forecast / aggregation_level\n",
    "    mean = _repeat_val(val=forecast, h=h)\n",
    "    return {'mean': mean}"
   ]
  },
  {
   "cell_type": "code",
   "execution_count": null,
   "metadata": {},
   "outputs": [],
   "source": [
    "#export\n",
    "class ADIDA(_TS):\n",
    "    \n",
    "    def __init__(self):\n",
    "        pass\n",
    "\n",
    "    def __repr__(self):\n",
    "        return f'ADIDA()'\n",
    "    \n",
    "    def fit(self, y: np.ndarray, X: np.ndarray = None):\n",
    "        mod = _adida(y=y, h=1, fitted=False)\n",
    "        self.model_ = dict(mod)\n",
    "        return self\n",
    "        \n",
    "    def predict(self, h: int, X: np.ndarray = None):\n",
    "        return _repeat_val(val=self.model_['mean'][0], h=h)\n",
    "    \n",
    "    def predict_in_sample(self):\n",
    "        raise NotImplementedError\n",
    "        \n",
    "    def forecast(\n",
    "        self, \n",
    "        y: np.ndarray, \n",
    "        h: int, \n",
    "        X: np.ndarray = None, \n",
    "        X_future: np.ndarray = None,\n",
    "        fitted: bool = False, # return fitted values?\n",
    "    ):\n",
    "        out = _adida(y=y, h=h, fitted=fitted)\n",
    "        return out"
   ]
  },
  {
   "cell_type": "code",
   "execution_count": null,
   "metadata": {},
   "outputs": [],
   "source": [
    "#hide\n",
    "adida = ADIDA()\n",
    "test_class(adida, x=ap, h=12, skip_insample=True)"
   ]
  },
  {
   "cell_type": "markdown",
   "metadata": {},
   "source": [
    "**Aggregate-Dissagregate Intermittent Demand Approach**: Uses temporal aggregation to reduce the number of zero observations. Once the data has been agregated, it uses the optimized SES to generate the forecasts at the new level. It then breaks down the forecast to the original level using equal weights.  "
   ]
  },
  {
   "cell_type": "code",
   "execution_count": null,
   "metadata": {},
   "outputs": [],
   "source": [
    "#exporti\n",
    "@njit\n",
    "def _croston_classic(\n",
    "        y: np.ndarray, # time series\n",
    "        h: int, # forecasting horizon\n",
    "        fitted: bool, # fitted values\n",
    "    ): \n",
    "    if fitted:\n",
    "        raise NotImplementedError('return fitted')\n",
    "    yd = _demand(y)\n",
    "    yi = _intervals(y)\n",
    "    ydp, _ = _ses_forecast(yd, 0.1)\n",
    "    yip, _ = _ses_forecast(yi, 0.1)\n",
    "    mean = ydp / yip\n",
    "    mean = _repeat_val(val=mean, h=h)\n",
    "    return {'mean': mean}"
   ]
  },
  {
   "cell_type": "code",
   "execution_count": null,
   "metadata": {},
   "outputs": [],
   "source": [
    "#export\n",
    "class CrostonClassic(_TS):\n",
    "    \n",
    "    def __init__(self):\n",
    "        pass\n",
    "\n",
    "    def __repr__(self):\n",
    "        return f'CrostonClassic()'\n",
    "    \n",
    "    def fit(self, y: np.ndarray, X: np.ndarray = None):\n",
    "        mod = _croston_classic(y=y, h=1, fitted=False)\n",
    "        self.model_ = dict(mod)\n",
    "        return self\n",
    "        \n",
    "    def predict(self, h: int, X: np.ndarray = None):\n",
    "        return _repeat_val(val=self.model_['mean'][0], h=h)\n",
    "    \n",
    "    def predict_in_sample(self):\n",
    "        raise NotImplementedError\n",
    "        \n",
    "    def forecast(\n",
    "        self, \n",
    "        y: np.ndarray, \n",
    "        h: int, \n",
    "        X: np.ndarray = None, \n",
    "        X_future: np.ndarray = None,\n",
    "        fitted: bool = False, # return fitted values?\n",
    "    ):\n",
    "        out = _croston_classic(y=y, h=h, fitted=fitted)\n",
    "        return out"
   ]
  },
  {
   "cell_type": "code",
   "execution_count": null,
   "metadata": {},
   "outputs": [],
   "source": [
    "#hide\n",
    "croston = CrostonClassic()\n",
    "test_class(croston, x=ap, h=12, skip_insample=True)"
   ]
  },
  {
   "cell_type": "markdown",
   "metadata": {},
   "source": [
    "**Croston classic**: A method to forecast time series that exhibit intermittent demand. It decomposes the original time series into a non-zero demand size $z_t$ and inter-demand intervals $p_t$. Then the forecast is given by \n",
    "\n",
    "$$ \\hat{y}_t = \\frac{\\hat{z}_t}{\\hat{p}_t} $$ \n",
    "\n",
    "where $\\hat{z}_t$ and $\\hat{p}_t$ are forecasted using SES. The smoothing parameter of both components is set equal to 0.1"
   ]
  },
  {
   "cell_type": "code",
   "execution_count": null,
   "metadata": {},
   "outputs": [],
   "source": [
    "#exporti\n",
    "def _croston_optimized(\n",
    "        y: np.ndarray, # time series\n",
    "        h: int, # forecasting horizon\n",
    "        fitted: bool, # fitted values\n",
    "    ): \n",
    "    if fitted:\n",
    "        raise NotImplementedError('return fitted')\n",
    "    yd = _demand(y)\n",
    "    yi = _intervals(y)\n",
    "    ydp, _ = _optimized_ses_forecast(yd)\n",
    "    yip, _ = _optimized_ses_forecast(yi)\n",
    "    mean = ydp / yip\n",
    "    mean = _repeat_val(val=mean, h=h)\n",
    "    return {'mean': mean}"
   ]
  },
  {
   "cell_type": "code",
   "execution_count": null,
   "metadata": {},
   "outputs": [],
   "source": [
    "#export\n",
    "class CrostonOptimized(_TS):\n",
    "    \n",
    "    def __init__(self):\n",
    "        pass\n",
    "    \n",
    "    def __repr__(self):\n",
    "        return f'CrostonSBA()'\n",
    "    \n",
    "    def fit(self, y: np.ndarray, X: np.ndarray = None):\n",
    "        mod = _croston_optimized(y=y, h=1, fitted=False)\n",
    "        self.model_ = dict(mod)\n",
    "        return self\n",
    "        \n",
    "    def predict(self, h: int, X: np.ndarray = None):\n",
    "        return _repeat_val(val=self.model_['mean'][0], h=h)\n",
    "    \n",
    "    def predict_in_sample(self):\n",
    "        raise NotImplementedError\n",
    "\n",
    "    def forecast(\n",
    "        self, \n",
    "        y: np.ndarray, \n",
    "        h: int, \n",
    "        X: np.ndarray = None, \n",
    "        X_future: np.ndarray = None,\n",
    "        fitted: bool = False, # return fitted values?\n",
    "    ):\n",
    "        out = _croston_optimized(y=y, h=h, fitted=fitted)\n",
    "        return out"
   ]
  },
  {
   "cell_type": "code",
   "execution_count": null,
   "metadata": {},
   "outputs": [],
   "source": [
    "#hide\n",
    "croston_op = CrostonOptimized()\n",
    "test_class(croston_op, x=ap, h=12, skip_insample=True)"
   ]
  },
  {
   "cell_type": "markdown",
   "metadata": {},
   "source": [
    "**Croston Optimized**: A variation of the classic Croston's method where the smooting paramater is optimally selected from the range $[0.1,0.3]$. Both the non-zero demand $z_t$ and the inter-demand intervals $p_t$ are smoothed separately, so their smoothing parameters can be different. "
   ]
  },
  {
   "cell_type": "code",
   "execution_count": null,
   "metadata": {},
   "outputs": [],
   "source": [
    "#exporti\n",
    "@njit\n",
    "def _croston_sba(\n",
    "        y: np.ndarray, # time series\n",
    "        h: int, # forecasting horizon\n",
    "        fitted: bool,  # fitted values\n",
    "    ):\n",
    "    if fitted:\n",
    "        raise NotImplementedError('return fitted')\n",
    "    mean = _croston_classic(y, h, fitted)\n",
    "    mean['mean'] *= 0.95\n",
    "    return mean"
   ]
  },
  {
   "cell_type": "code",
   "execution_count": null,
   "metadata": {},
   "outputs": [],
   "source": [
    "#export\n",
    "class CrostonSBA(_TS):\n",
    "    \n",
    "    def __init__(self):\n",
    "        pass\n",
    "\n",
    "    def __repr__(self):\n",
    "        return f'CrostonSBA()'\n",
    "    \n",
    "    def fit(self, y: np.ndarray, X: np.ndarray = None):\n",
    "        mod = _croston_sba(y=y, h=1, fitted=False)\n",
    "        self.model_ = dict(mod)\n",
    "        return self\n",
    "        \n",
    "    def predict(self, h: int, X: np.ndarray = None):\n",
    "        return _repeat_val(val=self.model_['mean'][0], h=h)\n",
    "    \n",
    "    def predict_in_sample(self):\n",
    "        raise NotImplementedError\n",
    "        \n",
    "    def forecast(\n",
    "        self, \n",
    "        y: np.ndarray, \n",
    "        h: int, \n",
    "        X: np.ndarray = None, \n",
    "        X_future: np.ndarray = None,\n",
    "        fitted: bool = False, # return fitted values?\n",
    "    ):\n",
    "        out = _croston_sba(y=y, h=h, fitted=fitted)\n",
    "        return out"
   ]
  },
  {
   "cell_type": "code",
   "execution_count": null,
   "metadata": {},
   "outputs": [],
   "source": [
    "#hide\n",
    "croston_sba = CrostonSBA()\n",
    "test_class(croston_sba, x=ap, h=12, skip_insample=True)"
   ]
  },
  {
   "cell_type": "markdown",
   "metadata": {},
   "source": [
    "**Croston with Syntetos-Boylan Approximation**: A variation of the classic Croston's method that uses a debiasing factor, so that the forecast is given by \n",
    "\n",
    "$$ \\hat{y}_t = 0.95  \\frac{\\hat{z}_t}{\\hat{p}_t} $$ \n"
   ]
  },
  {
   "cell_type": "code",
   "execution_count": null,
   "metadata": {},
   "outputs": [],
   "source": [
    "#exporti\n",
    "def _imapa(\n",
    "        y: np.ndarray, # time series\n",
    "        h: int, # forecasting horizon\n",
    "        fitted: bool, # fitted values\n",
    "    ): \n",
    "    if fitted:\n",
    "        raise NotImplementedError('return fitted')\n",
    "    if (y == 0).all():\n",
    "        return {'mean': np.repeat(np.float32(0), h)}\n",
    "    y_intervals = _intervals(y)\n",
    "    mean_interval = y_intervals.mean().item()\n",
    "    max_aggregation_level = round(mean_interval)\n",
    "    forecasts = np.empty(max_aggregation_level, np.float32)\n",
    "    for aggregation_level in range(1, max_aggregation_level + 1):\n",
    "        lost_remainder_data = len(y) % aggregation_level\n",
    "        y_cut = y[lost_remainder_data:]\n",
    "        aggregation_sums = _chunk_sums(y_cut, aggregation_level)\n",
    "        forecast, _ = _optimized_ses_forecast(aggregation_sums)\n",
    "        forecasts[aggregation_level - 1] = (forecast / aggregation_level)\n",
    "    forecast = forecasts.mean()\n",
    "    mean = _repeat_val(val=forecast, h=h)\n",
    "    return {'mean': mean}"
   ]
  },
  {
   "cell_type": "code",
   "execution_count": null,
   "metadata": {},
   "outputs": [],
   "source": [
    "#export\n",
    "class IMAPA(_TS):\n",
    "    \n",
    "    def __init__(self):\n",
    "        pass\n",
    "\n",
    "    def __repr__(self):\n",
    "        return f'IMAPA()'\n",
    "    \n",
    "    def fit(self, y: np.ndarray, X: np.ndarray = None):\n",
    "        mod = _imapa(y=y, h=1, fitted=False)\n",
    "        self.model_ = dict(mod)\n",
    "        return self\n",
    "        \n",
    "    def predict(self, h: int, X: np.ndarray = None):\n",
    "        return _repeat_val(val=self.model_['mean'][0], h=h)\n",
    "    \n",
    "    def predict_in_sample(self):\n",
    "        raise NotImplementedError\n",
    "        \n",
    "    def forecast(\n",
    "        self, \n",
    "        y: np.ndarray, \n",
    "        h: int, \n",
    "        X: np.ndarray = None, \n",
    "        X_future: np.ndarray = None,\n",
    "        fitted: bool = False, # return fitted values?\n",
    "    ):\n",
    "        out = _imapa(y=y, h=h, fitted=fitted)\n",
    "        return out"
   ]
  },
  {
   "cell_type": "code",
   "execution_count": null,
   "metadata": {},
   "outputs": [],
   "source": [
    "#hide\n",
    "imapa = IMAPA()\n",
    "test_class(imapa, x=ap, h=12, skip_insample=True)"
   ]
  },
  {
   "cell_type": "markdown",
   "metadata": {},
   "source": [
    "**Intermittent Multiple Aggregation Prediction Algorithm**: Similar to ADIDA, but instead of using a single aggregation level, it considers multiple in order to capture different dynamics of the data. Uses the optimized SES to generate the forecasts at the new levels and then combines them using a simple average. "
   ]
  },
  {
   "cell_type": "code",
   "execution_count": null,
   "metadata": {},
   "outputs": [],
   "source": [
    "#exporti\n",
    "@njit\n",
    "def _tsb(\n",
    "        y: np.ndarray, # time series\n",
    "        h: int, # forecasting horizon\n",
    "        fitted: int, # fitted values\n",
    "        alpha_d: float,\n",
    "        alpha_p: float,\n",
    "    ):\n",
    "    if fitted:\n",
    "        raise NotImplementedError('return fitted')\n",
    "    if (y == 0).all():\n",
    "        return {'mean': np.repeat(np.float32(0), h)}\n",
    "    yd = _demand(y)\n",
    "    yp = _probability(y)\n",
    "    ypf, _ = _ses_forecast(yp, alpha_p)\n",
    "    ydf, _ = _ses_forecast(yd, alpha_d)\n",
    "    forecast = np.float32(ypf * ydf)\n",
    "    mean = _repeat_val(val=forecast, h=h)\n",
    "    return {'mean': mean}"
   ]
  },
  {
   "cell_type": "code",
   "execution_count": null,
   "metadata": {},
   "outputs": [],
   "source": [
    "#export\n",
    "class TSB(_TS):\n",
    "    \n",
    "    def __init__(self, alpha_d: float, alpha_p: float):\n",
    "        self.alpha_d = alpha_d\n",
    "        self.alpha_p = alpha_p\n",
    "        \n",
    "    def __repr__(self):\n",
    "        return f'TSB(d={self.alpha_d},p={self.alpha_p})'\n",
    "    \n",
    "    def fit(self, y: np.ndarray, X: np.ndarray = None):\n",
    "        mod = _tsb(\n",
    "            y=y, h=1, \n",
    "            fitted=False, \n",
    "            alpha_d=self.alpha_d, \n",
    "            alpha_p=self.alpha_p\n",
    "        )\n",
    "        self.model_ = dict(mod)\n",
    "        return self\n",
    "        \n",
    "    def predict(self, h: int, X: np.ndarray = None):\n",
    "        return _repeat_val(self.model_['mean'][0], h=h)\n",
    "    \n",
    "    def predict_in_sample(self):\n",
    "        raise NotImplementedError\n",
    "        \n",
    "    def forecast(\n",
    "        self, \n",
    "        y: np.ndarray, \n",
    "        h: int, \n",
    "        X: np.ndarray = None, \n",
    "        X_future: np.ndarray = None,\n",
    "        fitted: bool = False, # return fitted values?\n",
    "    ):\n",
    "        out = _tsb(\n",
    "            y=y, h=h, \n",
    "            fitted=fitted, \n",
    "            alpha_d=self.alpha_d, \n",
    "            alpha_p=self.alpha_p\n",
    "        )\n",
    "        return out"
   ]
  },
  {
   "cell_type": "code",
   "execution_count": null,
   "metadata": {},
   "outputs": [],
   "source": [
    "#hide\n",
    "tsb = TSB(alpha_d=0.9, alpha_p=0.1)\n",
    "test_class(tsb, x=ap, h=12, skip_insample=True)"
   ]
  },
  {
   "cell_type": "markdown",
   "metadata": {},
   "source": [
    "**Teunter-Syntetos-Babai**: A modification of Croston's method that replaces the inter-demand intervals with the demand probability $d_t$, which is defined as follows. \n",
    "\n",
    "$$\n",
    "d_t = \\begin{cases}\n",
    "    1  & \\text{if demand occurs at time t}\\\\ \n",
    "    0 & \\text{otherwise.}\n",
    "\\end{cases}\n",
    "$$\n",
    "\n",
    "Hence, the forecast is given by \n",
    "\n",
    "$$\\hat{y}_t= \\hat{d}_t\\hat{z_t}$$\n",
    "\n",
    "Both $d_t$ and $z_t$ are forecasted using SES. The smooting paramaters of each may differ, like in the optimized Croston's method."
   ]
  },
  {
   "cell_type": "markdown",
   "metadata": {},
   "source": [
    "## References"
   ]
  },
  {
   "cell_type": "markdown",
   "metadata": {},
   "source": [
    "#### **General**\n",
    "- Hyndman, R.J., & Athanasopoulos, G. (2021) Forecasting: principles and practice, 3rd edition, OTexts: Melbourne, Australia. [OTexts.com/fpp3](https://otexts.com/fpp3/). Accessed on July 2022.\n",
    "\n",
    "- Shmueli, G., & Lichtendahl Jr, K. C. (2016). Practical time series forecasting with r: A hands-on guide. Axelrod Schnall Publishers.\n",
    "\n",
    "#### **For sparse or intermittent series**\n",
    "\n",
    "- [Croston, J. D. (1972). Forecasting and stock control for intermittent demands. Journal of the Operational Research Society, 23(3), 289-303.](https://link.springer.com/article/10.1057/jors.1972.50)\n",
    "\n",
    "\n",
    "- [Nikolopoulos, K., Syntetos, A. A., Boylan, J. E., Petropoulos, F., & Assimakopoulos, V. (2011). An aggregate–disaggregate intermittent demand approach (ADIDA) to forecasting: an empirical proposition and analysis. Journal of the Operational Research Society, 62(3), 544-554.](https://researchportal.bath.ac.uk/en/publications/an-aggregate-disaggregate-intermittent-demand-approach-adida-to-f)\n",
    "\n",
    "- [Syntetos, A. A., & Boylan, J. E. (2005). The accuracy of intermittent demand estimates. International Journal of forecasting, 21(2), 303-314.](https://www.academia.edu/1527250/The_accuracy_of_intermittent_demand_estimates)\n",
    "\n",
    "- Syntetos, A. A., & Boylan, J. E. (2021). Intermittent demand forecasting: Context, methods and applications. John Wiley & Sons.\n",
    "\n",
    "- [Teunter, R. H., Syntetos, A. A., & Babai, M. Z. (2011). Intermittent demand: Linking forecasting to inventory obsolescence. European Journal of Operational Research, 214(3), 606-615.](https://www.sciencedirect.com/science/article/abs/pii/S0377221711004437)\n"
   ]
  },
  {
   "cell_type": "code",
   "execution_count": null,
   "metadata": {},
   "outputs": [],
   "source": [
    "from statsforecast.utils import AirPassengers as ap"
   ]
  },
  {
   "cell_type": "code",
   "execution_count": null,
   "metadata": {},
   "outputs": [],
   "source": [
    "arima = AutoARIMA(season_length=12)\n",
    "arima = arima.fit(ap)\n",
    "arima.predict(12)"
   ]
  },
  {
   "cell_type": "code",
   "execution_count": null,
   "metadata": {},
   "outputs": [],
   "source": [
    "ets = ETS(season_length=12)\n",
    "ets = ets.fit(ap)\n",
    "ets.predict(12)"
   ]
  },
  {
   "cell_type": "markdown",
   "metadata": {},
   "source": [
    "External regressors"
   ]
  },
  {
   "cell_type": "code",
   "execution_count": null,
   "metadata": {},
   "outputs": [],
   "source": [
    "drift = np.arange(1, ap.size + 1)\n",
    "X = np.vstack([np.log(drift), np.sqrt(drift)]).T"
   ]
  },
  {
   "cell_type": "code",
   "execution_count": null,
   "metadata": {},
   "outputs": [],
   "source": [
    "newdrift = np.arange(ap.size + 1, ap.size + 7 + 1).reshape(-1, 1)\n",
    "newxreg = np.concatenate([np.log(newdrift), np.sqrt(newdrift)], axis=1)"
   ]
  },
  {
   "cell_type": "code",
   "execution_count": null,
   "metadata": {},
   "outputs": [],
   "source": [
    "arima = AutoARIMA(season_length=12)\n",
    "arima = arima.fit(y=ap, X=X)\n",
    "arima.predict(12, X=newxreg)"
   ]
  },
  {
   "cell_type": "markdown",
   "metadata": {},
   "source": [
    "Confidence intervals"
   ]
  },
  {
   "cell_type": "code",
   "execution_count": null,
   "metadata": {},
   "outputs": [],
   "source": [
    "pd.DataFrame(arima.predict(12, X=newxreg, level=(80, 50, 95))).plot()"
   ]
  }
 ],
 "metadata": {
  "kernelspec": {
   "display_name": "Python 3 (ipykernel)",
   "language": "python",
   "name": "python3"
  },
  "language_info": {
   "codemirror_mode": {
    "name": "ipython",
    "version": 3
   },
   "file_extension": ".py",
   "mimetype": "text/x-python",
   "name": "python",
   "nbconvert_exporter": "python",
   "pygments_lexer": "ipython3",
   "version": "3.7.12"
  }
 },
 "nbformat": 4,
 "nbformat_minor": 4
}
