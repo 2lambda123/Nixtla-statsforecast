{
 "cells": [
  {
   "cell_type": "code",
   "execution_count": null,
   "metadata": {},
   "outputs": [],
   "source": [
    "#| default_exp models"
   ]
  },
  {
   "cell_type": "code",
   "execution_count": null,
   "metadata": {},
   "outputs": [
    {
     "name": "stdout",
     "output_type": "stream",
     "text": [
      "The autoreload extension is already loaded. To reload it, use:\n",
      "  %reload_ext autoreload\n"
     ]
    }
   ],
   "source": [
    "#| hide\n",
    "%load_ext autoreload\n",
    "%autoreload 2"
   ]
  },
  {
   "cell_type": "markdown",
   "metadata": {},
   "source": [
    "# <span style=\"color:DarkOrange\"> Models </span>\n",
    "\n",
    "> StatsForecast contains highly efficient Python implementations of univariate statistical and econometric forecasting models and parallelization and distributed computation utilities. StatsForecast library contains two main components:<br><br> The first component is a high-level `core.StatsForecast` wrapper class that operates with (potentially large) sets of time series data through pandas DataFrames. The second component comprises low-level model estimator classes like `models.AutoARIMA` and `models.AutoETS` that operate like sklearn classes with univariate time series NumPy inputs and outputs.<br><br>\n"
   ]
  },
  {
   "cell_type": "code",
   "execution_count": null,
   "metadata": {},
   "outputs": [],
   "source": [
    "#| hide\n",
    "import warnings\n",
    "warnings.filterwarnings('ignore', category=FutureWarning)\n",
    "from nbdev.showdoc import add_docs, show_doc\n",
    "from fastcore.test import test_eq, test_close"
   ]
  },
  {
   "cell_type": "code",
   "execution_count": null,
   "metadata": {},
   "outputs": [],
   "source": [
    "#| export\n",
    "from typing import Dict, List, Optional, Sequence, Tuple\n",
    "\n",
    "import numpy as np\n",
    "from numba import njit\n",
    "from scipy.optimize import minimize\n",
    "from scipy.stats import norm\n",
    "\n",
    "from statsforecast.arima import auto_arima_f, forecast_arima, fitted_arima, Arima as arima_model\n",
    "from statsforecast.ets import ets_f, forecast_ets"
   ]
  },
  {
   "cell_type": "code",
   "execution_count": null,
   "metadata": {},
   "outputs": [],
   "source": [
    "#| hide\n",
    "from statsforecast.utils import AirPassengers as ap"
   ]
  },
  {
   "cell_type": "code",
   "execution_count": null,
   "metadata": {},
   "outputs": [],
   "source": [
    "#| exporti\n",
    "class _TS:\n",
    "    \n",
    "    def new(self):\n",
    "        b = type(self).__new__(type(self))\n",
    "        b.__dict__.update(self.__dict__)\n",
    "        return b"
   ]
  },
  {
   "cell_type": "code",
   "execution_count": null,
   "metadata": {},
   "outputs": [],
   "source": [
    "#| exporti\n",
    "# Functions used for calculating prediction intervals \n",
    "def _quantiles(level): \n",
    "    z = norm.ppf(0.5+level/200)   \n",
    "    return z\n",
    "\n",
    "def _calculate_intervals(out, level, h, sigmah):\n",
    "    z = _quantiles(np.asarray(level))\n",
    "    zz = np.repeat(z, h)\n",
    "    zz = zz.reshape(z.shape[0], h)\n",
    "    lower = out['mean'] - zz * sigmah\n",
    "    upper = out['mean'] + zz * sigmah\n",
    "    pred_int = {**{f'lo-{lv}': lower[i] for i, lv in enumerate(level)}, \n",
    "                **{f'hi-{lv}': upper[i] for i, lv in enumerate(level)}}    \n",
    "    return pred_int\n",
    "\n",
    "def _calculate_sigma(residuals, n): \n",
    "    sigma = np.nansum(residuals ** 2) \n",
    "    sigma = sigma / n\n",
    "    sigma = np.sqrt(sigma)\n",
    "    return sigma"
   ]
  },
  {
   "cell_type": "markdown",
   "metadata": {},
   "source": [
    "# <span style=\"color:DarkBlue\"> 1. Automatic Forecasting </span>"
   ]
  },
  {
   "cell_type": "markdown",
   "metadata": {},
   "source": [
    "##  AutoARIMA"
   ]
  },
  {
   "cell_type": "code",
   "execution_count": null,
   "metadata": {},
   "outputs": [],
   "source": [
    "#| export\n",
    "class AutoARIMA(_TS):\n",
    "    \"\"\"AutoARIMA model.\n",
    "    [Source code](https://github.com/Nixtla/statsforecast/blob/main/statsforecast/arima.py).\n",
    "\n",
    "    Automatically selects the best ARIMA (AutoRegressive Integrated Moving Average) \n",
    "    model using an information criterion. Default is Akaike Information Criterion (AICc). \n",
    "    \n",
    "    **Parameters:**<br>\n",
    "    `d`: int, order of first-differencing.<br>\n",
    "    `D`: int, order of seasonal-differencing.<br>\n",
    "    `max_p`: int, max autorregresives p.<br>\n",
    "    `max_q`: int, max moving averages q.<br>\n",
    "    `max_P`: int, max seasonal autorregresives P.<br>\n",
    "    `max_Q`: int, max seasonal moving averages Q.<br>\n",
    "    `max_order`: int, max p+q+P+Q value if not stepwise selection.<br>\n",
    "    `max_d`: int, max non-seasonal differences.<br>\n",
    "    `max_D`: int, max seasonal differences.<br>\n",
    "    `start_p`: int, starting value of p in stepwise procedure.<br>\n",
    "    `start_q`: int, starting value of q in stepwise procedure.<br>\n",
    "    `start_P`: int, starting value of P in stepwise procedure.<br>\n",
    "    `start_Q`: int, starting value of Q in stepwise procedure.<br>\n",
    "    `stationary`: bool, if True, restricts search to stationary models.<br>\n",
    "    `seasonal`: bool, if False, restricts search to non-seasonal models.<br>\n",
    "    `ic`: str, information criterion to be used in model selection.<br>\n",
    "    `stepwise`: bool, if True, will do stepwise selection (faster).<br>\n",
    "    `nmodels`: int, number of models considered in stepwise search.<br>\n",
    "    `trace`: bool, if True, the searched ARIMA models is reported.<br>\n",
    "    `approximation`: bool, if True, conditional sums-of-squares estimation, final MLE.<br>\n",
    "    `method`: str, fitting method between maximum likelihood or sums-of-squares.<br>\n",
    "    `truncate`: int, observations truncated series used in model selection.<br>\n",
    "    `test`: str (default 'kpss'), unit root test to use. See `ndiffs` for details.<br>\n",
    "    `test_kwargs`: str optional (default None), unit root test additional arguments.<br>\n",
    "    `seasonal_test`: str (default 'seas'), selection method for seasonal differences.<br>\n",
    "    `seasonal_test_kwargs`: dict (optional), seasonal unit root test arguments.<br>\n",
    "    `allowdrift`: bool (default True), If True, drift models terms considered.<br>\n",
    "    `allowmean`: bool (default True), If True, non-zero mean models considered.<br>\n",
    "    `blambda`: float optional (default None), Box-Cox transformation parameter.<br>\n",
    "    `biasadj`: bool (default False), Use adjusted back-transformed mean Box-Cox.<br>\n",
    "    `parallel`: bool, If True and stepwise=False, then parallel search.<br>\n",
    "    `num_cores`: int, amount of parallel processes to be used if parallel=True.<br>\n",
    "    `season_length`: int, number of observations per unit of time. Ex: 24 Hourly data.<br>\n",
    "    \n",
    "    **Note:**<br>\n",
    "    This implementation is a mirror of Hyndman's [forecast::auto.arima](https://github.com/robjhyndman/forecast).\n",
    "    \n",
    "    **References:**<br>\n",
    "    [Rob J. Hyndman, Yeasmin Khandakar (2008). \"Automatic Time Series Forecasting: The forecast package for R\"](https://www.jstatsoft.org/article/view/v027i03).\n",
    "    \"\"\"\n",
    "    def __init__(\n",
    "        self,\n",
    "        d: Optional[int] = None,\n",
    "        D: Optional[int] = None,\n",
    "        max_p: int = 5,\n",
    "        max_q: int = 5,\n",
    "        max_P: int = 2,\n",
    "        max_Q: int = 2,\n",
    "        max_order: int = 5,\n",
    "        max_d: int = 2,\n",
    "        max_D: int = 1,\n",
    "        start_p: int = 2,\n",
    "        start_q: int = 2,\n",
    "        start_P: int = 1,\n",
    "        start_Q: int = 1,\n",
    "        stationary: bool = False,\n",
    "        seasonal: bool = True,\n",
    "        ic: str = 'aicc',\n",
    "        stepwise: bool = True,\n",
    "        nmodels: int = 94,\n",
    "        trace: bool = False,\n",
    "        approximation: Optional[bool] = False,\n",
    "        method: Optional[str] = None,\n",
    "        truncate: Optional[bool] = None,\n",
    "        test: str = 'kpss',\n",
    "        test_kwargs: Optional[str] = None,\n",
    "        seasonal_test: str = 'seas',\n",
    "        seasonal_test_kwargs: Optional[Dict] = None,\n",
    "        allowdrift: bool = False,\n",
    "        allowmean: bool = False,\n",
    "        blambda: Optional[float] = None,\n",
    "        biasadj: bool = False,\n",
    "        parallel: bool = False,\n",
    "        num_cores: int = 2,\n",
    "        season_length: int = 1\n",
    "    ):\n",
    "        self.d=d\n",
    "        self.D=D\n",
    "        self.max_p=max_p\n",
    "        self.max_q=max_q\n",
    "        self.max_P=max_P\n",
    "        self.max_Q=max_Q\n",
    "        self.max_order=max_order\n",
    "        self.max_d=max_d\n",
    "        self.max_D=max_D\n",
    "        self.start_p=start_p\n",
    "        self.start_q=start_q\n",
    "        self.start_P=start_P\n",
    "        self.start_Q=start_Q\n",
    "        self.stationary=stationary\n",
    "        self.seasonal=seasonal\n",
    "        self.ic=ic\n",
    "        self.stepwise=stepwise\n",
    "        self.nmodels=nmodels\n",
    "        self.trace=trace\n",
    "        self.approximation=approximation\n",
    "        self.method=method\n",
    "        self.truncate=truncate\n",
    "        self.test=test\n",
    "        self.test_kwargs=test_kwargs\n",
    "        self.seasonal_test=seasonal_test\n",
    "        self.seasonal_test_kwargs=seasonal_test_kwargs\n",
    "        self.allowdrift=allowdrift\n",
    "        self.allowmean=allowmean\n",
    "        self.blambda=blambda\n",
    "        self.biasadj=biasadj\n",
    "        self.parallel=parallel\n",
    "        self.num_cores=num_cores\n",
    "        self.season_length=season_length\n",
    "        \n",
    "    def __repr__(self):\n",
    "        return 'AutoARIMA'\n",
    "    \n",
    "    def fit(\n",
    "            self, \n",
    "            y: np.ndarray,\n",
    "            X: Optional[np.ndarray] = None,\n",
    "        ):\n",
    "        \"\"\"Fit the AutoARIMA model.\n",
    "\n",
    "        Fit an AutoARIMA to a time series (numpy array) `y`\n",
    "        and optionally exogenous variables (numpy array) `X`.\n",
    "\n",
    "        **Parameters:**<br>\n",
    "        `y`: numpy array of shape (t, ), clean time series.<br>\n",
    "        `X`: array-like of shape (t, n_x) optional exogenous (default=None).<br>\n",
    "\n",
    "        **Returns:**<br>\n",
    "        `self`: AutoARIMA fitted model.\n",
    "        \"\"\"\n",
    "        with np.errstate(invalid='ignore'):\n",
    "            self.model_ = auto_arima_f(\n",
    "                x=y,\n",
    "                d=self.d,\n",
    "                D=self.D,\n",
    "                max_p=self.max_p,\n",
    "                max_q=self.max_q,\n",
    "                max_P=self.max_P,\n",
    "                max_Q=self.max_Q,\n",
    "                max_order=self.max_order,\n",
    "                max_d=self.max_d,\n",
    "                max_D=self.max_D,\n",
    "                start_p=self.start_p,\n",
    "                start_q=self.start_q,\n",
    "                start_P=self.start_P,\n",
    "                start_Q=self.start_Q,\n",
    "                stationary=self.stationary,\n",
    "                seasonal=self.seasonal,\n",
    "                ic=self.ic,\n",
    "                stepwise=self.stepwise,\n",
    "                nmodels=self.nmodels,\n",
    "                trace=self.trace,\n",
    "                approximation=self.approximation,\n",
    "                method=self.method,\n",
    "                truncate=self.truncate,\n",
    "                xreg=X,\n",
    "                test=self.test,\n",
    "                test_kwargs=self.test_kwargs,\n",
    "                seasonal_test=self.seasonal_test,\n",
    "                seasonal_test_kwargs=self.seasonal_test_kwargs,\n",
    "                allowdrift=self.allowdrift,\n",
    "                allowmean=self.allowmean,\n",
    "                blambda=self.blambda,\n",
    "                biasadj=self.biasadj,\n",
    "                parallel=self.parallel,\n",
    "                num_cores=self.num_cores,\n",
    "                period=self.season_length\n",
    "            )\n",
    "        return self\n",
    "    \n",
    "    def predict(\n",
    "            self, \n",
    "            h: int,\n",
    "            X: np.ndarray = None,\n",
    "            level: Optional[Tuple[int]] = None,\n",
    "        ):\n",
    "        \"\"\"Predict with fitted AutoArima.\n",
    "\n",
    "        **Parameters:**<br>\n",
    "        `h`: int, forecast horizon.<br>\n",
    "        `X`: array-like of shape (h, n_x) optional exogenous (default=None).<br>\n",
    "\n",
    "        **Returns:**<br>\n",
    "        `forecasts`: dictionary, with entries 'mean' for point predictions and\n",
    "            'level_*' for probabilistic predictions.<br>\n",
    "        \"\"\"\n",
    "        fcst = forecast_arima(self.model_, h=h, xreg=X, level=level)\n",
    "        mean = fcst['mean']\n",
    "        if level is None:\n",
    "            return {'mean': mean}\n",
    "        return {\n",
    "            'mean': mean,\n",
    "            **{f'lo-{l}': fcst['lower'][f'{l}%'] for l in reversed(level)},\n",
    "            **{f'hi-{l}': fcst['upper'][f'{l}%'] for l in level},\n",
    "        }\n",
    "    \n",
    "    def predict_in_sample(self, level: Optional[Tuple[int]] = None):\n",
    "        \"\"\"Access fitted AutoArima insample predictions.\n",
    "\n",
    "        **Parameters:**<br>\n",
    "        `X`: array-like of shape (t, n_x) optional exogenous (default=None).<br>\n",
    "        `level`: float list 0-100, confidence levels for prediction intervals.<br>\n",
    "\n",
    "        **Returns:**<br>\n",
    "        `forecasts`: dictionary, with entries 'mean' for point predictions and\n",
    "            'level_*' for probabilistic predictions.<br>\n",
    "        \"\"\"\n",
    "        if level is not None:\n",
    "            return NotImplementedError\n",
    "        mean = fitted_arima(self.model_)\n",
    "        return {'mean': mean}\n",
    "    \n",
    "    def forecast(\n",
    "            self,\n",
    "            y: np.ndarray,\n",
    "            h: int,\n",
    "            X: np.ndarray = None,\n",
    "            X_future: np.ndarray = None,\n",
    "            level: Optional[List[int]] = None,\n",
    "            fitted: bool = False,\n",
    "        ):\n",
    "        \"\"\"Memory Efficient AutoARIMA predictions.\n",
    "\n",
    "        This method avoids memory burden due from object storage.\n",
    "        It is analogous to `fit_predict` without storing information.\n",
    "        It assumes you know the forecast horizon in advance.\n",
    "\n",
    "        **Parameters:**<br>\n",
    "        `y`: numpy array of shape (n,), clean time series.<br>\n",
    "        `h`: int, forecast horizon.<br>\n",
    "        `X`: array-like of shape (t, n_x) optional insample exogenous (default=None).<br>\n",
    "        `X_future`: array-like of shape (h, n_x) optional exogenous (default=None).<br>\n",
    "        `level`: float list 0-100, confidence levels for prediction intervals.<br>\n",
    "        `fitted`: bool, wether or not returns insample predictions.<br>\n",
    "\n",
    "        **Returns:**<br>\n",
    "        `forecasts`: dictionary, with entries 'mean' for point predictions and\n",
    "            'level_*' for probabilistic predictions.<br>\n",
    "        \"\"\"\n",
    "        with np.errstate(invalid='ignore'):\n",
    "            mod = auto_arima_f(\n",
    "                x=y,\n",
    "                d=self.d,\n",
    "                D=self.D,\n",
    "                max_p=self.max_p,\n",
    "                max_q=self.max_q,\n",
    "                max_P=self.max_P,\n",
    "                max_Q=self.max_Q,\n",
    "                max_order=self.max_order,\n",
    "                max_d=self.max_d,\n",
    "                max_D=self.max_D,\n",
    "                start_p=self.start_p,\n",
    "                start_q=self.start_q,\n",
    "                start_P=self.start_P,\n",
    "                start_Q=self.start_Q,\n",
    "                stationary=self.stationary,\n",
    "                seasonal=self.seasonal,\n",
    "                ic=self.ic,\n",
    "                stepwise=self.stepwise,\n",
    "                nmodels=self.nmodels,\n",
    "                trace=self.trace,\n",
    "                approximation=self.approximation,\n",
    "                method=self.method,\n",
    "                truncate=self.truncate,\n",
    "                xreg=X,\n",
    "                test=self.test,\n",
    "                test_kwargs=self.test_kwargs,\n",
    "                seasonal_test=self.seasonal_test,\n",
    "                seasonal_test_kwargs=self.seasonal_test_kwargs,\n",
    "                allowdrift=self.allowdrift,\n",
    "                allowmean=self.allowmean,\n",
    "                blambda=self.blambda,\n",
    "                biasadj=self.biasadj,\n",
    "                parallel=self.parallel,\n",
    "                num_cores=self.num_cores,\n",
    "                period=self.season_length\n",
    "            )\n",
    "        fcst = forecast_arima(mod, h, xreg=X_future, level=level)\n",
    "        res = {'mean': fcst['mean']}\n",
    "        if fitted:\n",
    "            res['fitted'] = fitted_arima(mod)\n",
    "        if level is not None:\n",
    "            level = sorted(level)\n",
    "            res = {\n",
    "                **res,\n",
    "                **{f'lo-{l}': fcst['lower'][f'{l}%'] for l in reversed(level)},\n",
    "                **{f'hi-{l}': fcst['upper'][f'{l}%'] for l in level},\n",
    "            }\n",
    "            if fitted:\n",
    "                # add prediction intervals for fitted values\n",
    "                arr_level = np.asarray(level) \n",
    "                se = np.sqrt(mod['sigma2'])\n",
    "                quantiles = norm.ppf(0.5 * (1 + arr_level / 100))\n",
    "\n",
    "                lo = res['fitted'].reshape(-1, 1) - quantiles * se.reshape(-1, 1)\n",
    "                hi = res['fitted'].reshape(-1, 1) + quantiles * se.reshape(-1, 1)\n",
    "                lo = lo[:, ::-1]\n",
    "                lo = {f'fitted-lo-{l}': lo[:, i] for i, l in enumerate(reversed(level))}\n",
    "                hi = {f'fitted-hi-{l}': hi[:, i] for i, l in enumerate(level)}\n",
    "                res = {**res, **lo, **hi}\n",
    "        return res"
   ]
  },
  {
   "cell_type": "code",
   "execution_count": null,
   "metadata": {},
   "outputs": [],
   "source": [
    "#| hide\n",
    "from statsforecast.utils import AirPassengers as ap\n",
    "\n",
    "def test_class(cls_, x, h, skip_insample=False):\n",
    "    cls_ = cls_.fit(x)\n",
    "    fcst_cls = cls_.predict(h=h)\n",
    "    test_eq(len(fcst_cls['mean']), h)\n",
    "    # test fit + predict equals forecast\n",
    "    test_eq(\n",
    "        cls_.forecast(y=x, h=h)['mean'],\n",
    "        fcst_cls['mean']\n",
    "    )\n",
    "    if not skip_insample:\n",
    "        test_eq(len(cls_.predict_in_sample()['mean']), len(x))\n",
    "        assert isinstance(cls_.predict_in_sample()['mean'], np.ndarray)\n",
    "        np.testing.assert_array_equal(\n",
    "            cls_.forecast(y=x, h=h, fitted=True)['fitted'],\n",
    "            cls_.predict_in_sample()['mean'], \n",
    "        )"
   ]
  },
  {
   "cell_type": "code",
   "execution_count": null,
   "metadata": {},
   "outputs": [],
   "source": [
    "#| hide\n",
    "arima = AutoARIMA(season_length=12) \n",
    "test_class(arima, x=ap, h=12)"
   ]
  },
  {
   "cell_type": "code",
   "execution_count": null,
   "metadata": {},
   "outputs": [
    {
     "data": {
      "text/plain": [
       "{'mean': array([444.30005077, 418.2100203 , 446.23703401, 488.22892853,\n",
       "        499.23136059, 562.23063085, 649.23084981, 633.23078411,\n",
       "        535.23080382, 488.23079791, 417.23079968, 459.23079915]),\n",
       " 'fitted': array([111.93533678, 117.96643416, 131.96619385, 128.97744815,\n",
       "        120.98924613, 134.97817413, 147.96920714, 147.97307246,\n",
       "        135.98742515, 119.00485619, 104.01874673, 118.0777757 ,\n",
       "        115.42699043, 121.23080941, 138.49974616, 137.69994923,\n",
       "        127.90015231, 139.60010154, 158.99949231, 167.59959385,\n",
       "        158.        , 141.        , 120.40040615, 129.20020308,\n",
       "        133.39939078, 153.59959385, 166.80030461, 168.09934001,\n",
       "        155.70045692, 190.29903539, 204.40091384, 199.        ,\n",
       "        187.        , 159.90015231, 142.09984769, 171.09984769,\n",
       "        172.80030461, 176.        , 206.79979693, 182.50076153,\n",
       "        189.09984769, 191.10035538, 230.29852771, 232.70045692,\n",
       "        223.39939078, 192.40091384, 173.79979693, 192.90015231,\n",
       "        198.39989846, 205.90015231, 211.70045692, 215.89862924,\n",
       "        233.69944154, 266.40040615, 261.30106614, 273.29954308,\n",
       "        240.20020307, 219.60010154, 194.40040615, 205.60060922,\n",
       "        203.30005077, 203.69994923, 232.8008123 , 231.89964462,\n",
       "        223.10035538, 244.09934001, 280.1991877 , 304.89913693,\n",
       "        263.10086307, 232.69994923, 199.20020307, 222.49974616,\n",
       "        230.49974616, 222.99949231, 277.89964462, 262.90065999,\n",
       "        272.99949231, 301.80030461, 348.49923847, 351.69944154,\n",
       "        315.40040615, 282.30005077, 250.40040615, 266.30055846,\n",
       "        286.49923847, 277.10035538, 310.39989846, 317.19969539,\n",
       "        315.80030461, 361.79979693, 419.69944154, 399.00050769,\n",
       "        367.29954308, 321.50076153, 272.30055846, 311.39989846,\n",
       "        313.80030461, 307.09984769, 343.10035538, 347.49923847,\n",
       "        354.20020307, 410.39989846, 457.69944154, 455.79979693,\n",
       "        413.99949231, 358.90065999, 314.40040615, 342.10035538,\n",
       "        346.20020307, 327.50025384, 375.40040615, 357.30055846,\n",
       "        356.80030461, 427.59959385, 476.49974616, 489.09934001,\n",
       "        438.39939078, 358.40192921, 313.39939078, 343.10035538,\n",
       "        342.20020307, 332.29903539, 384.79979693, 385.99898463,\n",
       "        409.79979693, 489.29954308, 534.00101537, 555.99898463,\n",
       "        458.90015231, 416.49974616, 361.30055846, 387.79979693,\n",
       "        423.1991877 , 402.30055846, 457.40040615, 419.80182767,\n",
       "        469.39736003, 527.90065999, 607.69944154, 629.69944154,\n",
       "        518.10137076, 452.60010154, 413.29954308, 440.80131999]),\n",
       " 'lo-90': 0     424.896650\n",
       " 1     394.525716\n",
       " 2     418.025284\n",
       " 3     456.368840\n",
       " 4     464.033221\n",
       " 5     524.003115\n",
       " 6     608.191851\n",
       " 7     589.562385\n",
       " 8     489.082166\n",
       " 9     439.728704\n",
       " 10    366.484245\n",
       " 11    406.334944\n",
       " Name: 90%, dtype: float64,\n",
       " 'lo-80': 0     429.182317\n",
       " 1     399.756915\n",
       " 2     424.256469\n",
       " 3     463.405840\n",
       " 4     471.807503\n",
       " 5     532.446502\n",
       " 6     617.256215\n",
       " 7     599.207510\n",
       " 8     499.275106\n",
       " 9     450.441457\n",
       " 10    377.692737\n",
       " 11    418.018156\n",
       " Name: 80%, dtype: float64,\n",
       " 'hi-80': 0     459.417784\n",
       " 1     436.663126\n",
       " 2     468.217599\n",
       " 3     513.052017\n",
       " 4     526.655218\n",
       " 5     592.014760\n",
       " 6     681.205484\n",
       " 7     667.254058\n",
       " 8     571.186501\n",
       " 9     526.020138\n",
       " 10    456.768863\n",
       " 11    500.443442\n",
       " Name: 80%, dtype: float64,\n",
       " 'hi-90': 0     463.703452\n",
       " 1     441.894325\n",
       " 2     474.448784\n",
       " 3     520.089017\n",
       " 4     534.429500\n",
       " 5     600.458146\n",
       " 6     690.269849\n",
       " 7     676.899183\n",
       " 8     581.379442\n",
       " 9     536.732891\n",
       " 10    467.977354\n",
       " 11    512.126654\n",
       " Name: 90%, dtype: float64,\n",
       " 'fitted-lo-90': array([ 92.53193561,  98.56303299, 112.56279269, 109.57404699,\n",
       "        101.58584497, 115.57477297, 128.56580597, 128.56967129,\n",
       "        116.58402398,  99.60145502,  84.61534556,  98.67437454,\n",
       "         96.02358926, 101.82740824, 119.09634499, 118.29654806,\n",
       "        108.49675114, 120.19670037, 139.59609114, 148.19619268,\n",
       "        138.59659883, 121.59659883, 100.99700498, 109.79680191,\n",
       "        113.99598961, 134.19619268, 147.39690344, 148.69593884,\n",
       "        136.29705575, 170.89563423, 184.99751267, 179.59659883,\n",
       "        167.59659883, 140.49675114, 122.69644653, 151.69644653,\n",
       "        153.39690344, 156.59659883, 187.39639576, 163.09736036,\n",
       "        169.69644653, 171.69695421, 210.89512654, 213.29705575,\n",
       "        203.99598961, 172.99751267, 154.39639576, 173.49675114,\n",
       "        178.9964973 , 186.49675114, 192.29705575, 196.49522808,\n",
       "        214.29604038, 246.99700498, 241.89766498, 253.89614191,\n",
       "        220.79680191, 200.19670037, 174.99700498, 186.19720806,\n",
       "        183.8966496 , 184.29654806, 213.39741113, 212.49624345,\n",
       "        203.69695421, 224.69593884, 260.79578653, 285.49573576,\n",
       "        243.6974619 , 213.29654806, 179.79680191, 203.09634499,\n",
       "        211.09634499, 203.59609115, 258.49624345, 243.49725883,\n",
       "        253.59609115, 282.39690344, 329.0958373 , 332.29604038,\n",
       "        295.99700498, 262.8966496 , 230.99700498, 246.89715729,\n",
       "        267.0958373 , 257.69695421, 290.9964973 , 297.79629422,\n",
       "        296.39690344, 342.39639576, 400.29604038, 379.59710652,\n",
       "        347.89614191, 302.09736036, 252.89715729, 291.9964973 ,\n",
       "        294.39690344, 287.69644653, 323.69695421, 328.0958373 ,\n",
       "        334.79680191, 390.9964973 , 438.29604038, 436.39639576,\n",
       "        394.59609115, 339.49725883, 294.99700498, 322.69695421,\n",
       "        326.79680191, 308.09685268, 355.99700498, 337.89715729,\n",
       "        337.39690344, 408.19619268, 457.09634499, 469.69593884,\n",
       "        418.99598961, 338.99852804, 293.99598961, 323.69695421,\n",
       "        322.79680191, 312.89563423, 365.39639576, 366.59558346,\n",
       "        390.39639576, 469.89614191, 514.59761421, 536.59558346,\n",
       "        439.49675114, 397.09634499, 341.89715729, 368.39639576,\n",
       "        403.79578653, 382.89715729, 437.99700498, 400.39842651,\n",
       "        449.99395886, 508.49725883, 588.29604038, 610.29604038,\n",
       "        498.69796959, 433.19670037, 393.89614191, 421.39791882]),\n",
       " 'fitted-lo-80': array([ 96.81760306, 102.84870043, 116.84846013, 113.85971443,\n",
       "        105.87151241, 119.86044041, 132.85147342, 132.85533874,\n",
       "        120.86969143, 103.88712247,  88.90101301, 102.96004198,\n",
       "        100.30925671, 106.11307569, 123.38201243, 122.58221551,\n",
       "        112.78241859, 124.48236782, 143.88175859, 152.48186013,\n",
       "        142.88226628, 125.88226628, 105.28267243, 114.08246935,\n",
       "        118.28165705, 138.48186013, 151.68257089, 152.98160629,\n",
       "        140.5827232 , 175.18130167, 189.28318012, 183.88226628,\n",
       "        171.88226628, 144.78241858, 126.98211397, 155.98211397,\n",
       "        157.68257089, 160.88226628, 191.6820632 , 167.38302781,\n",
       "        173.98211397, 175.98262166, 215.18079399, 217.5827232 ,\n",
       "        208.28165705, 177.28318012, 158.6820632 , 177.78241858,\n",
       "        183.28216474, 190.78241858, 196.5827232 , 200.78089552,\n",
       "        218.58170782, 251.28267243, 246.18333242, 258.18180936,\n",
       "        225.08246935, 204.48236782, 179.28267243, 190.4828755 ,\n",
       "        188.18231705, 188.58221551, 217.68307858, 216.7819109 ,\n",
       "        207.98262166, 228.98160629, 265.08145398, 289.78140321,\n",
       "        247.98312935, 217.58221551, 184.08246935, 207.38201243,\n",
       "        215.38201243, 207.88175859, 262.7819109 , 247.78292627,\n",
       "        257.88175859, 286.68257089, 333.38150475, 336.58170782,\n",
       "        300.28267243, 267.18231705, 235.28267243, 251.18282473,\n",
       "        271.38150475, 261.98262166, 295.28216474, 302.08196167,\n",
       "        300.68257089, 346.6820632 , 404.58170782, 383.88277397,\n",
       "        352.18180936, 306.38302781, 257.18282473, 296.28216474,\n",
       "        298.68257089, 291.98211397, 327.98262166, 332.38150475,\n",
       "        339.08246935, 395.28216474, 442.58170782, 440.6820632 ,\n",
       "        398.88175859, 343.78292627, 299.28267243, 326.98262166,\n",
       "        331.08246935, 312.38252012, 360.28267243, 342.18282473,\n",
       "        341.68257089, 412.48186013, 461.38201243, 473.98160629,\n",
       "        423.28165705, 343.28419549, 298.28165705, 327.98262166,\n",
       "        327.08246935, 317.18130167, 369.6820632 , 370.8812509 ,\n",
       "        394.6820632 , 474.18180936, 518.88328165, 540.8812509 ,\n",
       "        443.78241858, 401.38201243, 346.18282473, 372.6820632 ,\n",
       "        408.08145398, 387.18282473, 442.28267243, 404.68409395,\n",
       "        454.27962631, 512.78292627, 592.58170782, 614.58170782,\n",
       "        502.98363703, 437.48236782, 398.18180936, 425.68358627]),\n",
       " 'fitted-hi-80': array([127.0530705 , 133.08416788, 147.08392758, 144.09518187,\n",
       "        136.10697986, 150.09590786, 163.08694086, 163.09080618,\n",
       "        151.10515887, 134.12258991, 119.13648045, 133.19550942,\n",
       "        130.54472415, 136.34854313, 153.61747988, 152.81768295,\n",
       "        143.01788603, 154.71783526, 174.11722603, 182.71732757,\n",
       "        173.11773372, 156.11773372, 135.51813987, 144.3179368 ,\n",
       "        148.5171245 , 168.71732757, 181.91803833, 183.21707373,\n",
       "        170.81819064, 205.41676912, 219.51864756, 214.11773372,\n",
       "        202.11773372, 175.01788603, 157.21758142, 186.21758142,\n",
       "        187.91803833, 191.11773372, 221.91753065, 197.61849525,\n",
       "        204.21758142, 206.2180891 , 245.41626143, 247.81819064,\n",
       "        238.5171245 , 207.51864756, 188.91753065, 208.01788603,\n",
       "        213.51763218, 221.01788603, 226.81819064, 231.01636297,\n",
       "        248.81717527, 281.51813987, 276.41879986, 288.4172768 ,\n",
       "        255.3179368 , 234.71783526, 209.51813987, 220.71834295,\n",
       "        218.41778449, 218.81768295, 247.91854602, 247.01737834,\n",
       "        238.2180891 , 259.21707373, 295.31692142, 320.01687065,\n",
       "        278.21859679, 247.81768295, 214.3179368 , 237.61747988,\n",
       "        245.61747988, 238.11722603, 293.01737834, 278.01839371,\n",
       "        288.11722603, 316.91803833, 363.61697219, 366.81717527,\n",
       "        330.51813987, 297.41778449, 265.51813987, 281.41829218,\n",
       "        301.61697219, 292.2180891 , 325.51763218, 332.31742911,\n",
       "        330.91803833, 376.91753065, 434.81717527, 414.11824141,\n",
       "        382.4172768 , 336.61849525, 287.41829218, 326.51763218,\n",
       "        328.91803833, 322.21758142, 358.2180891 , 362.61697219,\n",
       "        369.3179368 , 425.51763218, 472.81717527, 470.91753065,\n",
       "        429.11722603, 374.01839371, 329.51813987, 357.2180891 ,\n",
       "        361.3179368 , 342.61798757, 390.51813987, 372.41829218,\n",
       "        371.91803833, 442.71732757, 491.61747988, 504.21707373,\n",
       "        453.5171245 , 373.51966293, 328.5171245 , 358.2180891 ,\n",
       "        357.3179368 , 347.41676912, 399.91753065, 401.11671835,\n",
       "        424.91753065, 504.4172768 , 549.1187491 , 571.11671835,\n",
       "        474.01788603, 431.61747988, 376.41829218, 402.91753065,\n",
       "        438.31692142, 417.41829218, 472.51813987, 434.9195614 ,\n",
       "        484.51509375, 543.01839371, 622.81717527, 644.81717527,\n",
       "        533.21910448, 467.71783526, 428.4172768 , 455.91905371]),\n",
       " 'fitted-hi-90': array([131.33873795, 137.36983532, 151.36959502, 148.38084932,\n",
       "        140.3926473 , 154.3815753 , 167.3726083 , 167.37647363,\n",
       "        155.39082631, 138.40825736, 123.4221479 , 137.48117687,\n",
       "        134.8303916 , 140.63421057, 157.90314732, 157.1033504 ,\n",
       "        147.30355347, 159.0035027 , 178.40289348, 187.00299502,\n",
       "        177.40340117, 160.40340117, 139.80380732, 148.60360424,\n",
       "        152.80279194, 173.00299502, 186.20370578, 187.50274117,\n",
       "        175.10385809, 209.70243656, 223.804315  , 218.40340117,\n",
       "        206.40340117, 179.30355347, 161.50324886, 190.50324886,\n",
       "        192.20370578, 195.40340117, 226.20319809, 201.9041627 ,\n",
       "        208.50324886, 210.50375655, 249.70192887, 252.10385809,\n",
       "        242.80279194, 211.804315  , 193.20319809, 212.30355347,\n",
       "        217.80329963, 225.30355347, 231.10385809, 235.30203041,\n",
       "        253.10284271, 285.80380732, 280.70446731, 292.70294425,\n",
       "        259.60360424, 239.0035027 , 213.80380732, 225.00401039,\n",
       "        222.70345194, 223.1033504 , 252.20421347, 251.30304579,\n",
       "        242.50375655, 263.50274117, 299.60258887, 324.3025381 ,\n",
       "        282.50426424, 252.1033504 , 218.60360424, 241.90314732,\n",
       "        249.90314732, 242.40289348, 297.30304579, 282.30406116,\n",
       "        292.40289348, 321.20370578, 367.90263964, 371.10284271,\n",
       "        334.80380732, 301.70345194, 269.80380732, 285.70395962,\n",
       "        305.90263964, 296.50375655, 329.80329963, 336.60309656,\n",
       "        335.20370578, 381.20319809, 439.10284271, 418.40390885,\n",
       "        386.70294425, 340.9041627 , 291.70395962, 330.80329963,\n",
       "        333.20370578, 326.50324886, 362.50375655, 366.90263964,\n",
       "        373.60360424, 429.80329963, 477.10284271, 475.20319809,\n",
       "        433.40289348, 378.30406116, 333.80380732, 361.50375655,\n",
       "        365.60360424, 346.90365501, 394.80380732, 376.70395962,\n",
       "        376.20370578, 447.00299502, 495.90314732, 508.50274117,\n",
       "        457.80279194, 377.80533038, 332.80279194, 362.50375655,\n",
       "        361.60360424, 351.70243656, 404.20319809, 405.40238579,\n",
       "        429.20319809, 508.70294425, 553.40441654, 575.40238579,\n",
       "        478.30355347, 435.90314732, 380.70395962, 407.20319809,\n",
       "        442.60258887, 421.70395962, 476.80380732, 439.20522884,\n",
       "        488.80076119, 547.30406116, 627.10284271, 649.10284271,\n",
       "        537.50477192, 472.0035027 , 432.70294425, 460.20472115])}"
      ]
     },
     "execution_count": null,
     "metadata": {},
     "output_type": "execute_result"
    }
   ],
   "source": [
    "AutoARIMA(season_length=12).forecast(ap, 12, level=(80,90), fitted=True)"
   ]
  },
  {
   "cell_type": "code",
   "execution_count": null,
   "metadata": {},
   "outputs": [
    {
     "data": {
      "text/markdown": [
       "---\n",
       "\n",
       "### AutoARIMA\n",
       "\n",
       ">      AutoARIMA (d:Optional[int]=None, D:Optional[int]=None, max_p:int=5,\n",
       ">                 max_q:int=5, max_P:int=2, max_Q:int=2, max_order:int=5,\n",
       ">                 max_d:int=2, max_D:int=1, start_p:int=2, start_q:int=2,\n",
       ">                 start_P:int=1, start_Q:int=1, stationary:bool=False,\n",
       ">                 seasonal:bool=True, ic:str='aicc', stepwise:bool=True,\n",
       ">                 nmodels:int=94, trace:bool=False,\n",
       ">                 approximation:Optional[bool]=False, method:Optional[str]=None,\n",
       ">                 truncate:Optional[bool]=None, test:str='kpss',\n",
       ">                 test_kwargs:Optional[str]=None, seasonal_test:str='seas',\n",
       ">                 seasonal_test_kwargs:Optional[Dict]=None,\n",
       ">                 allowdrift:bool=False, allowmean:bool=False,\n",
       ">                 blambda:Optional[float]=None, biasadj:bool=False,\n",
       ">                 parallel:bool=False, num_cores:int=2, season_length:int=1)\n",
       "\n",
       "AutoARIMA model.\n",
       "[Source code](https://github.com/Nixtla/statsforecast/blob/main/statsforecast/arima.py).\n",
       "\n",
       "Automatically selects the best ARIMA (AutoRegressive Integrated Moving Average) \n",
       "model using an information criterion. Default is Akaike Information Criterion (AICc). \n",
       "\n",
       "**Parameters:**<br>\n",
       "`d`: int, order of first-differencing.<br>\n",
       "`D`: int, order of seasonal-differencing.<br>\n",
       "`max_p`: int, max autorregresives p.<br>\n",
       "`max_q`: int, max moving averages q.<br>\n",
       "`max_P`: int, max seasonal autorregresives P.<br>\n",
       "`max_Q`: int, max seasonal moving averages Q.<br>\n",
       "`max_order`: int, max p+q+P+Q value if not stepwise selection.<br>\n",
       "`max_d`: int, max non-seasonal differences.<br>\n",
       "`max_D`: int, max seasonal differences.<br>\n",
       "`start_p`: int, starting value of p in stepwise procedure.<br>\n",
       "`start_q`: int, starting value of q in stepwise procedure.<br>\n",
       "`start_P`: int, starting value of P in stepwise procedure.<br>\n",
       "`start_Q`: int, starting value of Q in stepwise procedure.<br>\n",
       "`stationary`: bool, if True, restricts search to stationary models.<br>\n",
       "`seasonal`: bool, if False, restricts search to non-seasonal models.<br>\n",
       "`ic`: str, information criterion to be used in model selection.<br>\n",
       "`stepwise`: bool, if True, will do stepwise selection (faster).<br>\n",
       "`nmodels`: int, number of models considered in stepwise search.<br>\n",
       "`trace`: bool, if True, the searched ARIMA models is reported.<br>\n",
       "`approximation`: bool, if True, conditional sums-of-squares estimation, final MLE.<br>\n",
       "`method`: str, fitting method between maximum likelihood or sums-of-squares.<br>\n",
       "`truncate`: int, observations truncated series used in model selection.<br>\n",
       "`test`: str (default 'kpss'), unit root test to use. See `ndiffs` for details.<br>\n",
       "`test_kwargs`: str optional (default None), unit root test additional arguments.<br>\n",
       "`seasonal_test`: str (default 'seas'), selection method for seasonal differences.<br>\n",
       "`seasonal_test_kwargs`: dict (optional), seasonal unit root test arguments.<br>\n",
       "`allowdrift`: bool (default True), If True, drift models terms considered.<br>\n",
       "`allowmean`: bool (default True), If True, non-zero mean models considered.<br>\n",
       "`blambda`: float optional (default None), Box-Cox transformation parameter.<br>\n",
       "`biasadj`: bool (default False), Use adjusted back-transformed mean Box-Cox.<br>\n",
       "`parallel`: bool, If True and stepwise=False, then parallel search.<br>\n",
       "`num_cores`: int, amount of parallel processes to be used if parallel=True.<br>\n",
       "`season_length`: int, number of observations per unit of time. Ex: 24 Hourly data.<br>\n",
       "\n",
       "**Note:**<br>\n",
       "This implementation is a mirror of Hyndman's [forecast::auto.arima](https://github.com/robjhyndman/forecast).\n",
       "\n",
       "**References:**<br>\n",
       "[Rob J. Hyndman, Yeasmin Khandakar (2008). \"Automatic Time Series Forecasting: The forecast package for R\"](https://www.jstatsoft.org/article/view/v027i03)."
      ],
      "text/plain": [
       "<nbdev.showdoc.BasicMarkdownRenderer>"
      ]
     },
     "execution_count": null,
     "metadata": {},
     "output_type": "execute_result"
    }
   ],
   "source": [
    "show_doc(AutoARIMA, title_level=3)"
   ]
  },
  {
   "cell_type": "code",
   "execution_count": null,
   "metadata": {},
   "outputs": [
    {
     "data": {
      "text/markdown": [
       "---\n",
       "\n",
       "#### AutoARIMA.fit\n",
       "\n",
       ">      AutoARIMA.fit (y:numpy.ndarray, X:Optional[numpy.ndarray]=None)\n",
       "\n",
       "Fit the AutoARIMA model.\n",
       "\n",
       "Fit an AutoARIMA to a time series (numpy array) `y`\n",
       "and optionally exogenous variables (numpy array) `X`.\n",
       "\n",
       "**Parameters:**<br>\n",
       "`y`: numpy array of shape (t, ), clean time series.<br>\n",
       "`X`: array-like of shape (t, n_x) optional exogenous (default=None).<br>\n",
       "\n",
       "**Returns:**<br>\n",
       "`self`: AutoARIMA fitted model."
      ],
      "text/plain": [
       "<nbdev.showdoc.BasicMarkdownRenderer>"
      ]
     },
     "execution_count": null,
     "metadata": {},
     "output_type": "execute_result"
    }
   ],
   "source": [
    "show_doc(AutoARIMA.fit, title_level=3)"
   ]
  },
  {
   "cell_type": "code",
   "execution_count": null,
   "metadata": {},
   "outputs": [
    {
     "data": {
      "text/markdown": [
       "---\n",
       "\n",
       "#### AutoARIMA.predict\n",
       "\n",
       ">      AutoARIMA.predict (h:int, X:numpy.ndarray=None,\n",
       ">                         level:Optional[Tuple[int]]=None)\n",
       "\n",
       "Predict with fitted AutoArima.\n",
       "\n",
       "**Parameters:**<br>\n",
       "`h`: int, forecast horizon.<br>\n",
       "`X`: array-like of shape (h, n_x) optional exogenous (default=None).<br>\n",
       "\n",
       "**Returns:**<br>\n",
       "`forecasts`: dictionary, with entries 'mean' for point predictions and\n",
       "    'level_*' for probabilistic predictions.<br>"
      ],
      "text/plain": [
       "<nbdev.showdoc.BasicMarkdownRenderer>"
      ]
     },
     "execution_count": null,
     "metadata": {},
     "output_type": "execute_result"
    }
   ],
   "source": [
    "show_doc(AutoARIMA.predict, title_level=3)"
   ]
  },
  {
   "cell_type": "code",
   "execution_count": null,
   "metadata": {},
   "outputs": [
    {
     "data": {
      "text/markdown": [
       "---\n",
       "\n",
       "#### AutoARIMA.predict_in_sample\n",
       "\n",
       ">      AutoARIMA.predict_in_sample (level:Optional[Tuple[int]]=None)\n",
       "\n",
       "Access fitted AutoArima insample predictions.\n",
       "\n",
       "**Parameters:**<br>\n",
       "`X`: array-like of shape (t, n_x) optional exogenous (default=None).<br>\n",
       "`level`: float list 0-100, confidence levels for prediction intervals.<br>\n",
       "\n",
       "**Returns:**<br>\n",
       "`forecasts`: dictionary, with entries 'mean' for point predictions and\n",
       "    'level_*' for probabilistic predictions.<br>"
      ],
      "text/plain": [
       "<nbdev.showdoc.BasicMarkdownRenderer>"
      ]
     },
     "execution_count": null,
     "metadata": {},
     "output_type": "execute_result"
    }
   ],
   "source": [
    "show_doc(AutoARIMA.predict_in_sample, title_level=3)"
   ]
  },
  {
   "cell_type": "code",
   "execution_count": null,
   "metadata": {},
   "outputs": [
    {
     "data": {
      "text/markdown": [
       "---\n",
       "\n",
       "#### AutoARIMA.forecast\n",
       "\n",
       ">      AutoARIMA.forecast (y:numpy.ndarray, h:int, X:numpy.ndarray=None,\n",
       ">                          X_future:numpy.ndarray=None,\n",
       ">                          level:Optional[List[int]]=None, fitted:bool=False)\n",
       "\n",
       "Memory Efficient AutoARIMA predictions.\n",
       "\n",
       "This method avoids memory burden due from object storage.\n",
       "It is analogous to `fit_predict` without storing information.\n",
       "It assumes you know the forecast horizon in advance.\n",
       "\n",
       "**Parameters:**<br>\n",
       "`y`: numpy array of shape (n,), clean time series.<br>\n",
       "`h`: int, forecast horizon.<br>\n",
       "`X`: array-like of shape (t, n_x) optional insample exogenous (default=None).<br>\n",
       "`X_future`: array-like of shape (h, n_x) optional exogenous (default=None).<br>\n",
       "`level`: float list 0-100, confidence levels for prediction intervals.<br>\n",
       "`fitted`: bool, wether or not returns insample predictions.<br>\n",
       "\n",
       "**Returns:**<br>\n",
       "`forecasts`: dictionary, with entries 'mean' for point predictions and\n",
       "    'level_*' for probabilistic predictions.<br>"
      ],
      "text/plain": [
       "<nbdev.showdoc.BasicMarkdownRenderer>"
      ]
     },
     "execution_count": null,
     "metadata": {},
     "output_type": "execute_result"
    }
   ],
   "source": [
    "show_doc(AutoARIMA.forecast, title_level=3)"
   ]
  },
  {
   "cell_type": "code",
   "execution_count": null,
   "metadata": {},
   "outputs": [
    {
     "data": {
      "text/plain": [
       "{'mean': array([497.95290508, 486.78068838, 500.08214791, 494.10983724]),\n",
       " 'lo-80': 0    467.167463\n",
       " 1    442.112228\n",
       " 2    450.786735\n",
       " 3    440.963292\n",
       " Name: 80%, dtype: float64,\n",
       " 'hi-80': 0    528.738347\n",
       " 1    531.449149\n",
       " 2    549.377561\n",
       " 3    547.256382\n",
       " Name: 80%, dtype: float64}"
      ]
     },
     "execution_count": null,
     "metadata": {},
     "output_type": "execute_result"
    }
   ],
   "source": [
    "# AutoARIMA's usage example\n",
    "\n",
    "from statsforecast.models import AutoARIMA\n",
    "from statsforecast.utils import AirPassengers as ap\n",
    "\n",
    "\n",
    "arima = AutoARIMA(season_length=4)\n",
    "arima = arima.fit(y=ap)\n",
    "y_hat_dict = arima.predict(h=4, level=[80])\n",
    "y_hat_dict"
   ]
  },
  {
   "cell_type": "markdown",
   "metadata": {},
   "source": [
    "## AutoETS"
   ]
  },
  {
   "cell_type": "code",
   "execution_count": null,
   "metadata": {},
   "outputs": [],
   "source": [
    "#| export\n",
    "class ETS(_TS):\n",
    "    \"\"\"Exponential Smoothing model.\n",
    "    [Source code](https://github.com/Nixtla/statsforecast/blob/main/statsforecast/ets.py).\n",
    "\n",
    "    Automatically selects the best ETS (Error, Trend, Seasonality) \n",
    "    model using an information criterion. Default is Akaike Information Criterion (AICc), while particular models are estimated using maximum likelihood.\n",
    "    The state-space equations can be determined based on their $M$ multiplicative, $A$ additive, \n",
    "    $Z$ optimized or $N$ ommited components. The `model` string parameter defines the ETS equations: \n",
    "    E in [$M, A, Z$], T in [$N, A, M, Z$], and S in [$N, A, M, Z$].\n",
    "    \n",
    "    For example when model='ANN' (additive error, no trend, and no seasonality), ETS will \n",
    "    explore only a simple exponential smoothing.\n",
    "    \n",
    "    If the component is selected as 'Z', it operates as a placeholder to ask the AutoETS model\n",
    "    to figure out the best parameter.\n",
    "    \n",
    "    **Parameters:**<br>\n",
    "    `model`: str, controlling state-space-equations.<br>\n",
    "    `season_length`: int, number of observations per unit of time. Ex: 24 Hourly data.<br>\n",
    "    \n",
    "    **Note:**<br>\n",
    "    This implementation is a mirror of Hyndman's [forecast::ets](https://github.com/robjhyndman/forecast).\n",
    "    \n",
    "    **References:**<br>\n",
    "    [Rob J. Hyndman, Yeasmin Khandakar (2008). \"Automatic Time Series Forecasting: The forecast package for R\"](https://www.jstatsoft.org/article/view/v027i03).\n",
    "    \n",
    "    [Hyndman, Rob, et al (2008). \"Forecasting with exponential smoothing: the state space approach\"](https://robjhyndman.com/expsmooth/).\n",
    "    \"\"\"\n",
    "    def __init__(\n",
    "            self, \n",
    "            season_length: int = 1,\n",
    "            model: str = 'ZZZ'\n",
    "        ):\n",
    "        self.season_length = season_length\n",
    "        self.model = model\n",
    "    \n",
    "    def __repr__(self):\n",
    "        return 'ETS'\n",
    "    \n",
    "    def fit(\n",
    "            self,\n",
    "            y: np.ndarray,\n",
    "            X: np.ndarray = None\n",
    "        ):\n",
    "        \"\"\"Fit the Exponential Smoothing model.\n",
    "\n",
    "        Fit an Exponential Smoothing model to a time series (numpy array) `y`\n",
    "        and optionally exogenous variables (numpy array) `X`.\n",
    "\n",
    "        **Parameters:**<br>\n",
    "        `y`: numpy array of shape (t, ), clean time series.<br>\n",
    "        `X`: array-like of shape (t, n_x) optional exogenous (default=None).<br>\n",
    "\n",
    "        **Returns:**<br>\n",
    "        `self`: Exponential Smoothing fitted model.\n",
    "        \"\"\"\n",
    "        self.model_ = ets_f(y, m=self.season_length, model=self.model)\n",
    "        return self\n",
    "    \n",
    "    def predict(\n",
    "            self,\n",
    "            h: int,\n",
    "            X: np.ndarray = None\n",
    "        ):\n",
    "        \"\"\"Predict with fitted Exponential Smoothing.\n",
    "\n",
    "        **Parameters:**<br>\n",
    "        `h`: int, forecast horizon.<br>\n",
    "        `X`: array-like of shape (h, n_x) optional exogenous (default=None).<br>\n",
    "\n",
    "        **Returns:**<br>\n",
    "        `forecasts`: dictionary, with entries 'mean' for point predictions and\n",
    "            'level_*' for probabilistic predictions.<br>\n",
    "        \"\"\"\n",
    "        mean = forecast_ets(self.model_, h=h)['mean']\n",
    "        res = {'mean': mean}\n",
    "        return res\n",
    "    \n",
    "    def predict_in_sample(self):\n",
    "        \"\"\"Access fitted Exponential Smoothing insample predictions.\n",
    "\n",
    "        **Parameters:**<br>\n",
    "        `X`: array-like of shape (t, n_x) optional exogenous (default=None).<br>\n",
    "        `level`: float list 0-100, confidence levels for prediction intervals.<br>\n",
    "\n",
    "        **Returns:**<br>\n",
    "        `forecasts`: dictionary, with entries 'mean' for point predictions and\n",
    "            'level_*' for probabilistic predictions.<br>\n",
    "        \"\"\"\n",
    "        res = {'mean': self.model_['fitted']}\n",
    "        return res\n",
    "    \n",
    "    def forecast(\n",
    "            self,\n",
    "            y: np.ndarray,\n",
    "            h: int,\n",
    "            X: np.ndarray = None,\n",
    "            X_future: np.ndarray = None,\n",
    "            fitted: bool = False,\n",
    "        ):\n",
    "        \"\"\"Memory Efficient Exponential Smoothing predictions.\n",
    "\n",
    "        This method avoids memory burden due from object storage.\n",
    "        It is analogous to `fit_predict` without storing information.\n",
    "        It assumes you know the forecast horizon in advance.\n",
    "\n",
    "        **Parameters:**<br>\n",
    "        `y`: numpy array of shape (n,), clean time series.<br>\n",
    "        `h`: int, forecast horizon.<br>\n",
    "        `X`: array-like of shape (t, n_x) optional insample exogenous (default=None).<br>\n",
    "        `X_future`: array-like of shape (h, n_x) optional exogenous (default=None).<br>\n",
    "        `level`: float list 0-100, confidence levels for prediction intervals.<br>\n",
    "        `fitted`: bool, wether or not returns insample predictions.<br>\n",
    "\n",
    "        **Returns:**<br>\n",
    "        `forecasts`: dictionary, with entries 'mean' for point predictions and\n",
    "            'level_*' for probabilistic predictions.<br>\n",
    "        \"\"\"\n",
    "        mod = ets_f(y, m=self.season_length, model=self.model)\n",
    "        fcst = forecast_ets(mod, h)\n",
    "        keys = ['mean']\n",
    "        if fitted:\n",
    "            keys.append('fitted')\n",
    "        return {key: fcst[key] for key in keys}"
   ]
  },
  {
   "cell_type": "code",
   "execution_count": null,
   "metadata": {},
   "outputs": [],
   "source": [
    "#| hide\n",
    "ets = ETS(season_length=12)\n",
    "test_class(ets, x=ap, h=12)"
   ]
  },
  {
   "cell_type": "code",
   "execution_count": null,
   "metadata": {},
   "outputs": [
    {
     "data": {
      "text/markdown": [
       "---\n",
       "\n",
       "### ETS\n",
       "\n",
       ">      ETS (season_length:int=1, model:str='ZZZ')\n",
       "\n",
       "Exponential Smoothing model.\n",
       "[Source code](https://github.com/Nixtla/statsforecast/blob/main/statsforecast/ets.py).\n",
       "\n",
       "Automatically selects the best ETS (Error, Trend, Seasonality) \n",
       "model using an information criterion. Default is Akaike Information Criterion (AICc), while particular models are estimated using maximum likelihood.\n",
       "The state-space equations can be determined based on their $M$ multiplicative, $A$ additive, \n",
       "$Z$ optimized or $N$ ommited components. The `model` string parameter defines the ETS equations: \n",
       "E in [$M, A, Z$], T in [$N, A, M, Z$], and S in [$N, A, M, Z$].\n",
       "\n",
       "For example when model='ANN' (additive error, no trend, and no seasonality), ETS will \n",
       "explore only a simple exponential smoothing.\n",
       "\n",
       "If the component is selected as 'Z', it operates as a placeholder to ask the AutoETS model\n",
       "to figure out the best parameter.\n",
       "\n",
       "**Parameters:**<br>\n",
       "`model`: str, controlling state-space-equations.<br>\n",
       "`season_length`: int, number of observations per unit of time. Ex: 24 Hourly data.<br>\n",
       "\n",
       "**Note:**<br>\n",
       "This implementation is a mirror of Hyndman's [forecast::ets](https://github.com/robjhyndman/forecast).\n",
       "\n",
       "**References:**<br>\n",
       "[Rob J. Hyndman, Yeasmin Khandakar (2008). \"Automatic Time Series Forecasting: The forecast package for R\"](https://www.jstatsoft.org/article/view/v027i03).\n",
       "\n",
       "[Hyndman, Rob, et al (2008). \"Forecasting with exponential smoothing: the state space approach\"](https://robjhyndman.com/expsmooth/)."
      ],
      "text/plain": [
       "<nbdev.showdoc.BasicMarkdownRenderer>"
      ]
     },
     "execution_count": null,
     "metadata": {},
     "output_type": "execute_result"
    }
   ],
   "source": [
    "show_doc(ETS, title_level=3)"
   ]
  },
  {
   "cell_type": "code",
   "execution_count": null,
   "metadata": {},
   "outputs": [
    {
     "data": {
      "text/markdown": [
       "---\n",
       "\n",
       "#### ETS.fit\n",
       "\n",
       ">      ETS.fit (y:numpy.ndarray, X:numpy.ndarray=None)\n",
       "\n",
       "Fit the Exponential Smoothing model.\n",
       "\n",
       "Fit an Exponential Smoothing model to a time series (numpy array) `y`\n",
       "and optionally exogenous variables (numpy array) `X`.\n",
       "\n",
       "**Parameters:**<br>\n",
       "`y`: numpy array of shape (t, ), clean time series.<br>\n",
       "`X`: array-like of shape (t, n_x) optional exogenous (default=None).<br>\n",
       "\n",
       "**Returns:**<br>\n",
       "`self`: Exponential Smoothing fitted model."
      ],
      "text/plain": [
       "<nbdev.showdoc.BasicMarkdownRenderer>"
      ]
     },
     "execution_count": null,
     "metadata": {},
     "output_type": "execute_result"
    }
   ],
   "source": [
    "show_doc(ETS.fit, title_level=3)"
   ]
  },
  {
   "cell_type": "code",
   "execution_count": null,
   "metadata": {},
   "outputs": [
    {
     "data": {
      "text/markdown": [
       "---\n",
       "\n",
       "#### ETS.predict\n",
       "\n",
       ">      ETS.predict (h:int, X:numpy.ndarray=None)\n",
       "\n",
       "Predict with fitted Exponential Smoothing.\n",
       "\n",
       "**Parameters:**<br>\n",
       "`h`: int, forecast horizon.<br>\n",
       "`X`: array-like of shape (h, n_x) optional exogenous (default=None).<br>\n",
       "\n",
       "**Returns:**<br>\n",
       "`forecasts`: dictionary, with entries 'mean' for point predictions and\n",
       "    'level_*' for probabilistic predictions.<br>"
      ],
      "text/plain": [
       "<nbdev.showdoc.BasicMarkdownRenderer>"
      ]
     },
     "execution_count": null,
     "metadata": {},
     "output_type": "execute_result"
    }
   ],
   "source": [
    "show_doc(ETS.predict, title_level=3)"
   ]
  },
  {
   "cell_type": "code",
   "execution_count": null,
   "metadata": {},
   "outputs": [
    {
     "data": {
      "text/markdown": [
       "---\n",
       "\n",
       "#### ETS.predict_in_sample\n",
       "\n",
       ">      ETS.predict_in_sample ()\n",
       "\n",
       "Access fitted Exponential Smoothing insample predictions.\n",
       "\n",
       "**Parameters:**<br>\n",
       "`X`: array-like of shape (t, n_x) optional exogenous (default=None).<br>\n",
       "`level`: float list 0-100, confidence levels for prediction intervals.<br>\n",
       "\n",
       "**Returns:**<br>\n",
       "`forecasts`: dictionary, with entries 'mean' for point predictions and\n",
       "    'level_*' for probabilistic predictions.<br>"
      ],
      "text/plain": [
       "<nbdev.showdoc.BasicMarkdownRenderer>"
      ]
     },
     "execution_count": null,
     "metadata": {},
     "output_type": "execute_result"
    }
   ],
   "source": [
    "show_doc(ETS.predict_in_sample, title_level=3)"
   ]
  },
  {
   "cell_type": "code",
   "execution_count": null,
   "metadata": {},
   "outputs": [
    {
     "data": {
      "text/markdown": [
       "---\n",
       "\n",
       "#### ETS.forecast\n",
       "\n",
       ">      ETS.forecast (y:numpy.ndarray, h:int, X:numpy.ndarray=None,\n",
       ">                    X_future:numpy.ndarray=None, fitted:bool=False)\n",
       "\n",
       "Memory Efficient Exponential Smoothing predictions.\n",
       "\n",
       "This method avoids memory burden due from object storage.\n",
       "It is analogous to `fit_predict` without storing information.\n",
       "It assumes you know the forecast horizon in advance.\n",
       "\n",
       "**Parameters:**<br>\n",
       "`y`: numpy array of shape (n,), clean time series.<br>\n",
       "`h`: int, forecast horizon.<br>\n",
       "`X`: array-like of shape (t, n_x) optional insample exogenous (default=None).<br>\n",
       "`X_future`: array-like of shape (h, n_x) optional exogenous (default=None).<br>\n",
       "`level`: float list 0-100, confidence levels for prediction intervals.<br>\n",
       "`fitted`: bool, wether or not returns insample predictions.<br>\n",
       "\n",
       "**Returns:**<br>\n",
       "`forecasts`: dictionary, with entries 'mean' for point predictions and\n",
       "    'level_*' for probabilistic predictions.<br>"
      ],
      "text/plain": [
       "<nbdev.showdoc.BasicMarkdownRenderer>"
      ]
     },
     "execution_count": null,
     "metadata": {},
     "output_type": "execute_result"
    }
   ],
   "source": [
    "show_doc(ETS.forecast, title_level=3)"
   ]
  },
  {
   "cell_type": "code",
   "execution_count": null,
   "metadata": {},
   "outputs": [
    {
     "data": {
      "text/plain": [
       "{'mean': array([416.72150528, 419.72970329, 442.61205868, 457.25022941])}"
      ]
     },
     "execution_count": null,
     "metadata": {},
     "output_type": "execute_result"
    }
   ],
   "source": [
    "# ETS' usage example\n",
    "\n",
    "from statsforecast.models import ETS\n",
    "from statsforecast.utils import AirPassengers as ap\n",
    "\n",
    "# Multiplicative trend, optimal error and seasonality\n",
    "ets = ETS(model='ZMZ',  \n",
    "          season_length=4)\n",
    "ets = ets.fit(y=ap)\n",
    "y_hat_dict = ets.predict(h=4)\n",
    "y_hat_dict"
   ]
  },
  {
   "cell_type": "markdown",
   "metadata": {},
   "source": [
    "# <span style=\"color:DarkBlue\"> 2. ExponentialSmoothing </span>"
   ]
  },
  {
   "cell_type": "markdown",
   "metadata": {},
   "source": [
    "## SimpleSmooth"
   ]
  },
  {
   "cell_type": "code",
   "execution_count": null,
   "metadata": {},
   "outputs": [],
   "source": [
    "#| export\n",
    "@njit\n",
    "def _ses_fcst_mse(x: np.ndarray, alpha: float) -> Tuple[float, float, np.ndarray]:\n",
    "    \"\"\"Perform simple exponential smoothing on a series.\n",
    "\n",
    "    This function returns the one step ahead prediction\n",
    "    as well as the mean squared error of the fit.\n",
    "    \"\"\"\n",
    "    smoothed = x[0]\n",
    "    n = x.size\n",
    "    mse = 0.\n",
    "    fitted = np.full(n, np.nan, np.float32)\n",
    "\n",
    "    for i in range(1, n):\n",
    "        smoothed = (alpha * x[i - 1] + (1 - alpha) * smoothed).item()\n",
    "        error = x[i] - smoothed\n",
    "        mse += error * error\n",
    "        fitted[i] = smoothed\n",
    "\n",
    "    mse /= n\n",
    "    forecast = alpha * x[-1] + (1 - alpha) * smoothed\n",
    "    return forecast, mse, fitted\n",
    "\n",
    "\n",
    "def _ses_mse(alpha: float, x: np.ndarray) -> float:\n",
    "    \"\"\"Compute the mean squared error of a simple exponential smoothing fit.\"\"\"\n",
    "    _, mse, _ = _ses_fcst_mse(x, alpha)\n",
    "    return mse\n",
    "\n",
    "\n",
    "@njit\n",
    "def _ses_forecast(x: np.ndarray, alpha: float) -> Tuple[float, np.ndarray]:\n",
    "    \"\"\"One step ahead forecast with simple exponential smoothing.\"\"\"\n",
    "    forecast, _, fitted = _ses_fcst_mse(x, alpha)\n",
    "    return forecast, fitted\n",
    "\n",
    "\n",
    "@njit\n",
    "def _demand(x: np.ndarray) -> np.ndarray:\n",
    "    \"\"\"Extract the positive elements of a vector.\"\"\"\n",
    "    return x[x > 0]\n",
    "\n",
    "\n",
    "@njit\n",
    "def _intervals(x: np.ndarray) -> np.ndarray:\n",
    "    \"\"\"Compute the intervals between non zero elements of a vector.\"\"\"\n",
    "    y = []\n",
    "\n",
    "    ctr = 1\n",
    "    for val in x:\n",
    "        if val == 0:\n",
    "            ctr += 1\n",
    "        else:\n",
    "            y.append(ctr)\n",
    "            ctr = 1\n",
    "\n",
    "    return np.array(y)\n",
    "\n",
    "\n",
    "@njit\n",
    "def _probability(x: np.ndarray) -> np.ndarray:\n",
    "    \"\"\"Compute the element probabilities of being non zero.\"\"\"\n",
    "    return (x != 0).astype(np.int32)\n",
    "\n",
    "\n",
    "def _optimized_ses_forecast(\n",
    "        x: np.ndarray,\n",
    "        bounds: Sequence[Tuple[float, float]] = [(0.1, 0.3)]\n",
    "    ) -> Tuple[float, np.ndarray]:\n",
    "    \"\"\"Searches for the optimal alpha and computes SES one step forecast.\"\"\"\n",
    "    alpha = minimize(\n",
    "        fun=_ses_mse,\n",
    "        x0=(0,),\n",
    "        args=(x,),\n",
    "        bounds=bounds,\n",
    "        method='L-BFGS-B'\n",
    "    ).x[0]\n",
    "    forecast, fitted = _ses_forecast(x, alpha)\n",
    "    return forecast, fitted\n",
    "\n",
    "\n",
    "@njit\n",
    "def _chunk_sums(array: np.ndarray, chunk_size: int) -> np.ndarray:\n",
    "    \"\"\"Splits an array into chunks and returns the sum of each chunk.\"\"\"\n",
    "    n = array.size\n",
    "    n_chunks = n // chunk_size\n",
    "    sums = np.empty(n_chunks)\n",
    "    for i, start in enumerate(range(0, n, chunk_size)):\n",
    "        sums[i] = array[start : start + chunk_size].sum()\n",
    "    return sums\n",
    "\n",
    "@njit\n",
    "def _repeat_val(val: float, h: int):\n",
    "    return np.full(h, val, np.float32)\n",
    "\n",
    "@njit\n",
    "def _repeat_val_seas(season_vals: np.ndarray, h: int, season_length: int):\n",
    "    out = np.empty(h, np.float32)\n",
    "    for i in range(h):\n",
    "        out[i] = season_vals[i % season_length]\n",
    "    return out"
   ]
  },
  {
   "cell_type": "code",
   "execution_count": null,
   "metadata": {},
   "outputs": [],
   "source": [
    "#| exporti\n",
    "@njit\n",
    "def _ses(\n",
    "        y: np.ndarray, # time series\n",
    "        h: int, # forecasting horizon\n",
    "        fitted: bool, # fitted values\n",
    "        alpha: float, # smoothing parameter\n",
    "    ): \n",
    "    fcst, _, fitted_vals = _ses_fcst_mse(y, alpha)\n",
    "    mean = _repeat_val(val=fcst, h=h)\n",
    "    fcst = {'mean': mean}\n",
    "    if fitted:\n",
    "        fcst['fitted'] = fitted_vals\n",
    "    return fcst"
   ]
  },
  {
   "cell_type": "code",
   "execution_count": null,
   "metadata": {},
   "outputs": [],
   "source": [
    "#| export\n",
    "class SimpleExponentialSmoothing(_TS):\n",
    "    \"\"\"SimpleExponentialSmoothing model.\n",
    "    [Source code](https://github.com/Nixtla/statsforecast/blob/main/statsforecast/smoothing.py).\n",
    "\n",
    "    Uses a weighted average of all past observations where the weights decrease exponentially into the past. \n",
    "    Suitable for data with no clear trend or seasonality. \n",
    "    Assuming there are $t$ observations, the one-step forecast is given by: $\\hat{y}_{t+1} = \\\\alpha y_t + (1-\\\\alpha) \\hat{y}_{t-1}$\n",
    "\n",
    "    The rate $0 \\leq \\\\alpha \\leq 1$ at which the weights decrease is called the smoothing parameter. When $\\\\alpha = 1$, SES is equal to the naive method.\n",
    "\n",
    "    **Parameters:**<br>\n",
    "    `alpha`: float, smoothing parameter.<br>\n",
    "\n",
    "    **References:**<br>\n",
    "    [Charles C Holt (1957). “Forecasting seasonals and trends by exponentially weighted moving averages”](https://doi.org/10.1016/j.ijforecast).\n",
    "\n",
    "    \"\"\"\n",
    "    def __init__(\n",
    "            self, \n",
    "            alpha: float\n",
    "        ):\n",
    "        self.alpha = alpha\n",
    "        \n",
    "    def __repr__(self):\n",
    "        return 'SES'\n",
    "    \n",
    "    def fit(\n",
    "            self,\n",
    "            y: np.ndarray,\n",
    "            X: np.ndarray = None\n",
    "        ):\n",
    "        \"\"\"Fit the SimpleExponentialSmoothing model.\n",
    "\n",
    "        Fit an SimpleExponentialSmoothing to a time series (numpy array) `y`\n",
    "        and optionally exogenous variables (numpy array) `X`.\n",
    "\n",
    "        **Parameters:**<br>\n",
    "        `y`: numpy array of shape (t, ), clean time series.<br>\n",
    "        `X`: array-like of shape (t, n_x) optional exogenous (default=None).<br>\n",
    "\n",
    "        **Returns:**<br>\n",
    "        `self`: SimpleExponentialSmoothing fitted model.\n",
    "        \"\"\"\n",
    "        mod = _ses(y=y, alpha=self.alpha, h=1, fitted=True)\n",
    "        self.model_ = dict(mod)\n",
    "        return self\n",
    "        \n",
    "    def predict(\n",
    "            self,\n",
    "            h: int,\n",
    "            X: np.ndarray = None\n",
    "        ):\n",
    "        \"\"\"Predict with fitted SimpleExponentialSmoothing.\n",
    "\n",
    "        **Parameters:**<br>\n",
    "        `h`: int, forecast horizon.<br>\n",
    "\n",
    "        **Returns:**<br>\n",
    "        `forecasts`: dictionary, with entries 'mean' for point predictions and\n",
    "            'level_*' for probabilistic predictions.<br>\n",
    "        \"\"\"\n",
    "        mean = _repeat_val(val=self.model_['mean'][0], h=h)\n",
    "        res = {'mean': mean}\n",
    "        return res\n",
    "    \n",
    "    def predict_in_sample(self):\n",
    "        \"\"\"Access fitted SimpleExponentialSmoothing insample predictions.\n",
    "\n",
    "        **Parameters:**<br>\n",
    "        `level`: float list 0-100, confidence levels for prediction intervals.<br>\n",
    "\n",
    "        **Returns:**<br>\n",
    "        `forecasts`: dictionary, with entries 'mean' for point predictions and\n",
    "            'level_*' for probabilistic predictions.<br>\n",
    "        \"\"\"\n",
    "        res = {'mean': self.model_['fitted']}\n",
    "        return res\n",
    "    \n",
    "    def forecast(\n",
    "            self, \n",
    "            y: np.ndarray,\n",
    "            h: int,\n",
    "            X: np.ndarray = None,\n",
    "            X_future: np.ndarray = None,\n",
    "            fitted: bool = False,\n",
    "        ):\n",
    "        \"\"\"Memory Efficient SimpleExponentialSmoothing predictions.\n",
    "\n",
    "        This method avoids memory burden due from object storage.\n",
    "        It is analogous to `fit_predict` without storing information.\n",
    "        It assumes you know the forecast horizon in advance.\n",
    "\n",
    "        **Parameters:**<br>\n",
    "        `y`: numpy array of shape (n,), clean time series.<br>\n",
    "        `h`: int, forecast horizon.<br>\n",
    "        `level`: float list 0-100, confidence levels for prediction intervals.<br>\n",
    "        `fitted`: bool, wether or not returns insample predictions.<br>\n",
    "\n",
    "        **Returns:**<br>\n",
    "        `forecasts`: dictionary, with entries 'mean' for point predictions and\n",
    "            'level_*' for probabilistic predictions.<br>\n",
    "        \"\"\"\n",
    "        out = _ses(y=y, h=h, fitted=fitted, alpha=self.alpha)\n",
    "        return out"
   ]
  },
  {
   "cell_type": "code",
   "execution_count": null,
   "metadata": {},
   "outputs": [],
   "source": [
    "#| hide\n",
    "ses = SimpleExponentialSmoothing(alpha=0.1)\n",
    "test_class(ses, x=ap, h=12)\n",
    "#more tests\n",
    "ses = ses.fit(ap)\n",
    "fcst_ses = ses.predict(12)\n",
    "test_close(fcst_ses['mean'], np.repeat(460.3028, 12), eps=1e-4)\n",
    "#to recover these residuals from R\n",
    "#you have to pass initial=\"simple\"\n",
    "#in the `ses` function\n",
    "np.testing.assert_allclose(\n",
    "    ses.predict_in_sample()['mean'][[0, 1, -1]], \n",
    "    np.array([np.nan, 118 - 6., 432 + 31.447525])\n",
    ")"
   ]
  },
  {
   "cell_type": "code",
   "execution_count": null,
   "metadata": {},
   "outputs": [
    {
     "data": {
      "text/markdown": [
       "---\n",
       "\n",
       "### SimpleExponentialSmoothing\n",
       "\n",
       ">      SimpleExponentialSmoothing (alpha:float)\n",
       "\n",
       "SimpleExponentialSmoothing model.\n",
       "[Source code](https://github.com/Nixtla/statsforecast/blob/main/statsforecast/smoothing.py).\n",
       "\n",
       "Uses a weighted average of all past observations where the weights decrease exponentially into the past. \n",
       "Suitable for data with no clear trend or seasonality. \n",
       "Assuming there are $t$ observations, the one-step forecast is given by: $\\hat{y}_{t+1} = \\alpha y_t + (1-\\alpha) \\hat{y}_{t-1}$\n",
       "\n",
       "The rate $0 \\leq \\alpha \\leq 1$ at which the weights decrease is called the smoothing parameter. When $\\alpha = 1$, SES is equal to the naive method.\n",
       "\n",
       "**Parameters:**<br>\n",
       "`alpha`: float, smoothing parameter.<br>\n",
       "\n",
       "**References:**<br>\n",
       "[Charles C Holt (1957). “Forecasting seasonals and trends by exponentially weighted moving averages”](https://doi.org/10.1016/j.ijforecast)."
      ],
      "text/plain": [
       "<nbdev.showdoc.BasicMarkdownRenderer>"
      ]
     },
     "execution_count": null,
     "metadata": {},
     "output_type": "execute_result"
    }
   ],
   "source": [
    "show_doc(SimpleExponentialSmoothing, title_level=3)"
   ]
  },
  {
   "cell_type": "code",
   "execution_count": null,
   "metadata": {},
   "outputs": [
    {
     "data": {
      "text/markdown": [
       "---\n",
       "\n",
       "#### SimpleExponentialSmoothing.forecast\n",
       "\n",
       ">      SimpleExponentialSmoothing.forecast (y:numpy.ndarray, h:int,\n",
       ">                                           X:numpy.ndarray=None,\n",
       ">                                           X_future:numpy.ndarray=None,\n",
       ">                                           fitted:bool=False)\n",
       "\n",
       "Memory Efficient SimpleExponentialSmoothing predictions.\n",
       "\n",
       "This method avoids memory burden due from object storage.\n",
       "It is analogous to `fit_predict` without storing information.\n",
       "It assumes you know the forecast horizon in advance.\n",
       "\n",
       "**Parameters:**<br>\n",
       "`y`: numpy array of shape (n,), clean time series.<br>\n",
       "`h`: int, forecast horizon.<br>\n",
       "`level`: float list 0-100, confidence levels for prediction intervals.<br>\n",
       "`fitted`: bool, wether or not returns insample predictions.<br>\n",
       "\n",
       "**Returns:**<br>\n",
       "`forecasts`: dictionary, with entries 'mean' for point predictions and\n",
       "    'level_*' for probabilistic predictions.<br>"
      ],
      "text/plain": [
       "<nbdev.showdoc.BasicMarkdownRenderer>"
      ]
     },
     "execution_count": null,
     "metadata": {},
     "output_type": "execute_result"
    }
   ],
   "source": [
    "show_doc(SimpleExponentialSmoothing.forecast, title_level=3)"
   ]
  },
  {
   "cell_type": "code",
   "execution_count": null,
   "metadata": {},
   "outputs": [
    {
     "data": {
      "text/markdown": [
       "---\n",
       "\n",
       "#### SimpleExponentialSmoothing.fit\n",
       "\n",
       ">      SimpleExponentialSmoothing.fit (y:numpy.ndarray, X:numpy.ndarray=None)\n",
       "\n",
       "Fit the SimpleExponentialSmoothing model.\n",
       "\n",
       "Fit an SimpleExponentialSmoothing to a time series (numpy array) `y`\n",
       "and optionally exogenous variables (numpy array) `X`.\n",
       "\n",
       "**Parameters:**<br>\n",
       "`y`: numpy array of shape (t, ), clean time series.<br>\n",
       "`X`: array-like of shape (t, n_x) optional exogenous (default=None).<br>\n",
       "\n",
       "**Returns:**<br>\n",
       "`self`: SimpleExponentialSmoothing fitted model."
      ],
      "text/plain": [
       "<nbdev.showdoc.BasicMarkdownRenderer>"
      ]
     },
     "execution_count": null,
     "metadata": {},
     "output_type": "execute_result"
    }
   ],
   "source": [
    "show_doc(SimpleExponentialSmoothing.fit, title_level=3)"
   ]
  },
  {
   "cell_type": "code",
   "execution_count": null,
   "metadata": {},
   "outputs": [
    {
     "data": {
      "text/markdown": [
       "---\n",
       "\n",
       "#### SimpleExponentialSmoothing.predict\n",
       "\n",
       ">      SimpleExponentialSmoothing.predict (h:int, X:numpy.ndarray=None)\n",
       "\n",
       "Predict with fitted SimpleExponentialSmoothing.\n",
       "\n",
       "**Parameters:**<br>\n",
       "`h`: int, forecast horizon.<br>\n",
       "\n",
       "**Returns:**<br>\n",
       "`forecasts`: dictionary, with entries 'mean' for point predictions and\n",
       "    'level_*' for probabilistic predictions.<br>"
      ],
      "text/plain": [
       "<nbdev.showdoc.BasicMarkdownRenderer>"
      ]
     },
     "execution_count": null,
     "metadata": {},
     "output_type": "execute_result"
    }
   ],
   "source": [
    "show_doc(SimpleExponentialSmoothing.predict, title_level=3)"
   ]
  },
  {
   "cell_type": "code",
   "execution_count": null,
   "metadata": {},
   "outputs": [
    {
     "data": {
      "text/markdown": [
       "---\n",
       "\n",
       "#### SimpleExponentialSmoothing.predict_in_sample\n",
       "\n",
       ">      SimpleExponentialSmoothing.predict_in_sample ()\n",
       "\n",
       "Access fitted SimpleExponentialSmoothing insample predictions.\n",
       "\n",
       "**Parameters:**<br>\n",
       "`level`: float list 0-100, confidence levels for prediction intervals.<br>\n",
       "\n",
       "**Returns:**<br>\n",
       "`forecasts`: dictionary, with entries 'mean' for point predictions and\n",
       "    'level_*' for probabilistic predictions.<br>"
      ],
      "text/plain": [
       "<nbdev.showdoc.BasicMarkdownRenderer>"
      ]
     },
     "execution_count": null,
     "metadata": {},
     "output_type": "execute_result"
    }
   ],
   "source": [
    "show_doc(SimpleExponentialSmoothing.predict_in_sample, title_level=3)"
   ]
  },
  {
   "cell_type": "code",
   "execution_count": null,
   "metadata": {},
   "outputs": [
    {
     "data": {
      "text/plain": [
       "{'mean': array([439.256, 439.256, 439.256, 439.256], dtype=float32)}"
      ]
     },
     "execution_count": null,
     "metadata": {},
     "output_type": "execute_result"
    }
   ],
   "source": [
    "# SimpleExponentialSmoothing's usage example\n",
    "\n",
    "from statsforecast.models import SimpleExponentialSmoothing\n",
    "from statsforecast.utils import AirPassengers as ap\n",
    "\n",
    "\n",
    "ses = SimpleExponentialSmoothing(alpha=0.5)\n",
    "ses = ses.fit(y=ap)\n",
    "y_hat_dict = ses.predict(h=4)\n",
    "y_hat_dict"
   ]
  },
  {
   "cell_type": "markdown",
   "metadata": {},
   "source": [
    "## SimpleSmoothOptimized"
   ]
  },
  {
   "cell_type": "code",
   "execution_count": null,
   "metadata": {},
   "outputs": [],
   "source": [
    "#| exporti\n",
    "def _ses_optimized(\n",
    "        y: np.ndarray, # time series\n",
    "        h: int, # forecasting horizon\n",
    "        fitted: bool, # fitted values\n",
    "    ):\n",
    "    fcst_, fitted_vals = _optimized_ses_forecast(y, [(0.01, 0.99)])\n",
    "    mean = _repeat_val(val=fcst_, h=h)\n",
    "    fcst = {'mean': mean}\n",
    "    if fitted:\n",
    "        fcst['fitted'] = fitted_vals\n",
    "    return fcst"
   ]
  },
  {
   "cell_type": "code",
   "execution_count": null,
   "metadata": {},
   "outputs": [],
   "source": [
    "#| export\n",
    "class SimpleExponentialSmoothingOptimized(_TS):\n",
    "    \"\"\"SimpleExponentialSmoothing model.\n",
    "    [Source code](https://github.com/Nixtla/statsforecast/blob/main/statsforecast/smoothing.py).\n",
    "\n",
    "    Uses a weighted average of all past observations where the weights decrease exponentially into the past. \n",
    "    Suitable for data with no clear trend or seasonality. \n",
    "    Assuming there are $t$ observations, the one-step forecast is given by: $\\hat{y}_{t+1} = \\\\alpha y_t + (1-\\\\alpha) \\hat{y}_{t-1}$\n",
    "\n",
    "    The smoothing parameter $\\\\alpha^*$ is optimized by square error minimization.\n",
    "\n",
    "    **Parameters:**<br>\n",
    "\n",
    "    **References:**<br>\n",
    "    [Charles C Holt (1957). “Forecasting seasonals and trends by exponentially weighted moving averages”](https://doi.org/10.1016/j.ijforecast).\n",
    "\n",
    "    \"\"\"\n",
    "    def __init__(self):\n",
    "        pass\n",
    "    \n",
    "    def __repr__(self):\n",
    "        return 'SESOpt'\n",
    "\n",
    "    def fit(\n",
    "            self,\n",
    "            y: np.ndarray,\n",
    "            X: np.ndarray = None\n",
    "        ):\n",
    "        \"\"\"Fit the SimpleExponentialSmoothingOptimized model.\n",
    "\n",
    "        Fit an SimpleExponentialSmoothingOptimized to a time series (numpy array) `y`\n",
    "        and optionally exogenous variables (numpy array) `X`.\n",
    "\n",
    "        **Parameters:**<br>\n",
    "        `y`: numpy array of shape (t, ), clean time series.<br>\n",
    "        `X`: array-like of shape (t, n_x) optional exogenous (default=None).<br>\n",
    "\n",
    "        **Returns:**<br>\n",
    "        `self`: SimpleExponentialSmoothingOptimized fitted model.\n",
    "        \"\"\"\n",
    "        mod = _ses_optimized(y=y, h=1, fitted=True)\n",
    "        self.model_ = dict(mod)\n",
    "        return self\n",
    "\n",
    "    def predict(\n",
    "            self,\n",
    "            h: int,\n",
    "            X: np.ndarray = None\n",
    "        ):\n",
    "        \"\"\"Predict with fitted SimpleExponentialSmoothingOptimized.\n",
    "\n",
    "        **Parameters:**<br>\n",
    "        `h`: int, forecast horizon.<br>\n",
    "\n",
    "        **Returns:**<br>\n",
    "        `forecasts`: dictionary, with entries 'mean' for point predictions and\n",
    "            'level_*' for probabilistic predictions.<br>\n",
    "        \"\"\"\n",
    "        mean = _repeat_val(val=self.model_['mean'][0], h=h)\n",
    "        res = {'mean': mean}\n",
    "        return res\n",
    "\n",
    "    def predict_in_sample(self):\n",
    "        \"\"\"Access fitted SimpleExponentialSmoothingOptimized insample predictions.\n",
    "\n",
    "        **Parameters:**<br>\n",
    "        `level`: float list 0-100, confidence levels for prediction intervals.<br>\n",
    "\n",
    "        **Returns:**<br>\n",
    "        `forecasts`: dictionary, with entries 'mean' for point predictions and\n",
    "            'level_*' for probabilistic predictions.<br>\n",
    "        \"\"\"\n",
    "        res = {'mean': self.model_['fitted']}\n",
    "        return res\n",
    "\n",
    "    def forecast(\n",
    "            self, \n",
    "            y: np.ndarray,\n",
    "            h: int,\n",
    "            X: np.ndarray = None,\n",
    "            X_future: np.ndarray = None,\n",
    "            fitted: bool = False,\n",
    "        ):\n",
    "        \"\"\"Memory Efficient SimpleExponentialSmoothingOptimized predictions.\n",
    "\n",
    "        This method avoids memory burden due from object storage.\n",
    "        It is analogous to `fit_predict` without storing information.\n",
    "        It assumes you know the forecast horizon in advance.\n",
    "\n",
    "        **Parameters:**<br>\n",
    "        `y`: numpy array of shape (n,), clean time series.<br>\n",
    "        `h`: int, forecast horizon.<br>\n",
    "        `level`: float list 0-100, confidence levels for prediction intervals.<br>\n",
    "        `fitted`: bool, wether or not returns insample predictions.<br>\n",
    "\n",
    "        **Returns:**<br>\n",
    "        `forecasts`: dictionary, with entries 'mean' for point predictions and\n",
    "            'level_*' for probabilistic predictions.<br>\n",
    "        \"\"\"\n",
    "        out = _ses_optimized(y=y, h=h, fitted=fitted)\n",
    "        return out"
   ]
  },
  {
   "cell_type": "code",
   "execution_count": null,
   "metadata": {},
   "outputs": [],
   "source": [
    "#| hide\n",
    "ses_op = SimpleExponentialSmoothingOptimized()\n",
    "test_class(ses_op, x=ap, h=12)"
   ]
  },
  {
   "cell_type": "code",
   "execution_count": null,
   "metadata": {},
   "outputs": [
    {
     "data": {
      "text/markdown": [
       "---\n",
       "\n",
       "### SimpleExponentialSmoothingOptimized\n",
       "\n",
       ">      SimpleExponentialSmoothingOptimized ()\n",
       "\n",
       "SimpleExponentialSmoothing model.\n",
       "[Source code](https://github.com/Nixtla/statsforecast/blob/main/statsforecast/smoothing.py).\n",
       "\n",
       "Uses a weighted average of all past observations where the weights decrease exponentially into the past. \n",
       "Suitable for data with no clear trend or seasonality. \n",
       "Assuming there are $t$ observations, the one-step forecast is given by: $\\hat{y}_{t+1} = \\alpha y_t + (1-\\alpha) \\hat{y}_{t-1}$\n",
       "\n",
       "The smoothing parameter $\\alpha^*$ is optimized by square error minimization.\n",
       "\n",
       "**Parameters:**<br>\n",
       "\n",
       "**References:**<br>\n",
       "[Charles C Holt (1957). “Forecasting seasonals and trends by exponentially weighted moving averages”](https://doi.org/10.1016/j.ijforecast)."
      ],
      "text/plain": [
       "<nbdev.showdoc.BasicMarkdownRenderer>"
      ]
     },
     "execution_count": null,
     "metadata": {},
     "output_type": "execute_result"
    }
   ],
   "source": [
    "show_doc(SimpleExponentialSmoothingOptimized, title_level=3)"
   ]
  },
  {
   "cell_type": "code",
   "execution_count": null,
   "metadata": {},
   "outputs": [
    {
     "data": {
      "text/markdown": [
       "---\n",
       "\n",
       "#### SimpleExponentialSmoothingOptimized.fit\n",
       "\n",
       ">      SimpleExponentialSmoothingOptimized.fit (y:numpy.ndarray,\n",
       ">                                               X:numpy.ndarray=None)\n",
       "\n",
       "Fit the SimpleExponentialSmoothingOptimized model.\n",
       "\n",
       "Fit an SimpleExponentialSmoothingOptimized to a time series (numpy array) `y`\n",
       "and optionally exogenous variables (numpy array) `X`.\n",
       "\n",
       "**Parameters:**<br>\n",
       "`y`: numpy array of shape (t, ), clean time series.<br>\n",
       "`X`: array-like of shape (t, n_x) optional exogenous (default=None).<br>\n",
       "\n",
       "**Returns:**<br>\n",
       "`self`: SimpleExponentialSmoothingOptimized fitted model."
      ],
      "text/plain": [
       "<nbdev.showdoc.BasicMarkdownRenderer>"
      ]
     },
     "execution_count": null,
     "metadata": {},
     "output_type": "execute_result"
    }
   ],
   "source": [
    "show_doc(SimpleExponentialSmoothingOptimized.fit, title_level=3)"
   ]
  },
  {
   "cell_type": "code",
   "execution_count": null,
   "metadata": {},
   "outputs": [
    {
     "data": {
      "text/markdown": [
       "---\n",
       "\n",
       "#### SimpleExponentialSmoothingOptimized.predict\n",
       "\n",
       ">      SimpleExponentialSmoothingOptimized.predict (h:int, X:numpy.ndarray=None)\n",
       "\n",
       "Predict with fitted SimpleExponentialSmoothingOptimized.\n",
       "\n",
       "**Parameters:**<br>\n",
       "`h`: int, forecast horizon.<br>\n",
       "\n",
       "**Returns:**<br>\n",
       "`forecasts`: dictionary, with entries 'mean' for point predictions and\n",
       "    'level_*' for probabilistic predictions.<br>"
      ],
      "text/plain": [
       "<nbdev.showdoc.BasicMarkdownRenderer>"
      ]
     },
     "execution_count": null,
     "metadata": {},
     "output_type": "execute_result"
    }
   ],
   "source": [
    "show_doc(SimpleExponentialSmoothingOptimized.predict, title_level=3)"
   ]
  },
  {
   "cell_type": "code",
   "execution_count": null,
   "metadata": {},
   "outputs": [
    {
     "data": {
      "text/markdown": [
       "---\n",
       "\n",
       "#### SimpleExponentialSmoothingOptimized.predict_in_sample\n",
       "\n",
       ">      SimpleExponentialSmoothingOptimized.predict_in_sample ()\n",
       "\n",
       "Access fitted SimpleExponentialSmoothingOptimized insample predictions.\n",
       "\n",
       "**Parameters:**<br>\n",
       "`level`: float list 0-100, confidence levels for prediction intervals.<br>\n",
       "\n",
       "**Returns:**<br>\n",
       "`forecasts`: dictionary, with entries 'mean' for point predictions and\n",
       "    'level_*' for probabilistic predictions.<br>"
      ],
      "text/plain": [
       "<nbdev.showdoc.BasicMarkdownRenderer>"
      ]
     },
     "execution_count": null,
     "metadata": {},
     "output_type": "execute_result"
    }
   ],
   "source": [
    "show_doc(SimpleExponentialSmoothingOptimized.predict_in_sample, title_level=3)"
   ]
  },
  {
   "cell_type": "code",
   "execution_count": null,
   "metadata": {},
   "outputs": [
    {
     "data": {
      "text/markdown": [
       "---\n",
       "\n",
       "#### SimpleExponentialSmoothingOptimized.forecast\n",
       "\n",
       ">      SimpleExponentialSmoothingOptimized.forecast (y:numpy.ndarray, h:int,\n",
       ">                                                    X:numpy.ndarray=None, X_fut\n",
       ">                                                    ure:numpy.ndarray=None,\n",
       ">                                                    fitted:bool=False)\n",
       "\n",
       "Memory Efficient SimpleExponentialSmoothingOptimized predictions.\n",
       "\n",
       "This method avoids memory burden due from object storage.\n",
       "It is analogous to `fit_predict` without storing information.\n",
       "It assumes you know the forecast horizon in advance.\n",
       "\n",
       "**Parameters:**<br>\n",
       "`y`: numpy array of shape (n,), clean time series.<br>\n",
       "`h`: int, forecast horizon.<br>\n",
       "`level`: float list 0-100, confidence levels for prediction intervals.<br>\n",
       "`fitted`: bool, wether or not returns insample predictions.<br>\n",
       "\n",
       "**Returns:**<br>\n",
       "`forecasts`: dictionary, with entries 'mean' for point predictions and\n",
       "    'level_*' for probabilistic predictions.<br>"
      ],
      "text/plain": [
       "<nbdev.showdoc.BasicMarkdownRenderer>"
      ]
     },
     "execution_count": null,
     "metadata": {},
     "output_type": "execute_result"
    }
   ],
   "source": [
    "show_doc(SimpleExponentialSmoothingOptimized.forecast, title_level=3)"
   ]
  },
  {
   "cell_type": "code",
   "execution_count": null,
   "metadata": {},
   "outputs": [
    {
     "data": {
      "text/plain": [
       "{'mean': array([431.58716, 431.58716, 431.58716, 431.58716], dtype=float32)}"
      ]
     },
     "execution_count": null,
     "metadata": {},
     "output_type": "execute_result"
    }
   ],
   "source": [
    "# SimpleExponentialSmoothingOptimized's usage example\n",
    "\n",
    "from statsforecast.models import SimpleExponentialSmoothingOptimized\n",
    "from statsforecast.utils import AirPassengers as ap\n",
    "\n",
    "\n",
    "seso = SimpleExponentialSmoothingOptimized()\n",
    "seso = seso.fit(y=ap)\n",
    "y_hat_dict = seso.predict(h=4)\n",
    "y_hat_dict"
   ]
  },
  {
   "cell_type": "markdown",
   "metadata": {},
   "source": [
    "## SeasonalSmooth"
   ]
  },
  {
   "cell_type": "code",
   "execution_count": null,
   "metadata": {},
   "outputs": [],
   "source": [
    "#| exporti\n",
    "@njit\n",
    "def _seasonal_exponential_smoothing(\n",
    "        y: np.ndarray, # time series\n",
    "        h: int, # forecasting horizon\n",
    "        fitted: bool, # fitted values\n",
    "        season_length: int, # length of season\n",
    "        alpha: float, # smoothing parameter\n",
    "    ):\n",
    "    if y.size < season_length:\n",
    "        return {'mean': np.full(h, np.nan, np.float32)}\n",
    "    season_vals = np.empty(season_length, np.float32)\n",
    "    fitted_vals = np.full(y.size, np.nan, np.float32)\n",
    "    for i in range(season_length):\n",
    "        season_vals[i], fitted_vals[i::season_length] = _ses_forecast(y[i::season_length], alpha)\n",
    "    out = _repeat_val_seas(season_vals=season_vals, h=h, season_length=season_length)\n",
    "    fcst = {'mean': out}\n",
    "    if fitted:\n",
    "        fcst['fitted'] = fitted_vals\n",
    "    return fcst"
   ]
  },
  {
   "cell_type": "code",
   "execution_count": null,
   "metadata": {},
   "outputs": [],
   "source": [
    "#| export\n",
    "class SeasonalExponentialSmoothing(_TS):\n",
    "    \"\"\"SeasonalExponentialSmoothing model.\n",
    "    [Source code](https://github.com/Nixtla/statsforecast/blob/main/statsforecast/smoothing.py).\n",
    "\n",
    "    Uses a weighted average of all past observations where the weights decrease exponentially into the past. \n",
    "    Suitable for data with no clear trend or seasonality. \n",
    "    Assuming there are $t$ observations and season $s$, the one-step forecast is given by: \n",
    "    $\\hat{y}_{t+1,s} = \\\\alpha y_t + (1-\\\\alpha) \\hat{y}_{t-1,s}$\n",
    "\n",
    "    **Note:**<br>\n",
    "    This method is an extremely simplified of Holt-Winter's method where the trend and level are set to zero.\n",
    "    And a single seasonal smoothing parameter $\\\\alpha$ is shared across seasons.\n",
    "\n",
    "    **Parameters:**<br>\n",
    "    `alpha`: float, smoothing parameter.<br>\n",
    "    `season_length`: int, number of observations per unit of time. Ex: 24 Hourly data.<br>    \n",
    "\n",
    "    **References:**<br>\n",
    "    [Charles. C. Holt (1957). \"Forecasting seasonals and trends by exponentially weighted moving averages\", ONR Research Memorandum, Carnegie Institute of Technology 52.](https://www.sciencedirect.com/science/article/abs/pii/S0169207003001134).\n",
    "\n",
    "    [Peter R. Winters (1960). \"Forecasting sales by exponentially weighted moving averages\". Management Science](https://pubsonline.informs.org/doi/abs/10.1287/mnsc.6.3.324).\n",
    "    \"\"\"\n",
    "    def __init__(\n",
    "            self, \n",
    "            season_length: int,\n",
    "            alpha: float,\n",
    "        ):\n",
    "        self.season_length = season_length\n",
    "        self.alpha = alpha\n",
    "    \n",
    "    def __repr__(self):\n",
    "        return 'SeasonalES'\n",
    "    \n",
    "    def fit(\n",
    "            self,\n",
    "            y: np.ndarray,\n",
    "            X: np.ndarray = None\n",
    "        ):\n",
    "        \"\"\"Fit the SeasonalExponentialSmoothing model.\n",
    "\n",
    "        Fit an SeasonalExponentialSmoothing to a time series (numpy array) `y`\n",
    "        and optionally exogenous variables (numpy array) `X`.\n",
    "\n",
    "        **Parameters:**<br>\n",
    "        `y`: numpy array of shape (t, ), clean time series.<br>\n",
    "        `X`: array-like of shape (t, n_x) optional exogenous (default=None).<br>\n",
    "\n",
    "        **Returns:**<br>\n",
    "        `self`: SeasonalExponentialSmoothing fitted model.\n",
    "        \"\"\"\n",
    "        mod = _seasonal_exponential_smoothing(\n",
    "            y=y, \n",
    "            season_length=self.season_length, \n",
    "            alpha=self.alpha,\n",
    "            fitted=True,\n",
    "            h=self.season_length,\n",
    "        )\n",
    "        self.model_ = dict(mod)\n",
    "        return self\n",
    "        \n",
    "    def predict(\n",
    "            self,\n",
    "            h: int,\n",
    "            X: np.ndarray = None\n",
    "        ):\n",
    "        \"\"\"Predict with fitted SeasonalExponentialSmoothing.\n",
    "\n",
    "        **Parameters:**<br>\n",
    "        `h`: int, forecast horizon.<br>\n",
    "\n",
    "        **Returns:**<br>\n",
    "        `forecasts`: dictionary, with entries 'mean' for point predictions and\n",
    "            'level_*' for probabilistic predictions.<br>\n",
    "        \"\"\"\n",
    "        mean = _repeat_val_seas(self.model_['mean'], season_length=self.season_length, h=h)\n",
    "        res = {'mean': mean}\n",
    "        return res\n",
    "    \n",
    "    def predict_in_sample(self):\n",
    "        \"\"\"Access fitted SeasonalExponentialSmoothing insample predictions.\n",
    "\n",
    "        **Parameters:**<br>\n",
    "        `level`: float list 0-100, confidence levels for prediction intervals.<br>\n",
    "\n",
    "        **Returns:**<br>\n",
    "        `forecasts`: dictionary, with entries 'mean' for point predictions and\n",
    "            'level_*' for probabilistic predictions.<br>\n",
    "        \"\"\"\n",
    "        res = {'mean': self.model_['fitted']}\n",
    "        return res\n",
    "    \n",
    "    def forecast(\n",
    "            self, \n",
    "            y: np.ndarray,\n",
    "            h: int,\n",
    "            X: np.ndarray = None,\n",
    "            X_future: np.ndarray = None,\n",
    "            fitted: bool = False,\n",
    "        ):\n",
    "        \"\"\"Memory Efficient SeasonalExponentialSmoothing predictions.\n",
    "\n",
    "        This method avoids memory burden due from object storage.\n",
    "        It is analogous to `fit_predict` without storing information.\n",
    "        It assumes you know the forecast horizon in advance.\n",
    "\n",
    "        **Parameters:**<br>\n",
    "        `y`: numpy array of shape (n,), clean time series.<br>\n",
    "        `h`: int, forecast horizon.<br>\n",
    "        `level`: float list 0-100, confidence levels for prediction intervals.<br>\n",
    "        `fitted`: bool, wether or not returns insample predictions.<br>\n",
    "\n",
    "        **Returns:**<br>\n",
    "        `forecasts`: dictionary, with entries 'mean' for point predictions and\n",
    "            'level_*' for probabilistic predictions.<br>\n",
    "        \"\"\"\n",
    "        out = _seasonal_exponential_smoothing(\n",
    "            y=y, h=h, fitted=fitted, \n",
    "            alpha=self.alpha,\n",
    "            season_length=self.season_length\n",
    "        )\n",
    "        return out"
   ]
  },
  {
   "cell_type": "code",
   "execution_count": null,
   "metadata": {},
   "outputs": [],
   "source": [
    "#| hide\n",
    "seas_es = SeasonalExponentialSmoothing(season_length=12, alpha=1.)\n",
    "test_class(seas_es, x=ap, h=12)\n",
    "test_eq(seas_es.predict_in_sample()['mean'][-3:],  np.array([461 - 54., 390 - 28., 432 - 27.]))"
   ]
  },
  {
   "cell_type": "code",
   "execution_count": null,
   "metadata": {},
   "outputs": [
    {
     "data": {
      "text/markdown": [
       "---\n",
       "\n",
       "### SeasonalExponentialSmoothing\n",
       "\n",
       ">      SeasonalExponentialSmoothing (season_length:int, alpha:float)\n",
       "\n",
       "SeasonalExponentialSmoothing model.\n",
       "[Source code](https://github.com/Nixtla/statsforecast/blob/main/statsforecast/smoothing.py).\n",
       "\n",
       "Uses a weighted average of all past observations where the weights decrease exponentially into the past. \n",
       "Suitable for data with no clear trend or seasonality. \n",
       "Assuming there are $t$ observations and season $s$, the one-step forecast is given by: \n",
       "$\\hat{y}_{t+1,s} = \\alpha y_t + (1-\\alpha) \\hat{y}_{t-1,s}$\n",
       "\n",
       "**Note:**<br>\n",
       "This method is an extremely simplified of Holt-Winter's method where the trend and level are set to zero.\n",
       "And a single seasonal smoothing parameter $\\alpha$ is shared across seasons.\n",
       "\n",
       "**Parameters:**<br>\n",
       "`alpha`: float, smoothing parameter.<br>\n",
       "`season_length`: int, number of observations per unit of time. Ex: 24 Hourly data.<br>    \n",
       "\n",
       "**References:**<br>\n",
       "[Charles. C. Holt (1957). \"Forecasting seasonals and trends by exponentially weighted moving averages\", ONR Research Memorandum, Carnegie Institute of Technology 52.](https://www.sciencedirect.com/science/article/abs/pii/S0169207003001134).\n",
       "\n",
       "[Peter R. Winters (1960). \"Forecasting sales by exponentially weighted moving averages\". Management Science](https://pubsonline.informs.org/doi/abs/10.1287/mnsc.6.3.324)."
      ],
      "text/plain": [
       "<nbdev.showdoc.BasicMarkdownRenderer>"
      ]
     },
     "execution_count": null,
     "metadata": {},
     "output_type": "execute_result"
    }
   ],
   "source": [
    "show_doc(SeasonalExponentialSmoothing, title_level=3)"
   ]
  },
  {
   "cell_type": "code",
   "execution_count": null,
   "metadata": {},
   "outputs": [
    {
     "data": {
      "text/markdown": [
       "---\n",
       "\n",
       "#### SeasonalExponentialSmoothing.fit\n",
       "\n",
       ">      SeasonalExponentialSmoothing.fit (y:numpy.ndarray, X:numpy.ndarray=None)\n",
       "\n",
       "Fit the SeasonalExponentialSmoothing model.\n",
       "\n",
       "Fit an SeasonalExponentialSmoothing to a time series (numpy array) `y`\n",
       "and optionally exogenous variables (numpy array) `X`.\n",
       "\n",
       "**Parameters:**<br>\n",
       "`y`: numpy array of shape (t, ), clean time series.<br>\n",
       "`X`: array-like of shape (t, n_x) optional exogenous (default=None).<br>\n",
       "\n",
       "**Returns:**<br>\n",
       "`self`: SeasonalExponentialSmoothing fitted model."
      ],
      "text/plain": [
       "<nbdev.showdoc.BasicMarkdownRenderer>"
      ]
     },
     "execution_count": null,
     "metadata": {},
     "output_type": "execute_result"
    }
   ],
   "source": [
    "show_doc(SeasonalExponentialSmoothing.fit, title_level=3)"
   ]
  },
  {
   "cell_type": "code",
   "execution_count": null,
   "metadata": {},
   "outputs": [
    {
     "data": {
      "text/markdown": [
       "---\n",
       "\n",
       "#### SeasonalExponentialSmoothing.predict\n",
       "\n",
       ">      SeasonalExponentialSmoothing.predict (h:int, X:numpy.ndarray=None)\n",
       "\n",
       "Predict with fitted SeasonalExponentialSmoothing.\n",
       "\n",
       "**Parameters:**<br>\n",
       "`h`: int, forecast horizon.<br>\n",
       "\n",
       "**Returns:**<br>\n",
       "`forecasts`: dictionary, with entries 'mean' for point predictions and\n",
       "    'level_*' for probabilistic predictions.<br>"
      ],
      "text/plain": [
       "<nbdev.showdoc.BasicMarkdownRenderer>"
      ]
     },
     "execution_count": null,
     "metadata": {},
     "output_type": "execute_result"
    }
   ],
   "source": [
    "show_doc(SeasonalExponentialSmoothing.predict, title_level=3)"
   ]
  },
  {
   "cell_type": "code",
   "execution_count": null,
   "metadata": {},
   "outputs": [
    {
     "data": {
      "text/markdown": [
       "---\n",
       "\n",
       "#### SeasonalExponentialSmoothing.predict_in_sample\n",
       "\n",
       ">      SeasonalExponentialSmoothing.predict_in_sample ()\n",
       "\n",
       "Access fitted SeasonalExponentialSmoothing insample predictions.\n",
       "\n",
       "**Parameters:**<br>\n",
       "`level`: float list 0-100, confidence levels for prediction intervals.<br>\n",
       "\n",
       "**Returns:**<br>\n",
       "`forecasts`: dictionary, with entries 'mean' for point predictions and\n",
       "    'level_*' for probabilistic predictions.<br>"
      ],
      "text/plain": [
       "<nbdev.showdoc.BasicMarkdownRenderer>"
      ]
     },
     "execution_count": null,
     "metadata": {},
     "output_type": "execute_result"
    }
   ],
   "source": [
    "show_doc(SeasonalExponentialSmoothing.predict_in_sample, title_level=3)"
   ]
  },
  {
   "cell_type": "code",
   "execution_count": null,
   "metadata": {},
   "outputs": [
    {
     "data": {
      "text/markdown": [
       "---\n",
       "\n",
       "#### SeasonalExponentialSmoothing.forecast\n",
       "\n",
       ">      SeasonalExponentialSmoothing.forecast (y:numpy.ndarray, h:int,\n",
       ">                                             X:numpy.ndarray=None,\n",
       ">                                             X_future:numpy.ndarray=None,\n",
       ">                                             fitted:bool=False)\n",
       "\n",
       "Memory Efficient SeasonalExponentialSmoothing predictions.\n",
       "\n",
       "This method avoids memory burden due from object storage.\n",
       "It is analogous to `fit_predict` without storing information.\n",
       "It assumes you know the forecast horizon in advance.\n",
       "\n",
       "**Parameters:**<br>\n",
       "`y`: numpy array of shape (n,), clean time series.<br>\n",
       "`h`: int, forecast horizon.<br>\n",
       "`level`: float list 0-100, confidence levels for prediction intervals.<br>\n",
       "`fitted`: bool, wether or not returns insample predictions.<br>\n",
       "\n",
       "**Returns:**<br>\n",
       "`forecasts`: dictionary, with entries 'mean' for point predictions and\n",
       "    'level_*' for probabilistic predictions.<br>"
      ],
      "text/plain": [
       "<nbdev.showdoc.BasicMarkdownRenderer>"
      ]
     },
     "execution_count": null,
     "metadata": {},
     "output_type": "execute_result"
    }
   ],
   "source": [
    "show_doc(SeasonalExponentialSmoothing.forecast, title_level=3)"
   ]
  },
  {
   "cell_type": "code",
   "execution_count": null,
   "metadata": {},
   "outputs": [
    {
     "data": {
      "text/plain": [
       "{'mean': array([376.28955, 354.71094, 396.02002, 412.06738], dtype=float32)}"
      ]
     },
     "execution_count": null,
     "metadata": {},
     "output_type": "execute_result"
    }
   ],
   "source": [
    "# SeasonalExponentialSmoothing's usage example\n",
    "\n",
    "from statsforecast.models import SeasonalExponentialSmoothing\n",
    "from statsforecast.utils import AirPassengers as ap\n",
    "\n",
    "\n",
    "model = SeasonalExponentialSmoothing(alpha=0.5, season_length=12)\n",
    "model = model.fit(y=ap)\n",
    "y_hat_dict = model.predict(h=4)\n",
    "y_hat_dict"
   ]
  },
  {
   "cell_type": "markdown",
   "metadata": {},
   "source": [
    "## SeasonalSmoothOptimized"
   ]
  },
  {
   "cell_type": "code",
   "execution_count": null,
   "metadata": {},
   "outputs": [],
   "source": [
    "#| exporti\n",
    "def _seasonal_ses_optimized(\n",
    "        y: np.ndarray, # time series\n",
    "        h: int, # forecasting horizon\n",
    "        fitted: bool , # fitted values\n",
    "        season_length: int, # season length\n",
    "    ): \n",
    "    if y.size < season_length:\n",
    "        return {'mean': np.full(h, np.nan, np.float32)}\n",
    "    season_vals = np.empty(season_length, np.float32)\n",
    "    fitted_vals = np.full(y.size, np.nan, np.float32)\n",
    "    for i in range(season_length):\n",
    "        season_vals[i], fitted_vals[i::season_length] = _optimized_ses_forecast(y[i::season_length], [(0.01, 0.99)])\n",
    "    out = _repeat_val_seas(season_vals=season_vals, h=h, season_length=season_length)\n",
    "    fcst = {'mean': out}\n",
    "    if fitted:\n",
    "        fcst['fitted'] = fitted_vals\n",
    "    return fcst"
   ]
  },
  {
   "cell_type": "code",
   "execution_count": null,
   "metadata": {},
   "outputs": [],
   "source": [
    "#| export\n",
    "class SeasonalExponentialSmoothingOptimized(_TS):\n",
    "    \n",
    "    def __init__(\n",
    "            self, \n",
    "            season_length: int,\n",
    "        ):\n",
    "        \"\"\"SeasonalExponentialSmoothingOptimized model.\n",
    "        [Source code](https://github.com/Nixtla/statsforecast/blob/main/statsforecast/smoothing.py).\n",
    "\n",
    "        Uses a weighted average of all past observations where the weights decrease exponentially into the past. \n",
    "        Suitable for data with no clear trend or seasonality. \n",
    "        Assuming there are $t$ observations and season $s$, the one-step forecast is given by: \n",
    "        $\\hat{y}_{t+1,s} = \\\\alpha y_t + (1-\\\\alpha) \\hat{y}_{t-1,s}$\n",
    "        \n",
    "        The smoothing parameter $\\\\alpha^*$ is optimized by square error minimization.        \n",
    "\n",
    "        **Note:**<br>\n",
    "        This method is an extremely simplified of Holt-Winter's method where the trend and level are set to zero.\n",
    "        And a single seasonal smoothing parameter $\\\\alpha$ is shared across seasons.\n",
    "\n",
    "        **Parameters:**<br>\n",
    "        `season_length`: int, number of observations per unit of time. Ex: 24 Hourly data.<br>\n",
    "\n",
    "        **References:**<br>\n",
    "        [Charles. C. Holt (1957). \"Forecasting seasonals and trends by exponentially weighted moving averages\", ONR Research Memorandum, Carnegie Institute of Technology 52.](https://www.sciencedirect.com/science/article/abs/pii/S0169207003001134).\n",
    "\n",
    "        [Peter R. Winters (1960). \"Forecasting sales by exponentially weighted moving averages\". Management Science](https://pubsonline.informs.org/doi/abs/10.1287/mnsc.6.3.324).\n",
    "        \"\"\"\n",
    "        self.season_length = season_length\n",
    "\n",
    "    def __repr__(self):\n",
    "        return 'SeasESOpt'\n",
    "\n",
    "    def fit(\n",
    "            self,\n",
    "            y: np.ndarray,\n",
    "            X: np.ndarray = None\n",
    "        ):\n",
    "        \"\"\"Fit the SeasonalExponentialSmoothingOptimized model.\n",
    "\n",
    "        Fit an SeasonalExponentialSmoothingOptimized to a time series (numpy array) `y`\n",
    "        and optionally exogenous variables (numpy array) `X`.\n",
    "\n",
    "        **Parameters:**<br>\n",
    "        `y`: numpy array of shape (t, ), clean time series.<br>\n",
    "        `X`: array-like of shape (t, n_x) optional exogenous (default=None).<br>\n",
    "\n",
    "        **Returns:**<br>\n",
    "        `self`: SeasonalExponentialSmoothingOptimized fitted model.\n",
    "        \"\"\"\n",
    "        mod = _seasonal_ses_optimized(\n",
    "            y=y, \n",
    "            season_length=self.season_length, \n",
    "            fitted=True,\n",
    "            h=self.season_length,\n",
    "        )\n",
    "        self.model_ = dict(mod)\n",
    "        return self\n",
    "        \n",
    "    def predict(\n",
    "            self,\n",
    "            h: int,\n",
    "            X: np.ndarray = None\n",
    "        ):\n",
    "        \"\"\"Predict with fitted SeasonalExponentialSmoothingOptimized.\n",
    "\n",
    "        **Parameters:**<br>\n",
    "        `h`: int, forecast horizon.<br>\n",
    "\n",
    "        **Returns:**<br>\n",
    "        `forecasts`: dictionary, with entries 'mean' for point predictions and\n",
    "            'level_*' for probabilistic predictions.<br>\n",
    "        \"\"\"\n",
    "        mean = _repeat_val_seas(self.model_['mean'], season_length=self.season_length, h=h)\n",
    "        res = {'mean': mean}\n",
    "        return res\n",
    "    \n",
    "    def predict_in_sample(self):\n",
    "        \"\"\"Access fitted SeasonalExponentialSmoothingOptimized insample predictions.\n",
    "\n",
    "        **Parameters:**<br>\n",
    "        `level`: float list 0-100, confidence levels for prediction intervals.<br>\n",
    "\n",
    "        **Returns:**<br>\n",
    "        `forecasts`: dictionary, with entries 'mean' for point predictions and\n",
    "            'level_*' for probabilistic predictions.<br>\n",
    "        \"\"\"\n",
    "        res = {'mean': self.model_['fitted']}\n",
    "        return res\n",
    "    \n",
    "    def forecast(\n",
    "            self, \n",
    "            y: np.ndarray,\n",
    "            h: int,\n",
    "            X: np.ndarray = None,\n",
    "            X_future: np.ndarray = None,\n",
    "            fitted: bool = False,\n",
    "        ):\n",
    "        \"\"\"Memory Efficient SeasonalExponentialSmoothingOptimized predictions.\n",
    "\n",
    "        This method avoids memory burden due from object storage.\n",
    "        It is analogous to `fit_predict` without storing information.\n",
    "        It assumes you know the forecast horizon in advance.\n",
    "\n",
    "        **Parameters:**<br>\n",
    "        `y`: numpy array of shape (n,), clean time series.<br>\n",
    "        `h`: int, forecast horizon.<br>\n",
    "        `level`: float list 0-100, confidence levels for prediction intervals.<br>\n",
    "        `fitted`: bool, wether or not returns insample predictions.<br>\n",
    "\n",
    "        **Returns:**<br>\n",
    "        `forecasts`: dictionary, with entries 'mean' for point predictions and\n",
    "            'level_*' for probabilistic predictions.<br>\n",
    "        \"\"\"\n",
    "        out = _seasonal_ses_optimized(\n",
    "            y=y, h=h, fitted=fitted, \n",
    "            season_length=self.season_length\n",
    "        )\n",
    "        return out"
   ]
  },
  {
   "cell_type": "code",
   "execution_count": null,
   "metadata": {},
   "outputs": [],
   "source": [
    "#| hide\n",
    "seas_es_opt = SeasonalExponentialSmoothingOptimized(season_length=12)\n",
    "test_class(seas_es_opt, x=ap, h=12)"
   ]
  },
  {
   "cell_type": "code",
   "execution_count": null,
   "metadata": {},
   "outputs": [
    {
     "data": {
      "text/markdown": [
       "---\n",
       "\n",
       "### SeasonalExponentialSmoothingOptimized\n",
       "\n",
       ">      SeasonalExponentialSmoothingOptimized (season_length:int)\n",
       "\n",
       "SeasonalExponentialSmoothingOptimized model.\n",
       "[Source code](https://github.com/Nixtla/statsforecast/blob/main/statsforecast/smoothing.py).\n",
       "\n",
       "Uses a weighted average of all past observations where the weights decrease exponentially into the past. \n",
       "Suitable for data with no clear trend or seasonality. \n",
       "Assuming there are $t$ observations and season $s$, the one-step forecast is given by: \n",
       "$\\hat{y}_{t+1,s} = \\alpha y_t + (1-\\alpha) \\hat{y}_{t-1,s}$\n",
       "\n",
       "The smoothing parameter $\\alpha^*$ is optimized by square error minimization.        \n",
       "\n",
       "**Note:**<br>\n",
       "This method is an extremely simplified of Holt-Winter's method where the trend and level are set to zero.\n",
       "And a single seasonal smoothing parameter $\\alpha$ is shared across seasons.\n",
       "\n",
       "**Parameters:**<br>\n",
       "`season_length`: int, number of observations per unit of time. Ex: 24 Hourly data.<br>\n",
       "\n",
       "**References:**<br>\n",
       "[Charles. C. Holt (1957). \"Forecasting seasonals and trends by exponentially weighted moving averages\", ONR Research Memorandum, Carnegie Institute of Technology 52.](https://www.sciencedirect.com/science/article/abs/pii/S0169207003001134).\n",
       "\n",
       "[Peter R. Winters (1960). \"Forecasting sales by exponentially weighted moving averages\". Management Science](https://pubsonline.informs.org/doi/abs/10.1287/mnsc.6.3.324)."
      ],
      "text/plain": [
       "<nbdev.showdoc.BasicMarkdownRenderer>"
      ]
     },
     "execution_count": null,
     "metadata": {},
     "output_type": "execute_result"
    }
   ],
   "source": [
    "show_doc(SeasonalExponentialSmoothingOptimized, title_level=3)"
   ]
  },
  {
   "cell_type": "code",
   "execution_count": null,
   "metadata": {},
   "outputs": [
    {
     "data": {
      "text/markdown": [
       "---\n",
       "\n",
       "#### SeasonalExponentialSmoothingOptimized.forecast\n",
       "\n",
       ">      SeasonalExponentialSmoothingOptimized.forecast (y:numpy.ndarray, h:int,\n",
       ">                                                      X:numpy.ndarray=None, X_f\n",
       ">                                                      uture:numpy.ndarray=None,\n",
       ">                                                      fitted:bool=False)\n",
       "\n",
       "Memory Efficient SeasonalExponentialSmoothingOptimized predictions.\n",
       "\n",
       "This method avoids memory burden due from object storage.\n",
       "It is analogous to `fit_predict` without storing information.\n",
       "It assumes you know the forecast horizon in advance.\n",
       "\n",
       "**Parameters:**<br>\n",
       "`y`: numpy array of shape (n,), clean time series.<br>\n",
       "`h`: int, forecast horizon.<br>\n",
       "`level`: float list 0-100, confidence levels for prediction intervals.<br>\n",
       "`fitted`: bool, wether or not returns insample predictions.<br>\n",
       "\n",
       "**Returns:**<br>\n",
       "`forecasts`: dictionary, with entries 'mean' for point predictions and\n",
       "    'level_*' for probabilistic predictions.<br>"
      ],
      "text/plain": [
       "<nbdev.showdoc.BasicMarkdownRenderer>"
      ]
     },
     "execution_count": null,
     "metadata": {},
     "output_type": "execute_result"
    }
   ],
   "source": [
    "show_doc(SeasonalExponentialSmoothingOptimized.forecast, title_level=3)"
   ]
  },
  {
   "cell_type": "code",
   "execution_count": null,
   "metadata": {},
   "outputs": [
    {
     "data": {
      "text/markdown": [
       "---\n",
       "\n",
       "#### SeasonalExponentialSmoothingOptimized.fit\n",
       "\n",
       ">      SeasonalExponentialSmoothingOptimized.fit (y:numpy.ndarray,\n",
       ">                                                 X:numpy.ndarray=None)\n",
       "\n",
       "Fit the SeasonalExponentialSmoothingOptimized model.\n",
       "\n",
       "Fit an SeasonalExponentialSmoothingOptimized to a time series (numpy array) `y`\n",
       "and optionally exogenous variables (numpy array) `X`.\n",
       "\n",
       "**Parameters:**<br>\n",
       "`y`: numpy array of shape (t, ), clean time series.<br>\n",
       "`X`: array-like of shape (t, n_x) optional exogenous (default=None).<br>\n",
       "\n",
       "**Returns:**<br>\n",
       "`self`: SeasonalExponentialSmoothingOptimized fitted model."
      ],
      "text/plain": [
       "<nbdev.showdoc.BasicMarkdownRenderer>"
      ]
     },
     "execution_count": null,
     "metadata": {},
     "output_type": "execute_result"
    }
   ],
   "source": [
    "show_doc(SeasonalExponentialSmoothingOptimized.fit, title_level=3)"
   ]
  },
  {
   "cell_type": "code",
   "execution_count": null,
   "metadata": {},
   "outputs": [
    {
     "data": {
      "text/markdown": [
       "---\n",
       "\n",
       "#### SeasonalExponentialSmoothingOptimized.predict\n",
       "\n",
       ">      SeasonalExponentialSmoothingOptimized.predict (h:int,\n",
       ">                                                     X:numpy.ndarray=None)\n",
       "\n",
       "Predict with fitted SeasonalExponentialSmoothingOptimized.\n",
       "\n",
       "**Parameters:**<br>\n",
       "`h`: int, forecast horizon.<br>\n",
       "\n",
       "**Returns:**<br>\n",
       "`forecasts`: dictionary, with entries 'mean' for point predictions and\n",
       "    'level_*' for probabilistic predictions.<br>"
      ],
      "text/plain": [
       "<nbdev.showdoc.BasicMarkdownRenderer>"
      ]
     },
     "execution_count": null,
     "metadata": {},
     "output_type": "execute_result"
    }
   ],
   "source": [
    "show_doc(SeasonalExponentialSmoothingOptimized.predict, title_level=3)"
   ]
  },
  {
   "cell_type": "code",
   "execution_count": null,
   "metadata": {},
   "outputs": [
    {
     "data": {
      "text/markdown": [
       "---\n",
       "\n",
       "#### SeasonalExponentialSmoothingOptimized.predict_in_sample\n",
       "\n",
       ">      SeasonalExponentialSmoothingOptimized.predict_in_sample ()\n",
       "\n",
       "Access fitted SeasonalExponentialSmoothingOptimized insample predictions.\n",
       "\n",
       "**Parameters:**<br>\n",
       "`level`: float list 0-100, confidence levels for prediction intervals.<br>\n",
       "\n",
       "**Returns:**<br>\n",
       "`forecasts`: dictionary, with entries 'mean' for point predictions and\n",
       "    'level_*' for probabilistic predictions.<br>"
      ],
      "text/plain": [
       "<nbdev.showdoc.BasicMarkdownRenderer>"
      ]
     },
     "execution_count": null,
     "metadata": {},
     "output_type": "execute_result"
    }
   ],
   "source": [
    "show_doc(SeasonalExponentialSmoothingOptimized.predict_in_sample, title_level=3)"
   ]
  },
  {
   "cell_type": "code",
   "execution_count": null,
   "metadata": {},
   "outputs": [
    {
     "data": {
      "text/plain": [
       "{'mean': array([416.42798, 390.50757, 418.8656 , 460.3452 ], dtype=float32)}"
      ]
     },
     "execution_count": null,
     "metadata": {},
     "output_type": "execute_result"
    }
   ],
   "source": [
    "# SeasonalExponentialSmoothingOptimized's usage example\n",
    "\n",
    "from statsforecast.models import SeasonalExponentialSmoothingOptimized\n",
    "from statsforecast.utils import AirPassengers as ap\n",
    "\n",
    "\n",
    "model = SeasonalExponentialSmoothingOptimized(season_length=12)\n",
    "model = model.fit(y=ap)\n",
    "y_hat_dict = model.predict(h=4)\n",
    "y_hat_dict"
   ]
  },
  {
   "cell_type": "markdown",
   "metadata": {},
   "source": [
    "## Holt's method "
   ]
  },
  {
   "cell_type": "code",
   "execution_count": null,
   "metadata": {},
   "outputs": [],
   "source": [
    "#|export\n",
    "class Holt(ETS): \n",
    "    \"\"\" Holt's method. \n",
    "\n",
    "    Also known as double exponential smoothing, Holt's method is an extension of exponential smoothing for series with a trend.\n",
    "    This implementation returns the corresponding `ETS` model with additive (A) or multiplicative (M) errors (so either 'AAN' or 'MAN'). \n",
    "\n",
    "    **Parameters:**<br>\n",
    "     `season_length`: int, number of observations per unit of time. Ex: 12 Monthly data. <br>  \n",
    "     `error_type`: The type of error of the ETS model. Can be additive (A) or multiplicative (M). <br> \n",
    "\n",
    "    **References:**<br>\n",
    "    - [Rob J. Hyndman and George Athanasopoulos (2018). \"Forecasting principles and practice, Methods with trend\"](https://otexts.com/fpp3/holt.html).\n",
    "    \"\"\"\n",
    "\n",
    "    def __init__(\n",
    "            self, \n",
    "            season_length: int = 1, \n",
    "            error_type: str = 'A'\n",
    "        ): \n",
    "\n",
    "        self.season_length = season_length\n",
    "        self.error_type = error_type\n",
    "        model = error_type + 'AN'\n",
    "        super().__init__(season_length, model)\n",
    "        \n",
    "    def __rep__(self):\n",
    "        return 'Holt'"
   ]
  },
  {
   "cell_type": "code",
   "execution_count": null,
   "metadata": {},
   "outputs": [],
   "source": [
    "#| hide \n",
    "holt = Holt(season_length=12, error_type='A')\n",
    "fcast_holt = holt.forecast(ap,12)\n",
    "\n",
    "ets = ETS(season_length=12, model='AAN')\n",
    "fcast_ets = ets.forecast(ap,12)\n",
    "\n",
    "np.testing.assert_equal(\n",
    "    fcast_holt, \n",
    "    fcast_ets\n",
    ")"
   ]
  },
  {
   "cell_type": "code",
   "execution_count": null,
   "metadata": {},
   "outputs": [],
   "source": [
    "#| hide \n",
    "holt = Holt(season_length=12, error_type='A')\n",
    "holt.fit(ap)\n",
    "fcast_holt = holt.predict(12)\n",
    "\n",
    "ets = ETS(season_length=12, model='AAN')\n",
    "fcast_ets = ets.forecast(ap,12)\n",
    "\n",
    "np.testing.assert_equal(\n",
    "    fcast_holt, \n",
    "    fcast_ets\n",
    ")"
   ]
  },
  {
   "cell_type": "code",
   "execution_count": null,
   "metadata": {},
   "outputs": [
    {
     "data": {
      "text/markdown": [
       "---\n",
       "\n",
       "### Holt\n",
       "\n",
       ">      Holt (season_length:int=1, error_type:str='A')\n",
       "\n",
       "Holt's method. \n",
       "\n",
       "Also known as double exponential smoothing, Holt's method is an extension of exponential smoothing for series with a trend.\n",
       "This implementation returns the corresponding `ETS` model with additive (A) or multiplicative (M) errors (so either 'AAN' or 'MAN'). \n",
       "\n",
       "**Parameters:**<br>\n",
       " `season_length`: int, number of observations per unit of time. Ex: 12 Monthly data. <br>  \n",
       " `error_type`: The type of error of the ETS model. Can be additive (A) or multiplicative (M). <br> \n",
       "\n",
       "**References:**<br>\n",
       "- [Rob J. Hyndman and George Athanasopoulos (2018). \"Forecasting principles and practice, Methods with trend\"](https://otexts.com/fpp3/holt.html)."
      ],
      "text/plain": [
       "<nbdev.showdoc.BasicMarkdownRenderer>"
      ]
     },
     "execution_count": null,
     "metadata": {},
     "output_type": "execute_result"
    }
   ],
   "source": [
    "show_doc(Holt, title_level=3)"
   ]
  },
  {
   "cell_type": "code",
   "execution_count": null,
   "metadata": {},
   "outputs": [
    {
     "data": {
      "text/markdown": [
       "---\n",
       "\n",
       "#### Holt.forecast\n",
       "\n",
       ">      Holt.forecast (y:numpy.ndarray, h:int, X:numpy.ndarray=None,\n",
       ">                     X_future:numpy.ndarray=None, fitted:bool=False)\n",
       "\n",
       "Memory Efficient Exponential Smoothing predictions.\n",
       "\n",
       "This method avoids memory burden due from object storage.\n",
       "It is analogous to `fit_predict` without storing information.\n",
       "It assumes you know the forecast horizon in advance.\n",
       "\n",
       "**Parameters:**<br>\n",
       "`y`: numpy array of shape (n,), clean time series.<br>\n",
       "`h`: int, forecast horizon.<br>\n",
       "`X`: array-like of shape (t, n_x) optional insample exogenous (default=None).<br>\n",
       "`X_future`: array-like of shape (h, n_x) optional exogenous (default=None).<br>\n",
       "`level`: float list 0-100, confidence levels for prediction intervals.<br>\n",
       "`fitted`: bool, wether or not returns insample predictions.<br>\n",
       "\n",
       "**Returns:**<br>\n",
       "`forecasts`: dictionary, with entries 'mean' for point predictions and\n",
       "    'level_*' for probabilistic predictions.<br>"
      ],
      "text/plain": [
       "<nbdev.showdoc.BasicMarkdownRenderer>"
      ]
     },
     "execution_count": null,
     "metadata": {},
     "output_type": "execute_result"
    }
   ],
   "source": [
    "show_doc(Holt.forecast, name='Holt.forecast', title_level=3)"
   ]
  },
  {
   "cell_type": "code",
   "execution_count": null,
   "metadata": {},
   "outputs": [
    {
     "data": {
      "text/markdown": [
       "---\n",
       "\n",
       "#### Holt.fit\n",
       "\n",
       ">      Holt.fit (y:numpy.ndarray, X:numpy.ndarray=None)\n",
       "\n",
       "Fit the Exponential Smoothing model.\n",
       "\n",
       "Fit an Exponential Smoothing model to a time series (numpy array) `y`\n",
       "and optionally exogenous variables (numpy array) `X`.\n",
       "\n",
       "**Parameters:**<br>\n",
       "`y`: numpy array of shape (t, ), clean time series.<br>\n",
       "`X`: array-like of shape (t, n_x) optional exogenous (default=None).<br>\n",
       "\n",
       "**Returns:**<br>\n",
       "`self`: Exponential Smoothing fitted model."
      ],
      "text/plain": [
       "<nbdev.showdoc.BasicMarkdownRenderer>"
      ]
     },
     "execution_count": null,
     "metadata": {},
     "output_type": "execute_result"
    }
   ],
   "source": [
    "show_doc(Holt.fit, name='Holt.fit', title_level=3)"
   ]
  },
  {
   "cell_type": "code",
   "execution_count": null,
   "metadata": {},
   "outputs": [
    {
     "data": {
      "text/markdown": [
       "---\n",
       "\n",
       "#### Holt.predict\n",
       "\n",
       ">      Holt.predict (h:int, X:numpy.ndarray=None)\n",
       "\n",
       "Predict with fitted Exponential Smoothing.\n",
       "\n",
       "**Parameters:**<br>\n",
       "`h`: int, forecast horizon.<br>\n",
       "`X`: array-like of shape (h, n_x) optional exogenous (default=None).<br>\n",
       "\n",
       "**Returns:**<br>\n",
       "`forecasts`: dictionary, with entries 'mean' for point predictions and\n",
       "    'level_*' for probabilistic predictions.<br>"
      ],
      "text/plain": [
       "<nbdev.showdoc.BasicMarkdownRenderer>"
      ]
     },
     "execution_count": null,
     "metadata": {},
     "output_type": "execute_result"
    }
   ],
   "source": [
    "show_doc(Holt.predict, name='Holt.predict', title_level=3)"
   ]
  },
  {
   "cell_type": "code",
   "execution_count": null,
   "metadata": {},
   "outputs": [
    {
     "data": {
      "text/markdown": [
       "---\n",
       "\n",
       "#### Holt.predict_in_sample\n",
       "\n",
       ">      Holt.predict_in_sample ()\n",
       "\n",
       "Access fitted Exponential Smoothing insample predictions.\n",
       "\n",
       "**Parameters:**<br>\n",
       "`X`: array-like of shape (t, n_x) optional exogenous (default=None).<br>\n",
       "`level`: float list 0-100, confidence levels for prediction intervals.<br>\n",
       "\n",
       "**Returns:**<br>\n",
       "`forecasts`: dictionary, with entries 'mean' for point predictions and\n",
       "    'level_*' for probabilistic predictions.<br>"
      ],
      "text/plain": [
       "<nbdev.showdoc.BasicMarkdownRenderer>"
      ]
     },
     "execution_count": null,
     "metadata": {},
     "output_type": "execute_result"
    }
   ],
   "source": [
    "show_doc(Holt.predict_in_sample, name='Holt.predict_in_sample', title_level=3)"
   ]
  },
  {
   "cell_type": "code",
   "execution_count": null,
   "metadata": {},
   "outputs": [
    {
     "data": {
      "text/plain": [
       "{'mean': array([434.22919544, 436.46237502, 438.69555461, 440.9287342 ])}"
      ]
     },
     "execution_count": null,
     "metadata": {},
     "output_type": "execute_result"
    }
   ],
   "source": [
    "# Holt's usage example\n",
    "\n",
    "#from statsforecast.models import Holt\n",
    "from statsforecast.utils import AirPassengers as ap\n",
    "\n",
    "\n",
    "model = Holt(season_length=12, error_type='A')\n",
    "model = model.fit(y=ap)\n",
    "y_hat_dict = model.predict(h=4)\n",
    "y_hat_dict"
   ]
  },
  {
   "cell_type": "markdown",
   "metadata": {},
   "source": [
    "## Holt-Winters' method"
   ]
  },
  {
   "cell_type": "code",
   "execution_count": null,
   "metadata": {},
   "outputs": [],
   "source": [
    "#|export\n",
    "class HoltWinters(ETS): \n",
    "    \"\"\" Holt-Winters' method. \n",
    "    \n",
    "    Also known as triple exponential smoothing, Holt-Winters' method is an extension of exponential smoothing for series that contain both trend and seasonality.\n",
    "    This implementation returns the corresponding `ETS` model with additive (A) or multiplicative (M) errors (so either 'AAA' or 'MAM'). \n",
    "    \n",
    "    **Parameters:**<br>\n",
    "     `season_length`: int, number of observations per unit of time. Ex: 12 Monthly data. <br>  \n",
    "     `error_type`: The type of error of the ETS model. Can be additive (A) or multiplicative (M). <br> \n",
    "\n",
    "    **References:**<br>\n",
    "    - [Rob J. Hyndman and George Athanasopoulos (2018). \"Forecasting principles and practice, Methods with seasonality\"](https://otexts.com/fpp3/holt-winters.html).\n",
    "    \"\"\"\n",
    "        \n",
    "    def __init__(\n",
    "            self, \n",
    "            season_length: int = 1, # season length\n",
    "            error_type: str = 'A' # error type\n",
    "        ): \n",
    "        self.season_length = season_length\n",
    "        self.error_type = error_type\n",
    "        model = error_type + 'A' + error_type\n",
    "        super().__init__(season_length, model)\n",
    "        \n",
    "    def __rep__(self):\n",
    "        return 'HoltWinters'"
   ]
  },
  {
   "cell_type": "code",
   "execution_count": null,
   "metadata": {},
   "outputs": [],
   "source": [
    "#| hide \n",
    "hw = HoltWinters(season_length=12, error_type='A')\n",
    "fcast_hw = hw.forecast(ap,12)\n",
    "\n",
    "ets = ETS(season_length=12, model='AAA')\n",
    "fcast_ets = ets.forecast(ap,12)\n",
    "\n",
    "np.testing.assert_equal(\n",
    "    fcast_hw, \n",
    "    fcast_ets\n",
    ")"
   ]
  },
  {
   "cell_type": "code",
   "execution_count": null,
   "metadata": {},
   "outputs": [],
   "source": [
    "#| hide \n",
    "hw = HoltWinters(season_length=12, error_type='A')\n",
    "hw.fit(ap)\n",
    "fcast_hw = hw.predict(12)\n",
    "\n",
    "ets = ETS(season_length=12, model='AAA')\n",
    "fcast_ets = ets.forecast(ap,12)\n",
    "\n",
    "np.testing.assert_equal(\n",
    "    fcast_hw, \n",
    "    fcast_ets\n",
    ")"
   ]
  },
  {
   "cell_type": "code",
   "execution_count": null,
   "metadata": {},
   "outputs": [
    {
     "data": {
      "text/markdown": [
       "---\n",
       "\n",
       "### HoltWinters\n",
       "\n",
       ">      HoltWinters (season_length:int=1, error_type:str='A')\n",
       "\n",
       "Holt-Winters' method. \n",
       "\n",
       "Also known as triple exponential smoothing, Holt-Winters' method is an extension of exponential smoothing for series that contain both trend and seasonality.\n",
       "This implementation returns the corresponding `ETS` model with additive (A) or multiplicative (M) errors (so either 'AAA' or 'MAM'). \n",
       "\n",
       "**Parameters:**<br>\n",
       " `season_length`: int, number of observations per unit of time. Ex: 12 Monthly data. <br>  \n",
       " `error_type`: The type of error of the ETS model. Can be additive (A) or multiplicative (M). <br> \n",
       "\n",
       "**References:**<br>\n",
       "- [Rob J. Hyndman and George Athanasopoulos (2018). \"Forecasting principles and practice, Methods with seasonality\"](https://otexts.com/fpp3/holt-winters.html).\n",
       "\n",
       "|    | **Type** | **Default** | **Details** |\n",
       "| -- | -------- | ----------- | ----------- |\n",
       "| season_length | int | 1 | season length |\n",
       "| error_type | str | A | error type |"
      ],
      "text/plain": [
       "<nbdev.showdoc.BasicMarkdownRenderer>"
      ]
     },
     "execution_count": null,
     "metadata": {},
     "output_type": "execute_result"
    }
   ],
   "source": [
    "show_doc(HoltWinters, title_level=3)"
   ]
  },
  {
   "cell_type": "code",
   "execution_count": null,
   "metadata": {},
   "outputs": [
    {
     "data": {
      "text/markdown": [
       "---\n",
       "\n",
       "#### HoltWinters.forecast\n",
       "\n",
       ">      HoltWinters.forecast (y:numpy.ndarray, h:int, X:numpy.ndarray=None,\n",
       ">                            X_future:numpy.ndarray=None, fitted:bool=False)\n",
       "\n",
       "Memory Efficient Exponential Smoothing predictions.\n",
       "\n",
       "This method avoids memory burden due from object storage.\n",
       "It is analogous to `fit_predict` without storing information.\n",
       "It assumes you know the forecast horizon in advance.\n",
       "\n",
       "**Parameters:**<br>\n",
       "`y`: numpy array of shape (n,), clean time series.<br>\n",
       "`h`: int, forecast horizon.<br>\n",
       "`X`: array-like of shape (t, n_x) optional insample exogenous (default=None).<br>\n",
       "`X_future`: array-like of shape (h, n_x) optional exogenous (default=None).<br>\n",
       "`level`: float list 0-100, confidence levels for prediction intervals.<br>\n",
       "`fitted`: bool, wether or not returns insample predictions.<br>\n",
       "\n",
       "**Returns:**<br>\n",
       "`forecasts`: dictionary, with entries 'mean' for point predictions and\n",
       "    'level_*' for probabilistic predictions.<br>"
      ],
      "text/plain": [
       "<nbdev.showdoc.BasicMarkdownRenderer>"
      ]
     },
     "execution_count": null,
     "metadata": {},
     "output_type": "execute_result"
    }
   ],
   "source": [
    "show_doc(HoltWinters.forecast, name='HoltWinters.forecast', title_level=3)"
   ]
  },
  {
   "cell_type": "code",
   "execution_count": null,
   "metadata": {},
   "outputs": [
    {
     "data": {
      "text/markdown": [
       "---\n",
       "\n",
       "#### HoltWinters.fit\n",
       "\n",
       ">      HoltWinters.fit (y:numpy.ndarray, X:numpy.ndarray=None)\n",
       "\n",
       "Fit the Exponential Smoothing model.\n",
       "\n",
       "Fit an Exponential Smoothing model to a time series (numpy array) `y`\n",
       "and optionally exogenous variables (numpy array) `X`.\n",
       "\n",
       "**Parameters:**<br>\n",
       "`y`: numpy array of shape (t, ), clean time series.<br>\n",
       "`X`: array-like of shape (t, n_x) optional exogenous (default=None).<br>\n",
       "\n",
       "**Returns:**<br>\n",
       "`self`: Exponential Smoothing fitted model."
      ],
      "text/plain": [
       "<nbdev.showdoc.BasicMarkdownRenderer>"
      ]
     },
     "execution_count": null,
     "metadata": {},
     "output_type": "execute_result"
    }
   ],
   "source": [
    "show_doc(HoltWinters.fit, name='HoltWinters.fit', title_level=3) "
   ]
  },
  {
   "cell_type": "code",
   "execution_count": null,
   "metadata": {},
   "outputs": [
    {
     "data": {
      "text/markdown": [
       "---\n",
       "\n",
       "#### HoltWinters.predict\n",
       "\n",
       ">      HoltWinters.predict (h:int, X:numpy.ndarray=None)\n",
       "\n",
       "Predict with fitted Exponential Smoothing.\n",
       "\n",
       "**Parameters:**<br>\n",
       "`h`: int, forecast horizon.<br>\n",
       "`X`: array-like of shape (h, n_x) optional exogenous (default=None).<br>\n",
       "\n",
       "**Returns:**<br>\n",
       "`forecasts`: dictionary, with entries 'mean' for point predictions and\n",
       "    'level_*' for probabilistic predictions.<br>"
      ],
      "text/plain": [
       "<nbdev.showdoc.BasicMarkdownRenderer>"
      ]
     },
     "execution_count": null,
     "metadata": {},
     "output_type": "execute_result"
    }
   ],
   "source": [
    "show_doc(HoltWinters.predict, name='HoltWinters.predict', title_level=3)"
   ]
  },
  {
   "cell_type": "code",
   "execution_count": null,
   "metadata": {},
   "outputs": [
    {
     "data": {
      "text/markdown": [
       "---\n",
       "\n",
       "#### HoltWinters.predict_in_sample\n",
       "\n",
       ">      HoltWinters.predict_in_sample ()\n",
       "\n",
       "Access fitted Exponential Smoothing insample predictions.\n",
       "\n",
       "**Parameters:**<br>\n",
       "`X`: array-like of shape (t, n_x) optional exogenous (default=None).<br>\n",
       "`level`: float list 0-100, confidence levels for prediction intervals.<br>\n",
       "\n",
       "**Returns:**<br>\n",
       "`forecasts`: dictionary, with entries 'mean' for point predictions and\n",
       "    'level_*' for probabilistic predictions.<br>"
      ],
      "text/plain": [
       "<nbdev.showdoc.BasicMarkdownRenderer>"
      ]
     },
     "execution_count": null,
     "metadata": {},
     "output_type": "execute_result"
    }
   ],
   "source": [
    "show_doc(HoltWinters.predict_in_sample, name= 'HoltWinters.predict_in_sample', title_level=3)"
   ]
  },
  {
   "cell_type": "code",
   "execution_count": null,
   "metadata": {},
   "outputs": [
    {
     "data": {
      "text/plain": [
       "{'mean': array([440.4192839 , 414.82970205, 449.80384898, 493.35229084])}"
      ]
     },
     "execution_count": null,
     "metadata": {},
     "output_type": "execute_result"
    }
   ],
   "source": [
    "# Holt-Winters' usage example\n",
    "\n",
    "#from statsforecast.models import HoltWinters\n",
    "from statsforecast.utils import AirPassengers as ap\n",
    "\n",
    "\n",
    "model = HoltWinters(season_length=12, error_type='A')\n",
    "model = model.fit(y=ap)\n",
    "y_hat_dict = model.predict(h=4)\n",
    "y_hat_dict"
   ]
  },
  {
   "cell_type": "markdown",
   "metadata": {},
   "source": [
    "# <span style=\"color:DarkBlue\"> 3. Baseline Models </span>"
   ]
  },
  {
   "cell_type": "markdown",
   "metadata": {},
   "source": [
    "## HistoricAverage"
   ]
  },
  {
   "cell_type": "code",
   "execution_count": null,
   "metadata": {},
   "outputs": [],
   "source": [
    "#| exporti\n",
    "@njit\n",
    "def _historic_average(\n",
    "        y: np.ndarray, # time series\n",
    "        h: int, # forecasting horizon\n",
    "        fitted: bool, # fitted values\n",
    "    ):\n",
    "    mean = _repeat_val(val=y.mean(), h=h)\n",
    "    fcst = {'mean': mean}\n",
    "    if fitted:\n",
    "        #fitted_vals = np.full(y.size, np.nan, np.float32) # one-step ahead\n",
    "        #fitted_vals[1:] = y.cumsum()[:-1] / np.arange(1, y.size) \n",
    "        fitted_vals = _repeat_val(val=y.mean(), h=len(y))\n",
    "        fcst['fitted'] = fitted_vals\n",
    "    return fcst"
   ]
  },
  {
   "cell_type": "code",
   "execution_count": null,
   "metadata": {},
   "outputs": [],
   "source": [
    "#| export\n",
    "class HistoricAverage(_TS):\n",
    "\n",
    "    def __init__(self):\n",
    "        \"\"\"HistoricAverage model.\n",
    "        [Source code](https://github.com/Nixtla/statsforecast/blob/main/statsforecast/simple_methods.py).\n",
    "\n",
    "        Also known as mean method. Uses a simple average of all past observations. \n",
    "        Assuming there are $t$ observations, the one-step forecast is given by: \n",
    "        $$ \\hat{y}_{t+1} = \\\\frac{1}{t} \\sum_{j=1}^t y_j $$\n",
    "\n",
    "        **Parameters:**<br>\n",
    "\n",
    "        **References:**<br>\n",
    "        [Rob J. Hyndman and George Athanasopoulos (2018). \"Forecasting principles and practice, Simple Methods\"](https://otexts.com/fpp3/simple-methods.html).\n",
    "        \"\"\"\n",
    "        pass\n",
    "    \n",
    "    def __repr__(self):\n",
    "        return 'HistoricAverage'\n",
    "    \n",
    "    def fit(\n",
    "            self,\n",
    "            y: np.ndarray,\n",
    "            X: np.ndarray = None\n",
    "        ):\n",
    "        \"\"\"Fit the HistoricAverage model.\n",
    "\n",
    "        Fit an HistoricAverage to a time series (numpy array) `y`.\n",
    "\n",
    "        **Parameters:**<br>\n",
    "        `y`: numpy array of shape (t, ), clean time series.<br>\n",
    "\n",
    "        **Returns:**<br>\n",
    "        `self`: HistoricAverage fitted model.\n",
    "        \"\"\"        \n",
    "        mod = _historic_average(y, h=1, fitted=True)\n",
    "        mod = dict(mod) \n",
    "        residuals = y - mod['fitted']\n",
    "        mod['sigma'] = _calculate_sigma(residuals, len(residuals) - 1)\n",
    "        mod['n'] = len(y)\n",
    "        self.model_ = mod\n",
    "        return self\n",
    "        \n",
    "    def predict(\n",
    "            self, \n",
    "            h: int,\n",
    "            X: np.ndarray = None,\n",
    "            level: Optional[Tuple[int]] = None,\n",
    "        ):\n",
    "        \"\"\"Predict with fitted HistoricAverage.\n",
    "\n",
    "        **Parameters:**<br>\n",
    "        `h`: int, forecast horizon.<br>\n",
    "\n",
    "        **Returns:**<br>\n",
    "        `forecasts`: dictionary, with entries 'mean' for point predictions and\n",
    "            'level_*' for probabilistic predictions.<br>\n",
    "        \"\"\"\n",
    "        mean = _repeat_val(val=self.model_['mean'][0], h=h)\n",
    "        res = {'mean': mean}\n",
    "        \n",
    "        if level is not None: \n",
    "            sigma = self.model_['sigma']\n",
    "            sigmah = sigma * np.sqrt(1 + (1 / self.model_['n']))\n",
    "            pred_int = _calculate_intervals(res, level, h, sigmah)\n",
    "            res = {**res, **pred_int}\n",
    "        \n",
    "        return res\n",
    "    \n",
    "    def predict_in_sample(\n",
    "            self, \n",
    "            level: Optional[Tuple[int]] = None\n",
    "        ):\n",
    "        \"\"\"Access fitted HistoricAverage insample predictions.\n",
    "\n",
    "        **Parameters:**<br>\n",
    "        `level`: float list 0-100, confidence levels for prediction intervals.<br>\n",
    "\n",
    "        **Returns:**<br>\n",
    "        `forecasts`: dictionary, with entries 'mean' for point predictions and\n",
    "            'level_*' for probabilistic predictions.<br>\n",
    "        \"\"\"\n",
    "        res = {'mean': self.model_['fitted']}\n",
    "\n",
    "        if level is not None: \n",
    "            sigma = self.model_['sigma']\n",
    "            sigmah = sigma * np.sqrt(1 + (1 / self.model_['n']))\n",
    "            pred_int = _calculate_intervals(res, level, self.model_['n'], sigmah)\n",
    "            int_in_sample = {'fitted-'+str(key): val for key, val in pred_int.items()}\n",
    "            res = {**res, **int_in_sample}\n",
    "        \n",
    "        return res\n",
    "    \n",
    "    def forecast(\n",
    "            self, \n",
    "            y: np.ndarray,\n",
    "            h: int,\n",
    "            X: np.ndarray = None,\n",
    "            X_future: np.ndarray = None,\n",
    "            fitted: bool = False,\n",
    "            level: Optional[Tuple[int]] = None,\n",
    "        ):\n",
    "        \"\"\"Memory Efficient HistoricAverage predictions.\n",
    "\n",
    "        This method avoids memory burden due from object storage.\n",
    "        It is analogous to `fit_predict` without storing information.\n",
    "        It assumes you know the forecast horizon in advance.\n",
    "\n",
    "        **Parameters:**<br>\n",
    "        `y`: numpy array of shape (n,), clean time series.<br>\n",
    "        `h`: int, forecast horizon.<br>\n",
    "        `level`: float list 0-100, confidence levels for prediction intervals.<br>\n",
    "        `fitted`: bool, wether or not returns insample predictions.<br>\n",
    "\n",
    "        **Returns:**<br>\n",
    "        `forecasts`: dictionary, with entries 'mean' for point predictions and\n",
    "            'level_*' for probabilistic predictions.<br>\n",
    "        \"\"\"\n",
    "        fitted = fitted or (level is not None)\n",
    "        out = _historic_average(y=y, h=h, fitted=fitted)\n",
    "        res = {'mean': out['mean']}\n",
    "        \n",
    "        if fitted:\n",
    "            res['fitted'] = out['fitted']\n",
    "        \n",
    "        if level is not None: \n",
    "            residuals = y - out['fitted']\n",
    "            sigma = _calculate_sigma(residuals, len(residuals) - 1)\n",
    "            sigmah = sigma * np.sqrt(1 + (1 / len(y)))\n",
    "            pred_int = _calculate_intervals(out, level, h, sigmah)\n",
    "            res = {**res, **pred_int}\n",
    "            \n",
    "            if fitted: \n",
    "                int_in_sample = {'fitted-'+str(key): val for key, val in pred_int.items()}\n",
    "                res = {**res, **int_in_sample}\n",
    "                \n",
    "        return res"
   ]
  },
  {
   "cell_type": "code",
   "execution_count": null,
   "metadata": {},
   "outputs": [
    {
     "data": {
      "text/plain": [
       "{'mean': array([280.2986, 280.2986, 280.2986, 280.2986, 280.2986, 280.2986,\n",
       "        280.2986, 280.2986, 280.2986, 280.2986, 280.2986, 280.2986],\n",
       "       dtype=float32),\n",
       " 'fitted': array([280.2986, 280.2986, 280.2986, 280.2986, 280.2986, 280.2986,\n",
       "        280.2986, 280.2986, 280.2986, 280.2986, 280.2986, 280.2986,\n",
       "        280.2986, 280.2986, 280.2986, 280.2986, 280.2986, 280.2986,\n",
       "        280.2986, 280.2986, 280.2986, 280.2986, 280.2986, 280.2986,\n",
       "        280.2986, 280.2986, 280.2986, 280.2986, 280.2986, 280.2986,\n",
       "        280.2986, 280.2986, 280.2986, 280.2986, 280.2986, 280.2986,\n",
       "        280.2986, 280.2986, 280.2986, 280.2986, 280.2986, 280.2986,\n",
       "        280.2986, 280.2986, 280.2986, 280.2986, 280.2986, 280.2986,\n",
       "        280.2986, 280.2986, 280.2986, 280.2986, 280.2986, 280.2986,\n",
       "        280.2986, 280.2986, 280.2986, 280.2986, 280.2986, 280.2986,\n",
       "        280.2986, 280.2986, 280.2986, 280.2986, 280.2986, 280.2986,\n",
       "        280.2986, 280.2986, 280.2986, 280.2986, 280.2986, 280.2986,\n",
       "        280.2986, 280.2986, 280.2986, 280.2986, 280.2986, 280.2986,\n",
       "        280.2986, 280.2986, 280.2986, 280.2986, 280.2986, 280.2986,\n",
       "        280.2986, 280.2986, 280.2986, 280.2986, 280.2986, 280.2986,\n",
       "        280.2986, 280.2986, 280.2986, 280.2986, 280.2986, 280.2986,\n",
       "        280.2986, 280.2986, 280.2986, 280.2986, 280.2986, 280.2986,\n",
       "        280.2986, 280.2986, 280.2986, 280.2986, 280.2986, 280.2986,\n",
       "        280.2986, 280.2986, 280.2986, 280.2986, 280.2986, 280.2986,\n",
       "        280.2986, 280.2986, 280.2986, 280.2986, 280.2986, 280.2986,\n",
       "        280.2986, 280.2986, 280.2986, 280.2986, 280.2986, 280.2986,\n",
       "        280.2986, 280.2986, 280.2986, 280.2986, 280.2986, 280.2986,\n",
       "        280.2986, 280.2986, 280.2986, 280.2986, 280.2986, 280.2986,\n",
       "        280.2986, 280.2986, 280.2986, 280.2986, 280.2986, 280.2986],\n",
       "       dtype=float32),\n",
       " 'lo-80': array([126.02268686, 126.02268686, 126.02268686, 126.02268686,\n",
       "        126.02268686, 126.02268686, 126.02268686, 126.02268686,\n",
       "        126.02268686, 126.02268686, 126.02268686, 126.02268686]),\n",
       " 'lo-95': array([44.353944, 44.353944, 44.353944, 44.353944, 44.353944, 44.353944,\n",
       "        44.353944, 44.353944, 44.353944, 44.353944, 44.353944, 44.353944]),\n",
       " 'hi-80': array([434.57454214, 434.57454214, 434.57454214, 434.57454214,\n",
       "        434.57454214, 434.57454214, 434.57454214, 434.57454214,\n",
       "        434.57454214, 434.57454214, 434.57454214, 434.57454214]),\n",
       " 'hi-95': array([516.243285, 516.243285, 516.243285, 516.243285, 516.243285,\n",
       "        516.243285, 516.243285, 516.243285, 516.243285, 516.243285,\n",
       "        516.243285, 516.243285]),\n",
       " 'fitted-lo-80': array([126.02268686, 126.02268686, 126.02268686, 126.02268686,\n",
       "        126.02268686, 126.02268686, 126.02268686, 126.02268686,\n",
       "        126.02268686, 126.02268686, 126.02268686, 126.02268686]),\n",
       " 'fitted-lo-95': array([44.353944, 44.353944, 44.353944, 44.353944, 44.353944, 44.353944,\n",
       "        44.353944, 44.353944, 44.353944, 44.353944, 44.353944, 44.353944]),\n",
       " 'fitted-hi-80': array([434.57454214, 434.57454214, 434.57454214, 434.57454214,\n",
       "        434.57454214, 434.57454214, 434.57454214, 434.57454214,\n",
       "        434.57454214, 434.57454214, 434.57454214, 434.57454214]),\n",
       " 'fitted-hi-95': array([516.243285, 516.243285, 516.243285, 516.243285, 516.243285,\n",
       "        516.243285, 516.243285, 516.243285, 516.243285, 516.243285,\n",
       "        516.243285, 516.243285])}"
      ]
     },
     "execution_count": null,
     "metadata": {},
     "output_type": "execute_result"
    }
   ],
   "source": [
    "#| hide \n",
    "# Test prediction intervals - forecast\n",
    "ha = HistoricAverage()\n",
    "ha.forecast(ap, 12, None, None, True, (80,95))"
   ]
  },
  {
   "cell_type": "code",
   "execution_count": null,
   "metadata": {},
   "outputs": [
    {
     "data": {
      "text/plain": [
       "{'mean': array([280.2986, 280.2986, 280.2986, 280.2986, 280.2986, 280.2986,\n",
       "        280.2986, 280.2986, 280.2986, 280.2986, 280.2986, 280.2986,\n",
       "        280.2986, 280.2986, 280.2986, 280.2986, 280.2986, 280.2986,\n",
       "        280.2986, 280.2986, 280.2986, 280.2986, 280.2986, 280.2986,\n",
       "        280.2986, 280.2986, 280.2986, 280.2986, 280.2986, 280.2986,\n",
       "        280.2986, 280.2986, 280.2986, 280.2986, 280.2986, 280.2986,\n",
       "        280.2986, 280.2986, 280.2986, 280.2986, 280.2986, 280.2986,\n",
       "        280.2986, 280.2986, 280.2986, 280.2986, 280.2986, 280.2986,\n",
       "        280.2986, 280.2986, 280.2986, 280.2986, 280.2986, 280.2986,\n",
       "        280.2986, 280.2986, 280.2986, 280.2986, 280.2986, 280.2986,\n",
       "        280.2986, 280.2986, 280.2986, 280.2986, 280.2986, 280.2986,\n",
       "        280.2986, 280.2986, 280.2986, 280.2986, 280.2986, 280.2986,\n",
       "        280.2986, 280.2986, 280.2986, 280.2986, 280.2986, 280.2986,\n",
       "        280.2986, 280.2986, 280.2986, 280.2986, 280.2986, 280.2986,\n",
       "        280.2986, 280.2986, 280.2986, 280.2986, 280.2986, 280.2986,\n",
       "        280.2986, 280.2986, 280.2986, 280.2986, 280.2986, 280.2986,\n",
       "        280.2986, 280.2986, 280.2986, 280.2986, 280.2986, 280.2986,\n",
       "        280.2986, 280.2986, 280.2986, 280.2986, 280.2986, 280.2986,\n",
       "        280.2986, 280.2986, 280.2986, 280.2986, 280.2986, 280.2986,\n",
       "        280.2986, 280.2986, 280.2986, 280.2986, 280.2986, 280.2986,\n",
       "        280.2986, 280.2986, 280.2986, 280.2986, 280.2986, 280.2986,\n",
       "        280.2986, 280.2986, 280.2986, 280.2986, 280.2986, 280.2986,\n",
       "        280.2986, 280.2986, 280.2986, 280.2986, 280.2986, 280.2986,\n",
       "        280.2986, 280.2986, 280.2986, 280.2986, 280.2986, 280.2986],\n",
       "       dtype=float32),\n",
       " 'fitted-lo-80': array([126.02268686, 126.02268686, 126.02268686, 126.02268686,\n",
       "        126.02268686, 126.02268686, 126.02268686, 126.02268686,\n",
       "        126.02268686, 126.02268686, 126.02268686, 126.02268686,\n",
       "        126.02268686, 126.02268686, 126.02268686, 126.02268686,\n",
       "        126.02268686, 126.02268686, 126.02268686, 126.02268686,\n",
       "        126.02268686, 126.02268686, 126.02268686, 126.02268686,\n",
       "        126.02268686, 126.02268686, 126.02268686, 126.02268686,\n",
       "        126.02268686, 126.02268686, 126.02268686, 126.02268686,\n",
       "        126.02268686, 126.02268686, 126.02268686, 126.02268686,\n",
       "        126.02268686, 126.02268686, 126.02268686, 126.02268686,\n",
       "        126.02268686, 126.02268686, 126.02268686, 126.02268686,\n",
       "        126.02268686, 126.02268686, 126.02268686, 126.02268686,\n",
       "        126.02268686, 126.02268686, 126.02268686, 126.02268686,\n",
       "        126.02268686, 126.02268686, 126.02268686, 126.02268686,\n",
       "        126.02268686, 126.02268686, 126.02268686, 126.02268686,\n",
       "        126.02268686, 126.02268686, 126.02268686, 126.02268686,\n",
       "        126.02268686, 126.02268686, 126.02268686, 126.02268686,\n",
       "        126.02268686, 126.02268686, 126.02268686, 126.02268686,\n",
       "        126.02268686, 126.02268686, 126.02268686, 126.02268686,\n",
       "        126.02268686, 126.02268686, 126.02268686, 126.02268686,\n",
       "        126.02268686, 126.02268686, 126.02268686, 126.02268686,\n",
       "        126.02268686, 126.02268686, 126.02268686, 126.02268686,\n",
       "        126.02268686, 126.02268686, 126.02268686, 126.02268686,\n",
       "        126.02268686, 126.02268686, 126.02268686, 126.02268686,\n",
       "        126.02268686, 126.02268686, 126.02268686, 126.02268686,\n",
       "        126.02268686, 126.02268686, 126.02268686, 126.02268686,\n",
       "        126.02268686, 126.02268686, 126.02268686, 126.02268686,\n",
       "        126.02268686, 126.02268686, 126.02268686, 126.02268686,\n",
       "        126.02268686, 126.02268686, 126.02268686, 126.02268686,\n",
       "        126.02268686, 126.02268686, 126.02268686, 126.02268686,\n",
       "        126.02268686, 126.02268686, 126.02268686, 126.02268686,\n",
       "        126.02268686, 126.02268686, 126.02268686, 126.02268686,\n",
       "        126.02268686, 126.02268686, 126.02268686, 126.02268686,\n",
       "        126.02268686, 126.02268686, 126.02268686, 126.02268686,\n",
       "        126.02268686, 126.02268686, 126.02268686, 126.02268686,\n",
       "        126.02268686, 126.02268686, 126.02268686, 126.02268686]),\n",
       " 'fitted-lo-95': array([44.353944, 44.353944, 44.353944, 44.353944, 44.353944, 44.353944,\n",
       "        44.353944, 44.353944, 44.353944, 44.353944, 44.353944, 44.353944,\n",
       "        44.353944, 44.353944, 44.353944, 44.353944, 44.353944, 44.353944,\n",
       "        44.353944, 44.353944, 44.353944, 44.353944, 44.353944, 44.353944,\n",
       "        44.353944, 44.353944, 44.353944, 44.353944, 44.353944, 44.353944,\n",
       "        44.353944, 44.353944, 44.353944, 44.353944, 44.353944, 44.353944,\n",
       "        44.353944, 44.353944, 44.353944, 44.353944, 44.353944, 44.353944,\n",
       "        44.353944, 44.353944, 44.353944, 44.353944, 44.353944, 44.353944,\n",
       "        44.353944, 44.353944, 44.353944, 44.353944, 44.353944, 44.353944,\n",
       "        44.353944, 44.353944, 44.353944, 44.353944, 44.353944, 44.353944,\n",
       "        44.353944, 44.353944, 44.353944, 44.353944, 44.353944, 44.353944,\n",
       "        44.353944, 44.353944, 44.353944, 44.353944, 44.353944, 44.353944,\n",
       "        44.353944, 44.353944, 44.353944, 44.353944, 44.353944, 44.353944,\n",
       "        44.353944, 44.353944, 44.353944, 44.353944, 44.353944, 44.353944,\n",
       "        44.353944, 44.353944, 44.353944, 44.353944, 44.353944, 44.353944,\n",
       "        44.353944, 44.353944, 44.353944, 44.353944, 44.353944, 44.353944,\n",
       "        44.353944, 44.353944, 44.353944, 44.353944, 44.353944, 44.353944,\n",
       "        44.353944, 44.353944, 44.353944, 44.353944, 44.353944, 44.353944,\n",
       "        44.353944, 44.353944, 44.353944, 44.353944, 44.353944, 44.353944,\n",
       "        44.353944, 44.353944, 44.353944, 44.353944, 44.353944, 44.353944,\n",
       "        44.353944, 44.353944, 44.353944, 44.353944, 44.353944, 44.353944,\n",
       "        44.353944, 44.353944, 44.353944, 44.353944, 44.353944, 44.353944,\n",
       "        44.353944, 44.353944, 44.353944, 44.353944, 44.353944, 44.353944,\n",
       "        44.353944, 44.353944, 44.353944, 44.353944, 44.353944, 44.353944]),\n",
       " 'fitted-hi-80': array([434.57454214, 434.57454214, 434.57454214, 434.57454214,\n",
       "        434.57454214, 434.57454214, 434.57454214, 434.57454214,\n",
       "        434.57454214, 434.57454214, 434.57454214, 434.57454214,\n",
       "        434.57454214, 434.57454214, 434.57454214, 434.57454214,\n",
       "        434.57454214, 434.57454214, 434.57454214, 434.57454214,\n",
       "        434.57454214, 434.57454214, 434.57454214, 434.57454214,\n",
       "        434.57454214, 434.57454214, 434.57454214, 434.57454214,\n",
       "        434.57454214, 434.57454214, 434.57454214, 434.57454214,\n",
       "        434.57454214, 434.57454214, 434.57454214, 434.57454214,\n",
       "        434.57454214, 434.57454214, 434.57454214, 434.57454214,\n",
       "        434.57454214, 434.57454214, 434.57454214, 434.57454214,\n",
       "        434.57454214, 434.57454214, 434.57454214, 434.57454214,\n",
       "        434.57454214, 434.57454214, 434.57454214, 434.57454214,\n",
       "        434.57454214, 434.57454214, 434.57454214, 434.57454214,\n",
       "        434.57454214, 434.57454214, 434.57454214, 434.57454214,\n",
       "        434.57454214, 434.57454214, 434.57454214, 434.57454214,\n",
       "        434.57454214, 434.57454214, 434.57454214, 434.57454214,\n",
       "        434.57454214, 434.57454214, 434.57454214, 434.57454214,\n",
       "        434.57454214, 434.57454214, 434.57454214, 434.57454214,\n",
       "        434.57454214, 434.57454214, 434.57454214, 434.57454214,\n",
       "        434.57454214, 434.57454214, 434.57454214, 434.57454214,\n",
       "        434.57454214, 434.57454214, 434.57454214, 434.57454214,\n",
       "        434.57454214, 434.57454214, 434.57454214, 434.57454214,\n",
       "        434.57454214, 434.57454214, 434.57454214, 434.57454214,\n",
       "        434.57454214, 434.57454214, 434.57454214, 434.57454214,\n",
       "        434.57454214, 434.57454214, 434.57454214, 434.57454214,\n",
       "        434.57454214, 434.57454214, 434.57454214, 434.57454214,\n",
       "        434.57454214, 434.57454214, 434.57454214, 434.57454214,\n",
       "        434.57454214, 434.57454214, 434.57454214, 434.57454214,\n",
       "        434.57454214, 434.57454214, 434.57454214, 434.57454214,\n",
       "        434.57454214, 434.57454214, 434.57454214, 434.57454214,\n",
       "        434.57454214, 434.57454214, 434.57454214, 434.57454214,\n",
       "        434.57454214, 434.57454214, 434.57454214, 434.57454214,\n",
       "        434.57454214, 434.57454214, 434.57454214, 434.57454214,\n",
       "        434.57454214, 434.57454214, 434.57454214, 434.57454214,\n",
       "        434.57454214, 434.57454214, 434.57454214, 434.57454214]),\n",
       " 'fitted-hi-95': array([516.243285, 516.243285, 516.243285, 516.243285, 516.243285,\n",
       "        516.243285, 516.243285, 516.243285, 516.243285, 516.243285,\n",
       "        516.243285, 516.243285, 516.243285, 516.243285, 516.243285,\n",
       "        516.243285, 516.243285, 516.243285, 516.243285, 516.243285,\n",
       "        516.243285, 516.243285, 516.243285, 516.243285, 516.243285,\n",
       "        516.243285, 516.243285, 516.243285, 516.243285, 516.243285,\n",
       "        516.243285, 516.243285, 516.243285, 516.243285, 516.243285,\n",
       "        516.243285, 516.243285, 516.243285, 516.243285, 516.243285,\n",
       "        516.243285, 516.243285, 516.243285, 516.243285, 516.243285,\n",
       "        516.243285, 516.243285, 516.243285, 516.243285, 516.243285,\n",
       "        516.243285, 516.243285, 516.243285, 516.243285, 516.243285,\n",
       "        516.243285, 516.243285, 516.243285, 516.243285, 516.243285,\n",
       "        516.243285, 516.243285, 516.243285, 516.243285, 516.243285,\n",
       "        516.243285, 516.243285, 516.243285, 516.243285, 516.243285,\n",
       "        516.243285, 516.243285, 516.243285, 516.243285, 516.243285,\n",
       "        516.243285, 516.243285, 516.243285, 516.243285, 516.243285,\n",
       "        516.243285, 516.243285, 516.243285, 516.243285, 516.243285,\n",
       "        516.243285, 516.243285, 516.243285, 516.243285, 516.243285,\n",
       "        516.243285, 516.243285, 516.243285, 516.243285, 516.243285,\n",
       "        516.243285, 516.243285, 516.243285, 516.243285, 516.243285,\n",
       "        516.243285, 516.243285, 516.243285, 516.243285, 516.243285,\n",
       "        516.243285, 516.243285, 516.243285, 516.243285, 516.243285,\n",
       "        516.243285, 516.243285, 516.243285, 516.243285, 516.243285,\n",
       "        516.243285, 516.243285, 516.243285, 516.243285, 516.243285,\n",
       "        516.243285, 516.243285, 516.243285, 516.243285, 516.243285,\n",
       "        516.243285, 516.243285, 516.243285, 516.243285, 516.243285,\n",
       "        516.243285, 516.243285, 516.243285, 516.243285, 516.243285,\n",
       "        516.243285, 516.243285, 516.243285, 516.243285, 516.243285,\n",
       "        516.243285, 516.243285, 516.243285, 516.243285])}"
      ]
     },
     "execution_count": null,
     "metadata": {},
     "output_type": "execute_result"
    }
   ],
   "source": [
    "#| hide \n",
    "# Test prediction intervals - fit & predict\n",
    "ha = HistoricAverage()\n",
    "ha.fit(ap)\n",
    "ha.predict(12)\n",
    "ha.predict_in_sample((80,95))"
   ]
  },
  {
   "cell_type": "code",
   "execution_count": null,
   "metadata": {},
   "outputs": [],
   "source": [
    "#| hide\n",
    "ha = HistoricAverage()\n",
    "test_class(ha, x=ap, h=12)\n",
    "#more tests\n",
    "ha.fit(ap)\n",
    "fcst_ha = ha.predict(12)\n",
    "test_close(fcst_ha['mean'], np.repeat(ap.mean(), 12), eps=1e-5)\n",
    "np.testing.assert_almost_equal(\n",
    "    ha.predict_in_sample()['mean'][:4],\n",
    "    #np.array([np.nan, 112., 115., 120.6666667]), \n",
    "    np.array([280.2986,280.2986,280.2986,280.2986]), \n",
    "    decimal=4\n",
    ")"
   ]
  },
  {
   "cell_type": "code",
   "execution_count": null,
   "metadata": {},
   "outputs": [],
   "source": [
    "#| hide \n",
    "ha = HistoricAverage()\n",
    "fcst_ha = ha.forecast(ap,12,None,None,False,(80,95))\n",
    "np.testing.assert_almost_equal(\n",
    "    fcst_ha['lo-80'],\n",
    "    np.repeat(126.0227,12),\n",
    "    decimal=4\n",
    ")"
   ]
  },
  {
   "cell_type": "code",
   "execution_count": null,
   "metadata": {},
   "outputs": [
    {
     "data": {
      "text/markdown": [
       "---\n",
       "\n",
       "### HistoricAverage\n",
       "\n",
       ">      HistoricAverage ()\n",
       "\n",
       "HistoricAverage model.\n",
       "[Source code](https://github.com/Nixtla/statsforecast/blob/main/statsforecast/simple_methods.py).\n",
       "\n",
       "Also known as mean method. Uses a simple average of all past observations. \n",
       "Assuming there are $t$ observations, the one-step forecast is given by: \n",
       "$$ \\hat{y}_{t+1} = \\frac{1}{t} \\sum_{j=1}^t y_j $$\n",
       "\n",
       "**Parameters:**<br>\n",
       "\n",
       "**References:**<br>\n",
       "[Rob J. Hyndman and George Athanasopoulos (2018). \"Forecasting principles and practice, Simple Methods\"](https://otexts.com/fpp3/simple-methods.html)."
      ],
      "text/plain": [
       "<nbdev.showdoc.BasicMarkdownRenderer>"
      ]
     },
     "execution_count": null,
     "metadata": {},
     "output_type": "execute_result"
    }
   ],
   "source": [
    "show_doc(HistoricAverage, title_level=3)"
   ]
  },
  {
   "cell_type": "code",
   "execution_count": null,
   "metadata": {},
   "outputs": [
    {
     "data": {
      "text/markdown": [
       "---\n",
       "\n",
       "#### HistoricAverage.forecast\n",
       "\n",
       ">      HistoricAverage.forecast (y:numpy.ndarray, h:int, X:numpy.ndarray=None,\n",
       ">                                X_future:numpy.ndarray=None, fitted:bool=False,\n",
       ">                                level:Optional[Tuple[int]]=None)\n",
       "\n",
       "Memory Efficient HistoricAverage predictions.\n",
       "\n",
       "This method avoids memory burden due from object storage.\n",
       "It is analogous to `fit_predict` without storing information.\n",
       "It assumes you know the forecast horizon in advance.\n",
       "\n",
       "**Parameters:**<br>\n",
       "`y`: numpy array of shape (n,), clean time series.<br>\n",
       "`h`: int, forecast horizon.<br>\n",
       "`level`: float list 0-100, confidence levels for prediction intervals.<br>\n",
       "`fitted`: bool, wether or not returns insample predictions.<br>\n",
       "\n",
       "**Returns:**<br>\n",
       "`forecasts`: dictionary, with entries 'mean' for point predictions and\n",
       "    'level_*' for probabilistic predictions.<br>"
      ],
      "text/plain": [
       "<nbdev.showdoc.BasicMarkdownRenderer>"
      ]
     },
     "execution_count": null,
     "metadata": {},
     "output_type": "execute_result"
    }
   ],
   "source": [
    "show_doc(HistoricAverage.forecast, title_level=3)"
   ]
  },
  {
   "cell_type": "code",
   "execution_count": null,
   "metadata": {},
   "outputs": [
    {
     "data": {
      "text/markdown": [
       "---\n",
       "\n",
       "#### HistoricAverage.fit\n",
       "\n",
       ">      HistoricAverage.fit (y:numpy.ndarray, X:numpy.ndarray=None)\n",
       "\n",
       "Fit the HistoricAverage model.\n",
       "\n",
       "Fit an HistoricAverage to a time series (numpy array) `y`.\n",
       "\n",
       "**Parameters:**<br>\n",
       "`y`: numpy array of shape (t, ), clean time series.<br>\n",
       "\n",
       "**Returns:**<br>\n",
       "`self`: HistoricAverage fitted model."
      ],
      "text/plain": [
       "<nbdev.showdoc.BasicMarkdownRenderer>"
      ]
     },
     "execution_count": null,
     "metadata": {},
     "output_type": "execute_result"
    }
   ],
   "source": [
    "show_doc(HistoricAverage.fit, title_level=3)"
   ]
  },
  {
   "cell_type": "code",
   "execution_count": null,
   "metadata": {},
   "outputs": [
    {
     "data": {
      "text/markdown": [
       "---\n",
       "\n",
       "#### HistoricAverage.predict\n",
       "\n",
       ">      HistoricAverage.predict (h:int, X:numpy.ndarray=None,\n",
       ">                               level:Optional[Tuple[int]]=None)\n",
       "\n",
       "Predict with fitted HistoricAverage.\n",
       "\n",
       "**Parameters:**<br>\n",
       "`h`: int, forecast horizon.<br>\n",
       "\n",
       "**Returns:**<br>\n",
       "`forecasts`: dictionary, with entries 'mean' for point predictions and\n",
       "    'level_*' for probabilistic predictions.<br>"
      ],
      "text/plain": [
       "<nbdev.showdoc.BasicMarkdownRenderer>"
      ]
     },
     "execution_count": null,
     "metadata": {},
     "output_type": "execute_result"
    }
   ],
   "source": [
    "show_doc(HistoricAverage.predict, title_level=3)"
   ]
  },
  {
   "cell_type": "code",
   "execution_count": null,
   "metadata": {},
   "outputs": [
    {
     "data": {
      "text/markdown": [
       "---\n",
       "\n",
       "#### HistoricAverage.predict_in_sample\n",
       "\n",
       ">      HistoricAverage.predict_in_sample (level:Optional[Tuple[int]]=None)\n",
       "\n",
       "Access fitted HistoricAverage insample predictions.\n",
       "\n",
       "**Parameters:**<br>\n",
       "`level`: float list 0-100, confidence levels for prediction intervals.<br>\n",
       "\n",
       "**Returns:**<br>\n",
       "`forecasts`: dictionary, with entries 'mean' for point predictions and\n",
       "    'level_*' for probabilistic predictions.<br>"
      ],
      "text/plain": [
       "<nbdev.showdoc.BasicMarkdownRenderer>"
      ]
     },
     "execution_count": null,
     "metadata": {},
     "output_type": "execute_result"
    }
   ],
   "source": [
    "show_doc(HistoricAverage.predict_in_sample, title_level=3)"
   ]
  },
  {
   "cell_type": "code",
   "execution_count": null,
   "metadata": {},
   "outputs": [
    {
     "data": {
      "text/plain": [
       "{'mean': array([280.2986, 280.2986, 280.2986, 280.2986], dtype=float32)}"
      ]
     },
     "execution_count": null,
     "metadata": {},
     "output_type": "execute_result"
    }
   ],
   "source": [
    "# HistoricAverage's usage example\n",
    "\n",
    "from statsforecast.models import HistoricAverage\n",
    "from statsforecast.utils import AirPassengers as ap\n",
    "\n",
    "\n",
    "model = HistoricAverage()\n",
    "model = model.fit(y=ap)\n",
    "y_hat_dict = model.predict(h=4)\n",
    "y_hat_dict"
   ]
  },
  {
   "cell_type": "markdown",
   "metadata": {},
   "source": [
    "## Naive"
   ]
  },
  {
   "cell_type": "code",
   "execution_count": null,
   "metadata": {},
   "outputs": [],
   "source": [
    "#| exporti\n",
    "@njit\n",
    "def _naive(\n",
    "        y: np.ndarray, # time series\n",
    "        h: int, # forecasting horizon\n",
    "        fitted: bool, # fitted values\n",
    "    ): \n",
    "    mean = _repeat_val(val=y[-1], h=h)\n",
    "    if fitted:\n",
    "        fitted_vals = np.full(y.size, np.nan, np.float32)\n",
    "        fitted_vals[1:] = np.roll(y, 1)[1:]\n",
    "        return {'mean': mean, 'fitted': fitted_vals}\n",
    "    return {'mean': mean}"
   ]
  },
  {
   "cell_type": "code",
   "execution_count": null,
   "metadata": {},
   "outputs": [],
   "source": [
    "#| export\n",
    "class Naive(_TS):\n",
    "    \n",
    "    def __init__(self):\n",
    "        \"\"\"Naive model.\n",
    "        [Source code](https://github.com/Nixtla/statsforecast/blob/main/statsforecast/simple_methods.py).\n",
    "\n",
    "        A random walk model, defined as $\\hat{y}_{t+1} = y_t$ $\\forall t$\n",
    "\n",
    "        **Parameters:**<br>\n",
    "\n",
    "        **References:**<br>\n",
    "        [Rob J. Hyndman and George Athanasopoulos (2018). \"forecasting principles and practice, Simple Methods\"](https://otexts.com/fpp3/simple-methods.html).\n",
    "        \"\"\"\n",
    "        pass\n",
    "    \n",
    "    def __repr__(self):\n",
    "        return 'Naive'\n",
    "    \n",
    "    def fit(\n",
    "            self, \n",
    "            y: np.ndarray,\n",
    "            X: np.ndarray = None\n",
    "        ):\n",
    "        \"\"\"Fit the Naive model.\n",
    "\n",
    "        Fit an Naive to a time series (numpy array) `y`.\n",
    "\n",
    "        **Parameters:**<br>\n",
    "        `y`: numpy array of shape (t, ), clean time series.<br>\n",
    "\n",
    "        **Returns:**<br>\n",
    "        `self`: Naive fitted model.\n",
    "        \"\"\"\n",
    "        mod = _naive(y, h=1, fitted=True)\n",
    "        mod = dict(mod) \n",
    "        residuals = y - mod['fitted']\n",
    "        sigma = _calculate_sigma(residuals, len(residuals) - 1)\n",
    "        mod['sigma'] = sigma\n",
    "        \n",
    "        sigma_vals = np.zeros(len(y))\n",
    "        sigma_vals[0] = float(\"nan\")\n",
    "        for k in range(2,len(y)): \n",
    "            model = _naive(y[:k], h=1, fitted=True)\n",
    "            residuals = y[:k]-model['fitted']\n",
    "            sigma = _calculate_sigma(residuals, len(residuals)-1)\n",
    "            sigma_vals[k-1] = sigma \n",
    "    \n",
    "        mod['sigma_vals'] = sigma_vals\n",
    "\n",
    "        self.model_ = mod\n",
    "        \n",
    "        return self\n",
    "    \n",
    "    def predict(\n",
    "            self, \n",
    "            h: int, # forecasting horizon \n",
    "            X: np.ndarray = None, # exogenous regressors\n",
    "            level: Optional[Tuple[int]] = None # confidence level\n",
    "        ):\n",
    "        \"\"\"Predict with fitted Naive.\n",
    "\n",
    "        **Parameters:**<br>\n",
    "        `h`: int, forecast horizon.<br>\n",
    "\n",
    "        **Returns:**<br>\n",
    "        `forecasts`: dictionary, with entries 'mean' for point predictions and\n",
    "            'level_*' for probabilistic predictions.<br>\n",
    "        \"\"\"\n",
    "        mean = _repeat_val(self.model_['mean'][0], h=h)\n",
    "        res = {'mean': mean}\n",
    "        \n",
    "        if level is not None: \n",
    "            steps = np.arange(1,h+1)\n",
    "            sigma = self.model_['sigma']\n",
    "            sigmah = sigma * np.sqrt(steps)\n",
    "            pred_int = _calculate_intervals(res, level, h, sigmah)\n",
    "            res = {**res, **pred_int}\n",
    "            \n",
    "        return res\n",
    "    \n",
    "    def predict_in_sample(\n",
    "            self, \n",
    "            level: Optional[Tuple[int]] = None\n",
    "        ):\n",
    "        \"\"\"Access fitted Naive insample predictions.\n",
    "\n",
    "        **Parameters:**<br>\n",
    "        `level`: float list 0-100, confidence levels for prediction intervals.<br>\n",
    "\n",
    "        **Returns:**<br>\n",
    "        `forecasts`: dictionary, with entries 'mean' for point predictions and\n",
    "            'level_*' for probabilistic predictions.<br>\n",
    "        \"\"\"\n",
    "        res = {'mean': self.model_['fitted']}\n",
    "        \n",
    "        if level is not None: \n",
    "            pi = np.zeros([len(self.model_['sigma_vals']), len(level)*2])\n",
    "            pi[0:2,:] = float(\"nan\")  \n",
    "            for k in range(1,len(pi)):\n",
    "                sigma = self.model_['sigma_vals'][k-1]\n",
    "                vals = {'mean': mod['fitted'][:k+1]}\n",
    "                intervals = _calculate_intervals(vals, level, 1, sigma)\n",
    "                vals_int = np.array(list(intervals.values()))\n",
    "                pi[k,] = vals_int[:,vals_int.shape[1]-1]\n",
    "        \n",
    "            fitted_int = {**{f'fitted-lo-{lv}': pi[:,i] for i, lv in enumerate(level)},\n",
    "                          **{f'fitted-hi-{lv}': pi[:,i+2] for i, lv in enumerate(level)}} \n",
    "\n",
    "            res = {**res, **fitted_int}\n",
    "            \n",
    "        return res\n",
    "    \n",
    "    def forecast(\n",
    "            self, \n",
    "            y: np.ndarray,\n",
    "            h: int,\n",
    "            X: np.ndarray = None,\n",
    "            X_future: np.ndarray = None,\n",
    "            fitted: bool = False,\n",
    "            level = None\n",
    "        ):\n",
    "        \"\"\"Memory Efficient Naive predictions.\n",
    "\n",
    "        This method avoids memory burden due from object storage.\n",
    "        It is analogous to `fit_predict` without storing information.\n",
    "        It assumes you know the forecast horizon in advance.\n",
    "\n",
    "        **Parameters:**<br>\n",
    "        `y`: numpy array of shape (n,), clean time series.<br>\n",
    "        `h`: int, forecast horizon.<br>\n",
    "        `level`: float list 0-100, confidence levels for prediction intervals.<br>\n",
    "        `fitted`: bool, wether or not returns insample predictions.<br>\n",
    "\n",
    "        **Returns:**<br>\n",
    "        `forecasts`: dictionary, with entries 'mean' for point predictions and\n",
    "            'level_*' for probabilistic predictions.<br>\n",
    "        \"\"\"\n",
    "        fitted = fitted or (level is not None)\n",
    "        out = _naive(y=y, h=h, fitted=fitted)\n",
    "        res = {'mean': out['mean']}\n",
    "        \n",
    "        if fitted:\n",
    "            res['fitted'] = out['fitted']\n",
    "        \n",
    "        if level is not None: \n",
    "            steps = np.arange(1,h+1)\n",
    "            residuals = y - out['fitted']\n",
    "            sigma = _calculate_sigma(residuals, len(residuals) - 1)\n",
    "            sigmah = sigma * np.sqrt(steps)\n",
    "            pred_int = _calculate_intervals(out, level, h, sigmah)\n",
    "            res = {**res, **pred_int}\n",
    "            \n",
    "            if fitted: \n",
    "                pi = np.zeros([len(y),len(level)*2])\n",
    "                pi[0:2,:] = float(\"nan\")    \n",
    "                for k in range(2,len(y)): \n",
    "                    model = _naive(y=y[:k,], h=1, fitted=fitted)\n",
    "                    residuals = y[:k]-model['fitted']\n",
    "                    sigma = _calculate_sigma(residuals, len(residuals)-1)\n",
    "                    intervals = _calculate_intervals(model, level, 1, sigma)\n",
    "                    pi[k,] = np.array(list(intervals.values())).reshape(1,len(level)*2)\n",
    "        \n",
    "                fitted_int = {**{f'fitted-lo-{lv}': pi[:,i] for i, lv in enumerate(level)},\n",
    "                              **{f'fitted-hi-{lv}': pi[:,i+2] for i, lv in enumerate(level)}} \n",
    "\n",
    "                res = {**res, **fitted_int}\n",
    "        \n",
    "        return res"
   ]
  },
  {
   "cell_type": "code",
   "execution_count": null,
   "metadata": {},
   "outputs": [
    {
     "data": {
      "text/plain": [
       "[<matplotlib.lines.Line2D>]"
      ]
     },
     "execution_count": null,
     "metadata": {},
     "output_type": "execute_result"
    },
    {
     "data": {
      "image/png": "[encoded data removed]",
      "text/plain": [
       "<Figure size 1440x504 with 1 Axes>"
      ]
     },
     "metadata": {
      "needs_background": "light"
     },
     "output_type": "display_data"
    }
   ],
   "source": [
    "#| hide \n",
    "# In-sample prediction intervals \n",
    "import matplotlib.pyplot as plt\n",
    "import pandas as pd \n",
    "from datetime import date, timedelta\n",
    "\n",
    "naive = Naive()\n",
    "fcst_naive = naive.forecast(ap,12,None,None,True,(80,95))\n",
    "\n",
    "# fcst_naive = naive.fit(ap) \n",
    "# fcst_naive = naive.predict_in_sample((80,95))\n",
    "\n",
    "fig, ax = plt.subplots(1, 1, figsize = (20,7))\n",
    "\n",
    "sdate = date(1949,1,1) # start date \n",
    "edate = date(1961,1,1) # end date\n",
    "dates = pd.date_range(sdate,edate-timedelta(days=1),freq='m')\n",
    "\n",
    "df = pd.DataFrame({'dates': dates,\n",
    "                   'actual': ap,\n",
    "                   'fitted': fcst_naive['fitted'],\n",
    "                   'fitted_lo_80': fcst_naive['fitted-lo-80'], \n",
    "                   'fitted_lo_95': fcst_naive['fitted-lo-95'], \n",
    "                   'fitted_hi_80': fcst_naive['fitted-hi-80'],\n",
    "                   'fitted_hi_95': fcst_naive['fitted-hi-95']})\n",
    "\n",
    "plt.plot(df.dates, df.actual, color='black', label='fitted-lo-80', linewidth=3)\n",
    "plt.plot(df.dates, df.fitted, color='blue', label='fitted-lo-80', linewidth=3)\n",
    "plt.plot(df.dates, df.fitted_lo_80, color='red', label='fitted-lo-80', linewidth=3)\n",
    "plt.plot(df.dates, df.fitted_lo_95, color='lightgreen', label='fitted-lo-95', linewidth=3)\n",
    "plt.plot(df.dates, df.fitted_hi_80, color='orange', label='fitted-hi-80', linewidth=3)\n",
    "plt.plot(df.dates, df.fitted_hi_95, color='darkviolet', label='fitted-hi-95', linewidth=3)"
   ]
  },
  {
   "cell_type": "code",
   "execution_count": null,
   "metadata": {},
   "outputs": [
    {
     "data": {
      "text/plain": [
       "actual          40363.000000\n",
       "fitted          39931.000000\n",
       "fitted_lo_80    36153.715366\n",
       "fitted_lo_95    34213.430884\n",
       "fitted_hi_80    43484.284634\n",
       "fitted_hi_95    45424.569116\n",
       "dtype: float64"
      ]
     },
     "execution_count": null,
     "metadata": {},
     "output_type": "execute_result"
    }
   ],
   "source": [
    "#| hide\n",
    "df.sum(axis=0) # this equals the results with the forecast R package "
   ]
  },
  {
   "cell_type": "code",
   "execution_count": null,
   "metadata": {},
   "outputs": [],
   "source": [
    "#| hide\n",
    "# DEV ENDS HERE "
   ]
  },
  {
   "cell_type": "code",
   "execution_count": null,
   "metadata": {},
   "outputs": [],
   "source": [
    "#| hide \n",
    "# Test prediction intervals - forecast\n",
    "naive = Naive()\n",
    "fcst_naive = naive.forecast(ap, 12, None, None, True, (80,95))"
   ]
  },
  {
   "cell_type": "code",
   "execution_count": null,
   "metadata": {},
   "outputs": [],
   "source": [
    "#| hide \n",
    "# Test prediction intervals - fit & predict\n",
    "naive = Naive()\n",
    "fcst_naive = naive.fit(ap)\n",
    "fcst_naive = naive.predict(12)"
   ]
  },
  {
   "cell_type": "code",
   "execution_count": null,
   "metadata": {},
   "outputs": [],
   "source": [
    "#| hide\n",
    "naive = Naive()\n",
    "test_class(naive, x=ap, h=12)\n",
    "naive.fit(ap)\n",
    "fcst_naive = naive.predict(12)\n",
    "test_close(fcst_naive['mean'], np.repeat(ap[-1], 12), eps=1e-5)"
   ]
  },
  {
   "cell_type": "code",
   "execution_count": null,
   "metadata": {},
   "outputs": [],
   "source": [
    "#| hide \n",
    "naive = Naive()\n",
    "fcst_naive = naive.forecast(ap,12,None,None,False,(80,95))\n",
    "np.testing.assert_almost_equal(\n",
    "    fcst_naive['lo-80'],\n",
    "    np.array([388.7984, 370.9037, 357.1726, 345.5967, 335.3982, 326.1781, 317.6992, 309.8073, 302.3951, 295.3845, 288.7164, 282.3452]),\n",
    "    decimal=4\n",
    ") # this is almost equal since Hyndman's forecasts are rounded up to 4 decimals"
   ]
  },
  {
   "cell_type": "code",
   "execution_count": null,
   "metadata": {},
   "outputs": [
    {
     "data": {
      "text/markdown": [
       "---\n",
       "\n",
       "### Naive\n",
       "\n",
       ">      Naive ()\n",
       "\n",
       "Naive model.\n",
       "[Source code](https://github.com/Nixtla/statsforecast/blob/main/statsforecast/simple_methods.py).\n",
       "\n",
       "A random walk model, defined as $\\hat{y}_{t+1} = y_t$ $\f",
       "orall t$\n",
       "\n",
       "**Parameters:**<br>\n",
       "\n",
       "**References:**<br>\n",
       "[Rob J. Hyndman and George Athanasopoulos (2018). \"forecasting principles and practice, Simple Methods\"](https://otexts.com/fpp3/simple-methods.html)."
      ],
      "text/plain": [
       "<nbdev.showdoc.BasicMarkdownRenderer>"
      ]
     },
     "execution_count": null,
     "metadata": {},
     "output_type": "execute_result"
    }
   ],
   "source": [
    "show_doc(Naive, title_level=3)"
   ]
  },
  {
   "cell_type": "code",
   "execution_count": null,
   "metadata": {},
   "outputs": [
    {
     "data": {
      "text/markdown": [
       "---\n",
       "\n",
       "#### Naive.forecast\n",
       "\n",
       ">      Naive.forecast (y:numpy.ndarray, h:int, X:numpy.ndarray=None,\n",
       ">                      X_future:numpy.ndarray=None, fitted:bool=False,\n",
       ">                      level=None)\n",
       "\n",
       "Memory Efficient Naive predictions.\n",
       "\n",
       "This method avoids memory burden due from object storage.\n",
       "It is analogous to `fit_predict` without storing information.\n",
       "It assumes you know the forecast horizon in advance.\n",
       "\n",
       "**Parameters:**<br>\n",
       "`y`: numpy array of shape (n,), clean time series.<br>\n",
       "`h`: int, forecast horizon.<br>\n",
       "`level`: float list 0-100, confidence levels for prediction intervals.<br>\n",
       "`fitted`: bool, wether or not returns insample predictions.<br>\n",
       "\n",
       "**Returns:**<br>\n",
       "`forecasts`: dictionary, with entries 'mean' for point predictions and\n",
       "    'level_*' for probabilistic predictions.<br>"
      ],
      "text/plain": [
       "<nbdev.showdoc.BasicMarkdownRenderer>"
      ]
     },
     "execution_count": null,
     "metadata": {},
     "output_type": "execute_result"
    }
   ],
   "source": [
    "show_doc(Naive.forecast, title_level=3)"
   ]
  },
  {
   "cell_type": "code",
   "execution_count": null,
   "metadata": {},
   "outputs": [
    {
     "data": {
      "text/markdown": [
       "---\n",
       "\n",
       "#### Naive.fit\n",
       "\n",
       ">      Naive.fit (y:numpy.ndarray, X:numpy.ndarray=None)\n",
       "\n",
       "Fit the Naive model.\n",
       "\n",
       "Fit an Naive to a time series (numpy array) `y`.\n",
       "\n",
       "**Parameters:**<br>\n",
       "`y`: numpy array of shape (t, ), clean time series.<br>\n",
       "\n",
       "**Returns:**<br>\n",
       "`self`: Naive fitted model."
      ],
      "text/plain": [
       "<nbdev.showdoc.BasicMarkdownRenderer>"
      ]
     },
     "execution_count": null,
     "metadata": {},
     "output_type": "execute_result"
    }
   ],
   "source": [
    "show_doc(Naive.fit, title_level=3)"
   ]
  },
  {
   "cell_type": "code",
   "execution_count": null,
   "metadata": {},
   "outputs": [
    {
     "data": {
      "text/markdown": [
       "---\n",
       "\n",
       "#### Naive.predict\n",
       "\n",
       ">      Naive.predict (h:int, X:numpy.ndarray=None,\n",
       ">                     level:Optional[Tuple[int]]=None)\n",
       "\n",
       "Predict with fitted Naive.\n",
       "\n",
       "**Parameters:**<br>\n",
       "`h`: int, forecast horizon.<br>\n",
       "\n",
       "**Returns:**<br>\n",
       "`forecasts`: dictionary, with entries 'mean' for point predictions and\n",
       "    'level_*' for probabilistic predictions.<br>\n",
       "\n",
       "|    | **Type** | **Default** | **Details** |\n",
       "| -- | -------- | ----------- | ----------- |\n",
       "| h | int |  | forecasting horizon |\n",
       "| X | ndarray | None | exogenous regressors |\n",
       "| level | typing.Optional[typing.Tuple[int]] | None | confidence level |"
      ],
      "text/plain": [
       "<nbdev.showdoc.BasicMarkdownRenderer>"
      ]
     },
     "execution_count": null,
     "metadata": {},
     "output_type": "execute_result"
    }
   ],
   "source": [
    "show_doc(Naive.predict, title_level=3)"
   ]
  },
  {
   "cell_type": "code",
   "execution_count": null,
   "metadata": {},
   "outputs": [
    {
     "data": {
      "text/markdown": [
       "---\n",
       "\n",
       "#### Naive.predict_in_sample\n",
       "\n",
       ">      Naive.predict_in_sample (level:Optional[Tuple[int]]=None)\n",
       "\n",
       "Access fitted Naive insample predictions.\n",
       "\n",
       "**Parameters:**<br>\n",
       "`level`: float list 0-100, confidence levels for prediction intervals.<br>\n",
       "\n",
       "**Returns:**<br>\n",
       "`forecasts`: dictionary, with entries 'mean' for point predictions and\n",
       "    'level_*' for probabilistic predictions.<br>"
      ],
      "text/plain": [
       "<nbdev.showdoc.BasicMarkdownRenderer>"
      ]
     },
     "execution_count": null,
     "metadata": {},
     "output_type": "execute_result"
    }
   ],
   "source": [
    "show_doc(Naive.predict_in_sample, title_level=3)"
   ]
  },
  {
   "cell_type": "code",
   "execution_count": null,
   "metadata": {},
   "outputs": [
    {
     "data": {
      "text/plain": [
       "{'mean': array([432., 432., 432., 432.], dtype=float32)}"
      ]
     },
     "execution_count": null,
     "metadata": {},
     "output_type": "execute_result"
    }
   ],
   "source": [
    "# Naive's usage example\n",
    "\n",
    "from statsforecast.models import Naive\n",
    "from statsforecast.utils import AirPassengers as ap\n",
    "\n",
    "\n",
    "model = Naive()\n",
    "model = model.fit(y=ap)\n",
    "y_hat_dict = model.predict(h=4)\n",
    "y_hat_dict"
   ]
  },
  {
   "cell_type": "markdown",
   "metadata": {},
   "source": [
    "## RandomWalkWithDrift"
   ]
  },
  {
   "cell_type": "code",
   "execution_count": null,
   "metadata": {},
   "outputs": [],
   "source": [
    "#| exporti\n",
    "@njit\n",
    "def _random_walk_with_drift(\n",
    "        y: np.ndarray, # time series\n",
    "        h: int, # forecasting horizon\n",
    "        fitted: bool, # fitted values\n",
    "    ): \n",
    "    slope = (y[-1] - y[0]) / (y.size - 1)\n",
    "    mean = slope * (1 + np.arange(h)) + y[-1]\n",
    "    fcst = {'mean': mean.astype(np.float32), \n",
    "            'slope': np.array([slope], dtype=np.float32), \n",
    "            'last_y': np.array([y[-1]], dtype=np.float32)}\n",
    "    if fitted:\n",
    "        fitted_vals = np.full(y.size, np.nan, dtype=np.float32)\n",
    "        fitted_vals[1:] = (slope + y[:-1]).astype(np.float32)\n",
    "        fcst['fitted'] = fitted_vals\n",
    "    return fcst"
   ]
  },
  {
   "cell_type": "code",
   "execution_count": null,
   "metadata": {},
   "outputs": [],
   "source": [
    "#| export\n",
    "class RandomWalkWithDrift(_TS):\n",
    "    \n",
    "    def __init__(self):\n",
    "        \"\"\"RandomWalkWithDrift model.\n",
    "        [Source code](https://github.com/Nixtla/statsforecast/blob/main/statsforecast/simple_methods.py).\n",
    "\n",
    "        A variation of the naive method allows the forecasts to change over time. \n",
    "        The amout of change, called drift, is the average change seen in the historical data. \n",
    "\n",
    "        $$ \\hat{y}_{t+1} = y_t+\\\\frac{1}{t-1}\\sum_{j=1}^t (y_j-y_{j-1}) = y_t+ \\\\frac{y_t-y_1}{t-1} $$\n",
    "\n",
    "        From the previous equation, we can see that this is equivalent to extrapolating a line between \n",
    "        the first and the last observation. \n",
    "\n",
    "        **Parameters:**<br>\n",
    "\n",
    "        **References:**<br>\n",
    "        [Rob J. Hyndman and George Athanasopoulos (2018). \"forecasting principles and practice, Simple Methods\"](https://otexts.com/fpp3/simple-methods.html).\n",
    "        \"\"\"\n",
    "        pass\n",
    "    \n",
    "    def __repr__(self):\n",
    "        return 'RWD'\n",
    "    \n",
    "    def fit(\n",
    "            self,\n",
    "            y: np.ndarray,\n",
    "            X: np.ndarray = None\n",
    "        ):\n",
    "        \"\"\"Fit the RandomWalkWithDrift model.\n",
    "\n",
    "        Fit an RandomWalkWithDrift to a time series (numpy array) `y`.\n",
    "\n",
    "        **Parameters:**<br>\n",
    "        `y`: numpy array of shape (t, ), clean time series.<br>\n",
    "\n",
    "        **Returns:**<br>\n",
    "        `self`: RandomWalkWithDrift fitted model.\n",
    "        \"\"\"        \n",
    "        mod = _random_walk_with_drift(y, h=1, fitted=True)\n",
    "        mod = dict(mod) \n",
    "        residuals = y - mod['fitted']\n",
    "        sigma = _calculate_sigma(residuals, len(residuals) - 1)\n",
    "        mod['sigma'] = sigma\n",
    "        mod['n'] = len(y)\n",
    "        \n",
    "        sigma_vals = np.zeros(len(y))\n",
    "        sigma_vals[0] = float(\"nan\")\n",
    "        for k in range(2,len(y)): \n",
    "            model = _random_walk_with_drift(y[:k], h=1, fitted=True)\n",
    "            residuals = y[:k]-model['fitted']\n",
    "            sigma = _calculate_sigma(residuals, len(residuals)-1)\n",
    "            sigma_vals[k-1] = sigma \n",
    "    \n",
    "        mod['sigma_vals'] = sigma_vals\n",
    "\n",
    "        self.model_ = mod\n",
    "        return self\n",
    "        \n",
    "    def predict(\n",
    "            self,\n",
    "            h: int, \n",
    "            X: np.ndarray = None, \n",
    "            level: Optional[Tuple[int]] = None\n",
    "        ):\n",
    "        \"\"\"Predict with fitted RandomWalkWithDrift.\n",
    "\n",
    "        **Parameters:**<br>\n",
    "        `h`: int, forecast horizon.<br>\n",
    "\n",
    "        **Returns:**<br>\n",
    "        `forecasts`: dictionary, with entries 'mean' for point predictions and\n",
    "            'level_*' for probabilistic predictions.<br>\n",
    "        \"\"\"\n",
    "        hrange = np.arange(h, dtype=np.float32)\n",
    "        mean = self.model_['slope'] * (1 + hrange) + self.model_['last_y']\n",
    "        res = {'mean': mean}\n",
    "        \n",
    "        if level is not None: \n",
    "            steps = np.arange(1, h + 1)\n",
    "            sigma = self.model_['sigma']\n",
    "            sigmah = sigma * np.sqrt(steps * (1 + steps / (self.model_['n'] - 1)))\n",
    "            pred_int = _calculate_intervals(res, level, h, sigmah)\n",
    "            res = {**res, **pred_int}\n",
    "        \n",
    "        return res\n",
    "    \n",
    "    def predict_in_sample(\n",
    "            self,\n",
    "            level: Optional[Tuple[int]] = None\n",
    "        ):\n",
    "        \"\"\"Access fitted RandomWalkWithDrift insample predictions.\n",
    "\n",
    "        **Parameters:**<br>\n",
    "        `level`: float list 0-100, confidence levels for prediction intervals.<br>\n",
    "\n",
    "        **Returns:**<br>\n",
    "        `forecasts`: dictionary, with entries 'mean' for point predictions and\n",
    "            'level_*' for probabilistic predictions.<br>\n",
    "        \"\"\"\n",
    "        res = {'mean': self.model_['fitted']}\n",
    "        \n",
    "        if level is not None: \n",
    "            pi = np.zeros([len(self.model_['sigma_vals']), len(level)*2])\n",
    "            pi[0:2,:] = float(\"nan\")  \n",
    "            for k in range(1,len(pi)):\n",
    "                sigma = self.model_['sigma_vals'][k-1]\n",
    "                vals = {'mean': mod['fitted'][:k+1]}\n",
    "                intervals = _calculate_intervals(vals, level, 1, sigma)\n",
    "                vals_int = np.array(list(intervals.values()))\n",
    "                pi[k,] = vals_int[:,vals_int.shape[1]-1]\n",
    "        \n",
    "            fitted_int = {**{f'fitted-lo-{lv}': pi[:,i] for i, lv in enumerate(level)},\n",
    "                          **{f'fitted-hi-{lv}': pi[:,i+2] for i, lv in enumerate(level)}} \n",
    "\n",
    "            res = {**res, **fitted_int}\n",
    "        \n",
    "        return res\n",
    "\n",
    "    def forecast(\n",
    "            self, \n",
    "            y: np.ndarray,\n",
    "            h: int,\n",
    "            X: np.ndarray = None,\n",
    "            X_future: np.ndarray = None,\n",
    "            fitted: bool = False,\n",
    "            level: Optional[Tuple[int]] = None,\n",
    "        ):\n",
    "        \"\"\"Memory Efficient RandomWalkWithDrift predictions.\n",
    "\n",
    "        This method avoids memory burden due from object storage.\n",
    "        It is analogous to `fit_predict` without storing information.\n",
    "        It assumes you know the forecast horizon in advance.\n",
    "\n",
    "        **Parameters:**<br>\n",
    "        `y`: numpy array of shape (n,), clean time series.<br>\n",
    "        `h`: int, forecast horizon.<br>\n",
    "        `level`: float list 0-100, confidence levels for prediction intervals.<br>\n",
    "        `fitted`: bool, wether or not returns insample predictions.<br>\n",
    "\n",
    "        **Returns:**<br>\n",
    "        `forecasts`: dictionary, with entries 'mean' for point predictions and\n",
    "            'level_*' for probabilistic predictions.<br>\n",
    "        \"\"\"\n",
    "        fitted = fitted or (level is not None)\n",
    "        out = _random_walk_with_drift(y=y, h=h, fitted=fitted)\n",
    "        res = {'mean': out['mean']}\n",
    "        \n",
    "        if fitted:\n",
    "            res['fitted'] = out['fitted']\n",
    "        \n",
    "        if level is not None: \n",
    "            steps = np.arange(1, h + 1)\n",
    "            residuals = y - out['fitted']\n",
    "            sigma = _calculate_sigma(residuals, len(residuals) - 1)\n",
    "            sigmah = sigma * np.sqrt(steps * (1 + steps / (len(y) - 1)))\n",
    "            pred_int = _calculate_intervals(out, level, h, sigmah)\n",
    "            res = {**res, **pred_int}\n",
    "            \n",
    "            if fitted: \n",
    "                pi = np.zeros([len(y),len(level)*2])\n",
    "                pi[0:3,:] = float(\"nan\")\n",
    "                for k in range(3,len(y)): \n",
    "                    model = _random_walk_with_drift(y=y[:k,], h=1, fitted=fitted)\n",
    "                    residuals = y[:k]-model['fitted']\n",
    "                    sigma = _calculate_sigma(residuals, len(residuals)-1)\n",
    "                    intervals = _calculate_intervals(model, level, 1, sigma)\n",
    "                    pi[k,] = np.array(list(intervals.values())).reshape(1,len(level)*2)\n",
    "                    \n",
    "                fitted_int = {**{f'fitted-lo-{lv}': pi[:,i] for i, lv in enumerate(level)},\n",
    "                              **{f'fitted-hi-{lv}': pi[:,i+2] for i, lv in enumerate(level)}} \n",
    "\n",
    "                res = {**res, **fitted_int}\n",
    "            \n",
    "        return res "
   ]
  },
  {
   "cell_type": "code",
   "execution_count": null,
   "metadata": {},
   "outputs": [
    {
     "data": {
      "text/plain": [
       "[<matplotlib.lines.Line2D>]"
      ]
     },
     "execution_count": null,
     "metadata": {},
     "output_type": "execute_result"
    },
    {
     "data": {
      "image/png": "[encoded data removed]",
      "text/plain": [
       "<Figure size 1440x504 with 1 Axes>"
      ]
     },
     "metadata": {
      "needs_background": "light"
     },
     "output_type": "display_data"
    }
   ],
   "source": [
    "#| hide\n",
    "# In-sample prediction intervals \n",
    "rwd = RandomWalkWithDrift()\n",
    "fcst_rwd = rwd.forecast(ap, 12, None, None, True, (80,95))\n",
    "\n",
    "# fcst_rwd = rwd.fit(ap) \n",
    "# fcst_rwd = rwd.predict_in_sample((80,95))\n",
    "\n",
    "fig, ax = plt.subplots(1, 1, figsize = (20,7))\n",
    "\n",
    "sdate = date(1949,1,1) # start date \n",
    "edate = date(1961,1,1) # end date\n",
    "dates = pd.date_range(sdate,edate-timedelta(days=1),freq='m')\n",
    "\n",
    "df = pd.DataFrame({'dates': dates,\n",
    "                   'actual': ap,\n",
    "                   'fitted': fcst_rwd['fitted'],\n",
    "                   'fitted_lo_80': fcst_rwd['fitted-lo-80'], \n",
    "                   'fitted_lo_95': fcst_rwd['fitted-lo-95'], \n",
    "                   'fitted_hi_80': fcst_rwd['fitted-hi-80'],\n",
    "                   'fitted_hi_95': fcst_rwd['fitted-hi-95']})\n",
    "\n",
    "plt.plot(df.dates, df.actual, color='black', label='fitted-lo-80', linewidth=3)\n",
    "plt.plot(df.dates, df.fitted, color='blue', label='fitted-lo-80', linewidth=3)\n",
    "plt.plot(df.dates, df.fitted_lo_80, color='red', label='fitted-lo-80', linewidth=3)\n",
    "plt.plot(df.dates, df.fitted_lo_95, color='lightgreen', label='fitted-lo-95', linewidth=3)\n",
    "plt.plot(df.dates, df.fitted_hi_80, color='orange', label='fitted-hi-80', linewidth=3)\n",
    "plt.plot(df.dates, df.fitted_hi_95, color='darkviolet', label='fitted-hi-95', linewidth=3)"
   ]
  },
  {
   "cell_type": "code",
   "execution_count": null,
   "metadata": {},
   "outputs": [
    {
     "data": {
      "text/plain": [
       "actual          40363.000000\n",
       "fitted          40251.000000\n",
       "fitted_lo_80    36410.378856\n",
       "fitted_lo_95    34495.287715\n",
       "fitted_hi_80    43645.765416\n",
       "fitted_hi_95    45560.856557\n",
       "dtype: float64"
      ]
     },
     "execution_count": null,
     "metadata": {},
     "output_type": "execute_result"
    }
   ],
   "source": [
    "#| hide\n",
    "df.sum(axis=0) # this equals the results with the forecast R package"
   ]
  },
  {
   "cell_type": "code",
   "execution_count": null,
   "metadata": {},
   "outputs": [],
   "source": [
    "#| hide \n",
    "# Test prediction intervals - forecast\n",
    "rwd = RandomWalkWithDrift()\n",
    "fcst_rwd = rwd.forecast(ap, 12, None, None, True, (80,95))"
   ]
  },
  {
   "cell_type": "code",
   "execution_count": null,
   "metadata": {},
   "outputs": [],
   "source": [
    "#| hide \n",
    "# Test prediction intervals - fit & predict \n",
    "rwd = RandomWalkWithDrift()\n",
    "fcst_rwd = rwd.fit(ap)\n",
    "fcst_rwd = rwd.predict(12, None, (80,95))"
   ]
  },
  {
   "cell_type": "code",
   "execution_count": null,
   "metadata": {},
   "outputs": [],
   "source": [
    "#| hide\n",
    "rwd = RandomWalkWithDrift()\n",
    "test_class(rwd, x=ap, h=12)\n",
    "rwd = rwd.fit(ap)\n",
    "fcst_rwd = rwd.predict(12)\n",
    "test_close(fcst_rwd['mean'][:2], np.array([434.2378, 436.4755]), eps=1e-4)\n",
    "np.testing.assert_almost_equal(\n",
    "    rwd.predict_in_sample()['mean'][:3], \n",
    "    np.array([np.nan, 118 - 3.7622378, 132 - 11.7622378]),\n",
    "    decimal=6\n",
    ")"
   ]
  },
  {
   "cell_type": "code",
   "execution_count": null,
   "metadata": {},
   "outputs": [],
   "source": [
    "#| hide \n",
    "rwd = RandomWalkWithDrift()\n",
    "fcst_rwd = rwd.forecast(ap,12,None,None,False,(80,95))\n",
    "np.testing.assert_almost_equal(\n",
    "    fcst_rwd['lo-80'],\n",
    "    np.array([390.9799, 375.0862, 363.2664, 353.5325, 345.1178, 337.6304, 330.8384, 324.5916, 318.7857, 313.3453, 308.2136, 303.3469]),\n",
    "    decimal=1\n",
    ")"
   ]
  },
  {
   "cell_type": "code",
   "execution_count": null,
   "metadata": {},
   "outputs": [
    {
     "data": {
      "text/markdown": [
       "---\n",
       "\n",
       "### RandomWalkWithDrift\n",
       "\n",
       ">      RandomWalkWithDrift ()\n",
       "\n",
       "RandomWalkWithDrift model.\n",
       "[Source code](https://github.com/Nixtla/statsforecast/blob/main/statsforecast/simple_methods.py).\n",
       "\n",
       "A variation of the naive method allows the forecasts to change over time. \n",
       "The amout of change, called drift, is the average change seen in the historical data. \n",
       "\n",
       "$$ \\hat{y}_{t+1} = y_t+\\frac{1}{t-1}\\sum_{j=1}^t (y_j-y_{j-1}) = y_t+ \\frac{y_t-y_1}{t-1} $$\n",
       "\n",
       "From the previous equation, we can see that this is equivalent to extrapolating a line between \n",
       "the first and the last observation. \n",
       "\n",
       "**Parameters:**<br>\n",
       "\n",
       "**References:**<br>\n",
       "[Rob J. Hyndman and George Athanasopoulos (2018). \"forecasting principles and practice, Simple Methods\"](https://otexts.com/fpp3/simple-methods.html)."
      ],
      "text/plain": [
       "<nbdev.showdoc.BasicMarkdownRenderer>"
      ]
     },
     "execution_count": null,
     "metadata": {},
     "output_type": "execute_result"
    }
   ],
   "source": [
    "show_doc(RandomWalkWithDrift, title_level=3)"
   ]
  },
  {
   "cell_type": "code",
   "execution_count": null,
   "metadata": {},
   "outputs": [
    {
     "data": {
      "text/markdown": [
       "---\n",
       "\n",
       "#### RandomWalkWithDrift.forecast\n",
       "\n",
       ">      RandomWalkWithDrift.forecast (y:numpy.ndarray, h:int,\n",
       ">                                    X:numpy.ndarray=None,\n",
       ">                                    X_future:numpy.ndarray=None,\n",
       ">                                    fitted:bool=False,\n",
       ">                                    level:Optional[Tuple[int]]=None)\n",
       "\n",
       "Memory Efficient RandomWalkWithDrift predictions.\n",
       "\n",
       "This method avoids memory burden due from object storage.\n",
       "It is analogous to `fit_predict` without storing information.\n",
       "It assumes you know the forecast horizon in advance.\n",
       "\n",
       "**Parameters:**<br>\n",
       "`y`: numpy array of shape (n,), clean time series.<br>\n",
       "`h`: int, forecast horizon.<br>\n",
       "`level`: float list 0-100, confidence levels for prediction intervals.<br>\n",
       "`fitted`: bool, wether or not returns insample predictions.<br>\n",
       "\n",
       "**Returns:**<br>\n",
       "`forecasts`: dictionary, with entries 'mean' for point predictions and\n",
       "    'level_*' for probabilistic predictions.<br>"
      ],
      "text/plain": [
       "<nbdev.showdoc.BasicMarkdownRenderer>"
      ]
     },
     "execution_count": null,
     "metadata": {},
     "output_type": "execute_result"
    }
   ],
   "source": [
    "show_doc(RandomWalkWithDrift.forecast, title_level=3)"
   ]
  },
  {
   "cell_type": "code",
   "execution_count": null,
   "metadata": {},
   "outputs": [
    {
     "data": {
      "text/markdown": [
       "---\n",
       "\n",
       "#### RandomWalkWithDrift.fit\n",
       "\n",
       ">      RandomWalkWithDrift.fit (y:numpy.ndarray, X:numpy.ndarray=None)\n",
       "\n",
       "Fit the RandomWalkWithDrift model.\n",
       "\n",
       "Fit an RandomWalkWithDrift to a time series (numpy array) `y`.\n",
       "\n",
       "**Parameters:**<br>\n",
       "`y`: numpy array of shape (t, ), clean time series.<br>\n",
       "\n",
       "**Returns:**<br>\n",
       "`self`: RandomWalkWithDrift fitted model."
      ],
      "text/plain": [
       "<nbdev.showdoc.BasicMarkdownRenderer>"
      ]
     },
     "execution_count": null,
     "metadata": {},
     "output_type": "execute_result"
    }
   ],
   "source": [
    "show_doc(RandomWalkWithDrift.fit, title_level=3)"
   ]
  },
  {
   "cell_type": "code",
   "execution_count": null,
   "metadata": {},
   "outputs": [
    {
     "data": {
      "text/markdown": [
       "---\n",
       "\n",
       "#### RandomWalkWithDrift.predict\n",
       "\n",
       ">      RandomWalkWithDrift.predict (h:int, X:numpy.ndarray=None,\n",
       ">                                   level:Optional[Tuple[int]]=None)\n",
       "\n",
       "Predict with fitted RandomWalkWithDrift.\n",
       "\n",
       "**Parameters:**<br>\n",
       "`h`: int, forecast horizon.<br>\n",
       "\n",
       "**Returns:**<br>\n",
       "`forecasts`: dictionary, with entries 'mean' for point predictions and\n",
       "    'level_*' for probabilistic predictions.<br>"
      ],
      "text/plain": [
       "<nbdev.showdoc.BasicMarkdownRenderer>"
      ]
     },
     "execution_count": null,
     "metadata": {},
     "output_type": "execute_result"
    }
   ],
   "source": [
    "show_doc(RandomWalkWithDrift.predict, title_level=3)"
   ]
  },
  {
   "cell_type": "code",
   "execution_count": null,
   "metadata": {},
   "outputs": [
    {
     "data": {
      "text/markdown": [
       "---\n",
       "\n",
       "#### RandomWalkWithDrift.predict_in_sample\n",
       "\n",
       ">      RandomWalkWithDrift.predict_in_sample (level:Optional[Tuple[int]]=None)\n",
       "\n",
       "Access fitted RandomWalkWithDrift insample predictions.\n",
       "\n",
       "**Parameters:**<br>\n",
       "`level`: float list 0-100, confidence levels for prediction intervals.<br>\n",
       "\n",
       "**Returns:**<br>\n",
       "`forecasts`: dictionary, with entries 'mean' for point predictions and\n",
       "    'level_*' for probabilistic predictions.<br>"
      ],
      "text/plain": [
       "<nbdev.showdoc.BasicMarkdownRenderer>"
      ]
     },
     "execution_count": null,
     "metadata": {},
     "output_type": "execute_result"
    }
   ],
   "source": [
    "show_doc(RandomWalkWithDrift.predict_in_sample, title_level=3)"
   ]
  },
  {
   "cell_type": "code",
   "execution_count": null,
   "metadata": {},
   "outputs": [
    {
     "data": {
      "text/plain": [
       "{'mean': array([434.23776, 436.47552, 438.7133 , 440.95105], dtype=float32)}"
      ]
     },
     "execution_count": null,
     "metadata": {},
     "output_type": "execute_result"
    }
   ],
   "source": [
    "# RandomWalkWithDrift's usage example\n",
    "\n",
    "from statsforecast.models import RandomWalkWithDrift\n",
    "from statsforecast.utils import AirPassengers as ap\n",
    "\n",
    "\n",
    "model = RandomWalkWithDrift()\n",
    "model = model.fit(y=ap)\n",
    "y_hat_dict = model.predict(h=4)\n",
    "y_hat_dict"
   ]
  },
  {
   "cell_type": "markdown",
   "metadata": {},
   "source": [
    "## SeasonalNaive"
   ]
  },
  {
   "cell_type": "code",
   "execution_count": null,
   "metadata": {},
   "outputs": [],
   "source": [
    "#| exporti\n",
    "@njit\n",
    "def _seasonal_naive(\n",
    "        y: np.ndarray, # time series\n",
    "        h: int, # forecasting horizon\n",
    "        fitted: bool, #fitted values\n",
    "        season_length: int, # season length\n",
    "    ): \n",
    "    if y.size < season_length:\n",
    "        return {'mean': np.full(h, np.nan, np.float32)}\n",
    "    season_vals = np.empty(season_length, np.float32)\n",
    "    fitted_vals = np.full(y.size, np.nan, np.float32)\n",
    "    for i in range(season_length):\n",
    "        s_naive = _naive(y[i::season_length], h=1, fitted=fitted)\n",
    "        season_vals[i] = s_naive['mean'].item()\n",
    "        if fitted:\n",
    "            fitted_vals[i::season_length] = s_naive['fitted']\n",
    "    out = _repeat_val_seas(season_vals=season_vals, h=h, season_length=season_length)\n",
    "    fcst = {'mean': out}\n",
    "    if fitted:\n",
    "        fcst['fitted'] = fitted_vals\n",
    "    return fcst"
   ]
  },
  {
   "cell_type": "code",
   "execution_count": null,
   "metadata": {},
   "outputs": [],
   "source": [
    "#| export\n",
    "class SeasonalNaive(_TS):\n",
    "    \n",
    "    def __init__(self, season_length: int):\n",
    "        self.season_length = season_length\n",
    "\n",
    "    def __repr__(self):\n",
    "        return 'SeasonalNaive'\n",
    "    \n",
    "    def fit(\n",
    "            self,\n",
    "            y: np.ndarray,\n",
    "            X: np.ndarray = None\n",
    "        ):\n",
    "        \"\"\"Fit the SeasonalNaive model.\n",
    "\n",
    "        Fit an SeasonalNaive to a time series (numpy array) `y`.\n",
    "\n",
    "        **Parameters:**<br>\n",
    "        `y`: numpy array of shape (t, ), clean time series.<br>\n",
    "\n",
    "        **Returns:**<br>\n",
    "        `self`: SeasonalNaive fitted model.\n",
    "        \"\"\"        \n",
    "        mod = _seasonal_naive(\n",
    "            y=y, \n",
    "            season_length=self.season_length, \n",
    "            h=self.season_length, \n",
    "            fitted=True,\n",
    "        )\n",
    "        mod = dict(mod) \n",
    "        residuals = y - mod['fitted']\n",
    "        mod['sigma'] = _calculate_sigma(residuals, \n",
    "                                        len(y) - self.season_length)\n",
    "        self.model_ = mod\n",
    "        return self\n",
    "        \n",
    "        \n",
    "    def predict(\n",
    "            self,\n",
    "            h: int,  \n",
    "            X: np.ndarray = None,\n",
    "            level: Optional[Tuple[int]] = None, \n",
    "        ):\n",
    "        \"\"\"Predict with fitted Naive.\n",
    "\n",
    "        **Parameters:**<br>\n",
    "        `h`: int, forecast horizon.<br>\n",
    "\n",
    "        **Returns:**<br>\n",
    "        `forecasts`: dictionary, with entries 'mean' for point predictions and\n",
    "            'level_*' for probabilistic predictions.<br>\n",
    "        \"\"\"\n",
    "        mean = _repeat_val_seas(season_vals=self.model_['mean'], \n",
    "                                season_length=self.season_length, h=h)\n",
    "        res = {'mean': mean}\n",
    "        \n",
    "        if level is not None: \n",
    "            k = np.floor((h - 1) / self.season_length)\n",
    "            sigma = self.model_['sigma']\n",
    "            sigmah = sigma * np.sqrt(k + 1)\n",
    "            pred_int = _calculate_intervals(res, level, h, sigmah)\n",
    "            res = {**res, **pred_int}\n",
    "        \n",
    "        return res\n",
    "        \n",
    "    def predict_in_sample(self):\n",
    "        \"\"\"Access fitted SeasonalNaive insample predictions.\n",
    "\n",
    "        **Parameters:**<br>\n",
    "        `level`: float list 0-100, confidence levels for prediction intervals.<br>\n",
    "\n",
    "        **Returns:**<br>\n",
    "        `forecasts`: dictionary, with entries 'mean' for point predictions and\n",
    "            'level_*' for probabilistic predictions.<br>\n",
    "        \"\"\"        \n",
    "        res = {'mean': self.model_['fitted']}\n",
    "        return res\n",
    "    \n",
    "    def forecast(\n",
    "            self, \n",
    "            y: np.ndarray,\n",
    "            h: int,\n",
    "            X: np.ndarray = None,\n",
    "            X_future: np.ndarray = None,\n",
    "            fitted: bool = False,\n",
    "            level: Optional[Tuple[int]] = None,\n",
    "        ):\n",
    "        \"\"\"Memory Efficient SeasonalNaive predictions.\n",
    "\n",
    "        This method avoids memory burden due from object storage.\n",
    "        It is analogous to `fit_predict` without storing information.\n",
    "        It assumes you know the forecast horizon in advance.\n",
    "\n",
    "        **Parameters:**<br>\n",
    "        `y`: numpy array of shape (n,), clean time series.<br>\n",
    "        `h`: int, forecast horizon.<br>\n",
    "        `level`: float list 0-100, confidence levels for prediction intervals.<br>\n",
    "        `fitted`: bool, wether or not returns insample predictions.<br>\n",
    "\n",
    "        **Returns:**<br>\n",
    "        `forecasts`: dictionary, with entries 'mean' for point predictions and\n",
    "            'level_*' for probabilistic predictions.<br>\n",
    "        \"\"\"\n",
    "        fitted = fitted or (level is not None)\n",
    "        out = _seasonal_naive(\n",
    "            y=y, h=h, fitted=fitted, \n",
    "            season_length=self.season_length\n",
    "        )\n",
    "        res = {'mean': out['mean']}\n",
    "        \n",
    "        if fitted:\n",
    "            res['fitted'] = out['fitted']\n",
    "        \n",
    "        if level is not None: \n",
    "            k = np.floor((h - 1) / self.season_length)\n",
    "            residuals = y - out['fitted']\n",
    "            sigma = _calculate_sigma(residuals, len(y) - self.season_length)\n",
    "            sigmah = sigma * np.sqrt(k + 1)\n",
    "            pred_int = _calculate_intervals(out, level, h, sigmah)\n",
    "            res = {**res, **pred_int}\n",
    "                \n",
    "        return res    "
   ]
  },
  {
   "cell_type": "code",
   "execution_count": null,
   "metadata": {},
   "outputs": [
    {
     "data": {
      "text/plain": [
       "{'mean': array([417., 391., 419., 461., 472., 535., 622., 606., 508., 461., 390.,\n",
       "        432.], dtype=float32),\n",
       " 'fitted': array([ nan,  nan,  nan,  nan,  nan,  nan,  nan,  nan,  nan,  nan,  nan,\n",
       "         nan, 112., 118., 132., 129., 121., 135., 148., 148., 136., 119.,\n",
       "        104., 118., 115., 126., 141., 135., 125., 149., 170., 170., 158.,\n",
       "        133., 114., 140., 145., 150., 178., 163., 172., 178., 199., 199.,\n",
       "        184., 162., 146., 166., 171., 180., 193., 181., 183., 218., 230.,\n",
       "        242., 209., 191., 172., 194., 196., 196., 236., 235., 229., 243.,\n",
       "        264., 272., 237., 211., 180., 201., 204., 188., 235., 227., 234.,\n",
       "        264., 302., 293., 259., 229., 203., 229., 242., 233., 267., 269.,\n",
       "        270., 315., 364., 347., 312., 274., 237., 278., 284., 277., 317.,\n",
       "        313., 318., 374., 413., 405., 355., 306., 271., 306., 315., 301.,\n",
       "        356., 348., 355., 422., 465., 467., 404., 347., 305., 336., 340.,\n",
       "        318., 362., 348., 363., 435., 491., 505., 404., 359., 310., 337.,\n",
       "        360., 342., 406., 396., 420., 472., 548., 559., 463., 407., 362.,\n",
       "        405.], dtype=float32),\n",
       " 'lo-80': array([370.45950017, 344.45950017, 372.45950017, 414.45950017,\n",
       "        425.45950017, 488.45950017, 575.45950017, 559.45950017,\n",
       "        461.45950017, 414.45950017, 343.45950017, 385.45950017]),\n",
       " 'lo-95': array([345.82244777, 319.82244777, 347.82244777, 389.82244777,\n",
       "        400.82244777, 463.82244777, 550.82244777, 534.82244777,\n",
       "        436.82244777, 389.82244777, 318.82244777, 360.82244777]),\n",
       " 'hi-80': array([463.54049983, 437.54049983, 465.54049983, 507.54049983,\n",
       "        518.54049983, 581.54049983, 668.54049983, 652.54049983,\n",
       "        554.54049983, 507.54049983, 436.54049983, 478.54049983]),\n",
       " 'hi-95': array([488.17755223, 462.17755223, 490.17755223, 532.17755223,\n",
       "        543.17755223, 606.17755223, 693.17755223, 677.17755223,\n",
       "        579.17755223, 532.17755223, 461.17755223, 503.17755223])}"
      ]
     },
     "execution_count": null,
     "metadata": {},
     "output_type": "execute_result"
    }
   ],
   "source": [
    "#| hide \n",
    "# Test prediction intervals - forecast\n",
    "seas_naive = SeasonalNaive(season_length=12)\n",
    "seas_naive.forecast(ap, 12, None, None, True, (80,95))"
   ]
  },
  {
   "cell_type": "code",
   "execution_count": null,
   "metadata": {},
   "outputs": [
    {
     "data": {
      "text/plain": [
       "{'mean': array([417., 391., 419., 461., 472., 535., 622., 606., 508., 461., 390.,\n",
       "        432.], dtype=float32),\n",
       " 'lo-80': array([370.45950017, 344.45950017, 372.45950017, 414.45950017,\n",
       "        425.45950017, 488.45950017, 575.45950017, 559.45950017,\n",
       "        461.45950017, 414.45950017, 343.45950017, 385.45950017]),\n",
       " 'lo-95': array([345.82244777, 319.82244777, 347.82244777, 389.82244777,\n",
       "        400.82244777, 463.82244777, 550.82244777, 534.82244777,\n",
       "        436.82244777, 389.82244777, 318.82244777, 360.82244777]),\n",
       " 'hi-80': array([463.54049983, 437.54049983, 465.54049983, 507.54049983,\n",
       "        518.54049983, 581.54049983, 668.54049983, 652.54049983,\n",
       "        554.54049983, 507.54049983, 436.54049983, 478.54049983]),\n",
       " 'hi-95': array([488.17755223, 462.17755223, 490.17755223, 532.17755223,\n",
       "        543.17755223, 606.17755223, 693.17755223, 677.17755223,\n",
       "        579.17755223, 532.17755223, 461.17755223, 503.17755223])}"
      ]
     },
     "execution_count": null,
     "metadata": {},
     "output_type": "execute_result"
    }
   ],
   "source": [
    "#| hide \n",
    "# Test prediction intervals - fit and predict \n",
    "seas_naive = SeasonalNaive(season_length=12)\n",
    "seas_naive.fit(ap)\n",
    "seas_naive.predict(12)\n",
    "seas_naive.predict(12, None, (80,95))"
   ]
  },
  {
   "cell_type": "code",
   "execution_count": null,
   "metadata": {},
   "outputs": [],
   "source": [
    "#| hide\n",
    "seas_naive = SeasonalNaive(season_length=12)\n",
    "test_class(seas_naive, x=ap, h=12)\n",
    "seas_naive = seas_naive.fit(ap)\n",
    "fcst_seas_naive = seas_naive.predict(12)\n",
    "test_eq(seas_naive.predict_in_sample()['mean'][-3:], np.array([461 - 54., 390 - 28., 432 - 27.]))"
   ]
  },
  {
   "cell_type": "code",
   "execution_count": null,
   "metadata": {},
   "outputs": [],
   "source": [
    "#| hide \n",
    "seas_naive = SeasonalNaive(season_length=12)\n",
    "fcst_seas_naive = seas_naive.forecast(ap, 12, None, None, False, (80,95))\n",
    "np.testing.assert_almost_equal(\n",
    "    fcst_seas_naive['lo-80'],\n",
    "    np.array([370.4595, 344.4595, 372.4595, 414.4595, 425.4595, 488.4595, \n",
    "              575.4595, 559.4595, 461.4595, 414.4595, 343.4595, 385.4595]),\n",
    "    decimal=4\n",
    ")"
   ]
  },
  {
   "cell_type": "code",
   "execution_count": null,
   "metadata": {},
   "outputs": [
    {
     "data": {
      "text/markdown": [
       "---\n",
       "\n",
       "### SeasonalNaive\n",
       "\n",
       ">      SeasonalNaive (season_length:int)\n",
       "\n",
       "Initialize self.  See help(type(self)) for accurate signature."
      ],
      "text/plain": [
       "<nbdev.showdoc.BasicMarkdownRenderer>"
      ]
     },
     "execution_count": null,
     "metadata": {},
     "output_type": "execute_result"
    }
   ],
   "source": [
    "show_doc(SeasonalNaive, title_level=3)"
   ]
  },
  {
   "cell_type": "code",
   "execution_count": null,
   "metadata": {},
   "outputs": [
    {
     "data": {
      "text/markdown": [
       "---\n",
       "\n",
       "#### SeasonalNaive.forecast\n",
       "\n",
       ">      SeasonalNaive.forecast (y:numpy.ndarray, h:int, X:numpy.ndarray=None,\n",
       ">                              X_future:numpy.ndarray=None, fitted:bool=False,\n",
       ">                              level:Optional[Tuple[int]]=None)\n",
       "\n",
       "Memory Efficient SeasonalNaive predictions.\n",
       "\n",
       "This method avoids memory burden due from object storage.\n",
       "It is analogous to `fit_predict` without storing information.\n",
       "It assumes you know the forecast horizon in advance.\n",
       "\n",
       "**Parameters:**<br>\n",
       "`y`: numpy array of shape (n,), clean time series.<br>\n",
       "`h`: int, forecast horizon.<br>\n",
       "`level`: float list 0-100, confidence levels for prediction intervals.<br>\n",
       "`fitted`: bool, wether or not returns insample predictions.<br>\n",
       "\n",
       "**Returns:**<br>\n",
       "`forecasts`: dictionary, with entries 'mean' for point predictions and\n",
       "    'level_*' for probabilistic predictions.<br>"
      ],
      "text/plain": [
       "<nbdev.showdoc.BasicMarkdownRenderer>"
      ]
     },
     "execution_count": null,
     "metadata": {},
     "output_type": "execute_result"
    }
   ],
   "source": [
    "show_doc(SeasonalNaive.forecast, title_level=3)"
   ]
  },
  {
   "cell_type": "code",
   "execution_count": null,
   "metadata": {},
   "outputs": [
    {
     "data": {
      "text/markdown": [
       "---\n",
       "\n",
       "#### SeasonalNaive.fit\n",
       "\n",
       ">      SeasonalNaive.fit (y:numpy.ndarray, X:numpy.ndarray=None)\n",
       "\n",
       "Fit the SeasonalNaive model.\n",
       "\n",
       "Fit an SeasonalNaive to a time series (numpy array) `y`.\n",
       "\n",
       "**Parameters:**<br>\n",
       "`y`: numpy array of shape (t, ), clean time series.<br>\n",
       "\n",
       "**Returns:**<br>\n",
       "`self`: SeasonalNaive fitted model."
      ],
      "text/plain": [
       "<nbdev.showdoc.BasicMarkdownRenderer>"
      ]
     },
     "execution_count": null,
     "metadata": {},
     "output_type": "execute_result"
    }
   ],
   "source": [
    "show_doc(SeasonalNaive.fit, title_level=3)"
   ]
  },
  {
   "cell_type": "code",
   "execution_count": null,
   "metadata": {},
   "outputs": [
    {
     "data": {
      "text/markdown": [
       "---\n",
       "\n",
       "#### SeasonalNaive.predict\n",
       "\n",
       ">      SeasonalNaive.predict (h:int, X:numpy.ndarray=None,\n",
       ">                             level:Optional[Tuple[int]]=None)\n",
       "\n",
       "Predict with fitted Naive.\n",
       "\n",
       "**Parameters:**<br>\n",
       "`h`: int, forecast horizon.<br>\n",
       "\n",
       "**Returns:**<br>\n",
       "`forecasts`: dictionary, with entries 'mean' for point predictions and\n",
       "    'level_*' for probabilistic predictions.<br>"
      ],
      "text/plain": [
       "<nbdev.showdoc.BasicMarkdownRenderer>"
      ]
     },
     "execution_count": null,
     "metadata": {},
     "output_type": "execute_result"
    }
   ],
   "source": [
    "show_doc(SeasonalNaive.predict, title_level=3)"
   ]
  },
  {
   "cell_type": "code",
   "execution_count": null,
   "metadata": {},
   "outputs": [
    {
     "data": {
      "text/markdown": [
       "---\n",
       "\n",
       "#### SeasonalNaive.predict_in_sample\n",
       "\n",
       ">      SeasonalNaive.predict_in_sample ()\n",
       "\n",
       "Access fitted SeasonalNaive insample predictions.\n",
       "\n",
       "**Parameters:**<br>\n",
       "`level`: float list 0-100, confidence levels for prediction intervals.<br>\n",
       "\n",
       "**Returns:**<br>\n",
       "`forecasts`: dictionary, with entries 'mean' for point predictions and\n",
       "    'level_*' for probabilistic predictions.<br>"
      ],
      "text/plain": [
       "<nbdev.showdoc.BasicMarkdownRenderer>"
      ]
     },
     "execution_count": null,
     "metadata": {},
     "output_type": "execute_result"
    }
   ],
   "source": [
    "show_doc(SeasonalNaive.predict_in_sample, title_level=3)"
   ]
  },
  {
   "cell_type": "code",
   "execution_count": null,
   "metadata": {},
   "outputs": [
    {
     "data": {
      "text/plain": [
       "{'mean': array([417., 391., 419., 461.], dtype=float32)}"
      ]
     },
     "execution_count": null,
     "metadata": {},
     "output_type": "execute_result"
    }
   ],
   "source": [
    "# SeasonalNaive's usage example\n",
    "\n",
    "from statsforecast.models import SeasonalNaive\n",
    "from statsforecast.utils import AirPassengers as ap\n",
    "\n",
    "\n",
    "model = SeasonalNaive(season_length=12)\n",
    "model = model.fit(y=ap)\n",
    "y_hat_dict = model.predict(h=4)\n",
    "y_hat_dict"
   ]
  },
  {
   "cell_type": "markdown",
   "metadata": {},
   "source": [
    "## WindowAverage"
   ]
  },
  {
   "cell_type": "code",
   "execution_count": null,
   "metadata": {},
   "outputs": [],
   "source": [
    "#| exporti\n",
    "@njit\n",
    "def _window_average(\n",
    "        y: np.ndarray, # time series\n",
    "        h: int, # forecasting horizon\n",
    "        fitted: bool, # fitted values\n",
    "        window_size: int # window size\n",
    "    ): \n",
    "    if fitted:\n",
    "        raise NotImplementedError('return fitted')\n",
    "    if y.size < window_size:\n",
    "        return {'mean': np.full(h, np.nan, np.float32)}\n",
    "    wavg = y[-window_size:].mean()\n",
    "    mean = _repeat_val(val=wavg, h=h)\n",
    "    return {'mean': mean}"
   ]
  },
  {
   "cell_type": "code",
   "execution_count": null,
   "metadata": {},
   "outputs": [],
   "source": [
    "#| export\n",
    "class WindowAverage(_TS):\n",
    "    \n",
    "    def __init__(\n",
    "            self, \n",
    "            window_size: int\n",
    "        ):\n",
    "        \"\"\"WindowAverage model.\n",
    "        [Source code](https://github.com/Nixtla/statsforecast/blob/main/statsforecast/simple_methods.py).\n",
    "\n",
    "        Uses the average of the last $k$ observations, with $k$ the length of the window.\n",
    "        Wider windows will capture global trends, while narrow windows will reveal local trends.\n",
    "        The length of the window selected should take into account the importance of past\n",
    "        observations and how fast the series changes.\n",
    "\n",
    "        **Parameters:**<br>\n",
    "        `window_size`: int, size of truncated series on which average is estimated.\n",
    "\n",
    "        **References:**<br>\n",
    "        [Rob J. Hyndman and George Athanasopoulos (2018). \"forecasting principles and practice, Simple Methods\"](https://otexts.com/fpp3/simple-methods.html).\n",
    "        \"\"\"        \n",
    "        self.window_size = window_size\n",
    "\n",
    "    def __repr__(self):\n",
    "        return 'WindowAverage'\n",
    "    \n",
    "    def fit(\n",
    "            self,\n",
    "            y: np.ndarray,\n",
    "            X: np.ndarray = None\n",
    "        ):\n",
    "        \"\"\"Fit the WindowAverage model.\n",
    "\n",
    "        Fit an WindowAverage to a time series (numpy array) `y`\n",
    "        and optionally exogenous variables (numpy array) `X`.\n",
    "\n",
    "        **Parameters:**<br>\n",
    "        `y`: numpy array of shape (t, ), clean time series.<br>\n",
    "        `X`: array-like of shape (t, n_x) optional exogenous (default=None).<br>\n",
    "\n",
    "        **Returns:**<br>\n",
    "        `self`: WindowAverage fitted model.\n",
    "        \"\"\"\n",
    "        mod = _window_average(y=y, h=1, window_size=self.window_size, fitted=False)\n",
    "        mod = dict(mod)\n",
    "        arima = arima_model(y[len(y)-self.window_size:len(y)], (0,0,0))\n",
    "        mod['arima'] = arima\n",
    "        self.model_ = mod\n",
    "    \n",
    "        return self\n",
    "        \n",
    "    def predict(\n",
    "            self, \n",
    "            h: int,\n",
    "            X: np.ndarray = None, \n",
    "            level: Optional[Tuple[int]] = None\n",
    "        ):\n",
    "        \"\"\"Predict with fitted WindowAverage.\n",
    "\n",
    "        **Parameters:**<br>\n",
    "        `h`: int, forecast horizon.<br>\n",
    "\n",
    "        **Returns:**<br>\n",
    "        `forecasts`: dictionary, with entries 'mean' for point predictions and\n",
    "            'level_*' for probabilistic predictions.<br>\n",
    "        \"\"\"\n",
    "        mean = _repeat_val(self.model_['mean'][0], h=h)\n",
    "        res = {'mean': mean}\n",
    "        \n",
    "        if level is not None: \n",
    "            fcst = forecast_arima(self.model_['arima'], h = h, level = level)\n",
    "            pred_int = {**{f'lo-{lv}': fcst['lower'].iloc[:,i].to_numpy(dtype = np.float32) for i, lv in enumerate(level)},\n",
    "                        **{f'hi-{lv}': fcst['upper'].iloc[:,i].to_numpy(dtype = np.float32) for i, lv in enumerate(level)}}  \n",
    "            res = {**res, **pred_int}\n",
    "        \n",
    "        return res\n",
    "    \n",
    "    def predict_in_sample(self):\n",
    "        \"\"\"Access fitted WindowAverage insample predictions.\n",
    "\n",
    "        **Parameters:**<br>\n",
    "        `level`: float list 0-100, confidence levels for prediction intervals.<br>\n",
    "\n",
    "        **Returns:**<br>\n",
    "        `forecasts`: dictionary, with entries 'mean' for point predictions and\n",
    "            'level_*' for probabilistic predictions.<br>\n",
    "        \"\"\"\n",
    "        raise NotImplementedError\n",
    "        \n",
    "    def forecast(\n",
    "            self, \n",
    "            y: np.ndarray,\n",
    "            h: int,\n",
    "            X: np.ndarray = None,\n",
    "            X_future: np.ndarray = None,\n",
    "            fitted: bool = False,\n",
    "            level: Optional[Tuple[int]] = None\n",
    "        ):\n",
    "        \"\"\"Memory Efficient WindowAverage predictions.\n",
    "\n",
    "        This method avoids memory burden due from object storage.\n",
    "        It is analogous to `fit_predict` without storing information.\n",
    "        It assumes you know the forecast horizon in advance.\n",
    "\n",
    "        **Parameters:**<br>\n",
    "        `y`: numpy array of shape (n,), clean time series.<br>\n",
    "        `h`: int, forecast horizon.<br>\n",
    "        `level`: float list 0-100, confidence levels for prediction intervals.<br>\n",
    "        `fitted`: bool, wether or not returns insample predictions.<br>\n",
    "\n",
    "        **Returns:**<br>\n",
    "        `forecasts`: dictionary, with entries 'mean' for point predictions and\n",
    "            'level_*' for probabilistic predictions.<br>\n",
    "        \"\"\"\n",
    "        out = _window_average(y=y, h=h, fitted=fitted, window_size=self.window_size)\n",
    "        res = {'mean': out['mean']}\n",
    "        \n",
    "        if level is not None: \n",
    "            fcst = forecast_arima(arima_model(y[len(y)-self.window_size:len(y)], (0,0,0)), h = h, level = level)\n",
    "            pred_int = {**{f'lo-{lv}': fcst['lower'].iloc[:,i].to_numpy(dtype = np.float32) for i, lv in enumerate(level)},\n",
    "                        **{f'hi-{lv}': fcst['upper'].iloc[:,i].to_numpy(dtype = np.float32) for i, lv in enumerate(level)}}  \n",
    "            res = {**res, **pred_int}\n",
    "            \n",
    "        return res "
   ]
  },
  {
   "cell_type": "code",
   "execution_count": null,
   "metadata": {},
   "outputs": [
    {
     "data": {
      "text/plain": [
       "{'mean': array([452.25, 452.25, 452.25, 452.25, 452.25, 452.25, 452.25, 452.25,\n",
       "        452.25, 452.25, 452.25, 452.25], dtype=float32),\n",
       " 'lo-80': array([352.29178, 352.29178, 352.29178, 352.29178, 352.29178, 352.29178,\n",
       "        352.29178, 352.29178, 352.29178, 352.29178, 352.29178, 352.29178],\n",
       "       dtype=float32),\n",
       " 'lo-95': array([299.3771, 299.3771, 299.3771, 299.3771, 299.3771, 299.3771,\n",
       "        299.3771, 299.3771, 299.3771, 299.3771, 299.3771, 299.3771],\n",
       "       dtype=float32),\n",
       " 'hi-80': array([552.20825, 552.20825, 552.20825, 552.20825, 552.20825, 552.20825,\n",
       "        552.20825, 552.20825, 552.20825, 552.20825, 552.20825, 552.20825],\n",
       "       dtype=float32),\n",
       " 'hi-95': array([605.1229, 605.1229, 605.1229, 605.1229, 605.1229, 605.1229,\n",
       "        605.1229, 605.1229, 605.1229, 605.1229, 605.1229, 605.1229],\n",
       "       dtype=float32)}"
      ]
     },
     "execution_count": null,
     "metadata": {},
     "output_type": "execute_result"
    }
   ],
   "source": [
    "#| hide \n",
    "w_avg = WindowAverage(window_size=24) \n",
    "w_avg.forecast(ap, 12, None, None, False, (80,95))"
   ]
  },
  {
   "cell_type": "code",
   "execution_count": null,
   "metadata": {},
   "outputs": [
    {
     "data": {
      "text/plain": [
       "{'mean': array([452.25, 452.25, 452.25, 452.25, 452.25, 452.25, 452.25, 452.25,\n",
       "        452.25, 452.25, 452.25, 452.25], dtype=float32),\n",
       " 'lo-80': array([352.29178, 352.29178, 352.29178, 352.29178, 352.29178, 352.29178,\n",
       "        352.29178, 352.29178, 352.29178, 352.29178, 352.29178, 352.29178],\n",
       "       dtype=float32),\n",
       " 'lo-95': array([299.3771, 299.3771, 299.3771, 299.3771, 299.3771, 299.3771,\n",
       "        299.3771, 299.3771, 299.3771, 299.3771, 299.3771, 299.3771],\n",
       "       dtype=float32),\n",
       " 'hi-80': array([552.20825, 552.20825, 552.20825, 552.20825, 552.20825, 552.20825,\n",
       "        552.20825, 552.20825, 552.20825, 552.20825, 552.20825, 552.20825],\n",
       "       dtype=float32),\n",
       " 'hi-95': array([605.1229, 605.1229, 605.1229, 605.1229, 605.1229, 605.1229,\n",
       "        605.1229, 605.1229, 605.1229, 605.1229, 605.1229, 605.1229],\n",
       "       dtype=float32)}"
      ]
     },
     "execution_count": null,
     "metadata": {},
     "output_type": "execute_result"
    }
   ],
   "source": [
    "#| hide \n",
    "w_avg = WindowAverage(window_size=24) \n",
    "w_avg.fit(ap)\n",
    "w_avg.predict(12, None, (80,95))"
   ]
  },
  {
   "cell_type": "code",
   "execution_count": null,
   "metadata": {},
   "outputs": [],
   "source": [
    "#| hide\n",
    "w_avg = WindowAverage(window_size=24)\n",
    "test_class(w_avg, x=ap, h=12, skip_insample=True)\n",
    "w_avg = w_avg.fit(ap)\n",
    "fcst_w_avg = w_avg.predict(12)\n",
    "test_close(fcst_w_avg['mean'], np.repeat(ap[-24:].mean(), 12))"
   ]
  },
  {
   "cell_type": "code",
   "execution_count": null,
   "metadata": {},
   "outputs": [
    {
     "data": {
      "text/markdown": [
       "---\n",
       "\n",
       "### WindowAverage\n",
       "\n",
       ">      WindowAverage (window_size:int)\n",
       "\n",
       "WindowAverage model.\n",
       "[Source code](https://github.com/Nixtla/statsforecast/blob/main/statsforecast/simple_methods.py).\n",
       "\n",
       "Uses the average of the last $k$ observations, with $k$ the length of the window.\n",
       "Wider windows will capture global trends, while narrow windows will reveal local trends.\n",
       "The length of the window selected should take into account the importance of past\n",
       "observations and how fast the series changes.\n",
       "\n",
       "**Parameters:**<br>\n",
       "`window_size`: int, size of truncated series on which average is estimated.\n",
       "\n",
       "**References:**<br>\n",
       "[Rob J. Hyndman and George Athanasopoulos (2018). \"forecasting principles and practice, Simple Methods\"](https://otexts.com/fpp3/simple-methods.html)."
      ],
      "text/plain": [
       "<nbdev.showdoc.BasicMarkdownRenderer>"
      ]
     },
     "execution_count": null,
     "metadata": {},
     "output_type": "execute_result"
    }
   ],
   "source": [
    "show_doc(WindowAverage, title_level=3)"
   ]
  },
  {
   "cell_type": "code",
   "execution_count": null,
   "metadata": {},
   "outputs": [
    {
     "data": {
      "text/markdown": [
       "---\n",
       "\n",
       "#### WindowAverage.forecast\n",
       "\n",
       ">      WindowAverage.forecast (y:numpy.ndarray, h:int, X:numpy.ndarray=None,\n",
       ">                              X_future:numpy.ndarray=None, fitted:bool=False,\n",
       ">                              level:Optional[Tuple[int]]=None)\n",
       "\n",
       "Memory Efficient WindowAverage predictions.\n",
       "\n",
       "This method avoids memory burden due from object storage.\n",
       "It is analogous to `fit_predict` without storing information.\n",
       "It assumes you know the forecast horizon in advance.\n",
       "\n",
       "**Parameters:**<br>\n",
       "`y`: numpy array of shape (n,), clean time series.<br>\n",
       "`h`: int, forecast horizon.<br>\n",
       "`level`: float list 0-100, confidence levels for prediction intervals.<br>\n",
       "`fitted`: bool, wether or not returns insample predictions.<br>\n",
       "\n",
       "**Returns:**<br>\n",
       "`forecasts`: dictionary, with entries 'mean' for point predictions and\n",
       "    'level_*' for probabilistic predictions.<br>"
      ],
      "text/plain": [
       "<nbdev.showdoc.BasicMarkdownRenderer>"
      ]
     },
     "execution_count": null,
     "metadata": {},
     "output_type": "execute_result"
    }
   ],
   "source": [
    "show_doc(WindowAverage.forecast, title_level=3)"
   ]
  },
  {
   "cell_type": "code",
   "execution_count": null,
   "metadata": {},
   "outputs": [
    {
     "data": {
      "text/markdown": [
       "---\n",
       "\n",
       "#### WindowAverage.fit\n",
       "\n",
       ">      WindowAverage.fit (y:numpy.ndarray, X:numpy.ndarray=None)\n",
       "\n",
       "Fit the WindowAverage model.\n",
       "\n",
       "Fit an WindowAverage to a time series (numpy array) `y`\n",
       "and optionally exogenous variables (numpy array) `X`.\n",
       "\n",
       "**Parameters:**<br>\n",
       "`y`: numpy array of shape (t, ), clean time series.<br>\n",
       "`X`: array-like of shape (t, n_x) optional exogenous (default=None).<br>\n",
       "\n",
       "**Returns:**<br>\n",
       "`self`: WindowAverage fitted model."
      ],
      "text/plain": [
       "<nbdev.showdoc.BasicMarkdownRenderer>"
      ]
     },
     "execution_count": null,
     "metadata": {},
     "output_type": "execute_result"
    }
   ],
   "source": [
    "show_doc(WindowAverage.fit, title_level=3)"
   ]
  },
  {
   "cell_type": "code",
   "execution_count": null,
   "metadata": {},
   "outputs": [
    {
     "data": {
      "text/markdown": [
       "---\n",
       "\n",
       "#### WindowAverage.predict\n",
       "\n",
       ">      WindowAverage.predict (h:int, X:numpy.ndarray=None,\n",
       ">                             level:Optional[Tuple[int]]=None)\n",
       "\n",
       "Predict with fitted WindowAverage.\n",
       "\n",
       "**Parameters:**<br>\n",
       "`h`: int, forecast horizon.<br>\n",
       "\n",
       "**Returns:**<br>\n",
       "`forecasts`: dictionary, with entries 'mean' for point predictions and\n",
       "    'level_*' for probabilistic predictions.<br>"
      ],
      "text/plain": [
       "<nbdev.showdoc.BasicMarkdownRenderer>"
      ]
     },
     "execution_count": null,
     "metadata": {},
     "output_type": "execute_result"
    }
   ],
   "source": [
    "show_doc(WindowAverage.predict, title_level=3)"
   ]
  },
  {
   "cell_type": "code",
   "execution_count": null,
   "metadata": {},
   "outputs": [
    {
     "data": {
      "text/markdown": [
       "---\n",
       "\n",
       "#### WindowAverage.predict_in_sample\n",
       "\n",
       ">      WindowAverage.predict_in_sample ()\n",
       "\n",
       "Access fitted WindowAverage insample predictions.\n",
       "\n",
       "**Parameters:**<br>\n",
       "`level`: float list 0-100, confidence levels for prediction intervals.<br>\n",
       "\n",
       "**Returns:**<br>\n",
       "`forecasts`: dictionary, with entries 'mean' for point predictions and\n",
       "    'level_*' for probabilistic predictions.<br>"
      ],
      "text/plain": [
       "<nbdev.showdoc.BasicMarkdownRenderer>"
      ]
     },
     "execution_count": null,
     "metadata": {},
     "output_type": "execute_result"
    }
   ],
   "source": [
    "show_doc(WindowAverage.predict_in_sample, title_level=3)"
   ]
  },
  {
   "cell_type": "code",
   "execution_count": null,
   "metadata": {},
   "outputs": [
    {
     "data": {
      "text/plain": [
       "{'mean': array([413.47916, 413.47916, 413.47916, 413.47916], dtype=float32)}"
      ]
     },
     "execution_count": null,
     "metadata": {},
     "output_type": "execute_result"
    }
   ],
   "source": [
    "# WindowAverage's usage example\n",
    "\n",
    "from statsforecast.models import WindowAverage\n",
    "from statsforecast.utils import AirPassengers as ap\n",
    "\n",
    "\n",
    "model = WindowAverage(window_size=12*4)\n",
    "model = model.fit(y=ap)\n",
    "y_hat_dict = model.predict(h=4)\n",
    "y_hat_dict"
   ]
  },
  {
   "cell_type": "markdown",
   "metadata": {},
   "source": [
    "## SeasonalWindowAverage"
   ]
  },
  {
   "cell_type": "code",
   "execution_count": null,
   "metadata": {},
   "outputs": [],
   "source": [
    "#| exporti\n",
    "@njit\n",
    "def _seasonal_window_average(\n",
    "        y: np.ndarray,\n",
    "        h: int,\n",
    "        fitted: bool,\n",
    "        season_length: int,\n",
    "        window_size: int,\n",
    "    ):\n",
    "    if fitted:\n",
    "        raise NotImplementedError('return fitted')\n",
    "    min_samples = season_length * window_size\n",
    "    if y.size < min_samples:\n",
    "        return {'mean': np.full(h, np.nan, np.float32)}\n",
    "    season_avgs = np.zeros(season_length, np.float32)\n",
    "    for i, value in enumerate(y[-min_samples:]):\n",
    "        season = i % season_length\n",
    "        season_avgs[season] += value / window_size\n",
    "    out = _repeat_val_seas(season_vals=season_avgs, h=h, season_length=season_length)\n",
    "    return {'mean': out}"
   ]
  },
  {
   "cell_type": "code",
   "execution_count": null,
   "metadata": {},
   "outputs": [],
   "source": [
    "#| export\n",
    "class SeasonalWindowAverage(_TS):\n",
    "    \n",
    "    def __init__(\n",
    "            self, \n",
    "            season_length: int,\n",
    "            window_size: int\n",
    "        ):\n",
    "        \"\"\"SeasonalWindowAverage model.\n",
    "        [Source code](https://github.com/Nixtla/statsforecast/blob/main/statsforecast/simple_methods.py).\n",
    "\n",
    "        An average of the last $k$ observations of the same period, with $k$ the length of the window.\n",
    "\n",
    "        **Parameters:**<br>\n",
    "        `window_size`: int, size of truncated series on which average is estimated.\n",
    "        `seasonal_length`: int, number of observations per cycle.\n",
    "\n",
    "        **References:**<br>\n",
    "        [Rob J. Hyndman and George Athanasopoulos (2018). \"forecasting principles and practice, Simple Methods\"](https://otexts.com/fpp3/simple-methods.html).\n",
    "        \"\"\"        \n",
    "        self.season_length = season_length\n",
    "        self.window_size = window_size\n",
    "\n",
    "    def __repr__(self):\n",
    "        return 'SeasWA'\n",
    "    \n",
    "    def fit(\n",
    "            self,\n",
    "            y: np.ndarray,\n",
    "            X: np.ndarray = None\n",
    "        ):\n",
    "        \"\"\"Fit the SeasonalWindowAverage model.\n",
    "\n",
    "        Fit an SeasonalWindowAverage to a time series (numpy array) `y`\n",
    "        and optionally exogenous variables (numpy array) `X`.\n",
    "\n",
    "        **Parameters:**<br>\n",
    "        `y`: numpy array of shape (t, ), clean time series.<br>\n",
    "        `X`: array-like of shape (t, n_x) optional exogenous (default=None).<br>\n",
    "\n",
    "        **Returns:**<br>\n",
    "        `self`: SeasonalWindowAverage fitted model.\n",
    "        \"\"\"        \n",
    "        mod = _seasonal_window_average(\n",
    "            y=y, \n",
    "            h=self.season_length,\n",
    "            fitted=False,\n",
    "            season_length=self.season_length, \n",
    "            window_size=self.window_size,\n",
    "        )\n",
    "        mod = dict(mod)\n",
    "        data = np.zeros(shape=(self.season_length, self.window_size))\n",
    "        for i in range(self.season_length): \n",
    "            for j in range(self.window_size): \n",
    "                data[i,j] = y[len(y)-self.season_length*(j+1)+i]\n",
    "        data = np.flip(data,1)\n",
    "        for k in range(data.shape[0]): \n",
    "            arima = arima_model(data[k,], (0,0,0))\n",
    "            mod['arima '+str(k)] = arima\n",
    "        self.model_ = mod\n",
    "        return self\n",
    "        \n",
    "    def predict(\n",
    "            self,\n",
    "            h: int,\n",
    "            X: np.ndarray = None, \n",
    "            level: Optional[Tuple[int]] = None \n",
    "        ):\n",
    "        \"\"\"Predict with fitted SeasonalWindowAverage.\n",
    "\n",
    "        **Parameters:**<br>\n",
    "        `h`: int, forecast horizon.<br>\n",
    "\n",
    "        **Returns:**<br>\n",
    "        `forecasts`: dictionary, with entries 'mean' for point predictions and\n",
    "            'level_*' for probabilistic predictions.<br>\n",
    "        \"\"\"\n",
    "        mean = _repeat_val_seas(season_vals=self.model_['mean'], \n",
    "                                season_length=self.season_length, h=h)\n",
    "        res = {'mean': mean}\n",
    "        \n",
    "        if level is not None: \n",
    "            lst=[]\n",
    "            for i in range(h): \n",
    "                fcst = forecast_arima(self.model_['arima '+str(i)], h = 1, level = level)\n",
    "                lower = fcst['lower'][:1]\n",
    "                upper = fcst['upper'][:1]\n",
    "                vals = np.concatenate([lower, upper]).flatten()\n",
    "                lst.append(vals)\n",
    "            pi = np.array(lst, dtype = np.float32)\n",
    "            pred_int = {**{f'lo-{lv}': pi[:,i] for i, lv in enumerate(level)},\n",
    "                        **{f'hi-{lv}': pi[:,i+2] for i, lv in enumerate(level)}} \n",
    "            res = {**res, **pred_int}\n",
    "        \n",
    "        return res\n",
    "    \n",
    "    def predict_in_sample(self):\n",
    "        \"\"\"Access fitted SeasonalWindowAverage insample predictions.\n",
    "\n",
    "        **Parameters:**<br>\n",
    "        `level`: float list 0-100, confidence levels for prediction intervals.<br>\n",
    "\n",
    "        **Returns:**<br>\n",
    "        `forecasts`: dictionary, with entries 'mean' for point predictions and\n",
    "            'level_*' for probabilistic predictions.<br>\n",
    "        \"\"\"\n",
    "        raise NotImplementedError\n",
    "\n",
    "    def forecast(\n",
    "            self, \n",
    "            y: np.ndarray,\n",
    "            h: int,\n",
    "            X: np.ndarray = None,\n",
    "            X_future: np.ndarray = None,\n",
    "            fitted: bool = False,\n",
    "            level: Optional[Tuple[int]] = None\n",
    "        ):\n",
    "        \"\"\"Memory Efficient SeasonalWindowAverage predictions.\n",
    "\n",
    "        This method avoids memory burden due from object storage.\n",
    "        It is analogous to `fit_predict` without storing information.\n",
    "        It assumes you know the forecast horizon in advance.\n",
    "\n",
    "        **Parameters:**<br>\n",
    "        `y`: numpy array of shape (n,), clean time series.<br>\n",
    "        `h`: int, forecast horizon.<br>\n",
    "        `level`: float list 0-100, confidence levels for prediction intervals.<br>\n",
    "        `fitted`: bool, wether or not returns insample predictions.<br>\n",
    "\n",
    "        **Returns:**<br>\n",
    "        `forecasts`: dictionary, with entries 'mean' for point predictions and\n",
    "            'level_*' for probabilistic predictions.<br>\n",
    "        \"\"\"        \n",
    "        out = _seasonal_window_average(\n",
    "            y=y, h=h, fitted=fitted, \n",
    "            season_length=self.season_length,\n",
    "            window_size=self.window_size\n",
    "        )\n",
    "        res = {'mean': out['mean']}\n",
    "        \n",
    "        if level is not None: \n",
    "            data = np.zeros(shape=(h, self.window_size))\n",
    "            for i in range(h): \n",
    "                for j in range(self.window_size): \n",
    "                    data[i,j] = y[len(y)-self.season_length*(j+1)+i]\n",
    "\n",
    "            data = np.flip(data,1)\n",
    "            lst=[]\n",
    "            for k in range(data.shape[0]): \n",
    "                fcst = forecast_arima(arima_model(data[k,], (0,0,0)), h = 1, level = level)\n",
    "                lower = fcst['lower'][:1]\n",
    "                upper = fcst['upper'][:1]\n",
    "                vals = np.concatenate([lower, upper]).flatten()\n",
    "                lst.append(vals)\n",
    "            pi = np.array(lst, dtype = np.float32)\n",
    "            pred_int =  {**{f'lo-{lv}': pi[:,i] for i, lv in enumerate(level)},\n",
    "                         **{f'hi-{lv}': pi[:,i+2] for i, lv in enumerate(level)}} \n",
    "            res = {**res, **pred_int}\n",
    "        \n",
    "        return res"
   ]
  },
  {
   "cell_type": "code",
   "execution_count": null,
   "metadata": {},
   "outputs": [
    {
     "name": "stderr",
     "output_type": "stream",
     "text": [
      "/home/ubuntu/statsforecast/statsforecast/arima.py:882: UserWarning: possible convergence problem: minimize gave code 2]\n",
      "  warnings.warn(\n"
     ]
    },
    {
     "data": {
      "text/plain": [
       "{'mean': array([372.33334, 350.33334, 395.66666, 401.66666, 418.33334, 480.6667 ,\n",
       "        553.6667 , 556.6666 , 458.33334, 409.     , 354.     , 391.33334],\n",
       "       dtype=float32),\n",
       " 'lo-80': array([299.92096, 282.9005 , 341.52713, 298.88123, 319.52356, 389.03198,\n",
       "        434.62256, 465.06784, 363.80496, 316.51495, 280.4251 , 302.6127 ],\n",
       "       dtype=float32),\n",
       " 'lo-95': array([261.58813, 247.2037 , 312.86737, 244.4699 , 267.21686, 340.52353,\n",
       "        371.6044 , 416.57837, 313.76468, 267.5563 , 241.4769 , 255.64682],\n",
       "       dtype=float32),\n",
       " 'hi-80': array([444.74573, 417.76617, 449.8062 , 504.45212, 517.14307, 572.30133,\n",
       "        672.71075, 648.2655 , 552.8617 , 501.48505, 427.5749 , 480.054  ],\n",
       "       dtype=float32),\n",
       " 'hi-95': array([483.07852, 453.46295, 478.46597, 558.86346, 569.4498 , 620.8098 ,\n",
       "        735.72894, 696.75494, 602.902  , 550.44366, 466.5231 , 527.01984],\n",
       "       dtype=float32)}"
      ]
     },
     "execution_count": null,
     "metadata": {},
     "output_type": "execute_result"
    }
   ],
   "source": [
    "#| hide\n",
    "seas_w_avg = SeasonalWindowAverage(season_length=12, window_size=3)\n",
    "seas_w_avg.fit(ap)\n",
    "seas_w_avg.predict(12, None, (80,95))"
   ]
  },
  {
   "cell_type": "code",
   "execution_count": null,
   "metadata": {},
   "outputs": [
    {
     "name": "stderr",
     "output_type": "stream",
     "text": [
      "/home/ubuntu/statsforecast/statsforecast/arima.py:882: UserWarning: possible convergence problem: minimize gave code 2]\n",
      "  warnings.warn(\n"
     ]
    },
    {
     "data": {
      "text/plain": [
       "{'mean': array([372.33334, 350.33334, 395.66666, 401.66666, 418.33334, 480.6667 ,\n",
       "        553.6667 , 556.6666 , 458.33334, 409.     , 354.     , 391.33334],\n",
       "       dtype=float32),\n",
       " 'lo-80': array([299.92096, 282.9005 , 341.52713, 298.88123, 319.52356, 389.03198,\n",
       "        434.62256, 465.06784, 363.80496, 316.51495, 280.4251 , 302.6127 ],\n",
       "       dtype=float32),\n",
       " 'lo-95': array([261.58813, 247.2037 , 312.86737, 244.4699 , 267.21686, 340.52353,\n",
       "        371.6044 , 416.57837, 313.76468, 267.5563 , 241.4769 , 255.64682],\n",
       "       dtype=float32),\n",
       " 'hi-80': array([444.74573, 417.76617, 449.8062 , 504.45212, 517.14307, 572.30133,\n",
       "        672.71075, 648.2655 , 552.8617 , 501.48505, 427.5749 , 480.054  ],\n",
       "       dtype=float32),\n",
       " 'hi-95': array([483.07852, 453.46295, 478.46597, 558.86346, 569.4498 , 620.8098 ,\n",
       "        735.72894, 696.75494, 602.902  , 550.44366, 466.5231 , 527.01984],\n",
       "       dtype=float32)}"
      ]
     },
     "execution_count": null,
     "metadata": {},
     "output_type": "execute_result"
    }
   ],
   "source": [
    "#|hide \n",
    "seas_w_avg = SeasonalWindowAverage(season_length=12, window_size=3)\n",
    "seas_w_avg.forecast(ap, 12, None, None, False, (80,95))"
   ]
  },
  {
   "cell_type": "code",
   "execution_count": null,
   "metadata": {},
   "outputs": [],
   "source": [
    "#| hide\n",
    "seas_w_avg = SeasonalWindowAverage(season_length=1, window_size=24)\n",
    "test_class(seas_w_avg, x=ap, h=12, skip_insample=True)\n",
    "seas_w_avg = seas_w_avg.fit(ap)\n",
    "fcst_seas_w_avg = seas_w_avg.predict(12)\n",
    "test_eq(fcst_w_avg['mean'], fcst_seas_w_avg['mean']) "
   ]
  },
  {
   "cell_type": "code",
   "execution_count": null,
   "metadata": {},
   "outputs": [
    {
     "data": {
      "text/markdown": [
       "---\n",
       "\n",
       "### SeasonalWindowAverage\n",
       "\n",
       ">      SeasonalWindowAverage (season_length:int, window_size:int)\n",
       "\n",
       "SeasonalWindowAverage model.\n",
       "[Source code](https://github.com/Nixtla/statsforecast/blob/main/statsforecast/simple_methods.py).\n",
       "\n",
       "An average of the last $k$ observations of the same period, with $k$ the length of the window.\n",
       "\n",
       "**Parameters:**<br>\n",
       "`window_size`: int, size of truncated series on which average is estimated.\n",
       "`seasonal_length`: int, number of observations per cycle.\n",
       "\n",
       "**References:**<br>\n",
       "[Rob J. Hyndman and George Athanasopoulos (2018). \"forecasting principles and practice, Simple Methods\"](https://otexts.com/fpp3/simple-methods.html)."
      ],
      "text/plain": [
       "<nbdev.showdoc.BasicMarkdownRenderer>"
      ]
     },
     "execution_count": null,
     "metadata": {},
     "output_type": "execute_result"
    }
   ],
   "source": [
    "show_doc(SeasonalWindowAverage, title_level=3)"
   ]
  },
  {
   "cell_type": "code",
   "execution_count": null,
   "metadata": {},
   "outputs": [
    {
     "data": {
      "text/markdown": [
       "---\n",
       "\n",
       "#### SeasonalWindowAverage.forecast\n",
       "\n",
       ">      SeasonalWindowAverage.forecast (y:numpy.ndarray, h:int,\n",
       ">                                      X:numpy.ndarray=None,\n",
       ">                                      X_future:numpy.ndarray=None,\n",
       ">                                      fitted:bool=False,\n",
       ">                                      level:Optional[Tuple[int]]=None)\n",
       "\n",
       "Memory Efficient SeasonalWindowAverage predictions.\n",
       "\n",
       "This method avoids memory burden due from object storage.\n",
       "It is analogous to `fit_predict` without storing information.\n",
       "It assumes you know the forecast horizon in advance.\n",
       "\n",
       "**Parameters:**<br>\n",
       "`y`: numpy array of shape (n,), clean time series.<br>\n",
       "`h`: int, forecast horizon.<br>\n",
       "`level`: float list 0-100, confidence levels for prediction intervals.<br>\n",
       "`fitted`: bool, wether or not returns insample predictions.<br>\n",
       "\n",
       "**Returns:**<br>\n",
       "`forecasts`: dictionary, with entries 'mean' for point predictions and\n",
       "    'level_*' for probabilistic predictions.<br>"
      ],
      "text/plain": [
       "<nbdev.showdoc.BasicMarkdownRenderer>"
      ]
     },
     "execution_count": null,
     "metadata": {},
     "output_type": "execute_result"
    }
   ],
   "source": [
    "show_doc(SeasonalWindowAverage.forecast, title_level=3)"
   ]
  },
  {
   "cell_type": "code",
   "execution_count": null,
   "metadata": {},
   "outputs": [
    {
     "data": {
      "text/markdown": [
       "---\n",
       "\n",
       "#### SeasonalWindowAverage.fit\n",
       "\n",
       ">      SeasonalWindowAverage.fit (y:numpy.ndarray, X:numpy.ndarray=None)\n",
       "\n",
       "Fit the SeasonalWindowAverage model.\n",
       "\n",
       "Fit an SeasonalWindowAverage to a time series (numpy array) `y`\n",
       "and optionally exogenous variables (numpy array) `X`.\n",
       "\n",
       "**Parameters:**<br>\n",
       "`y`: numpy array of shape (t, ), clean time series.<br>\n",
       "`X`: array-like of shape (t, n_x) optional exogenous (default=None).<br>\n",
       "\n",
       "**Returns:**<br>\n",
       "`self`: SeasonalWindowAverage fitted model."
      ],
      "text/plain": [
       "<nbdev.showdoc.BasicMarkdownRenderer>"
      ]
     },
     "execution_count": null,
     "metadata": {},
     "output_type": "execute_result"
    }
   ],
   "source": [
    "show_doc(SeasonalWindowAverage.fit, title_level=3)"
   ]
  },
  {
   "cell_type": "code",
   "execution_count": null,
   "metadata": {},
   "outputs": [
    {
     "data": {
      "text/markdown": [
       "---\n",
       "\n",
       "#### SeasonalWindowAverage.predict\n",
       "\n",
       ">      SeasonalWindowAverage.predict (h:int, X:numpy.ndarray=None,\n",
       ">                                     level:Optional[Tuple[int]]=None)\n",
       "\n",
       "Predict with fitted SeasonalWindowAverage.\n",
       "\n",
       "**Parameters:**<br>\n",
       "`h`: int, forecast horizon.<br>\n",
       "\n",
       "**Returns:**<br>\n",
       "`forecasts`: dictionary, with entries 'mean' for point predictions and\n",
       "    'level_*' for probabilistic predictions.<br>"
      ],
      "text/plain": [
       "<nbdev.showdoc.BasicMarkdownRenderer>"
      ]
     },
     "execution_count": null,
     "metadata": {},
     "output_type": "execute_result"
    }
   ],
   "source": [
    "show_doc(SeasonalWindowAverage.predict, title_level=3)"
   ]
  },
  {
   "cell_type": "code",
   "execution_count": null,
   "metadata": {},
   "outputs": [
    {
     "data": {
      "text/markdown": [
       "---\n",
       "\n",
       "#### SeasonalWindowAverage.predict_in_sample\n",
       "\n",
       ">      SeasonalWindowAverage.predict_in_sample ()\n",
       "\n",
       "Access fitted SeasonalWindowAverage insample predictions.\n",
       "\n",
       "**Parameters:**<br>\n",
       "`level`: float list 0-100, confidence levels for prediction intervals.<br>\n",
       "\n",
       "**Returns:**<br>\n",
       "`forecasts`: dictionary, with entries 'mean' for point predictions and\n",
       "    'level_*' for probabilistic predictions.<br>"
      ],
      "text/plain": [
       "<nbdev.showdoc.BasicMarkdownRenderer>"
      ]
     },
     "execution_count": null,
     "metadata": {},
     "output_type": "execute_result"
    }
   ],
   "source": [
    "show_doc(SeasonalWindowAverage.predict_in_sample, title_level=3)"
   ]
  },
  {
   "cell_type": "code",
   "execution_count": null,
   "metadata": {},
   "outputs": [
    {
     "name": "stderr",
     "output_type": "stream",
     "text": [
      "/home/ubuntu/statsforecast/statsforecast/arima.py:1388: RuntimeWarning: divide by zero encountered in long_scalars\n",
      "  tmp[\"aicc\"] = tmp[\"aic\"] + 2 * npar * (nstar / (nstar - npar - 1) - 1)\n"
     ]
    },
    {
     "data": {
      "text/plain": [
       "{'mean': array([358.  , 338.  , 385.75, 388.25], dtype=float32)}"
      ]
     },
     "execution_count": null,
     "metadata": {},
     "output_type": "execute_result"
    }
   ],
   "source": [
    "# SeasonalWindowAverage's usage example\n",
    "\n",
    "from statsforecast.models import SeasonalWindowAverage\n",
    "from statsforecast.utils import AirPassengers as ap\n",
    "\n",
    "\n",
    "model = SeasonalWindowAverage(season_length=12, window_size=4)\n",
    "model = model.fit(y=ap)\n",
    "y_hat_dict = model.predict(h=4)\n",
    "y_hat_dict"
   ]
  },
  {
   "cell_type": "markdown",
   "metadata": {},
   "source": [
    "# <span style=\"color:DarkBlue\"> 4. Sparse or Intermittent </span>"
   ]
  },
  {
   "cell_type": "markdown",
   "metadata": {},
   "source": [
    "## ADIDA"
   ]
  },
  {
   "cell_type": "code",
   "execution_count": null,
   "metadata": {},
   "outputs": [],
   "source": [
    "#| exporti\n",
    "def _adida(\n",
    "        y: np.ndarray, # time series\n",
    "        h: int, # forecasting horizon\n",
    "        fitted: bool, # fitted values\n",
    "    ):\n",
    "    if fitted:\n",
    "        raise NotImplementedError('return fitted')\n",
    "    if (y == 0).all():\n",
    "        return {'mean': np.repeat(np.float32(0), h)}\n",
    "    y_intervals = _intervals(y)\n",
    "    mean_interval = y_intervals.mean()\n",
    "    aggregation_level = round(mean_interval)\n",
    "    lost_remainder_data = len(y) % aggregation_level\n",
    "    y_cut = y[lost_remainder_data:]\n",
    "    aggregation_sums = _chunk_sums(y_cut, aggregation_level)\n",
    "    sums_forecast, _ = _optimized_ses_forecast(aggregation_sums)\n",
    "    forecast = sums_forecast / aggregation_level\n",
    "    mean = _repeat_val(val=forecast, h=h)\n",
    "    return {'mean': mean}"
   ]
  },
  {
   "cell_type": "code",
   "execution_count": null,
   "metadata": {},
   "outputs": [],
   "source": [
    "#| export\n",
    "class ADIDA(_TS):\n",
    "\n",
    "    def __init__(self):\n",
    "        \"\"\"ADIDA model.\n",
    "        [Source code](https://github.com/Nixtla/statsforecast/blob/main/statsforecast/sparse.py).\n",
    "\n",
    "        Aggregate-Dissagregate Intermittent Demand Approach: Uses temporal aggregation to reduce the \n",
    "        number of zero observations. Once the data has been agregated, it uses the optimized SES to \n",
    "        generate the forecasts at the new level. It then breaks down the forecast to the original \n",
    "        level using equal weights.\n",
    "\n",
    "        ADIDA specializes on sparse or intermittent series are series with very few non-zero observations. \n",
    "        They are notoriously hard to forecast, and so, different methods have been developed \n",
    "        especifically for them.\n",
    "\n",
    "        **Parameters:**<br>\n",
    "\n",
    "        **References:**<br>\n",
    "        [Nikolopoulos, K., Syntetos, A. A., Boylan, J. E., Petropoulos, F., & Assimakopoulos, V. (2011). An aggregate–disaggregate intermittent demand approach (ADIDA) to forecasting: an empirical proposition and analysis. Journal of the Operational Research Society, 62(3), 544-554.](https://researchportal.bath.ac.uk/en/publications/an-aggregate-disaggregate-intermittent-demand-approach-adida-to-f).\n",
    "        \"\"\"        \n",
    "        pass\n",
    "\n",
    "    def __repr__(self):\n",
    "        return 'ADIDA'\n",
    "\n",
    "    def fit(\n",
    "            self,\n",
    "            y: np.ndarray,\n",
    "            X: np.ndarray = None\n",
    "        ):\n",
    "        \"\"\"Fit the ADIDA model.\n",
    "\n",
    "        Fit an ADIDA to a time series (numpy array) `y`.\n",
    "\n",
    "        **Parameters:**<br>\n",
    "        `y`: numpy array of shape (t, ), clean time series.<br>\n",
    "\n",
    "        **Returns:**<br>\n",
    "        `self`: ADIDA fitted model.\n",
    "        \"\"\"        \n",
    "        mod = _adida(y=y, h=1, fitted=False)\n",
    "        self.model_ = dict(mod)\n",
    "        return self\n",
    "\n",
    "    def predict(\n",
    "            self,\n",
    "            h: int,\n",
    "            X: np.ndarray = None\n",
    "        ):\n",
    "        \"\"\"Predict with fitted ADIDA.\n",
    "\n",
    "        **Parameters:**<br>\n",
    "        `h`: int, forecast horizon.<br>\n",
    "\n",
    "        **Returns:**<br>\n",
    "        `forecasts`: dictionary, with entries 'mean' for point predictions and\n",
    "            'level_*' for probabilistic predictions.<br>\n",
    "        \"\"\"        \n",
    "        mean = _repeat_val(val=self.model_['mean'][0], h=h)\n",
    "        res = {'mean': mean}\n",
    "        return res\n",
    "    \n",
    "    def predict_in_sample(self):\n",
    "        \"\"\"Access fitted ADIDA insample predictions.\n",
    "\n",
    "        **Parameters:**<br>\n",
    "        `level`: float list 0-100, confidence levels for prediction intervals.<br>\n",
    "\n",
    "        **Returns:**<br>\n",
    "        `forecasts`: dictionary, with entries 'mean' for point predictions and\n",
    "            'level_*' for probabilistic predictions.<br>\n",
    "        \"\"\"\n",
    "        raise NotImplementedError\n",
    "        \n",
    "    def forecast(\n",
    "            self, \n",
    "            y: np.ndarray,\n",
    "            h: int,\n",
    "            X: np.ndarray = None,\n",
    "            X_future: np.ndarray = None,\n",
    "            fitted: bool = False,\n",
    "        ):\n",
    "        \"\"\"Memory Efficient ADIDA predictions.\n",
    "\n",
    "        This method avoids memory burden due from object storage.\n",
    "        It is analogous to `fit_predict` without storing information.\n",
    "        It assumes you know the forecast horizon in advance.\n",
    "\n",
    "        **Parameters:**<br>\n",
    "        `y`: numpy array of shape (n,), clean time series.<br>\n",
    "        `h`: int, forecast horizon.<br>\n",
    "        `level`: float list 0-100, confidence levels for prediction intervals.<br>\n",
    "        `fitted`: bool, wether or not returns insample predictions.<br>\n",
    "\n",
    "        **Returns:**<br>\n",
    "        `forecasts`: dictionary, with entries 'mean' for point predictions and\n",
    "            'level_*' for probabilistic predictions.<br>\n",
    "        \"\"\"\n",
    "        out = _adida(y=y, h=h, fitted=fitted)\n",
    "        return out"
   ]
  },
  {
   "cell_type": "code",
   "execution_count": null,
   "metadata": {},
   "outputs": [],
   "source": [
    "#| hide\n",
    "adida = ADIDA()\n",
    "test_class(adida, x=ap, h=12, skip_insample=True)"
   ]
  },
  {
   "cell_type": "code",
   "execution_count": null,
   "metadata": {},
   "outputs": [
    {
     "data": {
      "text/markdown": [
       "---\n",
       "\n",
       "### ADIDA\n",
       "\n",
       ">      ADIDA ()\n",
       "\n",
       "ADIDA model.\n",
       "[Source code](https://github.com/Nixtla/statsforecast/blob/main/statsforecast/sparse.py).\n",
       "\n",
       "Aggregate-Dissagregate Intermittent Demand Approach: Uses temporal aggregation to reduce the \n",
       "number of zero observations. Once the data has been agregated, it uses the optimized SES to \n",
       "generate the forecasts at the new level. It then breaks down the forecast to the original \n",
       "level using equal weights.\n",
       "\n",
       "ADIDA specializes on sparse or intermittent series are series with very few non-zero observations. \n",
       "They are notoriously hard to forecast, and so, different methods have been developed \n",
       "especifically for them.\n",
       "\n",
       "**Parameters:**<br>\n",
       "\n",
       "**References:**<br>\n",
       "[Nikolopoulos, K., Syntetos, A. A., Boylan, J. E., Petropoulos, F., & Assimakopoulos, V. (2011). An aggregate–disaggregate intermittent demand approach (ADIDA) to forecasting: an empirical proposition and analysis. Journal of the Operational Research Society, 62(3), 544-554.](https://researchportal.bath.ac.uk/en/publications/an-aggregate-disaggregate-intermittent-demand-approach-adida-to-f)."
      ],
      "text/plain": [
       "<nbdev.showdoc.BasicMarkdownRenderer>"
      ]
     },
     "execution_count": null,
     "metadata": {},
     "output_type": "execute_result"
    }
   ],
   "source": [
    "show_doc(ADIDA, title_level=3)"
   ]
  },
  {
   "cell_type": "code",
   "execution_count": null,
   "metadata": {},
   "outputs": [
    {
     "data": {
      "text/markdown": [
       "---\n",
       "\n",
       "#### ADIDA.forecast\n",
       "\n",
       ">      ADIDA.forecast (y:numpy.ndarray, h:int, X:numpy.ndarray=None,\n",
       ">                      X_future:numpy.ndarray=None, fitted:bool=False)\n",
       "\n",
       "Memory Efficient ADIDA predictions.\n",
       "\n",
       "This method avoids memory burden due from object storage.\n",
       "It is analogous to `fit_predict` without storing information.\n",
       "It assumes you know the forecast horizon in advance.\n",
       "\n",
       "**Parameters:**<br>\n",
       "`y`: numpy array of shape (n,), clean time series.<br>\n",
       "`h`: int, forecast horizon.<br>\n",
       "`level`: float list 0-100, confidence levels for prediction intervals.<br>\n",
       "`fitted`: bool, wether or not returns insample predictions.<br>\n",
       "\n",
       "**Returns:**<br>\n",
       "`forecasts`: dictionary, with entries 'mean' for point predictions and\n",
       "    'level_*' for probabilistic predictions.<br>"
      ],
      "text/plain": [
       "<nbdev.showdoc.BasicMarkdownRenderer>"
      ]
     },
     "execution_count": null,
     "metadata": {},
     "output_type": "execute_result"
    }
   ],
   "source": [
    "show_doc(ADIDA.forecast, title_level=3)"
   ]
  },
  {
   "cell_type": "code",
   "execution_count": null,
   "metadata": {},
   "outputs": [
    {
     "data": {
      "text/markdown": [
       "---\n",
       "\n",
       "#### ADIDA.fit\n",
       "\n",
       ">      ADIDA.fit (y:numpy.ndarray, X:numpy.ndarray=None)\n",
       "\n",
       "Fit the ADIDA model.\n",
       "\n",
       "Fit an ADIDA to a time series (numpy array) `y`.\n",
       "\n",
       "**Parameters:**<br>\n",
       "`y`: numpy array of shape (t, ), clean time series.<br>\n",
       "\n",
       "**Returns:**<br>\n",
       "`self`: ADIDA fitted model."
      ],
      "text/plain": [
       "<nbdev.showdoc.BasicMarkdownRenderer>"
      ]
     },
     "execution_count": null,
     "metadata": {},
     "output_type": "execute_result"
    }
   ],
   "source": [
    "show_doc(ADIDA.fit, title_level=3)"
   ]
  },
  {
   "cell_type": "code",
   "execution_count": null,
   "metadata": {},
   "outputs": [
    {
     "data": {
      "text/markdown": [
       "---\n",
       "\n",
       "#### ADIDA.predict\n",
       "\n",
       ">      ADIDA.predict (h:int, X:numpy.ndarray=None)\n",
       "\n",
       "Predict with fitted ADIDA.\n",
       "\n",
       "**Parameters:**<br>\n",
       "`h`: int, forecast horizon.<br>\n",
       "\n",
       "**Returns:**<br>\n",
       "`forecasts`: dictionary, with entries 'mean' for point predictions and\n",
       "    'level_*' for probabilistic predictions.<br>"
      ],
      "text/plain": [
       "<nbdev.showdoc.BasicMarkdownRenderer>"
      ]
     },
     "execution_count": null,
     "metadata": {},
     "output_type": "execute_result"
    }
   ],
   "source": [
    "show_doc(ADIDA.predict, title_level=3)"
   ]
  },
  {
   "cell_type": "code",
   "execution_count": null,
   "metadata": {},
   "outputs": [
    {
     "data": {
      "text/markdown": [
       "---\n",
       "\n",
       "#### ADIDA.predict_in_sample\n",
       "\n",
       ">      ADIDA.predict_in_sample ()\n",
       "\n",
       "Access fitted ADIDA insample predictions.\n",
       "\n",
       "**Parameters:**<br>\n",
       "`level`: float list 0-100, confidence levels for prediction intervals.<br>\n",
       "\n",
       "**Returns:**<br>\n",
       "`forecasts`: dictionary, with entries 'mean' for point predictions and\n",
       "    'level_*' for probabilistic predictions.<br>"
      ],
      "text/plain": [
       "<nbdev.showdoc.BasicMarkdownRenderer>"
      ]
     },
     "execution_count": null,
     "metadata": {},
     "output_type": "execute_result"
    }
   ],
   "source": [
    "show_doc(ADIDA.predict_in_sample, title_level=3)"
   ]
  },
  {
   "cell_type": "code",
   "execution_count": null,
   "metadata": {},
   "outputs": [
    {
     "data": {
      "text/plain": [
       "{'mean': array([461.7666, 461.7666, 461.7666, 461.7666], dtype=float32)}"
      ]
     },
     "execution_count": null,
     "metadata": {},
     "output_type": "execute_result"
    }
   ],
   "source": [
    "# ADIDA's usage example\n",
    "\n",
    "from statsforecast.models import ADIDA\n",
    "from statsforecast.utils import AirPassengers as ap\n",
    "\n",
    "\n",
    "model = ADIDA()\n",
    "model = model.fit(y=ap)\n",
    "y_hat_dict = model.predict(h=4)\n",
    "y_hat_dict"
   ]
  },
  {
   "cell_type": "markdown",
   "metadata": {},
   "source": [
    "## CrostonClassic"
   ]
  },
  {
   "cell_type": "code",
   "execution_count": null,
   "metadata": {},
   "outputs": [],
   "source": [
    "#| exporti\n",
    "@njit\n",
    "def _croston_classic(\n",
    "        y: np.ndarray, # time series\n",
    "        h: int, # forecasting horizon\n",
    "        fitted: bool, # fitted values\n",
    "    ): \n",
    "    if fitted:\n",
    "        raise NotImplementedError('return fitted')\n",
    "    yd = _demand(y)\n",
    "    yi = _intervals(y)\n",
    "    ydp, _ = _ses_forecast(yd, 0.1)\n",
    "    yip, _ = _ses_forecast(yi, 0.1)\n",
    "    if yip == 0.:\n",
    "        mean = ydp / yip\n",
    "    else:\n",
    "        mean = ydp\n",
    "    mean = _repeat_val(val=mean, h=h)\n",
    "    return {'mean': mean}"
   ]
  },
  {
   "cell_type": "code",
   "execution_count": null,
   "metadata": {},
   "outputs": [],
   "source": [
    "#| export\n",
    "class CrostonClassic(_TS):\n",
    "    \n",
    "    def __init__(self):\n",
    "        \"\"\"CrostonClassic model.\n",
    "        [Source code](https://github.com/Nixtla/statsforecast/blob/main/statsforecast/sparse.py).\n",
    "\n",
    "        A method to forecast time series that exhibit intermittent demand.\n",
    "        It decomposes the original time series into a non-zero demand size $z_t$ and \n",
    "        inter-demand intervals $p_t$. Then the forecast is given by:\n",
    "        $$ \\hat{y}_t = \\\\frac{\\hat{z}_t}{\\hat{p}_t} $$ \n",
    "\n",
    "        where $\\hat{z}_t$ and $\\hat{p}_t$ are forecasted using SES. The smoothing parameter \n",
    "        of both components is set equal to 0.1\n",
    "\n",
    "        **Parameters:**<br>\n",
    "\n",
    "        **References:**<br>\n",
    "        [Croston, J. D. (1972). Forecasting and stock control for intermittent demands. Journal of the Operational Research Society, 23(3), 289-303.](https://link.springer.com/article/10.1057/jors.1972.50)\n",
    "        \"\"\"        \n",
    "        pass\n",
    "\n",
    "    def __repr__(self):\n",
    "        return 'CrostonClassic'\n",
    "    \n",
    "    def fit(\n",
    "            self,\n",
    "            y: np.ndarray,\n",
    "            X: np.ndarray = None\n",
    "        ):\n",
    "        \"\"\"Fit the CrostonClassic model.\n",
    "\n",
    "        Fit an CrostonClassic to a time series (numpy array) `y`.\n",
    "\n",
    "        **Parameters:**<br>\n",
    "        `y`: numpy array of shape (t, ), clean time series.<br>\n",
    "\n",
    "        **Returns:**<br>\n",
    "        `self`: CrostonClassic fitted model.\n",
    "        \"\"\"        \n",
    "        mod = _croston_classic(y=y, h=1, fitted=False)\n",
    "        self.model_ = dict(mod)\n",
    "        return self\n",
    "        \n",
    "    def predict(\n",
    "            self,\n",
    "            h: int,\n",
    "            X: np.ndarray = None\n",
    "        ):\n",
    "        \"\"\"Predict with fitted CrostonClassic.\n",
    "\n",
    "        **Parameters:**<br>\n",
    "        `h`: int, forecast horizon.<br>\n",
    "\n",
    "        **Returns:**<br>\n",
    "        `forecasts`: dictionary, with entries 'mean' for point predictions and\n",
    "            'level_*' for probabilistic predictions.<br>\n",
    "        \"\"\"\n",
    "        mean = _repeat_val(val=self.model_['mean'][0], h=h)\n",
    "        res = {'mean': mean}\n",
    "        return res\n",
    "    \n",
    "    def predict_in_sample(self, level):\n",
    "        \"\"\"Access fitted CrostonClassic insample predictions.\n",
    "\n",
    "        **Parameters:**<br>\n",
    "        `level`: float list 0-100, confidence levels for prediction intervals.<br>\n",
    "\n",
    "        **Returns:**<br>\n",
    "        `forecasts`: dictionary, with entries 'mean' for point predictions and\n",
    "            'level_*' for probabilistic predictions.<br>\n",
    "        \"\"\"\n",
    "        raise NotImplementedError\n",
    "        \n",
    "    def forecast(\n",
    "            self, \n",
    "            y: np.ndarray,\n",
    "            h: int,\n",
    "            X: np.ndarray = None,\n",
    "            X_future: np.ndarray = None,\n",
    "            fitted: bool = False,\n",
    "        ):\n",
    "        \"\"\"Memory Efficient CrostonClassic predictions.\n",
    "\n",
    "        This method avoids memory burden due from object storage.\n",
    "        It is analogous to `fit_predict` without storing information.\n",
    "        It assumes you know the forecast horizon in advance.\n",
    "\n",
    "        **Parameters:**<br>\n",
    "        `y`: numpy array of shape (n,), clean time series.<br>\n",
    "        `h`: int, forecast horizon.<br>\n",
    "        `level`: float list 0-100, confidence levels for prediction intervals.<br>\n",
    "        `fitted`: bool, wether or not returns insample predictions.<br>\n",
    "\n",
    "        **Returns:**<br>\n",
    "        `forecasts`: dictionary, with entries 'mean' for point predictions and\n",
    "            'level_*' for probabilistic predictions.<br>\n",
    "        \"\"\"        \n",
    "        out = _croston_classic(y=y, h=h, fitted=fitted)\n",
    "        return out"
   ]
  },
  {
   "cell_type": "code",
   "execution_count": null,
   "metadata": {},
   "outputs": [],
   "source": [
    "#| hide\n",
    "croston = CrostonClassic()\n",
    "test_class(croston, x=ap, h=12, skip_insample=True)"
   ]
  },
  {
   "cell_type": "code",
   "execution_count": null,
   "metadata": {},
   "outputs": [
    {
     "data": {
      "text/markdown": [
       "---\n",
       "\n",
       "### CrostonClassic\n",
       "\n",
       ">      CrostonClassic ()\n",
       "\n",
       "CrostonClassic model.\n",
       "[Source code](https://github.com/Nixtla/statsforecast/blob/main/statsforecast/sparse.py).\n",
       "\n",
       "A method to forecast time series that exhibit intermittent demand.\n",
       "It decomposes the original time series into a non-zero demand size $z_t$ and \n",
       "inter-demand intervals $p_t$. Then the forecast is given by:\n",
       "$$ \\hat{y}_t = \\frac{\\hat{z}_t}{\\hat{p}_t} $$ \n",
       "\n",
       "where $\\hat{z}_t$ and $\\hat{p}_t$ are forecasted using SES. The smoothing parameter \n",
       "of both components is set equal to 0.1\n",
       "\n",
       "**Parameters:**<br>\n",
       "\n",
       "**References:**<br>\n",
       "[Croston, J. D. (1972). Forecasting and stock control for intermittent demands. Journal of the Operational Research Society, 23(3), 289-303.](https://link.springer.com/article/10.1057/jors.1972.50)"
      ],
      "text/plain": [
       "<nbdev.showdoc.BasicMarkdownRenderer>"
      ]
     },
     "execution_count": null,
     "metadata": {},
     "output_type": "execute_result"
    }
   ],
   "source": [
    "show_doc(CrostonClassic, title_level=3)"
   ]
  },
  {
   "cell_type": "code",
   "execution_count": null,
   "metadata": {},
   "outputs": [
    {
     "data": {
      "text/markdown": [
       "---\n",
       "\n",
       "#### CrostonClassic.forecast\n",
       "\n",
       ">      CrostonClassic.forecast (y:numpy.ndarray, h:int, X:numpy.ndarray=None,\n",
       ">                               X_future:numpy.ndarray=None, fitted:bool=False)\n",
       "\n",
       "Memory Efficient CrostonClassic predictions.\n",
       "\n",
       "This method avoids memory burden due from object storage.\n",
       "It is analogous to `fit_predict` without storing information.\n",
       "It assumes you know the forecast horizon in advance.\n",
       "\n",
       "**Parameters:**<br>\n",
       "`y`: numpy array of shape (n,), clean time series.<br>\n",
       "`h`: int, forecast horizon.<br>\n",
       "`level`: float list 0-100, confidence levels for prediction intervals.<br>\n",
       "`fitted`: bool, wether or not returns insample predictions.<br>\n",
       "\n",
       "**Returns:**<br>\n",
       "`forecasts`: dictionary, with entries 'mean' for point predictions and\n",
       "    'level_*' for probabilistic predictions.<br>"
      ],
      "text/plain": [
       "<nbdev.showdoc.BasicMarkdownRenderer>"
      ]
     },
     "execution_count": null,
     "metadata": {},
     "output_type": "execute_result"
    }
   ],
   "source": [
    "show_doc(CrostonClassic.forecast, title_level=3)"
   ]
  },
  {
   "cell_type": "code",
   "execution_count": null,
   "metadata": {},
   "outputs": [
    {
     "data": {
      "text/markdown": [
       "---\n",
       "\n",
       "#### CrostonClassic.fit\n",
       "\n",
       ">      CrostonClassic.fit (y:numpy.ndarray, X:numpy.ndarray=None)\n",
       "\n",
       "Fit the CrostonClassic model.\n",
       "\n",
       "Fit an CrostonClassic to a time series (numpy array) `y`.\n",
       "\n",
       "**Parameters:**<br>\n",
       "`y`: numpy array of shape (t, ), clean time series.<br>\n",
       "\n",
       "**Returns:**<br>\n",
       "`self`: CrostonClassic fitted model."
      ],
      "text/plain": [
       "<nbdev.showdoc.BasicMarkdownRenderer>"
      ]
     },
     "execution_count": null,
     "metadata": {},
     "output_type": "execute_result"
    }
   ],
   "source": [
    "show_doc(CrostonClassic.fit, title_level=3)"
   ]
  },
  {
   "cell_type": "code",
   "execution_count": null,
   "metadata": {},
   "outputs": [
    {
     "data": {
      "text/markdown": [
       "---\n",
       "\n",
       "#### CrostonClassic.predict\n",
       "\n",
       ">      CrostonClassic.predict (h:int, X:numpy.ndarray=None)\n",
       "\n",
       "Predict with fitted CrostonClassic.\n",
       "\n",
       "**Parameters:**<br>\n",
       "`h`: int, forecast horizon.<br>\n",
       "\n",
       "**Returns:**<br>\n",
       "`forecasts`: dictionary, with entries 'mean' for point predictions and\n",
       "    'level_*' for probabilistic predictions.<br>"
      ],
      "text/plain": [
       "<nbdev.showdoc.BasicMarkdownRenderer>"
      ]
     },
     "execution_count": null,
     "metadata": {},
     "output_type": "execute_result"
    }
   ],
   "source": [
    "show_doc(CrostonClassic.predict, title_level=3)"
   ]
  },
  {
   "cell_type": "code",
   "execution_count": null,
   "metadata": {},
   "outputs": [
    {
     "data": {
      "text/markdown": [
       "---\n",
       "\n",
       "#### CrostonClassic.predict_in_sample\n",
       "\n",
       ">      CrostonClassic.predict_in_sample (level)\n",
       "\n",
       "Access fitted CrostonClassic insample predictions.\n",
       "\n",
       "**Parameters:**<br>\n",
       "`level`: float list 0-100, confidence levels for prediction intervals.<br>\n",
       "\n",
       "**Returns:**<br>\n",
       "`forecasts`: dictionary, with entries 'mean' for point predictions and\n",
       "    'level_*' for probabilistic predictions.<br>"
      ],
      "text/plain": [
       "<nbdev.showdoc.BasicMarkdownRenderer>"
      ]
     },
     "execution_count": null,
     "metadata": {},
     "output_type": "execute_result"
    }
   ],
   "source": [
    "show_doc(CrostonClassic.predict_in_sample, title_level=3)"
   ]
  },
  {
   "cell_type": "code",
   "execution_count": null,
   "metadata": {},
   "outputs": [
    {
     "data": {
      "text/plain": [
       "{'mean': array([460.30276, 460.30276, 460.30276, 460.30276], dtype=float32)}"
      ]
     },
     "execution_count": null,
     "metadata": {},
     "output_type": "execute_result"
    }
   ],
   "source": [
    "# CrostonClassic's usage example\n",
    "\n",
    "from statsforecast.models import CrostonClassic\n",
    "from statsforecast.utils import AirPassengers as ap\n",
    "\n",
    "\n",
    "model = CrostonClassic()\n",
    "model = model.fit(y=ap)\n",
    "y_hat_dict = model.predict(h=4)\n",
    "y_hat_dict"
   ]
  },
  {
   "cell_type": "markdown",
   "metadata": {},
   "source": [
    "## CrostonOptimized"
   ]
  },
  {
   "cell_type": "code",
   "execution_count": null,
   "metadata": {},
   "outputs": [],
   "source": [
    "#| exporti\n",
    "def _croston_optimized(\n",
    "        y: np.ndarray, # time series\n",
    "        h: int, # forecasting horizon\n",
    "        fitted: bool, # fitted values\n",
    "    ): \n",
    "    if fitted:\n",
    "        raise NotImplementedError('return fitted')\n",
    "    yd = _demand(y)\n",
    "    yi = _intervals(y)\n",
    "    ydp, _ = _optimized_ses_forecast(yd)\n",
    "    yip, _ = _optimized_ses_forecast(yi)\n",
    "    if yip == 0.:\n",
    "        mean = ydp / yip\n",
    "    else:\n",
    "        mean = ydp\n",
    "    mean = _repeat_val(val=mean, h=h)\n",
    "    return {'mean': mean}"
   ]
  },
  {
   "cell_type": "code",
   "execution_count": null,
   "metadata": {},
   "outputs": [],
   "source": [
    "#| export\n",
    "class CrostonOptimized(_TS):\n",
    "    \n",
    "    def __init__(self):\n",
    "        \"\"\"CrostonOptimized model.\n",
    "        [Source code](https://github.com/Nixtla/statsforecast/blob/main/statsforecast/sparse.py).\n",
    "\n",
    "        A method to forecast time series that exhibit intermittent demand.\n",
    "        It decomposes the original time series into a non-zero demand size $z_t$ and \n",
    "        inter-demand intervals $p_t$. Then the forecast is given by:\n",
    "        $$ \\hat{y}_t = \\\\frac{\\hat{z}_t}{\\hat{p}_t} $$\n",
    "\n",
    "        A variation of the classic Croston's method where the smooting paramater is optimally \n",
    "        selected from the range $[0.1,0.3]$. Both the non-zero demand $z_t$ and the inter-demand \n",
    "        intervals $p_t$ are smoothed separately, so their smoothing parameters can be different.\n",
    "\n",
    "        **Parameters:**<br>\n",
    "\n",
    "        **References:**<br>\n",
    "        [Croston, J. D. (1972). Forecasting and stock control for intermittent demands. Journal of the Operational Research Society, 23(3), 289-303.](https://link.springer.com/article/10.1057/jors.1972.50).\n",
    "        \"\"\"        \n",
    "        pass\n",
    "    \n",
    "    def __repr__(self):\n",
    "        return 'CrostonOptimized'\n",
    "    \n",
    "    def fit(\n",
    "            self,\n",
    "            y: np.ndarray,\n",
    "            X: np.ndarray = None\n",
    "        ):\n",
    "        \"\"\"Fit the CrostonOptimized model.\n",
    "\n",
    "        Fit an CrostonOptimized to a time series (numpy array) `y`.\n",
    "\n",
    "        **Parameters:**<br>\n",
    "        `y`: numpy array of shape (t, ), clean time series.<br>\n",
    "\n",
    "        **Returns:**<br>\n",
    "        `self`: CrostonOptimized fitted model.\n",
    "        \"\"\"        \n",
    "        mod = _croston_optimized(y=y, h=1, fitted=False)\n",
    "        self.model_ = dict(mod)\n",
    "        return self\n",
    "        \n",
    "    def predict(\n",
    "            self,\n",
    "            h: int,\n",
    "            X: np.ndarray = None\n",
    "        ):\n",
    "        \"\"\"Predict with fitted CrostonOptimized.\n",
    "\n",
    "        **Parameters:**<br>\n",
    "        `h`: int, forecast horizon.<br>\n",
    "\n",
    "        **Returns:**<br>\n",
    "        `forecasts`: dictionary, with entries 'mean' for point predictions and\n",
    "            'level_*' for probabilistic predictions.<br>\n",
    "        \"\"\"\n",
    "        mean = _repeat_val(val=self.model_['mean'][0], h=h)\n",
    "        res = {'mean': mean}\n",
    "        return res\n",
    "    \n",
    "    def predict_in_sample(self):\n",
    "        \"\"\"Access fitted CrostonOptimized insample predictions.\n",
    "\n",
    "        **Parameters:**<br>\n",
    "        `level`: float list 0-100, confidence levels for prediction intervals.<br>\n",
    "\n",
    "        **Returns:**<br>\n",
    "        `forecasts`: dictionary, with entries 'mean' for point predictions and\n",
    "            'level_*' for probabilistic predictions.<br>\n",
    "        \"\"\"        \n",
    "        raise NotImplementedError\n",
    "\n",
    "    def forecast(\n",
    "            self, \n",
    "            y: np.ndarray,\n",
    "            h: int,\n",
    "            X: np.ndarray = None,\n",
    "            X_future: np.ndarray = None,\n",
    "            fitted: bool = False,\n",
    "        ):\n",
    "        \"\"\"Memory Efficient CrostonOptimized predictions.\n",
    "\n",
    "        This method avoids memory burden due from object storage.\n",
    "        It is analogous to `fit_predict` without storing information.\n",
    "        It assumes you know the forecast horizon in advance.\n",
    "\n",
    "        **Parameters:**<br>\n",
    "        `y`: numpy array of shape (n,), clean time series.<br>\n",
    "        `h`: int, forecast horizon.<br>\n",
    "        `level`: float list 0-100, confidence levels for prediction intervals.<br>\n",
    "        `fitted`: bool, wether or not returns insample predictions.<br>\n",
    "\n",
    "        **Returns:**<br>\n",
    "        `forecasts`: dictionary, with entries 'mean' for point predictions and\n",
    "            'level_*' for probabilistic predictions.<br>\n",
    "        \"\"\"        \n",
    "        out = _croston_optimized(y=y, h=h, fitted=fitted)\n",
    "        return out"
   ]
  },
  {
   "cell_type": "code",
   "execution_count": null,
   "metadata": {},
   "outputs": [],
   "source": [
    "#| hide\n",
    "croston_op = CrostonOptimized()\n",
    "test_class(croston_op, x=ap, h=12, skip_insample=True)"
   ]
  },
  {
   "cell_type": "code",
   "execution_count": null,
   "metadata": {},
   "outputs": [
    {
     "data": {
      "text/markdown": [
       "---\n",
       "\n",
       "### CrostonOptimized\n",
       "\n",
       ">      CrostonOptimized ()\n",
       "\n",
       "CrostonOptimized model.\n",
       "[Source code](https://github.com/Nixtla/statsforecast/blob/main/statsforecast/sparse.py).\n",
       "\n",
       "A method to forecast time series that exhibit intermittent demand.\n",
       "It decomposes the original time series into a non-zero demand size $z_t$ and \n",
       "inter-demand intervals $p_t$. Then the forecast is given by:\n",
       "$$ \\hat{y}_t = \\frac{\\hat{z}_t}{\\hat{p}_t} $$\n",
       "\n",
       "A variation of the classic Croston's method where the smooting paramater is optimally \n",
       "selected from the range $[0.1,0.3]$. Both the non-zero demand $z_t$ and the inter-demand \n",
       "intervals $p_t$ are smoothed separately, so their smoothing parameters can be different.\n",
       "\n",
       "**Parameters:**<br>\n",
       "\n",
       "**References:**<br>\n",
       "[Croston, J. D. (1972). Forecasting and stock control for intermittent demands. Journal of the Operational Research Society, 23(3), 289-303.](https://link.springer.com/article/10.1057/jors.1972.50)."
      ],
      "text/plain": [
       "<nbdev.showdoc.BasicMarkdownRenderer>"
      ]
     },
     "execution_count": null,
     "metadata": {},
     "output_type": "execute_result"
    }
   ],
   "source": [
    "show_doc(CrostonOptimized, title_level=3)"
   ]
  },
  {
   "cell_type": "code",
   "execution_count": null,
   "metadata": {},
   "outputs": [
    {
     "data": {
      "text/markdown": [
       "---\n",
       "\n",
       "#### CrostonOptimized.forecast\n",
       "\n",
       ">      CrostonOptimized.forecast (y:numpy.ndarray, h:int, X:numpy.ndarray=None,\n",
       ">                                 X_future:numpy.ndarray=None,\n",
       ">                                 fitted:bool=False)\n",
       "\n",
       "Memory Efficient CrostonOptimized predictions.\n",
       "\n",
       "This method avoids memory burden due from object storage.\n",
       "It is analogous to `fit_predict` without storing information.\n",
       "It assumes you know the forecast horizon in advance.\n",
       "\n",
       "**Parameters:**<br>\n",
       "`y`: numpy array of shape (n,), clean time series.<br>\n",
       "`h`: int, forecast horizon.<br>\n",
       "`level`: float list 0-100, confidence levels for prediction intervals.<br>\n",
       "`fitted`: bool, wether or not returns insample predictions.<br>\n",
       "\n",
       "**Returns:**<br>\n",
       "`forecasts`: dictionary, with entries 'mean' for point predictions and\n",
       "    'level_*' for probabilistic predictions.<br>"
      ],
      "text/plain": [
       "<nbdev.showdoc.BasicMarkdownRenderer>"
      ]
     },
     "execution_count": null,
     "metadata": {},
     "output_type": "execute_result"
    }
   ],
   "source": [
    "show_doc(CrostonOptimized.forecast, title_level=3)"
   ]
  },
  {
   "cell_type": "code",
   "execution_count": null,
   "metadata": {},
   "outputs": [
    {
     "data": {
      "text/markdown": [
       "---\n",
       "\n",
       "#### CrostonOptimized.fit\n",
       "\n",
       ">      CrostonOptimized.fit (y:numpy.ndarray, X:numpy.ndarray=None)\n",
       "\n",
       "Fit the CrostonOptimized model.\n",
       "\n",
       "Fit an CrostonOptimized to a time series (numpy array) `y`.\n",
       "\n",
       "**Parameters:**<br>\n",
       "`y`: numpy array of shape (t, ), clean time series.<br>\n",
       "\n",
       "**Returns:**<br>\n",
       "`self`: CrostonOptimized fitted model."
      ],
      "text/plain": [
       "<nbdev.showdoc.BasicMarkdownRenderer>"
      ]
     },
     "execution_count": null,
     "metadata": {},
     "output_type": "execute_result"
    }
   ],
   "source": [
    "show_doc(CrostonOptimized.fit, title_level=3)"
   ]
  },
  {
   "cell_type": "code",
   "execution_count": null,
   "metadata": {},
   "outputs": [
    {
     "data": {
      "text/markdown": [
       "---\n",
       "\n",
       "#### CrostonOptimized.predict\n",
       "\n",
       ">      CrostonOptimized.predict (h:int, X:numpy.ndarray=None)\n",
       "\n",
       "Predict with fitted CrostonOptimized.\n",
       "\n",
       "**Parameters:**<br>\n",
       "`h`: int, forecast horizon.<br>\n",
       "\n",
       "**Returns:**<br>\n",
       "`forecasts`: dictionary, with entries 'mean' for point predictions and\n",
       "    'level_*' for probabilistic predictions.<br>"
      ],
      "text/plain": [
       "<nbdev.showdoc.BasicMarkdownRenderer>"
      ]
     },
     "execution_count": null,
     "metadata": {},
     "output_type": "execute_result"
    }
   ],
   "source": [
    "show_doc(CrostonOptimized.predict, title_level=3)"
   ]
  },
  {
   "cell_type": "code",
   "execution_count": null,
   "metadata": {},
   "outputs": [
    {
     "data": {
      "text/markdown": [
       "---\n",
       "\n",
       "#### CrostonOptimized.predict_in_sample\n",
       "\n",
       ">      CrostonOptimized.predict_in_sample ()\n",
       "\n",
       "Access fitted CrostonOptimized insample predictions.\n",
       "\n",
       "**Parameters:**<br>\n",
       "`level`: float list 0-100, confidence levels for prediction intervals.<br>\n",
       "\n",
       "**Returns:**<br>\n",
       "`forecasts`: dictionary, with entries 'mean' for point predictions and\n",
       "    'level_*' for probabilistic predictions.<br>"
      ],
      "text/plain": [
       "<nbdev.showdoc.BasicMarkdownRenderer>"
      ]
     },
     "execution_count": null,
     "metadata": {},
     "output_type": "execute_result"
    }
   ],
   "source": [
    "show_doc(CrostonOptimized.predict_in_sample, title_level=3)"
   ]
  },
  {
   "cell_type": "markdown",
   "metadata": {},
   "source": [
    "#### Model description"
   ]
  },
  {
   "cell_type": "code",
   "execution_count": null,
   "metadata": {},
   "outputs": [
    {
     "data": {
      "text/plain": [
       "{'mean': array([461.7666, 461.7666, 461.7666, 461.7666], dtype=float32)}"
      ]
     },
     "execution_count": null,
     "metadata": {},
     "output_type": "execute_result"
    }
   ],
   "source": [
    "# CrostonOptimized's usage example\n",
    "\n",
    "from statsforecast.models import CrostonOptimized\n",
    "from statsforecast.utils import AirPassengers as ap\n",
    "\n",
    "\n",
    "model = CrostonOptimized()\n",
    "model = model.fit(y=ap)\n",
    "y_hat_dict = model.predict(h=4)\n",
    "y_hat_dict"
   ]
  },
  {
   "cell_type": "markdown",
   "metadata": {},
   "source": [
    "## CrostonSBA"
   ]
  },
  {
   "cell_type": "code",
   "execution_count": null,
   "metadata": {},
   "outputs": [],
   "source": [
    "#| exporti\n",
    "@njit\n",
    "def _croston_sba(\n",
    "        y: np.ndarray, # time series\n",
    "        h: int, # forecasting horizon\n",
    "        fitted: bool,  # fitted values\n",
    "    ):\n",
    "    if fitted:\n",
    "        raise NotImplementedError('return fitted')\n",
    "    mean = _croston_classic(y, h, fitted)\n",
    "    mean['mean'] *= 0.95\n",
    "    return mean"
   ]
  },
  {
   "cell_type": "code",
   "execution_count": null,
   "metadata": {},
   "outputs": [],
   "source": [
    "#| export\n",
    "class CrostonSBA(_TS):\n",
    "    \n",
    "    def __init__(self):\n",
    "        \"\"\"CrostonSBA model.\n",
    "        [Source code](https://github.com/Nixtla/statsforecast/blob/main/statsforecast/sparse.py).\n",
    "\n",
    "        A method to forecast time series that exhibit intermittent demand.\n",
    "        It decomposes the original time series into a non-zero demand size $z_t$ and \n",
    "        inter-demand intervals $p_t$. Then the forecast is given by:\n",
    "        $$ \\hat{y}_t = \\\\frac{\\hat{z}_t}{\\hat{p}_t} $$\n",
    "\n",
    "        A variation of the classic Croston's method that uses a debiasing factor, so that the \n",
    "        forecast is given by:\n",
    "        $$ \\hat{y}_t = 0.95  \\\\frac{\\hat{z}_t}{\\hat{p}_t} $$\n",
    "\n",
    "        **Parameters:**<br>\n",
    "\n",
    "        **References:**<br>\n",
    "        [Croston, J. D. (1972). Forecasting and stock control for intermittent demands. Journal of the Operational Research Society, 23(3), 289-303.](https://link.springer.com/article/10.1057/jors.1972.50).\n",
    "        \"\"\"        \n",
    "        pass\n",
    "\n",
    "    def __repr__(self):\n",
    "        return 'CrostonSBA'\n",
    "    \n",
    "    def fit(\n",
    "            self,\n",
    "            y: np.ndarray,\n",
    "            X: np.ndarray = None\n",
    "        ):\n",
    "        \"\"\"Fit the CrostonSBA model.\n",
    "\n",
    "        Fit an CrostonSBA to a time series (numpy array) `y`.\n",
    "\n",
    "        **Parameters:**<br>\n",
    "        `y`: numpy array of shape (t, ), clean time series.<br>\n",
    "\n",
    "        **Returns:**<br>\n",
    "        `self`: CrostonSBA fitted model.\n",
    "        \"\"\"\n",
    "        mod = _croston_sba(y=y, h=1, fitted=False)\n",
    "        self.model_ = dict(mod)\n",
    "        return self\n",
    "        \n",
    "    def predict(\n",
    "            self,\n",
    "            h: int,\n",
    "            X: np.ndarray = None\n",
    "        ):\n",
    "        \"\"\"Predict with fitted CrostonSBA.\n",
    "\n",
    "        **Parameters:**<br>\n",
    "        `h`: int, forecast horizon.<br>\n",
    "\n",
    "        **Returns:**<br>\n",
    "        `forecasts`: dictionary, with entries 'mean' for point predictions and\n",
    "            'level_*' for probabilistic predictions.<br>\n",
    "        \"\"\"\n",
    "        mean = _repeat_val(val=self.model_['mean'][0], h=h)\n",
    "        res = {'mean': mean}\n",
    "        return res\n",
    "    \n",
    "    def predict_in_sample(self):\n",
    "        \"\"\"Access fitted CrostonSBA insample predictions.\n",
    "\n",
    "        **Parameters:**<br>\n",
    "        `level`: float list 0-100, confidence levels for prediction intervals.<br>\n",
    "\n",
    "        **Returns:**<br>\n",
    "        `forecasts`: dictionary, with entries 'mean' for point predictions and\n",
    "            'level_*' for probabilistic predictions.<br>\n",
    "        \"\"\"\n",
    "        raise NotImplementedError\n",
    "        \n",
    "    def forecast(\n",
    "            self,\n",
    "            y: np.ndarray,\n",
    "            h: int,\n",
    "            X: np.ndarray = None,\n",
    "            X_future: np.ndarray = None,\n",
    "            fitted: bool = False,\n",
    "        ):\n",
    "        \"\"\"Memory Efficient CrostonSBA predictions.\n",
    "\n",
    "        This method avoids memory burden due from object storage.\n",
    "        It is analogous to `fit_predict` without storing information.\n",
    "        It assumes you know the forecast horizon in advance.\n",
    "\n",
    "        **Parameters:**<br>\n",
    "        `y`: numpy array of shape (n,), clean time series.<br>\n",
    "        `h`: int, forecast horizon.<br>\n",
    "        `level`: float list 0-100, confidence levels for prediction intervals.<br>\n",
    "        `fitted`: bool, wether or not returns insample predictions.<br>\n",
    "\n",
    "        **Returns:**<br>\n",
    "        `forecasts`: dictionary, with entries 'mean' for point predictions and\n",
    "            'level_*' for probabilistic predictions.<br>\n",
    "        \"\"\"        \n",
    "        out = _croston_sba(y=y, h=h, fitted=fitted)\n",
    "        return out"
   ]
  },
  {
   "cell_type": "code",
   "execution_count": null,
   "metadata": {},
   "outputs": [],
   "source": [
    "#| hide\n",
    "croston_sba = CrostonSBA()\n",
    "test_class(croston_sba, x=ap, h=12, skip_insample=True)"
   ]
  },
  {
   "cell_type": "code",
   "execution_count": null,
   "metadata": {},
   "outputs": [
    {
     "data": {
      "text/markdown": [
       "---\n",
       "\n",
       "### CrostonSBA\n",
       "\n",
       ">      CrostonSBA ()\n",
       "\n",
       "CrostonSBA model.\n",
       "[Source code](https://github.com/Nixtla/statsforecast/blob/main/statsforecast/sparse.py).\n",
       "\n",
       "A method to forecast time series that exhibit intermittent demand.\n",
       "It decomposes the original time series into a non-zero demand size $z_t$ and \n",
       "inter-demand intervals $p_t$. Then the forecast is given by:\n",
       "$$ \\hat{y}_t = \\frac{\\hat{z}_t}{\\hat{p}_t} $$\n",
       "\n",
       "A variation of the classic Croston's method that uses a debiasing factor, so that the \n",
       "forecast is given by:\n",
       "$$ \\hat{y}_t = 0.95  \\frac{\\hat{z}_t}{\\hat{p}_t} $$\n",
       "\n",
       "**Parameters:**<br>\n",
       "\n",
       "**References:**<br>\n",
       "[Croston, J. D. (1972). Forecasting and stock control for intermittent demands. Journal of the Operational Research Society, 23(3), 289-303.](https://link.springer.com/article/10.1057/jors.1972.50)."
      ],
      "text/plain": [
       "<nbdev.showdoc.BasicMarkdownRenderer>"
      ]
     },
     "execution_count": null,
     "metadata": {},
     "output_type": "execute_result"
    }
   ],
   "source": [
    "show_doc(CrostonSBA, title_level=3)"
   ]
  },
  {
   "cell_type": "code",
   "execution_count": null,
   "metadata": {},
   "outputs": [
    {
     "data": {
      "text/markdown": [
       "---\n",
       "\n",
       "#### CrostonSBA.forecast\n",
       "\n",
       ">      CrostonSBA.forecast (y:numpy.ndarray, h:int, X:numpy.ndarray=None,\n",
       ">                           X_future:numpy.ndarray=None, fitted:bool=False)\n",
       "\n",
       "Memory Efficient CrostonSBA predictions.\n",
       "\n",
       "This method avoids memory burden due from object storage.\n",
       "It is analogous to `fit_predict` without storing information.\n",
       "It assumes you know the forecast horizon in advance.\n",
       "\n",
       "**Parameters:**<br>\n",
       "`y`: numpy array of shape (n,), clean time series.<br>\n",
       "`h`: int, forecast horizon.<br>\n",
       "`level`: float list 0-100, confidence levels for prediction intervals.<br>\n",
       "`fitted`: bool, wether or not returns insample predictions.<br>\n",
       "\n",
       "**Returns:**<br>\n",
       "`forecasts`: dictionary, with entries 'mean' for point predictions and\n",
       "    'level_*' for probabilistic predictions.<br>"
      ],
      "text/plain": [
       "<nbdev.showdoc.BasicMarkdownRenderer>"
      ]
     },
     "execution_count": null,
     "metadata": {},
     "output_type": "execute_result"
    }
   ],
   "source": [
    "show_doc(CrostonSBA.forecast, title_level=3)"
   ]
  },
  {
   "cell_type": "code",
   "execution_count": null,
   "metadata": {},
   "outputs": [
    {
     "data": {
      "text/markdown": [
       "---\n",
       "\n",
       "#### CrostonSBA.fit\n",
       "\n",
       ">      CrostonSBA.fit (y:numpy.ndarray, X:numpy.ndarray=None)\n",
       "\n",
       "Fit the CrostonSBA model.\n",
       "\n",
       "Fit an CrostonSBA to a time series (numpy array) `y`.\n",
       "\n",
       "**Parameters:**<br>\n",
       "`y`: numpy array of shape (t, ), clean time series.<br>\n",
       "\n",
       "**Returns:**<br>\n",
       "`self`: CrostonSBA fitted model."
      ],
      "text/plain": [
       "<nbdev.showdoc.BasicMarkdownRenderer>"
      ]
     },
     "execution_count": null,
     "metadata": {},
     "output_type": "execute_result"
    }
   ],
   "source": [
    "show_doc(CrostonSBA.fit, title_level=3)"
   ]
  },
  {
   "cell_type": "code",
   "execution_count": null,
   "metadata": {},
   "outputs": [
    {
     "data": {
      "text/markdown": [
       "---\n",
       "\n",
       "#### CrostonSBA.predict\n",
       "\n",
       ">      CrostonSBA.predict (h:int, X:numpy.ndarray=None)\n",
       "\n",
       "Predict with fitted CrostonSBA.\n",
       "\n",
       "**Parameters:**<br>\n",
       "`h`: int, forecast horizon.<br>\n",
       "\n",
       "**Returns:**<br>\n",
       "`forecasts`: dictionary, with entries 'mean' for point predictions and\n",
       "    'level_*' for probabilistic predictions.<br>"
      ],
      "text/plain": [
       "<nbdev.showdoc.BasicMarkdownRenderer>"
      ]
     },
     "execution_count": null,
     "metadata": {},
     "output_type": "execute_result"
    }
   ],
   "source": [
    "show_doc(CrostonSBA.predict, title_level=3)"
   ]
  },
  {
   "cell_type": "code",
   "execution_count": null,
   "metadata": {},
   "outputs": [
    {
     "data": {
      "text/markdown": [
       "---\n",
       "\n",
       "#### CrostonSBA.predict_in_sample\n",
       "\n",
       ">      CrostonSBA.predict_in_sample ()\n",
       "\n",
       "Access fitted CrostonSBA insample predictions.\n",
       "\n",
       "**Parameters:**<br>\n",
       "`level`: float list 0-100, confidence levels for prediction intervals.<br>\n",
       "\n",
       "**Returns:**<br>\n",
       "`forecasts`: dictionary, with entries 'mean' for point predictions and\n",
       "    'level_*' for probabilistic predictions.<br>"
      ],
      "text/plain": [
       "<nbdev.showdoc.BasicMarkdownRenderer>"
      ]
     },
     "execution_count": null,
     "metadata": {},
     "output_type": "execute_result"
    }
   ],
   "source": [
    "show_doc(CrostonSBA.predict_in_sample, title_level=3)"
   ]
  },
  {
   "cell_type": "code",
   "execution_count": null,
   "metadata": {},
   "outputs": [
    {
     "data": {
      "text/plain": [
       "{'mean': array([437.28763, 437.28763, 437.28763, 437.28763], dtype=float32)}"
      ]
     },
     "execution_count": null,
     "metadata": {},
     "output_type": "execute_result"
    }
   ],
   "source": [
    "# CrostonSBA's usage example\n",
    "\n",
    "from statsforecast.models import CrostonSBA\n",
    "from statsforecast.utils import AirPassengers as ap\n",
    "\n",
    "\n",
    "model = CrostonSBA()\n",
    "model = model.fit(y=ap)\n",
    "y_hat_dict = model.predict(h=4)\n",
    "y_hat_dict"
   ]
  },
  {
   "cell_type": "markdown",
   "metadata": {},
   "source": [
    "## IMAPA"
   ]
  },
  {
   "cell_type": "code",
   "execution_count": null,
   "metadata": {},
   "outputs": [],
   "source": [
    "#| exporti\n",
    "def _imapa(\n",
    "        y: np.ndarray, # time series\n",
    "        h: int, # forecasting horizon\n",
    "        fitted: bool, # fitted values\n",
    "    ): \n",
    "    if fitted:\n",
    "        raise NotImplementedError('return fitted')\n",
    "    if (y == 0).all():\n",
    "        return {'mean': np.repeat(np.float32(0), h)}\n",
    "    y_intervals = _intervals(y)\n",
    "    mean_interval = y_intervals.mean().item()\n",
    "    max_aggregation_level = round(mean_interval)\n",
    "    forecasts = np.empty(max_aggregation_level, np.float32)\n",
    "    for aggregation_level in range(1, max_aggregation_level + 1):\n",
    "        lost_remainder_data = len(y) % aggregation_level\n",
    "        y_cut = y[lost_remainder_data:]\n",
    "        aggregation_sums = _chunk_sums(y_cut, aggregation_level)\n",
    "        forecast, _ = _optimized_ses_forecast(aggregation_sums)\n",
    "        forecasts[aggregation_level - 1] = (forecast / aggregation_level)\n",
    "    forecast = forecasts.mean()\n",
    "    mean = _repeat_val(val=forecast, h=h)\n",
    "    return {'mean': mean}"
   ]
  },
  {
   "cell_type": "code",
   "execution_count": null,
   "metadata": {},
   "outputs": [],
   "source": [
    "#| export\n",
    "class IMAPA(_TS):\n",
    "    \n",
    "    def __init__(self):\n",
    "        \"\"\"IMAPA model.\n",
    "        [Source code](https://github.com/Nixtla/statsforecast/blob/main/statsforecast/sparse.py).\n",
    "\n",
    "        Intermittent Multiple Aggregation Prediction Algorithm: Similar to ADIDA, but instead of\n",
    "        using a single aggregation level, it considers multiple in order to capture different\n",
    "        dynamics of the data. Uses the optimized SES to generate the forecasts at the new levels\n",
    "        and then combines them using a simple average.\n",
    "\n",
    "        **Parameters:**<br>\n",
    "\n",
    "        **References:**<br>\n",
    "        - [Syntetos, A. A., & Boylan, J. E. (2021). Intermittent demand forecasting: Context, methods and applications. John Wiley & Sons.](https://www.ifors.org/intermittent-demand-forecasting-context-methods-and-applications/).\n",
    "        \"\"\"\n",
    "        pass\n",
    "\n",
    "    def __repr__(self):\n",
    "        return 'IMAPA'\n",
    "    \n",
    "    def fit(\n",
    "            self,\n",
    "            y: np.ndarray,\n",
    "            X: np.ndarray = None\n",
    "        ):\n",
    "        \"\"\"Fit the IMAPA model.\n",
    "\n",
    "        Fit an IMAPA to a time series (numpy array) `y`.\n",
    "\n",
    "        **Parameters:**<br>\n",
    "        `y`: numpy array of shape (t, ), clean time series.<br>\n",
    "\n",
    "        **Returns:**<br>\n",
    "        `self`: IMAPA fitted model.\n",
    "        \"\"\"\n",
    "        mod = _imapa(y=y, h=1, fitted=False)\n",
    "        self.model_ = dict(mod)\n",
    "        return self\n",
    "        \n",
    "    def predict(\n",
    "            self,\n",
    "            h: int,\n",
    "            X: np.ndarray = None\n",
    "        ):\n",
    "        \"\"\"Predict with fitted IMAPA.\n",
    "\n",
    "        **Parameters:**<br>\n",
    "        `h`: int, forecast horizon.<br>\n",
    "\n",
    "        **Returns:**<br>\n",
    "        `forecasts`: dictionary, with entries 'mean' for point predictions and\n",
    "            'level_*' for probabilistic predictions.<br>\n",
    "        \"\"\"\n",
    "        mean = _repeat_val(val=self.model_['mean'][0], h=h)\n",
    "        res = {'mean': mean}\n",
    "        return res\n",
    "    \n",
    "    def predict_in_sample(self):\n",
    "        \"\"\"Access fitted IMAPA insample predictions.\n",
    "\n",
    "        **Parameters:**<br>\n",
    "        `level`: float list 0-100, confidence levels for prediction intervals.<br>\n",
    "\n",
    "        **Returns:**<br>\n",
    "        `forecasts`: dictionary, with entries 'mean' for point predictions and\n",
    "            'level_*' for probabilistic predictions.<br>\n",
    "        \"\"\"\n",
    "        raise NotImplementedError\n",
    "        \n",
    "    def forecast(\n",
    "        self, \n",
    "        y: np.ndarray,\n",
    "        h: int,\n",
    "        X: np.ndarray = None,\n",
    "        X_future: np.ndarray = None,\n",
    "        fitted: bool = False,\n",
    "    ):\n",
    "        \"\"\"Memory Efficient IMAPA predictions.\n",
    "\n",
    "        This method avoids memory burden due from object storage.\n",
    "        It is analogous to `fit_predict` without storing information.\n",
    "        It assumes you know the forecast horizon in advance.\n",
    "\n",
    "        **Parameters:**<br>\n",
    "        `y`: numpy array of shape (n,), clean time series.<br>\n",
    "        `h`: int, forecast horizon.<br>\n",
    "        `level`: float list 0-100, confidence levels for prediction intervals.<br>\n",
    "        `fitted`: bool, wether or not returns insample predictions.<br>\n",
    "\n",
    "        **Returns:**<br>\n",
    "        `forecasts`: dictionary, with entries 'mean' for point predictions and\n",
    "            'level_*' for probabilistic predictions.<br>\n",
    "        \"\"\"\n",
    "        out = _imapa(y=y, h=h, fitted=fitted)\n",
    "        return out"
   ]
  },
  {
   "cell_type": "code",
   "execution_count": null,
   "metadata": {},
   "outputs": [],
   "source": [
    "#| hide\n",
    "imapa = IMAPA()\n",
    "test_class(imapa, x=ap, h=12, skip_insample=True)"
   ]
  },
  {
   "cell_type": "code",
   "execution_count": null,
   "metadata": {},
   "outputs": [
    {
     "data": {
      "text/markdown": [
       "---\n",
       "\n",
       "### IMAPA\n",
       "\n",
       ">      IMAPA ()\n",
       "\n",
       "IMAPA model.\n",
       "[Source code](https://github.com/Nixtla/statsforecast/blob/main/statsforecast/sparse.py).\n",
       "\n",
       "Intermittent Multiple Aggregation Prediction Algorithm: Similar to ADIDA, but instead of\n",
       "using a single aggregation level, it considers multiple in order to capture different\n",
       "dynamics of the data. Uses the optimized SES to generate the forecasts at the new levels\n",
       "and then combines them using a simple average.\n",
       "\n",
       "**Parameters:**<br>\n",
       "\n",
       "**References:**<br>\n",
       "- [Syntetos, A. A., & Boylan, J. E. (2021). Intermittent demand forecasting: Context, methods and applications. John Wiley & Sons.](https://www.ifors.org/intermittent-demand-forecasting-context-methods-and-applications/)."
      ],
      "text/plain": [
       "<nbdev.showdoc.BasicMarkdownRenderer>"
      ]
     },
     "execution_count": null,
     "metadata": {},
     "output_type": "execute_result"
    }
   ],
   "source": [
    "show_doc(IMAPA, title_level=3)"
   ]
  },
  {
   "cell_type": "code",
   "execution_count": null,
   "metadata": {},
   "outputs": [
    {
     "data": {
      "text/markdown": [
       "---\n",
       "\n",
       "#### IMAPA.forecast\n",
       "\n",
       ">      IMAPA.forecast (y:numpy.ndarray, h:int, X:numpy.ndarray=None,\n",
       ">                      X_future:numpy.ndarray=None, fitted:bool=False)\n",
       "\n",
       "Memory Efficient IMAPA predictions.\n",
       "\n",
       "This method avoids memory burden due from object storage.\n",
       "It is analogous to `fit_predict` without storing information.\n",
       "It assumes you know the forecast horizon in advance.\n",
       "\n",
       "**Parameters:**<br>\n",
       "`y`: numpy array of shape (n,), clean time series.<br>\n",
       "`h`: int, forecast horizon.<br>\n",
       "`level`: float list 0-100, confidence levels for prediction intervals.<br>\n",
       "`fitted`: bool, wether or not returns insample predictions.<br>\n",
       "\n",
       "**Returns:**<br>\n",
       "`forecasts`: dictionary, with entries 'mean' for point predictions and\n",
       "    'level_*' for probabilistic predictions.<br>"
      ],
      "text/plain": [
       "<nbdev.showdoc.BasicMarkdownRenderer>"
      ]
     },
     "execution_count": null,
     "metadata": {},
     "output_type": "execute_result"
    }
   ],
   "source": [
    "show_doc(IMAPA.forecast, title_level=3)"
   ]
  },
  {
   "cell_type": "code",
   "execution_count": null,
   "metadata": {},
   "outputs": [
    {
     "data": {
      "text/markdown": [
       "---\n",
       "\n",
       "#### IMAPA.fit\n",
       "\n",
       ">      IMAPA.fit (y:numpy.ndarray, X:numpy.ndarray=None)\n",
       "\n",
       "Fit the IMAPA model.\n",
       "\n",
       "Fit an IMAPA to a time series (numpy array) `y`.\n",
       "\n",
       "**Parameters:**<br>\n",
       "`y`: numpy array of shape (t, ), clean time series.<br>\n",
       "\n",
       "**Returns:**<br>\n",
       "`self`: IMAPA fitted model."
      ],
      "text/plain": [
       "<nbdev.showdoc.BasicMarkdownRenderer>"
      ]
     },
     "execution_count": null,
     "metadata": {},
     "output_type": "execute_result"
    }
   ],
   "source": [
    "show_doc(IMAPA.fit, title_level=3)"
   ]
  },
  {
   "cell_type": "code",
   "execution_count": null,
   "metadata": {},
   "outputs": [
    {
     "data": {
      "text/markdown": [
       "---\n",
       "\n",
       "#### IMAPA.predict\n",
       "\n",
       ">      IMAPA.predict (h:int, X:numpy.ndarray=None)\n",
       "\n",
       "Predict with fitted IMAPA.\n",
       "\n",
       "**Parameters:**<br>\n",
       "`h`: int, forecast horizon.<br>\n",
       "\n",
       "**Returns:**<br>\n",
       "`forecasts`: dictionary, with entries 'mean' for point predictions and\n",
       "    'level_*' for probabilistic predictions.<br>"
      ],
      "text/plain": [
       "<nbdev.showdoc.BasicMarkdownRenderer>"
      ]
     },
     "execution_count": null,
     "metadata": {},
     "output_type": "execute_result"
    }
   ],
   "source": [
    "show_doc(IMAPA.predict, title_level=3)"
   ]
  },
  {
   "cell_type": "code",
   "execution_count": null,
   "metadata": {},
   "outputs": [
    {
     "data": {
      "text/markdown": [
       "---\n",
       "\n",
       "#### IMAPA.predict_in_sample\n",
       "\n",
       ">      IMAPA.predict_in_sample ()\n",
       "\n",
       "Access fitted IMAPA insample predictions.\n",
       "\n",
       "**Parameters:**<br>\n",
       "`level`: float list 0-100, confidence levels for prediction intervals.<br>\n",
       "\n",
       "**Returns:**<br>\n",
       "`forecasts`: dictionary, with entries 'mean' for point predictions and\n",
       "    'level_*' for probabilistic predictions.<br>"
      ],
      "text/plain": [
       "<nbdev.showdoc.BasicMarkdownRenderer>"
      ]
     },
     "execution_count": null,
     "metadata": {},
     "output_type": "execute_result"
    }
   ],
   "source": [
    "show_doc(IMAPA.predict_in_sample, title_level=3)"
   ]
  },
  {
   "cell_type": "code",
   "execution_count": null,
   "metadata": {},
   "outputs": [
    {
     "data": {
      "text/plain": [
       "{'mean': array([461.7666, 461.7666, 461.7666, 461.7666], dtype=float32)}"
      ]
     },
     "execution_count": null,
     "metadata": {},
     "output_type": "execute_result"
    }
   ],
   "source": [
    "# IMAPA's usage example\n",
    "\n",
    "from statsforecast.models import IMAPA\n",
    "from statsforecast.utils import AirPassengers as ap\n",
    "\n",
    "\n",
    "model = IMAPA()\n",
    "model = model.fit(y=ap)\n",
    "y_hat_dict = model.predict(h=4)\n",
    "y_hat_dict"
   ]
  },
  {
   "cell_type": "markdown",
   "metadata": {},
   "source": [
    "## TSB"
   ]
  },
  {
   "cell_type": "code",
   "execution_count": null,
   "metadata": {},
   "outputs": [],
   "source": [
    "#| exporti\n",
    "@njit\n",
    "def _tsb(\n",
    "        y: np.ndarray, # time series\n",
    "        h: int, # forecasting horizon\n",
    "        fitted: int, # fitted values\n",
    "        alpha_d: float,\n",
    "        alpha_p: float,\n",
    "    ):\n",
    "    if fitted:\n",
    "        raise NotImplementedError('return fitted')\n",
    "    if (y == 0).all():\n",
    "        return {'mean': np.repeat(np.float32(0), h)}\n",
    "    yd = _demand(y)\n",
    "    yp = _probability(y)\n",
    "    ypf, _ = _ses_forecast(yp, alpha_p)\n",
    "    ydf, _ = _ses_forecast(yd, alpha_d)\n",
    "    forecast = np.float32(ypf * ydf)\n",
    "    mean = _repeat_val(val=forecast, h=h)\n",
    "    return {'mean': mean}"
   ]
  },
  {
   "cell_type": "code",
   "execution_count": null,
   "metadata": {},
   "outputs": [],
   "source": [
    "#| export\n",
    "class TSB(_TS):\n",
    "    \n",
    "    def __init__(\n",
    "            self, \n",
    "            alpha_d: float,\n",
    "            alpha_p: float\n",
    "        ):\n",
    "        \"\"\"TSB model.\n",
    "        [Source code](https://github.com/Nixtla/statsforecast/blob/main/statsforecast/sparse.py).\n",
    "\n",
    "        Teunter-Syntetos-Babai: A modification of Croston's method that replaces the inter-demand \n",
    "        intervals with the demand probability $d_t$, which is defined as follows.\n",
    "\n",
    "        $$\n",
    "        d_t = \\\\begin{cases}\n",
    "            1  & \\\\text{if demand occurs at time t} \\\\\\ \n",
    "            0  & \\\\text{otherwise.}\n",
    "        \\\\end{cases}\n",
    "        $$\n",
    "\n",
    "        Hence, the forecast is given by \n",
    "\n",
    "        $$\\hat{y}_t= \\hat{d}_t\\hat{z_t}$$\n",
    "\n",
    "        Both $d_t$ and $z_t$ are forecasted using SES. The smooting paramaters of each may differ, \n",
    "        like in the optimized Croston's method.\n",
    "\n",
    "        **Parameters:**<br>\n",
    "        `alpha_d`: float, smoothing parameter for demand<br>\n",
    "        `alpha_p`: float, smoothing parameter for probability<br>\n",
    "\n",
    "        **References:**<br>\n",
    "        - [Teunter, R. H., Syntetos, A. A., & Babai, M. Z. (2011). Intermittent demand: Linking forecasting to inventory obsolescence. European Journal of Operational Research, 214(3), 606-615.](https://www.sciencedirect.com/science/article/abs/pii/S0377221711004437)\n",
    "        \"\"\"\n",
    "        self.alpha_d = alpha_d\n",
    "        self.alpha_p = alpha_p\n",
    "        \n",
    "    def __repr__(self):\n",
    "        return 'TSB'\n",
    "    \n",
    "    def fit(\n",
    "            self,\n",
    "            y: np.ndarray,\n",
    "            X: np.ndarray = None\n",
    "        ):\n",
    "        \"\"\"Fit the TSB model.\n",
    "\n",
    "        Fit an TSB to a time series (numpy array) `y`.\n",
    "\n",
    "        **Parameters:**<br>\n",
    "        `y`: numpy array of shape (t, ), clean time series.<br>\n",
    "\n",
    "        **Returns:**<br>\n",
    "        `self`: TSB fitted model.\n",
    "        \"\"\"\n",
    "        mod = _tsb(\n",
    "            y=y, h=1, \n",
    "            fitted=False, \n",
    "            alpha_d=self.alpha_d, \n",
    "            alpha_p=self.alpha_p\n",
    "        )\n",
    "        self.model_ = dict(mod)\n",
    "        return self\n",
    "        \n",
    "    def predict(\n",
    "            self,\n",
    "            h: int,\n",
    "            X: np.ndarray = None\n",
    "        ):\n",
    "        \"\"\"Predict with fitted TSB.\n",
    "\n",
    "        **Parameters:**<br>\n",
    "        `h`: int, forecast horizon.<br>\n",
    "\n",
    "        **Returns:**<br>\n",
    "        `forecasts`: dictionary, with entries 'mean' for point predictions and\n",
    "            'level_*' for probabilistic predictions.<br>\n",
    "        \"\"\"        \n",
    "        mean = _repeat_val(self.model_['mean'][0], h=h)\n",
    "        res = {'mean': mean}\n",
    "        return res\n",
    "    \n",
    "    def predict_in_sample(self):\n",
    "        \"\"\"Access fitted TSB insample predictions.\n",
    "\n",
    "        **Parameters:**<br>\n",
    "        `level`: float list 0-100, confidence levels for prediction intervals.<br>\n",
    "\n",
    "        **Returns:**<br>\n",
    "        `forecasts`: dictionary, with entries 'mean' for point predictions and\n",
    "            'level_*' for probabilistic predictions.<br>\n",
    "        \"\"\"\n",
    "        raise NotImplementedError\n",
    "        \n",
    "    def forecast(\n",
    "            self, \n",
    "            y: np.ndarray,\n",
    "            h: int,\n",
    "            X: np.ndarray = None,\n",
    "            X_future: np.ndarray = None,\n",
    "            fitted: bool = False,\n",
    "        ):\n",
    "        \"\"\"Memory Efficient TSB predictions.\n",
    "\n",
    "        This method avoids memory burden due from object storage.\n",
    "        It is analogous to `fit_predict` without storing information.\n",
    "        It assumes you know the forecast horizon in advance.\n",
    "\n",
    "        **Parameters:**<br>\n",
    "        `y`: numpy array of shape (n,), clean time series.<br>\n",
    "        `h`: int, forecast horizon.<br>\n",
    "        `level`: float list 0-100, confidence levels for prediction intervals.<br>\n",
    "        `fitted`: bool, wether or not returns insample predictions.<br>\n",
    "\n",
    "        **Returns:**<br>\n",
    "        `forecasts`: dictionary, with entries 'mean' for point predictions and\n",
    "            'level_*' for probabilistic predictions.<br>\n",
    "        \"\"\"\n",
    "        out = _tsb(\n",
    "            y=y, h=h, \n",
    "            fitted=fitted, \n",
    "            alpha_d=self.alpha_d, \n",
    "            alpha_p=self.alpha_p\n",
    "        )\n",
    "        return out"
   ]
  },
  {
   "cell_type": "code",
   "execution_count": null,
   "metadata": {},
   "outputs": [],
   "source": [
    "#| hide\n",
    "tsb = TSB(alpha_d=0.9, alpha_p=0.1)\n",
    "test_class(tsb, x=ap, h=12, skip_insample=True)"
   ]
  },
  {
   "cell_type": "code",
   "execution_count": null,
   "metadata": {},
   "outputs": [
    {
     "data": {
      "text/markdown": [
       "---\n",
       "\n",
       "### TSB\n",
       "\n",
       ">      TSB (alpha_d:float, alpha_p:float)\n",
       "\n",
       "TSB model.\n",
       "[Source code](https://github.com/Nixtla/statsforecast/blob/main/statsforecast/sparse.py).\n",
       "\n",
       "Teunter-Syntetos-Babai: A modification of Croston's method that replaces the inter-demand \n",
       "intervals with the demand probability $d_t$, which is defined as follows.\n",
       "\n",
       "$$\n",
       "d_t = \\begin{cases}\n",
       "    1  & \\text{if demand occurs at time t} \\\\ \n",
       "    0  & \\text{otherwise.}\n",
       "\\end{cases}\n",
       "$$\n",
       "\n",
       "Hence, the forecast is given by \n",
       "\n",
       "$$\\hat{y}_t= \\hat{d}_t\\hat{z_t}$$\n",
       "\n",
       "Both $d_t$ and $z_t$ are forecasted using SES. The smooting paramaters of each may differ, \n",
       "like in the optimized Croston's method.\n",
       "\n",
       "**Parameters:**<br>\n",
       "`alpha_d`: float, smoothing parameter for demand<br>\n",
       "`alpha_p`: float, smoothing parameter for probability<br>\n",
       "\n",
       "**References:**<br>\n",
       "- [Teunter, R. H., Syntetos, A. A., & Babai, M. Z. (2011). Intermittent demand: Linking forecasting to inventory obsolescence. European Journal of Operational Research, 214(3), 606-615.](https://www.sciencedirect.com/science/article/abs/pii/S0377221711004437)"
      ],
      "text/plain": [
       "<nbdev.showdoc.BasicMarkdownRenderer>"
      ]
     },
     "execution_count": null,
     "metadata": {},
     "output_type": "execute_result"
    }
   ],
   "source": [
    "show_doc(TSB, title_level=3)"
   ]
  },
  {
   "cell_type": "code",
   "execution_count": null,
   "metadata": {},
   "outputs": [
    {
     "data": {
      "text/markdown": [
       "---\n",
       "\n",
       "#### TSB.forecast\n",
       "\n",
       ">      TSB.forecast (y:numpy.ndarray, h:int, X:numpy.ndarray=None,\n",
       ">                    X_future:numpy.ndarray=None, fitted:bool=False)\n",
       "\n",
       "Memory Efficient TSB predictions.\n",
       "\n",
       "This method avoids memory burden due from object storage.\n",
       "It is analogous to `fit_predict` without storing information.\n",
       "It assumes you know the forecast horizon in advance.\n",
       "\n",
       "**Parameters:**<br>\n",
       "`y`: numpy array of shape (n,), clean time series.<br>\n",
       "`h`: int, forecast horizon.<br>\n",
       "`level`: float list 0-100, confidence levels for prediction intervals.<br>\n",
       "`fitted`: bool, wether or not returns insample predictions.<br>\n",
       "\n",
       "**Returns:**<br>\n",
       "`forecasts`: dictionary, with entries 'mean' for point predictions and\n",
       "    'level_*' for probabilistic predictions.<br>"
      ],
      "text/plain": [
       "<nbdev.showdoc.BasicMarkdownRenderer>"
      ]
     },
     "execution_count": null,
     "metadata": {},
     "output_type": "execute_result"
    }
   ],
   "source": [
    "show_doc(TSB.forecast, title_level=3)"
   ]
  },
  {
   "cell_type": "code",
   "execution_count": null,
   "metadata": {},
   "outputs": [
    {
     "data": {
      "text/markdown": [
       "---\n",
       "\n",
       "#### TSB.fit\n",
       "\n",
       ">      TSB.fit (y:numpy.ndarray, X:numpy.ndarray=None)\n",
       "\n",
       "Fit the TSB model.\n",
       "\n",
       "Fit an TSB to a time series (numpy array) `y`.\n",
       "\n",
       "**Parameters:**<br>\n",
       "`y`: numpy array of shape (t, ), clean time series.<br>\n",
       "\n",
       "**Returns:**<br>\n",
       "`self`: TSB fitted model."
      ],
      "text/plain": [
       "<nbdev.showdoc.BasicMarkdownRenderer>"
      ]
     },
     "execution_count": null,
     "metadata": {},
     "output_type": "execute_result"
    }
   ],
   "source": [
    "show_doc(TSB.fit, title_level=3)"
   ]
  },
  {
   "cell_type": "code",
   "execution_count": null,
   "metadata": {},
   "outputs": [
    {
     "data": {
      "text/markdown": [
       "---\n",
       "\n",
       "#### TSB.predict\n",
       "\n",
       ">      TSB.predict (h:int, X:numpy.ndarray=None)\n",
       "\n",
       "Predict with fitted TSB.\n",
       "\n",
       "**Parameters:**<br>\n",
       "`h`: int, forecast horizon.<br>\n",
       "\n",
       "**Returns:**<br>\n",
       "`forecasts`: dictionary, with entries 'mean' for point predictions and\n",
       "    'level_*' for probabilistic predictions.<br>"
      ],
      "text/plain": [
       "<nbdev.showdoc.BasicMarkdownRenderer>"
      ]
     },
     "execution_count": null,
     "metadata": {},
     "output_type": "execute_result"
    }
   ],
   "source": [
    "show_doc(TSB.predict, title_level=3)"
   ]
  },
  {
   "cell_type": "code",
   "execution_count": null,
   "metadata": {},
   "outputs": [
    {
     "data": {
      "text/markdown": [
       "---\n",
       "\n",
       "#### TSB.predict_in_sample\n",
       "\n",
       ">      TSB.predict_in_sample ()\n",
       "\n",
       "Access fitted TSB insample predictions.\n",
       "\n",
       "**Parameters:**<br>\n",
       "`level`: float list 0-100, confidence levels for prediction intervals.<br>\n",
       "\n",
       "**Returns:**<br>\n",
       "`forecasts`: dictionary, with entries 'mean' for point predictions and\n",
       "    'level_*' for probabilistic predictions.<br>"
      ],
      "text/plain": [
       "<nbdev.showdoc.BasicMarkdownRenderer>"
      ]
     },
     "execution_count": null,
     "metadata": {},
     "output_type": "execute_result"
    }
   ],
   "source": [
    "show_doc(TSB.predict_in_sample, title_level=3)"
   ]
  },
  {
   "cell_type": "code",
   "execution_count": null,
   "metadata": {},
   "outputs": [
    {
     "data": {
      "text/plain": [
       "{'mean': array([439.256, 439.256, 439.256, 439.256], dtype=float32)}"
      ]
     },
     "execution_count": null,
     "metadata": {},
     "output_type": "execute_result"
    }
   ],
   "source": [
    "# TSB's usage example\n",
    "\n",
    "from statsforecast.models import TSB\n",
    "from statsforecast.utils import AirPassengers as ap\n",
    "\n",
    "\n",
    "model = TSB(alpha_d=0.5, alpha_p=0.5)\n",
    "model = model.fit(y=ap)\n",
    "y_hat_dict = model.predict(h=4)\n",
    "y_hat_dict"
   ]
  },
  {
   "cell_type": "markdown",
   "metadata": {},
   "source": [
    "# <span style=\"color:DarkBlue\"> References </span>"
   ]
  },
  {
   "cell_type": "markdown",
   "metadata": {},
   "source": [
    "#### **General**\n",
    "-  [Hyndman, R.J., & Athanasopoulos, G. (2021). \"Forecasting: principles and practice, 3rd edition\". OTexts: Melbourne, Australia. OTexts.com/fpp3  Accessed on July 2022](https://otexts.com/fpp3/).\n",
    "\n",
    "- [Shmueli, G., & Lichtendahl Jr, K. C. (2016). \"Practical time series forecasting with R: A hands-on guide\". Axelrod Schnall Publishers](https://www.forecastingbook.com/).\n",
    "\n",
    "#### **Automatic Forecasting**\n",
    "- [Rob J. Hyndman, Yeasmin Khandakar (2008). \"Automatic Time Series Forecasting: The forecast package for R\"](https://www.jstatsoft.org/article/view/v027i03).\n",
    "\n",
    "#### **Exponential Smoothing**\n",
    "- [Charles. C. Holt (1957). \"Forecasting seasonals and trends by exponentially weighted moving averages\", ONR Research Memorandum, Carnegie Institute of Technology 52](https://www.sciencedirect.com/science/article/abs/pii/S0169207003001134).\n",
    "\n",
    "- [Peter R. Winters (1960). \"Forecasting sales by exponentially weighted moving averages\". Management Science](https://pubsonline.informs.org/doi/abs/10.1287/mnsc.6.3.324).\n",
    "\n",
    "- [Hyndman, Rob, et al (2008). \"Forecasting with exponential smoothing: the state space approach\"](https://robjhyndman.com/expsmooth/).\n",
    "\n",
    "- [Rob J. Hyndman and George Athanasopoulos (2018). \"Forecasting principles and practice, Methods with trend\"](https://otexts.com/fpp3/holt.html).\n",
    "\n",
    "- [Rob J. Hyndman and George Athanasopoulos (2018). \"Forecasting principles and practice, Methods with seasonality\"](https://otexts.com/fpp3/holt-winters.html).\n",
    "\n",
    "#### **Simple Methods**\n",
    "- [Rob J. Hyndman and George Athanasopoulos (2018). \"Forecasting principles and practice, Simple Methods\"](https://otexts.com/fpp3/simple-methods.html).\n",
    "\n",
    "#### **Sparse Intermittent**\n",
    "- [Croston, J. D. (1972). \"Forecasting and stock control for intermittent demands\". Journal of the Operational Research Society, 23(3), 289-303](https://link.springer.com/article/10.1057/jors.1972.50).\n",
    "\n",
    "- [Nikolopoulos, K., Syntetos, A. A., Boylan, J. E., Petropoulos, F., & Assimakopoulos, V. (2011). \"An aggregate–disaggregate intermittent demand approach (ADIDA) to forecasting: an empirical proposition and analysis\". Journal of the Operational Research Society, 62(3), 544-554](https://researchportal.bath.ac.uk/en/publications/an-aggregate-disaggregate-intermittent-demand-approach-adida-to-f).\n",
    "\n",
    "- [Syntetos, A. A., & Boylan, J. E. (2005). \"The accuracy of intermittent demand estimates\". International Journal of forecasting, 21(2), 303-314](https://www.academia.edu/1527250/The_accuracy_of_intermittent_demand_estimates).\n",
    "\n",
    "- [Syntetos, A. A., & Boylan, J. E. (2021). \"Intermittent demand forecasting: Context, methods and applications\". John Wiley & Sons](https://www.ifors.org/intermittent-demand-forecasting-context-methods-and-applications/).\n",
    "\n",
    "- [Teunter, R. H., Syntetos, A. A., & Babai, M. Z. (2011). \"Intermittent demand: Linking forecasting to inventory obsolescence\". European Journal of Operational Research, 214(3), 606-615](https://www.sciencedirect.com/science/article/abs/pii/S0377221711004437).\n"
   ]
  }
 ],
 "metadata": {
  "kernelspec": {
   "display_name": "Python 3 (ipykernel)",
   "language": "python",
   "name": "python3"
  }
 },
 "nbformat": 4,
 "nbformat_minor": 4
}
