{
 "cells": [
  {
   "cell_type": "code",
   "execution_count": null,
   "id": "cf8d2e8f-c7fe-49be-b227-92176aa2caf1",
   "metadata": {},
   "outputs": [],
   "source": [
    "#default_exp mstl"
   ]
  },
  {
   "cell_type": "markdown",
   "id": "d85a6aca-5578-4c7b-9483-b99309beef4c",
   "metadata": {
    "tags": []
   },
   "source": [
    "# MSTL model"
   ]
  },
  {
   "cell_type": "code",
   "execution_count": null,
   "id": "08eab8a1-0c8b-45ee-b28c-071f9bedc6cc",
   "metadata": {},
   "outputs": [],
   "source": [
    "#export\n",
    "from typing import List, Optional, Union\n",
    "\n",
    "import numpy as np\n",
    "import pandas as pd\n",
    "import statsmodels.api as sm\n",
    "\n",
    "from statsforecast.utils import AirPassengers as ap"
   ]
  },
  {
   "cell_type": "code",
   "execution_count": null,
   "id": "7edaed25-49a5-4d07-869a-f56b254dd2f4",
   "metadata": {},
   "outputs": [],
   "source": [
    "#exporti\n",
    "def mstl(x: np.ndarray, period: Union[int, List[int]], blambda: Optional[float] = None, \n",
    "         iterate: int = 1, s_window: np.ndarray = 7 + 4 * np.arange(1, 7)):\n",
    "    origx = x\n",
    "    n = len(x)\n",
    "    msts = [period] if isinstance(period, int) else period\n",
    "    iterate = 1\n",
    "    if x.ndim == 2:\n",
    "        x = x[:, 0]\n",
    "    if np.isnan(x).any():\n",
    "        ...  # na.interp\n",
    "    if blambda is not None:\n",
    "        ...  # boxcox\n",
    "    tt = np.arange(n)\n",
    "    if msts[0] > 1:\n",
    "        seas = np.zeros((len(msts), n))\n",
    "        deseas = np.copy(x)\n",
    "        if len(s_window) == 1:\n",
    "            s_window = np.repeat(s_window, len(msts))\n",
    "        for j in range(iterate):\n",
    "            for i, seas_ in enumerate(msts, start=0):\n",
    "                deseas = deseas + seas[i]\n",
    "                fit = sm.tsa.STL(deseas, period=seas_, seasonal=s_window[i]).fit()\n",
    "                seas[i] = fit.seasonal\n",
    "                deseas = deseas - seas[i]\n",
    "        trend = fit.trend\n",
    "    else:\n",
    "        try:\n",
    "            from supersmoother import SuperSmoother\n",
    "        except ImportError as e:\n",
    "            print('supersmoother is required for mstl with period=1')\n",
    "            raise e\n",
    "        msts = None\n",
    "        deseas = x\n",
    "        t = 1 + np.arange(n)\n",
    "        trend = SuperSmoother().fit(t, x).predict(t)\n",
    "    deseas[np.isnan(origx)] = np.nan\n",
    "    remainder = deseas - trend\n",
    "    output = {'data': origx, 'trend': trend}\n",
    "    if msts is not None:\n",
    "        if len(msts) == 1:\n",
    "            output['seasonal'] = seas[0]\n",
    "        else:\n",
    "            for i, seas_ in enumerate(msts, start=0):\n",
    "                output[f'seasonal{seas_}'] = seas[i]\n",
    "    output['remainder'] = remainder\n",
    "    return pd.DataFrame(output)"
   ]
  },
  {
   "cell_type": "code",
   "execution_count": null,
   "id": "8b140e69-0633-4755-8d05-b46de25ecd9d",
   "metadata": {},
   "outputs": [],
   "source": [
    "#hide\n",
    "x = np.arange(1, 11)\n",
    "mstl(x, 12)"
   ]
  },
  {
   "cell_type": "code",
   "execution_count": null,
   "id": "bfff06de-de18-4c48-9d93-464ba46326fe",
   "metadata": {},
   "outputs": [],
   "source": [
    "#hide\n",
    "x = np.array(ap)\n",
    "mstl(x, 12).plot()"
   ]
  },
  {
   "cell_type": "code",
   "execution_count": null,
   "id": "571bffd9-7f8e-4d5f-83a2-ec012d5ca14a",
   "metadata": {},
   "outputs": [],
   "source": [
    "#hide\n",
    "url = \"https://raw.githubusercontent.com/tidyverts/tsibbledata/master/data-raw/vic_elec/VIC2015/demand.csv\"\n",
    "df = pd.read_csv(url)\n",
    "df[\"Date\"] = df[\"Date\"].apply(\n",
    "    lambda x: pd.Timestamp(\"1899-12-30\") + pd.Timedelta(x, unit=\"days\")\n",
    ")\n",
    "df[\"ds\"] = df[\"Date\"] + pd.to_timedelta((df[\"Period\"] - 1) * 30, unit=\"m\")\n",
    "timeseries = df[[\"ds\", \"OperationalLessIndustrial\"]]\n",
    "timeseries.columns = [\n",
    "    \"ds\",\n",
    "    \"y\",\n",
    "]  # Rename to OperationalLessIndustrial to y for simplicity.\n",
    "\n",
    "# Filter for first 149 days of 2012.\n",
    "start_date = pd.to_datetime(\"2012-01-01\")\n",
    "end_date = start_date + pd.Timedelta(\"149D\")\n",
    "mask = (timeseries[\"ds\"] >= start_date) & (timeseries[\"ds\"] < end_date)\n",
    "timeseries = timeseries[mask]\n",
    "\n",
    "# Resample to hourly\n",
    "timeseries = timeseries.set_index(\"ds\").resample(\"H\").sum()\n",
    "timeseries.head()"
   ]
  },
  {
   "cell_type": "code",
   "execution_count": null,
   "id": "eb6507f6-211c-4003-94f2-a5513f0b24a1",
   "metadata": {},
   "outputs": [],
   "source": [
    "#hide\n",
    "mstl(timeseries['y'].values, [24, 24 * 7]).tail(24 * 7 * 4).plot()"
   ]
  }
 ],
 "metadata": {
  "kernelspec": {
   "display_name": "Python 3 (ipykernel)",
   "language": "python",
   "name": "python3"
  },
  "language_info": {
   "codemirror_mode": {
    "name": "ipython",
    "version": 3
   },
   "file_extension": ".py",
   "mimetype": "text/x-python",
   "name": "python",
   "nbconvert_exporter": "python",
   "pygments_lexer": "ipython3",
   "version": "3.7.12"
  }
 },
 "nbformat": 4,
 "nbformat_minor": 5
}
