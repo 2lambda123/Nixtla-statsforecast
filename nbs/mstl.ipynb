{
 "cells": [
  {
   "cell_type": "code",
   "execution_count": null,
   "id": "cf8d2e8f-c7fe-49be-b227-92176aa2caf1",
   "metadata": {},
   "outputs": [],
   "source": [
    "#default_exp mstl"
   ]
  },
  {
   "cell_type": "markdown",
   "id": "d85a6aca-5578-4c7b-9483-b99309beef4c",
   "metadata": {
    "tags": []
   },
   "source": [
    "# MSTL model"
   ]
  },
  {
   "cell_type": "code",
   "execution_count": null,
   "id": "08eab8a1-0c8b-45ee-b28c-071f9bedc6cc",
   "metadata": {},
   "outputs": [],
   "source": [
    "#export\n",
    "import numpy as np\n",
    "import pandas as pd\n",
    "import statsmodels.api as sm"
   ]
  },
  {
   "cell_type": "code",
   "execution_count": null,
   "id": "7edaed25-49a5-4d07-869a-f56b254dd2f4",
   "metadata": {},
   "outputs": [],
   "source": [
    "#exporti\n",
    "def mstl(x, period, blambda=None, s_window=7 + 4 * np.arange(1, 7)):\n",
    "    origx = x\n",
    "    n = len(x)\n",
    "    msts = period\n",
    "    iterate = 1\n",
    "    if x.ndim == 2:\n",
    "        x = x[:, 0]\n",
    "    if np.isnan(x).any():\n",
    "        ...  # na.interp\n",
    "    if blambda is not None:\n",
    "        ...  # boxcox\n",
    "    tt = np.arange(n)\n",
    "    if msts > 1:\n",
    "        fit = sm.tsa.STL(x, period=msts, seasonal=s_window[0]).fit()\n",
    "        seas = fit.seasonal\n",
    "        deseas = x - seas\n",
    "        trend = fit.trend\n",
    "    else:\n",
    "        try:\n",
    "            from supersmoother import SuperSmoother\n",
    "        except ImportError as e:\n",
    "            print('supersmoother is required for mstl with period=1')\n",
    "            raise e\n",
    "        msts = None\n",
    "        deseas = x\n",
    "        t = 1 + np.arange(n)\n",
    "        trend = SuperSmoother().fit(t, x).predict(t)\n",
    "    deseas[np.isnan(origx)] = np.nan\n",
    "    remainder = deseas - trend\n",
    "    output = {'data': origx, 'trend': trend}\n",
    "    if msts is not None:\n",
    "        output['seasonal'] = seas\n",
    "    output['remainder'] = remainder\n",
    "    return pd.DataFrame(output)"
   ]
  },
  {
   "cell_type": "code",
   "execution_count": null,
   "id": "61a573e0-0d34-452f-9745-46bab23f36e3",
   "metadata": {},
   "outputs": [],
   "source": [
    "#hide\n",
    "x = np.arange(1, 11)\n",
    "mstl(x, 12)"
   ]
  },
  {
   "cell_type": "code",
   "execution_count": null,
   "id": "571bffd9-7f8e-4d5f-83a2-ec012d5ca14a",
   "metadata": {},
   "outputs": [],
   "source": []
  }
 ],
 "metadata": {
  "kernelspec": {
   "display_name": "Python 3 (ipykernel)",
   "language": "python",
   "name": "python3"
  },
  "language_info": {
   "codemirror_mode": {
    "name": "ipython",
    "version": 3
   },
   "file_extension": ".py",
   "mimetype": "text/x-python",
   "name": "python",
   "nbconvert_exporter": "python",
   "pygments_lexer": "ipython3",
   "version": "3.7.12"
  }
 },
 "nbformat": 4,
 "nbformat_minor": 5
}
