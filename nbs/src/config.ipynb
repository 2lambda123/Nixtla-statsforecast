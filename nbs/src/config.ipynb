{
 "cells": [
  {
   "cell_type": "code",
   "execution_count": null,
   "id": "586e49cb-a78b-4298-9b1c-93b2927dd1ec",
   "metadata": {},
   "outputs": [],
   "source": [
    "#| default_exp config"
   ]
  },
  {
   "cell_type": "code",
   "execution_count": null,
   "id": "efd1f284-a42e-4600-95c4-38ef60fc35e9",
   "metadata": {},
   "outputs": [],
   "source": [
    "#| export\n",
    "id_as_index = True"
   ]
  }
 ],
 "metadata": {
  "kernelspec": {
   "display_name": "python3",
   "language": "python",
   "name": "python3"
  }
 },
 "nbformat": 4,
 "nbformat_minor": 5
}
