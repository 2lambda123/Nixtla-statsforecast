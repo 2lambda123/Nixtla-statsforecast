{
 "cells": [
  {
   "cell_type": "code",
   "execution_count": null,
   "id": "5931b0aa-7593-42ff-b625-0ecf4184d9b2",
   "metadata": {},
   "outputs": [],
   "source": [
    "#| default_exp _lib"
   ]
  },
  {
   "cell_type": "code",
   "execution_count": null,
   "id": "9be5ac44-25be-4a99-b20c-eba5e2a15735",
   "metadata": {},
   "outputs": [],
   "source": [
    "#| export\n",
    "import ctypes\n",
    "import platform\n",
    "import sys\n",
    "from enum import Enum\n",
    "\n",
    "import numpy as np\n",
    "\n",
    "if sys.version_info < (3, 10):\n",
    "    from importlib_resources import files\n",
    "else:\n",
    "    from importlib.resources import files"
   ]
  },
  {
   "cell_type": "code",
   "execution_count": null,
   "id": "deba03c4-f391-45b0-81ec-7f9054ca149a",
   "metadata": {},
   "outputs": [],
   "source": [
    "#| export\n",
    "if platform.system() in (\"Windows\", \"Microsoft\"):\n",
    "    _prefix = \"Release\"\n",
    "    _extension = \"dll\"\n",
    "else:\n",
    "    _prefix = \"\"\n",
    "    _extension = \"so\"\n",
    "\n",
    "_LIB = ctypes.CDLL(\n",
    "    str(files(\"statsforecast\").joinpath(\"lib\", _prefix, f\"libstatsforecast.{_extension}\"))\n",
    ")"
   ]
  },
  {
   "cell_type": "code",
   "execution_count": null,
   "id": "57de09a1-3c1b-47fa-869a-bb88664f937f",
   "metadata": {},
   "outputs": [],
   "source": [
    "#| export\n",
    "class Criterion(int, Enum):\n",
    "    LIKELIHOOD = 0\n",
    "    MSE = 1\n",
    "    AMSE = 2\n",
    "    SIGMA = 3\n",
    "    MAE = 4"
   ]
  },
  {
   "cell_type": "code",
   "execution_count": null,
   "id": "74022074-534a-4910-84c3-ce279ab39733",
   "metadata": {},
   "outputs": [],
   "source": [
    "#| export\n",
    "class OptimResult(ctypes.Structure):\n",
    "    _fields_ = [\n",
    "        (\"fun\", ctypes.c_double),\n",
    "        (\"nit\", ctypes.c_int),\n",
    "    ]"
   ]
  },
  {
   "cell_type": "code",
   "execution_count": null,
   "id": "a3bdd1ed-d9bd-408b-9fbd-ce019da65d2e",
   "metadata": {},
   "outputs": [],
   "source": [
    "#| exporti\n",
    "def _arr_as_double_ptr(arr: np.ndarray):\n",
    "    if arr.dtype != np.float64:\n",
    "        raise ValueError('Array does not have double type.')\n",
    "    return arr.ctypes.data_as(ctypes.POINTER(ctypes.c_double))"
   ]
  }
 ],
 "metadata": {
  "kernelspec": {
   "display_name": "python3",
   "language": "python",
   "name": "python3"
  }
 },
 "nbformat": 4,
 "nbformat_minor": 5
}
