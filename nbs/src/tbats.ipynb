{
 "cells": [
  {
   "cell_type": "code",
   "execution_count": 1,
   "metadata": {},
   "outputs": [],
   "source": [
    "#| default_exp tbats"
   ]
  },
  {
   "attachments": {},
   "cell_type": "markdown",
   "metadata": {},
   "source": [
    "# TBATS model "
   ]
  },
  {
   "cell_type": "code",
   "execution_count": 4,
   "metadata": {},
   "outputs": [],
   "source": [
    "#| export\n",
    "import os\n",
    "import numpy as np \n",
    "from numba import njit \n",
    "from scipy.optimize import minimize_scalar"
   ]
  },
  {
   "cell_type": "code",
   "execution_count": 5,
   "metadata": {},
   "outputs": [],
   "source": [
    "#| export \n",
    "# Global variables \n",
    "NOGIL = os.environ.get('NUMBA_RELEASE_GIL', 'False').lower() in ['true']\n",
    "CACHE = os.environ.get('NUMBA_CACHE', 'False').lower() in ['true']"
   ]
  },
  {
   "attachments": {},
   "cell_type": "markdown",
   "metadata": {},
   "source": [
    "## Load data "
   ]
  },
  {
   "cell_type": "code",
   "execution_count": 7,
   "metadata": {},
   "outputs": [],
   "source": [
    "#| hide \n",
    "# AirPassengers \n",
    "from statsforecast.utils import AirPassengers as ap "
   ]
  },
  {
   "attachments": {},
   "cell_type": "markdown",
   "metadata": {},
   "source": [
    "## Box-Cox Transformation"
   ]
  },
  {
   "cell_type": "code",
   "execution_count": 74,
   "metadata": {},
   "outputs": [],
   "source": [
    "#| exporti\n",
    "@njit(nogil=NOGIL, cache=CACHE)\n",
    "def guer_cv(lam, x, season_length): \n",
    "    \n",
    "   \"\"\"Minimize this funtion to find the optimal parameter for the Box-Cox transformation.\"\"\"\n",
    "   period = np.round(np.max(season_length)) \n",
    "   n = len(x) \n",
    "   nyears = int(np.floor(n/period))\n",
    "   nobs = np.floor(nyears*period)\n",
    "   m = int(n-nobs)\n",
    "   xmat = x[m:n].reshape((nyears, period))\n",
    "\n",
    "   xmean = np.full(xmat.shape[0], fill_value = np.nan)\n",
    "   for k in range(xmat.shape[0]): \n",
    "      xmean[k] = np.nanmean(xmat[k])\n",
    "\n",
    "   xsd = np.full(xmat.shape[0], fill_value = np.nan)\n",
    "   for k in range(xmat.shape[0]): \n",
    "      vals = xmat[k]\n",
    "      svar = (vals-np.nanmean(vals))**2 \n",
    "      svar = np.sum(svar)/len(svar) \n",
    "      xsd[k] = np.sqrt(svar) \n",
    "\n",
    "   xrat = xsd/(xmean**(1-lam))\n",
    "\n",
    "   sd = (xrat-np.nanmean(xrat))**2 \n",
    "   sd = np.nansum(sd)/(len(sd)-1)\n",
    "   sd = np.sqrt(sd)\n",
    "   \n",
    "   return sd/np.nanmean(xrat)"
   ]
  },
  {
   "cell_type": "code",
   "execution_count": 75,
   "metadata": {},
   "outputs": [],
   "source": [
    "#| exporti\n",
    "def guerrero(x, season_length, lower=0, upper=1): \n",
    "    \n",
    "    \"\"\"Finds optimal paramater for Box-Cox transformation using Guerrero's method\"\"\"\n",
    "    \n",
    "    if np.any(x < 0): \n",
    "        raise ValueError(\"Guerrero's method for selecting a Box-Cox parameter (w) is for strictly positive data\")\n",
    "    \n",
    "    max_freq = np.max(season_length)\n",
    "    if len(x) <= 2*max_freq: \n",
    "        res = 1\n",
    "    else: \n",
    "        w = 0 # initial guess \n",
    "        opt = minimize_scalar(guer_cv, w, args = (x, season_length), method = 'bounded', bounds = (lower, upper))\n",
    "        res = opt.x\n",
    "\n",
    "    return res"
   ]
  },
  {
   "cell_type": "code",
   "execution_count": 77,
   "metadata": {},
   "outputs": [],
   "source": [
    "#| exporti\n",
    "@njit(nogil=NOGIL, cache=CACHE)\n",
    "def BoxCox(y, BoxCox_lambda): \n",
    "    \n",
    "    \"\"\"Applies Box-Cox transformation with parameter BoxCox_lambda\"\"\"\n",
    "\n",
    "    if BoxCox_lambda == 0: \n",
    "        z = np.log(y)\n",
    "    else: \n",
    "        z = np.sign(y)*((np.abs(y)**BoxCox_lambda)-1)\n",
    "        z = z/BoxCox_lambda\n",
    "        \n",
    "    return z"
   ]
  },
  {
   "cell_type": "code",
   "execution_count": 78,
   "metadata": {},
   "outputs": [],
   "source": [
    "#| exporti\n",
    "@njit(nogil=NOGIL, cache=CACHE)\n",
    "def InverseBoxCox(z, BoxCox_lambda): \n",
    "    \n",
    "    \"\"\"Inverts Box-Cox transformation with parameter BoxCox_lambda\"\"\"\n",
    "\n",
    "    if BoxCox_lambda == 0: \n",
    "        y = np.exp(z) \n",
    "    else: \n",
    "        sign = np.sign(BoxCox_lambda*z+1)\n",
    "        y = np.abs(BoxCox_lambda*z+1)**(1/BoxCox_lambda)\n",
    "        y = sign*y \n",
    "        \n",
    "    return y "
   ]
  },
  {
   "attachments": {},
   "cell_type": "markdown",
   "metadata": {},
   "source": [
    "## Functions "
   ]
  },
  {
   "attachments": {},
   "cell_type": "markdown",
   "metadata": {},
   "source": [
    "## TBATS model "
   ]
  },
  {
   "cell_type": "code",
   "execution_count": null,
   "metadata": {},
   "outputs": [],
   "source": []
  },
  {
   "cell_type": "code",
   "execution_count": null,
   "metadata": {},
   "outputs": [],
   "source": []
  }
 ],
 "metadata": {
  "kernelspec": {
   "display_name": "nixtla-stats",
   "language": "python",
   "name": "python3"
  },
  "language_info": {
   "codemirror_mode": {
    "name": "ipython",
    "version": 3
   },
   "file_extension": ".py",
   "mimetype": "text/x-python",
   "name": "python",
   "nbconvert_exporter": "python",
   "pygments_lexer": "ipython3",
   "version": "3.10.12"
  },
  "orig_nbformat": 4
 },
 "nbformat": 4,
 "nbformat_minor": 2
}
