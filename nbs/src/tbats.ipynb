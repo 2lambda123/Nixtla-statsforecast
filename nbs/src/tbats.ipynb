{
 "cells": [
  {
   "cell_type": "code",
   "execution_count": 1,
   "metadata": {},
   "outputs": [],
   "source": [
    "#| default_exp tbats"
   ]
  },
  {
   "attachments": {},
   "cell_type": "markdown",
   "metadata": {},
   "source": [
    "# TBATS model "
   ]
  },
  {
   "cell_type": "code",
   "execution_count": 16,
   "metadata": {},
   "outputs": [],
   "source": [
    "#| export\n",
    "import os\n",
    "import numpy as np \n",
    "from numba import njit \n",
    "from scipy.optimize import minimize_scalar\n",
    "import statsmodels.api as sm \n",
    "from statsmodels.tsa.stattools import adfuller"
   ]
  },
  {
   "cell_type": "code",
   "execution_count": 4,
   "metadata": {},
   "outputs": [],
   "source": [
    "#| export \n",
    "# Global variables \n",
    "NOGIL = os.environ.get('NUMBA_RELEASE_GIL', 'False').lower() in ['true']\n",
    "CACHE = os.environ.get('NUMBA_CACHE', 'False').lower() in ['true']"
   ]
  },
  {
   "attachments": {},
   "cell_type": "markdown",
   "metadata": {},
   "source": [
    "## Load data "
   ]
  },
  {
   "cell_type": "code",
   "execution_count": 393,
   "metadata": {},
   "outputs": [],
   "source": [
    "#| hide \n",
    "# AirPassengers \n",
    "from statsforecast.utils import AirPassengers as ap \n",
    "\n",
    "# USAccDeaths\n",
    "deaths = np.array([9007,  8106,  8928,  9137, 10017, 10826, 11317, 10744,  9713,  9938,  9161,  8927,\n",
    "7750,  6981,  8038,  8422,  8714,  9512, 10120,  9823,  8743,  9129,  8710,  8680,\n",
    "8162,  7306,  8124,  7870,  9387,  9556, 10093,  9620,  8285,  8466,  8160,  8034,\n",
    "7717,  7461,  7767,  7925,  8623,  8945, 10078,  9179,  8037,  8488,  7874,  8647,\n",
    "7792,  6957,  7726,  8106,  8890,  9299, 10625,  9302,  8314,  8850,  8265,  8796,\n",
    "7836,  6892,  7791,  8192,  9115,  9434, 10484,  9827,  9110,  9070,  8633,  9240])\n",
    "\n",
    "# Electricity consumption\n",
    "import pandas as pd \n",
    "elec_df = pd.read_csv('/Users/marianamenchero/Documents/tbats/data/PJMW_hourly.csv')\n",
    "elec = elec_df['PJMW_MW']\n",
    "elec = elec[0:(24*7*2+1)]\n",
    "elec = np.array(elec)\n",
    "\n",
    "# Calls \n",
    "calls_df = pd.read_csv('/Users/marianamenchero/Documents/tbats/data/calls_data.csv')\n",
    "calls = calls_df['calls']\n",
    "calls = calls[-2001:]\n",
    "calls = np.array(calls) "
   ]
  },
  {
   "attachments": {},
   "cell_type": "markdown",
   "metadata": {},
   "source": [
    "## Box-Cox Transformation"
   ]
  },
  {
   "cell_type": "code",
   "execution_count": 7,
   "metadata": {},
   "outputs": [],
   "source": [
    "#| exporti\n",
    "@njit(nogil=NOGIL, cache=CACHE)\n",
    "def guer_cv(lam, x, season_length): \n",
    "    \n",
    "   \"\"\"Minimize this funtion to find the optimal parameter for the Box-Cox transformation.\"\"\"\n",
    "   period = np.round(np.max(season_length)) \n",
    "   n = len(x) \n",
    "   nyears = int(np.floor(n/period))\n",
    "   nobs = np.floor(nyears*period)\n",
    "   m = int(n-nobs)\n",
    "   xmat = x[m:n].reshape((nyears, period))\n",
    "\n",
    "   xmean = np.full(xmat.shape[0], fill_value = np.nan)\n",
    "   for k in range(xmat.shape[0]): \n",
    "      xmean[k] = np.nanmean(xmat[k])\n",
    "\n",
    "   xsd = np.full(xmat.shape[0], fill_value = np.nan)\n",
    "   for k in range(xmat.shape[0]): \n",
    "      vals = xmat[k]\n",
    "      svar = (vals-np.nanmean(vals))**2 \n",
    "      svar = np.sum(svar)/len(svar) \n",
    "      xsd[k] = np.sqrt(svar) \n",
    "\n",
    "   xrat = xsd/(xmean**(1-lam))\n",
    "\n",
    "   sd = (xrat-np.nanmean(xrat))**2 \n",
    "   sd = np.nansum(sd)/(len(sd)-1)\n",
    "   sd = np.sqrt(sd)\n",
    "   \n",
    "   return sd/np.nanmean(xrat)"
   ]
  },
  {
   "cell_type": "code",
   "execution_count": 8,
   "metadata": {},
   "outputs": [],
   "source": [
    "#| exporti\n",
    "def guerrero(x, season_length, lower=0, upper=1): \n",
    "    \n",
    "    \"\"\"Finds optimal paramater for Box-Cox transformation using Guerrero's method\"\"\"\n",
    "    \n",
    "    if np.any(x < 0): \n",
    "        raise ValueError(\"Guerrero's method for selecting a Box-Cox parameter (w) is for strictly positive data\")\n",
    "    \n",
    "    max_freq = np.max(season_length)\n",
    "    if len(x) <= 2*max_freq: \n",
    "        res = 1\n",
    "    else: \n",
    "        w = 0 # initial guess \n",
    "        opt = minimize_scalar(guer_cv, w, args = (x, season_length), method = 'bounded', bounds = (lower, upper))\n",
    "        res = opt.x\n",
    "\n",
    "    return res"
   ]
  },
  {
   "cell_type": "code",
   "execution_count": 9,
   "metadata": {},
   "outputs": [],
   "source": [
    "#| exporti\n",
    "@njit(nogil=NOGIL, cache=CACHE)\n",
    "def BoxCox(y, BoxCox_lambda): \n",
    "    \n",
    "    \"\"\"Applies Box-Cox transformation with parameter BoxCox_lambda\"\"\"\n",
    "\n",
    "    if BoxCox_lambda == 0: \n",
    "        z = np.log(y)\n",
    "    else: \n",
    "        z = np.sign(y)*((np.abs(y)**BoxCox_lambda)-1)\n",
    "        z = z/BoxCox_lambda\n",
    "        \n",
    "    return z"
   ]
  },
  {
   "cell_type": "code",
   "execution_count": 10,
   "metadata": {},
   "outputs": [],
   "source": [
    "#| exporti\n",
    "@njit(nogil=NOGIL, cache=CACHE)\n",
    "def InverseBoxCox(z, BoxCox_lambda): \n",
    "    \n",
    "    \"\"\"Inverts Box-Cox transformation with parameter BoxCox_lambda\"\"\"\n",
    "\n",
    "    if BoxCox_lambda == 0: \n",
    "        y = np.exp(z) \n",
    "    else: \n",
    "        sign = np.sign(BoxCox_lambda*z+1)\n",
    "        y = np.abs(BoxCox_lambda*z+1)**(1/BoxCox_lambda)\n",
    "        y = sign*y \n",
    "        \n",
    "    return y "
   ]
  },
  {
   "attachments": {},
   "cell_type": "markdown",
   "metadata": {},
   "source": [
    "## Functions "
   ]
  },
  {
   "attachments": {},
   "cell_type": "markdown",
   "metadata": {},
   "source": [
    "### find_harmonics"
   ]
  },
  {
   "cell_type": "code",
   "execution_count": 384,
   "metadata": {},
   "outputs": [],
   "source": [
    "#| exporti\n",
    "def find_harmonics(y, seasonal_periods, k):\n",
    "\n",
    "    # Compute a 2 x m moving average to estimate the trend \n",
    "    m = seasonal_periods[k]\n",
    "    window_size = 2 * m\n",
    "    data = pd.DataFrame({'value': y})\n",
    "    f_t = data['value'].rolling(window = window_size, center = True).mean()\n",
    "    \n",
    "    # Obtain an approximation of seasonal component using z_t = y_t - f_t \n",
    "    data['f_t'] = f_t\n",
    "    data['z_t'] = data['value']-data['f_t']\n",
    "\n",
    "    # Drop missing values (due to the moving average)\n",
    "    data.dropna(inplace = True) \n",
    "\n",
    "    if data.empty:\n",
    "        return 1\n",
    "\n",
    "    # Approximate the seasonal component using trigonometric terms\n",
    "    t = np.arange(len(data))\n",
    "    if m % 2 == 0: \n",
    "        max_harmonics = int(m/2)\n",
    "    else: \n",
    "        max_harmonics = int((m-1)/2)\n",
    "\n",
    "    max_harmonics = min(max_harmonics, len(data))\n",
    "    \n",
    "    aic = np.inf\n",
    "    num_harmonics = 0\n",
    "    for h in range(1,max_harmonics+1): \n",
    "        columns = []\n",
    "        for i in range(1, h+1):\n",
    "            data[f'cos_{i}'] = np.cos(2*np.pi*i*t/m)\n",
    "            data[f'sin_{i}'] = np.sin(2*np.pi*i*t/m)\n",
    "            columns.extend([f'cos_{i}', f'sin_{i}'])\n",
    "        \n",
    "        # Perform regression to estimate the coefficients\n",
    "        X = data[columns]\n",
    "        y = data['z_t']\n",
    "        model = sm.OLS(y, X).fit()\n",
    "        new_aic = model.aic \n",
    "\n",
    "        if new_aic < aic: \n",
    "            aic = new_aic\n",
    "            num_harmonics = h  \n",
    "        else: \n",
    "            break\n",
    "    \n",
    "    return num_harmonics"
   ]
  },
  {
   "attachments": {},
   "cell_type": "markdown",
   "metadata": {},
   "source": [
    "## TBATS model "
   ]
  },
  {
   "cell_type": "code",
   "execution_count": 464,
   "metadata": {},
   "outputs": [],
   "source": [
    "y = elec\n",
    "seasonal_periods = np.array([24, 24*7])\n",
    "use_boxcox = True\n",
    "bc_lower_bound = 0\n",
    "bc_upper_bound = 1\n",
    "use_trend = True\n",
    "use_damped_trend = True\n",
    "use_arma_errors = True\n",
    "k_vector = np.array([1, 1])"
   ]
  },
  {
   "cell_type": "code",
   "execution_count": null,
   "metadata": {},
   "outputs": [],
   "source": [
    "def model_generator(y, seasonal_periods, use_boxcox, bc_lower_bound, bc_upper_bound, use_trend, use_damped_trend, use_arma_errors, k_vector): \n",
    "    return 42"
   ]
  },
  {
   "cell_type": "code",
   "execution_count": null,
   "metadata": {},
   "outputs": [],
   "source": [
    "def tbats_model(y, seasonal_periods, use_boxcox, bc_lower_bound, bc_upper_bound, use_trend, use_damped_trend, use_arma_errors): \n",
    "    return 42 "
   ]
  },
  {
   "cell_type": "code",
   "execution_count": 465,
   "metadata": {},
   "outputs": [
    {
     "name": "stdout",
     "output_type": "stream",
     "text": [
      "The time series is not trend-stationary\n",
      "k_vector :[3 1]\n"
     ]
    }
   ],
   "source": [
    "# tbats_model \n",
    "\n",
    "# 1. Sort seasonal periods \n",
    "seasonal_periods = np.sort(seasonal_periods)\n",
    "\n",
    "# 2. Check if there are missing values \n",
    "indices = np.where(np.isnan(y))[0]\n",
    "if len(indices) > 0: \n",
    "    max_index = indices[-1]\n",
    "    y = y[max_index+1:len(y)]\n",
    "\n",
    "# 3. Check if there are negative values\n",
    "if np.any(y < 0): \n",
    "        use_boxcox = False \n",
    "\n",
    "# 4. Check if there is a trend\n",
    "adf = adfuller(y, regression = 'ct')\n",
    "if adf[1] <= 0.05: \n",
    "    print('The time series is trend-stationary')\n",
    "    use_trend = False\n",
    "    use_damped_trend = False\n",
    "else: \n",
    "    print('The time series is not trend-stationary')\n",
    "\n",
    "# 5. Choose the number of harmonics \n",
    "k_vector = np.zeros(len(seasonal_periods)).astype(int)\n",
    "\n",
    "for k in range(len(seasonal_periods)): \n",
    "    k_vector[k] = find_harmonics(y, seasonal_periods, k)\n",
    "\n",
    "print('k_vector :'+str(k_vector))\n",
    "\n",
    "# 6. Initial Box-Cox transformation (if required)\n",
    "if use_boxcox: \n",
    "      BoxCox_lambda = 0 # This is the initial value used in the thesis \n",
    "      y_trans = BoxCox(y, BoxCox_lambda)\n",
    "else: \n",
    "      y_trans = y "
   ]
  },
  {
   "cell_type": "code",
   "execution_count": 466,
   "metadata": {},
   "outputs": [
    {
     "data": {
      "image/png": "[encoded data removed]",
      "text/plain": [
       "<Figure size 640x480 with 1 Axes>"
      ]
     },
     "metadata": {},
     "output_type": "display_data"
    }
   ],
   "source": [
    "import matplotlib.pyplot as plt\n",
    "\n",
    "plt.plot(y_trans)\n",
    "plt.show()"
   ]
  },
  {
   "cell_type": "code",
   "execution_count": null,
   "metadata": {},
   "outputs": [],
   "source": []
  },
  {
   "cell_type": "code",
   "execution_count": null,
   "metadata": {},
   "outputs": [],
   "source": []
  },
  {
   "cell_type": "code",
   "execution_count": null,
   "metadata": {},
   "outputs": [],
   "source": [
    "# 7. Select initial values for the parameters"
   ]
  },
  {
   "cell_type": "code",
   "execution_count": 29,
   "metadata": {},
   "outputs": [],
   "source": [
    "# 8. Create first model - No ARMA errors \n",
    "ar_coeffs = None\n",
    "ma_coeffs = None"
   ]
  },
  {
   "cell_type": "code",
   "execution_count": null,
   "metadata": {},
   "outputs": [],
   "source": [
    "# 9. Create second model - ARMA errors \n",
    "\n",
    "# 10. Select model with the lowest AIC"
   ]
  }
 ],
 "metadata": {
  "kernelspec": {
   "display_name": "nixtla-stats",
   "language": "python",
   "name": "python3"
  },
  "language_info": {
   "codemirror_mode": {
    "name": "ipython",
    "version": 3
   },
   "file_extension": ".py",
   "mimetype": "text/x-python",
   "name": "python",
   "nbconvert_exporter": "python",
   "pygments_lexer": "ipython3",
   "version": "3.10.12"
  },
  "orig_nbformat": 4
 },
 "nbformat": 4,
 "nbformat_minor": 2
}
