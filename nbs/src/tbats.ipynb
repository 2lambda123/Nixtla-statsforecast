{
 "cells": [
  {
   "cell_type": "code",
   "execution_count": 1,
   "metadata": {
    "execution": {
     "iopub.execute_input": "2023-12-22T20:10:12.801344Z",
     "iopub.status.busy": "2023-12-22T20:10:12.801018Z",
     "iopub.status.idle": "2023-12-22T20:10:12.807572Z",
     "shell.execute_reply": "2023-12-22T20:10:12.806214Z",
     "shell.execute_reply.started": "2023-12-22T20:10:12.801322Z"
    }
   },
   "outputs": [],
   "source": [
    "#| default_exp tbats"
   ]
  },
  {
   "attachments": {},
   "cell_type": "markdown",
   "metadata": {},
   "source": [
    "# TBATS model "
   ]
  },
  {
   "cell_type": "code",
   "execution_count": 2,
   "metadata": {
    "execution": {
     "iopub.execute_input": "2023-12-22T20:10:12.809896Z",
     "iopub.status.busy": "2023-12-22T20:10:12.809553Z",
     "iopub.status.idle": "2023-12-22T20:10:14.480726Z",
     "shell.execute_reply": "2023-12-22T20:10:14.480015Z",
     "shell.execute_reply.started": "2023-12-22T20:10:12.809852Z"
    }
   },
   "outputs": [
    {
     "name": "stderr",
     "output_type": "stream",
     "text": [
      "/hdd/github/statsforecast/statsforecast/core.py:26: TqdmExperimentalWarning: Using `tqdm.autonotebook.tqdm` in notebook mode. Use `tqdm.tqdm` instead to force console mode (e.g. in jupyter console)\n",
      "  from tqdm.autonotebook import tqdm\n"
     ]
    }
   ],
   "source": [
    "#| export\n",
    "import os\n",
    "import warnings\n",
    "from functools import partial\n",
    "\n",
    "import numpy as np\n",
    "import scipy.linalg\n",
    "import statsmodels.api as sm\n",
    "from numba import njit\n",
    "from numpy.polynomial.polynomial import Polynomial\n",
    "from scipy.special import inv_boxcox\n",
    "from scipy.stats import boxcox\n",
    "from scipy.optimize import minimize_scalar, minimize\n",
    "from statsmodels.tsa.stattools import adfuller\n",
    "\n",
    "from statsforecast.arima import auto_arima_f, arima_string"
   ]
  },
  {
   "cell_type": "code",
   "execution_count": 3,
   "metadata": {
    "execution": {
     "iopub.execute_input": "2023-12-22T20:10:14.481892Z",
     "iopub.status.busy": "2023-12-22T20:10:14.481550Z",
     "iopub.status.idle": "2023-12-22T20:10:14.778128Z",
     "shell.execute_reply": "2023-12-22T20:10:14.777137Z",
     "shell.execute_reply.started": "2023-12-22T20:10:14.481870Z"
    }
   },
   "outputs": [],
   "source": [
    "import matplotlib.pyplot as plt\n",
    "import pandas as pd\n",
    "\n",
    "from statsforecast.utils import AirPassengers as ap"
   ]
  },
  {
   "cell_type": "code",
   "execution_count": 4,
   "metadata": {
    "execution": {
     "iopub.execute_input": "2023-12-22T20:10:14.779803Z",
     "iopub.status.busy": "2023-12-22T20:10:14.779445Z",
     "iopub.status.idle": "2023-12-22T20:10:14.783576Z",
     "shell.execute_reply": "2023-12-22T20:10:14.782854Z",
     "shell.execute_reply.started": "2023-12-22T20:10:14.779780Z"
    }
   },
   "outputs": [],
   "source": [
    "#| export \n",
    "# Global variables \n",
    "NOGIL = os.environ.get('NUMBA_RELEASE_GIL', 'False').lower() in ['true']\n",
    "CACHE = os.environ.get('NUMBA_CACHE', 'False').lower() in ['true']"
   ]
  },
  {
   "attachments": {},
   "cell_type": "markdown",
   "metadata": {},
   "source": [
    "## Load data "
   ]
  },
  {
   "attachments": {},
   "cell_type": "markdown",
   "metadata": {},
   "source": [
    "## Functions "
   ]
  },
  {
   "attachments": {},
   "cell_type": "markdown",
   "metadata": {},
   "source": [
    "### find_harmonics"
   ]
  },
  {
   "cell_type": "code",
   "execution_count": 5,
   "metadata": {
    "execution": {
     "iopub.execute_input": "2023-12-22T20:10:14.784783Z",
     "iopub.status.busy": "2023-12-22T20:10:14.784456Z",
     "iopub.status.idle": "2023-12-22T20:10:14.812150Z",
     "shell.execute_reply": "2023-12-22T20:10:14.811230Z",
     "shell.execute_reply.started": "2023-12-22T20:10:14.784751Z"
    }
   },
   "outputs": [],
   "source": [
    "#| exporti\n",
    "def find_harmonics(y, m):\n",
    "\n",
    "    # Compute a 2 x m moving average to estimate the trend \n",
    "    window_size = 2 * m\n",
    "    data = pd.DataFrame({'value': y})\n",
    "    f_t = data['value'].rolling(window = window_size, center = True).mean()\n",
    "    \n",
    "    # Obtain an approximation of seasonal component using z_t = y_t - f_t \n",
    "    data['f_t'] = f_t\n",
    "    data['z_t'] = data['value']-data['f_t']\n",
    "\n",
    "    # Drop missing values (due to the moving average)\n",
    "    data.dropna(inplace = True) \n",
    "\n",
    "    if data.empty:\n",
    "        return 1\n",
    "\n",
    "    # Approximate the seasonal component using trigonometric terms\n",
    "    t = np.arange(len(data))\n",
    "    if m % 2 == 0: \n",
    "        max_harmonics = int(m/2)\n",
    "    else: \n",
    "        max_harmonics = int((m-1)/2)\n",
    "\n",
    "    max_harmonics = min(max_harmonics, len(data))\n",
    "    \n",
    "    aic = np.inf\n",
    "    num_harmonics = 0\n",
    "    for h in range(1,max_harmonics+1): \n",
    "        columns = []\n",
    "        for i in range(1, h+1):\n",
    "            data[f'cos_{i}'] = np.cos(2*np.pi*i*t/m)\n",
    "            data[f'sin_{i}'] = np.sin(2*np.pi*i*t/m)\n",
    "            columns.extend([f'cos_{i}', f'sin_{i}'])\n",
    "        \n",
    "        # Perform regression to estimate the coefficients\n",
    "        X = data[columns]\n",
    "        y = data['z_t']\n",
    "        model = sm.OLS(y, X).fit()\n",
    "        new_aic = model.aic \n",
    "\n",
    "        if new_aic < aic: \n",
    "            aic = new_aic\n",
    "            num_harmonics = h  \n",
    "        else: \n",
    "            break\n",
    "\n",
    "    if num_harmonics == 0: \n",
    "        num_harmonics += 1 \n",
    "    \n",
    "    return num_harmonics"
   ]
  },
  {
   "attachments": {},
   "cell_type": "markdown",
   "metadata": {},
   "source": [
    "### initial_parameters "
   ]
  },
  {
   "cell_type": "code",
   "execution_count": 6,
   "metadata": {
    "execution": {
     "iopub.execute_input": "2023-12-22T20:10:14.813404Z",
     "iopub.status.busy": "2023-12-22T20:10:14.813131Z",
     "iopub.status.idle": "2023-12-22T20:10:14.820866Z",
     "shell.execute_reply": "2023-12-22T20:10:14.820092Z",
     "shell.execute_reply.started": "2023-12-22T20:10:14.813384Z"
    }
   },
   "outputs": [],
   "source": [
    "#| exporti\n",
    "def initial_parameters(seasonal_periods, k_vector, use_trend, use_damped_trend, ar_coeffs, ma_coeffs): \n",
    "\n",
    "    alpha = 0.09 \n",
    "\n",
    "    if use_trend: \n",
    "        adj_beta = 1 \n",
    "        beta = 0.05\n",
    "        b = 0 \n",
    "        if use_damped_trend: \n",
    "            phi = 0.999 \n",
    "        else: \n",
    "            phi = 1.0\n",
    "    else: \n",
    "        adj_beta = 0 \n",
    "        beta = None \n",
    "        b = None \n",
    "        phi = None\n",
    "        use_damped_trend = False\n",
    "\n",
    "    gamma_one_v = np.zeros(len(k_vector))\n",
    "    gamma_two_v = np.zeros(len(k_vector))\n",
    "    s_vector = np.zeros(2*np.sum(k_vector))\n",
    "\n",
    "    if ar_coeffs is not None: \n",
    "        d_vector = np.zeros(len(ar_coeffs))\n",
    "    else: \n",
    "        d_vector = None\n",
    "    if ma_coeffs is not None:\n",
    "        epsilon_vector = np.zeros(len(ma_coeffs))  \n",
    "    else: \n",
    "        epsilon_vector = None \n",
    "    return alpha, adj_beta, beta, b, phi, gamma_one_v, gamma_two_v, s_vector, d_vector, epsilon_vector "
   ]
  },
  {
   "attachments": {},
   "cell_type": "markdown",
   "metadata": {},
   "source": [
    "### makeXMatrix"
   ]
  },
  {
   "cell_type": "code",
   "execution_count": 7,
   "metadata": {
    "execution": {
     "iopub.execute_input": "2023-12-22T20:10:14.823764Z",
     "iopub.status.busy": "2023-12-22T20:10:14.823485Z",
     "iopub.status.idle": "2023-12-22T20:10:14.830583Z",
     "shell.execute_reply": "2023-12-22T20:10:14.829466Z",
     "shell.execute_reply.started": "2023-12-22T20:10:14.823742Z"
    }
   },
   "outputs": [],
   "source": [
    "#| exporti\n",
    "def makeXMatrix(b, s_vector, d_vector, epsilon_vector): \n",
    "\n",
    "    # x = (l_t, b_t, s_vector, d_vector, epsilon_vector)\n",
    "    x = np.array([0.0]) \n",
    "    if b is not None: \n",
    "        x = np.append(x, b)\n",
    "    if s_vector is not None: \n",
    "        x = np.concatenate((x, s_vector))\n",
    "    if d_vector is not None: \n",
    "        x = np.concatenate((x, d_vector)) \n",
    "    if epsilon_vector is not None: \n",
    "        x = np.concatenate((x, epsilon_vector))\n",
    "    \n",
    "    return x"
   ]
  },
  {
   "attachments": {},
   "cell_type": "markdown",
   "metadata": {},
   "source": [
    "### findPQ"
   ]
  },
  {
   "cell_type": "code",
   "execution_count": 8,
   "metadata": {
    "execution": {
     "iopub.execute_input": "2023-12-22T20:10:14.831850Z",
     "iopub.status.busy": "2023-12-22T20:10:14.831452Z",
     "iopub.status.idle": "2023-12-22T20:10:14.836983Z",
     "shell.execute_reply": "2023-12-22T20:10:14.836218Z",
     "shell.execute_reply.started": "2023-12-22T20:10:14.831817Z"
    }
   },
   "outputs": [],
   "source": [
    "#| exporti\n",
    "def findPQ(ar_coeffs, ma_coeffs):\n",
    "    p = 0 if ar_coeffs is None else len(ar_coeffs)\n",
    "    q = 0 if ma_coeffs is None else len(ma_coeffs)\n",
    "    return p, q"
   ]
  },
  {
   "attachments": {},
   "cell_type": "markdown",
   "metadata": {},
   "source": [
    "### makeTBATSWMatrix"
   ]
  },
  {
   "cell_type": "code",
   "execution_count": 9,
   "metadata": {
    "execution": {
     "iopub.execute_input": "2023-12-22T20:10:14.838077Z",
     "iopub.status.busy": "2023-12-22T20:10:14.837804Z",
     "iopub.status.idle": "2023-12-22T20:10:14.845065Z",
     "shell.execute_reply": "2023-12-22T20:10:14.844135Z",
     "shell.execute_reply.started": "2023-12-22T20:10:14.838056Z"
    }
   },
   "outputs": [],
   "source": [
    "#| exporti\n",
    "def makeTBATSWMatrix(phi, k_vector, ar_coeffs, ma_coeffs, tau):\n",
    "    # w_transpose = (1, phi, a, varphi, theta)\n",
    "    p, q = findPQ(ar_coeffs, ma_coeffs)\n",
    "    adj_phi = 0 \n",
    "    numCols = 1\n",
    "\n",
    "    if phi is not None: \n",
    "        adj_phi += 1\n",
    "        numCols += 1\n",
    "\n",
    "    numCols += tau + p + q\n",
    "\n",
    "    w_transpose = np.zeros((1, numCols))\n",
    "\n",
    "    position = adj_phi\n",
    "    for k in k_vector: \n",
    "        w_transpose[0, position + 1 : position + 1 + k] = 1\n",
    "        position += 2 * k\n",
    "\n",
    "    w_transpose[0, 0] = 1 \n",
    "\n",
    "    if phi is not None:\n",
    "        w_transpose[0, 1] = phi\n",
    "\n",
    "    if ar_coeffs is not None: \n",
    "        w_transpose[0, adj_phi+tau+1:adj_phi+tau+p+1] = ar_coeffs\n",
    "\n",
    "    if ma_coeffs is not None:\n",
    "        w_transpose[0, adj_phi+tau+p+1:adj_phi+tau+p+q+1] = ma_coeffs\n",
    "\n",
    "    return w_transpose"
   ]
  },
  {
   "attachments": {},
   "cell_type": "markdown",
   "metadata": {},
   "source": [
    "### makeTBATSGMatrix "
   ]
  },
  {
   "cell_type": "code",
   "execution_count": 10,
   "metadata": {
    "execution": {
     "iopub.execute_input": "2023-12-22T20:10:14.846987Z",
     "iopub.status.busy": "2023-12-22T20:10:14.846221Z",
     "iopub.status.idle": "2023-12-22T20:10:14.857662Z",
     "shell.execute_reply": "2023-12-22T20:10:14.856474Z",
     "shell.execute_reply.started": "2023-12-22T20:10:14.846944Z"
    }
   },
   "outputs": [],
   "source": [
    "#| exporti\n",
    "def makeTBATSGMatrix(k_vector, alpha, adj_beta, beta, gamma_one_v, gamma_two_v, p, q, tau):\n",
    "    \n",
    "    # g = (alpha, beta, gamma_bold, 1, 0_{p-1}, 1, 0_{q-1})\n",
    "    g = np.zeros((1+adj_beta+2*np.sum(k_vector)+p+q,1))\n",
    "\n",
    "    g[0,0] = alpha \n",
    "\n",
    "    if beta is not None: \n",
    "        g[1,0] = beta \n",
    "\n",
    "    gamma_bold = np.ones((1, 2*np.sum(k_vector)))\n",
    "    endPos = 0 \n",
    "    for k, gamma_one, gamma_two in zip(k_vector, gamma_one_v, gamma_two_v):\n",
    "        gamma_bold[0, endPos:endPos+k] = gamma_one\n",
    "        gamma_bold[0, endPos+k:endPos+2*k] = gamma_two\n",
    "        endPos += 2*k\n",
    "\n",
    "    g[1+adj_beta:1+adj_beta+gamma_bold.shape[1],0] = gamma_bold\n",
    "\n",
    "    if p != 0: \n",
    "        g[1+adj_beta+tau,0] = 1 \n",
    "    if q != 0: \n",
    "        g[1+adj_beta+tau+p,0] = 1\n",
    "\n",
    "    return g, gamma_bold"
   ]
  },
  {
   "attachments": {},
   "cell_type": "markdown",
   "metadata": {},
   "source": [
    "### makeTBATSFMatrix "
   ]
  },
  {
   "cell_type": "code",
   "execution_count": 11,
   "metadata": {
    "execution": {
     "iopub.execute_input": "2023-12-22T20:10:14.860321Z",
     "iopub.status.busy": "2023-12-22T20:10:14.859278Z",
     "iopub.status.idle": "2023-12-22T20:10:14.882696Z",
     "shell.execute_reply": "2023-12-22T20:10:14.881850Z",
     "shell.execute_reply.started": "2023-12-22T20:10:14.860274Z"
    }
   },
   "outputs": [],
   "source": [
    "#| exporti\n",
    "@njit(nogil=NOGIL, cache=CACHE)\n",
    "def makeTBATSFMatrix(phi, tau, alpha, beta, ar_coeffs, ma_coeffs, gamma_bold, seasonal_periods, k_vector):\n",
    "    # Alpha row \n",
    "    F = np.array([[1.0]])\n",
    "    if phi is not None: \n",
    "        F = np.hstack((F, np.array([[phi]])))\n",
    "    F = np.hstack((F, np.zeros((1,tau))))\n",
    "    if ar_coeffs is not None: \n",
    "        alpha_varphi = alpha*ar_coeffs\n",
    "        alpha_varphi = alpha_varphi.reshape((1,len(alpha_varphi)))\n",
    "        F = np.hstack((F, alpha_varphi))\n",
    "    if ma_coeffs is not None: \n",
    "        alpha_theta = alpha*ma_coeffs\n",
    "        alpha_theta = alpha_theta.reshape((1,len(alpha_theta)))\n",
    "        F = np.hstack((F, alpha_theta))\n",
    "    \n",
    "    # Beta row \n",
    "    if beta is not None: \n",
    "        beta_row = np.array([[0.0, phi]])\n",
    "        beta_row = np.hstack((beta_row, np.zeros((1,tau))))\n",
    "        if ar_coeffs is not None: \n",
    "            beta_varphi = beta*ar_coeffs\n",
    "            beta_varphi = beta_varphi.reshape((1,len(beta_varphi)))\n",
    "            beta_row = np.hstack((beta_row, beta_varphi))\n",
    "        if ma_coeffs is not None: \n",
    "            beta_theta = beta*ma_coeffs\n",
    "            beta_theta = beta_theta.reshape((1,len(beta_theta)))\n",
    "            beta_row = np.hstack((beta_row, beta_theta))\n",
    "        F = np.vstack((F, beta_row))\n",
    "\n",
    "    # Seasonal row \n",
    "    seasonal_row = np.zeros((tau,1))\n",
    "\n",
    "    if phi is not None: \n",
    "        seasonal_row = np.hstack((seasonal_row, np.zeros((tau,1))))\n",
    "\n",
    "    A = np.zeros((tau, tau))\n",
    "    pos = 0\n",
    "    for k, period in zip(k_vector, seasonal_periods):\n",
    "        t = 2 * np.pi * np.arange(1, k + 1) / period\n",
    "        ck = np.diag(np.cos(t))\n",
    "        sk = np.diag(np.sin(t))\n",
    "        top = np.hstack((ck, sk))\n",
    "        bottom = np.hstack((-sk, ck)) \n",
    "        Ak = np.vstack((top, bottom))\n",
    "        A[pos:pos+2*k,pos:pos+2*k] = np.vstack((top, bottom))\n",
    "        pos += 2*k\n",
    "    seasonal_row = np.hstack((seasonal_row, A))\n",
    "\n",
    "    if ar_coeffs is not None: \n",
    "        varphi = ar_coeffs.reshape((1, ar_coeffs.shape[0]))\n",
    "        B = np.dot(np.transpose(gamma_bold), varphi)\n",
    "        seasonal_row = np.hstack((seasonal_row, B))\n",
    "\n",
    "    if ma_coeffs is not None: \n",
    "        theta = ma_coeffs.reshape((1, ma_coeffs.shape[0]))\n",
    "        C = np.dot(np.transpose(gamma_bold), theta)\n",
    "        seasonal_row = np.hstack((seasonal_row, C))\n",
    "\n",
    "    F = np.vstack((F, seasonal_row))\n",
    "\n",
    "    # ARMA submatrix \n",
    "    if ar_coeffs is not None:\n",
    "        p = len(ar_coeffs)\n",
    "        ar_rows = np.zeros((p, 1))\n",
    "        \n",
    "        if phi is not None:\n",
    "            ar_rows = np.hstack((ar_rows, ar_rows))\n",
    "            \n",
    "        ar_seasonal_zeros = np.zeros((p, tau)) # seasonal part\n",
    "        ar_rows = np.hstack((ar_rows, ar_seasonal_zeros))\n",
    "        \n",
    "        ident = np.eye(p - 1)\n",
    "        ident = np.hstack((ident, np.zeros(((p - 1), 1))))\n",
    "\n",
    "        ar_part = np.vstack((ar_coeffs.reshape((1, ar_coeffs.shape[0])), ident))\n",
    "        ar_rows = np.hstack((ar_rows, ar_part))\n",
    "        \n",
    "        if ma_coeffs is not None:\n",
    "            q = len(ma_coeffs)\n",
    "            ma_in_ar = np.zeros((p, q))\n",
    "            ma_in_ar[0, :] = ma_coeffs\n",
    "            ar_rows = np.hstack((ar_rows, ma_in_ar))\n",
    "        \n",
    "        F = np.vstack((F, ar_rows))\n",
    "\n",
    "    if ma_coeffs is not None:\n",
    "        q = len(ma_coeffs)\n",
    "        ma_rows = np.zeros((q, 1))\n",
    "        \n",
    "        if phi is not None:\n",
    "            ma_rows = np.hstack((ma_rows, ma_rows))\n",
    "\n",
    "        ma_seasonal = np.zeros((q, tau))\n",
    "        ma_rows = np.hstack((ma_rows, ma_seasonal))\n",
    "        \n",
    "        if ar_coeffs is not None:\n",
    "            p = len(ar_coeffs)\n",
    "            ar_in_ma = np.zeros((q, p))\n",
    "            ma_rows = np.hstack((ma_rows, ar_in_ma))\n",
    "        \n",
    "        ident = np.eye(q - 1)\n",
    "        ident = np.hstack((ident, np.zeros(((q - 1), 1))))\n",
    "        ma_part = np.vstack((np.zeros((1, q)), ident))\n",
    "        ma_rows = np.hstack((ma_rows, ma_part))\n",
    "        \n",
    "        F = np.vstack((F, ma_rows))\n",
    "    \n",
    "    return F"
   ]
  },
  {
   "attachments": {},
   "cell_type": "markdown",
   "metadata": {},
   "source": [
    "### calcTBATSFaster "
   ]
  },
  {
   "cell_type": "code",
   "execution_count": 12,
   "metadata": {
    "execution": {
     "iopub.execute_input": "2023-12-22T20:10:14.883908Z",
     "iopub.status.busy": "2023-12-22T20:10:14.883579Z",
     "iopub.status.idle": "2023-12-22T20:10:14.891962Z",
     "shell.execute_reply": "2023-12-22T20:10:14.891272Z",
     "shell.execute_reply.started": "2023-12-22T20:10:14.883883Z"
    }
   },
   "outputs": [],
   "source": [
    "#| exporti\n",
    "@njit(nogil=NOGIL, cache=CACHE)\n",
    "def calcTBATSFaster(y_trans, w_transpose, g, F, x_nought): \n",
    "\n",
    "    n = y_trans.shape[0] \n",
    "    dimF = F.shape[0] \n",
    "    \n",
    "    yhat = np.zeros((1,n))\n",
    "    e = np.zeros((1,n))\n",
    "    x = np.zeros((n, len(x_nought)))\n",
    "\n",
    "    yhat[0,0] = np.dot(w_transpose[0], x_nought)\n",
    "    e[0,0] = y_trans[0]-yhat[0,0] \n",
    "    x[0] = np.dot(F, x_nought)+(g[:, 0] * e[0,0])\n",
    "\n",
    "    for j in range(1,y_trans.shape[0]): \n",
    "        yhat[:, j] = np.dot(w_transpose[0], x[j-1])\n",
    "        e[0,j] = y_trans[j]-yhat[0,j]\n",
    "        x[j] = np.dot(F, x[j-1]) + g[:, 0] * e[0,j]\n",
    "        \n",
    "    return yhat, e, x"
   ]
  },
  {
   "attachments": {},
   "cell_type": "markdown",
   "metadata": {},
   "source": [
    "### extract_params"
   ]
  },
  {
   "cell_type": "code",
   "execution_count": 13,
   "metadata": {
    "execution": {
     "iopub.execute_input": "2023-12-22T20:10:14.893028Z",
     "iopub.status.busy": "2023-12-22T20:10:14.892819Z",
     "iopub.status.idle": "2023-12-22T20:10:14.901626Z",
     "shell.execute_reply": "2023-12-22T20:10:14.900949Z",
     "shell.execute_reply.started": "2023-12-22T20:10:14.893007Z"
    }
   },
   "outputs": [],
   "source": [
    "#| exporti\n",
    "def extract_params(params, use_boxcox, use_trend, use_damped_trend, use_arma_errors, seasonal_periods, p, q):\n",
    "    if use_boxcox: \n",
    "        BoxCox_lambda = params[0]\n",
    "        alpha = params[1]\n",
    "        index = 2 \n",
    "    else: \n",
    "        BoxCox_lambda = None \n",
    "        alpha = params[0]\n",
    "        index = 1\n",
    "    if use_trend: \n",
    "        beta = params[index]\n",
    "        index += 1\n",
    "        if use_damped_trend: \n",
    "            phi = params[index]\n",
    "            index += 1\n",
    "        else: \n",
    "            phi = 1.0\n",
    "    else: \n",
    "        beta = None\n",
    "        phi = None\n",
    "    gamma_one_v = params[index:index+len(seasonal_periods)]\n",
    "    gamma_two_v = params[index+len(seasonal_periods):index+2*len(seasonal_periods)]\n",
    "    index += 2*len(seasonal_periods)\n",
    "    ar_coeffs = None \n",
    "    ma_coeffs = None    \n",
    "    if use_arma_errors: # if arma_errors = True, then p or q must be non-zero \n",
    "        if p != 0 and q != 0: \n",
    "            ar_coeffs = params[index:index+p]\n",
    "            ma_coeffs = params[index+p:index+p+q]\n",
    "        elif p != 0: \n",
    "            ar_coeffs = params[index:index+p]\n",
    "        elif q != 0:\n",
    "            ma_coeffs = params[index:index+q]\n",
    "    return BoxCox_lambda, alpha, beta, phi, gamma_one_v, gamma_two_v, ar_coeffs, ma_coeffs"
   ]
  },
  {
   "attachments": {},
   "cell_type": "markdown",
   "metadata": {},
   "source": [
    "### updateTBATSWMatrix"
   ]
  },
  {
   "cell_type": "code",
   "execution_count": 14,
   "metadata": {
    "execution": {
     "iopub.execute_input": "2023-12-22T20:10:14.902683Z",
     "iopub.status.busy": "2023-12-22T20:10:14.902447Z",
     "iopub.status.idle": "2023-12-22T20:10:14.909344Z",
     "shell.execute_reply": "2023-12-22T20:10:14.908566Z",
     "shell.execute_reply.started": "2023-12-22T20:10:14.902662Z"
    }
   },
   "outputs": [],
   "source": [
    "#| exporti\n",
    "def updateTBATSWMatrix(w_transpose, phi, tau, ar_coeffs, ma_coeffs, p, q): \n",
    "    adjBeta = 0 \n",
    "\n",
    "    if phi is not None: \n",
    "        adjBeta = 1 \n",
    "        w_transpose[0,1] = phi \n",
    "\n",
    "    if p != 0: \n",
    "        w_transpose[0, adjBeta+tau+1:adjBeta+tau+p+1] = ar_coeffs\n",
    "        if q != 0: \n",
    "            w_transpose[0, adjBeta+tau+p+1:adjBeta+tau+p+q+1] = ma_coeffs\n",
    "    elif q != 0:\n",
    "        # here p = 0 \n",
    "        w_transpose[0, adjBeta+tau+1:adjBeta+tau+q+1] = ma_coeffs\n",
    "    \n",
    "    return(w_transpose)"
   ]
  },
  {
   "attachments": {},
   "cell_type": "markdown",
   "metadata": {},
   "source": [
    "### updateTBATSGMatrix "
   ]
  },
  {
   "cell_type": "code",
   "execution_count": 15,
   "metadata": {
    "execution": {
     "iopub.execute_input": "2023-12-22T20:10:14.910260Z",
     "iopub.status.busy": "2023-12-22T20:10:14.910049Z",
     "iopub.status.idle": "2023-12-22T20:10:14.917462Z",
     "shell.execute_reply": "2023-12-22T20:10:14.916867Z",
     "shell.execute_reply.started": "2023-12-22T20:10:14.910239Z"
    }
   },
   "outputs": [],
   "source": [
    "#| exporti\n",
    "def updateTBATSGMatrix(g, gamma_bold, alpha, beta, k_vector, gamma_one_v, gamma_two_v):\n",
    "    # This function also updates gamma_bold  \n",
    "    adjBeta = 0 \n",
    "    g[0,0] = alpha \n",
    "    \n",
    "    if beta is not None: \n",
    "        g[1,0] = beta \n",
    "        adjBeta = 1 \n",
    "\n",
    "    endPos = 0 \n",
    "    numK = len(k_vector) \n",
    "    \n",
    "    for k, gamma_one, gamma_two in zip(k_vector, gamma_one_v, gamma_two_v):\n",
    "        gamma_bold[0, endPos:endPos+k] = gamma_one\n",
    "        gamma_bold[0, endPos+k:endPos+2*k] = gamma_two\n",
    "        endPos += 2*k\n",
    "    \n",
    "    g[(adjBeta+1):(adjBeta+gamma_bold.shape[1]+1), 0] = gamma_bold.ravel()\n",
    "    \n",
    "    return g "
   ]
  },
  {
   "attachments": {},
   "cell_type": "markdown",
   "metadata": {},
   "source": [
    "### updateTBATSFMatrix "
   ]
  },
  {
   "cell_type": "code",
   "execution_count": 16,
   "metadata": {
    "execution": {
     "iopub.execute_input": "2023-12-22T20:10:14.918679Z",
     "iopub.status.busy": "2023-12-22T20:10:14.918345Z",
     "iopub.status.idle": "2023-12-22T20:10:14.929411Z",
     "shell.execute_reply": "2023-12-22T20:10:14.928592Z",
     "shell.execute_reply.started": "2023-12-22T20:10:14.918646Z"
    }
   },
   "outputs": [],
   "source": [
    "#| exporti\n",
    "def updateTBATSFMatrix(F, phi, alpha, beta, gamma_bold, ar_coeffs, ma_coeffs, p, q, tau):\n",
    "    if beta is not None: \n",
    "        F[0,1] = phi\n",
    "        F[1,1] = phi\n",
    "        betaAdjust = 1\n",
    "    else:\n",
    "        betaAdjust = 0 \n",
    "    if ar_coeffs is not None:\n",
    "        F[0, (betaAdjust+tau+1):(betaAdjust+tau+p+1)] = alpha*ar_coeffs\n",
    "        if betaAdjust == 1:  \n",
    "            F[1, (betaAdjust+tau+1):(betaAdjust+tau+p+1)] = beta*ar_coeffs \n",
    "        if tau > 0: \n",
    "            B = np.dot(gamma_bold.reshape(-1,1), ar_coeffs.reshape(1, -1))\n",
    "            F[(1+betaAdjust):(betaAdjust+tau+1), (betaAdjust+tau+1):(betaAdjust+tau+p+1)] = B \n",
    "        F[betaAdjust+tau+1,(betaAdjust+tau+1):(betaAdjust+tau+p+1)] = ar_coeffs \n",
    "    if ma_coeffs is not None: \n",
    "        F[0, (betaAdjust+tau+p+1):(betaAdjust+tau+p+q+1)] = alpha*ma_coeffs \n",
    "        if betaAdjust == 1:  \n",
    "            F[1, (betaAdjust+tau+p+1):(betaAdjust+tau+p+q+1)] = beta*ma_coeffs\n",
    "        if tau > 0: \n",
    "            C = np.dot(gamma_bold.reshape(-1,1), ma_coeffs.reshape(1, -1))\n",
    "            F[(1+betaAdjust):(betaAdjust+tau+1), (betaAdjust+tau+p+1):(betaAdjust+tau+p+q+1)] = C \n",
    "        if ar_coeffs is not None: \n",
    "            F[betaAdjust+tau+1,(betaAdjust+tau+p+1):(betaAdjust+tau+p+q+1)] = ma_coeffs \n",
    "\n",
    "    return F "
   ]
  },
  {
   "attachments": {},
   "cell_type": "markdown",
   "metadata": {},
   "source": [
    "### checkAdmissibility"
   ]
  },
  {
   "cell_type": "code",
   "execution_count": 17,
   "metadata": {
    "execution": {
     "iopub.execute_input": "2023-12-22T20:10:14.930509Z",
     "iopub.status.busy": "2023-12-22T20:10:14.930281Z",
     "iopub.status.idle": "2023-12-22T20:10:14.940350Z",
     "shell.execute_reply": "2023-12-22T20:10:14.939425Z",
     "shell.execute_reply.started": "2023-12-22T20:10:14.930486Z"
    }
   },
   "outputs": [],
   "source": [
    "#| exporti\n",
    "def checkAdmissibility(BoxCox_lambda, bc_lower_bound, bc_upper_bound, alpha, beta, phi, ar_coeffs, ma_coeffs, D): \n",
    "    if BoxCox_lambda is not None: \n",
    "        if (BoxCox_lambda < bc_lower_bound) or (BoxCox_lambda > bc_upper_bound): \n",
    "            return False \n",
    "\n",
    "    # These 2 conditions are not in the R code, but they're added because of the definition of smoothing paramters (alpha & beta). \n",
    "    # if (alpha < 0) or (alpha > 1): \n",
    "    #     return False\n",
    "    \n",
    "    # if beta is not None: \n",
    "    #     if (beta < 0) or (beta > 1): \n",
    "    #         return False\n",
    "    # --------------------------------\n",
    "\n",
    "    if phi is not None: \n",
    "        if (phi < 0.8) or (phi > 1):\n",
    "            return False \n",
    "            \n",
    "    if ar_coeffs is not None:\n",
    "        ar_lags = np.where(np.abs(ar_coeffs) > 1e-08)[0]\n",
    "        if len(ar_lags) > 0:\n",
    "            pval = max(ar_lags) + 1  \n",
    "            poly_coeffs = [1] + [-coef for coef in ar_coeffs[:pval]]\n",
    "            roots = Polynomial(poly_coeffs).roots()\n",
    "            if np.min(np.abs(roots)) < 1 + 1e-2:\n",
    "                return False\n",
    "            \n",
    "    if ma_coeffs is not None:\n",
    "        ma_lags = np.where(np.abs(ma_coeffs) > 1e-08)[0]\n",
    "        if len(ma_lags) > 0:\n",
    "            qval = max(ma_lags) + 1  \n",
    "            poly_coeffs = [1] + list(ma_coeffs[:qval])\n",
    "            roots = Polynomial(poly_coeffs).roots()\n",
    "            if np.min(np.abs(roots)) < 1 + 1e-2:\n",
    "                return False\n",
    "\n",
    "    D_eigen_values = scipy.linalg.eig(D, right=False)\n",
    "    \n",
    "    return np.all(abs(D_eigen_values) < 1+1e-2)"
   ]
  },
  {
   "attachments": {},
   "cell_type": "markdown",
   "metadata": {},
   "source": [
    "### calcLikelihoodTBATS"
   ]
  },
  {
   "cell_type": "code",
   "execution_count": 18,
   "metadata": {
    "execution": {
     "iopub.execute_input": "2023-12-22T20:10:14.942218Z",
     "iopub.status.busy": "2023-12-22T20:10:14.941322Z",
     "iopub.status.idle": "2023-12-22T20:10:14.952690Z",
     "shell.execute_reply": "2023-12-22T20:10:14.951840Z",
     "shell.execute_reply.started": "2023-12-22T20:10:14.942160Z"
    }
   },
   "outputs": [],
   "source": [
    "#| exporti\n",
    "def calcLikelihoodTBATS(params, use_boxcox, use_trend, use_damped_trend, use_arma_errors, y, y_trans, seasonal_periods, k_vector, tau, w_transpose, F, g, gamma_bold, x_nought, x_nought_untransformed, bc_lower_bound, bc_upper_bound, p, q): \n",
    "    BoxCox_lambda, alpha, beta, phi, gamma_one_v, gamma_two_v, ar_coeffs, ma_coeffs = extract_params(params, use_boxcox, use_trend, use_damped_trend, use_arma_errors, seasonal_periods, p, q)\n",
    "\n",
    "    w_transpose = updateTBATSWMatrix(w_transpose, phi, tau, ar_coeffs, ma_coeffs, p, q) \n",
    "    g = updateTBATSGMatrix(g, gamma_bold, alpha, beta, k_vector, gamma_one_v, gamma_two_v)\n",
    "    F = updateTBATSFMatrix(F, phi, alpha, beta, gamma_bold, ar_coeffs, ma_coeffs, p, q, tau)\n",
    "\n",
    "    if use_boxcox:\n",
    "        x_nought = boxcox(x_nought_untransformed, BoxCox_lambda)\n",
    "        y_trans = boxcox(y, BoxCox_lambda)\n",
    "    _, e, _ = calcTBATSFaster(y_trans, w_transpose, g, F, x_nought)\n",
    "\n",
    "    n = len(y_trans)\n",
    "    if use_boxcox: \n",
    "        log_likelihood = n*np.log(np.nansum(e**2))-2*(BoxCox_lambda-1)*np.nansum(np.log(y)) \n",
    "    else: \n",
    "        log_likelihood = n*np.log(np.nansum(e**2))\n",
    "\n",
    "    D = F-np.dot(g, w_transpose)\n",
    "\n",
    "    if checkAdmissibility(BoxCox_lambda, bc_lower_bound, bc_upper_bound, alpha, beta, phi, ar_coeffs, ma_coeffs, D): \n",
    "        return log_likelihood \n",
    "    else: \n",
    "        return 10**20"
   ]
  },
  {
   "attachments": {},
   "cell_type": "markdown",
   "metadata": {},
   "source": [
    "## TBATS model "
   ]
  },
  {
   "attachments": {},
   "cell_type": "markdown",
   "metadata": {},
   "source": [
    "### tbats_model_generator "
   ]
  },
  {
   "cell_type": "code",
   "execution_count": 19,
   "metadata": {
    "execution": {
     "iopub.execute_input": "2023-12-22T20:10:14.954362Z",
     "iopub.status.busy": "2023-12-22T20:10:14.953793Z",
     "iopub.status.idle": "2023-12-22T20:10:14.969439Z",
     "shell.execute_reply": "2023-12-22T20:10:14.968631Z",
     "shell.execute_reply.started": "2023-12-22T20:10:14.954331Z"
    }
   },
   "outputs": [],
   "source": [
    "def tbats_model_generator(y, seasonal_periods, k_vector, use_boxcox, bc_lower_bound, bc_upper_bound, use_trend, use_damped_trend, use_arma_errors, ar_coeffs, ma_coeffs): \n",
    "\n",
    "    # Initial Box-Cox transformation (if required)\n",
    "    if use_boxcox: \n",
    "        BoxCox_lambda = 0 # This is the initial value used in the thesis \n",
    "        y_trans = boxcox(y, BoxCox_lambda)\n",
    "    else: \n",
    "        BoxCox_lambda = None\n",
    "        y_trans = y \n",
    "\n",
    "    p, q = findPQ(ar_coeffs, ma_coeffs)\n",
    "\n",
    "    # select starting params \n",
    "    alpha, adj_beta, beta, b, phi, gamma_one_v, gamma_two_v, s_vector, d_vector, epsilon_vector = initial_parameters(seasonal_periods, k_vector, use_trend, use_damped_trend, ar_coeffs, ma_coeffs)\n",
    "\n",
    "    # seed states \n",
    "    x_nought = makeXMatrix(b, s_vector, d_vector, epsilon_vector)\n",
    "\n",
    "    # tau \n",
    "    tau = 2*np.sum(k_vector)\n",
    "\n",
    "    # Create w_transpose, g, and F matrices \n",
    "    w_transpose = makeTBATSWMatrix(phi, k_vector, ar_coeffs, ma_coeffs, tau)\n",
    "    g, gamma_bold = makeTBATSGMatrix(k_vector, alpha, adj_beta, beta, gamma_one_v, gamma_two_v, p, q, tau)\n",
    "    F = makeTBATSFMatrix(phi, tau, alpha, beta, ar_coeffs, ma_coeffs, gamma_bold, seasonal_periods, k_vector)\n",
    "    D = F - np.dot(g, w_transpose)\n",
    "\n",
    "    # Find seed states \n",
    "    _, e, x = calcTBATSFaster(y_trans, w_transpose, g, F, x_nought)\n",
    "\n",
    "    w_tilda_transpose = np.zeros((y.shape[0], w_transpose.shape[1]))\n",
    "    w_tilda_transpose[0,:] = w_transpose\n",
    "\n",
    "    for k in range(1, w_tilda_transpose.shape[0]): \n",
    "        w_tilda_transpose[k,:] = np.dot(w_tilda_transpose[k-1,:], D)\n",
    "\n",
    "    if p != 0 or q!= 0: \n",
    "        end_cut = w_tilda_transpose.shape[1] \n",
    "        start_cut = end_cut-(p+q)    \n",
    "        new_cols = np.arange(0, start_cut, 1)\n",
    "        w_tilda_transpose = w_tilda_transpose[:, new_cols]\n",
    "\n",
    "    model = sm.OLS(e.reshape((e.shape[1],1)), w_tilda_transpose).fit()\n",
    "    x_nought = model.params\n",
    "\n",
    "    if (p != 0) or (q != 0):\n",
    "        arma_seed_states = np.zeros((p+q,))\n",
    "        x_nought = np.concatenate((x_nought, arma_seed_states))\n",
    "\n",
    "    # Optimization \n",
    "    # Create vector with parameters \n",
    "    if use_boxcox: \n",
    "        params = np.concatenate([np.array([BoxCox_lambda]), np.array([alpha])]) \n",
    "    else:  \n",
    "        params = np.array([alpha])\n",
    "    if beta is not None:\n",
    "        params = np.concatenate([params, np.array([beta])])\n",
    "    if phi is not None and phi != 1:\n",
    "        use_damped_trend = True\n",
    "        params = np.concatenate([params, np.array([phi])])\n",
    "    else:\n",
    "        use_damped_trend = False\n",
    "    params = np.concatenate([params, gamma_one_v, gamma_two_v])\n",
    "    if ar_coeffs is not None: \n",
    "        params = np.concatenate([params, ar_coeffs])\n",
    "    if ma_coeffs is not None: \n",
    "        params = np.concatenate([params, ma_coeffs])\n",
    "    if use_boxcox:\n",
    "        x_nought_untransformed = inv_boxcox(x_nought, BoxCox_lambda)\n",
    "    else:\n",
    "        x_nought_untransformed = x_nought\n",
    "    \n",
    "    objective_fn = partial(\n",
    "        calcLikelihoodTBATS,\n",
    "        use_boxcox=use_boxcox,\n",
    "        use_trend=use_trend,\n",
    "        use_damped_trend=use_damped_trend,\n",
    "        use_arma_errors=use_arma_errors,\n",
    "        y=y,\n",
    "        y_trans=y_trans,\n",
    "        seasonal_periods=seasonal_periods,\n",
    "        k_vector=k_vector,\n",
    "        tau=tau,\n",
    "        w_transpose=w_transpose,\n",
    "        F=F,\n",
    "        g=g,\n",
    "        gamma_bold=gamma_bold,\n",
    "        x_nought=x_nought,\n",
    "        x_nought_untransformed=x_nought_untransformed,\n",
    "        bc_lower_bound=bc_lower_bound,\n",
    "        bc_upper_bound=bc_upper_bound,\n",
    "        p=p,\n",
    "        q=q,\n",
    "    )\n",
    "    # Solve optimization problem\n",
    "    optim_params = minimize(objective_fn, params, method = 'Nelder-Mead').x\n",
    "\n",
    "    optim_BoxCox_lambda, optim_alpha, optim_beta, optim_phi, optim_gamma_one_v, optim_gamma_two_v, optim_ar_coeffs, optim_ma_coeffs = extract_params(optim_params, use_boxcox, use_trend, use_damped_trend, use_arma_errors, seasonal_periods, p, q)\n",
    "    \n",
    "    w_transpose = updateTBATSWMatrix(w_transpose, optim_phi, tau, optim_ar_coeffs, optim_ma_coeffs, p, q)\n",
    "    g = updateTBATSGMatrix(g, gamma_bold, optim_alpha, optim_beta, k_vector, optim_gamma_one_v, optim_gamma_two_v)\n",
    "    F = updateTBATSFMatrix(F, optim_phi, optim_alpha, optim_beta, gamma_bold, optim_ar_coeffs, optim_ma_coeffs, p, q, tau)\n",
    "\n",
    "    fitted, errors, x = calcTBATSFaster(y_trans, w_transpose, g, F, x_nought)\n",
    "\n",
    "    sigma2 = np.sum(errors*errors)/len(y_trans)\n",
    "\n",
    "    # Calculate log-likelihood \n",
    "    if use_boxcox: \n",
    "        log_likelihood = len(y_trans)*np.log(np.nansum(errors**2))-2*(optim_BoxCox_lambda-1)*np.nansum(np.log(y)) \n",
    "    else: \n",
    "        log_likelihood = len(y_trans)*np.log(np.nansum(errors**2))\n",
    "\n",
    "    kval = len(optim_params)+x_nought.shape[0]\n",
    "    aic = log_likelihood+2*kval \n",
    "    aic \n",
    "\n",
    "    res = {\n",
    "        'fitted': fitted, \n",
    "        'errors': errors, \n",
    "        'sigma2': sigma2, \n",
    "        'aic': aic,\n",
    "        'optim_params': optim_params,\n",
    "        'F': F, \n",
    "        'w_transpose': w_transpose,\n",
    "        'g': g,\n",
    "        'x': x,\n",
    "        'k_vector': k_vector,\n",
    "    }\n",
    "\n",
    "    return res "
   ]
  },
  {
   "attachments": {},
   "cell_type": "markdown",
   "metadata": {},
   "source": [
    "### tbats_model "
   ]
  },
  {
   "cell_type": "code",
   "execution_count": 20,
   "metadata": {
    "execution": {
     "iopub.execute_input": "2023-12-22T20:10:14.971201Z",
     "iopub.status.busy": "2023-12-22T20:10:14.970595Z",
     "iopub.status.idle": "2023-12-22T20:10:14.980213Z",
     "shell.execute_reply": "2023-12-22T20:10:14.979424Z",
     "shell.execute_reply.started": "2023-12-22T20:10:14.971165Z"
    }
   },
   "outputs": [],
   "source": [
    "def tbats_model(y, seasonal_periods, use_boxcox, bc_lower_bound, bc_upper_bound, use_trend, use_damped_trend, use_arma_errors): \n",
    "\n",
    "    # Sort seasonal periods \n",
    "    seasonal_periods = np.sort(seasonal_periods)\n",
    "\n",
    "    # Check if there are missing values \n",
    "    indices = np.where(np.isnan(y))[0]\n",
    "    if len(indices) > 0: \n",
    "        max_index = indices[-1]\n",
    "        y = y[max_index+1:len(y)]\n",
    "\n",
    "    # Check if there are negative values\n",
    "    if np.any(y < 0): \n",
    "        use_boxcox = False \n",
    "\n",
    "    # Check if there is a trend\n",
    "    if use_trend:\n",
    "        adf = adfuller(y, regression = 'ct')\n",
    "        if adf[1] <= 0.05: \n",
    "            warnings.warn('The time series is trend-stationary, disabling trend components.')\n",
    "            use_trend = False\n",
    "            use_damped_trend = False\n",
    "\n",
    "    # Choose the number of harmonics \n",
    "    k_vector = np.array([find_harmonics(y, m) for m in seasonal_periods])\n",
    "\n",
    "    # First model - No ARMA errors \n",
    "    ar_coeffs = None \n",
    "    ma_coeffs = None \n",
    "\n",
    "    best_model = tbats_model_generator(y, seasonal_periods, k_vector, use_boxcox, bc_lower_bound, bc_upper_bound, use_trend, use_damped_trend, use_arma_errors, ar_coeffs, ma_coeffs)\n",
    "    best_model['description'] = \"Model without ARMA errors\"\n",
    "\n",
    "    # Second model \n",
    "    # Uses ARMA errors and the k_vector from the first model\n",
    "    if use_arma_errors: \n",
    "        errors = best_model['errors'][0] # ARMA errors from first model \n",
    "        with np.errstate(invalid=\"ignore\"):\n",
    "            fit = auto_arima_f(errors, max_d=0, seasonal=False)\n",
    "        p = int(arima_string(fit)[6])\n",
    "        q = int(arima_string(fit)[10])\n",
    "        if p != 0:\n",
    "            ar_coeffs = np.zeros(p)\n",
    "        else:\n",
    "            ar_coeffs = None\n",
    "        if q != 0:\n",
    "            ma_coeffs = np.zeros(q)\n",
    "        else:\n",
    "            ma_coeffs = None\n",
    "\n",
    "        model_arma_errors = tbats_model_generator(y, seasonal_periods, k_vector, use_boxcox, bc_lower_bound, bc_upper_bound, use_trend, use_damped_trend, use_arma_errors, ar_coeffs, ma_coeffs)\n",
    "\n",
    "        if model_arma_errors['aic'] <= best_model['aic']: \n",
    "            best_model = model_arma_errors\n",
    "            best_model['description'] = 'Model with ARMA errors'\n",
    "    \n",
    "    return best_model "
   ]
  },
  {
   "attachments": {},
   "cell_type": "markdown",
   "metadata": {},
   "source": [
    "### tbats_forecast"
   ]
  },
  {
   "cell_type": "code",
   "execution_count": 1,
   "metadata": {
    "execution": {
     "iopub.execute_input": "2023-12-22T20:16:32.529952Z",
     "iopub.status.busy": "2023-12-22T20:16:32.529657Z",
     "iopub.status.idle": "2023-12-22T20:16:32.539311Z",
     "shell.execute_reply": "2023-12-22T20:16:32.538742Z",
     "shell.execute_reply.started": "2023-12-22T20:16:32.529926Z"
    }
   },
   "outputs": [],
   "source": [
    "def tbats_forecast(mod, h): # this function is the same as bats_forecast\n",
    "    fcst = np.zeros(h)\n",
    "    xx = np.zeros((h, mod['x'].shape[1]))\n",
    "    w = mod['w_transpose'][0]\n",
    "\n",
    "    fcst[0] = np.dot(w, mod['x'][-1])\n",
    "    xx[0] = np.dot(mod['F'], mod['x'][-1])\n",
    "\n",
    "    if h > 1: \n",
    "        for t in range(1,h):\n",
    "            xx[t] = np.dot(mod['F'], xx[t-1])\n",
    "            fcst[t] = np.dot(w, xx[t-1])\n",
    "\n",
    "    res = {'mean': fcst}\n",
    "\n",
    "    return res"
   ]
  },
  {
   "attachments": {},
   "cell_type": "markdown",
   "metadata": {},
   "source": [
    "### Example "
   ]
  },
  {
   "cell_type": "code",
   "execution_count": 22,
   "metadata": {
    "execution": {
     "iopub.execute_input": "2023-12-22T20:10:14.995001Z",
     "iopub.status.busy": "2023-12-22T20:10:14.994591Z",
     "iopub.status.idle": "2023-12-22T20:10:15.000069Z",
     "shell.execute_reply": "2023-12-22T20:10:14.999214Z",
     "shell.execute_reply.started": "2023-12-22T20:10:14.994966Z"
    }
   },
   "outputs": [],
   "source": [
    "y = ap\n",
    "seasonal_periods = np.array([12])"
   ]
  },
  {
   "cell_type": "code",
   "execution_count": 23,
   "metadata": {
    "execution": {
     "iopub.execute_input": "2023-12-22T20:10:15.001890Z",
     "iopub.status.busy": "2023-12-22T20:10:15.001336Z",
     "iopub.status.idle": "2023-12-22T20:10:15.007198Z",
     "shell.execute_reply": "2023-12-22T20:10:15.006317Z",
     "shell.execute_reply.started": "2023-12-22T20:10:15.001841Z"
    }
   },
   "outputs": [],
   "source": [
    "use_boxcox = False\n",
    "bc_lower_bound = 0\n",
    "bc_upper_bound = 1\n",
    "use_trend = True\n",
    "use_damped_trend = False\n",
    "use_arma_errors = True"
   ]
  },
  {
   "cell_type": "code",
   "execution_count": 24,
   "metadata": {
    "execution": {
     "iopub.execute_input": "2023-12-22T20:10:15.008421Z",
     "iopub.status.busy": "2023-12-22T20:10:15.008146Z",
     "iopub.status.idle": "2023-12-22T20:10:21.625999Z",
     "shell.execute_reply": "2023-12-22T20:10:21.625288Z",
     "shell.execute_reply.started": "2023-12-22T20:10:15.008400Z"
    }
   },
   "outputs": [],
   "source": [
    "mod = tbats_model(y, seasonal_periods, use_boxcox, bc_lower_bound, bc_upper_bound, use_trend, use_damped_trend, use_arma_errors) "
   ]
  },
  {
   "cell_type": "code",
   "execution_count": 26,
   "metadata": {
    "execution": {
     "iopub.execute_input": "2023-12-22T20:10:21.634557Z",
     "iopub.status.busy": "2023-12-22T20:10:21.634162Z",
     "iopub.status.idle": "2023-12-22T20:10:21.666265Z",
     "shell.execute_reply": "2023-12-22T20:10:21.665364Z",
     "shell.execute_reply.started": "2023-12-22T20:10:21.634520Z"
    }
   },
   "outputs": [
    {
     "data": {
      "text/plain": [
       "array([1.20157289, 0.01507785, 0.00293222, 0.00390389])"
      ]
     },
     "execution_count": 26,
     "metadata": {},
     "output_type": "execute_result"
    }
   ],
   "source": [
    "mod['optim_params']"
   ]
  },
  {
   "cell_type": "code",
   "execution_count": 27,
   "metadata": {
    "execution": {
     "iopub.execute_input": "2023-12-22T20:10:21.668299Z",
     "iopub.status.busy": "2023-12-22T20:10:21.667573Z",
     "iopub.status.idle": "2023-12-22T20:10:21.677107Z",
     "shell.execute_reply": "2023-12-22T20:10:21.676315Z",
     "shell.execute_reply.started": "2023-12-22T20:10:21.668261Z"
    }
   },
   "outputs": [
    {
     "data": {
      "text/plain": [
       "0     1.0\n",
       "1     1.0\n",
       "2     1.0\n",
       "3     1.0\n",
       "4     1.0\n",
       "5     1.0\n",
       "6     1.0\n",
       "7     0.0\n",
       "8     0.0\n",
       "9     0.0\n",
       "10    0.0\n",
       "11    0.0\n",
       "dtype: float64"
      ]
     },
     "execution_count": 27,
     "metadata": {},
     "output_type": "execute_result"
    }
   ],
   "source": [
    "pd.Series(mod['w_transpose'][0])"
   ]
  },
  {
   "cell_type": "code",
   "execution_count": 28,
   "metadata": {
    "execution": {
     "iopub.execute_input": "2023-12-22T20:10:21.678869Z",
     "iopub.status.busy": "2023-12-22T20:10:21.678282Z",
     "iopub.status.idle": "2023-12-22T20:10:21.702621Z",
     "shell.execute_reply": "2023-12-22T20:10:21.701703Z",
     "shell.execute_reply.started": "2023-12-22T20:10:21.678799Z"
    }
   },
   "outputs": [
    {
     "data": {
      "text/html": [
       "<div>\n",
       "<style scoped>\n",
       "    .dataframe tbody tr th:only-of-type {\n",
       "        vertical-align: middle;\n",
       "    }\n",
       "\n",
       "    .dataframe tbody tr th {\n",
       "        vertical-align: top;\n",
       "    }\n",
       "\n",
       "    .dataframe thead th {\n",
       "        text-align: right;\n",
       "    }\n",
       "</style>\n",
       "<table border=\"1\" class=\"dataframe\">\n",
       "  <thead>\n",
       "    <tr style=\"text-align: right;\">\n",
       "      <th></th>\n",
       "      <th>0</th>\n",
       "      <th>1</th>\n",
       "      <th>2</th>\n",
       "      <th>3</th>\n",
       "      <th>4</th>\n",
       "      <th>5</th>\n",
       "      <th>6</th>\n",
       "      <th>7</th>\n",
       "      <th>8</th>\n",
       "      <th>9</th>\n",
       "      <th>10</th>\n",
       "      <th>11</th>\n",
       "    </tr>\n",
       "  </thead>\n",
       "  <tbody>\n",
       "    <tr>\n",
       "      <th>0</th>\n",
       "      <td>1.0</td>\n",
       "      <td>1.0</td>\n",
       "      <td>0.00</td>\n",
       "      <td>0.00</td>\n",
       "      <td>0.0</td>\n",
       "      <td>0.00</td>\n",
       "      <td>0.00</td>\n",
       "      <td>0.00</td>\n",
       "      <td>0.00</td>\n",
       "      <td>0.0</td>\n",
       "      <td>0.00</td>\n",
       "      <td>0.00</td>\n",
       "    </tr>\n",
       "    <tr>\n",
       "      <th>1</th>\n",
       "      <td>0.0</td>\n",
       "      <td>1.0</td>\n",
       "      <td>0.00</td>\n",
       "      <td>0.00</td>\n",
       "      <td>0.0</td>\n",
       "      <td>0.00</td>\n",
       "      <td>0.00</td>\n",
       "      <td>0.00</td>\n",
       "      <td>0.00</td>\n",
       "      <td>0.0</td>\n",
       "      <td>0.00</td>\n",
       "      <td>0.00</td>\n",
       "    </tr>\n",
       "    <tr>\n",
       "      <th>2</th>\n",
       "      <td>0.0</td>\n",
       "      <td>0.0</td>\n",
       "      <td>0.87</td>\n",
       "      <td>0.00</td>\n",
       "      <td>0.0</td>\n",
       "      <td>0.00</td>\n",
       "      <td>0.00</td>\n",
       "      <td>0.50</td>\n",
       "      <td>0.00</td>\n",
       "      <td>0.0</td>\n",
       "      <td>0.00</td>\n",
       "      <td>0.00</td>\n",
       "    </tr>\n",
       "    <tr>\n",
       "      <th>3</th>\n",
       "      <td>0.0</td>\n",
       "      <td>0.0</td>\n",
       "      <td>0.00</td>\n",
       "      <td>0.50</td>\n",
       "      <td>0.0</td>\n",
       "      <td>0.00</td>\n",
       "      <td>0.00</td>\n",
       "      <td>0.00</td>\n",
       "      <td>0.87</td>\n",
       "      <td>0.0</td>\n",
       "      <td>0.00</td>\n",
       "      <td>0.00</td>\n",
       "    </tr>\n",
       "    <tr>\n",
       "      <th>4</th>\n",
       "      <td>0.0</td>\n",
       "      <td>0.0</td>\n",
       "      <td>0.00</td>\n",
       "      <td>0.00</td>\n",
       "      <td>0.0</td>\n",
       "      <td>0.00</td>\n",
       "      <td>0.00</td>\n",
       "      <td>0.00</td>\n",
       "      <td>0.00</td>\n",
       "      <td>1.0</td>\n",
       "      <td>0.00</td>\n",
       "      <td>0.00</td>\n",
       "    </tr>\n",
       "    <tr>\n",
       "      <th>5</th>\n",
       "      <td>0.0</td>\n",
       "      <td>0.0</td>\n",
       "      <td>0.00</td>\n",
       "      <td>0.00</td>\n",
       "      <td>0.0</td>\n",
       "      <td>-0.50</td>\n",
       "      <td>0.00</td>\n",
       "      <td>0.00</td>\n",
       "      <td>0.00</td>\n",
       "      <td>0.0</td>\n",
       "      <td>0.87</td>\n",
       "      <td>0.00</td>\n",
       "    </tr>\n",
       "    <tr>\n",
       "      <th>6</th>\n",
       "      <td>0.0</td>\n",
       "      <td>0.0</td>\n",
       "      <td>0.00</td>\n",
       "      <td>0.00</td>\n",
       "      <td>0.0</td>\n",
       "      <td>0.00</td>\n",
       "      <td>-0.87</td>\n",
       "      <td>0.00</td>\n",
       "      <td>0.00</td>\n",
       "      <td>0.0</td>\n",
       "      <td>0.00</td>\n",
       "      <td>0.50</td>\n",
       "    </tr>\n",
       "    <tr>\n",
       "      <th>7</th>\n",
       "      <td>0.0</td>\n",
       "      <td>0.0</td>\n",
       "      <td>-0.50</td>\n",
       "      <td>-0.00</td>\n",
       "      <td>-0.0</td>\n",
       "      <td>-0.00</td>\n",
       "      <td>-0.00</td>\n",
       "      <td>0.87</td>\n",
       "      <td>0.00</td>\n",
       "      <td>0.0</td>\n",
       "      <td>0.00</td>\n",
       "      <td>0.00</td>\n",
       "    </tr>\n",
       "    <tr>\n",
       "      <th>8</th>\n",
       "      <td>0.0</td>\n",
       "      <td>0.0</td>\n",
       "      <td>-0.00</td>\n",
       "      <td>-0.87</td>\n",
       "      <td>-0.0</td>\n",
       "      <td>-0.00</td>\n",
       "      <td>-0.00</td>\n",
       "      <td>0.00</td>\n",
       "      <td>0.50</td>\n",
       "      <td>0.0</td>\n",
       "      <td>0.00</td>\n",
       "      <td>0.00</td>\n",
       "    </tr>\n",
       "    <tr>\n",
       "      <th>9</th>\n",
       "      <td>0.0</td>\n",
       "      <td>0.0</td>\n",
       "      <td>-0.00</td>\n",
       "      <td>-0.00</td>\n",
       "      <td>-1.0</td>\n",
       "      <td>-0.00</td>\n",
       "      <td>-0.00</td>\n",
       "      <td>0.00</td>\n",
       "      <td>0.00</td>\n",
       "      <td>0.0</td>\n",
       "      <td>0.00</td>\n",
       "      <td>0.00</td>\n",
       "    </tr>\n",
       "    <tr>\n",
       "      <th>10</th>\n",
       "      <td>0.0</td>\n",
       "      <td>0.0</td>\n",
       "      <td>-0.00</td>\n",
       "      <td>-0.00</td>\n",
       "      <td>-0.0</td>\n",
       "      <td>-0.87</td>\n",
       "      <td>-0.00</td>\n",
       "      <td>0.00</td>\n",
       "      <td>0.00</td>\n",
       "      <td>0.0</td>\n",
       "      <td>-0.50</td>\n",
       "      <td>0.00</td>\n",
       "    </tr>\n",
       "    <tr>\n",
       "      <th>11</th>\n",
       "      <td>0.0</td>\n",
       "      <td>0.0</td>\n",
       "      <td>-0.00</td>\n",
       "      <td>-0.00</td>\n",
       "      <td>-0.0</td>\n",
       "      <td>-0.00</td>\n",
       "      <td>-0.50</td>\n",
       "      <td>0.00</td>\n",
       "      <td>0.00</td>\n",
       "      <td>0.0</td>\n",
       "      <td>0.00</td>\n",
       "      <td>-0.87</td>\n",
       "    </tr>\n",
       "  </tbody>\n",
       "</table>\n",
       "</div>"
      ],
      "text/plain": [
       "     0    1     2     3    4     5     6     7     8    9     10    11\n",
       "0   1.0  1.0  0.00  0.00  0.0  0.00  0.00  0.00  0.00  0.0  0.00  0.00\n",
       "1   0.0  1.0  0.00  0.00  0.0  0.00  0.00  0.00  0.00  0.0  0.00  0.00\n",
       "2   0.0  0.0  0.87  0.00  0.0  0.00  0.00  0.50  0.00  0.0  0.00  0.00\n",
       "3   0.0  0.0  0.00  0.50  0.0  0.00  0.00  0.00  0.87  0.0  0.00  0.00\n",
       "4   0.0  0.0  0.00  0.00  0.0  0.00  0.00  0.00  0.00  1.0  0.00  0.00\n",
       "5   0.0  0.0  0.00  0.00  0.0 -0.50  0.00  0.00  0.00  0.0  0.87  0.00\n",
       "6   0.0  0.0  0.00  0.00  0.0  0.00 -0.87  0.00  0.00  0.0  0.00  0.50\n",
       "7   0.0  0.0 -0.50 -0.00 -0.0 -0.00 -0.00  0.87  0.00  0.0  0.00  0.00\n",
       "8   0.0  0.0 -0.00 -0.87 -0.0 -0.00 -0.00  0.00  0.50  0.0  0.00  0.00\n",
       "9   0.0  0.0 -0.00 -0.00 -1.0 -0.00 -0.00  0.00  0.00  0.0  0.00  0.00\n",
       "10  0.0  0.0 -0.00 -0.00 -0.0 -0.87 -0.00  0.00  0.00  0.0 -0.50  0.00\n",
       "11  0.0  0.0 -0.00 -0.00 -0.0 -0.00 -0.50  0.00  0.00  0.0  0.00 -0.87"
      ]
     },
     "execution_count": 28,
     "metadata": {},
     "output_type": "execute_result"
    }
   ],
   "source": [
    "pd.DataFrame(np.round(mod['F'], 2))"
   ]
  },
  {
   "cell_type": "code",
   "execution_count": 34,
   "metadata": {
    "execution": {
     "iopub.execute_input": "2023-12-22T20:10:56.936689Z",
     "iopub.status.busy": "2023-12-22T20:10:56.935905Z",
     "iopub.status.idle": "2023-12-22T20:10:56.947918Z",
     "shell.execute_reply": "2023-12-22T20:10:56.945434Z",
     "shell.execute_reply.started": "2023-12-22T20:10:56.936615Z"
    }
   },
   "outputs": [],
   "source": [
    "fitted_trans = mod['fitted'].ravel()\n",
    "if use_boxcox:\n",
    "    fitted_trans = inv_boxcox(fitted_trans, mod['optim_params'][0])    "
   ]
  },
  {
   "cell_type": "code",
   "execution_count": 35,
   "metadata": {
    "execution": {
     "iopub.execute_input": "2023-12-22T20:11:16.008935Z",
     "iopub.status.busy": "2023-12-22T20:11:16.007511Z",
     "iopub.status.idle": "2023-12-22T20:11:16.016028Z",
     "shell.execute_reply": "2023-12-22T20:11:16.014800Z",
     "shell.execute_reply.started": "2023-12-22T20:11:16.008872Z"
    }
   },
   "outputs": [],
   "source": [
    "h = 24\n",
    "fcst = tbats_forecast(mod, h)\n",
    "forecast = fcst['mean']\n",
    "if use_boxcox:\n",
    "    forecast = inv_boxcox(forecast,  mod['optim_params'][0])"
   ]
  },
  {
   "cell_type": "code",
   "execution_count": 36,
   "metadata": {
    "execution": {
     "iopub.execute_input": "2023-12-22T20:11:16.861617Z",
     "iopub.status.busy": "2023-12-22T20:11:16.860043Z",
     "iopub.status.idle": "2023-12-22T20:11:17.125324Z",
     "shell.execute_reply": "2023-12-22T20:11:17.124627Z",
     "shell.execute_reply.started": "2023-12-22T20:11:16.861533Z"
    }
   },
   "outputs": [
    {
     "data": {
      "text/plain": [
       "<matplotlib.legend.Legend at 0x7f7538f4c430>"
      ]
     },
     "execution_count": 36,
     "metadata": {},
     "output_type": "execute_result"
    },
    {
     "data": {
      "image/png": "[encoded data removed]",
      "text/plain": [
       "<Figure size 2000x700 with 1 Axes>"
      ]
     },
     "metadata": {},
     "output_type": "display_data"
    }
   ],
   "source": [
    "fig, ax = plt.subplots(1, 1, figsize = (20,7))\n",
    "plt.plot(np.arange(0, len(y)), y, color='black', label='original')\n",
    "plt.plot(np.arange(0, len(y)), fitted_trans, color='blue', label = \"fitted\")\n",
    "plt.plot(np.arange(len(y), len(y)+h), forecast, '.-', color = 'green', label = 'fcst')\n",
    "plt.legend()"
   ]
  },
  {
   "cell_type": "code",
   "execution_count": null,
   "metadata": {
    "execution": {
     "iopub.status.busy": "2023-12-22T20:10:22.313072Z",
     "iopub.status.idle": "2023-12-22T20:10:22.314458Z",
     "shell.execute_reply": "2023-12-22T20:10:22.313811Z",
     "shell.execute_reply.started": "2023-12-22T20:10:22.313751Z"
    }
   },
   "outputs": [],
   "source": [
    "# This should be the model with a damped trend, but there is no trend! In R you can see the trend. \n",
    "# Also, this implementation breaks when use_damped_trend = False "
   ]
  }
 ],
 "metadata": {
  "kernelspec": {
   "display_name": "Python 3 (ipykernel)",
   "language": "python",
   "name": "python3"
  },
  "language_info": {
   "codemirror_mode": {
    "name": "ipython",
    "version": 3
   },
   "file_extension": ".py",
   "mimetype": "text/x-python",
   "name": "python",
   "nbconvert_exporter": "python",
   "pygments_lexer": "ipython3",
   "version": "3.10.13"
  }
 },
 "nbformat": 4,
 "nbformat_minor": 4
}
