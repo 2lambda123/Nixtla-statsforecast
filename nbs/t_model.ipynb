{
 "cells": [
  {
   "cell_type": "code",
   "execution_count": 1,
   "metadata": {},
   "outputs": [],
   "source": [
    "import numpy as np\n",
    "import pandas as pd \n",
    "import statsmodels.api as sm \n",
    "from scipy.optimize import minimize_scalar, minimize"
   ]
  },
  {
   "attachments": {},
   "cell_type": "markdown",
   "metadata": {},
   "source": [
    "## Load data"
   ]
  },
  {
   "cell_type": "code",
   "execution_count": 2,
   "metadata": {},
   "outputs": [
    {
     "name": "stderr",
     "output_type": "stream",
     "text": [
      "/Users/marianamenchero/Documents/statsforecast/statsforecast/core.py:24: TqdmWarning: IProgress not found. Please update jupyter and ipywidgets. See https://ipywidgets.readthedocs.io/en/stable/user_install.html\n",
      "  from tqdm.autonotebook import tqdm\n"
     ]
    }
   ],
   "source": [
    "# Load data \n",
    "\n",
    "# Airpassengers\n",
    "from statsforecast.utils import AirPassengers as ap \n",
    "\n",
    "# Electricity consumption \n",
    "import pandas as pd \n",
    "elec_df = pd.read_csv('tbats.files/PJMW_hourly.csv')\n",
    "elec = elec_df['PJMW_MW']\n",
    "elec = elec[0:(24*7*2+1)]\n",
    "elec = np.array(elec)\n",
    "\n",
    "# Calls \n",
    "calls_df = pd.read_csv('tbats.files/calls_data.csv')\n",
    "calls = calls_df['calls']\n",
    "calls = calls[-2001:]\n",
    "calls = np.array(calls) "
   ]
  },
  {
   "attachments": {},
   "cell_type": "markdown",
   "metadata": {},
   "source": [
    "## Box Cox parameter "
   ]
  },
  {
   "cell_type": "code",
   "execution_count": 3,
   "metadata": {},
   "outputs": [],
   "source": [
    "def guer_cv(lam, x, season_length): \n",
    "   \n",
    "   \"\"\"Minimize this function to find the optimal parameter for the Box-Cox transformation\"\"\"\n",
    "   \n",
    "   period = np.round(np.max(season_length)) \n",
    "   n = len(x) \n",
    "   nyears = int(np.floor(n/period))\n",
    "   nobs = np.floor(nyears*period)\n",
    "   m = int(n-nobs)\n",
    "   xmat = x[m:n].reshape((nyears, period))\n",
    "\n",
    "   xmean = np.nanmean(xmat, axis=1)\n",
    "   xsd = np.nanstd(xmat, axis=1)\n",
    "   xrat = xsd/(xmean**(1-lam))\n",
    "   \n",
    "   return np.nanstd(xrat)/np.nanmean(xrat)\n"
   ]
  },
  {
   "cell_type": "code",
   "execution_count": 4,
   "metadata": {},
   "outputs": [],
   "source": [
    "def guerrero(x, season_length, lower=-1, upper=2): \n",
    "    \n",
    "    \"\"\"Finds optimal paramater for Box-Cox transformation using Guerrero's method\"\"\"\n",
    "    \n",
    "    if np.any(x < 0): \n",
    "        raise ValueError(\"Guerrero's method for selecting a Box-Cox parameter (lambda) is for strictly positive data\")\n",
    "    \n",
    "    max_freq = np.max(season_length)\n",
    "    if len(x) <= 2*max_freq: \n",
    "        res = 1\n",
    "    else: \n",
    "        lam = 0 # initial guess \n",
    "        opt = minimize_scalar(guer_cv, lam, args = (x, season_length), method = 'bounded', bounds = (lower, upper))\n",
    "        res = opt.x\n",
    "\n",
    "    return res"
   ]
  },
  {
   "cell_type": "code",
   "execution_count": 5,
   "metadata": {},
   "outputs": [
    {
     "name": "stdout",
     "output_type": "stream",
     "text": [
      "-0.2947229671935735\n",
      "-0.9999965176267451\n",
      "-0.9999965176267451\n"
     ]
    }
   ],
   "source": [
    "print(guerrero(ap, np.array([12])))\n",
    "print(guerrero(elec, np.array([24, 24*7])))\n",
    "print(guerrero(calls, np.array([169, 169*5])))\n",
    "\n",
    "# Results in R: \n",
    "# -0.2947156\n",
    "# -0.9999242\n",
    "# -0.9999242\n"
   ]
  },
  {
   "attachments": {},
   "cell_type": "markdown",
   "metadata": {},
   "source": [
    "## Box Cox transformation"
   ]
  },
  {
   "cell_type": "code",
   "execution_count": 6,
   "metadata": {},
   "outputs": [],
   "source": [
    "def BoxCox(x, BoxCox_lambda): \n",
    "    \n",
    "    \"\"\"Applies the Box-Cox transformation with parameter BoxCox_lambda\"\"\"\n",
    "    \n",
    "    if BoxCox_lambda == 0: \n",
    "        w = np.log(x)\n",
    "    else: \n",
    "        w = np.sign(x)*((np.abs(x)**BoxCox_lambda)-1)\n",
    "        w = w/BoxCox_lambda\n",
    "        \n",
    "    return w"
   ]
  },
  {
   "cell_type": "code",
   "execution_count": 7,
   "metadata": {},
   "outputs": [
    {
     "name": "stdout",
     "output_type": "stream",
     "text": [
      "392.3815136503149\n",
      "336.9430776103611\n",
      "1987.4733584199282\n"
     ]
    }
   ],
   "source": [
    "ap_trans = BoxCox(ap, guerrero(ap, np.array([12])))\n",
    "elec_trans = BoxCox(elec, guerrero(elec, np.array([24, 24*7])))\n",
    "calls_trans = BoxCox(calls, guerrero(calls, np.array([169, 169*5])))\n",
    "\n",
    "print(np.sum(ap_trans))\n",
    "print(np.sum(elec_trans))\n",
    "print(np.sum(calls_trans))\n",
    "\n",
    "# Results in R\n",
    "# 392.3874\n",
    "# 336.9674\n",
    "# 1987.612"
   ]
  },
  {
   "cell_type": "code",
   "execution_count": 8,
   "metadata": {},
   "outputs": [],
   "source": [
    "def InvBoxCox(w, BoxCox_lambda): \n",
    "    \n",
    "    \"\"\"Inverts Box-Cox transformation with parameter BoxCox_lambda\"\"\"\n",
    "    \n",
    "    if BoxCox_lambda == 0: \n",
    "        x = np.exp(w) \n",
    "    else: \n",
    "        sign = np.sign(BoxCox_lambda*w+1)\n",
    "        x = np.abs(BoxCox_lambda*w+1)**(1/BoxCox_lambda)\n",
    "        x = sign*x\n",
    "        \n",
    "    return x "
   ]
  },
  {
   "cell_type": "code",
   "execution_count": 9,
   "metadata": {},
   "outputs": [
    {
     "name": "stdout",
     "output_type": "stream",
     "text": [
      "40363.0\n",
      "1973874.0000000233\n",
      "375810.00000000006\n"
     ]
    }
   ],
   "source": [
    "ap_inv = InvBoxCox(ap_trans, guerrero(ap, np.array([12])))\n",
    "elec_inv = InvBoxCox(elec_trans, guerrero(elec, np.array([24, 24*7])))\n",
    "calls_inv = InvBoxCox(calls_trans, guerrero(calls, np.array([169, 169*5])))\n",
    "\n",
    "print(np.sum(ap_inv))\n",
    "print(np.sum(elec_inv))\n",
    "print(np.sum(calls_inv))\n",
    "\n",
    "# Results in R\n",
    "# 40363\n",
    "# 1973874\n",
    "# 375810"
   ]
  },
  {
   "attachments": {},
   "cell_type": "markdown",
   "metadata": {},
   "source": [
    "## Initial parameters                   "
   ]
  },
  {
   "cell_type": "code",
   "execution_count": 10,
   "metadata": {},
   "outputs": [],
   "source": [
    "def starting_params(season_length, k_vector, use_trend, use_damped_trend, ar_coeffs, ma_coeffs): \n",
    "    \n",
    "    alpha = 0.09\n",
    "\n",
    "    if use_trend: \n",
    "        beta = 0.05 \n",
    "        if use_damped_trend: \n",
    "            phi = 0.999 \n",
    "        else: \n",
    "            phi = 1 \n",
    "    else: \n",
    "        beta = None \n",
    "        phi = None \n",
    "        \n",
    "    if season_length is not None: \n",
    "        gamma_one_v = np.zeros((len(season_length),))\n",
    "        gamma_two_v = np.zeros((len(season_length),)) \n",
    "    else: \n",
    "        gamma_one_v = None \n",
    "        gamma_two_v = None \n",
    "        \n",
    "    res = {\n",
    "        'alpha': alpha,\n",
    "        'gamma_one_v': gamma_one_v,\n",
    "        'gamma_two_v': gamma_two_v,\n",
    "        'beta': beta,\n",
    "        'phi': phi\n",
    "    }\n",
    "\n",
    "    return res"
   ]
  },
  {
   "cell_type": "code",
   "execution_count": 11,
   "metadata": {},
   "outputs": [],
   "source": [
    "def aux_params(season_length, k_vector, use_trend, ar_coeffs, ma_coeffs): \n",
    "\n",
    "    if use_trend: \n",
    "        adjBeta = 1 \n",
    "        b = 0.0\n",
    "    else: \n",
    "        adjBeta = 0 \n",
    "        b = None \n",
    "        \n",
    "    if season_length is not None: \n",
    "        s_vector = np.zeros((np.nansum(k_vector)*2,))\n",
    "    else: \n",
    "        s_vector = None\n",
    "\n",
    "    if ar_coeffs is not None: \n",
    "        d_vector = np.zeros((len(ar_coeffs),)) \n",
    "    else: \n",
    "        d_vector = None\n",
    "        \n",
    "    if ma_coeffs is not None: \n",
    "        epsilon_vector = np.zeros((len(ma_coeffs),)) \n",
    "    else: \n",
    "        epsilon_vector = None \n",
    "\n",
    "    res = {\n",
    "        'adjBeta': adjBeta,\n",
    "        'b': b,\n",
    "        's_vector': s_vector,\n",
    "        'd_vector': d_vector,\n",
    "        'epsilon_vector': epsilon_vector,\n",
    "    }\n",
    "\n",
    "    return res"
   ]
  },
  {
   "attachments": {},
   "cell_type": "markdown",
   "metadata": {},
   "source": [
    "## Functions "
   ]
  },
  {
   "attachments": {},
   "cell_type": "markdown",
   "metadata": {},
   "source": [
    "### findPQ"
   ]
  },
  {
   "cell_type": "code",
   "execution_count": 12,
   "metadata": {},
   "outputs": [],
   "source": [
    "def findPQ(ar_coeffs, ma_coeffs): \n",
    "    \n",
    "    \"\"\"Find the length of the AR coefficients (p) and the length of the MA coefficients (q)\"\"\"\n",
    "    \n",
    "    if ar_coeffs is not None: \n",
    "        p = len(ar_coeffs) \n",
    "    else: \n",
    "        p = 0 \n",
    "    if ma_coeffs is not None: \n",
    "        q = len(ma_coeffs) \n",
    "    else: \n",
    "        q = 0 \n",
    "    return p, q"
   ]
  },
  {
   "attachments": {},
   "cell_type": "markdown",
   "metadata": {},
   "source": [
    "### makeXMatrix"
   ]
  },
  {
   "cell_type": "code",
   "execution_count": 13,
   "metadata": {},
   "outputs": [],
   "source": [
    "def makeXMatrix(b, s_vector, d_vector, epsilon_vector): \n",
    "    x = np.array([0.0])\n",
    "    if b is not None: \n",
    "        x = np.append(x, b)\n",
    "    if s_vector is not None: \n",
    "        x = np.concatenate((x, s_vector))\n",
    "    if d_vector is not None: \n",
    "        x = np.concatenate((x, d_vector)) \n",
    "    if epsilon_vector is not None: \n",
    "        x = np.concatenate((x, epsilon_vector))\n",
    "    \n",
    "    return x "
   ]
  },
  {
   "attachments": {},
   "cell_type": "markdown",
   "metadata": {},
   "source": [
    "### makeTBATSWMatrix"
   ]
  },
  {
   "cell_type": "code",
   "execution_count": 14,
   "metadata": {},
   "outputs": [],
   "source": [
    "def makeTBATSWMatrix(phi, k_vector, ar_coeffs, ma_coeffs, tau): \n",
    "    p, q = findPQ(ar_coeffs, ma_coeffs) \n",
    "\n",
    "    adjPhi = 0 \n",
    "    numSeasonal = 0 \n",
    "    numCols = 1\n",
    "\n",
    "    if phi is not None: \n",
    "        adjPhi = 1 \n",
    "        numCols += 1\n",
    "    if k_vector is not None: \n",
    "        numSeasonal += len(k_vector) \n",
    "        numCols += tau \n",
    "    if ar_coeffs is not None: \n",
    "        numCols += p\n",
    "    if ma_coeffs is not None: \n",
    "        numCols += q\n",
    "\n",
    "    w_transpose = np.zeros((1, numCols))\n",
    "\n",
    "    if k_vector is not None: \n",
    "        position = adjPhi \n",
    "        for s in range(numSeasonal):\n",
    "            for j in range(position+1, position+k_vector[s]+1): \n",
    "                w_transpose[0,j] = 1 \n",
    "            position = position+(2*k_vector[s])\n",
    "\n",
    "    w_transpose[0,0] = 1\n",
    "\n",
    "    if adjPhi == 1: \n",
    "        w_transpose[0,1] = phi\n",
    "\n",
    "    if ar_coeffs is not None: \n",
    "        for i in range(1,p+1): \n",
    "            w_transpose[0,adjPhi+tau+i] = ar_coeffs[i-1]\n",
    "\n",
    "    if ma_coeffs is not None: \n",
    "        for i in range(1,q+1): \n",
    "            w_transpose[0,adjPhi+tau+p+i] = ma_coeffs[i-1] \n",
    "\n",
    "    w = np.transpose(w_transpose) \n",
    "\n",
    "    return w_transpose, w "
   ]
  },
  {
   "attachments": {},
   "cell_type": "markdown",
   "metadata": {},
   "source": [
    "### updateTBATSGammaBold "
   ]
  },
  {
   "cell_type": "code",
   "execution_count": 15,
   "metadata": {},
   "outputs": [],
   "source": [
    "def updateTBATSGammaBold(gamma_bold, k_vector, gamma_one_v, gamma_two_v): \n",
    "    endPos = 0 \n",
    "    numK = len(k_vector) \n",
    "\n",
    "    for i in range(numK):\n",
    "        gamma_bold[0, endPos:endPos+k_vector[i]] = gamma_one_v[i]\n",
    "        gamma_bold[0, endPos+k_vector[i]:endPos+2*k_vector[i]] = gamma_two_v[i]\n",
    "        endPos += 2*k_vector[i]\n",
    "\n",
    "    return gamma_bold"
   ]
  },
  {
   "attachments": {},
   "cell_type": "markdown",
   "metadata": {},
   "source": [
    "### updateTBATSGMatrix "
   ]
  },
  {
   "cell_type": "code",
   "execution_count": 16,
   "metadata": {},
   "outputs": [],
   "source": [
    "def updateTBATSGMatrix(g, gamma_bold, alpha, beta): \n",
    "    adjust_Beta = 0\n",
    "\n",
    "    if alpha is not None:\n",
    "        g[0, 0] = alpha\n",
    "\n",
    "    if beta is not None:\n",
    "        g[1, 0] = beta\n",
    "        adjust_Beta = 1\n",
    "\n",
    "    if gamma_bold is not None:\n",
    "        g[adjust_Beta+1:adjust_Beta+gamma_bold.shape[1]+1,0] = np.transpose(gamma_bold).reshape((gamma_bold.shape[1],))\n",
    "   \n",
    "    return g "
   ]
  },
  {
   "attachments": {},
   "cell_type": "markdown",
   "metadata": {},
   "source": [
    "### makeTBATSFMatrix"
   ]
  },
  {
   "cell_type": "code",
   "execution_count": 17,
   "metadata": {},
   "outputs": [],
   "source": [
    "def makeAIMatrix(C, S, ks): \n",
    "    Ai = np.zeros((ks*2,ks*2))\n",
    "    Ai[0:ks, 0:ks] = C \n",
    "    Ai[0:ks, ks:ks*2] = S \n",
    "    Ai[ks:ks*2, 0:ks] = -1*S\n",
    "    Ai[ks:ks*2, ks:ks*2] = C \n",
    "    return Ai"
   ]
  },
  {
   "cell_type": "code",
   "execution_count": 18,
   "metadata": {},
   "outputs": [],
   "source": [
    "def makeTBATSFMatrix(alpha, beta, phi, seasonal_periods, k_vector, gamma_bold, ar_coeffs, ma_coeffs): \n",
    "\n",
    "    p, q = findPQ(ar_coeffs, ma_coeffs) \n",
    "\n",
    "    # 1. Alpha row\n",
    "    F = np.array([[1.0]])\n",
    "    if beta is not None:\n",
    "        F = np.concatenate((F, np.array([phi]).reshape(1,1)), axis = 1)\n",
    "    if seasonal_periods is not None: \n",
    "        tau_v = 2*np.nansum(k_vector)\n",
    "        zero_tau = np.zeros(tau_v,).reshape(1, tau_v)\n",
    "        F = np.concatenate((F, zero_tau), axis = 1) \n",
    "    if ar_coeffs is not None: \n",
    "        alpha_phi = alpha*ar_coeffs\n",
    "        alpha_phi = alpha_phi.reshape(F.shape[0], alpha_phi.shape[0]) \n",
    "        F = np.concatenate((F, alpha_phi), axis = 1)\n",
    "    if ma_coeffs is not None: \n",
    "        alpha_theta = alpha*ma_coeffs\n",
    "        alpha_theta = alpha_theta.reshape(F.shape[0], alpha_theta.shape[0]) \n",
    "        F = np.concatenate((F, alpha_theta), axis = 1)\n",
    "\n",
    "    # 2. Beta row \n",
    "    if beta is not None: \n",
    "        beta_row = np.array([[0, phi]]) \n",
    "        if seasonal_periods is not None: \n",
    "            beta_row = np.concatenate((beta_row, zero_tau), axis = 1)\n",
    "        if ar_coeffs is not None: \n",
    "            beta_phi = beta*ar_coeffs \n",
    "            beta_phi = beta_phi.reshape(beta_row.shape[0], beta_phi.shape[0])\n",
    "            beta_row = np.concatenate((beta_row, beta_phi), axis = 1) \n",
    "        if ma_coeffs is not None: \n",
    "            beta_theta = beta*ma_coeffs \n",
    "            beta_theta = beta_theta.reshape(beta_row.shape[0], beta_theta.shape[0]) \n",
    "            beta_row = np.concatenate((beta_row, beta_theta), axis = 1)\n",
    "        F = np.concatenate((F, beta_row), axis = 0)\n",
    "    \n",
    "    # 3. Seasonal row \n",
    "    if seasonal_periods is not None: \n",
    "        seasonal_row = np.transpose(zero_tau)\n",
    "        if beta is not None: \n",
    "            seasonal_row = np.concatenate((seasonal_row, seasonal_row), axis = 1)\n",
    "\n",
    "        # Make A matrix \n",
    "        A = np.zeros((tau_v, tau_v))\n",
    "        last_pos = 0 \n",
    "        for i in range(len(k_vector)): \n",
    "            ks = k_vector[i] \n",
    "            ms = seasonal_periods[i]\n",
    "            if seasonal_periods[i] != 2:\n",
    "                C = np.zeros((ks,ks))\n",
    "                for j in range(1,ks+1): \n",
    "                    l = (2*np.pi*j)/ms \n",
    "                    C[(j-1),(j-1)] = np.cos(l)\n",
    "            else: \n",
    "                C = np.zeros((1,1))\n",
    "            S = np.zeros((ks,ks))\n",
    "            for j in range(1,ks+1): \n",
    "                l = (2*np.pi*j)/ms \n",
    "                S[(j-1),(j-1)] = np.sin(l)\n",
    "            Ai = makeAIMatrix(C, S, ks)         \n",
    "            A[last_pos:(last_pos+2*k_vector[i]), last_pos:(last_pos+2*k_vector[i])] = Ai \n",
    "            last_pos = last_pos+(2*k_vector[i])\n",
    "\n",
    "        seasonal_row = np.concatenate((seasonal_row, A), axis = 1)\n",
    "    \n",
    "        if ar_coeffs is not None: \n",
    "            B = np.outer(gamma_bold, ar_coeffs)\n",
    "            seasonal_row = np.concatenate((seasonal_row, B), axis = 1)\n",
    "        if ma_coeffs is not None: \n",
    "            C = np.outer(gamma_bold, ma_coeffs) \n",
    "            seasonal_row = np.concatenate((seasonal_row, C), axis = 1) \n",
    "\n",
    "        F = np.concatenate((F, seasonal_row), axis = 0)\n",
    "\n",
    "    # 4. AR rows \n",
    "    if ar_coeffs is not None: \n",
    "        p = len(ar_coeffs) \n",
    "        ar_rows = np.zeros((p, 1)) \n",
    "        if beta is not None: \n",
    "            ar_rows = np.concatenate((ar_rows, ar_rows), axis = 1) \n",
    "        if seasonal_periods is not None: \n",
    "            ar_seasonal_zeros = np.zeros((p, tau_v))\n",
    "            ar_rows = np.concatenate((ar_rows, ar_seasonal_zeros), axis = 1) \n",
    "        ident = np.eye(p-1) \n",
    "        ident = np.concatenate((ident, np.zeros((p-1, 1))), axis = 1) \n",
    "        ar_part = np.concatenate((ar_coeffs.reshape(1, ar_coeffs.shape[0]), ident), axis = 0)\n",
    "        ar_rows = np.concatenate((ar_rows, ar_part), axis = 1)\n",
    "        if ma_coeffs is not None: \n",
    "            q = len(ma_coeffs)\n",
    "            ma_in_ar = np.zeros((p, q)) \n",
    "            ma_in_ar[0,:] = ma_coeffs \n",
    "            ar_rows = np.concatenate((ar_rows, ma_in_ar), axis = 1)\n",
    "        F = np.concatenate((F, ar_rows), axis = 0)\n",
    "\n",
    "    # 5. MA rows \n",
    "    if ma_coeffs is not None: \n",
    "        q = len(ma_coeffs) \n",
    "        ma_rows = np.zeros((q, 1)) \n",
    "        if beta is not None: \n",
    "            ma_rows = np.concatenate((ma_rows, ma_rows), axis = 1)\n",
    "        if seasonal_periods is not None: \n",
    "            ma_seasonal = np.zeros((q, tau_v))\n",
    "            ma_rows = np.concatenate((ma_rows, ma_seasonal), axis = 1) \n",
    "        if ar_coeffs is not None: \n",
    "            ar_in_ma = np.zeros((q, p)) \n",
    "            ma_rows = np.concatenate((ma_rows, ar_in_ma), axis = 1) \n",
    "        ident = np.eye(q-1)\n",
    "        ident = np.concatenate((ident, np.zeros((q-1, 1))), axis = 1) \n",
    "        ma_part = np.concatenate((np.zeros((1,q)), ident), axis = 0) \n",
    "        ma_rows = np.concatenate((ma_rows, ma_part), axis = 1) \n",
    "        F = np.concatenate((F, ma_rows), axis = 0)\n",
    "\n",
    "    return F \n",
    "    "
   ]
  },
  {
   "attachments": {},
   "cell_type": "markdown",
   "metadata": {},
   "source": [
    "### calcTBATSFaster"
   ]
  },
  {
   "cell_type": "code",
   "execution_count": 19,
   "metadata": {},
   "outputs": [],
   "source": [
    "def calcTBATSFaster(y_trans, w_transpose, g, F, x_nought): \n",
    "\n",
    "    n = y_trans.shape[0] \n",
    "    dimF = F.shape[0] \n",
    "    \n",
    "    yhat = np.zeros((1,n)) # fitted values \n",
    "    e = np.zeros((1,n)) # residuals \n",
    "    x = np.zeros((len(x_nought),n)) # unoserved state vectors x_t \n",
    "\n",
    "    yhat[0,0] = np.dot(w_transpose, x_nought).reshape(())\n",
    "    e[0,0] = y_trans[0]-yhat[0,0] \n",
    "    x[:,0] = np.dot(F, x_nought)+(g*e[0,0]).reshape((dimF,))\n",
    "\n",
    "    for t in range(1,n): \n",
    "        yhat[:, t] = np.dot(w_transpose, x[:, (t-1)])\n",
    "        e[0,t] = y_trans[t]-yhat[0,t]\n",
    "        x[:,t] = np.dot(F,x[:,(t-1)].reshape((dimF,1))+g*e[0,t]).reshape((dimF,))\n",
    "        \n",
    "    return yhat, e, x"
   ]
  },
  {
   "attachments": {},
   "cell_type": "markdown",
   "metadata": {},
   "source": [
    "### extract_params "
   ]
  },
  {
   "cell_type": "code",
   "execution_count": 20,
   "metadata": {},
   "outputs": [],
   "source": [
    "def extract_params(params_vec, use_boxcox, use_trend, use_damped_trend, use_arma_errors, season_length, p, q): \n",
    "\n",
    "    if use_boxcox: \n",
    "        BoxCox_lambda = params_vec[0]\n",
    "        alpha = params_vec[1]\n",
    "        index = 2 \n",
    "    else: \n",
    "        BoxCox_lambda = None\n",
    "        alpha = params_vec[0]\n",
    "        index = 1\n",
    "\n",
    "    gamma_one_v = params_vec[index:index+len(season_length)]\n",
    "    gamma_two_v = params_vec[index+len(season_length):index+2*len(season_length)]\n",
    "\n",
    "    if use_trend and use_damped_trend and use_arma_errors: \n",
    "        beta = params_vec[index+2*len(season_length)]\n",
    "        phi = params_vec[index+2*len(season_length)+1]\n",
    "        ar_coeffs = params_vec[index+2*len(season_length)+2:index+2*len(season_length)+2+p]\n",
    "        ma_coeffs = params_vec[index+2*len(season_length)+2+p:index+2*len(season_length)+2+p+q]\n",
    "\n",
    "    if use_trend and use_damped_trend and (not use_arma_errors): \n",
    "        beta = params_vec[index+2*len(season_length)]\n",
    "        phi = params_vec[index+2*len(season_length)+1]\n",
    "        ar_coeffs = None \n",
    "        ma_coeffs = None \n",
    "\n",
    "    if use_trend and (not use_damped_trend) and use_arma_errors:\n",
    "        beta = params_vec[index+2*len(season_length)]\n",
    "        phi = None\n",
    "        ar_coeffs = params_vec[index+2*len(season_length)+1:index+2*len(season_length)+1+p]\n",
    "        ma_coeffs = params_vec[index+2*len(season_length)+1+p:index+2*len(season_length)+1+p+q]\n",
    "\n",
    "    if use_trend and (not use_damped_trend) and (not use_arma_errors):\n",
    "        beta = params_vec[index+2*len(season_length)]\n",
    "        phi = None\n",
    "        ar_coeffs = None\n",
    "        ma_coeffs = None\n",
    "\n",
    "    if (not use_trend) and (not use_damped_trend) and use_arma_errors:\n",
    "        beta = None\n",
    "        phi = None\n",
    "        ar_coeffs = params_vec[index+2*len(season_length):index+2*len(season_length)+p]\n",
    "        ma_coeffs = params_vec[index+2*len(season_length)+p:index+2*len(season_length)+p+q]\n",
    "\n",
    "    if (not use_trend) and (not use_damped_trend) and (not use_arma_errors):\n",
    "        beta = None\n",
    "        phi = None\n",
    "        ar_coeffs = None\n",
    "        ma_coeffs = None\n",
    "\n",
    "    return BoxCox_lambda, alpha, gamma_one_v, gamma_two_v, beta, phi, ar_coeffs, ma_coeffs"
   ]
  },
  {
   "attachments": {},
   "cell_type": "markdown",
   "metadata": {},
   "source": [
    "### updateWtransposeMatrix"
   ]
  },
  {
   "cell_type": "code",
   "execution_count": 21,
   "metadata": {},
   "outputs": [],
   "source": [
    "def updateWtransposeMatrix(w_transpose, phi, tau, ar_coeffs, ma_coeffs):\n",
    "    p, q = findPQ(ar_coeffs, ma_coeffs) \n",
    "    adjBeta = 0 \n",
    "    if phi is not None: \n",
    "        adjBeta = 1 \n",
    "        w_transpose[0,1] = phi \n",
    "    if p > 0: \n",
    "        for i in range(1,p+1): \n",
    "            w_transpose[0, adjBeta+tau+i] = ar_coeffs[i-1]\n",
    "        if q > 0: \n",
    "            for i in range(1,q+1): \n",
    "                w_transpose[0, adjBeta+tau+p+i] = ma_coeffs[i-1]\n",
    "    elif q > 0: \n",
    "        for i in range(1,q+1): \n",
    "            w_transpose[0, adjBeta+tau+i] = ma_coeffs[i-1]\n",
    "    \n",
    "    return w_transpose"
   ]
  },
  {
   "attachments": {},
   "cell_type": "markdown",
   "metadata": {},
   "source": [
    "### updateTBATSGammaBold"
   ]
  },
  {
   "cell_type": "code",
   "execution_count": 22,
   "metadata": {},
   "outputs": [],
   "source": [
    "def updateTBATSGammaBold(gamma_bold, k_vector, gamma_one_v, gamma_two_v): \n",
    "    endPos = 0 \n",
    "\n",
    "    for i in range(len(k_vector)): \n",
    "        for j in range(endPos, k_vector[i]+endPos):\n",
    "            gamma_bold[0,j] = gamma_one_v[i] \n",
    "        for j in range(k_vector[i]+endPos, 2*k_vector[i]+endPos): \n",
    "            gamma_bold[0,j] = gamma_two_v[i]\n",
    "        endPos += 2*k_vector[i] \n",
    "\n",
    "    return gamma_bold "
   ]
  },
  {
   "attachments": {},
   "cell_type": "markdown",
   "metadata": {},
   "source": [
    "### updateTBATSGMatrix "
   ]
  },
  {
   "cell_type": "code",
   "execution_count": 23,
   "metadata": {},
   "outputs": [],
   "source": [
    "def updateTBATSGMatrix(g, gamma_bold, alpha, beta): \n",
    "    adjust_beta = 0 \n",
    "    g[0,0] = alpha \n",
    "    if beta is not None: \n",
    "        g[1,0] = beta \n",
    "        adjust_beta = 1 \n",
    "    if gamma_bold is not None:  \n",
    "        g[adjust_beta+1:adjust_beta+1+gamma_bold.shape[1], 0] = np.transpose(gamma_bold).reshape((gamma_bold.shape[1],))\n",
    "    return g "
   ]
  },
  {
   "attachments": {},
   "cell_type": "markdown",
   "metadata": {},
   "source": [
    "### updateFMatrix "
   ]
  },
  {
   "cell_type": "code",
   "execution_count": 24,
   "metadata": {},
   "outputs": [],
   "source": [
    "def updateFMatrix(F, phi, alpha, beta, gamma_bold, ar_coeffs, ma_coeffs, tau):\n",
    "    if beta is not None: \n",
    "        F[0,1] = phi \n",
    "        F[1,1] = phi \n",
    "        betaAdjust = 1\n",
    "    else: \n",
    "        betaAdjust = 0 \n",
    "    p, q = findPQ(ar_coeffs, ma_coeffs)\n",
    "    if ar_coeffs is not None:\n",
    "        F[0, betaAdjust+tau+1:betaAdjust+tau+1+p] = alpha*ar_coeffs\n",
    "        if betaAdjust == 1:  \n",
    "            F[1, betaAdjust+tau+1:betaAdjust+tau+1+p] = beta*ar_coeffs \n",
    "        if tau > 0: \n",
    "            B = np.dot(gamma_bold.reshape((gamma_bold.shape[1],1)), ar_coeffs.reshape((1,ar_coeffs.shape[0])))\n",
    "            F[1+betaAdjust:betaAdjust+tau+1, betaAdjust+tau+1:betaAdjust+tau+p+1] = B \n",
    "        F[betaAdjust+tau+1, betaAdjust+tau+1:betaAdjust+tau+p+1] = ar_coeffs \n",
    "    if ma_coeffs is not None: \n",
    "        F[0, betaAdjust+tau+p+1:betaAdjust+tau+p+q+1] = alpha*ma_coeffs \n",
    "        if betaAdjust == 1:  \n",
    "            F[1, betaAdjust+tau+p+1:betaAdjust+tau+p+q+1] = beta*ma_coeffs\n",
    "        if tau > 0: \n",
    "            C = np.dot(gamma_bold.reshape((gamma_bold.shape[1],1)),ma_coeffs.reshape((1,ma_coeffs.shape[0]))) \n",
    "            F[1+betaAdjust:betaAdjust+tau+1, betaAdjust+tau+p+1:betaAdjust+tau+p+q+1] = C \n",
    "        if ar_coeffs is not None: \n",
    "            F[betaAdjust+tau+1,(betaAdjust+tau+p+1):(betaAdjust+tau+p+q+1)] = ma_coeffs \n",
    "\n",
    "    return F "
   ]
  },
  {
   "attachments": {},
   "cell_type": "markdown",
   "metadata": {},
   "source": [
    "### checkAdmissibility"
   ]
  },
  {
   "cell_type": "code",
   "execution_count": 25,
   "metadata": {},
   "outputs": [],
   "source": [
    "def checkAdmissibility(BoxCox_lambda, bc_lower_bound, bc_upper_bound, phi, ar_coeffs, ma_coeffs, D): \n",
    "    if BoxCox_lambda is not None: \n",
    "        if (BoxCox_lambda <= bc_lower_bound) or (BoxCox_lambda >= bc_upper_bound): \n",
    "            return False \n",
    "\n",
    "    if phi is not None: \n",
    "        if (phi < 0.8) or (phi > 1): \n",
    "            return False \n",
    "        \n",
    "    if ar_coeffs is not None:\n",
    "        arlags = np.where(np.abs(ar_coeffs) > 1e-08)[0]\n",
    "        if len(arlags) > 0:\n",
    "            p = max(arlags)\n",
    "            if np.min(np.abs(np.roots([1] + [-i for i in ar_coeffs[:p]]))) < 1 + 1e-2:\n",
    "                return False\n",
    "\n",
    "    if ma_coeffs is not None:\n",
    "        malags = np.where(np.abs(ma_coeffs) > 1e-08)[0]\n",
    "        if len(malags) > 0:\n",
    "            q = max(malags)\n",
    "            if np.min(np.abs(np.roots([1] + ma_coeffs[:q]))) < 1 + 1e-2:\n",
    "                return False\n",
    "  \n",
    "    D_eigen_values = np.linalg.eigvals(D)\n",
    "    return np.all(np.abs(D_eigen_values) < 1+1e-2)"
   ]
  },
  {
   "attachments": {},
   "cell_type": "markdown",
   "metadata": {},
   "source": [
    "### calcLikelihoodTBATS"
   ]
  },
  {
   "cell_type": "code",
   "execution_count": 26,
   "metadata": {},
   "outputs": [],
   "source": [
    "def calcLikelihoodTBATS(params_vec, use_boxcox, lower, upper, use_trend, use_damped_trend, use_arma_errors, y_trans, season_length, k_vector, tau, p, q, w_transpose, gamma_bold, g, F, x_nought): \n",
    "    \n",
    "    # Extract parameters \n",
    "    BoxCox_lambda, alpha, gamma_one_v, gamma_two_v, beta, phi, ar_coeffs, ma_coeffs = extract_params(params_vec, use_boxcox, use_trend, use_damped_trend, use_arma_errors, season_length, p, q)\n",
    "\n",
    "    w_transpose = updateWtransposeMatrix(w_transpose, phi, tau, ar_coeffs, ma_coeffs) \n",
    "    gamma_bold = updateTBATSGammaBold(gamma_bold, k_vector, gamma_one_v, gamma_two_v)\n",
    "    g = updateTBATSGMatrix(g, gamma_bold, alpha, beta)\n",
    "    F = updateFMatrix(F, phi, alpha, beta, gamma_bold, ar_coeffs, ma_coeffs, tau)\n",
    "    \n",
    "    _, e, x = calcTBATSFaster(y_trans, w_transpose, g, F, x_nought)\n",
    "    \n",
    "    if use_boxcox: \n",
    "        log_likelihood = len(y_trans)*np.log(np.nansum(e**2))-2*(BoxCox_lambda-1)*np.nansum(np.log(y_trans)) \n",
    "    else: \n",
    "        log_likelihood = len(y_trans)*np.log(np.nansum(e**2))\n",
    "\n",
    "    D = F-np.dot(g, w_transpose)\n",
    "\n",
    "    if checkAdmissibility(BoxCox_lambda, lower, upper, phi, ar_coeffs, ma_coeffs, D): \n",
    "        return log_likelihood \n",
    "    else: \n",
    "        return 10**20"
   ]
  },
  {
   "attachments": {},
   "cell_type": "markdown",
   "metadata": {},
   "source": [
    "## Main "
   ]
  },
  {
   "cell_type": "code",
   "execution_count": 55,
   "metadata": {},
   "outputs": [],
   "source": [
    "y = ap\n",
    "season_length = np.array([12])\n",
    "\n",
    "use_boxcox = True\n",
    "lower = 0\n",
    "upper = 1.5\n",
    "use_trend = True\n",
    "use_damped_trend = True\n",
    "use_arma_errors = False "
   ]
  },
  {
   "cell_type": "code",
   "execution_count": 56,
   "metadata": {},
   "outputs": [],
   "source": [
    "# TBATS model \n",
    "\n",
    "season_length = np.sort(season_length)\n",
    "k_vector = np.full((len(season_length),), fill_value = 1) \n",
    "\n",
    "# Check if there are missing values \n",
    "indices = np.where(np.isnan(y))[0]\n",
    "if len(indices) > 0: \n",
    "    max_index = indices[-1]\n",
    "    y = y[max_index+1:len(y)]\n",
    "\n",
    "# Check if there are negative values \n",
    "if np.any(y < 0): \n",
    "    use_boxcox = False \n",
    "\n",
    "# Box-Cox transformation \n",
    "if use_boxcox:\n",
    "    BoxCox_lambda = guerrero(y, season_length, lower, upper) \n",
    "    y_trans = BoxCox(y, BoxCox_lambda) \n",
    "else: \n",
    "    BoxCox_lambda = None\n",
    "    y_trans = y.copy()\n",
    "\n",
    "#  ---------- First model (No ARMA errors) ----------\n",
    "ar_coeffs = None \n",
    "ma_coeffs = None \n",
    "\n",
    "params = starting_params(season_length, k_vector, use_trend, use_damped_trend, ar_coeffs, ma_coeffs)\n",
    "params['BoxCox_lambda'] = BoxCox_lambda\n",
    "params['ar_coeffs'] = ar_coeffs\n",
    "params['ma_coeffs'] = ma_coeffs\n",
    "\n",
    "vals = aux_params(season_length, k_vector, use_trend, ar_coeffs, ma_coeffs)\n",
    "\n",
    "# model_generator(y_trans, use_boxcox, use_trend, use_damped_trend, season_length, k_vector, params, vals)\n"
   ]
  },
  {
   "cell_type": "code",
   "execution_count": 57,
   "metadata": {},
   "outputs": [
    {
     "data": {
      "text/plain": [
       "{'alpha': 0.09,\n",
       " 'gamma_one_v': array([0.]),\n",
       " 'gamma_two_v': array([0.]),\n",
       " 'beta': 0.05,\n",
       " 'phi': 0.999,\n",
       " 'BoxCox_lambda': 5.526022037850897e-06,\n",
       " 'ar_coeffs': None,\n",
       " 'ma_coeffs': None}"
      ]
     },
     "execution_count": 57,
     "metadata": {},
     "output_type": "execute_result"
    }
   ],
   "source": [
    "params "
   ]
  },
  {
   "attachments": {},
   "cell_type": "markdown",
   "metadata": {},
   "source": [
    "### Model generator "
   ]
  },
  {
   "cell_type": "code",
   "execution_count": 58,
   "metadata": {},
   "outputs": [],
   "source": [
    "# Model generator\n",
    "if season_length is not None: \n",
    "    tau = 2*sum(k_vector) \n",
    "    tau = tau.astype('int')\n",
    "else: \n",
    "    tau = 0\n",
    "\n",
    "x_nought = makeXMatrix(vals['b'], vals['s_vector'], vals['d_vector'], vals['epsilon_vector'])\n",
    "num_seed_states = len(x_nought)\n",
    "\n",
    "# w \n",
    "w_transpose, _ = makeTBATSWMatrix(params['phi'], k_vector, params['ar_coeffs'], params['ma_coeffs'], tau)\n",
    "\n",
    "# gamma_bold \n",
    "if season_length is not None: \n",
    "    gamma_bold = np.zeros((1, 2*np.nansum(k_vector)))\n",
    "    gamma_bold = updateTBATSGammaBold(gamma_bold, k_vector, params['gamma_one_v'], params['gamma_two_v'])\n",
    "else: \n",
    "    gamma_bold = None  \n",
    "\n",
    "p, q = findPQ(params['ar_coeffs'], params['ma_coeffs'])\n",
    "\n",
    "# g \n",
    "g = np.zeros((2*np.nansum(k_vector)+1+vals['adjBeta']+p+q, 1)) \n",
    "if p != 0: \n",
    "    g[(vals['adjBeta']+tau+1),0] = 1 \n",
    "if q != 0: \n",
    "    g[(vals['adjBeta']+tau+p+1),0] = 1\n",
    "g = updateTBATSGMatrix(g, gamma_bold, params['alpha'], params['beta'])\n",
    "\n",
    "# F \n",
    "F = makeTBATSFMatrix(params['alpha'], params['beta'], params['phi'], season_length, k_vector, gamma_bold, params['ar_coeffs'], params['ma_coeffs']) \n",
    "\n",
    "# D \n",
    "D = F-np.dot(g, w_transpose)\n"
   ]
  },
  {
   "cell_type": "code",
   "execution_count": 59,
   "metadata": {},
   "outputs": [
    {
     "name": "stdout",
     "output_type": "stream",
     "text": [
      "[[ 0.91       0.90909   -0.09       0.       ]\n",
      " [-0.05       0.94905   -0.05       0.       ]\n",
      " [ 0.         0.         0.8660254  0.5      ]\n",
      " [ 0.         0.        -0.5        0.8660254]]\n",
      "(4, 4)\n",
      "4.310190807568877\n",
      "[0.86      1.85814   0.2260254 1.3660254]\n",
      "[1.72909   0.84905   1.3660254 0.3660254]\n"
     ]
    }
   ],
   "source": [
    "print(D)\n",
    "print(D.shape)\n",
    "print(np.sum(D))\n",
    "print(np.sum(D, axis = 0))\n",
    "print(np.sum(D, axis = 1))"
   ]
  },
  {
   "cell_type": "code",
   "execution_count": 60,
   "metadata": {},
   "outputs": [],
   "source": [
    "yhat, e, x = calcTBATSFaster(y_trans, w_transpose, g, F, x_nought)"
   ]
  },
  {
   "cell_type": "code",
   "execution_count": 61,
   "metadata": {},
   "outputs": [
    {
     "name": "stdout",
     "output_type": "stream",
     "text": [
      "797.996030157249\n",
      "0.08960597071022125\n",
      "804.2255105896488\n"
     ]
    }
   ],
   "source": [
    "print(np.sum(yhat))\n",
    "print(np.sum(e))\n",
    "print(np.sum(x))"
   ]
  },
  {
   "cell_type": "code",
   "execution_count": 62,
   "metadata": {},
   "outputs": [],
   "source": [
    "w_tilda_transpose = np.zeros((len(y_trans), w_transpose.shape[1]))\n",
    "w_tilda_transpose[0,:] = w_transpose \n",
    "\n",
    "for k in range(1, w_tilda_transpose.shape[0]): \n",
    "    w_tilda_transpose[k,:] = np.dot(w_tilda_transpose[k-1,:], D)\n",
    "\n",
    "if p != 0 or q!= 0: \n",
    "    end_cut = w_tilda_transpose.shape[1] \n",
    "    start_cut = end_cut-(p+q)\n",
    "    cols = np.arange(0, w_tilda_transpose.shape[1], 1)\n",
    "    new_cols = np.delete(cols, np.arange(start_cut, end_cut, 1))\n",
    "    w_tilda_transpose = w_tilda_transpose[:, new_cols]\n",
    "\n",
    "model = sm.OLS(e.reshape((e.shape[1],1)), w_tilda_transpose).fit()\n",
    "x_nought = model.params\n",
    "\n",
    "if (p != 0 or q != 0):\n",
    "    arma_seed_states = np.zeros((p+q,))\n",
    "    x_nought = np.concatenate((x_nought, arma_seed_states))"
   ]
  },
  {
   "cell_type": "code",
   "execution_count": 63,
   "metadata": {},
   "outputs": [
    {
     "data": {
      "text/plain": [
       "array([ 3.97266942, -0.01848245, -0.12434706,  0.06784968])"
      ]
     },
     "execution_count": 63,
     "metadata": {},
     "output_type": "execute_result"
    }
   ],
   "source": [
    "model.params "
   ]
  },
  {
   "cell_type": "code",
   "execution_count": 64,
   "metadata": {},
   "outputs": [
    {
     "data": {
      "text/plain": [
       "array([[ 3.97266942, -0.01848245, -0.12434706,  0.06784968]])"
      ]
     },
     "execution_count": 64,
     "metadata": {},
     "output_type": "execute_result"
    }
   ],
   "source": [
    "# This generates the same result as above \n",
    "from sklearn.linear_model import LinearRegression\n",
    "\n",
    "linear_regression = LinearRegression(fit_intercept=False)\n",
    "coefs = linear_regression.fit(w_tilda_transpose, e.reshape((e.shape[1],1))).coef_\n",
    "coefs "
   ]
  },
  {
   "cell_type": "code",
   "execution_count": 65,
   "metadata": {},
   "outputs": [
    {
     "data": {
      "text/plain": [
       "array([ 3.97266942, -0.01848245, -0.12434706,  0.06784968])"
      ]
     },
     "execution_count": 65,
     "metadata": {},
     "output_type": "execute_result"
    }
   ],
   "source": [
    "x_nought "
   ]
  },
  {
   "cell_type": "code",
   "execution_count": 66,
   "metadata": {},
   "outputs": [],
   "source": [
    "# Optimization \n",
    "if use_boxcox: \n",
    "    params_vec = np.array([params['BoxCox_lambda'], params['alpha']])\n",
    "else: \n",
    "    params_vec = np.array([params['alpha']])\n",
    "params_vec = np.hstack((params_vec, params['gamma_one_v'], params['gamma_two_v']))\n",
    "if use_trend: \n",
    "    params_vec = np.hstack((params_vec, params['beta']))\n",
    "if use_damped_trend: \n",
    "    params_vec = np.hstack((params_vec, params['phi']))\n",
    "if ar_coeffs is not None: \n",
    "    params_vec = np.hstack((params_vec, params['ar_coeffs']))\n",
    "if ma_coeffs is not None:\n",
    "    params_vec = np.hstack((params_vec, params['ma_coeffs']))\n"
   ]
  },
  {
   "cell_type": "code",
   "execution_count": 67,
   "metadata": {},
   "outputs": [
    {
     "data": {
      "text/plain": [
       "array([5.52602204e-06, 9.00000000e-02, 0.00000000e+00, 0.00000000e+00,\n",
       "       5.00000000e-02, 9.99000000e-01])"
      ]
     },
     "execution_count": 67,
     "metadata": {},
     "output_type": "execute_result"
    }
   ],
   "source": [
    "params_vec "
   ]
  },
  {
   "attachments": {},
   "cell_type": "markdown",
   "metadata": {},
   "source": [
    "### Optimization"
   ]
  },
  {
   "cell_type": "code",
   "execution_count": 68,
   "metadata": {},
   "outputs": [],
   "source": [
    "# optim_params = minimize(calcLikelihoodTBATS,\n",
    "#                         params_vec,\n",
    "#                         args = (use_boxcox, lower, upper, use_trend, use_damped_trend, use_arma_errors, y_trans, season_length, k_vector, tau, p, q, w_transpose, gamma_bold, g, F, x_nought), \n",
    "#                         method = 'Nelder-Mead',\n",
    "#                         options = {'maxiter': 2000, 'disp': False}\n",
    "#                         ).x"
   ]
  },
  {
   "cell_type": "code",
   "execution_count": 69,
   "metadata": {},
   "outputs": [],
   "source": [
    "optim_params = minimize(calcLikelihoodTBATS,\n",
    "                        params_vec,\n",
    "                        args = (use_boxcox, lower, upper, use_trend, use_damped_trend, use_arma_errors, y_trans, season_length, k_vector, tau, p, q, w_transpose, gamma_bold, g, F, x_nought)\n",
    "                        ).x"
   ]
  },
  {
   "cell_type": "code",
   "execution_count": 70,
   "metadata": {},
   "outputs": [],
   "source": [
    "optim_BoxCox_lambda, optim_alpha, optim_gamma_one_v, optim_gamma_two_v, optim_beta, optim_phi, optim_ar_coeffs, optim_ma_coeffs = extract_params(optim_params, use_boxcox, use_trend, use_damped_trend, use_arma_errors, season_length, p, q)\n"
   ]
  },
  {
   "cell_type": "code",
   "execution_count": 71,
   "metadata": {},
   "outputs": [
    {
     "name": "stdout",
     "output_type": "stream",
     "text": [
      "Optimal Box-Cox lambda:  0.1620769204516143\n",
      "Optimal alpha:  0.1576430385045225\n",
      "Optimal gamma one vector:  [-0.01624938]\n",
      "Optimal gamma two vector:  [-0.00868101]\n",
      "Optimal beta:  0.05130967079710276\n",
      "Optimal phi:  0.9654190388206612\n",
      "Optimal AR coefficients:  None\n",
      "Optimal MA coefficients:  None\n"
     ]
    }
   ],
   "source": [
    "print('Optimal Box-Cox lambda: ', optim_BoxCox_lambda)\n",
    "print('Optimal alpha: ', optim_alpha)\n",
    "print('Optimal gamma one vector: ', optim_gamma_one_v)\n",
    "print('Optimal gamma two vector: ', optim_gamma_two_v)\n",
    "print('Optimal beta: ', optim_beta)\n",
    "print('Optimal phi: ', optim_phi)\n",
    "print('Optimal AR coefficients: ', optim_ar_coeffs)\n",
    "print('Optimal MA coefficients: ', optim_ma_coeffs)"
   ]
  },
  {
   "cell_type": "code",
   "execution_count": 72,
   "metadata": {},
   "outputs": [],
   "source": [
    "new_w_transpose, _ = makeTBATSWMatrix(optim_phi, k_vector, optim_ar_coeffs, optim_ma_coeffs, tau)\n",
    "new_gamma_bold = updateTBATSGammaBold(gamma_bold, k_vector, optim_gamma_one_v, optim_gamma_two_v)\n",
    "new_g = updateTBATSGMatrix(g, new_gamma_bold, optim_alpha, optim_beta)\n",
    "new_F = updateFMatrix(F, optim_phi, optim_alpha, optim_beta, new_gamma_bold, optim_ar_coeffs, optim_ma_coeffs, tau)\n",
    "\n",
    "fitted, errors, x = calcTBATSFaster(y_trans, new_w_transpose, new_g, new_F, x_nought)"
   ]
  },
  {
   "cell_type": "code",
   "execution_count": 73,
   "metadata": {},
   "outputs": [],
   "source": [
    "# Calculate log-likelihood \n",
    "if use_boxcox: \n",
    "    log_likelihood = len(y_trans)*np.log(np.nansum(errors**2))-2*(BoxCox_lambda-1)*np.nansum(np.log(y)) \n",
    "else: \n",
    "    log_likelihood = len(y_trans)*np.log(np.nansum(errors**2))"
   ]
  },
  {
   "cell_type": "code",
   "execution_count": 74,
   "metadata": {},
   "outputs": [
    {
     "data": {
      "text/plain": [
       "1763.5644545855328"
      ]
     },
     "execution_count": 74,
     "metadata": {},
     "output_type": "execute_result"
    }
   ],
   "source": [
    "log_likelihood"
   ]
  },
  {
   "cell_type": "code",
   "execution_count": null,
   "metadata": {},
   "outputs": [],
   "source": []
  },
  {
   "cell_type": "code",
   "execution_count": null,
   "metadata": {},
   "outputs": [],
   "source": []
  },
  {
   "attachments": {},
   "cell_type": "markdown",
   "metadata": {},
   "source": [
    "## TBATS Python library"
   ]
  },
  {
   "cell_type": "code",
   "execution_count": 68,
   "metadata": {},
   "outputs": [],
   "source": [
    "from tbats import TBATS\n",
    "\n",
    "estimator = TBATS(seasonal_periods = [12])"
   ]
  },
  {
   "cell_type": "code",
   "execution_count": 69,
   "metadata": {},
   "outputs": [],
   "source": [
    "fitted_model = estimator.fit(ap)"
   ]
  },
  {
   "cell_type": "code",
   "execution_count": 70,
   "metadata": {},
   "outputs": [
    {
     "name": "stdout",
     "output_type": "stream",
     "text": [
      "Use Box-Cox: True\n",
      "Use trend: True\n",
      "Use damped trend: False\n",
      "Seasonal periods: [12.]\n",
      "Seasonal harmonics [5]\n",
      "ARMA errors (p, q): (0, 0)\n",
      "Box-Cox Lambda 0.000000\n",
      "Smoothing (Alpha): 0.762786\n",
      "Trend (Beta): 0.035132\n",
      "Damping Parameter (Phi): 1.000000\n",
      "Seasonal Parameters (Gamma): [-2.67397734e-07  6.91466869e-08]\n",
      "AR coefficients []\n",
      "MA coefficients []\n",
      "Seed vector [ 4.81003417 -0.00858031 -0.14832239  0.05633621 -0.00904648  0.01081748\n",
      "  0.00562992  0.02727922  0.05868876 -0.02752747 -0.03212159 -0.02132667]\n",
      "\n",
      "AIC 1399.553947\n"
     ]
    }
   ],
   "source": [
    "print(fitted_model.summary())"
   ]
  },
  {
   "cell_type": "code",
   "execution_count": 80,
   "metadata": {},
   "outputs": [
    {
     "name": "stdout",
     "output_type": "stream",
     "text": [
      "[-1.06541975e-08 -2.13083950e-08  3.00000000e+00  4.00000000e+00]\n"
     ]
    }
   ],
   "source": [
    "# Example optimization \n",
    "def f(x):\n",
    "    return x[0]**2 + x[1]**2\n",
    "\n",
    "x0 = np.array([1.0, 2.0, 3.0, 4.0])\n",
    "result = minimize(f, x0, method='BFGS')\n",
    "print(result.x)"
   ]
  }
 ],
 "metadata": {
  "kernelspec": {
   "display_name": "Python 3",
   "language": "python",
   "name": "python3"
  },
  "language_info": {
   "codemirror_mode": {
    "name": "ipython",
    "version": 3
   },
   "file_extension": ".py",
   "mimetype": "text/x-python",
   "name": "python",
   "nbconvert_exporter": "python",
   "pygments_lexer": "ipython3",
   "version": "3.10.11"
  },
  "orig_nbformat": 4
 },
 "nbformat": 4,
 "nbformat_minor": 2
}
