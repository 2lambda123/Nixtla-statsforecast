{
 "cells": [
  {
   "attachments": {},
   "cell_type": "markdown",
   "metadata": {},
   "source": [
    "<a class=\"anchor\" id=\"0.1\"></a>\n",
    "# **Table of Contents** \n",
    "\n",
    "\n",
    "1.\t[Introduction](#1)\n",
    "2.\t[Exponential smoothing](#2)\n",
    "3.\t[Estimating ETS models](#3)\n",
    "4.\t[Model selection](#4)\n",
    "5.\t[Installing Statsforecast](#5)\n",
    "6.\t[Loading libraries and data](#6)\n",
    "7.\t[Explore Data with the plot method](#7)\n",
    "8.\t[Split the data into training and testing](#8)\n",
    "9.\t[Implementation of AutoETS with StatsForecast](#9)\n",
    "10.\t[Accuracy Metrics for Time Series Forecast](#10)\n",
    "11. [References](#11)"
   ]
  },
  {
   "attachments": {},
   "cell_type": "markdown",
   "metadata": {},
   "source": [
    "# **1. Introduction** <a class=\"anchor\" id=\"1\"></a>\n",
    "\n",
    "[Table of Contents](#0.1)\n",
    "\n",
    "Automatic forecasts of large numbers of univariate time series are often needed in business. It is common to have over one thousand product lines that need forecasting at least monthly. Even when a smaller number of forecasts are required, there may be nobody suitably trained in the use of time series models to produce them. In these circumstances, an automatic forecasting algorithm is an essential tool. Automatic forecasting algorithms must determine an appropriate time series model, estimate the parameters and compute the forecasts. They must be robust to unusual time series patterns, and applicable to large numbers of series without user intervention. The most popular automatic forecasting algorithms are based on either exponential smoothing or ARIMA models.\n"
   ]
  },
  {
   "attachments": {},
   "cell_type": "markdown",
   "metadata": {},
   "source": [
    "# **2. Exponential smoothing** <a class=\"anchor\" id=\"2\"></a>\n",
    "\n",
    "[Table of Contents](#0.1)\n",
    "\n",
    "Although exponential smoothing methods have been around since the 1950s, a modelling framework incorporating procedures for model selection was not developed until relatively recently. `Ord, Koehler`, and `Snyder (1997), Hyndman, Koehler, Snyder, and Grose (2002)` and `Hyndman, Koehler, Ord`, and `Snyder (2005b)` have shown that all exponential smoothing methods (including non-linear methods) are optimal forecasts from innovations state space models.\n",
    "\n",
    "Exponential smoothing methods were originally classified by `Pegels’ (1969) taxonomy`. This was later extended by `Gardner (1985), modified by Hyndman et al. (2002)`, and extended again by `Taylor (2003)`, giving a total of fifteen methods seen in the following table.\n",
    "\n",
    "|    Trend Component |     Seasonal Component|\n",
    "|----------------|------------------| \n",
    "\n",
    "|Component|N(None))|A (Additive)|M (Multiplicative)|\n",
    "|---------------|--------|------------|------------------|\n",
    "|N (None)| (N,N) |(N,A) |(N,M)|\n",
    "|A (Additive)| (A,N)|  (A,A) |  (A,M)|\n",
    "|Ad (Additive damped)| (Ad,N)| (Ad,A)| (Ad,M)|\n",
    "|M (Multiplicative)| (M,N )| (M,A )| (M,M)|\n",
    "|Md (Multiplicative damped)| (Md,N )| ( Md,A)|  (Md,M)|\n",
    "\n",
    "\n",
    "Some of these methods are better known under other names. For example, cell `(N,N)` describes the **simple exponential smoothing (or SES) method**, cell `(A,N)` describes **Holt’s linear method**, and cell `(Ad,N)` describes **the damped trend method**. The **additive Holt-Winters’ method** is given by cell `(A,A)` and the **multiplicative Holt-Winters’ method** is given by cell `(A,M)`. The other cells correspond to less commonly used but analogous methods.\n",
    "\n",
    "\n",
    "  "
   ]
  },
  {
   "attachments": {},
   "cell_type": "markdown",
   "metadata": {},
   "source": [
    "## **2.1 Point forecasts for all methods**\n",
    "\n",
    "We denote the observed time series by $y_1,y_2,...,y_n$. A forecast of $y_{t+h}$ based on all of the data up to time $t$ is denoted by $\\hat y_{t+h|t}$. To illustrate the method, we give the point forecasts and updating equation for method `(A,A)`, the he Holt-Winters’ additive method:\n",
    "\n",
    "\\begin{align*}\n",
    "  Level: \\ell_{t} &= \\alpha(y_{t} - s_{t-m}) + (1 - \\alpha)(\\ell_{t-1} + b_{t-1}) \\tag{1a} \\\\\n",
    "  Growth: b_{t} &= \\beta^*(\\ell_{t} - \\ell_{t-1}) + (1 - \\beta^*)b_{t-1} \\tag{1b} \\\\\n",
    "  Seasonal: s_{t} &= \\gamma (y_{t}-\\ell_{t-1}-b_{t-1}) + (1-\\gamma)s_{t-m},\\tag{1c} \\\\\n",
    "  Forecast:\\hat{y}_{t+h|t} &= \\ell_{t} + hb_{t} + s_{t+h-m(k+1)} \\tag{1d} \\\\\n",
    "\\end{align*}\n",
    "\n",
    "where $m$ is the length of seasonality (e.g., the number of months or quarters in a year), $ \\ell_{t}$ represents the level of the series, $b_t$ denotes the growth, $s_t$ is the seasonal component, $\\hat y_{t+h|t}$ is the forecast for $h$ periods ahead, and $h_{m}^{+} = [(h − 1) mod \\ m] + 1$. To use method (1), we need values for the initial states $\\ell_{0}$, $b_0$ and $s_{1−m}, . . . , s_0$, and for the smoothing parameters $\\alpha, \\beta^{*}$ and $\\gamma$. All of these will be estimated from the observed data.\n",
    "\n",
    "Equation (1c) is slightly different from the usual Holt-Winters equations such as those in Makridakis et al. (1998) or Bowerman, O’Connell, and Koehler (2005). These authors replace (1c) with\n",
    "$$s_{t} = \\gamma^* (y_{t}-\\ell_{t})+ (1-\\gamma^*)s_{t-m}.$$\n",
    "\n",
    "If $\\ell_{t}$ is substituted using (1a), we obtain\n",
    "\n",
    "$$s_{t} = \\gamma^*(1-\\alpha) (y_{t}-\\ell_{t-1}-b_{t-1})+ [1-\\gamma^*(1-\\alpha)]s_{t-m},$$\n",
    "\n",
    "Thus, we obtain identical forecasts using this approach by replacing $\\gamma$ in (1c) with $\\gamma^{*} (1-\\alpha) $. The modification given in (1c) was proposed by Ord et al. (1997) to make the state space formulation simpler. It is equivalent to Archibald’s (1990) variation of the Holt-Winters’ method."
   ]
  },
  {
   "attachments": {},
   "cell_type": "markdown",
   "metadata": {},
   "source": [
    "## **2.2. Innovations state space models**\n",
    "\n",
    "For each exponential smoothing method in [Other ETS models](https://otexts.com/fpp3/ets.html) , Hyndman et al. (2008b) describe two possible innovations state space models, one corresponding to a model with additive errors and the other to a model with multiplicative errors. If the same parameter values are used, these two models give equivalent point forecasts, although different prediction intervals. Thus there are 30 potential models described in this classification.\n",
    "\n",
    "Historically, the nature of the error component has often been ignored, because the distinction between additive and multiplicative errors makes no difference to point forecasts.\n",
    "\n",
    "We are careful to distinguish exponential smoothing methods from the underlying state space models. An exponential smoothing method is an algorithm for producing point forecasts only. The underlying stochastic state space model gives the same point forecasts, but also provides a framework for computing prediction intervals and other properties.\n",
    "\n",
    "To distinguish the models with additive and multiplicative errors, we add an extra letter to the front of the method notation. The triplet `(E,T,S)` refers to the three components: error, trend and seasonality. So the model `ETS(A,A,N)` has additive errors, additive trend and no seasonality—in other words, this is Holt’s linear method with additive errors. Similarly, `ETS(M,Md,M)` refers to a model with multiplicative errors, a damped multiplicative trend and multiplicative seasonality. The notation `ETS(·,·,·)` helps in remembering the order in which the components are specified.\n",
    "\n",
    "Once a model is specified, we can study the probability distribution of future values of the series and find, for example, the conditional mean of a future observation given knowledge of the past. We denote this as $\\mu_{t+h|t} = E(y_{t+h | xt})$, where xt contains the unobserved components such as $\\ell_t$, $b_t$ and $s_t$. For $h = 1$ we use $\\mu_t ≡ \\mu_{t+1|t}$ as a shorthand notation. For many models, these conditional means will be identical to the point forecasts given in Table [Other ETS models](https://otexts.com/fpp3/ets.html), so that $\\mu_{t+h|t} = \\hat y_{t+h|t}$. However, for other models (those with multiplicative trend or multiplicative seasonality), the conditional mean and the point forecast will differ slightly for $h ≥ 2$.\n",
    "\n",
    "We illustrate these ideas using the damped trend method of Gardner and McKenzie (1985)."
   ]
  },
  {
   "attachments": {},
   "cell_type": "markdown",
   "metadata": {},
   "source": [
    "Each model consists of a measurement equation that describes the observed data, and some state equations that describe how the unobserved components or states (level, trend, seasonal) change over time. Hence, these are referred to as state space models.\n",
    "\n",
    "For each method there exist two models: one with additive errors and one with multiplicative errors. The point forecasts produced by the models are identical if they use the same smoothing parameter values. They will, however, generate different prediction intervals.\n",
    "\n",
    "To distinguish between a model with additive errors and one with multiplicative errors (and also to distinguish the models from the methods), we add a third letter to the classification of in the above Table. We label each state space model as `ETS(⋅,.,.)` for (Error, Trend, Seasonal). This label can also be thought of as ExponenTial Smoothing. Using the same notation as in the above Table, the possibilities for each component (or state) are: `Error ={ A,M }`, `Trend  ={N,A,Ad}` and `Seasonal  ={ N,A,M }`."
   ]
  },
  {
   "attachments": {},
   "cell_type": "markdown",
   "metadata": {},
   "source": [
    "### **ETS(A,N,N): simple exponential smoothing with additive errors**\n",
    "Recall the component form of simple exponential smoothing:\n",
    "\n",
    "\\begin{align*}\n",
    "  \\text{Forecast equation}  && \\hat{y}_{t+1|t} & = \\ell_{t}\\\\\n",
    "  \\text{Smoothing equation} && \\ell_{t}        & = \\alpha y_{t} + (1 - \\alpha)\\ell_{t-1}.\n",
    "\\end{align*}\n",
    "\n",
    "If we re-arrange the smoothing equation for the level, we get the “error correction” form,\n",
    "\n",
    "\\begin{align*}\n",
    "\\ell_{t} %&= \\alpha y_{t}+\\ell_{t-1}-\\alpha\\ell_{t-1}\\\\\n",
    "         &= \\ell_{t-1}+\\alpha( y_{t}-\\ell_{t-1})\\\\\n",
    "         &= \\ell_{t-1}+\\alpha e_{t},\n",
    "\\end{align*}\n",
    "\n",
    "where $e_{t}=y_{t}-\\ell_{t-1}=y_{t}-\\hat{y}_{t|t-1}$ s the residual at time $t$.\n",
    "\n",
    "The training data errors lead to the adjustment of the estimated level throughout the smoothing process for $t=1,\\dots,T$. For example, if the error at time $t$ is negative, then $y_t < \\hat{y}_{t|t-1}$ and so the level at time $t-1$ has been over-estimated. The new level $\\ell_{t}$ is then the previous level $\\ell_{t-1}$ adjusted downwards. The closer $\\alpha$ is to one, the “rougher” the estimate of the level (large adjustments take place). The smaller the $\\alpha$, the “smoother” the level (small adjustments take place).\n",
    "\n",
    "We can also write $y_t = \\ell_{t-1} + e_t$, so that each observation can be represented by the previous level plus an error. To make this into an innovations state space model, all we need to do is specify the probability distribution for $e_t$. For a model with additive errors, we assume that residuals (the one-step training errors) $e_t$ are normally distributed white noise with mean 0 and variance $\\sigma^2$. A short-hand notation for this is $e_t = \\varepsilon_t\\sim\\text{NID}(0,\\sigma^2)$; NID stands for “normally and independently distributed”.\n",
    "\n",
    "Then the equations of the model can be written as\n",
    "\n",
    "\\begin{align}\n",
    "  y_t &= \\ell_{t-1} + \\varepsilon_t \\tag{2}\\\\\n",
    "  \\ell_t&=\\ell_{t-1}+\\alpha \\varepsilon_t. \\tag{3}\n",
    "\\end{align}\n",
    "\n",
    "We refer to (2) as the measurement (or observation) equation and (3) as the state (or transition) equation. These two equations, together with the statistical distribution of the errors, form a fully specified statistical model. Specifically, these constitute an innovations state space model underlying simple exponential smoothing.\n",
    "\n",
    "The term “innovations” comes from the fact that all equations use the same random error process, $\\varepsilon_t$. For the same reason, this formulation is also referred to as a “single source of error” model. There are alternative multiple source of error formulations which we do not present here.\n",
    "\n",
    "The measurement equation shows the relationship between the observations and the unobserved states. In this case, observation $y_t$ is a linear function of the level $\\ell_{t-1}$, the predictable part of $y_t$, and the error $\\varepsilon_t$, the unpredictable part of $y_t$. For other innovations state space models, this relationship may be nonlinear.\n",
    "\n",
    "The state equation shows the evolution of the state through time. The influence of the smoothing parameter $\\alpha$ is the same as for the methods discussed earlier. For example, $\\alpha$ governs the amount of change in successive levels: high values of $\\alpha$ allow rapid changes in the level; low values of $\\alpha$ lead to smooth changes. If $\\alpha=0$, the level of the series does not change over time; if $\\alpha=1$, the model reduces to a random walk model, $y_t=y_{t-1}+\\varepsilon_t$.\n"
   ]
  },
  {
   "attachments": {},
   "cell_type": "markdown",
   "metadata": {},
   "source": [
    "### **ETS(M,N,N): simple exponential smoothing with multiplicative errors**\n",
    "\n",
    "In a similar fashion, we can specify models with multiplicative errors by writing the one-step-ahead training errors as relative errors\n",
    "\n",
    "$$\\varepsilon_t = \\frac{y_t-\\hat{y}_{t|t-1}}{\\hat{y}_{t|t-1}}$$\n",
    "\n",
    "where $\\varepsilon_t \\sim \\text{NID}(0,\\sigma^2)$. Substituting $\\hat{y}_{t|t-1}=\\ell_{t-1}$ gives $y_t = \\ell_{t-1}+\\ell_{t-1}\\varepsilon_t$ and $e_t = y_t - \\hat{y}_{t|t-1} = \\ell_{t-1}\\varepsilon_t$.\n",
    "\n",
    "Then we can write the multiplicative form of the state space model as\n",
    "\n",
    "\\begin{align*}\n",
    "  y_t&=\\ell_{t-1}(1+\\varepsilon_t)\\\\\n",
    "  \\ell_t&=\\ell_{t-1}(1+\\alpha \\varepsilon_t).\n",
    "\\end{align*}"
   ]
  },
  {
   "attachments": {},
   "cell_type": "markdown",
   "metadata": {},
   "source": [
    "### **ETS(A,A,N): Holt’s linear method with additive errors**\n",
    "For this model, we assume that the one-step-ahead training errors are given by \n",
    "\n",
    "$$\\varepsilon_t=y_t-\\ell_{t-1}-b_{t-1} \\sim \\text{NID}(0,\\sigma^2)$$\n",
    "\n",
    "Substituting this into the error correction equations for Holt’s linear method we obtain\n",
    "\n",
    "\\begin{align*}\n",
    "y_t&=\\ell_{t-1}+b_{t-1}+\\varepsilon_t\\\\\n",
    "\\ell_t&=\\ell_{t-1}+b_{t-1}+\\alpha \\varepsilon_t\\\\\n",
    "b_t&=b_{t-1}+\\beta \\varepsilon_t,\n",
    "\\end{align*}\n",
    "\n",
    "where for simplicity we have set $\\beta=\\alpha \\beta^*$."
   ]
  },
  {
   "attachments": {},
   "cell_type": "markdown",
   "metadata": {},
   "source": [
    "### **ETS(M,A,N): Holt’s linear method with multiplicative errors**\n",
    "\n",
    "Specifying one-step-ahead training errors as relative errors such that\n",
    "\n",
    "$$\\varepsilon_t=\\frac{y_t-(\\ell_{t-1}+b_{t-1})}{(\\ell_{t-1}+b_{t-1})}$$\n",
    "\n",
    "and following an approach similar to that used above, the innovations state space model underlying Holt’s linear method with multiplicative errors is specified as\n",
    "\n",
    "\\begin{align*}\n",
    "y_t&=(\\ell_{t-1}+b_{t-1})(1+\\varepsilon_t)\\\\\n",
    "\\ell_t&=(\\ell_{t-1}+b_{t-1})(1+\\alpha \\varepsilon_t)\\\\\n",
    "b_t&=b_{t-1}+\\beta(\\ell_{t-1}+b_{t-1}) \\varepsilon_t,\n",
    "\\end{align*}\n",
    "\n",
    "where again $\\beta=\\alpha \\beta^*$ and $\\varepsilon_t \\sim \\text{NID}(0,\\sigma^2)$."
   ]
  },
  {
   "attachments": {},
   "cell_type": "markdown",
   "metadata": {},
   "source": [
    "\n",
    "# **3. Estimating ETS models** <a class=\"anchor\" id=\"3\"></a>\n",
    "\n",
    "[Table of Contents](#0.1)\n",
    "\n",
    "An alternative to estimating the parameters by minimising the sum of squared errors is to maximise the “likelihood”. The likelihood is the probability of the data arising from the specified model. Thus, a large likelihood is associated with a good model. For an additive error model, maximising the likelihood (assuming normally distributed errors) gives the same results as minimising the sum of squared errors. However, different results will be obtained for multiplicative error models. In this section, we will estimate the smoothing parameters $\\alpha, \\beta, \\gamma$ and $\\phi$ and the initial states $\\ell_0, b_0, s_0,s_{-1},\\dots,s_{-m+1}$, by maximising the likelihood.\n",
    "\n",
    "The possible values that the smoothing parameters can take are restricted. Traditionally, the parameters have been constrained to lie between 0 and 1 so that the equations can be interpreted as weighted averages. That is, $0< \\alpha,\\beta^*,\\gamma^*,\\phi<1$. For the state space models, we have set $\\beta=\\alpha\\beta^*$ and $\\gamma=(1-\\alpha)\\gamma^*$. Therefore, the traditional restrictions translate to $0< \\alpha <1, 0 < \\beta < \\alpha$ and $0< \\gamma < 1-\\alpha$. In practice, the damping parameter $\\phi$ is usually constrained further to prevent numerical difficulties in estimating the model. \n",
    "\n",
    "Another way to view the parameters is through a consideration of the mathematical properties of the state space models. The parameters are constrained in order to prevent observations in the distant past having a continuing effect on current forecasts. This leads to some admissibility constraints on the parameters, which are usually (but not always) less restrictive than the traditional constraints region `(Hyndman et al., 2008, pp. 149–161)`. For example, for the `ETS(A,N,N)` model, the traditional parameter region is $0< \\alpha <1$ but the admissible region  is $0< \\alpha <2$. For the `ETS(A,A,N)` model, the traditional parameter region is $0<\\alpha<1$ and $0<\\beta<\\alpha$ but the admissible region is $0<\\alpha<2$ and $0<\\beta<4-2\\alpha$.\n"
   ]
  },
  {
   "attachments": {},
   "cell_type": "markdown",
   "metadata": {},
   "source": [
    "# **4. Model selection** <a class=\"anchor\" id=\"4\"></a>\n",
    "\n",
    "[Table of Contents](#0.1)\n",
    "\n",
    "A great advantage of the `ETS` statistical framework is that information criteria can be used for model selection. The `AIC, AIC_c` and `BIC`, can be used here to determine which of the `ETS` models is most appropriate for a given time series.\n",
    "\n",
    "For `ETS` models, Akaike’s Information Criterion (`AIC)` is defined as\n",
    "\n",
    "$$\\text{AIC} = -2\\log(L) + 2k,$$\n",
    "\n",
    "where $L$ is the likelihood of the model and $k$ is the total number of parameters and initial states that have been estimated (including the residual variance).\n",
    "\n",
    "The `AIC` corrected for small sample bias `(AIC_c)` is defined as\n",
    "\n",
    "\n",
    "$$AIC_c = AIC + \\frac{2k(k+1)}{T-k-1}$$\n",
    "\n",
    "and the Bayesian Information Criterion `(BIC)` is\n",
    "\n",
    "$$\\text{BIC} = \\text{AIC} + k[\\log(T)-2]$$\n",
    "\n",
    "Three of the combinations of (Error, Trend, Seasonal) can lead to numerical difficulties. Specifically, the models that can cause such instabilities are `ETS(A,N,M), ETS(A,A,M)`, and `ETS(A,Ad,M)`, due to division by values potentially close to zero in the state equations. We normally do not consider these particular combinations when selecting a model.\n",
    "\n",
    "Models with multiplicative errors are useful when the data are strictly positive, but are not numerically stable when the data contain zeros or negative values. Therefore, multiplicative error models will not be considered if the time series is not strictly positive. In that case, only the six fully additive models will be applied."
   ]
  },
  {
   "attachments": {},
   "cell_type": "markdown",
   "metadata": {},
   "source": [
    "# **5. Installing Statsforecast** <a class=\"anchor\" id=\"5\"></a>\n",
    "\n",
    "[Table of Contents](#0.1)\n",
    "\n",
    "* using pip:\n",
    "\n",
    "`pip install statsforecast`\n",
    "\n",
    "* using with conda:\n",
    "\n",
    "`conda install -c conda-forge statsforecast`"
   ]
  },
  {
   "attachments": {},
   "cell_type": "markdown",
   "metadata": {},
   "source": [
    "¡Warning!\n",
    "\n",
    "We are constantly updating StatsForecast, so we suggest fixing the version to avoid issues. \n",
    "\n",
    "`pip install statsforecast==\"1.0.0\"`"
   ]
  },
  {
   "attachments": {},
   "cell_type": "markdown",
   "metadata": {},
   "source": [
    "# **6. Loading libraries and data** <a class=\"anchor\" id=\"6\"></a>\n",
    "\n",
    "[Table of Contents](#0.1)"
   ]
  },
  {
   "cell_type": "code",
   "execution_count": 1,
   "metadata": {},
   "outputs": [],
   "source": [
    "# Handling and processing of Data\n",
    "# ==============================================================================\n",
    "import numpy as np\n",
    "import pandas as pd\n",
    "\n",
    "# Hide warnings\n",
    "# ==============================================================================\n",
    "from pylab import rcParams\n",
    "import warnings\n",
    "warnings.filterwarnings(\"ignore\")"
   ]
  },
  {
   "cell_type": "code",
   "execution_count": 2,
   "metadata": {},
   "outputs": [],
   "source": [
    "# Plot\n",
    "# ==============================================================================\n",
    "import matplotlib.pyplot as plt\n",
    "import matplotlib.ticker as ticker\n",
    "import seaborn as sns\n",
    "from statsmodels.graphics.tsaplots import plot_acf\n",
    "from statsmodels.graphics.tsaplots import plot_pacf\n",
    "import plotly.express as px\n",
    "import plotly.graph_objects as go\n",
    "plt.style.use('fivethirtyeight')\n",
    "plt.rcParams['lines.linewidth'] = 1.5\n",
    "dark_style = {\n",
    "    'figure.facecolor': '#212946',\n",
    "    'axes.facecolor': '#212946',\n",
    "    'savefig.facecolor':'#212946',\n",
    "    'axes.grid': True,\n",
    "    'axes.grid.which': 'both',\n",
    "    'axes.spines.left': False,\n",
    "    'axes.spines.right': False,\n",
    "    'axes.spines.top': False,\n",
    "    'axes.spines.bottom': False,\n",
    "    'grid.color': '#2A3459',\n",
    "    'grid.linewidth': '1',\n",
    "    'text.color': '0.9',\n",
    "    'axes.labelcolor': '0.9',\n",
    "    'xtick.color': '0.9',\n",
    "    'ytick.color': '0.9',\n",
    "    'font.size': 12 }\n",
    "plt.rcParams.update(dark_style)\n",
    "# Define the plot size\n",
    "# ==============================================================================\n",
    "from pylab import rcParams\n",
    "rcParams['figure.figsize'] = (18,7)\n"
   ]
  },
  {
   "attachments": {},
   "cell_type": "markdown",
   "metadata": {},
   "source": [
    "## Data"
   ]
  },
  {
   "cell_type": "code",
   "execution_count": 3,
   "metadata": {},
   "outputs": [
    {
     "data": {
      "text/html": [
       "<div>\n",
       "<style scoped>\n",
       "    .dataframe tbody tr th:only-of-type {\n",
       "        vertical-align: middle;\n",
       "    }\n",
       "\n",
       "    .dataframe tbody tr th {\n",
       "        vertical-align: top;\n",
       "    }\n",
       "\n",
       "    .dataframe thead th {\n",
       "        text-align: right;\n",
       "    }\n",
       "</style>\n",
       "<table border=\"1\" class=\"dataframe\">\n",
       "  <thead>\n",
       "    <tr style=\"text-align: right;\">\n",
       "      <th></th>\n",
       "      <th>year</th>\n",
       "      <th>value</th>\n",
       "    </tr>\n",
       "  </thead>\n",
       "  <tbody>\n",
       "    <tr>\n",
       "      <th>0</th>\n",
       "      <td>1960-01-01</td>\n",
       "      <td>69.123902</td>\n",
       "    </tr>\n",
       "    <tr>\n",
       "      <th>1</th>\n",
       "      <td>1961-01-01</td>\n",
       "      <td>69.760244</td>\n",
       "    </tr>\n",
       "    <tr>\n",
       "      <th>2</th>\n",
       "      <td>1962-01-01</td>\n",
       "      <td>69.149756</td>\n",
       "    </tr>\n",
       "    <tr>\n",
       "      <th>3</th>\n",
       "      <td>1963-01-01</td>\n",
       "      <td>69.248049</td>\n",
       "    </tr>\n",
       "    <tr>\n",
       "      <th>4</th>\n",
       "      <td>1964-01-01</td>\n",
       "      <td>70.311707</td>\n",
       "    </tr>\n",
       "  </tbody>\n",
       "</table>\n",
       "</div>"
      ],
      "text/plain": [
       "         year      value\n",
       "0  1960-01-01  69.123902\n",
       "1  1961-01-01  69.760244\n",
       "2  1962-01-01  69.149756\n",
       "3  1963-01-01  69.248049\n",
       "4  1964-01-01  70.311707"
      ]
     },
     "execution_count": 3,
     "metadata": {},
     "output_type": "execute_result"
    }
   ],
   "source": [
    "df = pd.read_csv(\"https://raw.githubusercontent.com/Naren8520/Serie-de-tiempo-con-Machine-Learning/main/Data/Esperanza_vida.csv\", usecols=[1,2])\n",
    "df.head()"
   ]
  },
  {
   "attachments": {},
   "cell_type": "markdown",
   "metadata": {},
   "source": [
    "The input to StatsForecast is always a data frame in long format with three columns: unique_id, ds and y:\n",
    "\n",
    "* The `unique_id` (string, int or category) represents an identifier for the series.\n",
    "\n",
    "* The `ds` (datestamp) column should be of a format expected by Pandas, ideally YYYY-MM-DD for a date or YYYY-MM-DD HH:MM:SS for a timestamp.\n",
    "\n",
    "* The `y` (numeric) represents the measurement we wish to forecast."
   ]
  },
  {
   "cell_type": "code",
   "execution_count": 4,
   "metadata": {},
   "outputs": [
    {
     "data": {
      "text/html": [
       "<div>\n",
       "<style scoped>\n",
       "    .dataframe tbody tr th:only-of-type {\n",
       "        vertical-align: middle;\n",
       "    }\n",
       "\n",
       "    .dataframe tbody tr th {\n",
       "        vertical-align: top;\n",
       "    }\n",
       "\n",
       "    .dataframe thead th {\n",
       "        text-align: right;\n",
       "    }\n",
       "</style>\n",
       "<table border=\"1\" class=\"dataframe\">\n",
       "  <thead>\n",
       "    <tr style=\"text-align: right;\">\n",
       "      <th></th>\n",
       "      <th>ds</th>\n",
       "      <th>y</th>\n",
       "      <th>unique_id</th>\n",
       "    </tr>\n",
       "  </thead>\n",
       "  <tbody>\n",
       "    <tr>\n",
       "      <th>0</th>\n",
       "      <td>1960-01-01</td>\n",
       "      <td>69.123902</td>\n",
       "      <td>1</td>\n",
       "    </tr>\n",
       "    <tr>\n",
       "      <th>1</th>\n",
       "      <td>1961-01-01</td>\n",
       "      <td>69.760244</td>\n",
       "      <td>1</td>\n",
       "    </tr>\n",
       "    <tr>\n",
       "      <th>2</th>\n",
       "      <td>1962-01-01</td>\n",
       "      <td>69.149756</td>\n",
       "      <td>1</td>\n",
       "    </tr>\n",
       "    <tr>\n",
       "      <th>3</th>\n",
       "      <td>1963-01-01</td>\n",
       "      <td>69.248049</td>\n",
       "      <td>1</td>\n",
       "    </tr>\n",
       "    <tr>\n",
       "      <th>4</th>\n",
       "      <td>1964-01-01</td>\n",
       "      <td>70.311707</td>\n",
       "      <td>1</td>\n",
       "    </tr>\n",
       "  </tbody>\n",
       "</table>\n",
       "</div>"
      ],
      "text/plain": [
       "           ds          y unique_id\n",
       "0  1960-01-01  69.123902         1\n",
       "1  1961-01-01  69.760244         1\n",
       "2  1962-01-01  69.149756         1\n",
       "3  1963-01-01  69.248049         1\n",
       "4  1964-01-01  70.311707         1"
      ]
     },
     "execution_count": 4,
     "metadata": {},
     "output_type": "execute_result"
    }
   ],
   "source": [
    "df[\"unique_id\"]=\"1\"\n",
    "df.columns=[\"ds\", \"y\", \"unique_id\"]\n",
    "df.head()"
   ]
  },
  {
   "attachments": {},
   "cell_type": "markdown",
   "metadata": {},
   "source": [
    "Now, let's now check the last few rows of our time series using the `.tail()` function."
   ]
  },
  {
   "cell_type": "code",
   "execution_count": 49,
   "metadata": {},
   "outputs": [
    {
     "data": {
      "text/html": [
       "<div>\n",
       "<style scoped>\n",
       "    .dataframe tbody tr th:only-of-type {\n",
       "        vertical-align: middle;\n",
       "    }\n",
       "\n",
       "    .dataframe tbody tr th {\n",
       "        vertical-align: top;\n",
       "    }\n",
       "\n",
       "    .dataframe thead th {\n",
       "        text-align: right;\n",
       "    }\n",
       "</style>\n",
       "<table border=\"1\" class=\"dataframe\">\n",
       "  <thead>\n",
       "    <tr style=\"text-align: right;\">\n",
       "      <th></th>\n",
       "      <th>ds</th>\n",
       "      <th>y</th>\n",
       "      <th>unique_id</th>\n",
       "    </tr>\n",
       "  </thead>\n",
       "  <tbody>\n",
       "    <tr>\n",
       "      <th>55</th>\n",
       "      <td>2015-01-01</td>\n",
       "      <td>82.543902</td>\n",
       "      <td>1</td>\n",
       "    </tr>\n",
       "    <tr>\n",
       "      <th>56</th>\n",
       "      <td>2016-01-01</td>\n",
       "      <td>83.243902</td>\n",
       "      <td>1</td>\n",
       "    </tr>\n",
       "    <tr>\n",
       "      <th>57</th>\n",
       "      <td>2017-01-01</td>\n",
       "      <td>82.946341</td>\n",
       "      <td>1</td>\n",
       "    </tr>\n",
       "    <tr>\n",
       "      <th>58</th>\n",
       "      <td>2018-01-01</td>\n",
       "      <td>83.346341</td>\n",
       "      <td>1</td>\n",
       "    </tr>\n",
       "    <tr>\n",
       "      <th>59</th>\n",
       "      <td>2019-01-01</td>\n",
       "      <td>83.197561</td>\n",
       "      <td>1</td>\n",
       "    </tr>\n",
       "  </tbody>\n",
       "</table>\n",
       "</div>"
      ],
      "text/plain": [
       "            ds          y unique_id\n",
       "55  2015-01-01  82.543902         1\n",
       "56  2016-01-01  83.243902         1\n",
       "57  2017-01-01  82.946341         1\n",
       "58  2018-01-01  83.346341         1\n",
       "59  2019-01-01  83.197561         1"
      ]
     },
     "execution_count": 49,
     "metadata": {},
     "output_type": "execute_result"
    }
   ],
   "source": [
    "df.tail()"
   ]
  },
  {
   "cell_type": "code",
   "execution_count": 6,
   "metadata": {},
   "outputs": [
    {
     "name": "stdout",
     "output_type": "stream",
     "text": [
      "<class 'pandas.core.frame.DataFrame'>\n",
      "RangeIndex: 60 entries, 0 to 59\n",
      "Data columns (total 3 columns):\n",
      " #   Column     Non-Null Count  Dtype  \n",
      "---  ------     --------------  -----  \n",
      " 0   ds         60 non-null     object \n",
      " 1   y          60 non-null     float64\n",
      " 2   unique_id  60 non-null     object \n",
      "dtypes: float64(1), object(2)\n",
      "memory usage: 1.5+ KB\n"
     ]
    }
   ],
   "source": [
    "df.info()"
   ]
  },
  {
   "attachments": {},
   "cell_type": "markdown",
   "metadata": {},
   "source": [
    "We can see that our time variable (ds) is in an object format, we need to convert to a date format"
   ]
  },
  {
   "cell_type": "code",
   "execution_count": 5,
   "metadata": {},
   "outputs": [],
   "source": [
    "# Convert to a datetime format\n",
    "from datetime import datetime\n",
    "df[\"ds\"] = pd.to_datetime(df[\"ds\"])"
   ]
  },
  {
   "attachments": {},
   "cell_type": "markdown",
   "metadata": {},
   "source": [
    "# **7. Explore Data with the plot method** <a class=\"anchor\" id=\"7\"></a>\n",
    "\n",
    "[Table of Contents](#0.1)"
   ]
  },
  {
   "cell_type": "code",
   "execution_count": 6,
   "metadata": {},
   "outputs": [
    {
     "data": {
      "application/vnd.plotly.v1+json": {
       "config": {
        "plotlyServerURL": "https://plot.ly"
       },
       "data": [
        {
         "legendgroup": "y",
         "line": {
          "color": "#1f77b4",
          "width": 1
         },
         "mode": "lines",
         "name": "y",
         "showlegend": true,
         "type": "scatter",
         "x": [
          "1960-01-01T00:00:00",
          "1961-01-01T00:00:00",
          "1962-01-01T00:00:00",
          "1963-01-01T00:00:00",
          "1964-01-01T00:00:00",
          "1965-01-01T00:00:00",
          "1966-01-01T00:00:00",
          "1967-01-01T00:00:00",
          "1968-01-01T00:00:00",
          "1969-01-01T00:00:00",
          "1970-01-01T00:00:00",
          "1971-01-01T00:00:00",
          "1972-01-01T00:00:00",
          "1973-01-01T00:00:00",
          "1974-01-01T00:00:00",
          "1975-01-01T00:00:00",
          "1976-01-01T00:00:00",
          "1977-01-01T00:00:00",
          "1978-01-01T00:00:00",
          "1979-01-01T00:00:00",
          "1980-01-01T00:00:00",
          "1981-01-01T00:00:00",
          "1982-01-01T00:00:00",
          "1983-01-01T00:00:00",
          "1984-01-01T00:00:00",
          "1985-01-01T00:00:00",
          "1986-01-01T00:00:00",
          "1987-01-01T00:00:00",
          "1988-01-01T00:00:00",
          "1989-01-01T00:00:00",
          "1990-01-01T00:00:00",
          "1991-01-01T00:00:00",
          "1992-01-01T00:00:00",
          "1993-01-01T00:00:00",
          "1994-01-01T00:00:00",
          "1995-01-01T00:00:00",
          "1996-01-01T00:00:00",
          "1997-01-01T00:00:00",
          "1998-01-01T00:00:00",
          "1999-01-01T00:00:00",
          "2000-01-01T00:00:00",
          "2001-01-01T00:00:00",
          "2002-01-01T00:00:00",
          "2003-01-01T00:00:00",
          "2004-01-01T00:00:00",
          "2005-01-01T00:00:00",
          "2006-01-01T00:00:00",
          "2007-01-01T00:00:00",
          "2008-01-01T00:00:00",
          "2009-01-01T00:00:00",
          "2010-01-01T00:00:00",
          "2011-01-01T00:00:00",
          "2012-01-01T00:00:00",
          "2013-01-01T00:00:00",
          "2014-01-01T00:00:00",
          "2015-01-01T00:00:00",
          "2016-01-01T00:00:00",
          "2017-01-01T00:00:00",
          "2018-01-01T00:00:00",
          "2019-01-01T00:00:00"
         ],
         "xaxis": "x",
         "y": [
          69.1239024390244,
          69.760243902439,
          69.149756097561,
          69.2480487804878,
          70.3117073170732,
          70.1717073170732,
          70.9260975609756,
          70.9565853658537,
          70.78,
          70.8119512195122,
          71.5587804878049,
          71.8068292682927,
          72.0753658536586,
          72.0263414634146,
          72.7343902439025,
          72.6473170731708,
          72.9919512195122,
          73.3646341463415,
          73.6931707317073,
          74.0026829268293,
          73.9431707317073,
          74.3539024390244,
          74.8146341463415,
          74.640243902439,
          75.389512195122,
          75.4707317073171,
          75.7707317073171,
          76.219512195122,
          76.3707317073171,
          76.819512195122,
          76.9707317073171,
          77.0195121951219,
          77.419512195122,
          77.7219512195122,
          77.9219512195122,
          78.1707317073171,
          78.5219512195122,
          78.8243902439024,
          78.9756097560976,
          79.4243902439024,
          79.7780487804878,
          80.1268292682927,
          80.2292682926829,
          79.9829268292683,
          80.7804878048781,
          80.7829268292683,
          81.2829268292683,
          81.4341463414634,
          81.4853658536585,
          81.6365853658537,
          82.0365853658537,
          82.1878048780488,
          82.2390243902439,
          82.690243902439,
          83.090243902439,
          82.5439024390244,
          83.2439024390244,
          82.9463414634147,
          83.3463414634146,
          83.1975609756098
         ],
         "yaxis": "y"
        }
       ],
       "layout": {
        "annotations": [
         {
          "font": {
           "size": 10
          },
          "showarrow": false,
          "text": "1",
          "x": 0.5,
          "xanchor": "center",
          "xref": "paper",
          "y": 1,
          "yanchor": "bottom",
          "yref": "paper"
         },
         {
          "font": {
           "size": 10
          },
          "showarrow": false,
          "text": "Datestamp [ds]",
          "x": 0.5,
          "xanchor": "center",
          "xref": "paper",
          "y": 0,
          "yanchor": "top",
          "yref": "paper",
          "yshift": -30
         },
         {
          "font": {
           "size": 10
          },
          "showarrow": false,
          "text": "Target [y]",
          "textangle": -90,
          "x": 0,
          "xanchor": "right",
          "xref": "paper",
          "xshift": -40,
          "y": 0.5,
          "yanchor": "middle",
          "yref": "paper"
         }
        ],
        "autosize": true,
        "font": {
         "size": 10
        },
        "height": 150,
        "margin": {
         "b": 50,
         "l": 60,
         "r": 10,
         "t": 20
        },
        "template": {
         "data": {
          "bar": [
           {
            "error_x": {
             "color": "#2a3f5f"
            },
            "error_y": {
             "color": "#2a3f5f"
            },
            "marker": {
             "line": {
              "color": "white",
              "width": 0.5
             },
             "pattern": {
              "fillmode": "overlay",
              "size": 10,
              "solidity": 0.2
             }
            },
            "type": "bar"
           }
          ],
          "barpolar": [
           {
            "marker": {
             "line": {
              "color": "white",
              "width": 0.5
             },
             "pattern": {
              "fillmode": "overlay",
              "size": 10,
              "solidity": 0.2
             }
            },
            "type": "barpolar"
           }
          ],
          "carpet": [
           {
            "aaxis": {
             "endlinecolor": "#2a3f5f",
             "gridcolor": "#C8D4E3",
             "linecolor": "#C8D4E3",
             "minorgridcolor": "#C8D4E3",
             "startlinecolor": "#2a3f5f"
            },
            "baxis": {
             "endlinecolor": "#2a3f5f",
             "gridcolor": "#C8D4E3",
             "linecolor": "#C8D4E3",
             "minorgridcolor": "#C8D4E3",
             "startlinecolor": "#2a3f5f"
            },
            "type": "carpet"
           }
          ],
          "choropleth": [
           {
            "colorbar": {
             "outlinewidth": 0,
             "ticks": ""
            },
            "type": "choropleth"
           }
          ],
          "contour": [
           {
            "colorbar": {
             "outlinewidth": 0,
             "ticks": ""
            },
            "colorscale": [
             [
              0,
              "#0d0887"
             ],
             [
              0.1111111111111111,
              "#46039f"
             ],
             [
              0.2222222222222222,
              "#7201a8"
             ],
             [
              0.3333333333333333,
              "#9c179e"
             ],
             [
              0.4444444444444444,
              "#bd3786"
             ],
             [
              0.5555555555555556,
              "#d8576b"
             ],
             [
              0.6666666666666666,
              "#ed7953"
             ],
             [
              0.7777777777777778,
              "#fb9f3a"
             ],
             [
              0.8888888888888888,
              "#fdca26"
             ],
             [
              1,
              "#f0f921"
             ]
            ],
            "type": "contour"
           }
          ],
          "contourcarpet": [
           {
            "colorbar": {
             "outlinewidth": 0,
             "ticks": ""
            },
            "type": "contourcarpet"
           }
          ],
          "heatmap": [
           {
            "colorbar": {
             "outlinewidth": 0,
             "ticks": ""
            },
            "colorscale": [
             [
              0,
              "#0d0887"
             ],
             [
              0.1111111111111111,
              "#46039f"
             ],
             [
              0.2222222222222222,
              "#7201a8"
             ],
             [
              0.3333333333333333,
              "#9c179e"
             ],
             [
              0.4444444444444444,
              "#bd3786"
             ],
             [
              0.5555555555555556,
              "#d8576b"
             ],
             [
              0.6666666666666666,
              "#ed7953"
             ],
             [
              0.7777777777777778,
              "#fb9f3a"
             ],
             [
              0.8888888888888888,
              "#fdca26"
             ],
             [
              1,
              "#f0f921"
             ]
            ],
            "type": "heatmap"
           }
          ],
          "heatmapgl": [
           {
            "colorbar": {
             "outlinewidth": 0,
             "ticks": ""
            },
            "colorscale": [
             [
              0,
              "#0d0887"
             ],
             [
              0.1111111111111111,
              "#46039f"
             ],
             [
              0.2222222222222222,
              "#7201a8"
             ],
             [
              0.3333333333333333,
              "#9c179e"
             ],
             [
              0.4444444444444444,
              "#bd3786"
             ],
             [
              0.5555555555555556,
              "#d8576b"
             ],
             [
              0.6666666666666666,
              "#ed7953"
             ],
             [
              0.7777777777777778,
              "#fb9f3a"
             ],
             [
              0.8888888888888888,
              "#fdca26"
             ],
             [
              1,
              "#f0f921"
             ]
            ],
            "type": "heatmapgl"
           }
          ],
          "histogram": [
           {
            "marker": {
             "pattern": {
              "fillmode": "overlay",
              "size": 10,
              "solidity": 0.2
             }
            },
            "type": "histogram"
           }
          ],
          "histogram2d": [
           {
            "colorbar": {
             "outlinewidth": 0,
             "ticks": ""
            },
            "colorscale": [
             [
              0,
              "#0d0887"
             ],
             [
              0.1111111111111111,
              "#46039f"
             ],
             [
              0.2222222222222222,
              "#7201a8"
             ],
             [
              0.3333333333333333,
              "#9c179e"
             ],
             [
              0.4444444444444444,
              "#bd3786"
             ],
             [
              0.5555555555555556,
              "#d8576b"
             ],
             [
              0.6666666666666666,
              "#ed7953"
             ],
             [
              0.7777777777777778,
              "#fb9f3a"
             ],
             [
              0.8888888888888888,
              "#fdca26"
             ],
             [
              1,
              "#f0f921"
             ]
            ],
            "type": "histogram2d"
           }
          ],
          "histogram2dcontour": [
           {
            "colorbar": {
             "outlinewidth": 0,
             "ticks": ""
            },
            "colorscale": [
             [
              0,
              "#0d0887"
             ],
             [
              0.1111111111111111,
              "#46039f"
             ],
             [
              0.2222222222222222,
              "#7201a8"
             ],
             [
              0.3333333333333333,
              "#9c179e"
             ],
             [
              0.4444444444444444,
              "#bd3786"
             ],
             [
              0.5555555555555556,
              "#d8576b"
             ],
             [
              0.6666666666666666,
              "#ed7953"
             ],
             [
              0.7777777777777778,
              "#fb9f3a"
             ],
             [
              0.8888888888888888,
              "#fdca26"
             ],
             [
              1,
              "#f0f921"
             ]
            ],
            "type": "histogram2dcontour"
           }
          ],
          "mesh3d": [
           {
            "colorbar": {
             "outlinewidth": 0,
             "ticks": ""
            },
            "type": "mesh3d"
           }
          ],
          "parcoords": [
           {
            "line": {
             "colorbar": {
              "outlinewidth": 0,
              "ticks": ""
             }
            },
            "type": "parcoords"
           }
          ],
          "pie": [
           {
            "automargin": true,
            "type": "pie"
           }
          ],
          "scatter": [
           {
            "fillpattern": {
             "fillmode": "overlay",
             "size": 10,
             "solidity": 0.2
            },
            "type": "scatter"
           }
          ],
          "scatter3d": [
           {
            "line": {
             "colorbar": {
              "outlinewidth": 0,
              "ticks": ""
             }
            },
            "marker": {
             "colorbar": {
              "outlinewidth": 0,
              "ticks": ""
             }
            },
            "type": "scatter3d"
           }
          ],
          "scattercarpet": [
           {
            "marker": {
             "colorbar": {
              "outlinewidth": 0,
              "ticks": ""
             }
            },
            "type": "scattercarpet"
           }
          ],
          "scattergeo": [
           {
            "marker": {
             "colorbar": {
              "outlinewidth": 0,
              "ticks": ""
             }
            },
            "type": "scattergeo"
           }
          ],
          "scattergl": [
           {
            "marker": {
             "colorbar": {
              "outlinewidth": 0,
              "ticks": ""
             }
            },
            "type": "scattergl"
           }
          ],
          "scattermapbox": [
           {
            "marker": {
             "colorbar": {
              "outlinewidth": 0,
              "ticks": ""
             }
            },
            "type": "scattermapbox"
           }
          ],
          "scatterpolar": [
           {
            "marker": {
             "colorbar": {
              "outlinewidth": 0,
              "ticks": ""
             }
            },
            "type": "scatterpolar"
           }
          ],
          "scatterpolargl": [
           {
            "marker": {
             "colorbar": {
              "outlinewidth": 0,
              "ticks": ""
             }
            },
            "type": "scatterpolargl"
           }
          ],
          "scatterternary": [
           {
            "marker": {
             "colorbar": {
              "outlinewidth": 0,
              "ticks": ""
             }
            },
            "type": "scatterternary"
           }
          ],
          "surface": [
           {
            "colorbar": {
             "outlinewidth": 0,
             "ticks": ""
            },
            "colorscale": [
             [
              0,
              "#0d0887"
             ],
             [
              0.1111111111111111,
              "#46039f"
             ],
             [
              0.2222222222222222,
              "#7201a8"
             ],
             [
              0.3333333333333333,
              "#9c179e"
             ],
             [
              0.4444444444444444,
              "#bd3786"
             ],
             [
              0.5555555555555556,
              "#d8576b"
             ],
             [
              0.6666666666666666,
              "#ed7953"
             ],
             [
              0.7777777777777778,
              "#fb9f3a"
             ],
             [
              0.8888888888888888,
              "#fdca26"
             ],
             [
              1,
              "#f0f921"
             ]
            ],
            "type": "surface"
           }
          ],
          "table": [
           {
            "cells": {
             "fill": {
              "color": "#EBF0F8"
             },
             "line": {
              "color": "white"
             }
            },
            "header": {
             "fill": {
              "color": "#C8D4E3"
             },
             "line": {
              "color": "white"
             }
            },
            "type": "table"
           }
          ]
         },
         "layout": {
          "annotationdefaults": {
           "arrowcolor": "#2a3f5f",
           "arrowhead": 0,
           "arrowwidth": 1
          },
          "autotypenumbers": "strict",
          "coloraxis": {
           "colorbar": {
            "outlinewidth": 0,
            "ticks": ""
           }
          },
          "colorscale": {
           "diverging": [
            [
             0,
             "#8e0152"
            ],
            [
             0.1,
             "#c51b7d"
            ],
            [
             0.2,
             "#de77ae"
            ],
            [
             0.3,
             "#f1b6da"
            ],
            [
             0.4,
             "#fde0ef"
            ],
            [
             0.5,
             "#f7f7f7"
            ],
            [
             0.6,
             "#e6f5d0"
            ],
            [
             0.7,
             "#b8e186"
            ],
            [
             0.8,
             "#7fbc41"
            ],
            [
             0.9,
             "#4d9221"
            ],
            [
             1,
             "#276419"
            ]
           ],
           "sequential": [
            [
             0,
             "#0d0887"
            ],
            [
             0.1111111111111111,
             "#46039f"
            ],
            [
             0.2222222222222222,
             "#7201a8"
            ],
            [
             0.3333333333333333,
             "#9c179e"
            ],
            [
             0.4444444444444444,
             "#bd3786"
            ],
            [
             0.5555555555555556,
             "#d8576b"
            ],
            [
             0.6666666666666666,
             "#ed7953"
            ],
            [
             0.7777777777777778,
             "#fb9f3a"
            ],
            [
             0.8888888888888888,
             "#fdca26"
            ],
            [
             1,
             "#f0f921"
            ]
           ],
           "sequentialminus": [
            [
             0,
             "#0d0887"
            ],
            [
             0.1111111111111111,
             "#46039f"
            ],
            [
             0.2222222222222222,
             "#7201a8"
            ],
            [
             0.3333333333333333,
             "#9c179e"
            ],
            [
             0.4444444444444444,
             "#bd3786"
            ],
            [
             0.5555555555555556,
             "#d8576b"
            ],
            [
             0.6666666666666666,
             "#ed7953"
            ],
            [
             0.7777777777777778,
             "#fb9f3a"
            ],
            [
             0.8888888888888888,
             "#fdca26"
            ],
            [
             1,
             "#f0f921"
            ]
           ]
          },
          "colorway": [
           "#636efa",
           "#EF553B",
           "#00cc96",
           "#ab63fa",
           "#FFA15A",
           "#19d3f3",
           "#FF6692",
           "#B6E880",
           "#FF97FF",
           "#FECB52"
          ],
          "font": {
           "color": "#2a3f5f"
          },
          "geo": {
           "bgcolor": "white",
           "lakecolor": "white",
           "landcolor": "white",
           "showlakes": true,
           "showland": true,
           "subunitcolor": "#C8D4E3"
          },
          "hoverlabel": {
           "align": "left"
          },
          "hovermode": "closest",
          "mapbox": {
           "style": "light"
          },
          "paper_bgcolor": "white",
          "plot_bgcolor": "white",
          "polar": {
           "angularaxis": {
            "gridcolor": "#EBF0F8",
            "linecolor": "#EBF0F8",
            "ticks": ""
           },
           "bgcolor": "white",
           "radialaxis": {
            "gridcolor": "#EBF0F8",
            "linecolor": "#EBF0F8",
            "ticks": ""
           }
          },
          "scene": {
           "xaxis": {
            "backgroundcolor": "white",
            "gridcolor": "#DFE8F3",
            "gridwidth": 2,
            "linecolor": "#EBF0F8",
            "showbackground": true,
            "ticks": "",
            "zerolinecolor": "#EBF0F8"
           },
           "yaxis": {
            "backgroundcolor": "white",
            "gridcolor": "#DFE8F3",
            "gridwidth": 2,
            "linecolor": "#EBF0F8",
            "showbackground": true,
            "ticks": "",
            "zerolinecolor": "#EBF0F8"
           },
           "zaxis": {
            "backgroundcolor": "white",
            "gridcolor": "#DFE8F3",
            "gridwidth": 2,
            "linecolor": "#EBF0F8",
            "showbackground": true,
            "ticks": "",
            "zerolinecolor": "#EBF0F8"
           }
          },
          "shapedefaults": {
           "line": {
            "color": "#2a3f5f"
           }
          },
          "ternary": {
           "aaxis": {
            "gridcolor": "#DFE8F3",
            "linecolor": "#A2B1C6",
            "ticks": ""
           },
           "baxis": {
            "gridcolor": "#DFE8F3",
            "linecolor": "#A2B1C6",
            "ticks": ""
           },
           "bgcolor": "white",
           "caxis": {
            "gridcolor": "#DFE8F3",
            "linecolor": "#A2B1C6",
            "ticks": ""
           }
          },
          "title": {
           "x": 0.05
          },
          "xaxis": {
           "automargin": true,
           "gridcolor": "#EBF0F8",
           "linecolor": "#EBF0F8",
           "ticks": "",
           "title": {
            "standoff": 15
           },
           "zerolinecolor": "#EBF0F8",
           "zerolinewidth": 2
          },
          "yaxis": {
           "automargin": true,
           "gridcolor": "#EBF0F8",
           "linecolor": "#EBF0F8",
           "ticks": "",
           "title": {
            "standoff": 15
           },
           "zerolinecolor": "#EBF0F8",
           "zerolinewidth": 2
          }
         }
        },
        "xaxis": {
         "anchor": "y",
         "domain": [
          0,
          1
         ],
         "showticklabels": true,
         "visible": true
        },
        "yaxis": {
         "anchor": "x",
         "domain": [
          0,
          1
         ]
        }
       }
      }
     },
     "metadata": {},
     "output_type": "display_data"
    }
   ],
   "source": [
    "from statsforecast import StatsForecast\n",
    "\n",
    "StatsForecast.plot(df)"
   ]
  },
  {
   "attachments": {},
   "cell_type": "markdown",
   "metadata": {},
   "source": [
    "## **7.1 Autocorrelation plots**"
   ]
  },
  {
   "cell_type": "code",
   "execution_count": 7,
   "metadata": {},
   "outputs": [
    {
     "data": {
      "image/png": "[encoded data removed]",
      "text/plain": [
       "<Figure size 1800x700 with 2 Axes>"
      ]
     },
     "metadata": {},
     "output_type": "display_data"
    }
   ],
   "source": [
    "fig, axs = plt.subplots(nrows=1, ncols=2)\n",
    "\n",
    "plot_acf(df[\"y\"],  lags=20, ax=axs[0],color=\"fuchsia\")\n",
    "axs[0].set_title(\"Autocorrelation\");\n",
    "\n",
    "# Plot\n",
    "plot_pacf(df[\"y\"],  lags=20, ax=axs[1],color=\"lime\")\n",
    "axs[1].set_title('Partial Autocorrelation')\n",
    "\n",
    "plt.show();"
   ]
  },
  {
   "attachments": {},
   "cell_type": "markdown",
   "metadata": {},
   "source": [
    "## **7.2 Decomposition of the time series**\n",
    "\n",
    "How to decompose a time series and why?\n",
    "\n",
    "In time series analysis to forecast new values, it is very important to know past data. More formally, we can say that it is very important to know the patterns that values follow over time. There can be many reasons that cause our forecast values to fall in the wrong direction. Basically, a time series consists of four components. The variation of those components causes the change in the pattern of the time series. These components are:\n",
    "\n",
    "* **Level:** This is the primary value that averages over time.\n",
    "* **Trend:** The trend is the value that causes increasing or decreasing patterns in a time series.\n",
    "* **Seasonality:** This is a cyclical event that occurs in a time series for a short time and causes short-term increasing or decreasing patterns in a time series.\n",
    "* **Residual/Noise:** These are the random variations in the time series.\n",
    "\n",
    "Combining these components over time leads to the formation of a time series. Most time series consist of level and noise/residual and trend or seasonality are optional values.\n",
    "\n",
    "If seasonality and trend are part of the time series, then there will be effects on the forecast value. As the pattern of the forecasted time series may be different from the previous time series.\n",
    "\n",
    "The combination of the components in time series can be of two types:\n",
    "* Additive\n",
    "* multiplicative\n",
    "\n",
    "### Additive time series\n",
    "\n",
    "If the components of the time series are added to make the time series. Then the time series is called the additive time series. By visualization, we can say that the time series is additive if the increasing or decreasing pattern of the time series is similar throughout the series. The mathematical function of any additive time series can be represented by:\n",
    "$$y(t) = level + Trend + seasonality + noise$$\n",
    "\n",
    "### Multiplicative time series\n",
    "\n",
    "If the components of the time series are multiplicative together, then the time series is called a multiplicative time series. For visualization, if the time series is having exponential growth or decline with time, then the time series can be considered as the multiplicative time series. The mathematical function of the multiplicative time series can be represented as.\n",
    "\n",
    "$$y(t) = Level * Trend * seasonality * Noise$$"
   ]
  },
  {
   "cell_type": "code",
   "execution_count": 8,
   "metadata": {},
   "outputs": [
    {
     "data": {
      "image/png": "[encoded data removed]",
      "text/plain": [
       "<Figure size 1800x700 with 4 Axes>"
      ]
     },
     "metadata": {},
     "output_type": "display_data"
    }
   ],
   "source": [
    "from statsmodels.tsa.seasonal import seasonal_decompose \n",
    "a = seasonal_decompose(df[\"y\"], model = \"add\", period=1)\n",
    "a.plot();"
   ]
  },
  {
   "attachments": {},
   "cell_type": "markdown",
   "metadata": {},
   "source": [
    "Breaking down a time series into its components helps us to identify the behavior of the time series we are analyzing. In addition, it helps us to know what type of models we can apply, for our example of the Life expectancy data set, we can observe that our time series shows an increasing trend throughout the year, on the other hand, it can be observed also that the time series has no seasonality.\n",
    "\n",
    "By looking at the previous graph and knowing each of the components, we can get an idea of which model we can apply:\n",
    "* We have trend\n",
    "* There is no seasonality"
   ]
  },
  {
   "attachments": {},
   "cell_type": "markdown",
   "metadata": {},
   "source": [
    "# **8. Split the data into training and testing** <a class=\"anchor\" id=\"8\"></a>\n",
    "\n",
    "[Table of Contents](#0.1)\n",
    "\n",
    "Let's divide our data into sets\n",
    "1. Data to train our `AutoETS` model\n",
    "2. Data to test our model\n",
    "\n",
    "For the test data we will use the last 6 years to test and evaluate the performance of our model."
   ]
  },
  {
   "cell_type": "code",
   "execution_count": 9,
   "metadata": {},
   "outputs": [],
   "source": [
    "train = df[df.ds<='2013-01-01'] \n",
    "test = df[df.ds>'2013-01-01'] "
   ]
  },
  {
   "cell_type": "code",
   "execution_count": 10,
   "metadata": {},
   "outputs": [
    {
     "data": {
      "text/plain": [
       "((54, 3), (6, 3))"
      ]
     },
     "execution_count": 10,
     "metadata": {},
     "output_type": "execute_result"
    }
   ],
   "source": [
    "train.shape, test.shape"
   ]
  },
  {
   "cell_type": "code",
   "execution_count": 11,
   "metadata": {},
   "outputs": [
    {
     "data": {
      "image/png": "[encoded data removed]",
      "text/plain": [
       "<Figure size 1800x700 with 1 Axes>"
      ]
     },
     "metadata": {},
     "output_type": "display_data"
    }
   ],
   "source": [
    "sns.lineplot(train,x=\"ds\", y=\"y\", label=\"Train\")\n",
    "sns.lineplot(test, x=\"ds\", y=\"y\", label=\"Test\")\n",
    "plt.show()"
   ]
  },
  {
   "attachments": {},
   "cell_type": "markdown",
   "metadata": {},
   "source": [
    "# **9. Implementation of AutoETS with StatsForecast** <a class=\"anchor\" id=\"9\"></a>\n",
    "\n",
    "[Table of Contents](#0.1)\n",
    "\n",
    "Automatic Exponential Smoothing model.\n",
    "\n",
    "Automatically selects the best `ETS (Error, Trend, Seasonality)` model using an information criterion. Default is Akaike Information Criterion (AICc), while particular models are estimated using maximum likelihood. The state-space equations can be determined based on their $M$ multiplicative $A$ additive,  $Z$ optimized or $N$ ommited components. The model string parameter defines the ETS equations: $E$ in $[M,A,Z]$, $T$ in $[N,A,M,Z]$, and $S$ in $[N,A,M,Z]$.\n",
    "\n",
    "For example when `model=‘ANN’` (additive error, no trend, and no seasonality), `ETS` will explore only a simple exponential smoothing.\n",
    "\n",
    "If the component is selected as `‘Z’`, it operates as a placeholder to ask the `AutoETS` model to figure out the best parameter."
   ]
  },
  {
   "cell_type": "code",
   "execution_count": 13,
   "metadata": {},
   "outputs": [],
   "source": [
    "# Load librarie\n",
    "\n",
    "from statsforecast.models import AutoETS\n",
    "\n",
    "\n",
    "#  Building model\n",
    "autoets = AutoETS(model=[\"A\",\"Z\",\"N\"],  alias=\"AutoETS\", season_length=1)\n"
   ]
  },
  {
   "attachments": {},
   "cell_type": "markdown",
   "metadata": {},
   "source": [
    "To know other parameters that the model has, you can consult [here](https://nixtla.github.io/statsforecast/src/core/models.html#autoets)"
   ]
  },
  {
   "attachments": {},
   "cell_type": "markdown",
   "metadata": {},
   "source": [
    "### **9.1 Fit the Model**"
   ]
  },
  {
   "cell_type": "code",
   "execution_count": 14,
   "metadata": {},
   "outputs": [
    {
     "data": {
      "text/plain": [
       "AutoETS"
      ]
     },
     "execution_count": 14,
     "metadata": {},
     "output_type": "execute_result"
    }
   ],
   "source": [
    "autoets = autoets.fit(df[\"y\"].values)\n",
    "autoets"
   ]
  },
  {
   "attachments": {},
   "cell_type": "markdown",
   "metadata": {},
   "source": [
    "### **9.2 Predict Model**"
   ]
  },
  {
   "cell_type": "code",
   "execution_count": 15,
   "metadata": {},
   "outputs": [
    {
     "data": {
      "text/plain": [
       "{'mean': array([83.56937105, 83.65696041, 83.74454977, 83.83213913, 83.91972848,\n",
       "        84.00731784])}"
      ]
     },
     "execution_count": 15,
     "metadata": {},
     "output_type": "execute_result"
    }
   ],
   "source": [
    "y_hat_dict = autoets.predict(h=6)\n",
    "y_hat_dict"
   ]
  },
  {
   "attachments": {},
   "cell_type": "markdown",
   "metadata": {},
   "source": [
    "You can see that the result that has been extracted in the predictions or in any other method that we use from now on with the Arima model is a dictionary. To extract that result we can use the `.get()` function, which will help us to be able to extract the result of each part of the dictionary of each of the methods that we use."
   ]
  },
  {
   "cell_type": "code",
   "execution_count": 16,
   "metadata": {},
   "outputs": [
    {
     "data": {
      "text/html": [
       "<div>\n",
       "<style scoped>\n",
       "    .dataframe tbody tr th:only-of-type {\n",
       "        vertical-align: middle;\n",
       "    }\n",
       "\n",
       "    .dataframe tbody tr th {\n",
       "        vertical-align: top;\n",
       "    }\n",
       "\n",
       "    .dataframe thead th {\n",
       "        text-align: right;\n",
       "    }\n",
       "</style>\n",
       "<table border=\"1\" class=\"dataframe\">\n",
       "  <thead>\n",
       "    <tr style=\"text-align: right;\">\n",
       "      <th></th>\n",
       "      <th>ds</th>\n",
       "      <th>hat</th>\n",
       "      <th>unique_id</th>\n",
       "    </tr>\n",
       "  </thead>\n",
       "  <tbody>\n",
       "    <tr>\n",
       "      <th>0</th>\n",
       "      <td>2014-01-01</td>\n",
       "      <td>83.569371</td>\n",
       "      <td>1</td>\n",
       "    </tr>\n",
       "    <tr>\n",
       "      <th>1</th>\n",
       "      <td>2015-01-01</td>\n",
       "      <td>83.656960</td>\n",
       "      <td>1</td>\n",
       "    </tr>\n",
       "    <tr>\n",
       "      <th>2</th>\n",
       "      <td>2016-01-01</td>\n",
       "      <td>83.744550</td>\n",
       "      <td>1</td>\n",
       "    </tr>\n",
       "    <tr>\n",
       "      <th>3</th>\n",
       "      <td>2017-01-01</td>\n",
       "      <td>83.832139</td>\n",
       "      <td>1</td>\n",
       "    </tr>\n",
       "    <tr>\n",
       "      <th>4</th>\n",
       "      <td>2018-01-01</td>\n",
       "      <td>83.919728</td>\n",
       "      <td>1</td>\n",
       "    </tr>\n",
       "    <tr>\n",
       "      <th>5</th>\n",
       "      <td>2019-01-01</td>\n",
       "      <td>84.007318</td>\n",
       "      <td>1</td>\n",
       "    </tr>\n",
       "  </tbody>\n",
       "</table>\n",
       "</div>"
      ],
      "text/plain": [
       "          ds        hat unique_id\n",
       "0 2014-01-01  83.569371         1\n",
       "1 2015-01-01  83.656960         1\n",
       "2 2016-01-01  83.744550         1\n",
       "3 2017-01-01  83.832139         1\n",
       "4 2018-01-01  83.919728         1\n",
       "5 2019-01-01  84.007318         1"
      ]
     },
     "execution_count": 16,
     "metadata": {},
     "output_type": "execute_result"
    }
   ],
   "source": [
    "forecast=pd.Series(pd.date_range(\"2014-01-01\", freq=\"ys\", periods=6))\n",
    "forecast=pd.DataFrame(forecast)\n",
    "forecast.columns=[\"ds\"]\n",
    "forecast[\"hat\"]=y_hat_dict.get(\"mean\")\n",
    "forecast[\"unique_id\"]=\"1\"\n",
    "forecast"
   ]
  },
  {
   "cell_type": "code",
   "execution_count": 17,
   "metadata": {},
   "outputs": [
    {
     "data": {
      "image/png": "[encoded data removed]",
      "text/plain": [
       "<Figure size 1800x700 with 1 Axes>"
      ]
     },
     "metadata": {},
     "output_type": "display_data"
    }
   ],
   "source": [
    "sns.lineplot(train,x=\"ds\", y=\"y\", label=\"Train\")\n",
    "sns.lineplot(test, x=\"ds\", y=\"y\", label=\"Test\")\n",
    "sns.lineplot(forecast,x=\"ds\", y=\"hat\", label=\"Forecast\",)\n",
    "plt.show()"
   ]
  },
  {
   "attachments": {},
   "cell_type": "markdown",
   "metadata": {},
   "source": [
    "Let's add a confidence interval to our forecast."
   ]
  },
  {
   "cell_type": "code",
   "execution_count": 18,
   "metadata": {},
   "outputs": [
    {
     "data": {
      "text/plain": [
       "{'mean': array([83.56937105, 83.65696041, 83.74454977, 83.83213913, 83.91972848,\n",
       "        84.00731784]),\n",
       " 'lo-95': array([83.09409059, 83.17958519, 83.25889648, 83.32836493, 83.3852606 ,\n",
       "        83.42814393]),\n",
       " 'lo-90': array([83.17050311, 83.2563345 , 83.33697668, 83.40935849, 83.4711889 ,\n",
       "        83.52125977]),\n",
       " 'lo-80': array([83.25860186, 83.34482153, 83.42699815, 83.50273889, 83.57025872,\n",
       "        83.62861638]),\n",
       " 'hi-80': array([83.88014025, 83.96909929, 84.06210139, 84.16153937, 84.26919825,\n",
       "        84.38601931]),\n",
       " 'hi-90': array([83.96823899, 84.05758633, 84.15212286, 84.25491976, 84.36826807,\n",
       "        84.49337591]),\n",
       " 'hi-95': array([84.04465152, 84.13433563, 84.23020306, 84.33591332, 84.45419637,\n",
       "        84.58649176])}"
      ]
     },
     "execution_count": 18,
     "metadata": {},
     "output_type": "execute_result"
    }
   ],
   "source": [
    "y_hat_dict = autoets.predict(h=6, level=[80,90,95])\n",
    "y_hat_dict"
   ]
  },
  {
   "cell_type": "code",
   "execution_count": 19,
   "metadata": {},
   "outputs": [
    {
     "data": {
      "text/html": [
       "<div>\n",
       "<style scoped>\n",
       "    .dataframe tbody tr th:only-of-type {\n",
       "        vertical-align: middle;\n",
       "    }\n",
       "\n",
       "    .dataframe tbody tr th {\n",
       "        vertical-align: top;\n",
       "    }\n",
       "\n",
       "    .dataframe thead th {\n",
       "        text-align: right;\n",
       "    }\n",
       "</style>\n",
       "<table border=\"1\" class=\"dataframe\">\n",
       "  <thead>\n",
       "    <tr style=\"text-align: right;\">\n",
       "      <th></th>\n",
       "      <th>ds</th>\n",
       "      <th>hat</th>\n",
       "      <th>unique_id</th>\n",
       "      <th>lo-80</th>\n",
       "      <th>hi-80</th>\n",
       "      <th>lo-90</th>\n",
       "      <th>hi-90</th>\n",
       "      <th>lo-95</th>\n",
       "      <th>hi-95</th>\n",
       "    </tr>\n",
       "  </thead>\n",
       "  <tbody>\n",
       "    <tr>\n",
       "      <th>0</th>\n",
       "      <td>2014-01-01</td>\n",
       "      <td>83.569371</td>\n",
       "      <td>1</td>\n",
       "      <td>83.258602</td>\n",
       "      <td>83.880140</td>\n",
       "      <td>83.258602</td>\n",
       "      <td>83.880140</td>\n",
       "      <td>83.094091</td>\n",
       "      <td>84.044652</td>\n",
       "    </tr>\n",
       "    <tr>\n",
       "      <th>1</th>\n",
       "      <td>2015-01-01</td>\n",
       "      <td>83.656960</td>\n",
       "      <td>1</td>\n",
       "      <td>83.344822</td>\n",
       "      <td>83.969099</td>\n",
       "      <td>83.344822</td>\n",
       "      <td>83.969099</td>\n",
       "      <td>83.179585</td>\n",
       "      <td>84.134336</td>\n",
       "    </tr>\n",
       "    <tr>\n",
       "      <th>2</th>\n",
       "      <td>2016-01-01</td>\n",
       "      <td>83.744550</td>\n",
       "      <td>1</td>\n",
       "      <td>83.426998</td>\n",
       "      <td>84.062101</td>\n",
       "      <td>83.426998</td>\n",
       "      <td>84.062101</td>\n",
       "      <td>83.258896</td>\n",
       "      <td>84.230203</td>\n",
       "    </tr>\n",
       "    <tr>\n",
       "      <th>3</th>\n",
       "      <td>2017-01-01</td>\n",
       "      <td>83.832139</td>\n",
       "      <td>1</td>\n",
       "      <td>83.502739</td>\n",
       "      <td>84.161539</td>\n",
       "      <td>83.502739</td>\n",
       "      <td>84.161539</td>\n",
       "      <td>83.328365</td>\n",
       "      <td>84.335913</td>\n",
       "    </tr>\n",
       "    <tr>\n",
       "      <th>4</th>\n",
       "      <td>2018-01-01</td>\n",
       "      <td>83.919728</td>\n",
       "      <td>1</td>\n",
       "      <td>83.570259</td>\n",
       "      <td>84.269198</td>\n",
       "      <td>83.570259</td>\n",
       "      <td>84.269198</td>\n",
       "      <td>83.385261</td>\n",
       "      <td>84.454196</td>\n",
       "    </tr>\n",
       "    <tr>\n",
       "      <th>5</th>\n",
       "      <td>2019-01-01</td>\n",
       "      <td>84.007318</td>\n",
       "      <td>1</td>\n",
       "      <td>83.628616</td>\n",
       "      <td>84.386019</td>\n",
       "      <td>83.628616</td>\n",
       "      <td>84.386019</td>\n",
       "      <td>83.428144</td>\n",
       "      <td>84.586492</td>\n",
       "    </tr>\n",
       "  </tbody>\n",
       "</table>\n",
       "</div>"
      ],
      "text/plain": [
       "          ds        hat unique_id      lo-80      hi-80      lo-90      hi-90  \\\n",
       "0 2014-01-01  83.569371         1  83.258602  83.880140  83.258602  83.880140   \n",
       "1 2015-01-01  83.656960         1  83.344822  83.969099  83.344822  83.969099   \n",
       "2 2016-01-01  83.744550         1  83.426998  84.062101  83.426998  84.062101   \n",
       "3 2017-01-01  83.832139         1  83.502739  84.161539  83.502739  84.161539   \n",
       "4 2018-01-01  83.919728         1  83.570259  84.269198  83.570259  84.269198   \n",
       "5 2019-01-01  84.007318         1  83.628616  84.386019  83.628616  84.386019   \n",
       "\n",
       "       lo-95      hi-95  \n",
       "0  83.094091  84.044652  \n",
       "1  83.179585  84.134336  \n",
       "2  83.258896  84.230203  \n",
       "3  83.328365  84.335913  \n",
       "4  83.385261  84.454196  \n",
       "5  83.428144  84.586492  "
      ]
     },
     "execution_count": 19,
     "metadata": {},
     "output_type": "execute_result"
    }
   ],
   "source": [
    "forecast[\"hat\"]=y_hat_dict.get(\"mean\")\n",
    "#\n",
    "forecast[\"lo-80\"]=y_hat_dict.get(\"lo-80\")\n",
    "forecast[\"hi-80\"]=y_hat_dict.get(\"hi-80\")\n",
    "#\n",
    "forecast[\"lo-90\"]=y_hat_dict.get(\"lo-80\")\n",
    "forecast[\"hi-90\"]=y_hat_dict.get(\"hi-80\")\n",
    "#\n",
    "forecast[\"lo-95\"]=y_hat_dict.get(\"lo-95\")\n",
    "forecast[\"hi-95\"]=y_hat_dict.get(\"hi-95\")\n",
    "forecast"
   ]
  },
  {
   "cell_type": "code",
   "execution_count": 20,
   "metadata": {},
   "outputs": [],
   "source": [
    "df=df.set_index(\"ds\")\n",
    "forecast=forecast.set_index(\"ds\")"
   ]
  },
  {
   "cell_type": "code",
   "execution_count": 21,
   "metadata": {},
   "outputs": [],
   "source": [
    "df_plot=df.merge(forecast, how='left', on=['unique_id', 'ds'])\n"
   ]
  },
  {
   "cell_type": "code",
   "execution_count": 22,
   "metadata": {},
   "outputs": [
    {
     "data": {
      "image/png": "[encoded data removed]",
      "text/plain": [
       "<Figure size 1800x700 with 1 Axes>"
      ]
     },
     "metadata": {},
     "output_type": "display_data"
    }
   ],
   "source": [
    "fig, ax = plt.subplots()\n",
    "plt.plot_date(df_plot.index, df_plot[\"y\"],label=\"Actual\", linestyle=\"-\")\n",
    "plt.plot_date(df_plot.index, df_plot[\"hat\"],label=\"Forecas\", linestyle=\"-\")\n",
    "ax.fill_between(df_plot.index, \n",
    "                df_plot['lo-80'], \n",
    "                df_plot['hi-80'],\n",
    "                alpha=.35,\n",
    "                color='orange',\n",
    "                label='AutoETS-level-95')\n",
    "ax.set_title('', fontsize=22)\n",
    "ax.set_ylabel('', fontsize=20)\n",
    "ax.set_xlabel('Timestamp [t]', fontsize=12)\n",
    "plt.legend(fontsize=12)\n",
    "ax.grid(True)\n",
    "\n",
    "plt.show()"
   ]
  },
  {
   "attachments": {},
   "cell_type": "markdown",
   "metadata": {},
   "source": [
    "### **9.3 AutoETS.predict_in_sample()**\n",
    "Access fitted Exponential Smoothing insample predictions."
   ]
  },
  {
   "cell_type": "code",
   "execution_count": 23,
   "metadata": {},
   "outputs": [
    {
     "data": {
      "text/plain": [
       "{'fitted': array([69.11047128, 69.33779313, 69.60481978, 69.82902341, 69.99867608,\n",
       "        70.19782129, 70.39447403, 70.6410976 , 70.91730954, 71.18057737,\n",
       "        71.40921444, 71.65195408, 71.90923238, 72.18210689, 72.44032072,\n",
       "        72.72619326, 73.00461648, 73.28185885, 73.56688287, 73.86376672,\n",
       "        74.17369207, 74.4619337 , 74.74004938, 75.02518845, 75.27413727,\n",
       "        75.53397698, 75.78785822, 76.0401374 , 76.30927822, 76.58417332,\n",
       "        76.88118063, 77.18657633, 77.47625869, 77.76062769, 78.04136835,\n",
       "        78.31088961, 78.56725183, 78.81937322, 79.07197167, 79.31551239,\n",
       "        79.56929831, 79.84269161, 80.14276586, 80.45093604, 80.71510722,\n",
       "        80.98548038, 81.23680745, 81.49249391, 81.74269063, 81.96870832,\n",
       "        82.16354077, 82.34648092, 82.51452241, 82.65668891, 82.80204272,\n",
       "        82.97448067, 83.1064133 , 83.2513209 , 83.36754658, 83.4818162 ])}"
      ]
     },
     "execution_count": 23,
     "metadata": {},
     "output_type": "execute_result"
    }
   ],
   "source": [
    "autoets.predict_in_sample()"
   ]
  },
  {
   "attachments": {},
   "cell_type": "markdown",
   "metadata": {},
   "source": [
    "### **9.4 AutoETS.forecast method**\n",
    "Memory Efficient Exponential Smoothing predictions.\n",
    "\n",
    "This method avoids memory burden due from object storage. It is analogous to fit_predict without storing information. It assumes you know the forecast horizon in advance."
   ]
  },
  {
   "cell_type": "code",
   "execution_count": 24,
   "metadata": {},
   "outputs": [
    {
     "data": {
      "text/plain": [
       "{'mean': array([82.95334067, 83.14710962, 83.34087858, 83.53464753, 83.72841648,\n",
       "        83.92218543]),\n",
       " 'fitted': array([69.00631079, 69.23838078, 69.49672275, 69.73753749, 69.95373373,\n",
       "        70.18800832, 70.42142612, 70.68026343, 70.95296729, 71.21693197,\n",
       "        71.46051702, 71.70909162, 71.96257898, 72.22173709, 72.47104279,\n",
       "        72.73363157, 72.99184677, 73.25007587, 73.5140747 , 73.78708229,\n",
       "        74.07093074, 74.34832297, 74.62600899, 74.91319459, 75.18661412,\n",
       "        75.47027994, 75.75394823, 76.03846177, 76.33209228, 76.62765077,\n",
       "        76.93286853, 77.2399741 , 77.53597227, 77.82612695, 78.11104644,\n",
       "        78.38645253, 78.6510127 , 78.90909424, 79.16292255, 79.40732528,\n",
       "        79.65260623, 79.90420341, 80.16700064, 80.43291173, 80.67615301,\n",
       "        80.92469414, 81.16608469, 81.41337419, 81.66169821, 81.90113913,\n",
       "        82.12727338, 82.34886657, 82.56235691, 82.75957866])}"
      ]
     },
     "execution_count": 24,
     "metadata": {},
     "output_type": "execute_result"
    }
   ],
   "source": [
    "autoets.forecast(y=train[\"y\"].values, h=6, fitted=True)"
   ]
  },
  {
   "cell_type": "code",
   "execution_count": 70,
   "metadata": {},
   "outputs": [
    {
     "data": {
      "text/plain": [
       "{'mean': array([82.95334067, 83.14710962, 83.34087858, 83.53464753, 83.72841648,\n",
       "        83.92218543]),\n",
       " 'fitted': array([69.00631079, 69.23838078, 69.49672275, 69.73753749, 69.95373373,\n",
       "        70.18800832, 70.42142612, 70.68026343, 70.95296729, 71.21693197,\n",
       "        71.46051702, 71.70909162, 71.96257898, 72.22173709, 72.47104279,\n",
       "        72.73363157, 72.99184677, 73.25007587, 73.5140747 , 73.78708229,\n",
       "        74.07093074, 74.34832297, 74.62600899, 74.91319459, 75.18661412,\n",
       "        75.47027994, 75.75394823, 76.03846177, 76.33209228, 76.62765077,\n",
       "        76.93286853, 77.2399741 , 77.53597227, 77.82612695, 78.11104644,\n",
       "        78.38645253, 78.6510127 , 78.90909424, 79.16292255, 79.40732528,\n",
       "        79.65260623, 79.90420341, 80.16700064, 80.43291173, 80.67615301,\n",
       "        80.92469414, 81.16608469, 81.41337419, 81.66169821, 81.90113913,\n",
       "        82.12727338, 82.34886657, 82.56235691, 82.75957866]),\n",
       " 'lo-95': array([82.50120336, 82.69439921, 82.88588753, 83.07456973, 83.2594347 ,\n",
       "        83.43962264]),\n",
       " 'hi-95': array([83.40547799, 83.59982004, 83.79586962, 83.99472532, 84.19739825,\n",
       "        84.40474821]),\n",
       " 'fitted-lo-95': array([68.5588109 , 68.79088089, 69.04922287, 69.2900376 , 69.50623384,\n",
       "        69.74050844, 69.97392623, 70.23276354, 70.5054674 , 70.76943209,\n",
       "        71.01301713, 71.26159173, 71.51507909, 71.7742372 , 72.0235429 ,\n",
       "        72.28613168, 72.54434688, 72.80257598, 73.06657481, 73.3395824 ,\n",
       "        73.62343085, 73.90082308, 74.1785091 , 74.4656947 , 74.73911423,\n",
       "        75.02278005, 75.30644834, 75.59096188, 75.88459239, 76.18015088,\n",
       "        76.48536864, 76.79247421, 77.08847238, 77.37862706, 77.66354655,\n",
       "        77.93895264, 78.20351282, 78.46159435, 78.71542266, 78.9598254 ,\n",
       "        79.20510634, 79.45670352, 79.71950075, 79.98541184, 80.22865312,\n",
       "        80.47719425, 80.7185848 , 80.96587431, 81.21419832, 81.45363924,\n",
       "        81.67977349, 81.90136668, 82.11485702, 82.31207877]),\n",
       " 'fitted-hi-95': array([69.45381068, 69.68588067, 69.94422264, 70.18503738, 70.40123361,\n",
       "        70.63550821, 70.86892601, 71.12776332, 71.40046717, 71.66443186,\n",
       "        71.90801691, 72.15659151, 72.41007887, 72.66923698, 72.91854267,\n",
       "        73.18113146, 73.43934666, 73.69757575, 73.96157459, 74.23458218,\n",
       "        74.51843063, 74.79582286, 75.07350887, 75.36069448, 75.634114  ,\n",
       "        75.91777983, 76.20144811, 76.48596166, 76.77959217, 77.07515066,\n",
       "        77.38036842, 77.68747399, 77.98347215, 78.27362683, 78.55854633,\n",
       "        78.83395242, 79.09851259, 79.35659413, 79.61042244, 79.85482517,\n",
       "        80.10010612, 80.35170329, 80.61450053, 80.88041162, 81.1236529 ,\n",
       "        81.37219402, 81.61358458, 81.86087408, 82.1091981 , 82.34863902,\n",
       "        82.57477327, 82.79636645, 83.0098568 , 83.20707854])}"
      ]
     },
     "execution_count": 70,
     "metadata": {},
     "output_type": "execute_result"
    }
   ],
   "source": [
    "autoets.forecast(y=train[\"y\"].values, h=6, fitted=True, level=[95])"
   ]
  },
  {
   "attachments": {},
   "cell_type": "markdown",
   "metadata": {},
   "source": [
    "### **9.5 AutoETS.forward method**"
   ]
  },
  {
   "cell_type": "code",
   "execution_count": 25,
   "metadata": {},
   "outputs": [
    {
     "data": {
      "text/plain": [
       "{'mean': array([82.80204272, 82.94739245, 83.09274218, 83.23809191, 83.38344164,\n",
       "        83.52879137])}"
      ]
     },
     "execution_count": 25,
     "metadata": {},
     "output_type": "execute_result"
    }
   ],
   "source": [
    "autoets.forward(train[\"y\"].values, h=6)"
   ]
  },
  {
   "attachments": {},
   "cell_type": "markdown",
   "metadata": {},
   "source": [
    "# **10. Accuracy Metrics for Time Series Forecast** <a class=\"anchor\" id=\"10\"></a>\n",
    "\n",
    "[Table of Contents](#0.1)\n",
    "\n",
    "The commonly used accuracy metrics to judge forecasts are:\n",
    "\n",
    "1. Mean Absolute Percentage Error (MAPE)\n",
    "2. Mean Error (ME)\n",
    "3. Mean Absolute Error (MAE)\n",
    "4. Mean Percentage Error (MPE)\n",
    "5. Root Mean Squared Error (RMSE)\n",
    "6. Correlation between the Actual and the Forecast (corr)\n",
    "\n",
    "\n",
    "\n",
    "Typically, we will use three accuracy metrices:-\n",
    "\n",
    "1. MAPE\n",
    "2. Correlation \n",
    "\n",
    "can be used. The above three are percentage errors that vary between 0 and 1. That way, we can judge how good is the forecast irrespective of the scale of the series."
   ]
  },
  {
   "cell_type": "code",
   "execution_count": 26,
   "metadata": {},
   "outputs": [],
   "source": [
    "from sklearn import metrics"
   ]
  },
  {
   "cell_type": "code",
   "execution_count": 27,
   "metadata": {},
   "outputs": [],
   "source": [
    "def model_evaluation(y_true, y_pred, Model):\n",
    "    \n",
    "    def mean_absolute_percentage_error(y_true, y_pred): \n",
    "        y_true, y_pred = np.array(y_true), np.array(y_pred)\n",
    "        return np.mean(np.abs((y_true - y_pred) / y_true)) * 100\n",
    "    print (f'Model Evaluation: {Model}')\n",
    "    print(f'MSE is : {metrics.mean_squared_error(y_true, y_pred)}')\n",
    "    print(f'MAE is : {metrics.mean_absolute_error(y_true, y_pred)}')\n",
    "    print(f'RMSE is : {np.sqrt(metrics.mean_squared_error(y_true, y_pred))}')\n",
    "    print(f'MAPE is : {mean_absolute_percentage_error(y_true, y_pred)}')\n",
    "    print(f'R2 is : {metrics.r2_score(y_true, y_pred)}')\n",
    "    print(f'corr is : {np.corrcoef(y_true, y_pred)[0,1]}',end='\\n\\n')            \n",
    "    "
   ]
  },
  {
   "cell_type": "code",
   "execution_count": 28,
   "metadata": {},
   "outputs": [
    {
     "name": "stdout",
     "output_type": "stream",
     "text": [
      "Model Evaluation: AutoETS\n",
      "MSE is : 0.5813708313516357\n",
      "MAE is : 0.7269623344336272\n",
      "RMSE is : 0.7624767743030837\n",
      "MAPE is : 0.8759446712175776\n",
      "R2 is : -7.40712893299275\n",
      "corr is : 0.49104180892284527\n",
      "\n"
     ]
    }
   ],
   "source": [
    "model_evaluation(test[\"y\"], forecast[\"hat\"], \"AutoETS\")"
   ]
  },
  {
   "attachments": {},
   "cell_type": "markdown",
   "metadata": {},
   "source": [
    "# **11. References** <a class=\"anchor\" id=\"11\"></a>\n",
    "\n",
    "\n",
    "[Table of Contents](#0.1)\n",
    "\n",
    "\n",
    "\n",
    "1. [Nixtla-Arima](https://nixtla.github.io/statsforecast/src/core/models.html#arima-family)\n",
    "\n",
    "2. [Rob J. Hyndman and George Athanasopoulos (2018). “Forecasting principles and practice, Time series cross-validation”.](https://otexts.com/fpp3/tscv.html)\n"
   ]
  }
 ],
 "metadata": {
  "kernelspec": {
   "display_name": "statsforecast",
   "language": "python",
   "name": "python3"
  },
  "language_info": {
   "codemirror_mode": {
    "name": "ipython",
    "version": 3
   },
   "file_extension": ".py",
   "mimetype": "text/x-python",
   "name": "python",
   "nbconvert_exporter": "python",
   "pygments_lexer": "ipython3",
   "version": "3.10.11"
  },
  "orig_nbformat": 4
 },
 "nbformat": 4,
 "nbformat_minor": 2
}
